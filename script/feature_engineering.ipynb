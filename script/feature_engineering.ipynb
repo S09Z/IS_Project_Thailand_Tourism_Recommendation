
{
  "cells": [
    {
      "cell_type": "markdown",
      "metadata": {},
      "source": [
        "# Feature Engineering for Tourism Recommendation System"
      ]
    },
    {
      "cell_type": "code",
      "execution_count": 1,
      "metadata": {},
      "outputs": [],
      "source": [
        "import pandas as pd\n",
        "from sklearn.preprocessing import LabelEncoder, StandardScaler\n",
        "from sklearn.feature_selection import SelectKBest, chi2, RFE\n",
        "from sklearn.ensemble import RandomForestClassifier\n",
        "from sklearn.decomposition import PCA\n",
        "\n",
        "# Load your dataset\n",
        "data = pd.read_csv('your_dataset.csv')\n",
        "\n",
        "# Basic Feature Engineering\n",
        "label_encoder = LabelEncoder()\n",
        "data['encoded_target'] = label_encoder.fit_transform(data['target_column'])\n",
        "scaler = StandardScaler()\n",
        "scaled_features = scaler.fit_transform(data.drop('target_column', axis=1))\n",
        "\n",
        "# Feature Selection with Chi-Square\n",
        "chi2_selector = SelectKBest(chi2, k=10)\n",
        "chi2_selected = chi2_selector.fit_transform(scaled_features, data['encoded_target'])\n",
        "\n",
        "# Recursive Feature Elimination (RFE)\n",
        "model = RandomForestClassifier()\n",
        "rfe = RFE(model, 10)\n",
        "rfe_selected = rfe.fit_transform(scaled_features, data['encoded_target'])\n",
        "\n",
        "# PCA for Dimensionality Reduction\n",
        "pca = PCA(n_components=2)\n",
        "pca_result = pca.fit_transform(scaled_features)\n",
        "\n",
        "# Save your processed data for model training\n",
        "pd.DataFrame(pca_result).to_csv('pca_result.csv', index=False)"
      ]
    }
  ],
  "metadata": {
    "kernelspec": {
      "display_name": "Python 3",
      "language": "python",
      "name": "python3"
    },
    "language_info": {
      "codemirror_mode": {
        "name": "ipython",
        "version": 3
      },
      "file_extension": ".py",
      "mimetype": "text/x-python",
      "name": "python",
      "nbconvert_exporter": "python",
      "pygments_lexer": "ipython3",
      "version": "3.8.5"
    }
  },
  "nbformat": 4,
  "nbformat_minor": 4
}
