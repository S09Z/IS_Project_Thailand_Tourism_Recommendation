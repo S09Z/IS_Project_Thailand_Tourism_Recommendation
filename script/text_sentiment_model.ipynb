{
 "cells": [
  {
   "cell_type": "code",
   "execution_count": 1,
   "id": "initial_id",
   "metadata": {
    "ExecuteTime": {
     "end_time": "2024-08-13T15:38:07.903278Z",
     "start_time": "2024-08-13T15:38:04.087640Z"
    },
    "collapsed": true
   },
   "outputs": [
    {
     "ename": "ModuleNotFoundError",
     "evalue": "No module named 'seaborn'",
     "output_type": "error",
     "traceback": [
      "\u001b[1;31m---------------------------------------------------------------------------\u001b[0m",
      "\u001b[1;31mModuleNotFoundError\u001b[0m                       Traceback (most recent call last)",
      "Cell \u001b[1;32mIn[1], line 10\u001b[0m\n\u001b[0;32m      8\u001b[0m \u001b[38;5;28;01mfrom\u001b[39;00m \u001b[38;5;21;01msklearn\u001b[39;00m\u001b[38;5;21;01m.\u001b[39;00m\u001b[38;5;21;01mmetrics\u001b[39;00m \u001b[38;5;28;01mimport\u001b[39;00m classification_report, confusion_matrix\n\u001b[0;32m      9\u001b[0m \u001b[38;5;28;01mimport\u001b[39;00m \u001b[38;5;21;01mjoblib\u001b[39;00m\n\u001b[1;32m---> 10\u001b[0m \u001b[38;5;28;01mimport\u001b[39;00m \u001b[38;5;21;01mseaborn\u001b[39;00m \u001b[38;5;28;01mas\u001b[39;00m \u001b[38;5;21;01msns\u001b[39;00m\n\u001b[0;32m     11\u001b[0m \u001b[38;5;28;01mimport\u001b[39;00m \u001b[38;5;21;01mmatplotlib\u001b[39;00m\u001b[38;5;21;01m.\u001b[39;00m\u001b[38;5;21;01mpyplot\u001b[39;00m \u001b[38;5;28;01mas\u001b[39;00m \u001b[38;5;21;01mplt\u001b[39;00m\n\u001b[0;32m     12\u001b[0m \u001b[38;5;28;01mfrom\u001b[39;00m \u001b[38;5;21;01mimblearn\u001b[39;00m\u001b[38;5;21;01m.\u001b[39;00m\u001b[38;5;21;01mover_sampling\u001b[39;00m \u001b[38;5;28;01mimport\u001b[39;00m SMOTE\n",
      "\u001b[1;31mModuleNotFoundError\u001b[0m: No module named 'seaborn'"
     ]
    }
   ],
   "source": [
    "import numpy as np\n",
    "import pandas as pd\n",
    "from sklearn.model_selection import KFold, cross_val_score, train_test_split\n",
    "from sklearn.preprocessing import LabelEncoder, StandardScaler\n",
    "from sklearn.ensemble import RandomForestClassifier\n",
    "from sklearn.svm import SVC\n",
    "from keras.models import Sequential\n",
    "from keras.layers import Dense, Dropout, Conv1D, MaxPooling1D, Flatten, LSTM, Embedding, Bidirectional\n",
    "from keras.wrappers.scikit_learn import KerasClassifier\n",
    "from keras.callbacks import EarlyStopping\n",
    "from sklearn.metrics import accuracy_score"
   ]
  },
  {
   "cell_type": "code",
   "execution_count": null,
   "id": "d10a4080",
   "metadata": {},
   "outputs": [],
   "source": [
    "# Example dataset loading (replace with actual data loading code)\n",
    "# Assuming 'features' is your feature matrix and 'target' is your target variable\n",
    "X = np.random.rand(1000, 100)  # Example feature matrix (1000 samples, 100 features)\n",
    "y = np.random.randint(0, 10, 1000)  # Example target variable (10 classes)\n",
    "\n",
    "# Encode target labels if they are categorical\n",
    "label_encoder = LabelEncoder()\n",
    "y_encoded = label_encoder.fit_transform(y)\n",
    "\n",
    "# Feature scaling (optional, depends on the model)\n",
    "scaler = StandardScaler()\n",
    "X_scaled = scaler.fit_transform(X)\n",
    "\n",
    "# Define the number of folds for cross-validation\n",
    "n_splits = 5\n",
    "kf = KFold(n_splits=n_splits, shuffle=True, random_state=42)\n",
    "\n",
    "# Results dictionary to store model performance\n",
    "results = {\n",
    "    'RandomForest': [],\n",
    "    'SVM': [],\n",
    "    'MLP': [],\n",
    "    'CNN': [],\n",
    "    'LSTM': [],\n",
    "    'CNN_LSTM': []\n",
    "}"
   ]
  },
  {
   "cell_type": "code",
   "execution_count": 3,
   "id": "3d63c225",
   "metadata": {},
   "outputs": [
    {
     "data": {
      "text/plain": [
       "967"
      ]
     },
     "execution_count": 3,
     "metadata": {},
     "output_type": "execute_result"
    }
   ],
   "source": [
    "def build_mlp(input_shape):\n",
    "    model = Sequential()\n",
    "    model.add(Dense(128, input_shape=(input_shape,), activation='relu'))\n",
    "    model.add(Dropout(0.5))\n",
    "    model.add(Dense(64, activation='relu'))\n",
    "    model.add(Dropout(0.5))\n",
    "    model.add(Dense(10, activation='softmax'))  # Assuming 10 classes for multi-class classification\n",
    "    model.compile(optimizer='adam', loss='sparse_categorical_crossentropy', metrics=['accuracy'])\n",
    "    return model\n"
   ]
  },
  {
   "cell_type": "code",
   "execution_count": 12,
   "id": "1512ee7c",
   "metadata": {},
   "outputs": [
    {
     "name": "stdout",
     "output_type": "stream",
     "text": [
      "Location ID: 2209612\n",
      "Review ID: 922231809\n",
      "Username: maxzerk\n",
      "Review Text: เป็นวัดที่สร้างขึ้นในรัชกาลที่ 5 \n",
      "พระบาทสมเด็จพระจุลจอมเกล้าเจ้าอยู่หัว\n",
      "มีสถาปัตยกรรมไทยผสมกับกอธิก\n",
      "มีพระประธานนามว่า พระพุทธอังคีรส\n",
      "มีสร้อยนามว่า สถิตมหาสีมาราม\n",
      "Rating: 5\n",
      "Published Date: 2023-10-21T01:18:50Z\n",
      "URL: https://www.tripadvisor.com/ShowUserReviews-g293916-d2209612-r922231809-Reviews-Wat_Ratchabophit-Bangkok.html?m=66827#review922231809\n",
      "--------------------------------------------------\n",
      "Review ID: 777982512\n",
      "Username: kant_setpakdee\n",
      "Review Text: ตั้งอยู่ด้านทิศตะวันตกของวัด มีประตูเข้าตรงทางขึ้นด้านหลังพระเจดีย์ของวัด ภายในบรรจุพระอัฐิ พระสรีรางคาร พระอังคาร และอังคารของ พระมเหสี พระราชชายา เจ้าจอมมารดา และพระราชโอรส พระราชธิดา ในพระบาทสมเด็จพระจุลจอมเกล้าเจ้าอยู่หัว รัชกาลที่ ๕ เพื่อให้ลูกได้อยู่รวมกับแม่หรืออย่างน้อยในบ้านของแม่ \n",
      "Rating: 5\n",
      "Published Date: 2020-11-27T02:16:31Z\n",
      "URL: https://www.tripadvisor.com/ShowUserReviews-g293916-d2209612-r777982512-Reviews-Wat_Ratchabophit-Bangkok.html?m=66827#review777982512\n",
      "--------------------------------------------------\n",
      "Review ID: 738367222\n",
      "Username: BestHealthiness\n",
      "Review Text: วันนี้เป็นที่พำนักของพระสังฆราชองค์ใหม่ ตอนไปกำลังปรัยปรุงอุโบสถอยู่ แต่ด้านหน้าอุโบสถจะมีรูปปั้นร.5 \n",
      "Rating: 5\n",
      "Published Date: 2020-01-10T23:21:53Z\n",
      "URL: https://www.tripadvisor.com/ShowUserReviews-g293916-d2209612-r738367222-Reviews-Wat_Ratchabophit-Bangkok.html?m=66827#review738367222\n",
      "--------------------------------------------------\n",
      "Review ID: 737450116\n",
      "Username: hotbee2099\n",
      "Review Text: วันนี้เป็นบุญของครอบครัวเราแท้ๆมีโอกาส ได้เข้าเฝ้ากราบสักการะ สมเด็จพระสังฆราช\n",
      "ปลื้มปิติ เปี่ยมสุข ด้วยพร ที่พระองค์ให้มากับพวกเรา\n",
      "ขอให้บังเกิด กับ กัลยณมิตรและครอบครัวของพวกเราทุกคนเถิด\n",
      "Rating: 5\n",
      "Published Date: 2020-01-06T22:31:39Z\n",
      "URL: https://www.tripadvisor.com/ShowUserReviews-g293916-d2209612-r737450116-Reviews-Wat_Ratchabophit-Bangkok.html?m=66827#review737450116\n",
      "--------------------------------------------------\n",
      "Review ID: 690288478\n",
      "Username: SweetyLollipop\n",
      "Review Text: พอดีมาแถว ถ.เฟื่องนครเลยได้แวะมาวัดนี้ ตอนกลางวันคนไม่เยอะเท่าไหร่ มีให้ทำบุญรับดอกไม้ธูปเทียน ชอบที่เทียนของวัดนี้ทำเชิงเทียนสวยงามกันน้ำตาเทียนหยดใส่มือ มีแจกน้ำเปล่าขวดเล็กฟรีสำหรับคนที่เดินทางมาที่วัดด้วย\n",
      "Rating: 4\n",
      "Published Date: 2019-07-17T05:44:19Z\n",
      "URL: https://www.tripadvisor.com/ShowUserReviews-g293916-d2209612-r690288478-Reviews-Wat_Ratchabophit-Bangkok.html?m=66827#review690288478\n",
      "--------------------------------------------------\n"
     ]
    }
   ],
   "source": [
    "def build_cnn(input_shape):\n",
    "    model = Sequential()\n",
    "    model.add(Conv1D(filters=64, kernel_size=3, activation='relu', input_shape=(input_shape, 1)))\n",
    "    model.add(MaxPooling1D(pool_size=2))\n",
    "    model.add(Flatten())\n",
    "    model.add(Dense(100, activation='relu'))\n",
    "    model.add(Dropout(0.5))\n",
    "    model.add(Dense(10, activation='softmax'))\n",
    "    model.compile(optimizer='adam', loss='sparse_categorical_crossentropy', metrics=['accuracy'])\n",
    "    return model"
   ]
  },
  {
   "cell_type": "code",
   "execution_count": 6,
   "id": "92a7727c",
   "metadata": {},
   "outputs": [],
   "source": [
    "def build_lstm(input_shape):\n",
    "    model = Sequential()\n",
    "    model.add(Embedding(input_dim=5000, output_dim=128, input_length=input_shape))\n",
    "    model.add(LSTM(64, return_sequences=True))\n",
    "    model.add(Dropout(0.5))\n",
    "    model.add(LSTM(64))\n",
    "    model.add(Dense(10, activation='softmax'))\n",
    "    model.compile(optimizer='adam', loss='sparse_categorical_crossentropy', metrics=['accuracy'])\n",
    "    return model"
   ]
  },
  {
   "cell_type": "code",
   "execution_count": null,
   "id": "1157c611",
   "metadata": {},
   "outputs": [],
   "source": [
    "def build_cnn_lstm(input_shape):\n",
    "    model = Sequential()\n",
    "    model.add(Embedding(input_dim=5000, output_dim=128, input_length=input_shape))\n",
    "    model.add(Conv1D(filters=64, kernel_size=3, activation='relu'))\n",
    "    model.add(MaxPooling1D(pool_size=2))\n",
    "    model.add(LSTM(64))\n",
    "    model.add(Dropout(0.5))\n",
    "    model.add(Dense(10, activation='softmax'))\n",
    "    model.compile(optimizer='adam', loss='sparse_categorical_crossentropy', metrics=['accuracy'])\n",
    "    return model"
   ]
  },
  {
   "cell_type": "code",
   "execution_count": null,
   "id": "ff54c534",
   "metadata": {},
   "outputs": [],
   "source": [
    "# Model Instances\n",
    "models = {\n",
    "    'RandomForest': RandomForestClassifier(n_estimators=100),\n",
    "    'SVM': SVC(kernel='rbf', probability=True),\n",
    "    'MLP': KerasClassifier(build_fn=build_mlp, input_shape=X_scaled.shape[1], epochs=10, batch_size=32, verbose=0),\n",
    "    'CNN': KerasClassifier(build_fn=build_cnn, input_shape=X_scaled.shape[1], epochs=10, batch_size=32, verbose=0),\n",
    "    'LSTM': KerasClassifier(build_fn=build_lstm, input_shape=X_scaled.shape[1], epochs=10, batch_size=32, verbose=0),\n",
    "    'CNN_LSTM': KerasClassifier(build_fn=build_cnn_lstm, input_shape=X_scaled.shape[1], epochs=10, batch_size=32, verbose=0)\n",
    "}"
   ]
  },
  {
   "cell_type": "code",
   "execution_count": null,
   "id": "aa46afa0",
   "metadata": {},
   "outputs": [],
   "source": [
    "# Cross-Validation and Training\n",
    "for train_index, val_index in kf.split(X_scaled):\n",
    "    X_train, X_val = X_scaled[train_index], X_scaled[val_index]\n",
    "    y_train, y_val = y_encoded[train_index], y_encoded[val_index]\n",
    "    \n",
    "    # Train and evaluate each model\n",
    "    for model_name, model in models.items():\n",
    "        if model_name in ['MLP', 'CNN', 'LSTM', 'CNN_LSTM']:\n",
    "            model.fit(X_train, y_train, validation_data=(X_val, y_val), callbacks=[EarlyStopping(monitor='val_loss', patience=3)], verbose=0)\n",
    "            y_pred = model.predict(X_val)\n",
    "            y_pred = np.argmax(y_pred, axis=1)  # Convert probabilities to class labels\n",
    "        else:\n",
    "            model.fit(X_train, y_train)\n",
    "            y_pred = model.predict(X_val)\n",
    "        \n",
    "        accuracy = accuracy_score(y_val, y_pred)\n",
    "        results[model_name].append(accuracy)"
   ]
  },
  {
   "cell_type": "code",
   "execution_count": null,
   "id": "09e00dcb",
   "metadata": {},
   "outputs": [],
   "source": [
    "# Calculate the mean accuracy for each model\n",
    "for model_name, accuracies in results.items():\n",
    "    mean_accuracy = np.mean(accuracies)\n",
    "    print(f'{model_name} Mean Accuracy: {mean_accuracy:.4f} (+/- {np.std(accuracies):.4f})')"
   ]
  }
 ],
 "metadata": {
  "kernelspec": {
   "display_name": "Python 3",
   "language": "python",
   "name": "python3"
  },
  "language_info": {
   "codemirror_mode": {
    "name": "ipython",
    "version": 3
   },
   "file_extension": ".py",
   "mimetype": "text/x-python",
   "name": "python",
   "nbconvert_exporter": "python",
   "pygments_lexer": "ipython3",
   "version": "3.11.5"
  }
 },
 "nbformat": 4,
 "nbformat_minor": 5
}
