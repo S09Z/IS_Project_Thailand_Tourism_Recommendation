{
 "cells": [
  {
   "cell_type": "markdown",
   "metadata": {},
   "source": [
    "## Model\n",
    "\n",
    "#### (1) SVM, \n",
    "#### (2) Naive Bayer, \n",
    "#### (3) XGBooster,\n",
    "#### (4) Logistic, \n",
    "#### (5) Dicision Tree, \n",
    "#### (6) K-Nearest Neibor, \n",
    "#### (7) Random Forest"
   ]
  },
  {
   "cell_type": "code",
   "execution_count": 1,
   "metadata": {},
   "outputs": [],
   "source": [
    "import pandas as pd\n",
    "import numpy as np\n",
    "# from surprise import Dataset, Reader, SVD\n",
    "# from surprise.model_selection import train_test_split, cross_validate\n",
    "# from surprise.accuracy import rmse\n",
    "import matplotlib.pyplot as plt"
   ]
  },
  {
   "cell_type": "code",
   "execution_count": 18,
   "metadata": {},
   "outputs": [
    {
     "data": {
      "text/html": [
       "<div>\n",
       "<style scoped>\n",
       "    .dataframe tbody tr th:only-of-type {\n",
       "        vertical-align: middle;\n",
       "    }\n",
       "\n",
       "    .dataframe tbody tr th {\n",
       "        vertical-align: top;\n",
       "    }\n",
       "\n",
       "    .dataframe thead th {\n",
       "        text-align: right;\n",
       "    }\n",
       "</style>\n",
       "<table border=\"1\" class=\"dataframe\">\n",
       "  <thead>\n",
       "    <tr style=\"text-align: right;\">\n",
       "      <th></th>\n",
       "      <th>Unnamed: 0</th>\n",
       "      <th>location_id</th>\n",
       "      <th>location_name</th>\n",
       "      <th>trip_type</th>\n",
       "      <th>rating</th>\n",
       "      <th>helpful_voting</th>\n",
       "      <th>review_text</th>\n",
       "      <th>actual_sentiment</th>\n",
       "      <th>predicted_sentiment</th>\n",
       "      <th>place_id</th>\n",
       "      <th>place_name</th>\n",
       "      <th>emotion</th>\n",
       "    </tr>\n",
       "  </thead>\n",
       "  <tbody>\n",
       "    <tr>\n",
       "      <th>0</th>\n",
       "      <td>8</td>\n",
       "      <td>2273363.0</td>\n",
       "      <td>Wat Rajapradit Sathitmahasimaram Rajaworavihara</td>\n",
       "      <td>NONE</td>\n",
       "      <td>5.0</td>\n",
       "      <td>2.0</td>\n",
       "      <td>One of the least crowded temples but very beau...</td>\n",
       "      <td>2</td>\n",
       "      <td>2</td>\n",
       "      <td>P03013220</td>\n",
       "      <td>Bangkok</td>\n",
       "      <td>love</td>\n",
       "    </tr>\n",
       "    <tr>\n",
       "      <th>1</th>\n",
       "      <td>14</td>\n",
       "      <td>311043.0</td>\n",
       "      <td>Wat Phra Chetuphon</td>\n",
       "      <td>Couples</td>\n",
       "      <td>5.0</td>\n",
       "      <td>0.0</td>\n",
       "      <td>The designs, the Buddhas, and other figures fe...</td>\n",
       "      <td>1</td>\n",
       "      <td>1</td>\n",
       "      <td>P03013220</td>\n",
       "      <td>Bangkok</td>\n",
       "      <td>surprise</td>\n",
       "    </tr>\n",
       "    <tr>\n",
       "      <th>2</th>\n",
       "      <td>17</td>\n",
       "      <td>317504.0</td>\n",
       "      <td>Temple Of Dawn (Wat Arun)</td>\n",
       "      <td>Solo travel</td>\n",
       "      <td>5.0</td>\n",
       "      <td>15.0</td>\n",
       "      <td>Known as Temple of Dawn, I went to this temple...</td>\n",
       "      <td>0</td>\n",
       "      <td>0</td>\n",
       "      <td>P03013220</td>\n",
       "      <td>Bangkok</td>\n",
       "      <td>joy</td>\n",
       "    </tr>\n",
       "    <tr>\n",
       "      <th>3</th>\n",
       "      <td>19</td>\n",
       "      <td>317504.0</td>\n",
       "      <td>Temple Of Dawn (Wat Arun)</td>\n",
       "      <td>Family</td>\n",
       "      <td>4.0</td>\n",
       "      <td>0.0</td>\n",
       "      <td>I have to admit that this is a place i have al...</td>\n",
       "      <td>0</td>\n",
       "      <td>0</td>\n",
       "      <td>P03013220</td>\n",
       "      <td>Bangkok</td>\n",
       "      <td>sadness</td>\n",
       "    </tr>\n",
       "    <tr>\n",
       "      <th>4</th>\n",
       "      <td>23</td>\n",
       "      <td>456322.0</td>\n",
       "      <td>Wat Umong</td>\n",
       "      <td>Family</td>\n",
       "      <td>5.0</td>\n",
       "      <td>0.0</td>\n",
       "      <td>The visit to this temple was a good pick for u...</td>\n",
       "      <td>1</td>\n",
       "      <td>1</td>\n",
       "      <td>P03013220</td>\n",
       "      <td>Bangkok</td>\n",
       "      <td>joy</td>\n",
       "    </tr>\n",
       "    <tr>\n",
       "      <th>...</th>\n",
       "      <td>...</td>\n",
       "      <td>...</td>\n",
       "      <td>...</td>\n",
       "      <td>...</td>\n",
       "      <td>...</td>\n",
       "      <td>...</td>\n",
       "      <td>...</td>\n",
       "      <td>...</td>\n",
       "      <td>...</td>\n",
       "      <td>...</td>\n",
       "      <td>...</td>\n",
       "      <td>...</td>\n",
       "    </tr>\n",
       "    <tr>\n",
       "      <th>1163</th>\n",
       "      <td>5858</td>\n",
       "      <td>1390151.0</td>\n",
       "      <td>Herbal Steam House</td>\n",
       "      <td>Couples</td>\n",
       "      <td>3.0</td>\n",
       "      <td>0.0</td>\n",
       "      <td>Hubby and I stopped in for our third massage s...</td>\n",
       "      <td>0</td>\n",
       "      <td>0</td>\n",
       "      <td>P03015198</td>\n",
       "      <td>Samut Prakan</td>\n",
       "      <td>joy</td>\n",
       "    </tr>\n",
       "    <tr>\n",
       "      <th>1164</th>\n",
       "      <td>5866</td>\n",
       "      <td>6668995.0</td>\n",
       "      <td>Wat Intharam</td>\n",
       "      <td>Friends getaway</td>\n",
       "      <td>2.0</td>\n",
       "      <td>0.0</td>\n",
       "      <td>Wat Intharam was apparently built during the A...</td>\n",
       "      <td>1</td>\n",
       "      <td>1</td>\n",
       "      <td>P03015157</td>\n",
       "      <td>Samut Prakan</td>\n",
       "      <td>fear</td>\n",
       "    </tr>\n",
       "    <tr>\n",
       "      <th>1165</th>\n",
       "      <td>5880</td>\n",
       "      <td>456191.0</td>\n",
       "      <td>Khuean Srinagarindra National Park</td>\n",
       "      <td>Couples</td>\n",
       "      <td>4.0</td>\n",
       "      <td>1.0</td>\n",
       "      <td>After visiting the nearby waterfalls we drove ...</td>\n",
       "      <td>1</td>\n",
       "      <td>1</td>\n",
       "      <td>P03013837</td>\n",
       "      <td>Samut Prakan</td>\n",
       "      <td>joy</td>\n",
       "    </tr>\n",
       "    <tr>\n",
       "      <th>1166</th>\n",
       "      <td>5893</td>\n",
       "      <td>4322899.0</td>\n",
       "      <td>Prasat Wat Sa Kamphaeng Yai</td>\n",
       "      <td>Friends getaway</td>\n",
       "      <td>4.0</td>\n",
       "      <td>1.0</td>\n",
       "      <td>On same site as Prasat Wat Sa Kampheang Noi {w...</td>\n",
       "      <td>0</td>\n",
       "      <td>0</td>\n",
       "      <td>P03013503</td>\n",
       "      <td>Nonthaburi</td>\n",
       "      <td>joy</td>\n",
       "    </tr>\n",
       "    <tr>\n",
       "      <th>1167</th>\n",
       "      <td>5906</td>\n",
       "      <td>1831068.0</td>\n",
       "      <td>Prasat Puay Noi</td>\n",
       "      <td>Friends getaway</td>\n",
       "      <td>4.0</td>\n",
       "      <td>0.0</td>\n",
       "      <td>I think this place is claimed to be the oldest...</td>\n",
       "      <td>2</td>\n",
       "      <td>2</td>\n",
       "      <td>P03013503</td>\n",
       "      <td>Nonthaburi</td>\n",
       "      <td>joy</td>\n",
       "    </tr>\n",
       "  </tbody>\n",
       "</table>\n",
       "<p>1168 rows × 12 columns</p>\n",
       "</div>"
      ],
      "text/plain": [
       "      Unnamed: 0  location_id  \\\n",
       "0              8    2273363.0   \n",
       "1             14     311043.0   \n",
       "2             17     317504.0   \n",
       "3             19     317504.0   \n",
       "4             23     456322.0   \n",
       "...          ...          ...   \n",
       "1163        5858    1390151.0   \n",
       "1164        5866    6668995.0   \n",
       "1165        5880     456191.0   \n",
       "1166        5893    4322899.0   \n",
       "1167        5906    1831068.0   \n",
       "\n",
       "                                        location_name        trip_type  \\\n",
       "0     Wat Rajapradit Sathitmahasimaram Rajaworavihara             NONE   \n",
       "1                                  Wat Phra Chetuphon          Couples   \n",
       "2                           Temple Of Dawn (Wat Arun)      Solo travel   \n",
       "3                           Temple Of Dawn (Wat Arun)           Family   \n",
       "4                                           Wat Umong           Family   \n",
       "...                                               ...              ...   \n",
       "1163                               Herbal Steam House          Couples   \n",
       "1164                                     Wat Intharam  Friends getaway   \n",
       "1165               Khuean Srinagarindra National Park          Couples   \n",
       "1166                      Prasat Wat Sa Kamphaeng Yai  Friends getaway   \n",
       "1167                                  Prasat Puay Noi  Friends getaway   \n",
       "\n",
       "      rating  helpful_voting  \\\n",
       "0        5.0             2.0   \n",
       "1        5.0             0.0   \n",
       "2        5.0            15.0   \n",
       "3        4.0             0.0   \n",
       "4        5.0             0.0   \n",
       "...      ...             ...   \n",
       "1163     3.0             0.0   \n",
       "1164     2.0             0.0   \n",
       "1165     4.0             1.0   \n",
       "1166     4.0             1.0   \n",
       "1167     4.0             0.0   \n",
       "\n",
       "                                            review_text  actual_sentiment  \\\n",
       "0     One of the least crowded temples but very beau...                 2   \n",
       "1     The designs, the Buddhas, and other figures fe...                 1   \n",
       "2     Known as Temple of Dawn, I went to this temple...                 0   \n",
       "3     I have to admit that this is a place i have al...                 0   \n",
       "4     The visit to this temple was a good pick for u...                 1   \n",
       "...                                                 ...               ...   \n",
       "1163  Hubby and I stopped in for our third massage s...                 0   \n",
       "1164  Wat Intharam was apparently built during the A...                 1   \n",
       "1165  After visiting the nearby waterfalls we drove ...                 1   \n",
       "1166  On same site as Prasat Wat Sa Kampheang Noi {w...                 0   \n",
       "1167  I think this place is claimed to be the oldest...                 2   \n",
       "\n",
       "      predicted_sentiment   place_id    place_name   emotion  \n",
       "0                       2  P03013220       Bangkok      love  \n",
       "1                       1  P03013220       Bangkok  surprise  \n",
       "2                       0  P03013220       Bangkok       joy  \n",
       "3                       0  P03013220       Bangkok   sadness  \n",
       "4                       1  P03013220       Bangkok       joy  \n",
       "...                   ...        ...           ...       ...  \n",
       "1163                    0  P03015198  Samut Prakan       joy  \n",
       "1164                    1  P03015157  Samut Prakan      fear  \n",
       "1165                    1  P03013837  Samut Prakan       joy  \n",
       "1166                    0  P03013503    Nonthaburi       joy  \n",
       "1167                    2  P03013503    Nonthaburi       joy  \n",
       "\n",
       "[1168 rows x 12 columns]"
      ]
     },
     "execution_count": 18,
     "metadata": {},
     "output_type": "execute_result"
    }
   ],
   "source": [
    "review_sentiment_df = pd.read_csv('output/LSTM_predictions.csv')\n",
    "review_sentiment_df"
   ]
  },
  {
   "cell_type": "code",
   "execution_count": 23,
   "metadata": {},
   "outputs": [
    {
     "ename": "ValueError",
     "evalue": "'o' is not a valid color value.",
     "output_type": "error",
     "traceback": [
      "\u001b[0;31m---------------------------------------------------------------------------\u001b[0m",
      "\u001b[0;31mValueError\u001b[0m                                Traceback (most recent call last)",
      "Cell \u001b[0;32mIn[23], line 23\u001b[0m\n\u001b[1;32m     20\u001b[0m ax2\u001b[38;5;241m.\u001b[39mset_title(\u001b[38;5;124m'\u001b[39m\u001b[38;5;124mCount of Each Helpful Voting Value\u001b[39m\u001b[38;5;124m'\u001b[39m)\n\u001b[1;32m     22\u001b[0m fig, (ax3, ax4) \u001b[38;5;241m=\u001b[39m plt\u001b[38;5;241m.\u001b[39msubplots(\u001b[38;5;241m1\u001b[39m, \u001b[38;5;241m2\u001b[39m, figsize\u001b[38;5;241m=\u001b[39m(\u001b[38;5;241m12\u001b[39m, \u001b[38;5;241m6\u001b[39m))\n\u001b[0;32m---> 23\u001b[0m \u001b[43max3\u001b[49m\u001b[38;5;241;43m.\u001b[39;49m\u001b[43mbar\u001b[49m\u001b[43m(\u001b[49m\u001b[43mhelpful_voting_counts\u001b[49m\u001b[38;5;241;43m.\u001b[39;49m\u001b[43mindex\u001b[49m\u001b[38;5;241;43m.\u001b[39;49m\u001b[43mastype\u001b[49m\u001b[43m(\u001b[49m\u001b[38;5;28;43mstr\u001b[39;49m\u001b[43m)\u001b[49m\u001b[43m,\u001b[49m\u001b[43m \u001b[49m\u001b[43mhelpful_voting_counts\u001b[49m\u001b[38;5;241;43m.\u001b[39;49m\u001b[43mvalues\u001b[49m\u001b[43m,\u001b[49m\u001b[43m \u001b[49m\u001b[43mcolor\u001b[49m\u001b[38;5;241;43m=\u001b[39;49m\u001b[38;5;124;43m'\u001b[39;49m\u001b[38;5;124;43mo\u001b[39;49m\u001b[38;5;124;43m'\u001b[39;49m\u001b[43m,\u001b[49m\u001b[43m \u001b[49m\u001b[43malpha\u001b[49m\u001b[38;5;241;43m=\u001b[39;49m\u001b[38;5;241;43m0.6\u001b[39;49m\u001b[43m)\u001b[49m\n\u001b[1;32m     24\u001b[0m ax3\u001b[38;5;241m.\u001b[39mset_xlabel(\u001b[38;5;124m'\u001b[39m\u001b[38;5;124mHelpful Voting\u001b[39m\u001b[38;5;124m'\u001b[39m)\n\u001b[1;32m     25\u001b[0m ax2\u001b[38;5;241m.\u001b[39mset_ylabel(\u001b[38;5;124m'\u001b[39m\u001b[38;5;124mCount\u001b[39m\u001b[38;5;124m'\u001b[39m)\n",
      "File \u001b[0;32m~/Library/Caches/pypoetry/virtualenvs/is-project-thailand-tourism-recommendation-qwL-LsgH-py3.12/lib/python3.12/site-packages/matplotlib/__init__.py:1473\u001b[0m, in \u001b[0;36m_preprocess_data.<locals>.inner\u001b[0;34m(ax, data, *args, **kwargs)\u001b[0m\n\u001b[1;32m   1470\u001b[0m \u001b[38;5;129m@functools\u001b[39m\u001b[38;5;241m.\u001b[39mwraps(func)\n\u001b[1;32m   1471\u001b[0m \u001b[38;5;28;01mdef\u001b[39;00m \u001b[38;5;21minner\u001b[39m(ax, \u001b[38;5;241m*\u001b[39margs, data\u001b[38;5;241m=\u001b[39m\u001b[38;5;28;01mNone\u001b[39;00m, \u001b[38;5;241m*\u001b[39m\u001b[38;5;241m*\u001b[39mkwargs):\n\u001b[1;32m   1472\u001b[0m     \u001b[38;5;28;01mif\u001b[39;00m data \u001b[38;5;129;01mis\u001b[39;00m \u001b[38;5;28;01mNone\u001b[39;00m:\n\u001b[0;32m-> 1473\u001b[0m         \u001b[38;5;28;01mreturn\u001b[39;00m \u001b[43mfunc\u001b[49m\u001b[43m(\u001b[49m\n\u001b[1;32m   1474\u001b[0m \u001b[43m            \u001b[49m\u001b[43max\u001b[49m\u001b[43m,\u001b[49m\n\u001b[1;32m   1475\u001b[0m \u001b[43m            \u001b[49m\u001b[38;5;241;43m*\u001b[39;49m\u001b[38;5;28;43mmap\u001b[39;49m\u001b[43m(\u001b[49m\u001b[43msanitize_sequence\u001b[49m\u001b[43m,\u001b[49m\u001b[43m \u001b[49m\u001b[43margs\u001b[49m\u001b[43m)\u001b[49m\u001b[43m,\u001b[49m\n\u001b[1;32m   1476\u001b[0m \u001b[43m            \u001b[49m\u001b[38;5;241;43m*\u001b[39;49m\u001b[38;5;241;43m*\u001b[39;49m\u001b[43m{\u001b[49m\u001b[43mk\u001b[49m\u001b[43m:\u001b[49m\u001b[43m \u001b[49m\u001b[43msanitize_sequence\u001b[49m\u001b[43m(\u001b[49m\u001b[43mv\u001b[49m\u001b[43m)\u001b[49m\u001b[43m \u001b[49m\u001b[38;5;28;43;01mfor\u001b[39;49;00m\u001b[43m \u001b[49m\u001b[43mk\u001b[49m\u001b[43m,\u001b[49m\u001b[43m \u001b[49m\u001b[43mv\u001b[49m\u001b[43m \u001b[49m\u001b[38;5;129;43;01min\u001b[39;49;00m\u001b[43m \u001b[49m\u001b[43mkwargs\u001b[49m\u001b[38;5;241;43m.\u001b[39;49m\u001b[43mitems\u001b[49m\u001b[43m(\u001b[49m\u001b[43m)\u001b[49m\u001b[43m}\u001b[49m\u001b[43m)\u001b[49m\n\u001b[1;32m   1478\u001b[0m     bound \u001b[38;5;241m=\u001b[39m new_sig\u001b[38;5;241m.\u001b[39mbind(ax, \u001b[38;5;241m*\u001b[39margs, \u001b[38;5;241m*\u001b[39m\u001b[38;5;241m*\u001b[39mkwargs)\n\u001b[1;32m   1479\u001b[0m     auto_label \u001b[38;5;241m=\u001b[39m (bound\u001b[38;5;241m.\u001b[39marguments\u001b[38;5;241m.\u001b[39mget(label_namer)\n\u001b[1;32m   1480\u001b[0m                   \u001b[38;5;129;01mor\u001b[39;00m bound\u001b[38;5;241m.\u001b[39mkwargs\u001b[38;5;241m.\u001b[39mget(label_namer))\n",
      "File \u001b[0;32m~/Library/Caches/pypoetry/virtualenvs/is-project-thailand-tourism-recommendation-qwL-LsgH-py3.12/lib/python3.12/site-packages/matplotlib/axes/_axes.py:2544\u001b[0m, in \u001b[0;36mAxes.bar\u001b[0;34m(self, x, height, width, bottom, align, **kwargs)\u001b[0m\n\u001b[1;32m   2542\u001b[0m linewidth \u001b[38;5;241m=\u001b[39m itertools\u001b[38;5;241m.\u001b[39mcycle(np\u001b[38;5;241m.\u001b[39matleast_1d(linewidth))\n\u001b[1;32m   2543\u001b[0m hatch \u001b[38;5;241m=\u001b[39m itertools\u001b[38;5;241m.\u001b[39mcycle(np\u001b[38;5;241m.\u001b[39matleast_1d(hatch))\n\u001b[0;32m-> 2544\u001b[0m color \u001b[38;5;241m=\u001b[39m itertools\u001b[38;5;241m.\u001b[39mchain(itertools\u001b[38;5;241m.\u001b[39mcycle(\u001b[43mmcolors\u001b[49m\u001b[38;5;241;43m.\u001b[39;49m\u001b[43mto_rgba_array\u001b[49m\u001b[43m(\u001b[49m\u001b[43mcolor\u001b[49m\u001b[43m)\u001b[49m),\n\u001b[1;32m   2545\u001b[0m                         \u001b[38;5;66;03m# Fallback if color == \"none\".\u001b[39;00m\n\u001b[1;32m   2546\u001b[0m                         itertools\u001b[38;5;241m.\u001b[39mrepeat(\u001b[38;5;124m'\u001b[39m\u001b[38;5;124mnone\u001b[39m\u001b[38;5;124m'\u001b[39m))\n\u001b[1;32m   2547\u001b[0m \u001b[38;5;28;01mif\u001b[39;00m edgecolor \u001b[38;5;129;01mis\u001b[39;00m \u001b[38;5;28;01mNone\u001b[39;00m:\n\u001b[1;32m   2548\u001b[0m     edgecolor \u001b[38;5;241m=\u001b[39m itertools\u001b[38;5;241m.\u001b[39mrepeat(\u001b[38;5;28;01mNone\u001b[39;00m)\n",
      "File \u001b[0;32m~/Library/Caches/pypoetry/virtualenvs/is-project-thailand-tourism-recommendation-qwL-LsgH-py3.12/lib/python3.12/site-packages/matplotlib/colors.py:496\u001b[0m, in \u001b[0;36mto_rgba_array\u001b[0;34m(c, alpha)\u001b[0m\n\u001b[1;32m    494\u001b[0m         \u001b[38;5;28;01mraise\u001b[39;00m e\n\u001b[1;32m    495\u001b[0m \u001b[38;5;28;01mif\u001b[39;00m \u001b[38;5;28misinstance\u001b[39m(c, \u001b[38;5;28mstr\u001b[39m):\n\u001b[0;32m--> 496\u001b[0m     \u001b[38;5;28;01mraise\u001b[39;00m \u001b[38;5;167;01mValueError\u001b[39;00m(\u001b[38;5;124mf\u001b[39m\u001b[38;5;124m\"\u001b[39m\u001b[38;5;132;01m{\u001b[39;00mc\u001b[38;5;132;01m!r}\u001b[39;00m\u001b[38;5;124m is not a valid color value.\u001b[39m\u001b[38;5;124m\"\u001b[39m)\n\u001b[1;32m    498\u001b[0m \u001b[38;5;28;01mif\u001b[39;00m \u001b[38;5;28mlen\u001b[39m(c) \u001b[38;5;241m==\u001b[39m \u001b[38;5;241m0\u001b[39m:\n\u001b[1;32m    499\u001b[0m     \u001b[38;5;28;01mreturn\u001b[39;00m np\u001b[38;5;241m.\u001b[39mzeros((\u001b[38;5;241m0\u001b[39m, \u001b[38;5;241m4\u001b[39m), \u001b[38;5;28mfloat\u001b[39m)\n",
      "\u001b[0;31mValueError\u001b[0m: 'o' is not a valid color value."
     ]
    },
    {
     "data": {
      "image/png": "[encoded data removed]",
      "text/plain": [
       "<Figure size 1200x600 with 2 Axes>"
      ]
     },
     "metadata": {},
     "output_type": "display_data"
    },
    {
     "data": {
      "image/png": "[encoded data removed]",
      "text/plain": [
       "<Figure size 1200x600 with 2 Axes>"
      ]
     },
     "metadata": {},
     "output_type": "display_data"
    }
   ],
   "source": [
    "import matplotlib.pyplot as plt\n",
    "\n",
    "\n",
    "trip_type_counts = review_sentiment_df['trip_type'].value_counts()\n",
    "\n",
    "helpful_voting_counts = review_sentiment_df['helpful_voting'].astype(int).value_counts()\n",
    "\n",
    "helpful_voting_counts = review_sentiment_df['helpful_voting'].astype(int).value_counts()\n",
    "\n",
    "fig, (ax1, ax2) = plt.subplots(1, 2, figsize=(12, 6))\n",
    "\n",
    "ax1.bar(trip_type_counts.index.astype(str), trip_type_counts.values, color='b', alpha=0.6)\n",
    "ax1.set_xlabel('Trip Type')\n",
    "ax1.set_ylabel('Count')\n",
    "ax1.set_title('Count of Each Trip Type')\n",
    "\n",
    "ax2.bar(helpful_voting_counts.index.astype(str), helpful_voting_counts.values, color='r', alpha=0.6)\n",
    "ax2.set_xlabel('Helpful Voting')\n",
    "ax2.set_ylabel('Count')\n",
    "ax2.set_title('Count of Each Helpful Voting Value')\n",
    "\n",
    "fig, (ax3, ax4) = plt.subplots(1, 2, figsize=(12, 6))\n",
    "ax3.bar(helpful_voting_counts.index.astype(str), helpful_voting_counts.values, color='g', alpha=0.6)\n",
    "ax3.set_xlabel('Helpful Voting')\n",
    "ax2.set_ylabel('Count')\n",
    "ax3.set_title('Count of Each Helpful Voting Value')\n",
    "\n",
    "plt.tight_layout()\n",
    "\n",
    "plt.show()\n"
   ]
  },
  {
   "cell_type": "code",
   "execution_count": 13,
   "metadata": {},
   "outputs": [
    {
     "name": "stdout",
     "output_type": "stream",
     "text": [
      "['NONE' 'Couples' 'Solo travel' ... 'Couples' 'Friends getaway'\n",
      " 'Friends getaway']\n"
     ]
    }
   ],
   "source": [
    "print(review_sentiment_df['trip_type'].values)"
   ]
  },
  {
   "cell_type": "code",
   "execution_count": 25,
   "metadata": {},
   "outputs": [
    {
     "data": {
      "text/html": [
       "<div>\n",
       "<style scoped>\n",
       "    .dataframe tbody tr th:only-of-type {\n",
       "        vertical-align: middle;\n",
       "    }\n",
       "\n",
       "    .dataframe tbody tr th {\n",
       "        vertical-align: top;\n",
       "    }\n",
       "\n",
       "    .dataframe thead th {\n",
       "        text-align: right;\n",
       "    }\n",
       "</style>\n",
       "<table border=\"1\" class=\"dataframe\">\n",
       "  <thead>\n",
       "    <tr style=\"text-align: right;\">\n",
       "      <th></th>\n",
       "      <th>predicted_sentiment</th>\n",
       "      <th>helpful_voting</th>\n",
       "      <th>rating</th>\n",
       "      <th>location_name</th>\n",
       "      <th>place_name</th>\n",
       "    </tr>\n",
       "  </thead>\n",
       "  <tbody>\n",
       "    <tr>\n",
       "      <th>0</th>\n",
       "      <td>2</td>\n",
       "      <td>2.0</td>\n",
       "      <td>5.0</td>\n",
       "      <td>Wat Rajapradit Sathitmahasimaram Rajaworavihara</td>\n",
       "      <td>Bangkok</td>\n",
       "    </tr>\n",
       "    <tr>\n",
       "      <th>1</th>\n",
       "      <td>1</td>\n",
       "      <td>0.0</td>\n",
       "      <td>5.0</td>\n",
       "      <td>Wat Phra Chetuphon</td>\n",
       "      <td>Bangkok</td>\n",
       "    </tr>\n",
       "    <tr>\n",
       "      <th>2</th>\n",
       "      <td>0</td>\n",
       "      <td>15.0</td>\n",
       "      <td>5.0</td>\n",
       "      <td>Temple Of Dawn (Wat Arun)</td>\n",
       "      <td>Bangkok</td>\n",
       "    </tr>\n",
       "    <tr>\n",
       "      <th>3</th>\n",
       "      <td>0</td>\n",
       "      <td>0.0</td>\n",
       "      <td>4.0</td>\n",
       "      <td>Temple Of Dawn (Wat Arun)</td>\n",
       "      <td>Bangkok</td>\n",
       "    </tr>\n",
       "    <tr>\n",
       "      <th>4</th>\n",
       "      <td>1</td>\n",
       "      <td>0.0</td>\n",
       "      <td>5.0</td>\n",
       "      <td>Wat Umong</td>\n",
       "      <td>Bangkok</td>\n",
       "    </tr>\n",
       "    <tr>\n",
       "      <th>...</th>\n",
       "      <td>...</td>\n",
       "      <td>...</td>\n",
       "      <td>...</td>\n",
       "      <td>...</td>\n",
       "      <td>...</td>\n",
       "    </tr>\n",
       "    <tr>\n",
       "      <th>1163</th>\n",
       "      <td>0</td>\n",
       "      <td>0.0</td>\n",
       "      <td>3.0</td>\n",
       "      <td>Herbal Steam House</td>\n",
       "      <td>Samut Prakan</td>\n",
       "    </tr>\n",
       "    <tr>\n",
       "      <th>1164</th>\n",
       "      <td>1</td>\n",
       "      <td>0.0</td>\n",
       "      <td>2.0</td>\n",
       "      <td>Wat Intharam</td>\n",
       "      <td>Samut Prakan</td>\n",
       "    </tr>\n",
       "    <tr>\n",
       "      <th>1165</th>\n",
       "      <td>1</td>\n",
       "      <td>1.0</td>\n",
       "      <td>4.0</td>\n",
       "      <td>Khuean Srinagarindra National Park</td>\n",
       "      <td>Samut Prakan</td>\n",
       "    </tr>\n",
       "    <tr>\n",
       "      <th>1166</th>\n",
       "      <td>0</td>\n",
       "      <td>1.0</td>\n",
       "      <td>4.0</td>\n",
       "      <td>Prasat Wat Sa Kamphaeng Yai</td>\n",
       "      <td>Nonthaburi</td>\n",
       "    </tr>\n",
       "    <tr>\n",
       "      <th>1167</th>\n",
       "      <td>2</td>\n",
       "      <td>0.0</td>\n",
       "      <td>4.0</td>\n",
       "      <td>Prasat Puay Noi</td>\n",
       "      <td>Nonthaburi</td>\n",
       "    </tr>\n",
       "  </tbody>\n",
       "</table>\n",
       "<p>1168 rows × 5 columns</p>\n",
       "</div>"
      ],
      "text/plain": [
       "      predicted_sentiment  helpful_voting  rating  \\\n",
       "0                       2             2.0     5.0   \n",
       "1                       1             0.0     5.0   \n",
       "2                       0            15.0     5.0   \n",
       "3                       0             0.0     4.0   \n",
       "4                       1             0.0     5.0   \n",
       "...                   ...             ...     ...   \n",
       "1163                    0             0.0     3.0   \n",
       "1164                    1             0.0     2.0   \n",
       "1165                    1             1.0     4.0   \n",
       "1166                    0             1.0     4.0   \n",
       "1167                    2             0.0     4.0   \n",
       "\n",
       "                                        location_name    place_name  \n",
       "0     Wat Rajapradit Sathitmahasimaram Rajaworavihara       Bangkok  \n",
       "1                                  Wat Phra Chetuphon       Bangkok  \n",
       "2                           Temple Of Dawn (Wat Arun)       Bangkok  \n",
       "3                           Temple Of Dawn (Wat Arun)       Bangkok  \n",
       "4                                           Wat Umong       Bangkok  \n",
       "...                                               ...           ...  \n",
       "1163                               Herbal Steam House  Samut Prakan  \n",
       "1164                                     Wat Intharam  Samut Prakan  \n",
       "1165               Khuean Srinagarindra National Park  Samut Prakan  \n",
       "1166                      Prasat Wat Sa Kamphaeng Yai    Nonthaburi  \n",
       "1167                                  Prasat Puay Noi    Nonthaburi  \n",
       "\n",
       "[1168 rows x 5 columns]"
      ]
     },
     "execution_count": 25,
     "metadata": {},
     "output_type": "execute_result"
    }
   ],
   "source": [
    "review_sentiment_df[[\"predicted_sentiment\", \"helpful_voting\", \"rating\", \"location_name\", \"place_name\"]]"
   ]
  },
  {
   "cell_type": "code",
   "execution_count": 26,
   "metadata": {},
   "outputs": [],
   "source": [
    "from sklearn.model_selection import train_test_split\n",
    "from sklearn.metrics import mean_squared_error\n",
    "import xgboost as xgb"
   ]
  },
  {
   "cell_type": "code",
   "execution_count": 27,
   "metadata": {},
   "outputs": [
    {
     "name": "stdout",
     "output_type": "stream",
     "text": [
      "Mean Squared Error on test set: 0.01511700164233075\n",
      "                                        location_name    place_name  \\\n",
      "0     Wat Rajapradit Sathitmahasimaram Rajaworavihara       Bangkok   \n",
      "1                                  Wat Phra Chetuphon       Bangkok   \n",
      "2                           Temple Of Dawn (Wat Arun)       Bangkok   \n",
      "3                           Temple Of Dawn (Wat Arun)       Bangkok   \n",
      "4                                           Wat Umong       Bangkok   \n",
      "...                                               ...           ...   \n",
      "1163                               Herbal Steam House  Samut Prakan   \n",
      "1164                                     Wat Intharam  Samut Prakan   \n",
      "1165               Khuean Srinagarindra National Park  Samut Prakan   \n",
      "1166                      Prasat Wat Sa Kamphaeng Yai    Nonthaburi   \n",
      "1167                                  Prasat Puay Noi    Nonthaburi   \n",
      "\n",
      "      predicted_score  \n",
      "0            3.499465  \n",
      "1            2.699694  \n",
      "2            6.820713  \n",
      "3            1.999631  \n",
      "4            2.699694  \n",
      "...               ...  \n",
      "1163         1.499960  \n",
      "1164         1.200225  \n",
      "1165         2.497050  \n",
      "1166         2.300998  \n",
      "1167         2.399438  \n",
      "\n",
      "[1168 rows x 3 columns]\n"
     ]
    }
   ],
   "source": [
    "# Step 1: Create a proxy score based on a heuristic formula\n",
    "review_sentiment_df['proxy_score'] = (0.5 * review_sentiment_df['rating']) + \\\n",
    "                                     (0.3 * review_sentiment_df['helpful_voting']) + \\\n",
    "                                     (0.2 * review_sentiment_df['predicted_sentiment'])\n",
    "\n",
    "# Features and proxy score as target\n",
    "X = review_sentiment_df[['rating', 'predicted_sentiment', 'helpful_voting']]\n",
    "y = review_sentiment_df['proxy_score']\n",
    "\n",
    "# Step 2: Split data into training (70%) and test sets (30%)\n",
    "X_train, X_test, y_train, y_test = train_test_split(X, y, test_size=0.3, random_state=42)\n",
    "\n",
    "# Step 3: Initialize XGBoost regressor model\n",
    "model = xgb.XGBRegressor(objective='reg:squarederror', random_state=42)\n",
    "\n",
    "# Step 4: Train the model using proxy scores\n",
    "model.fit(X_train, y_train)\n",
    "\n",
    "# Step 5: Predict on the test set\n",
    "y_pred = model.predict(X_test)\n",
    "\n",
    "# Step 6: Evaluate the model using Mean Squared Error (MSE)\n",
    "mse = mean_squared_error(y_test, y_pred)\n",
    "print(f'Mean Squared Error on test set: {mse}')\n",
    "\n",
    "# Step 7: Predict scores for the entire dataset\n",
    "review_sentiment_df['predicted_score'] = model.predict(X)\n",
    "print(review_sentiment_df[['location_name', 'place_name', 'predicted_score']])"
   ]
  },
  {
   "cell_type": "code",
   "execution_count": 28,
   "metadata": {},
   "outputs": [],
   "source": [
    "import plotly.express as px"
   ]
  },
  {
   "cell_type": "code",
   "execution_count": 29,
   "metadata": {},
   "outputs": [
    {
     "data": {
      "application/vnd.plotly.v1+json": {
       "config": {
        "plotlyServerURL": "https://plot.ly"
       },
       "data": [
        {
         "customdata": [
          [
           "Wat Rajapradit Sathitmahasimaram Rajaworavihara"
          ],
          [
           "Wat Phra Chetuphon"
          ],
          [
           "Temple Of Dawn (Wat Arun)"
          ],
          [
           "Temple Of Dawn (Wat Arun)"
          ],
          [
           "Wat Umong"
          ],
          [
           "Wat Rong Khun"
          ],
          [
           "Wat Pak Nam"
          ],
          [
           "Wat Pak Nam"
          ],
          [
           "Wat Phra Singh"
          ],
          [
           "Wat Chaiwatthanaram"
          ],
          [
           "Wat Mahathat"
          ],
          [
           "Wat Hua Lumphong"
          ],
          [
           "Wat Hua Lumphong"
          ],
          [
           "The Golden Mount (Wat Saket)"
          ],
          [
           "Wat Pho Thai Traditional Massage School"
          ],
          [
           "Wat Samphanthawong Saram Worawihan (Wat Ko)"
          ],
          [
           "Wat Suthat"
          ],
          [
           "Wat Suthat"
          ],
          [
           "Wat Rakang Kositaram"
          ],
          [
           "Temple of the Emerald Buddha (Wat Phra Kaew)"
          ],
          [
           "Temple of the Emerald Buddha (Wat Phra Kaew)"
          ],
          [
           "Tiger God Shrine"
          ],
          [
           "Tiger Kingdom Phuket"
          ],
          [
           "Tiger Kingdom Phuket"
          ],
          [
           "Tiger Park Pattaya"
          ],
          [
           "Tiger Park Pattaya"
          ],
          [
           "Erawan Shrine (Thao Mahaprom Shrine)"
          ],
          [
           "Erawan Shrine (Thao Mahaprom Shrine)"
          ],
          [
           "Erawan Shrine (Thao Mahaprom Shrine)"
          ],
          [
           "Wat Phra Bat Ming Mueang Worawiharn"
          ],
          [
           "Wat Phra Bat Ming Mueang Worawiharn"
          ],
          [
           "Wat Maha That Worawiharn"
          ],
          [
           "Wat Sothon Wararam Worawihan"
          ],
          [
           "Wat Phanan Choeng Worawihan"
          ],
          [
           "Wat Phanan Choeng Worawihan"
          ],
          [
           "Wat Thammamun Worawihan"
          ],
          [
           "Wat Tri Thotsathep Worawihan"
          ],
          [
           "Wat Charoen Sukharam Worawihan"
          ],
          [
           "Wat Thepsirintrawat Ratchaworawihan"
          ],
          [
           "Wat Suwan Dararam Ratchaworawihan"
          ],
          [
           "Wat Suwan Dararam Ratchaworawihan"
          ],
          [
           "Wat Suwan Dararam Ratchaworawihan"
          ],
          [
           "Wat Ratchaburana (Temple of the Royal Restoration)"
          ],
          [
           "Wat Ratchaburana (Temple of the Royal Restoration)"
          ],
          [
           "Wat Chakrawatrachawat Woramahawihan"
          ],
          [
           "Wat Chakrawatrachawat Woramahawihan"
          ],
          [
           "Wat Chakrawatrachawat Woramahawihan"
          ],
          [
           "Wat Phra That Doi Suthep"
          ],
          [
           "Wat Khao Phra Si Sanphetchayaram or Wat Khao Phra"
          ],
          [
           "Wat Phra That Phanom"
          ],
          [
           "Wat Bang Phra  Temple"
          ],
          [
           "Wat Bang Phra  Temple"
          ],
          [
           "Wat Saman Rattanaram Temple"
          ],
          [
           "Wat Hong Rattanaram"
          ],
          [
           "Wat Pa Si Mongkhon Rattanaram"
          ],
          [
           "Wat Pa Si Mongkhon Rattanaram"
          ],
          [
           "Wat Pa Tam Wua"
          ],
          [
           "Sim Isan (Wat Pa Saeng Arun)"
          ],
          [
           "Museum of Siam"
          ],
          [
           "Jodd Fairs"
          ],
          [
           "Jodd Fairs DanNeramit"
          ],
          [
           "Jodd Fairs DanNeramit"
          ],
          [
           "Talat Phlu Train Station"
          ],
          [
           "Wat Chantharam Worawihan (Wat Klang Talat Phlu)"
          ],
          [
           "Talat Hua Mum Muang Mai"
          ],
          [
           "Talat Hua Mum Muang Mai"
          ],
          [
           "Wat Kalayanamit Varamahavihara"
          ],
          [
           "Wat Kalayanamit Varamahavihara"
          ],
          [
           "Siam AMAZING Park"
          ],
          [
           "Siam Square"
          ],
          [
           "Siam Niramit Phuket"
          ],
          [
           "Siam Discovery"
          ],
          [
           "Siam Paragon"
          ],
          [
           "Siam Paragon"
          ],
          [
           "Chang Siam Park"
          ],
          [
           "Chang Siam Park"
          ],
          [
           "Chang Siam Park"
          ],
          [
           "Siam Serpentarium"
          ],
          [
           "Siam Premium Outlets Bangkok"
          ],
          [
           "Mini Siam"
          ],
          [
           "Kwan-Riam Floating Market"
          ],
          [
           "Damnoen Saduak Floating Market"
          ],
          [
           "Damnoen Saduak Floating Market"
          ],
          [
           "Damnoen Saduak Floating Market"
          ],
          [
           "Amphawa Floating Market"
          ],
          [
           "Pattaya Floating Market"
          ],
          [
           "Pattaya Floating Market"
          ],
          [
           "Hat Yai Floating Market"
          ],
          [
           "Khlong Hae Floating Market"
          ],
          [
           "Khlong Hae Floating Market"
          ],
          [
           "Wat Sai Floating Market"
          ],
          [
           "Don Wai Floating Market"
          ],
          [
           "Don Wai Floating Market"
          ],
          [
           "Chatuchak Weekend Market"
          ],
          [
           "Chatuchak Weekend Market"
          ],
          [
           "Chatuchak Weekend Market"
          ],
          [
           "Chatuchak Flower Market"
          ],
          [
           "Phuket Weekend Night Market"
          ],
          [
           "Phuket Weekend Night Market"
          ],
          [
           "Chatuchak Park"
          ],
          [
           "JJ Mall"
          ],
          [
           "JJ Mall"
          ],
          [
           "Khlong Toei Market"
          ],
          [
           "Khlong Dan"
          ],
          [
           "Sanam Luang"
          ],
          [
           "Sanam Luang"
          ],
          [
           "Sanam Luang"
          ],
          [
           "Suan Luang Rama 9 Park"
          ],
          [
           "Dahra Beauty & Spa - Silom"
          ],
          [
           "Sukhumvit Road Street market"
          ],
          [
           "Street Art Songkhla"
          ],
          [
           "Art Street Pattaya"
          ],
          [
           "Art Street Pattaya"
          ],
          [
           "Art Street Pattaya"
          ],
          [
           "Hua Hin Railway Station"
          ],
          [
           "Hua Hin Railway Station"
          ],
          [
           "SEA LIFE Bangkok Ocean World"
          ],
          [
           "China Town"
          ],
          [
           "China Town"
          ],
          [
           "China Town"
          ],
          [
           "China Town Plaza Patong"
          ],
          [
           "China Town Plaza Patong"
          ],
          [
           "Walking Street Pattaya"
          ],
          [
           "Walking Street Pattaya"
          ],
          [
           "Walking Street Koh Lanta"
          ],
          [
           "Karbi Walking Street"
          ],
          [
           "Karbi Walking Street"
          ],
          [
           "Karbi Walking Street"
          ],
          [
           "Temple of the Golden Buddha (Wat Traimit)"
          ],
          [
           "Temple of the Golden Buddha (Wat Traimit)"
          ],
          [
           "Kata Noi Beach"
          ],
          [
           "Kata Noi Beach"
          ],
          [
           "Lipa Noi Beach"
          ],
          [
           "Talat Nam Song Khlong Wat Talingchan"
          ],
          [
           "Khlong Phadung Krung Kasem Floating Market"
          ],
          [
           "Wat Phra That Doi Saket"
          ],
          [
           "Wat Phra That Doi Saket"
          ],
          [
           "Wat Phra That Doi Saket"
          ],
          [
           "Wat Phu Khao Thong (Golden Mount)"
          ],
          [
           "Wat Phra That Doi Kham (Temple of the Golden Mountain)"
          ],
          [
           "Wat Phra That Doi Kham (Temple of the Golden Mountain)"
          ],
          [
           "Wat Ratchanatdaram Woravihara (Loha Prasat)"
          ],
          [
           "Wat Benchamabophit (The Marble Temple)"
          ],
          [
           "Asiatique The Riverfront"
          ],
          [
           "Asiatique The Riverfront"
          ],
          [
           "Rattanakosin Exhibition Hall"
          ],
          [
           "Rattanakosin Exhibition Hall"
          ],
          [
           "Songkran Festival Khao San Road"
          ],
          [
           "Songkran Festival Khao San Road"
          ],
          [
           "Khao San Thai Massage"
          ],
          [
           "Khao Kheow Open Zoo"
          ],
          [
           "Khao San Cooking School"
          ],
          [
           "Khao San Cooking School"
          ],
          [
           "Khao Phra Tamnak (Khao Phra Bat)"
          ],
          [
           "Khao San, 1986"
          ],
          [
           "Khao San, 1986"
          ],
          [
           "Khao Sok National Park"
          ],
          [
           "Chao Phraya River"
          ],
          [
           "Chao Phraya River"
          ],
          [
           "Chao Phraya Express Boat"
          ],
          [
           "Chao Phraya Express Boat"
          ],
          [
           "Chao Phraya Express Boat"
          ],
          [
           "Chao Phraya Express Boat"
          ],
          [
           "Chao Phraya Princess Dinner Cruise"
          ],
          [
           "Chao Phraya Tourist Boat"
          ],
          [
           "Chao Sam Phraya National Museum"
          ],
          [
           "Coin Museum Treasury Department Thailand"
          ],
          [
           "Coin Museum Treasury Department Thailand"
          ],
          [
           "Wat Chedi Luang Varavihara"
          ],
          [
           "Wat Niwet Thammaprawat"
          ],
          [
           "Ganesha Shrine"
          ],
          [
           "Ganesha Shrine"
          ],
          [
           "Trimurti Shrine"
          ],
          [
           "Erawan National Park"
          ],
          [
           "Erawan National Park"
          ],
          [
           "Lumpini Park"
          ],
          [
           "Lumpini Park"
          ],
          [
           "Benjakitti Park"
          ],
          [
           "King Rama IX Park"
          ],
          [
           "King Rama IX Park"
          ],
          [
           "Diora Luxe Lumpini"
          ],
          [
           "Nong Prajak Public Park"
          ],
          [
           "Nong Prajak Public Park"
          ],
          [
           "Victory Monument"
          ],
          [
           "Wang Lang Market"
          ],
          [
           "The Grand Palace"
          ],
          [
           "The Grand Palace"
          ],
          [
           "Nang Loeng Market"
          ],
          [
           "Nang Loeng Market"
          ],
          [
           "Ao Nang Landmark Night Market"
          ],
          [
           "Ao Nang Beach"
          ],
          [
           "Royal Barges National Museum"
          ],
          [
           "Siriraj Medical Museum"
          ],
          [
           "Saranrom Park"
          ],
          [
           "Saranrom Palace"
          ],
          [
           "Saranrom Palace"
          ],
          [
           "Bangkok City Pillar Shrine"
          ],
          [
           "Bangkok City Pillar Shrine"
          ],
          [
           "City Pillar Shrine, SuphanBuri"
          ],
          [
           "City Pillar Shrine (Udon Thani)"
          ],
          [
           "Rayong The City Pillar Shrine"
          ],
          [
           "Rayong The City Pillar Shrine"
          ],
          [
           "City Pillar Shrine"
          ],
          [
           "City Pillar Shrine - Prachuap Kiri Khan"
          ],
          [
           "Songkhla's Shrine City Pillar"
          ],
          [
           "City Pillar Shrine"
          ],
          [
           "Mae Fah Luang Garden"
          ],
          [
           "Doi Luang Chiang Dao"
          ],
          [
           "Queen Sirikit Museum of Textiles"
          ],
          [
           "Queen Sirikit Park"
          ],
          [
           "Queen Sirikit Park"
          ],
          [
           "Queen Sirikit Park"
          ],
          [
           "Queen Sirikit Botanic Garden"
          ],
          [
           "Queen Sirikit Park"
          ],
          [
           "Wat Chana Songkhram"
          ],
          [
           "Wat Thepthidaram"
          ],
          [
           "Wat Phra Kaeo"
          ],
          [
           "Wat Phra Si Rattana Mahathat"
          ],
          [
           "Wat Phra Si Mahathat"
          ],
          [
           "Wat Phra Sri Sanphet"
          ],
          [
           "Wat Phra Sri Sanphet"
          ],
          [
           "Wat Phra Sri Sanphet"
          ],
          [
           "Pipit Banglamphu History Museum"
          ],
          [
           "Pipit Banglamphu History Museum"
          ],
          [
           "Banglamphu"
          ],
          [
           "Banglamphu"
          ],
          [
           "Museum of Contemporary Art (MOCA)"
          ],
          [
           "Museum of Contemporary Art (MOCA)"
          ],
          [
           "Wat Mahathat Yuwaratrangsarit"
          ],
          [
           "Wat Manee Sri Mahathat"
          ],
          [
           "Wat Maha That Wachiramongkol"
          ],
          [
           "Wat Maha That Wachiramongkol"
          ],
          [
           "Khaosan Spa"
          ],
          [
           "Rama VIII Bridge"
          ],
          [
           "Rama VIII Bridge"
          ],
          [
           "Rama VIII Bridge"
          ],
          [
           "Rama VIII Bridge"
          ],
          [
           "Rama VIII Park"
          ],
          [
           "Democracy Monument"
          ],
          [
           "King Rama VI Monument"
          ],
          [
           "The Nine Center Rama 9"
          ],
          [
           "King Rama 9 Park"
          ],
          [
           "King Prajadhipok Museum"
          ],
          [
           "Wat Boromracha Kanchanapisek Anusorn Temple"
          ],
          [
           "Wat Boromracha Kanchanapisek Anusorn Temple"
          ],
          [
           "Silom Night Market"
          ],
          [
           "Train Night Market Ratchada"
          ],
          [
           "Liab Duan Night Market"
          ],
          [
           "Liab Duan Night Market"
          ],
          [
           "Liab Duan Night Market"
          ],
          [
           "Saturday Night Market  Walking Street - Wua Lai Road"
          ],
          [
           "Mr J Chiang Mai Private Driver"
          ],
          [
           "Mr J Chiang Mai Private Driver"
          ],
          [
           "Night Bazaar"
          ],
          [
           "Wat Sai Moon Myanmar"
          ],
          [
           "Wat Sai Moon Myanmar"
          ],
          [
           "Chiang Mai University"
          ],
          [
           "Elephant Jungle Sanctuary Chiang Mai"
          ],
          [
           "Chiang Mai Tour Center"
          ],
          [
           "Ban Jabo (Black Lahu community)"
          ],
          [
           "Ban Jabo (Black Lahu community)"
          ],
          [
           "Ban Phe Market"
          ],
          [
           "Ban Phe Market"
          ],
          [
           "Ban Phe Market"
          ],
          [
           "Ban Nam Khem Tsunami Memorial Park"
          ],
          [
           "Ban Bang Khen"
          ],
          [
           "Bo Phut Beach"
          ],
          [
           "Bo Phut Beach"
          ],
          [
           "Kata Night Market"
          ],
          [
           "Jomtien Night Market"
          ],
          [
           "Ko Kloi Floating Market"
          ],
          [
           "Ko Lanta"
          ],
          [
           "Lamai Night Market"
          ],
          [
           "Lamai Night Market"
          ],
          [
           "White Sand Beach Night Food Market"
          ],
          [
           "Thonburi Snake Farm"
          ],
          [
           "TK Tour"
          ],
          [
           "TK Tour"
          ],
          [
           "MBK Center (Ma Boon Khrong Center)"
          ],
          [
           "MBK Center (Ma Boon Khrong Center)"
          ],
          [
           "Sala Chalermkrung Royal Theatre"
          ],
          [
           "Santiphap Park (Park of Peace)"
          ],
          [
           "Thailand Cultural Centre"
          ],
          [
           "Thai-Chinese Cultural Center"
          ],
          [
           "Thai-Chinese Cultural Center"
          ],
          [
           "Old Chiangmai Cultural Center"
          ],
          [
           "Muangthai Rachadalai Theatre"
          ],
          [
           "Rachadalai Theatre"
          ],
          [
           "Romaneenart Park"
          ],
          [
           "Romaneenart Park"
          ],
          [
           "Romaneenart Park"
          ]
         ],
         "hovertemplate": "place_name=%{x}<br>predicted_score=%{y}<br>location_name=%{customdata[0]}<extra></extra>",
         "legendgroup": "Bangkok",
         "marker": {
          "color": "#636efa",
          "symbol": "circle"
         },
         "mode": "markers",
         "name": "Bangkok",
         "showlegend": true,
         "type": "scattergl",
         "x": [
          "Bangkok",
          "Bangkok",
          "Bangkok",
          "Bangkok",
          "Bangkok",
          "Bangkok",
          "Bangkok",
          "Bangkok",
          "Bangkok",
          "Bangkok",
          "Bangkok",
          "Bangkok",
          "Bangkok",
          "Bangkok",
          "Bangkok",
          "Bangkok",
          "Bangkok",
          "Bangkok",
          "Bangkok",
          "Bangkok",
          "Bangkok",
          "Bangkok",
          "Bangkok",
          "Bangkok",
          "Bangkok",
          "Bangkok",
          "Bangkok",
          "Bangkok",
          "Bangkok",
          "Bangkok",
          "Bangkok",
          "Bangkok",
          "Bangkok",
          "Bangkok",
          "Bangkok",
          "Bangkok",
          "Bangkok",
          "Bangkok",
          "Bangkok",
          "Bangkok",
          "Bangkok",
          "Bangkok",
          "Bangkok",
          "Bangkok",
          "Bangkok",
          "Bangkok",
          "Bangkok",
          "Bangkok",
          "Bangkok",
          "Bangkok",
          "Bangkok",
          "Bangkok",
          "Bangkok",
          "Bangkok",
          "Bangkok",
          "Bangkok",
          "Bangkok",
          "Bangkok",
          "Bangkok",
          "Bangkok",
          "Bangkok",
          "Bangkok",
          "Bangkok",
          "Bangkok",
          "Bangkok",
          "Bangkok",
          "Bangkok",
          "Bangkok",
          "Bangkok",
          "Bangkok",
          "Bangkok",
          "Bangkok",
          "Bangkok",
          "Bangkok",
          "Bangkok",
          "Bangkok",
          "Bangkok",
          "Bangkok",
          "Bangkok",
          "Bangkok",
          "Bangkok",
          "Bangkok",
          "Bangkok",
          "Bangkok",
          "Bangkok",
          "Bangkok",
          "Bangkok",
          "Bangkok",
          "Bangkok",
          "Bangkok",
          "Bangkok",
          "Bangkok",
          "Bangkok",
          "Bangkok",
          "Bangkok",
          "Bangkok",
          "Bangkok",
          "Bangkok",
          "Bangkok",
          "Bangkok",
          "Bangkok",
          "Bangkok",
          "Bangkok",
          "Bangkok",
          "Bangkok",
          "Bangkok",
          "Bangkok",
          "Bangkok",
          "Bangkok",
          "Bangkok",
          "Bangkok",
          "Bangkok",
          "Bangkok",
          "Bangkok",
          "Bangkok",
          "Bangkok",
          "Bangkok",
          "Bangkok",
          "Bangkok",
          "Bangkok",
          "Bangkok",
          "Bangkok",
          "Bangkok",
          "Bangkok",
          "Bangkok",
          "Bangkok",
          "Bangkok",
          "Bangkok",
          "Bangkok",
          "Bangkok",
          "Bangkok",
          "Bangkok",
          "Bangkok",
          "Bangkok",
          "Bangkok",
          "Bangkok",
          "Bangkok",
          "Bangkok",
          "Bangkok",
          "Bangkok",
          "Bangkok",
          "Bangkok",
          "Bangkok",
          "Bangkok",
          "Bangkok",
          "Bangkok",
          "Bangkok",
          "Bangkok",
          "Bangkok",
          "Bangkok",
          "Bangkok",
          "Bangkok",
          "Bangkok",
          "Bangkok",
          "Bangkok",
          "Bangkok",
          "Bangkok",
          "Bangkok",
          "Bangkok",
          "Bangkok",
          "Bangkok",
          "Bangkok",
          "Bangkok",
          "Bangkok",
          "Bangkok",
          "Bangkok",
          "Bangkok",
          "Bangkok",
          "Bangkok",
          "Bangkok",
          "Bangkok",
          "Bangkok",
          "Bangkok",
          "Bangkok",
          "Bangkok",
          "Bangkok",
          "Bangkok",
          "Bangkok",
          "Bangkok",
          "Bangkok",
          "Bangkok",
          "Bangkok",
          "Bangkok",
          "Bangkok",
          "Bangkok",
          "Bangkok",
          "Bangkok",
          "Bangkok",
          "Bangkok",
          "Bangkok",
          "Bangkok",
          "Bangkok",
          "Bangkok",
          "Bangkok",
          "Bangkok",
          "Bangkok",
          "Bangkok",
          "Bangkok",
          "Bangkok",
          "Bangkok",
          "Bangkok",
          "Bangkok",
          "Bangkok",
          "Bangkok",
          "Bangkok",
          "Bangkok",
          "Bangkok",
          "Bangkok",
          "Bangkok",
          "Bangkok",
          "Bangkok",
          "Bangkok",
          "Bangkok",
          "Bangkok",
          "Bangkok",
          "Bangkok",
          "Bangkok",
          "Bangkok",
          "Bangkok",
          "Bangkok",
          "Bangkok",
          "Bangkok",
          "Bangkok",
          "Bangkok",
          "Bangkok",
          "Bangkok",
          "Bangkok",
          "Bangkok",
          "Bangkok",
          "Bangkok",
          "Bangkok",
          "Bangkok",
          "Bangkok",
          "Bangkok",
          "Bangkok",
          "Bangkok",
          "Bangkok",
          "Bangkok",
          "Bangkok",
          "Bangkok",
          "Bangkok",
          "Bangkok",
          "Bangkok",
          "Bangkok",
          "Bangkok",
          "Bangkok",
          "Bangkok",
          "Bangkok",
          "Bangkok",
          "Bangkok",
          "Bangkok",
          "Bangkok",
          "Bangkok",
          "Bangkok",
          "Bangkok",
          "Bangkok",
          "Bangkok",
          "Bangkok",
          "Bangkok",
          "Bangkok",
          "Bangkok",
          "Bangkok",
          "Bangkok",
          "Bangkok",
          "Bangkok",
          "Bangkok",
          "Bangkok",
          "Bangkok",
          "Bangkok",
          "Bangkok",
          "Bangkok",
          "Bangkok",
          "Bangkok",
          "Bangkok",
          "Bangkok",
          "Bangkok",
          "Bangkok",
          "Bangkok",
          "Bangkok",
          "Bangkok",
          "Bangkok",
          "Bangkok",
          "Bangkok",
          "Bangkok",
          "Bangkok",
          "Bangkok",
          "Bangkok",
          "Bangkok",
          "Bangkok",
          "Bangkok",
          "Bangkok"
         ],
         "xaxis": "x",
         "y": [
          3.4994654655456543,
          2.6996939182281494,
          6.820713043212891,
          1.9996305704116821,
          2.6996939182281494,
          1.4999604225158691,
          2.9999775886535645,
          2.500140905380249,
          2.2009427547454834,
          2.900212526321411,
          2.500140905380249,
          12.999673843383789,
          2.900212526321411,
          2.39943790435791,
          1.298903465270996,
          1.9004533290863037,
          2.6996939182281494,
          2.39943790435791,
          2.6996939182281494,
          2.2009427547454834,
          2.6996939182281494,
          3.1998956203460693,
          2.199599027633667,
          8.497298240661621,
          2.6996939182281494,
          2.500140905380249,
          13.300979614257812,
          2.2009427547454834,
          3.1071932315826416,
          1.4999604225158691,
          2.900212526321411,
          2.39943790435791,
          2.900212526321411,
          2.2009427547454834,
          2.900212526321411,
          2.2009427547454834,
          2.9999775886535645,
          2.39943790435791,
          3.9036099910736084,
          2.6996939182281494,
          3.0002808570861816,
          2.6996939182281494,
          2.900212526321411,
          2.6996939182281494,
          2.39943790435791,
          1.9004533290863037,
          1.4999604225158691,
          1.9996305704116821,
          2.2009427547454834,
          2.900212526321411,
          4.50242805480957,
          4.930660724639893,
          2.799882411956787,
          2.7012834548950195,
          2.300997734069824,
          1.804766297340393,
          2.799882411956787,
          1.9996305704116821,
          2.39943790435791,
          2.900212526321411,
          2.900212526321411,
          2.2009427547454834,
          2.6996939182281494,
          1.6987276077270508,
          2.39943790435791,
          2.7012834548950195,
          2.8007826805114746,
          3.4994654655456543,
          1.6987276077270508,
          2.500140905380249,
          1.6948435306549072,
          2.6996939182281494,
          1.6987276077270508,
          2.500140905380249,
          0.799848198890686,
          2.2009427547454834,
          3.699059247970581,
          2.8007826805114746,
          2.500140905380249,
          2.300997734069824,
          2.799882411956787,
          2.39943790435791,
          0.7001014947891235,
          0.8998897671699524,
          1.4004493951797485,
          1.2002246379852295,
          2.500140905380249,
          2.6996939182281494,
          2.39943790435791,
          2.500140905380249,
          0.4999425411224365,
          2.500140905380249,
          2.497049570083618,
          2.6996939182281494,
          2.900212526321411,
          2.900212526321411,
          2.6996939182281494,
          2.900212526321411,
          2.900212526321411,
          2.6996939182281494,
          2.6996939182281494,
          0.799848198890686,
          1.4004493951797485,
          1.5009926557540894,
          1.9996305704116821,
          2.2009427547454834,
          1.9004533290863037,
          2.6996939182281494,
          2.799882411956787,
          4.202127456665039,
          2.900212526321411,
          3.1998956203460693,
          1.6987276077270508,
          1.4999604225158691,
          1.9996305704116821,
          2.2009427547454834,
          2.900212526321411,
          1.4999604225158691,
          1.9996305704116821,
          2.3019840717315674,
          1.298903465270996,
          2.39943790435791,
          2.6996939182281494,
          2.500140905380249,
          1.9996305704116821,
          2.2009427547454834,
          2.003434896469116,
          1.9996305704116821,
          2.900212526321411,
          12.300084114074707,
          2.39943790435791,
          2.6996939182281494,
          2.900212526321411,
          2.6996939182281494,
          1.1024304628372192,
          2.6996939182281494,
          2.2009427547454834,
          3.4005353450775146,
          2.39943790435791,
          2.500140905380249,
          3.1998956203460693,
          2.6996939182281494,
          2.900212526321411,
          2.2009427547454834,
          0.4999425411224365,
          2.500140905380249,
          2.500140905380249,
          2.6996939182281494,
          2.300997734069824,
          2.500140905380249,
          0.8998897671699524,
          3.899764060974121,
          3.3004257678985596,
          13.524225234985352,
          2.600679874420166,
          2.6996939182281494,
          2.500140905380249,
          3.899764060974121,
          2.2009427547454834,
          0.7001014947891235,
          1.9996305704116821,
          9.500360488891602,
          0.4999425411224365,
          0.8998897671699524,
          1.6987276077270508,
          2.39943790435791,
          0.8998897671699524,
          1.9996305704116821,
          2.500140905380249,
          3.0996804237365723,
          2.6996939182281494,
          2.2009427547454834,
          2.900212526321411,
          2.500140905380249,
          2.6996939182281494,
          2.500140905380249,
          2.2009427547454834,
          2.6996939182281494,
          1.9996305704116821,
          1.9996305704116821,
          0.8998897671699524,
          1.9996305704116821,
          1.2002246379852295,
          2.900212526321411,
          2.500140905380249,
          2.500140905380249,
          1.9996305704116821,
          1.6987276077270508,
          3.1998956203460693,
          2.6996939182281494,
          2.39943790435791,
          5.098362445831299,
          3.3004257678985596,
          2.2009427547454834,
          1.4999604225158691,
          2.199599027633667,
          2.300997734069824,
          2.199599027633667,
          2.6996939182281494,
          2.0970914363861084,
          2.7012834548950195,
          1.9004533290863037,
          2.6996939182281494,
          1.6987276077270508,
          1.6987276077270508,
          4.696971893310547,
          2.39943790435791,
          3.4005353450775146,
          2.500140905380249,
          2.6996939182281494,
          2.6996939182281494,
          2.500140905380249,
          2.500140905380249,
          2.500140905380249,
          2.39943790435791,
          2.300997734069824,
          1.6987276077270508,
          2.2009427547454834,
          2.497049570083618,
          2.900212526321411,
          1.9996305704116821,
          1.9996305704116821,
          3.1998956203460693,
          2.300997734069824,
          2.900212526321411,
          1.9004533290863037,
          2.799882411956787,
          1.9996305704116821,
          3.4005353450775146,
          1.9996305704116821,
          3.4994654655456543,
          3.8023650646209717,
          1.9996305704116821,
          2.6996939182281494,
          3.0002808570861816,
          2.2009427547454834,
          1.9004533290863037,
          3.1998956203460693,
          1.9996305704116821,
          1.9004533290863037,
          2.2009427547454834,
          1.9996305704116821,
          2.39943790435791,
          2.39943790435791,
          1.9996305704116821,
          3.4994654655456543,
          1.9004533290863037,
          3.3004257678985596,
          3.0002808570861816,
          1.9996305704116821,
          1.399895191192627,
          3.0002808570861816,
          2.799882411956787,
          1.4999604225158691,
          1.9996305704116821,
          3.0002808570861816,
          0.4999425411224365,
          2.500140905380249,
          2.500140905380249,
          3.4994654655456543,
          3.4994654655456543,
          2.6996939182281494,
          1.9996305704116821,
          2.6996939182281494,
          2.6996939182281494,
          1.6987276077270508,
          1.5009926557540894,
          2.799882411956787,
          1.399895191192627,
          2.900212526321411,
          1.6021475791931152,
          2.8007826805114746,
          1.6921623945236206,
          2.39943790435791,
          1.9996305704116821,
          3.9994285106658936,
          1.9996305704116821,
          1.6921623945236206,
          2.500140905380249,
          2.900212526321411,
          3.20456862449646,
          3.1998956203460693,
          1.9004533290863037,
          2.500140905380249,
          2.6996939182281494,
          2.6996939182281494,
          1.9996305704116821,
          2.39943790435791,
          1.9996305704116821,
          2.8007826805114746,
          1.9996305704116821
         ],
         "yaxis": "y"
        },
        {
         "customdata": [
          [
           "Wat Ku"
          ],
          [
           "Wat Chamthewi Temple (Wat Ku Kut)"
          ],
          [
           "Wat Chamthewi Temple (Wat Ku Kut)"
          ],
          [
           "Sala Kaew Ku (Wat Khaek)"
          ],
          [
           "IMPACT Muang Thong Thani"
          ],
          [
           "Wat Ban Na Muang"
          ],
          [
           "Tongdee Elephant Camp"
          ],
          [
           "Old Court and City Hall"
          ],
          [
           "Wat Chaloem Phrakiat Phrachomklao Rachanuson"
          ],
          [
           "Wat Chaloem Phrakiat Phrachomklao Rachanuson"
          ],
          [
           "Koh Kret"
          ],
          [
           "Koh Kret"
          ],
          [
           "Chit Beer"
          ],
          [
           "Ko Kham"
          ],
          [
           "Ko Mae Ko"
          ],
          [
           "Ko Mae Ko"
          ],
          [
           "Ko Samae San"
          ],
          [
           "Phuttha Utthayan Makha Bucha Anusorn"
          ],
          [
           "Phuttha Utthayan Makha Bucha Anusorn"
          ],
          [
           "Thale Noi Floating Market"
          ],
          [
           "Koh Kred"
          ],
          [
           "Som Motorbike Rental"
          ],
          [
           "Wat Phra That Si Chom Thong"
          ],
          [
           "Wat Phra That Si Chom Thong"
          ],
          [
           "Wat Muang"
          ],
          [
           "Wat Hong Thong"
          ],
          [
           "Wat Sisa Thong (Wat Phra Rahoo)"
          ],
          [
           "Wat Trapang Ngoen"
          ],
          [
           "Wat Tham Sua"
          ],
          [
           "Wat Ban Tham"
          ],
          [
           "Wat Tham Khoo Ha"
          ],
          [
           "Wat Suan Dok"
          ],
          [
           "Wat Suan Dok"
          ],
          [
           "Wat Kaeo Phichit"
          ],
          [
           "Wat Pa Maha Jedi Kaeo (Wat Larn Kuad)"
          ],
          [
           "Chao Pho Khao Yai Shrine"
          ],
          [
           "Chao Pho Mae Klong Shrine"
          ],
          [
           "Chang Chui Plane Market"
          ],
          [
           "Chao Pho Khao Yai Shrine"
          ],
          [
           "Chao Por Phawo Shrine"
          ],
          [
           "Chao Por Phawo Shrine"
          ],
          [
           "Chao Por Phawo Shrine"
          ],
          [
           "Chao Pu-Ya Shrine"
          ],
          [
           "Chao Por Lak Muang Khon Kaen Shrine"
          ],
          [
           "Big Buddha Phuket"
          ],
          [
           "Big Buddha Phuket"
          ],
          [
           "Big Buddha Temple"
          ],
          [
           "Na Muang Waterfall"
          ],
          [
           "Muang Ake Golf Club"
          ],
          [
           "Muang Ake Golf Club"
          ],
          [
           "﻿Muang Udon Thani Museum"
          ],
          [
           "Thong Nai Pan Yai Beach"
          ],
          [
           "Ao Thong Takhian"
          ],
          [
           "Wat Pa Khao Noi"
          ],
          [
           "Wat Pa Khao Noi"
          ],
          [
           "Wat Pa Khao Noi"
          ],
          [
           "Wat Pa Khao Noi"
          ],
          [
           "Sai Noi Beach"
          ],
          [
           "Sai Noi Beach"
          ],
          [
           "Wat Tang Sai Temple"
          ],
          [
           "Wat Tang Sai Temple"
          ],
          [
           "Wat Tang Sai Temple"
          ],
          [
           "Wat Tham Khao Wong"
          ],
          [
           "Wat Tham Khao Wong"
          ],
          [
           "Wong's place"
          ],
          [
           "Suan Pakkad Palace Museum"
          ],
          [
           "Suan Pakkad Palace Museum"
          ],
          [
           "Suan Lum Night Bazaar"
          ],
          [
           "Suan Lum Night Bazaar"
          ],
          [
           "Wat San Chao Floating Market"
          ],
          [
           "Wat Lam Phaya Floating Market"
          ],
          [
           "Wat Khao Sakae Krang"
          ],
          [
           "Wat Tha Sung"
          ],
          [
           "Wat Tha Sung"
          ],
          [
           "Wat Tha Mai"
          ],
          [
           "Wat Tha Khaek"
          ],
          [
           "Wat Tha Khaek"
          ],
          [
           "Wat Phra Kaew"
          ],
          [
           "Wat Phra That Khao Noi"
          ],
          [
           "Wat Khao Suwan Pradit"
          ],
          [
           "Wat Khao Suwan Pradit"
          ],
          [
           "Chalerm La Park"
          ],
          [
           "Kanchanaphisek Park"
          ],
          [
           "Chalerm Burapha Chonlathit"
          ],
          [
           "Chalerm Burapha Chonlathit"
          ],
          [
           "Wat Chai Phrakiat Temple"
          ],
          [
           "Wat Salak Phet Temple"
          ],
          [
           "Wat Salak Phet Temple"
          ],
          [
           "Wat Hua Wiang Tai Temple"
          ],
          [
           "Wat Hua Wiang Tai Temple"
          ],
          [
           "Wat Anu Banpot"
          ],
          [
           "Chaithararam Temple (Wat Chalong)"
          ],
          [
           "Wat Sri Suphan"
          ],
          [
           "Wat Sri Suphan"
          ],
          [
           "Wat Sri Suphan"
          ],
          [
           "Wat Sri Sawai"
          ],
          [
           "Wat Sri Sawai"
          ],
          [
           "Wat Sri Sawai"
          ],
          [
           "Wat Sri Sawai"
          ],
          [
           "Wat Thung Sri Muang"
          ],
          [
           "Wat Thung Sri Muang"
          ],
          [
           "Wat Sri Uthumporn"
          ],
          [
           "Wat Sri Sunthon (Wat Lipon)"
          ],
          [
           "Wat Sri Sunthon (Wat Lipon)"
          ],
          [
           "Wat Sri Chum"
          ],
          [
           "Big Buddha Temple (Wat Phra Yai)"
          ],
          [
           "Phra Si Ratana Temple (Wat Yai)"
          ],
          [
           "Wang Takrai Park"
          ],
          [
           "Khun Wang Royal Project"
          ],
          [
           "Mae Wang Elephant Camp"
          ],
          [
           "Wang Sai Thong Waterfall"
          ],
          [
           "Wat Chotikaram"
          ],
          [
           "Wat Saphan Hin"
          ],
          [
           "Wat Saphan Hin"
          ],
          [
           "Wat Phra Non"
          ],
          [
           "Wat Phra Non"
          ],
          [
           "Wat Phra That Lampang Luang"
          ],
          [
           "Wat Amphawan Chetiyaram"
          ],
          [
           "Wat Bang Khae Noi"
          ],
          [
           "Rak Screen Golf"
          ],
          [
           "Rak Screen Golf"
          ],
          [
           "Ko Racha Noi"
          ],
          [
           "Le Lek Bang Rak"
          ],
          [
           "Le Lek Bang Rak"
          ],
          [
           "Wat Prang Luang"
          ],
          [
           "Wat Luang Phor Toh"
          ],
          [
           "Choeng Mon Beach"
          ],
          [
           "Wat Krieng Krai Klang"
          ],
          [
           "Wat Klang Wiang"
          ],
          [
           "Prasat Wat Sa Kamphaeng Yai"
          ],
          [
           "Prasat Puay Noi"
          ]
         ],
         "hovertemplate": "place_name=%{x}<br>predicted_score=%{y}<br>location_name=%{customdata[0]}<extra></extra>",
         "legendgroup": "Nonthaburi",
         "marker": {
          "color": "#EF553B",
          "symbol": "circle"
         },
         "mode": "markers",
         "name": "Nonthaburi",
         "showlegend": true,
         "type": "scattergl",
         "x": [
          "Nonthaburi",
          "Nonthaburi",
          "Nonthaburi",
          "Nonthaburi",
          "Nonthaburi",
          "Nonthaburi",
          "Nonthaburi",
          "Nonthaburi",
          "Nonthaburi",
          "Nonthaburi",
          "Nonthaburi",
          "Nonthaburi",
          "Nonthaburi",
          "Nonthaburi",
          "Nonthaburi",
          "Nonthaburi",
          "Nonthaburi",
          "Nonthaburi",
          "Nonthaburi",
          "Nonthaburi",
          "Nonthaburi",
          "Nonthaburi",
          "Nonthaburi",
          "Nonthaburi",
          "Nonthaburi",
          "Nonthaburi",
          "Nonthaburi",
          "Nonthaburi",
          "Nonthaburi",
          "Nonthaburi",
          "Nonthaburi",
          "Nonthaburi",
          "Nonthaburi",
          "Nonthaburi",
          "Nonthaburi",
          "Nonthaburi",
          "Nonthaburi",
          "Nonthaburi",
          "Nonthaburi",
          "Nonthaburi",
          "Nonthaburi",
          "Nonthaburi",
          "Nonthaburi",
          "Nonthaburi",
          "Nonthaburi",
          "Nonthaburi",
          "Nonthaburi",
          "Nonthaburi",
          "Nonthaburi",
          "Nonthaburi",
          "Nonthaburi",
          "Nonthaburi",
          "Nonthaburi",
          "Nonthaburi",
          "Nonthaburi",
          "Nonthaburi",
          "Nonthaburi",
          "Nonthaburi",
          "Nonthaburi",
          "Nonthaburi",
          "Nonthaburi",
          "Nonthaburi",
          "Nonthaburi",
          "Nonthaburi",
          "Nonthaburi",
          "Nonthaburi",
          "Nonthaburi",
          "Nonthaburi",
          "Nonthaburi",
          "Nonthaburi",
          "Nonthaburi",
          "Nonthaburi",
          "Nonthaburi",
          "Nonthaburi",
          "Nonthaburi",
          "Nonthaburi",
          "Nonthaburi",
          "Nonthaburi",
          "Nonthaburi",
          "Nonthaburi",
          "Nonthaburi",
          "Nonthaburi",
          "Nonthaburi",
          "Nonthaburi",
          "Nonthaburi",
          "Nonthaburi",
          "Nonthaburi",
          "Nonthaburi",
          "Nonthaburi",
          "Nonthaburi",
          "Nonthaburi",
          "Nonthaburi",
          "Nonthaburi",
          "Nonthaburi",
          "Nonthaburi",
          "Nonthaburi",
          "Nonthaburi",
          "Nonthaburi",
          "Nonthaburi",
          "Nonthaburi",
          "Nonthaburi",
          "Nonthaburi",
          "Nonthaburi",
          "Nonthaburi",
          "Nonthaburi",
          "Nonthaburi",
          "Nonthaburi",
          "Nonthaburi",
          "Nonthaburi",
          "Nonthaburi",
          "Nonthaburi",
          "Nonthaburi",
          "Nonthaburi",
          "Nonthaburi",
          "Nonthaburi",
          "Nonthaburi",
          "Nonthaburi",
          "Nonthaburi",
          "Nonthaburi",
          "Nonthaburi",
          "Nonthaburi",
          "Nonthaburi",
          "Nonthaburi",
          "Nonthaburi",
          "Nonthaburi",
          "Nonthaburi",
          "Nonthaburi",
          "Nonthaburi",
          "Nonthaburi",
          "Nonthaburi",
          "Nonthaburi"
         ],
         "xaxis": "x",
         "y": [
          2.6996939182281494,
          3.4994654655456543,
          3.0996804237365723,
          1.2002246379852295,
          2.500140905380249,
          2.8007826805114746,
          3.3004257678985596,
          2.500140905380249,
          2.900212526321411,
          2.900212526321411,
          2.003434896469116,
          2.2009427547454834,
          2.6996939182281494,
          3.698312520980835,
          2.900212526321411,
          2.497049570083618,
          2.6996939182281494,
          2.6996939182281494,
          2.39943790435791,
          2.003434896469116,
          1.9996305704116821,
          2.6996939182281494,
          2.900212526321411,
          8.497298240661621,
          2.6996939182281494,
          2.8957371711730957,
          2.900212526321411,
          1.9996305704116821,
          2.6996939182281494,
          2.900212526321411,
          2.0970914363861084,
          2.500140905380249,
          1.4999604225158691,
          2.500140905380249,
          3.899764060974121,
          2.2009427547454834,
          2.2009427547454834,
          3.1998956203460693,
          2.6996939182281494,
          2.6996939182281494,
          2.500140905380249,
          2.900212526321411,
          3.4005353450775146,
          2.2009427547454834,
          1.9004533290863037,
          2.2009427547454834,
          2.900212526321411,
          1.4999604225158691,
          1.9996305704116821,
          1.9004533290863037,
          1.6987276077270508,
          2.500140905380249,
          3.1998956203460693,
          2.799882411956787,
          2.2009427547454834,
          3.0996804237365723,
          2.39943790435791,
          2.6996939182281494,
          2.600679874420166,
          2.6996939182281494,
          2.799882411956787,
          2.497049570083618,
          2.500140905380249,
          2.8007826805114746,
          1.499123215675354,
          3.1998956203460693,
          3.1998956203460693,
          0.4999425411224365,
          0.9992106556892395,
          1.9004533290863037,
          3.0002808570861816,
          1.9996305704116821,
          3.0002808570861816,
          3.0002808570861816,
          2.500140905380249,
          1.9004533290863037,
          2.4828145503997803,
          2.500140905380249,
          1.4999604225158691,
          2.900212526321411,
          2.6996939182281494,
          2.8007826805114746,
          1.9996305704116821,
          2.2009427547454834,
          1.0007883310317993,
          3.0002808570861816,
          2.6996939182281494,
          2.2009427547454834,
          2.2009427547454834,
          2.2009427547454834,
          2.3019840717315674,
          9.157496452331543,
          2.6996939182281494,
          2.6996939182281494,
          2.500140905380249,
          3.3004257678985596,
          2.300997734069824,
          2.2009427547454834,
          2.900212526321411,
          2.39943790435791,
          1.9996305704116821,
          2.6996939182281494,
          3.4994654655456543,
          2.39943790435791,
          1.9996305704116821,
          2.6996939182281494,
          3.8023650646209717,
          2.7012834548950195,
          2.6996939182281494,
          2.799882411956787,
          2.799882411956787,
          2.900212526321411,
          2.2009427547454834,
          2.500140905380249,
          1.4999604225158691,
          2.2009427547454834,
          1.4999604225158691,
          57.49932861328125,
          2.6996939182281494,
          2.799882411956787,
          2.799882411956787,
          2.500140905380249,
          2.6996939182281494,
          2.6996939182281494,
          2.39943790435791,
          2.2009427547454834,
          2.2009427547454834,
          2.39943790435791,
          3.0002808570861816,
          2.300997734069824,
          2.39943790435791
         ],
         "yaxis": "y"
        },
        {
         "customdata": [
          [
           "Dream World"
          ],
          [
           "Wat Nong Hoi"
          ],
          [
           "Thai Airways Market"
          ],
          [
           "Wat Bot"
          ],
          [
           "Wat Bot Muang"
          ],
          [
           "Ban Khlong Luek Border Market"
          ],
          [
           "Wat Phai Rong Wua"
          ],
          [
           "Wat Thap Kradan"
          ],
          [
           "Chao Mae Song Nang Phi Nong Shrine"
          ],
          [
           "Wat Nong Pah Pong"
          ],
          [
           "Wat Nong Pah Pong"
          ],
          [
           "Wat Phra That Nong Bua"
          ],
          [
           "Wat Phra That Nong Bua"
          ],
          [
           "Wat Sala Loi"
          ],
          [
           "Wat Chao Fa Sala Loi"
          ],
          [
           "Wat Phra Bat Pupha Daeng"
          ],
          [
           "Wat Maha That Temple"
          ],
          [
           "Wat Maha That Temple"
          ],
          [
           "Wat Maha Phuttharam"
          ],
          [
           "Wat Maha But Temple - Mae Nak Shrine"
          ],
          [
           "Wat Phra Si Ratana Maha That"
          ],
          [
           "Wat Phra Si Ratana Maha That"
          ],
          [
           "Wat Maha That"
          ],
          [
           "Wat Maha That"
          ],
          [
           "Wat Suwan Khiri Khet"
          ],
          [
           "Krom Luang Chumphon Khet Udomsak Royal Palace"
          ],
          [
           "Krom Luang Chumphon Khet Udomsak Royal Palace"
          ],
          [
           "Krom Luang Chumphon Khet Udomsak Royal Palace"
          ],
          [
           "Wat Chang Hai Rat Buranaram"
          ],
          [
           "Wat Pa Non Sawan"
          ],
          [
           "Wat Pa Non Sawan"
          ],
          [
           "Wat Pa Non Sawan"
          ],
          [
           "Wat Koh Klang"
          ],
          [
           "Wat Pha Nam Yoi - Isaan Buddhist Park"
          ],
          [
           "Wat Nam Hoo"
          ],
          [
           "Wat Phumin"
          ],
          [
           "Wat Chang Lom"
          ],
          [
           "Wat Chang Rop"
          ],
          [
           "Wat Chang Rop"
          ],
          [
           "Wat Chang Taem"
          ],
          [
           "Wat Bowonniwet Vihara"
          ],
          [
           "Wat Bowonniwet Vihara"
          ],
          [
           "Wat Phai Lom"
          ],
          [
           "Wat Phai Lom"
          ],
          [
           "City Pillar Of Chanthaburi"
          ],
          [
           "City Pillar Of Chanthaburi"
          ],
          [
           "Wat Bua Khwan"
          ],
          [
           "Wat Leng Nei Yi 2"
          ],
          [
           "Wat Leng Nei Yi 2"
          ],
          [
           "Wat Nong Bua"
          ],
          [
           "Wat Nong Bua"
          ],
          [
           "Wat Okat Si Bua Ban"
          ],
          [
           "Wat Tham Suwannakhuha"
          ],
          [
           "Sing Sing Theater"
          ],
          [
           "Wat Phrai Phatthana"
          ],
          [
           "Tha Phae Gate"
          ],
          [
           "Khao Lak Elephant Home"
          ],
          [
           "Khao Lak Elephant Home"
          ],
          [
           "Mai Khao Beach"
          ],
          [
           "Mai Khao Beach"
          ],
          [
           "Mai Khao Beach"
          ],
          [
           "Khao Yai National Park"
          ],
          [
           "Khao Chamao Khao Wong National Park"
          ],
          [
           "Khao Chamao Khao Wong National Park"
          ],
          [
           "The National Memorial"
          ]
         ],
         "hovertemplate": "place_name=%{x}<br>predicted_score=%{y}<br>location_name=%{customdata[0]}<extra></extra>",
         "legendgroup": "Pathum Thani",
         "marker": {
          "color": "#00cc96",
          "symbol": "circle"
         },
         "mode": "markers",
         "name": "Pathum Thani",
         "showlegend": true,
         "type": "scattergl",
         "x": [
          "Pathum Thani",
          "Pathum Thani",
          "Pathum Thani",
          "Pathum Thani",
          "Pathum Thani",
          "Pathum Thani",
          "Pathum Thani",
          "Pathum Thani",
          "Pathum Thani",
          "Pathum Thani",
          "Pathum Thani",
          "Pathum Thani",
          "Pathum Thani",
          "Pathum Thani",
          "Pathum Thani",
          "Pathum Thani",
          "Pathum Thani",
          "Pathum Thani",
          "Pathum Thani",
          "Pathum Thani",
          "Pathum Thani",
          "Pathum Thani",
          "Pathum Thani",
          "Pathum Thani",
          "Pathum Thani",
          "Pathum Thani",
          "Pathum Thani",
          "Pathum Thani",
          "Pathum Thani",
          "Pathum Thani",
          "Pathum Thani",
          "Pathum Thani",
          "Pathum Thani",
          "Pathum Thani",
          "Pathum Thani",
          "Pathum Thani",
          "Pathum Thani",
          "Pathum Thani",
          "Pathum Thani",
          "Pathum Thani",
          "Pathum Thani",
          "Pathum Thani",
          "Pathum Thani",
          "Pathum Thani",
          "Pathum Thani",
          "Pathum Thani",
          "Pathum Thani",
          "Pathum Thani",
          "Pathum Thani",
          "Pathum Thani",
          "Pathum Thani",
          "Pathum Thani",
          "Pathum Thani",
          "Pathum Thani",
          "Pathum Thani",
          "Pathum Thani",
          "Pathum Thani",
          "Pathum Thani",
          "Pathum Thani",
          "Pathum Thani",
          "Pathum Thani",
          "Pathum Thani",
          "Pathum Thani",
          "Pathum Thani",
          "Pathum Thani"
         ],
         "xaxis": "x",
         "y": [
          2.6996939182281494,
          2.900212526321411,
          1.9996305704116821,
          2.39943790435791,
          0.8998897671699524,
          3.0002808570861816,
          2.2009427547454834,
          2.900212526321411,
          2.900212526321411,
          1.9996305704116821,
          2.9999775886535645,
          2.500140905380249,
          3.0002808570861816,
          2.2009427547454834,
          1.9996305704116821,
          2.6996939182281494,
          3.8023650646209717,
          2.6996939182281494,
          2.900212526321411,
          2.500140905380249,
          2.2009427547454834,
          3.3004257678985596,
          2.39943790435791,
          2.39943790435791,
          2.9999775886535645,
          2.497049570083618,
          2.6996939182281494,
          2.39943790435791,
          3.298584461212158,
          2.9999775886535645,
          2.6996939182281494,
          2.497049570083618,
          2.6996939182281494,
          2.6996939182281494,
          1.4999604225158691,
          2.6996939182281494,
          2.7012834548950195,
          2.600679874420166,
          2.6996939182281494,
          1.9996305704116821,
          2.7012834548950195,
          2.497049570083618,
          2.2009427547454834,
          1.499123215675354,
          1.4999604225158691,
          2.900212526321411,
          2.2009427547454834,
          2.6996939182281494,
          2.500140905380249,
          1.4999604225158691,
          1.9996305704116821,
          3.4994654655456543,
          2.900212526321411,
          2.6996939182281494,
          2.600679874420166,
          2.900212526321411,
          2.500140905380249,
          2.500140905380249,
          2.900212526321411,
          2.6996939182281494,
          2.2009427547454834,
          2.6996939182281494,
          3.0996804237365723,
          2.39943790435791,
          3.0996804237365723
         ],
         "yaxis": "y"
        },
        {
         "customdata": [
          [
           "Ayutthaya City Park"
          ],
          [
           "Ayutthaya Boat & Travel"
          ],
          [
           "Ayutthaya Boat & Travel"
          ],
          [
           "Ayutthaya National Art Museum"
          ],
          [
           "Ayutthaya Historical Study Centre"
          ],
          [
           "Ayutthaya Historical Park"
          ],
          [
           "Ayutthaya Tourism Centre"
          ],
          [
           "Ayutthaya Tourism Centre"
          ],
          [
           "Wat Pha To Ban Pak Sang"
          ],
          [
           "Wat Phra That Mae Yen"
          ],
          [
           "Wat Phra That Mae Yen"
          ],
          [
           "Nang Phaya Temple (Wat Nang Phaya)"
          ],
          [
           "Nang Phaya Temple (Wat Nang Phaya)"
          ],
          [
           "Wat Chong Kham"
          ],
          [
           "Wat Chong Kham"
          ],
          [
           "Wat Chong Kham"
          ],
          [
           "Kad Kong Ta Street Market"
          ],
          [
           "Kad Kong Ta Street Market"
          ],
          [
           "Hin Lad Waterfall"
          ],
          [
           "Lad Koh View Point"
          ],
          [
           "Lad Koh View Point"
          ],
          [
           "Wat Tham Khao Pun"
          ],
          [
           "Wat Suwan Kuha (Cave Temple)"
          ],
          [
           "Wat Thammikarat"
          ],
          [
           "Wat Thammikarat"
          ],
          [
           "Wat Thammikarat"
          ],
          [
           "Wat Rai Khing"
          ],
          [
           "Wat Samphran"
          ],
          [
           "Wat Samphran"
          ],
          [
           "Baan Hollanda"
          ],
          [
           "Baan Hollanda"
          ],
          [
           "Baan Dam Museum"
          ],
          [
           "Baan Sabai Massage Center"
          ],
          [
           "Baan Silapin"
          ],
          [
           "Baan Silapin"
          ],
          [
           "Baan Thai massage"
          ],
          [
           "Baan Tiew"
          ],
          [
           "Baan Sillapin Artists Village"
          ],
          [
           "Baan Sillapin Artists Village"
          ],
          [
           "Baan Sillapin Artists Village"
          ],
          [
           "Phra Mahathat Woramaha Wiharn"
          ],
          [
           "Phra Mahathat Woramaha Wiharn"
          ],
          [
           "Phra Mahathat Woramaha Wiharn"
          ],
          [
           "Phra Mahathat Woramaha Wiharn"
          ],
          [
           "Phra Thinang Aisawan Thiphta-Art"
          ],
          [
           "Phra Thinang Aisawan Thiphta-Art"
          ],
          [
           "Phra Thinang Wehart Chamrun"
          ],
          [
           "Phra Thinang Wehart Chamrun"
          ],
          [
           "Bang Pa-In Railway Station"
          ],
          [
           "Royal Bang Pa-in Golf Club"
          ],
          [
           "Phra Thinang Uthayan Phumisathian"
          ],
          [
           "Samui Elephant Sanctuary"
          ],
          [
           "Samui Elephant Sanctuary"
          ],
          [
           "Elephant Rescue Park"
          ],
          [
           "Elephant Rescue Park"
          ],
          [
           "Wat Yai Suwannaram"
          ],
          [
           "Wat Yai Suwannaram"
          ],
          [
           "Wat Phra Ngam"
          ],
          [
           "Wat Kudidao"
          ],
          [
           "King Naresuan Monument"
          ],
          [
           "King Naresuan The Great Shrine"
          ],
          [
           "King Naresuan The Great Shrine"
          ],
          [
           "Phra Si Ratana Chedi"
          ],
          [
           "Phra Chedi Si Suriyothai"
          ],
          [
           "Phra Chedi Si Suriyothai"
          ],
          [
           "Wat Phra Nang Sang"
          ],
          [
           "Kui Buri National Park"
          ],
          [
           "Wat Chumphon Khiri"
          ],
          [
           "Wat Chumphon Khiri"
          ],
          [
           "Wat Kaew Pra Seart"
          ],
          [
           "Mu Ko Chumphon National Park"
          ],
          [
           "Mu Ko Chumphon National Park"
          ],
          [
           "Chumphon Fishing Resort Thailand"
          ],
          [
           "Khun Korn Waterfall"
          ],
          [
           "Khun Chang Khian"
          ],
          [
           "Khun Chang Khian"
          ],
          [
           "Khun Chang Khian"
          ],
          [
           "Khun Dan Prakan Chon Dam"
          ],
          [
           "Khun Si Waterfall"
          ],
          [
           "Khun Si Waterfall"
          ],
          [
           "Wat Khun Chan"
          ],
          [
           "Wat Khun Inthapramun"
          ],
          [
           "Doi Khun Tan National Park"
          ],
          [
           "King Mengrai Monument"
          ],
          [
           "King Mengrai Monument"
          ],
          [
           "King Mengrai Monument"
          ],
          [
           "Three Kings Monument"
          ],
          [
           "Prasat Hin Phanom Wan"
          ],
          [
           "Prasat Hin Phanom Wan"
          ],
          [
           "Ban Prasat Archaeological Site"
          ],
          [
           "Ban Prasat Archaeological Site"
          ],
          [
           "Ban Prasat Archaeological Site"
          ],
          [
           "Wat Muen Tum"
          ],
          [
           "Prasat Hin Mueang Tum"
          ],
          [
           "Tum Massage"
          ],
          [
           "Somdet Phra Srinakarindra Park Roi Et"
          ],
          [
           "Somdet Phra Srinakarindra Park Roi Et"
          ],
          [
           "Somdet Phra Si Nakharin Park"
          ],
          [
           "Wat Ram Poeng"
          ],
          [
           "Wat Khun Thai Tha Ram Temple"
          ],
          [
           "Thung Bua Chom Floating Market"
          ],
          [
           "ตลาดน้ำทุ่งบัวแดง"
          ],
          [
           "Chado Cliff Viewpoint"
          ],
          [
           "St. Joseph's Church"
          ],
          [
           "St. Joseph's Church"
          ],
          [
           "St. Joseph's Church"
          ],
          [
           "Mon Bridge"
          ],
          [
           "Si Satchanalai Historical Park"
          ],
          [
           "Si Lanna National Park"
          ],
          [
           "Sunday Night Market"
          ],
          [
           "Sunday Night Market"
          ],
          [
           "Ploen Ruedee Night Market"
          ],
          [
           "Jing Jai Market"
          ],
          [
           "Jao Mae Tub Tim Shrine"
          ],
          [
           "Jao Mae Tub Tim Shrine"
          ],
          [
           "Soi Cowboy"
          ],
          [
           "Soi Cowboy"
          ],
          [
           "Chao Mae Tomo Shrine"
          ],
          [
           "Chao Mae Tubtim Thong Shrine"
          ],
          [
           "Chao Mae Tubtim Thong Shrine"
          ],
          [
           "Chao Mae Tubtim Thong Shrine"
          ],
          [
           "Phra Mae Ya Shrine"
          ],
          [
           "Wat Pha Lat Monk's Trail"
          ],
          [
           "Wat Pha Lat Monk's Trail"
          ],
          [
           "Thai Boat Museum"
          ],
          [
           "The National Museum Bangkok"
          ],
          [
           "Wat King Kaew"
          ],
          [
           "Koh Racha Yai"
          ]
         ],
         "hovertemplate": "place_name=%{x}<br>predicted_score=%{y}<br>location_name=%{customdata[0]}<extra></extra>",
         "legendgroup": "Phra Nakhon Si Ayutthaya",
         "marker": {
          "color": "#ab63fa",
          "symbol": "circle"
         },
         "mode": "markers",
         "name": "Phra Nakhon Si Ayutthaya",
         "showlegend": true,
         "type": "scattergl",
         "x": [
          "Phra Nakhon Si Ayutthaya",
          "Phra Nakhon Si Ayutthaya",
          "Phra Nakhon Si Ayutthaya",
          "Phra Nakhon Si Ayutthaya",
          "Phra Nakhon Si Ayutthaya",
          "Phra Nakhon Si Ayutthaya",
          "Phra Nakhon Si Ayutthaya",
          "Phra Nakhon Si Ayutthaya",
          "Phra Nakhon Si Ayutthaya",
          "Phra Nakhon Si Ayutthaya",
          "Phra Nakhon Si Ayutthaya",
          "Phra Nakhon Si Ayutthaya",
          "Phra Nakhon Si Ayutthaya",
          "Phra Nakhon Si Ayutthaya",
          "Phra Nakhon Si Ayutthaya",
          "Phra Nakhon Si Ayutthaya",
          "Phra Nakhon Si Ayutthaya",
          "Phra Nakhon Si Ayutthaya",
          "Phra Nakhon Si Ayutthaya",
          "Phra Nakhon Si Ayutthaya",
          "Phra Nakhon Si Ayutthaya",
          "Phra Nakhon Si Ayutthaya",
          "Phra Nakhon Si Ayutthaya",
          "Phra Nakhon Si Ayutthaya",
          "Phra Nakhon Si Ayutthaya",
          "Phra Nakhon Si Ayutthaya",
          "Phra Nakhon Si Ayutthaya",
          "Phra Nakhon Si Ayutthaya",
          "Phra Nakhon Si Ayutthaya",
          "Phra Nakhon Si Ayutthaya",
          "Phra Nakhon Si Ayutthaya",
          "Phra Nakhon Si Ayutthaya",
          "Phra Nakhon Si Ayutthaya",
          "Phra Nakhon Si Ayutthaya",
          "Phra Nakhon Si Ayutthaya",
          "Phra Nakhon Si Ayutthaya",
          "Phra Nakhon Si Ayutthaya",
          "Phra Nakhon Si Ayutthaya",
          "Phra Nakhon Si Ayutthaya",
          "Phra Nakhon Si Ayutthaya",
          "Phra Nakhon Si Ayutthaya",
          "Phra Nakhon Si Ayutthaya",
          "Phra Nakhon Si Ayutthaya",
          "Phra Nakhon Si Ayutthaya",
          "Phra Nakhon Si Ayutthaya",
          "Phra Nakhon Si Ayutthaya",
          "Phra Nakhon Si Ayutthaya",
          "Phra Nakhon Si Ayutthaya",
          "Phra Nakhon Si Ayutthaya",
          "Phra Nakhon Si Ayutthaya",
          "Phra Nakhon Si Ayutthaya",
          "Phra Nakhon Si Ayutthaya",
          "Phra Nakhon Si Ayutthaya",
          "Phra Nakhon Si Ayutthaya",
          "Phra Nakhon Si Ayutthaya",
          "Phra Nakhon Si Ayutthaya",
          "Phra Nakhon Si Ayutthaya",
          "Phra Nakhon Si Ayutthaya",
          "Phra Nakhon Si Ayutthaya",
          "Phra Nakhon Si Ayutthaya",
          "Phra Nakhon Si Ayutthaya",
          "Phra Nakhon Si Ayutthaya",
          "Phra Nakhon Si Ayutthaya",
          "Phra Nakhon Si Ayutthaya",
          "Phra Nakhon Si Ayutthaya",
          "Phra Nakhon Si Ayutthaya",
          "Phra Nakhon Si Ayutthaya",
          "Phra Nakhon Si Ayutthaya",
          "Phra Nakhon Si Ayutthaya",
          "Phra Nakhon Si Ayutthaya",
          "Phra Nakhon Si Ayutthaya",
          "Phra Nakhon Si Ayutthaya",
          "Phra Nakhon Si Ayutthaya",
          "Phra Nakhon Si Ayutthaya",
          "Phra Nakhon Si Ayutthaya",
          "Phra Nakhon Si Ayutthaya",
          "Phra Nakhon Si Ayutthaya",
          "Phra Nakhon Si Ayutthaya",
          "Phra Nakhon Si Ayutthaya",
          "Phra Nakhon Si Ayutthaya",
          "Phra Nakhon Si Ayutthaya",
          "Phra Nakhon Si Ayutthaya",
          "Phra Nakhon Si Ayutthaya",
          "Phra Nakhon Si Ayutthaya",
          "Phra Nakhon Si Ayutthaya",
          "Phra Nakhon Si Ayutthaya",
          "Phra Nakhon Si Ayutthaya",
          "Phra Nakhon Si Ayutthaya",
          "Phra Nakhon Si Ayutthaya",
          "Phra Nakhon Si Ayutthaya",
          "Phra Nakhon Si Ayutthaya",
          "Phra Nakhon Si Ayutthaya",
          "Phra Nakhon Si Ayutthaya",
          "Phra Nakhon Si Ayutthaya",
          "Phra Nakhon Si Ayutthaya",
          "Phra Nakhon Si Ayutthaya",
          "Phra Nakhon Si Ayutthaya",
          "Phra Nakhon Si Ayutthaya",
          "Phra Nakhon Si Ayutthaya",
          "Phra Nakhon Si Ayutthaya",
          "Phra Nakhon Si Ayutthaya",
          "Phra Nakhon Si Ayutthaya",
          "Phra Nakhon Si Ayutthaya",
          "Phra Nakhon Si Ayutthaya",
          "Phra Nakhon Si Ayutthaya",
          "Phra Nakhon Si Ayutthaya",
          "Phra Nakhon Si Ayutthaya",
          "Phra Nakhon Si Ayutthaya",
          "Phra Nakhon Si Ayutthaya",
          "Phra Nakhon Si Ayutthaya",
          "Phra Nakhon Si Ayutthaya",
          "Phra Nakhon Si Ayutthaya",
          "Phra Nakhon Si Ayutthaya",
          "Phra Nakhon Si Ayutthaya",
          "Phra Nakhon Si Ayutthaya",
          "Phra Nakhon Si Ayutthaya",
          "Phra Nakhon Si Ayutthaya",
          "Phra Nakhon Si Ayutthaya",
          "Phra Nakhon Si Ayutthaya",
          "Phra Nakhon Si Ayutthaya",
          "Phra Nakhon Si Ayutthaya",
          "Phra Nakhon Si Ayutthaya",
          "Phra Nakhon Si Ayutthaya",
          "Phra Nakhon Si Ayutthaya",
          "Phra Nakhon Si Ayutthaya",
          "Phra Nakhon Si Ayutthaya",
          "Phra Nakhon Si Ayutthaya",
          "Phra Nakhon Si Ayutthaya"
         ],
         "xaxis": "x",
         "y": [
          3.899764060974121,
          2.500140905380249,
          2.6996939182281494,
          2.003434896469116,
          3.3004257678985596,
          2.900212526321411,
          2.39943790435791,
          2.300997734069824,
          2.2009427547454834,
          1.9004533290863037,
          1.4999604225158691,
          3.3004257678985596,
          2.900212526321411,
          2.39943790435791,
          2.199599027633667,
          2.2009427547454834,
          2.300997734069824,
          3.1998956203460693,
          0.4999425411224365,
          2.2009427547454834,
          2.6996939182281494,
          2.39943790435791,
          2.500140905380249,
          2.900212526321411,
          1.9004533290863037,
          1.2002246379852295,
          2.6996939182281494,
          2.2009427547454834,
          2.6996939182281494,
          1.4999604225158691,
          2.2009427547454834,
          2.6996939182281494,
          3.0002808570861816,
          3.3004257678985596,
          3.0996804237365723,
          3.0002808570861816,
          2.900212526321411,
          2.39943790435791,
          1.6987276077270508,
          2.500140905380249,
          2.500140905380249,
          2.500140905380249,
          3.0996804237365723,
          3.0996804237365723,
          2.900212526321411,
          2.500140905380249,
          1.9004533290863037,
          2.6996939182281494,
          2.39943790435791,
          2.7012834548950195,
          1.6987276077270508,
          2.6996939182281494,
          2.900212526321411,
          3.3004257678985596,
          2.6996939182281494,
          2.300997734069824,
          1.6987276077270508,
          2.7012834548950195,
          2.900212526321411,
          16.299152374267578,
          2.39943790435791,
          2.201098918914795,
          3.0002808570861816,
          1.9996305704116821,
          2.497049570083618,
          2.2009427547454834,
          1.0007883310317993,
          2.2009427547454834,
          3.1998956203460693,
          2.497049570083618,
          1.804766297340393,
          2.500140905380249,
          2.500140905380249,
          2.900212526321411,
          2.500140905380249,
          2.6996939182281494,
          3.0002808570861816,
          3.0002808570861816,
          3.899764060974121,
          3.298584461212158,
          2.799882411956787,
          2.900212526321411,
          3.3004257678985596,
          8.202415466308594,
          2.497049570083618,
          3.3004257678985596,
          10.58215045928955,
          2.799882411956787,
          2.600679874420166,
          0.7001014947891235,
          2.39943790435791,
          2.500140905380249,
          1.9004533290863037,
          2.6996939182281494,
          2.6996939182281494,
          2.900212526321411,
          2.39943790435791,
          2.39943790435791,
          2.900212526321411,
          1.9996305704116821,
          1.399895191192627,
          3.1998956203460693,
          2.6996939182281494,
          2.2009427547454834,
          2.39943790435791,
          2.9999775886535645,
          2.500140905380249,
          2.500140905380249,
          2.39943790435791,
          2.900212526321411,
          2.6996939182281494,
          2.799882411956787,
          2.6996939182281494,
          2.39943790435791,
          1.9996305704116821,
          2.2009427547454834,
          2.39943790435791,
          2.2009427547454834,
          2.3019840717315674,
          2.39943790435791,
          1.9004533290863037,
          1.804766297340393,
          2.500140905380249,
          1.9996305704116821,
          2.2009427547454834,
          2.900212526321411,
          2.8957371711730957,
          3.3004257678985596
         ],
         "yaxis": "y"
        },
        {
         "customdata": [
          [
           "Wat Sa Bua Kaeo"
          ],
          [
           "Wat Tham Khao Chakan"
          ],
          [
           "Nong Hoi Royal Project"
          ],
          [
           "Huai Luek Royal Project Development Centre"
          ],
          [
           "Huai Luek Royal Project Development Centre"
          ],
          [
           "Royal Project Khun Pae"
          ],
          [
           "Wat Tham Ta Pan Temple"
          ],
          [
           "Wat Tham Ta Pan Temple"
          ],
          [
           "Wat Phra That Doi Kong Mu"
          ],
          [
           "Farm Chokchai"
          ],
          [
           "Farm Chokchai"
          ],
          [
           "Ban Hun Lek"
          ],
          [
           "Lek Massage"
          ],
          [
           "Lek Massage Bangkok - Lek House BTS National Stadium"
          ],
          [
           "Muak Lek Waterfall"
          ],
          [
           "Muak Lek Waterfall"
          ],
          [
           "Farm de Lek"
          ],
          [
           "Bangkok Dolls"
          ],
          [
           "Jewelry Trade Center"
          ],
          [
           "BASE"
          ],
          [
           "Chao 9 Massage"
          ],
          [
           "Koh Kham Undersea"
          ],
          [
           "Koh Kham Undersea"
          ],
          [
           "Koh Kham Undersea"
          ],
          [
           "Koh Kham Undersea"
          ],
          [
           "Kham Chanod Forest"
          ],
          [
           "Wat Ban Rai"
          ],
          [
           "Diamond Cave (Tham Phra Nang Nai)"
          ],
          [
           "Wat Mongkol Wararam"
          ],
          [
           "Big Buddha at Wat Muang Temple"
          ],
          [
           "Wat Muang"
          ],
          [
           "Wat Ming Muang"
          ],
          [
           "Wat Pho Chai"
          ],
          [
           "Ang Thong Provincial City Pillar Shrine"
          ],
          [
           "Ang Thong Provincial City Pillar Shrine"
          ],
          [
           "Chula Mani Temple"
          ],
          [
           "Wat Mani Phraison"
          ],
          [
           "Wat Mani Chonlakhan"
          ],
          [
           "Nai Thon Beach"
          ],
          [
           "Koh Khai Nai"
          ],
          [
           "Asia Blue - Thong Nai Pan"
          ],
          [
           "Wat Ban Tat"
          ],
          [
           "Wat Siriuttho (Wat Kham Chanod)"
          ],
          [
           "Wat Siriuttho (Wat Kham Chanod)"
          ],
          [
           "Wat Pa Kung"
          ],
          [
           "Wat Burapha Phiram"
          ],
          [
           "Wat Sriboonreung (Wat Si Bunruang)"
          ],
          [
           "Wat Phra Thaen Sila At"
          ],
          [
           "Prasat Muang Singh Historical Park"
          ],
          [
           "Prasat Muang Singh Historical Park"
          ]
         ],
         "hovertemplate": "place_name=%{x}<br>predicted_score=%{y}<br>location_name=%{customdata[0]}<extra></extra>",
         "legendgroup": "Ang Thong",
         "marker": {
          "color": "#FFA15A",
          "symbol": "circle"
         },
         "mode": "markers",
         "name": "Ang Thong",
         "showlegend": true,
         "type": "scattergl",
         "x": [
          "Ang Thong",
          "Ang Thong",
          "Ang Thong",
          "Ang Thong",
          "Ang Thong",
          "Ang Thong",
          "Ang Thong",
          "Ang Thong",
          "Ang Thong",
          "Ang Thong",
          "Ang Thong",
          "Ang Thong",
          "Ang Thong",
          "Ang Thong",
          "Ang Thong",
          "Ang Thong",
          "Ang Thong",
          "Ang Thong",
          "Ang Thong",
          "Ang Thong",
          "Ang Thong",
          "Ang Thong",
          "Ang Thong",
          "Ang Thong",
          "Ang Thong",
          "Ang Thong",
          "Ang Thong",
          "Ang Thong",
          "Ang Thong",
          "Ang Thong",
          "Ang Thong",
          "Ang Thong",
          "Ang Thong",
          "Ang Thong",
          "Ang Thong",
          "Ang Thong",
          "Ang Thong",
          "Ang Thong",
          "Ang Thong",
          "Ang Thong",
          "Ang Thong",
          "Ang Thong",
          "Ang Thong",
          "Ang Thong",
          "Ang Thong",
          "Ang Thong",
          "Ang Thong",
          "Ang Thong",
          "Ang Thong",
          "Ang Thong"
         ],
         "xaxis": "x",
         "y": [
          3.0002808570861816,
          2.6996939182281494,
          3.0996804237365723,
          1.9996305704116821,
          1.4999604225158691,
          3.1998956203460693,
          3.591982126235962,
          1.9996305704116821,
          2.600679874420166,
          1.6987276077270508,
          2.6996939182281494,
          2.500140905380249,
          2.500140905380249,
          1.2006566524505615,
          2.9999775886535645,
          1.6987276077270508,
          3.4994654655456543,
          2.500140905380249,
          3.1998956203460693,
          2.6996939182281494,
          0.7001014947891235,
          0.4999425411224365,
          2.500140905380249,
          1.6021475791931152,
          3.1998956203460693,
          2.900212526321411,
          2.500140905380249,
          2.003434896469116,
          2.8007826805114746,
          2.500140905380249,
          2.6996939182281494,
          2.500140905380249,
          2.6996939182281494,
          2.900212526321411,
          2.900212526321411,
          2.600679874420166,
          2.300997734069824,
          1.4999604225158691,
          2.6996939182281494,
          1.9004533290863037,
          2.6996939182281494,
          2.3945329189300537,
          2.39943790435791,
          2.500140905380249,
          2.500140905380249,
          2.2009427547454834,
          2.600679874420166,
          2.500140905380249,
          2.600679874420166,
          2.497049570083618
         ],
         "yaxis": "y"
        },
        {
         "customdata": [
          [
           "Ban Ta Klang Elephant Village"
          ],
          [
           "Maenam Beach"
          ],
          [
           "Mengrai Kilns"
          ],
          [
           "Phrom Lok Waterfall"
          ],
          [
           "Phrom Lok Waterfall"
          ],
          [
           "Lek Massage Bangkok - BTS Phrom Phong"
          ],
          [
           "Lek Massage Bangkok - BTS Phrom Phong"
          ],
          [
           "Asia Herb Association - Phrom Phong Shop"
          ],
          [
           "Wat Phrathat Chae Haeng"
          ],
          [
           "Wat Phrathat Chae Haeng"
          ],
          [
           "Wat Phrathat Chang Kham Worawihan"
          ],
          [
           "Ban Rachan Old-Style Market"
          ],
          [
           "Phrathat Bang Phuan"
          ],
          [
           "Khai Nok Island"
          ],
          [
           "Wat Sawang Arom (Wat Tham Sri Thon )"
          ],
          [
           "Shadow Play House of Suchat Sapsin"
          ],
          [
           "Phra Buddha Chinnarat"
          ],
          [
           "Kaeng Khud Khu"
          ],
          [
           "Muang Khu Bua Ancient Remains"
          ],
          [
           "Wat Buppharam or Wat Plai Klong"
          ],
          [
           "Wat Buppharam or Wat Plai Klong"
          ],
          [
           "Wat Bang Riang"
          ],
          [
           "Bann Kang Wat"
          ],
          [
           "Wat Phra Prang and Ancient Kilns"
          ],
          [
           "Phra Prang Sam Yot"
          ],
          [
           "Phra Prang Sam Yot"
          ],
          [
           "Tung Bua Tong Forest Park Doi Mae Mae Ukho"
          ]
         ],
         "hovertemplate": "place_name=%{x}<br>predicted_score=%{y}<br>location_name=%{customdata[0]}<extra></extra>",
         "legendgroup": "Sing Buri",
         "marker": {
          "color": "#19d3f3",
          "symbol": "circle"
         },
         "mode": "markers",
         "name": "Sing Buri",
         "showlegend": true,
         "type": "scattergl",
         "x": [
          "Sing Buri",
          "Sing Buri",
          "Sing Buri",
          "Sing Buri",
          "Sing Buri",
          "Sing Buri",
          "Sing Buri",
          "Sing Buri",
          "Sing Buri",
          "Sing Buri",
          "Sing Buri",
          "Sing Buri",
          "Sing Buri",
          "Sing Buri",
          "Sing Buri",
          "Sing Buri",
          "Sing Buri",
          "Sing Buri",
          "Sing Buri",
          "Sing Buri",
          "Sing Buri",
          "Sing Buri",
          "Sing Buri",
          "Sing Buri",
          "Sing Buri",
          "Sing Buri",
          "Sing Buri"
         ],
         "xaxis": "x",
         "y": [
          2.199599027633667,
          2.799882411956787,
          2.500140905380249,
          3.1998956203460693,
          1.3009003400802612,
          1.2002246379852295,
          2.500140905380249,
          1.2002246379852295,
          2.6996939182281494,
          2.500140905380249,
          1.9004533290863037,
          3.4005353450775146,
          2.199599027633667,
          1.298903465270996,
          2.2009427547454834,
          2.900212526321411,
          2.6996939182281494,
          0.799848198890686,
          2.6996939182281494,
          1.9996305704116821,
          2.6996939182281494,
          3.1071932315826416,
          2.2009427547454834,
          2.2009427547454834,
          0.4999425411224365,
          1.9996305704116821,
          2.900212526321411
         ],
         "yaxis": "y"
        },
        {
         "customdata": [
          [
           "Chainat bird park"
          ],
          [
           "Chainat bird park"
          ],
          [
           "Phuket Bird Park"
          ],
          [
           "Wat Tham Khao Rup Chang"
          ],
          [
           "Wat Khao Tham"
          ],
          [
           "Wat Lak Si Rat Samoson"
          ],
          [
           "Wat Phra Borommathat Chediyaram"
          ],
          [
           "Samma Karuna"
          ],
          [
           "Tukcom - Chon Buri"
          ],
          [
           "Nong Nooch Tropical Botanical Garden"
          ],
          [
           "Koh Larn"
          ],
          [
           "Koh Larn"
          ],
          [
           "Koh Larn"
          ],
          [
           "Pai Plong Beach"
          ],
          [
           "Pai Plong Beach"
          ],
          [
           "Chiang Chom Temple (Wat Chedi Plong Pagoda)"
          ],
          [
           "Chiang Chom Temple (Wat Chedi Plong Pagoda)"
          ],
          [
           "Boat Avenue Villa Market"
          ],
          [
           "Chan Chala Night Market"
          ],
          [
           "Wat Phra Singh"
          ],
          [
           "Wat Nuan Chan"
          ],
          [
           "The Wora Spa Hua Hin"
          ]
         ],
         "hovertemplate": "place_name=%{x}<br>predicted_score=%{y}<br>location_name=%{customdata[0]}<extra></extra>",
         "legendgroup": "Chai Nat",
         "marker": {
          "color": "#FF6692",
          "symbol": "circle"
         },
         "mode": "markers",
         "name": "Chai Nat",
         "showlegend": true,
         "type": "scattergl",
         "x": [
          "Chai Nat",
          "Chai Nat",
          "Chai Nat",
          "Chai Nat",
          "Chai Nat",
          "Chai Nat",
          "Chai Nat",
          "Chai Nat",
          "Chai Nat",
          "Chai Nat",
          "Chai Nat",
          "Chai Nat",
          "Chai Nat",
          "Chai Nat",
          "Chai Nat",
          "Chai Nat",
          "Chai Nat",
          "Chai Nat",
          "Chai Nat",
          "Chai Nat",
          "Chai Nat",
          "Chai Nat"
         ],
         "xaxis": "x",
         "y": [
          2.0970914363861084,
          2.497049570083618,
          1.9996305704116821,
          2.799882411956787,
          3.298584461212158,
          1.9996305704116821,
          3.0002808570861816,
          2.799882411956787,
          2.39943790435791,
          2.2009427547454834,
          1.9004533290863037,
          2.2009427547454834,
          1.9996305704116821,
          1.9996305704116821,
          2.39943790435791,
          3.3004257678985596,
          2.6996939182281494,
          2.500140905380249,
          2.7012834548950195,
          2.300997734069824,
          2.6996939182281494,
          2.6996939182281494
         ],
         "yaxis": "y"
        },
        {
         "customdata": [
          [
           "Wat Jetiyakhiri (Wat Phu Thok)"
          ],
          [
           "Phra That Cave"
          ],
          [
           "Phra That Cave"
          ],
          [
           "Namtok Chet Sao Noi National Park"
          ],
          [
           "Tham Kra Sae Bridge"
          ],
          [
           "Tham Khao Luang Cave"
          ],
          [
           "Market Village HuaHin"
          ],
          [
           "Market Village HuaHin"
          ],
          [
           "Cicada Market"
          ],
          [
           "Hua Hin Sam Phan Nam Floating Market"
          ],
          [
           "Chatchai Market"
          ],
          [
           "Chatchai Market"
          ],
          [
           "Hua Hin Floating Market"
          ],
          [
           "Namtok Phlio National Park"
          ],
          [
           "Namtok Phlio National Park"
          ],
          [
           "Namtok Ngao National Park"
          ],
          [
           "Namtok Ngao National Park"
          ],
          [
           "Namtok Yong National Park"
          ],
          [
           "Khao Yoi Cave"
          ],
          [
           "Khao Mai Kaew Cave"
          ],
          [
           "Khao Mai Kaew Cave"
          ],
          [
           "Khao Luk Chang Bat Cave"
          ],
          [
           "Wat Phra Phutthabat Tak Pha"
          ],
          [
           "Wat Phra Phutthabat Tak Pha"
          ],
          [
           "Khao Sam Lan National Park"
          ],
          [
           "Khao Sam Roi Yot National Park"
          ],
          [
           "Khao Khitchakut National Park"
          ],
          [
           "Khao Luang National Park"
          ],
          [
           "Khao Phanom Bencha National Park"
          ],
          [
           "Cheow Lan Lake Khao Sok National Park"
          ],
          [
           "Wat Pra Dhat Pha-Ngao"
          ],
          [
           "Sea Farming Demonstration Unit"
          ],
          [
           "Sea Farming Demonstration Unit"
          ],
          [
           "Sea Farming Demonstration Unit"
          ],
          [
           "Sub Lek Reservoir"
          ],
          [
           "Namtok Ton Nga Chang"
          ],
          [
           "Namtok Ton Nga Chang"
          ],
          [
           "Namtok Ton Nga Chang"
          ],
          [
           "Namtok Inthason"
          ],
          [
           "Bua Thong Waterfalls (Nam Phu Chet Si)"
          ],
          [
           "Namtok Sarika waterfall"
          ],
          [
           "Namtok Sai Rung"
          ],
          [
           "Namtok Sai Rung"
          ],
          [
           "Sunflower Field"
          ],
          [
           "Manee Sorn Sunflower Field"
          ],
          [
           "Sunflower Field"
          ],
          [
           "Khao Jeen Lae Sunflower Field"
          ],
          [
           "Wat Tham Chiang Dao Temple"
          ],
          [
           "Cave Dao"
          ],
          [
           "Khao Kob Cave"
          ],
          [
           "Than Sadet Waterfall National Park"
          ],
          [
           "Huai Rap Sadet Waterfall"
          ],
          [
           "Huai Rap Sadet Waterfall"
          ],
          [
           "Pha Chor"
          ],
          [
           "Pha Chor"
          ],
          [
           "Pha Hi Village"
          ],
          [
           "Pha Hi Village"
          ],
          [
           "Wat Phuttha Chaiyo"
          ],
          [
           "Phra That Kong Khao Noi"
          ],
          [
           "Wat Phra That Mae Chedi"
          ],
          [
           "Tha Maharaj"
          ],
          [
           "Wat Tha Ka Rong Floating Market"
          ],
          [
           "Ban Tha Sawang Silk Weaving Village"
          ],
          [
           "Ton Pring Waterfall"
          ],
          [
           "Tan Massage"
          ],
          [
           "Phadung Krung Kasem Canal"
          ],
          [
           "Thung Khai Botanical Garden"
          ],
          [
           "Cinta Garden"
          ],
          [
           "Piyamit Tunnels"
          ]
         ],
         "hovertemplate": "place_name=%{x}<br>predicted_score=%{y}<br>location_name=%{customdata[0]}<extra></extra>",
         "legendgroup": "Saraburi",
         "marker": {
          "color": "#B6E880",
          "symbol": "circle"
         },
         "mode": "markers",
         "name": "Saraburi",
         "showlegend": true,
         "type": "scattergl",
         "x": [
          "Saraburi",
          "Saraburi",
          "Saraburi",
          "Saraburi",
          "Saraburi",
          "Saraburi",
          "Saraburi",
          "Saraburi",
          "Saraburi",
          "Saraburi",
          "Saraburi",
          "Saraburi",
          "Saraburi",
          "Saraburi",
          "Saraburi",
          "Saraburi",
          "Saraburi",
          "Saraburi",
          "Saraburi",
          "Saraburi",
          "Saraburi",
          "Saraburi",
          "Saraburi",
          "Saraburi",
          "Saraburi",
          "Saraburi",
          "Saraburi",
          "Saraburi",
          "Saraburi",
          "Saraburi",
          "Saraburi",
          "Saraburi",
          "Saraburi",
          "Saraburi",
          "Saraburi",
          "Saraburi",
          "Saraburi",
          "Saraburi",
          "Saraburi",
          "Saraburi",
          "Saraburi",
          "Saraburi",
          "Saraburi",
          "Saraburi",
          "Saraburi",
          "Saraburi",
          "Saraburi",
          "Saraburi",
          "Saraburi",
          "Saraburi",
          "Saraburi",
          "Saraburi",
          "Saraburi",
          "Saraburi",
          "Saraburi",
          "Saraburi",
          "Saraburi",
          "Saraburi",
          "Saraburi",
          "Saraburi",
          "Saraburi",
          "Saraburi",
          "Saraburi",
          "Saraburi",
          "Saraburi",
          "Saraburi",
          "Saraburi",
          "Saraburi",
          "Saraburi"
         ],
         "xaxis": "x",
         "y": [
          2.6996939182281494,
          2.799882411956787,
          2.2009427547454834,
          1.9004533290863037,
          2.300997734069824,
          3.1998956203460693,
          0.4999425411224365,
          2.799882411956787,
          2.500140905380249,
          1.3009003400802612,
          1.9996305704116821,
          3.0002808570861816,
          0.8998897671699524,
          2.500140905380249,
          1.9004533290863037,
          1.4999604225158691,
          2.900212526321411,
          2.199599027633667,
          3.3004257678985596,
          2.900212526321411,
          2.6996939182281494,
          2.7012834548950195,
          2.900212526321411,
          3.0002808570861816,
          2.003434896469116,
          2.7012834548950195,
          2.39943790435791,
          2.500140905380249,
          2.6996939182281494,
          2.900212526321411,
          2.500140905380249,
          2.500140905380249,
          2.300997734069824,
          1.9996305704116821,
          2.39943790435791,
          2.500140905380249,
          3.3979592323303223,
          3.4005353450775146,
          3.104376792907715,
          2.2009427547454834,
          3.0002808570861816,
          2.2009427547454834,
          2.199599027633667,
          2.3019840717315674,
          2.6996939182281494,
          2.900212526321411,
          1.0007883310317993,
          1.6987276077270508,
          2.3993005752563477,
          2.39943790435791,
          2.3019840717315674,
          2.900212526321411,
          3.298584461212158,
          2.6996939182281494,
          2.6996939182281494,
          1.9996305704116821,
          2.300997734069824,
          2.7012834548950195,
          1.9004533290863037,
          2.500140905380249,
          2.39943790435791,
          2.39943790435791,
          2.6996939182281494,
          3.0002808570861816,
          2.900212526321411,
          1.6987276077270508,
          1.4999604225158691,
          3.698312520980835,
          2.900212526321411
         ],
         "yaxis": "y"
        },
        {
         "customdata": [
          [
           "Haew Narok Waterfall"
          ],
          [
           "Haew Narok Waterfall"
          ],
          [
           "Haew Narok Waterfall"
          ],
          [
           "Wat Tham Phra"
          ],
          [
           "Phuttha Utthayan Wat Pa Dong Rai"
          ],
          [
           "Puttha Utthayan and Pra Mongkol Ming Muang"
          ],
          [
           "Ganesha Park"
          ],
          [
           "KBank Siam Pic Ganesha"
          ],
          [
           "Dan’s Collections"
          ],
          [
           "Bamboo Grove - Chulapornwararam Temple"
          ],
          [
           "Wat Pathum Wanaram"
          ],
          [
           "Bhumibol Bridge (Industrial Ring Road Bridge)"
          ],
          [
           "Bhumibol Bridge (Industrial Ring Road Bridge)"
          ],
          [
           "Klong Thom Center"
          ],
          [
           "Klong Thom Center"
          ],
          [
           "International Tsunami Museum"
          ],
          [
           "Ban Chiang Museum"
          ],
          [
           "Ban Chiang Museum"
          ],
          [
           "Ban Tha Chang spring"
          ],
          [
           "Ban Tha Chang spring"
          ],
          [
           "Ban Tha Chang spring"
          ],
          [
           "Sukhothai Historical Park"
          ],
          [
           "Sukhothai Historical Park"
          ],
          [
           "Nakhon Si Thammarat City Pillar Shrine"
          ],
          [
           "Wat Mongkol Nimit"
          ],
          [
           "Wat Phu Thong Thep Nimit"
          ],
          [
           "Black rock viewpoint"
          ],
          [
           "Ban Na Korn Nai"
          ],
          [
           "Huai Krathing Reservoir"
          ],
          [
           "Huai Krathing Reservoir"
          ],
          [
           "Huai Krathing Reservoir"
          ],
          [
           "Huai Pa Daeng Reservoir"
          ],
          [
           "Huai Pa Daeng Reservoir"
          ],
          [
           "Nature Trails Ang Ka"
          ],
          [
           "Doi Ang Khang"
          ],
          [
           "Heo Narok Waterfall"
          ],
          [
           "Heo Sin Chai Cave"
          ],
          [
           "Buddha’s Footprint Temple"
          ],
          [
           "Buddha’s Footprint Temple"
          ],
          [
           "Sai Thong National Park"
          ]
         ],
         "hovertemplate": "place_name=%{x}<br>predicted_score=%{y}<br>location_name=%{customdata[0]}<extra></extra>",
         "legendgroup": "Nakhon Nayok",
         "marker": {
          "color": "#FF97FF",
          "symbol": "circle"
         },
         "mode": "markers",
         "name": "Nakhon Nayok",
         "showlegend": true,
         "type": "scattergl",
         "x": [
          "Nakhon Nayok",
          "Nakhon Nayok",
          "Nakhon Nayok",
          "Nakhon Nayok",
          "Nakhon Nayok",
          "Nakhon Nayok",
          "Nakhon Nayok",
          "Nakhon Nayok",
          "Nakhon Nayok",
          "Nakhon Nayok",
          "Nakhon Nayok",
          "Nakhon Nayok",
          "Nakhon Nayok",
          "Nakhon Nayok",
          "Nakhon Nayok",
          "Nakhon Nayok",
          "Nakhon Nayok",
          "Nakhon Nayok",
          "Nakhon Nayok",
          "Nakhon Nayok",
          "Nakhon Nayok",
          "Nakhon Nayok",
          "Nakhon Nayok",
          "Nakhon Nayok",
          "Nakhon Nayok",
          "Nakhon Nayok",
          "Nakhon Nayok",
          "Nakhon Nayok",
          "Nakhon Nayok",
          "Nakhon Nayok",
          "Nakhon Nayok",
          "Nakhon Nayok",
          "Nakhon Nayok",
          "Nakhon Nayok",
          "Nakhon Nayok",
          "Nakhon Nayok",
          "Nakhon Nayok",
          "Nakhon Nayok",
          "Nakhon Nayok",
          "Nakhon Nayok"
         ],
         "xaxis": "x",
         "y": [
          2.900212526321411,
          3.1998956203460693,
          2.500140905380249,
          2.0970914363861084,
          2.39943790435791,
          1.2002246379852295,
          2.500140905380249,
          2.39943790435791,
          2.6996939182281494,
          2.39943790435791,
          2.6996939182281494,
          2.39943790435791,
          2.497049570083618,
          3.0996804237365723,
          3.0002808570861816,
          2.500140905380249,
          2.6996939182281494,
          2.6996939182281494,
          2.2009427547454834,
          3.0002808570861816,
          1.298903465270996,
          2.500140905380249,
          2.900212526321411,
          3.104376792907715,
          1.9004533290863037,
          2.2009427547454834,
          2.799882411956787,
          1.9004533290863037,
          3.4994654655456543,
          1.6987276077270508,
          2.6996939182281494,
          1.9004533290863037,
          2.2009427547454834,
          1.9004533290863037,
          3.4005353450775146,
          2.6996939182281494,
          3.0996804237365723,
          1.6987276077270508,
          2.7012834548950195,
          2.2009427547454834
         ],
         "yaxis": "y"
        },
        {
         "customdata": [
          [
           "Wat Khiriwong"
          ],
          [
           "Tham Khao Wang Thong"
          ],
          [
           "Tham Khao Wang Thong"
          ],
          [
           "Wat Tham Saeng Phet"
          ],
          [
           "Wat Tham Mankhon Thong"
          ],
          [
           "Rim Moei Market"
          ],
          [
           "Rim Moei Market"
          ],
          [
           "Rim Moei Market"
          ],
          [
           "Wat Klang"
          ],
          [
           "Ban Singha Tha"
          ],
          [
           "Wat Khae"
          ],
          [
           "Wat Khae"
          ],
          [
           "Wat Thewarup Songtham"
          ],
          [
           "Bat Cave at Wat Khao Chong Pran"
          ],
          [
           "Shrine of the Goddess Tubtim"
          ],
          [
           "Shrine of the Goddess Tubtim"
          ],
          [
           "Shrine of the Goddess Tubtim"
          ],
          [
           "Goddess Gentlemen's Lounge And A GoGo Bar"
          ],
          [
           "Bung Boraphet"
          ],
          [
           "Bung Boraphet"
          ],
          [
           "Paradise Park"
          ],
          [
           "Paradise Park"
          ],
          [
           "Chiang Saen National Museum"
          ],
          [
           "Chiang Saen National Museum"
          ],
          [
           "Chiang Saen National Museum"
          ],
          [
           "Khlong Saen Saep Boat Service"
          ],
          [
           "The Wang Saen Suk Hell Garden"
          ],
          [
           "Bang Saen 2 and Hat Chom Thong"
          ],
          [
           "Tham Luang Nang Non"
          ],
          [
           "Mae Kampong Village"
          ],
          [
           "Mae Kampong Village"
          ],
          [
           "Mae Kampong Village"
          ],
          [
           "Laem Mae Phim Beach"
          ],
          [
           "Mueang On Cave"
          ],
          [
           "Mueang On Cave"
          ],
          [
           "Mae Hong Son Loop"
          ],
          [
           "Mae Hong Son Loop"
          ],
          [
           "Mae Ramphueng Beach"
          ],
          [
           "Doi Mae Salong"
          ],
          [
           "Doi Mae Salong"
          ],
          [
           "Chedi Phra Borommasaririkkathat Khao Kho"
          ],
          [
           "Chedi Phra Borommasaririkkathat Khao Kho"
          ],
          [
           "Chedi Phra Borommasaririkkathat Khao Kho"
          ],
          [
           "Khao Wang (Phra Nakhon Khiri Historical Park)"
          ],
          [
           "Khao Wang (Phra Nakhon Khiri Historical Park)"
          ],
          [
           "Orchid Garden Khaolak"
          ],
          [
           "Orchid Garden Khaolak"
          ],
          [
           "Tham Khao Bin"
          ],
          [
           "Tham Khao Bin"
          ],
          [
           "Ao Tha Lane"
          ],
          [
           "Ao Tha Lane"
          ],
          [
           "Tha Pai Hot Spring"
          ],
          [
           "Namtok Bang Liab Nam"
          ],
          [
           "Cheow Lan Dam (Ratchaprapa Dam)"
          ],
          [
           "Thai Song Dam Tribal Villages"
          ],
          [
           "Nhong Krathing Park"
          ],
          [
           "Wat A-Hong Silawas"
          ],
          [
           "Wat Khao Din"
          ],
          [
           "Wat Nak Prok"
          ],
          [
           "Soi Sawan Waterfall"
          ],
          [
           "Nakorn Sawan Collection"
          ],
          [
           "Nakorn Sawan Collection"
          ],
          [
           "Phra Maha Chedi Si Rajakarn"
          ],
          [
           "Chedi Maha Mongkol Bua"
          ],
          [
           "Hin Ta & Hin Yai Rocks"
          ],
          [
           "U-Turn"
          ],
          [
           "Wat Khao Rang Samakkhitham"
          ],
          [
           "Wat Khao Rang Samakkhitham"
          ],
          [
           "Chao Mae Kuan Im Shrine"
          ],
          [
           "Ta Pha Dean Shrine"
          ],
          [
           "Ta Pha Dean Shrine"
          ],
          [
           "Ta Pha Dean Shrine"
          ]
         ],
         "hovertemplate": "place_name=%{x}<br>predicted_score=%{y}<br>location_name=%{customdata[0]}<extra></extra>",
         "legendgroup": "Nakhon Sawan",
         "marker": {
          "color": "#FECB52",
          "symbol": "circle"
         },
         "mode": "markers",
         "name": "Nakhon Sawan",
         "showlegend": true,
         "type": "scattergl",
         "x": [
          "Nakhon Sawan",
          "Nakhon Sawan",
          "Nakhon Sawan",
          "Nakhon Sawan",
          "Nakhon Sawan",
          "Nakhon Sawan",
          "Nakhon Sawan",
          "Nakhon Sawan",
          "Nakhon Sawan",
          "Nakhon Sawan",
          "Nakhon Sawan",
          "Nakhon Sawan",
          "Nakhon Sawan",
          "Nakhon Sawan",
          "Nakhon Sawan",
          "Nakhon Sawan",
          "Nakhon Sawan",
          "Nakhon Sawan",
          "Nakhon Sawan",
          "Nakhon Sawan",
          "Nakhon Sawan",
          "Nakhon Sawan",
          "Nakhon Sawan",
          "Nakhon Sawan",
          "Nakhon Sawan",
          "Nakhon Sawan",
          "Nakhon Sawan",
          "Nakhon Sawan",
          "Nakhon Sawan",
          "Nakhon Sawan",
          "Nakhon Sawan",
          "Nakhon Sawan",
          "Nakhon Sawan",
          "Nakhon Sawan",
          "Nakhon Sawan",
          "Nakhon Sawan",
          "Nakhon Sawan",
          "Nakhon Sawan",
          "Nakhon Sawan",
          "Nakhon Sawan",
          "Nakhon Sawan",
          "Nakhon Sawan",
          "Nakhon Sawan",
          "Nakhon Sawan",
          "Nakhon Sawan",
          "Nakhon Sawan",
          "Nakhon Sawan",
          "Nakhon Sawan",
          "Nakhon Sawan",
          "Nakhon Sawan",
          "Nakhon Sawan",
          "Nakhon Sawan",
          "Nakhon Sawan",
          "Nakhon Sawan",
          "Nakhon Sawan",
          "Nakhon Sawan",
          "Nakhon Sawan",
          "Nakhon Sawan",
          "Nakhon Sawan",
          "Nakhon Sawan",
          "Nakhon Sawan",
          "Nakhon Sawan",
          "Nakhon Sawan",
          "Nakhon Sawan",
          "Nakhon Sawan",
          "Nakhon Sawan",
          "Nakhon Sawan",
          "Nakhon Sawan",
          "Nakhon Sawan",
          "Nakhon Sawan",
          "Nakhon Sawan",
          "Nakhon Sawan"
         ],
         "xaxis": "x",
         "y": [
          3.0002808570861816,
          2.799882411956787,
          2.500140905380249,
          1.6987276077270508,
          2.497049570083618,
          1.9996305704116821,
          44.90082550048828,
          1.7906410694122314,
          3.1998956203460693,
          2.1008598804473877,
          2.39943790435791,
          2.39943790435791,
          2.799882411956787,
          2.2009427547454834,
          2.500140905380249,
          0.9992106556892395,
          2.500140905380249,
          2.6996939182281494,
          2.900212526321411,
          3.0996804237365723,
          2.2009427547454834,
          2.39943790435791,
          2.2009427547454834,
          2.600679874420166,
          2.2009427547454834,
          1.9996305704116821,
          2.497049570083618,
          2.2009427547454834,
          2.39943790435791,
          2.6996939182281494,
          2.2009427547454834,
          2.0970914363861084,
          2.2009427547454834,
          3.0996804237365723,
          2.9999775886535645,
          5.2275190353393555,
          3.8023650646209717,
          2.8007826805114746,
          3.1998956203460693,
          2.9999775886535645,
          1.9004533290863037,
          1.6987276077270508,
          1.7906410694122314,
          2.500140905380249,
          1.9996305704116821,
          0.4999425411224365,
          1.4999604225158691,
          1.9004533290863037,
          2.6996939182281494,
          3.4994654655456543,
          2.799882411956787,
          2.500140905380249,
          2.6996939182281494,
          2.900212526321411,
          1.9996305704116821,
          2.6996939182281494,
          2.199599027633667,
          2.300997734069824,
          3.4005353450775146,
          2.900212526321411,
          1.5009926557540894,
          0.9992106556892395,
          3.0996804237365723,
          2.39943790435791,
          2.600679874420166,
          0.799848198890686,
          2.600679874420166,
          1.6021475791931152,
          2.500140905380249,
          2.39943790435791,
          1.4999604225158691,
          1.9996305704116821
         ],
         "yaxis": "y"
        },
        {
         "customdata": [
          [
           "Thung Yai Naresuan Huai Kha Khaeng Wildlife Sanctuary"
          ],
          [
           "Tham Hup Pa Tat Cave"
          ],
          [
           "Khao Sam Muk"
          ],
          [
           "Phu Thap Boek"
          ],
          [
           "Songkhla Tae Raek Walking street"
          ],
          [
           "Wat Thap Than"
          ],
          [
           "Khao Ra"
          ],
          [
           "Khao Ra"
          ],
          [
           "Wat Phu Khao Noi"
          ],
          [
           "Wat Phu Khao Noi"
          ],
          [
           "Wat Phu Khao Noi"
          ],
          [
           "The Hindad Hot Spring"
          ],
          [
           "Sakae Krang River"
          ],
          [
           "Khao Kradong Forest Park"
          ],
          [
           "Sea Dragon Dive Center"
          ],
          [
           "Sea Dragon Dive Center"
          ],
          [
           "White Sand Beach"
          ],
          [
           "Railay Walking Street"
          ],
          [
           "Railay Walking Street"
          ],
          [
           "Ao Nang Walking Street"
          ],
          [
           "Phu Ruea National Park"
          ],
          [
           "Phu Ruea National Park"
          ],
          [
           "Phu Ruea National Park"
          ],
          [
           "Tha Ruea Phli Fish Market"
          ],
          [
           "Pha Dok Seaw Waterfall"
          ],
          [
           "Phaeng Waterfall"
          ],
          [
           "Paradise Waterfall"
          ],
          [
           "Paradise Waterfall"
          ],
          [
           "Waterfall Party"
          ],
          [
           "Phu Pha Phet Caves"
          ],
          [
           "Ao Wai"
          ],
          [
           "Ao Wai"
          ],
          [
           "Tang Kuan Hill"
          ],
          [
           "Tang Kuan Hill"
          ],
          [
           "Khao Tang Kuan"
          ],
          [
           "Ko Si Chang Island"
          ],
          [
           "Wat Phra That Chae Haeng"
          ],
          [
           "Wat Phra That Chae Haeng"
          ],
          [
           "Wat Pa Tueng"
          ],
          [
           "Hang Tueng Farm"
          ],
          [
           "Hang Tueng Farmstay And Workshop Chiang Mai"
          ],
          [
           "Rong Je Sai Tee Hook Tueng"
          ],
          [
           "Wat Nong Ao"
          ]
         ],
         "hovertemplate": "place_name=%{x}<br>predicted_score=%{y}<br>location_name=%{customdata[0]}<extra></extra>",
         "legendgroup": "Uthai Thani",
         "marker": {
          "color": "#636efa",
          "symbol": "circle"
         },
         "mode": "markers",
         "name": "Uthai Thani",
         "showlegend": true,
         "type": "scattergl",
         "x": [
          "Uthai Thani",
          "Uthai Thani",
          "Uthai Thani",
          "Uthai Thani",
          "Uthai Thani",
          "Uthai Thani",
          "Uthai Thani",
          "Uthai Thani",
          "Uthai Thani",
          "Uthai Thani",
          "Uthai Thani",
          "Uthai Thani",
          "Uthai Thani",
          "Uthai Thani",
          "Uthai Thani",
          "Uthai Thani",
          "Uthai Thani",
          "Uthai Thani",
          "Uthai Thani",
          "Uthai Thani",
          "Uthai Thani",
          "Uthai Thani",
          "Uthai Thani",
          "Uthai Thani",
          "Uthai Thani",
          "Uthai Thani",
          "Uthai Thani",
          "Uthai Thani",
          "Uthai Thani",
          "Uthai Thani",
          "Uthai Thani",
          "Uthai Thani",
          "Uthai Thani",
          "Uthai Thani",
          "Uthai Thani",
          "Uthai Thani",
          "Uthai Thani",
          "Uthai Thani",
          "Uthai Thani",
          "Uthai Thani",
          "Uthai Thani",
          "Uthai Thani",
          "Uthai Thani"
         ],
         "xaxis": "x",
         "y": [
          3.0996804237365723,
          2.7012834548950195,
          1.5009926557540894,
          2.7012834548950195,
          2.500140905380249,
          1.4999604225158691,
          2.2009427547454834,
          2.900212526321411,
          3.3004257678985596,
          2.6996939182281494,
          2.39943790435791,
          2.2009427547454834,
          2.6996939182281494,
          2.39943790435791,
          3.1998956203460693,
          3.1998956203460693,
          2.500140905380249,
          2.2009427547454834,
          2.39943790435791,
          2.39943790435791,
          2.39943790435791,
          1.4999604225158691,
          2.9999775886535645,
          2.900212526321411,
          2.500140905380249,
          2.600679874420166,
          1.399895191192627,
          1.4999604225158691,
          0.4999425411224365,
          1.4999604225158691,
          2.900212526321411,
          2.500140905380249,
          2.2009427547454834,
          2.39943790435791,
          3.0002808570861816,
          2.497049570083618,
          2.900212526321411,
          2.500140905380249,
          4.000574588775635,
          2.6996939182281494,
          2.900212526321411,
          2.500140905380249,
          2.799882411956787
         ],
         "yaxis": "y"
        },
        {
         "customdata": [
          [
           "Pom Phet (Phet Fortress)"
          ],
          [
           "Salawin National Park"
          ],
          [
           "Mae Ping National Park"
          ],
          [
           "Mae Ping National Park"
          ],
          [
           "Huai Nam Dang National Park"
          ],
          [
           "Phra Ruang Hot Springs"
          ],
          [
           "The Kamphang Phet National Museum"
          ],
          [
           "Amulet Market"
          ],
          [
           "Buddhist Votive Tablets Learning Center"
          ],
          [
           "Hill Tribe Museum"
          ],
          [
           "Khlong Muang Beach"
          ]
         ],
         "hovertemplate": "place_name=%{x}<br>predicted_score=%{y}<br>location_name=%{customdata[0]}<extra></extra>",
         "legendgroup": "Kamphaeng Phet",
         "marker": {
          "color": "#EF553B",
          "symbol": "circle"
         },
         "mode": "markers",
         "name": "Kamphaeng Phet",
         "showlegend": true,
         "type": "scattergl",
         "x": [
          "Kamphaeng Phet",
          "Kamphaeng Phet",
          "Kamphaeng Phet",
          "Kamphaeng Phet",
          "Kamphaeng Phet",
          "Kamphaeng Phet",
          "Kamphaeng Phet",
          "Kamphaeng Phet",
          "Kamphaeng Phet",
          "Kamphaeng Phet",
          "Kamphaeng Phet"
         ],
         "xaxis": "x",
         "y": [
          1.399895191192627,
          2.9999775886535645,
          3.3979592323303223,
          3.3004257678985596,
          4.202127456665039,
          2.8007826805114746,
          2.799882411956787,
          3.633448362350464,
          3.0996804237365723,
          8.497284889221191,
          2.6996939182281494
         ],
         "yaxis": "y"
        },
        {
         "customdata": [
          [
           "Ramkhamhaeng National Museum"
          ],
          [
           "Ramkhamhaeng National Park"
          ],
          [
           "Wat Phan On Temple"
          ],
          [
           "Wat Phan On Temple"
          ],
          [
           "National Park Srisatchanalai"
          ],
          [
           "National Park Srisatchanalai"
          ],
          [
           "Sukhothai Night Food Market"
          ],
          [
           "Sukhothai Loi Krathong and Candle Festival"
          ],
          [
           "Boon Lott's Elephant Sanctuary"
          ],
          [
           "The Sukhothai Spa"
          ],
          [
           "Wat Sa Si"
          ],
          [
           "Pha Daeng National Park"
          ],
          [
           "Suan Ta San"
          ],
          [
           "Wat Phra Pai Luang"
          ],
          [
           "Wat Bo Thong Lang"
          ],
          [
           "Wat Bo Thong Lang"
          ],
          [
           "Thong Lang Beach"
          ],
          [
           "Wat Phra That Chom Kitti"
          ],
          [
           "Wat Phra Tat Chom Ping"
          ],
          [
           "Wat Phaya Wat"
          ],
          [
           "Wat Phaya Wat"
          ],
          [
           "Wat Phaya Wat"
          ],
          [
           "Sai Khao Waterfall"
          ],
          [
           "Huai Sai Wildlife Breeding Center"
          ],
          [
           "Huai Sai Wildlife Breeding Center"
          ],
          [
           "Suwan Khiri Wong Temple(Patong Temple)"
          ],
          [
           "Suwan Khiri Wong Temple(Patong Temple)"
          ],
          [
           "Phimai Historical Park"
          ],
          [
           "Huay Mongkol Temple"
          ],
          [
           "Wat Thung Yu Temple"
          ],
          [
           "Wat Thung Yu Temple"
          ],
          [
           "Sathorn Pier"
          ],
          [
           "Organic Agriculture Project"
          ],
          [
           "Mae Ya Waterfall"
          ]
         ],
         "hovertemplate": "place_name=%{x}<br>predicted_score=%{y}<br>location_name=%{customdata[0]}<extra></extra>",
         "legendgroup": "Sukhothai",
         "marker": {
          "color": "#00cc96",
          "symbol": "circle"
         },
         "mode": "markers",
         "name": "Sukhothai",
         "showlegend": true,
         "type": "scattergl",
         "x": [
          "Sukhothai",
          "Sukhothai",
          "Sukhothai",
          "Sukhothai",
          "Sukhothai",
          "Sukhothai",
          "Sukhothai",
          "Sukhothai",
          "Sukhothai",
          "Sukhothai",
          "Sukhothai",
          "Sukhothai",
          "Sukhothai",
          "Sukhothai",
          "Sukhothai",
          "Sukhothai",
          "Sukhothai",
          "Sukhothai",
          "Sukhothai",
          "Sukhothai",
          "Sukhothai",
          "Sukhothai",
          "Sukhothai",
          "Sukhothai",
          "Sukhothai",
          "Sukhothai",
          "Sukhothai",
          "Sukhothai",
          "Sukhothai",
          "Sukhothai",
          "Sukhothai",
          "Sukhothai",
          "Sukhothai",
          "Sukhothai"
         ],
         "xaxis": "x",
         "y": [
          0.799848198890686,
          2.9999775886535645,
          2.900212526321411,
          4.930660724639893,
          1.9996305704116821,
          2.500140905380249,
          2.6996939182281494,
          3.0002808570861816,
          2.799882411956787,
          3.0002808570861816,
          3.1998956203460693,
          3.1998956203460693,
          2.39943790435791,
          2.500140905380249,
          1.9996305704116821,
          1.399895191192627,
          2.799882411956787,
          2.900212526321411,
          2.6996939182281494,
          2.900212526321411,
          2.6996939182281494,
          2.39943790435791,
          2.799882411956787,
          1.4999604225158691,
          3.0002808570861816,
          1.399895191192627,
          1.9996305704116821,
          1.9996305704116821,
          1.4999604225158691,
          2.900212526321411,
          2.6996939182281494,
          1.9996305704116821,
          2.600679874420166,
          3.0996804237365723
         ],
         "yaxis": "y"
        },
        {
         "customdata": [
          [
           "Krung Thong Plaza"
          ],
          [
           "Kaeng Krachan Dam"
          ],
          [
           "Kaeng Krachan Dam"
          ],
          [
           "Kaeng Loengchan"
          ],
          [
           "Kaeng Tana National Park"
          ],
          [
           "Kaeng Tana National Park"
          ],
          [
           "Kaeng Khoi Junction Railway Station"
          ],
          [
           "Phu Kradueng National Park"
          ],
          [
           "Phu Kradueng National Park"
          ],
          [
           "Phu Pha Maan National Park"
          ],
          [
           "Phu Hin Rongka National Park"
          ],
          [
           "Phu Wiang National Park"
          ],
          [
           "Namtok Than Thip Forest Park"
          ],
          [
           "Kaeng Krachan National Park"
          ],
          [
           "River Khwae Bridge"
          ],
          [
           "River Khwae Bridge"
          ],
          [
           "Phitsanulok Night Bazaar"
          ],
          [
           "Chan Royal Palace Historical Center"
          ],
          [
           "Sgt. Maj. Thawee Folk Museum"
          ],
          [
           "Bangkok Folk Museum"
          ],
          [
           "Kaeng Song Waterfall"
          ],
          [
           "Phu Langka National Park"
          ],
          [
           "Khao Phra Yod Temple"
          ]
         ],
         "hovertemplate": "place_name=%{x}<br>predicted_score=%{y}<br>location_name=%{customdata[0]}<extra></extra>",
         "legendgroup": "Phitsanulok",
         "marker": {
          "color": "#ab63fa",
          "symbol": "circle"
         },
         "mode": "markers",
         "name": "Phitsanulok",
         "showlegend": true,
         "type": "scattergl",
         "x": [
          "Phitsanulok",
          "Phitsanulok",
          "Phitsanulok",
          "Phitsanulok",
          "Phitsanulok",
          "Phitsanulok",
          "Phitsanulok",
          "Phitsanulok",
          "Phitsanulok",
          "Phitsanulok",
          "Phitsanulok",
          "Phitsanulok",
          "Phitsanulok",
          "Phitsanulok",
          "Phitsanulok",
          "Phitsanulok",
          "Phitsanulok",
          "Phitsanulok",
          "Phitsanulok",
          "Phitsanulok",
          "Phitsanulok",
          "Phitsanulok",
          "Phitsanulok"
         ],
         "xaxis": "x",
         "y": [
          1.804766297340393,
          3.0002808570861816,
          1.4999604225158691,
          2.8007826805114746,
          2.2009427547454834,
          2.300997734069824,
          1.9996305704116821,
          3.0996804237365723,
          2.900212526321411,
          2.500140905380249,
          1.9996305704116821,
          3.0996804237365723,
          0.7001014947891235,
          1.6987276077270508,
          2.799882411956787,
          2.900212526321411,
          2.500140905380249,
          2.2009427547454834,
          2.900212526321411,
          2.6996939182281494,
          1.9004533290863037,
          2.6996939182281494,
          2.497049570083618
         ],
         "yaxis": "y"
        },
        {
         "customdata": [
          [
           "Wat Klang Phra Aram Luang"
          ],
          [
           "Rod Fai Night Market 2"
          ],
          [
           "Wachira Benchathat Park (Rot Fai Park)"
          ],
          [
           "Khao Hin Lek Fai Viewpoint"
          ],
          [
           "Kao Khad Views Tower"
          ],
          [
           "The Spa"
          ],
          [
           "Splash Jungle Waterpark"
          ],
          [
           "Chalok Baan Kao Beach"
          ],
          [
           "Chalok Baan Kao Beach"
          ],
          [
           "Turtle Village Shops & Cuisine"
          ],
          [
           "Turtle Village Shops & Cuisine"
          ],
          [
           "Huay Keaw Waterfall"
          ],
          [
           "Huay Mae Khamin Waterfalls"
          ],
          [
           "wat phra Buddha nimitpukao"
          ],
          [
           "Temple of the Reclining Buddha (Wat Lokayasutharam)"
          ],
          [
           "Phahurat Market"
          ]
         ],
         "hovertemplate": "place_name=%{x}<br>predicted_score=%{y}<br>location_name=%{customdata[0]}<extra></extra>",
         "legendgroup": "Phichit",
         "marker": {
          "color": "#FFA15A",
          "symbol": "circle"
         },
         "mode": "markers",
         "name": "Phichit",
         "showlegend": true,
         "type": "scattergl",
         "x": [
          "Phichit",
          "Phichit",
          "Phichit",
          "Phichit",
          "Phichit",
          "Phichit",
          "Phichit",
          "Phichit",
          "Phichit",
          "Phichit",
          "Phichit",
          "Phichit",
          "Phichit",
          "Phichit",
          "Phichit",
          "Phichit"
         ],
         "xaxis": "x",
         "y": [
          2.6996939182281494,
          1.9996305704116821,
          16.099008560180664,
          2.6996939182281494,
          2.500140905380249,
          2.500140905380249,
          2.6996939182281494,
          2.7012834548950195,
          2.2009427547454834,
          2.199599027633667,
          2.6996939182281494,
          1.4999604225158691,
          2.6996939182281494,
          2.7012834548950195,
          2.799882411956787,
          3.1998956203460693
         ],
         "yaxis": "y"
        },
        {
         "customdata": [
          [
           "Chiang Rai Night Bazaar"
          ],
          [
           "Chiang Rai Night Bazaar"
          ],
          [
           "Chiang Rai Night Bazaar"
          ],
          [
           "Chiang Rai Night Bazaar"
          ],
          [
           "Rai Ruen Rom - Organic Farm Chiang Rai, Thailand"
          ],
          [
           "Rai Ruen Rom - Organic Farm Chiang Rai, Thailand"
          ],
          [
           "Clock Tower Chiang Rai"
          ],
          [
           "Elephant Steps Chiang Rai"
          ],
          [
           "Arisara Thai Massage Chiang Rai"
          ],
          [
           "Arisara Thai Massage Chiang Rai"
          ],
          [
           "Suan Lamai"
          ],
          [
           "Suan Son (Phe Arboretum)"
          ],
          [
           "Dinosaur Footprints Park at Tha Uthen"
          ],
          [
           "Wat Pa Non Sa-At"
          ],
          [
           "Wat  Pahuaylad Temple"
          ],
          [
           "Muay Thai Battle Conquer"
          ],
          [
           "Khao Kho Royal Palace"
          ],
          [
           "Khao Kho Wind Farm"
          ],
          [
           "Koh Kho Khao Island"
          ],
          [
           "Koh Kho Khao Island"
          ],
          [
           "Koh Kho Khao Island"
          ],
          [
           "Khao Kho Sacrificial Monument"
          ],
          [
           "Chalermkarnchana University Phetchabun"
          ],
          [
           "Mae Fah Luang Art and Culture Park"
          ],
          [
           "Khao Lak-Lam Ru National Park"
          ],
          [
           "Khao Lak-Lam Ru National Park"
          ],
          [
           "Khao Kho International Library"
          ],
          [
           "Koh Kho Khao Diving"
          ],
          [
           "Ta Nim Magic Garden"
          ],
          [
           "Ta Nim Magic Garden"
          ],
          [
           "The Royal Agricultural Station Angkhang"
          ],
          [
           "The Royal Agricultural Station Angkhang"
          ],
          [
           "Weapon Museum"
          ],
          [
           "Samet Nangshe Viewpoint"
          ],
          [
           "Karon Viewpoint"
          ],
          [
           "Karon Viewpoint"
          ],
          [
           "Lamai Viewpoint"
          ],
          [
           "Lamai Viewpoint"
          ]
         ],
         "hovertemplate": "place_name=%{x}<br>predicted_score=%{y}<br>location_name=%{customdata[0]}<extra></extra>",
         "legendgroup": "Phetchabun",
         "marker": {
          "color": "#19d3f3",
          "symbol": "circle"
         },
         "mode": "markers",
         "name": "Phetchabun",
         "showlegend": true,
         "type": "scattergl",
         "x": [
          "Phetchabun",
          "Phetchabun",
          "Phetchabun",
          "Phetchabun",
          "Phetchabun",
          "Phetchabun",
          "Phetchabun",
          "Phetchabun",
          "Phetchabun",
          "Phetchabun",
          "Phetchabun",
          "Phetchabun",
          "Phetchabun",
          "Phetchabun",
          "Phetchabun",
          "Phetchabun",
          "Phetchabun",
          "Phetchabun",
          "Phetchabun",
          "Phetchabun",
          "Phetchabun",
          "Phetchabun",
          "Phetchabun",
          "Phetchabun",
          "Phetchabun",
          "Phetchabun",
          "Phetchabun",
          "Phetchabun",
          "Phetchabun",
          "Phetchabun",
          "Phetchabun",
          "Phetchabun",
          "Phetchabun",
          "Phetchabun",
          "Phetchabun",
          "Phetchabun",
          "Phetchabun",
          "Phetchabun"
         ],
         "xaxis": "x",
         "y": [
          2.500140905380249,
          2.39943790435791,
          2.900212526321411,
          2.500140905380249,
          2.500140905380249,
          2.6996939182281494,
          2.2009427547454834,
          2.500140905380249,
          0.7001014947891235,
          1.499123215675354,
          3.3004257678985596,
          2.497049570083618,
          2.300997734069824,
          2.39943790435791,
          1.4999604225158691,
          3.0002808570861816,
          1.298903465270996,
          2.6996939182281494,
          2.6996939182281494,
          3.0002808570861816,
          2.799882411956787,
          2.39943790435791,
          3.7984960079193115,
          1.9996305704116821,
          2.799882411956787,
          2.500140905380249,
          0.8998897671699524,
          2.900212526321411,
          3.1998956203460693,
          2.497049570083618,
          2.39943790435791,
          2.6996939182281494,
          2.2009427547454834,
          2.6996939182281494,
          2.500140905380249,
          2.39943790435791,
          2.900212526321411,
          2.500140905380249
         ],
         "yaxis": "y"
        },
        {
         "customdata": [
          [
           "Ang Sila Old Market 133 Years"
          ],
          [
           "Ang Sila Old Market 133 Years"
          ],
          [
           "Ang Sila Old Market 133 Years"
          ],
          [
           "Bang Phli Floating Market"
          ],
          [
           "Wat  Bang Phli Yai Klang"
          ],
          [
           "Wat Hat Yai Nai"
          ],
          [
           "Wat Hat Yai Nai"
          ],
          [
           "Nai Harn Beach"
          ],
          [
           "Nai Harn Beach"
          ],
          [
           "Wat Bang Nam Phueng Nai"
          ],
          [
           "MEGA HarborLand - Mega Bangna"
          ],
          [
           "Central Plaza Bangna"
          ],
          [
           "Central Plaza Bangna"
          ],
          [
           "HarborLand @HARBOR PATTAYA"
          ],
          [
           "HarborLand @HARBOR PATTAYA"
          ],
          [
           "Phra Samut Chedi"
          ],
          [
           "Pom Phra Chulachomklao"
          ],
          [
           "Phra Mahathat Chedi Phra Phuttha Thamma Prakat"
          ],
          [
           "Phra Mahathat Chedi Phra Phuttha Thamma Prakat"
          ],
          [
           "Phi Suea Samut Fort"
          ],
          [
           "Phra Maha Chedi CHai Mongkol"
          ],
          [
           "Wat Khao Takiap"
          ],
          [
           "Wat Koo Kam"
          ],
          [
           "Wat Tham Khao Tao"
          ],
          [
           "Wat Khao Krailart"
          ],
          [
           "Wat Khao Krailart"
          ],
          [
           "Wat Bussayabanpot"
          ],
          [
           "Bueng Phlan Chai"
          ],
          [
           "Phu Sing Bueng Kan"
          ],
          [
           "Phu Sing Bueng Kan"
          ],
          [
           "Bueng Si Fai"
          ],
          [
           "Bueng Boraphet Aquarium"
          ],
          [
           "Bueng Boraphet Aquarium"
          ],
          [
           "Bueng Boraphet Aquarium"
          ],
          [
           "Bueng Bua Nature Observation Center"
          ],
          [
           "Wat Si Mongkhon (Wat Kong)"
          ],
          [
           "Wat Yai Chai Mongkol"
          ],
          [
           "Wat Phra That Su Thon Mongkhon Khiri"
          ],
          [
           "Wat Phra That Su Thon Mongkhon Khiri"
          ],
          [
           "Khung Kraben Bay Royal Development Study Center"
          ],
          [
           "Bang Saray Beach"
          ],
          [
           "Bang Tao Beach"
          ],
          [
           "Bang Tao Beach"
          ],
          [
           "Bang Saen Beach"
          ],
          [
           "Bang Saen Beach"
          ],
          [
           "Bang Niang Market"
          ],
          [
           "Bang Niang Market"
          ],
          [
           "Bang Niang Market"
          ],
          [
           "Wat Bang Kung"
          ],
          [
           "Bang-Tao Night Market"
          ],
          [
           "Wat Pha Lat"
          ],
          [
           "Wat Chedi"
          ],
          [
           "Wat Phra That Chedi Luang"
          ],
          [
           "Wat Phra That Chedi Luang"
          ],
          [
           "Chedi Wat Sam Pluem"
          ],
          [
           "Wat Pho Bang Khla"
          ],
          [
           "Wat Pak Nam"
          ],
          [
           "Wat Sa Long Ruea Temple"
          ],
          [
           "Tiger Cave Temple (Wat Tham Suea)"
          ],
          [
           "The only morning trip phi phi"
          ],
          [
           "Koh Phi Phi Viewpoint"
          ],
          [
           "Phi Phi Island Boat Tours"
          ],
          [
           "Phi Phi Island Boat Tours"
          ],
          [
           "Phi Phi Cruiser"
          ],
          [
           "Phi Phi Cruiser"
          ],
          [
           "Koh Phi Phi Tour"
          ],
          [
           "KUDO Beach Club"
          ],
          [
           "KUDO Beach Club"
          ],
          [
           "Sugar Club Phuket"
          ],
          [
           "Sugar Club Phuket"
          ],
          [
           "Sugar Club"
          ],
          [
           "Sugar Club"
          ],
          [
           "Club Onyx"
          ],
          [
           "Sub Zero Ice Skate Club"
          ],
          [
           "Sub Zero Ice Skate Club"
          ],
          [
           "Sub Phuket Taxi And Tour"
          ],
          [
           "Sub Phuket Taxi And Tour"
          ],
          [
           "Levels Club & Lounge"
          ],
          [
           "The Club At Koi"
          ],
          [
           "Bangpu Recreation Center"
          ],
          [
           "Bangpu Recreation Center"
          ],
          [
           "Soi Dog Foundation"
          ],
          [
           "Soi Dog Foundation"
          ],
          [
           "Ancient City (Mueang Boran)"
          ],
          [
           "Muangboran (Ancient City)"
          ],
          [
           "Erawan Cave"
          ],
          [
           "Chaloem Phra Kiat Public Park"
          ],
          [
           "Chaloem Phra Kiat Public Park"
          ],
          [
           "Nong Han Chaloem Phra Kiat Park"
          ],
          [
           "Nong Han Chaloem Phra Kiat Park"
          ],
          [
           "Phanom Rung Historical Park (Prasat Hin Phanom Rung)"
          ],
          [
           "Phanom Rung Historical Park (Prasat Hin Phanom Rung)"
          ],
          [
           "Wat Chaiyo Worawihan (Wat Ket Chaiyo)"
          ],
          [
           "Wat Ket Karam Museum"
          ],
          [
           "Wat Pa Pradu"
          ],
          [
           "Wat Pa Lak Roi"
          ],
          [
           "Wat Pa Lak Roi"
          ],
          [
           "Wat Pa Lak Roi"
          ],
          [
           "Royal Thai Air Force Museum"
          ],
          [
           "Wat Huay Pla Kang"
          ],
          [
           "Wat Huay Pla Kang"
          ],
          [
           "Wat Huay Pla Kang"
          ],
          [
           "Thai Labour Museum"
          ],
          [
           "Thai Labour Museum"
          ],
          [
           "The Source Herbal Detox Retreat"
          ],
          [
           "Herbal Steam House"
          ],
          [
           "Wat Intharam"
          ],
          [
           "Khuean Srinagarindra National Park"
          ]
         ],
         "hovertemplate": "place_name=%{x}<br>predicted_score=%{y}<br>location_name=%{customdata[0]}<extra></extra>",
         "legendgroup": "Samut Prakan",
         "marker": {
          "color": "#FF6692",
          "symbol": "circle"
         },
         "mode": "markers",
         "name": "Samut Prakan",
         "showlegend": true,
         "type": "scattergl",
         "x": [
          "Samut Prakan",
          "Samut Prakan",
          "Samut Prakan",
          "Samut Prakan",
          "Samut Prakan",
          "Samut Prakan",
          "Samut Prakan",
          "Samut Prakan",
          "Samut Prakan",
          "Samut Prakan",
          "Samut Prakan",
          "Samut Prakan",
          "Samut Prakan",
          "Samut Prakan",
          "Samut Prakan",
          "Samut Prakan",
          "Samut Prakan",
          "Samut Prakan",
          "Samut Prakan",
          "Samut Prakan",
          "Samut Prakan",
          "Samut Prakan",
          "Samut Prakan",
          "Samut Prakan",
          "Samut Prakan",
          "Samut Prakan",
          "Samut Prakan",
          "Samut Prakan",
          "Samut Prakan",
          "Samut Prakan",
          "Samut Prakan",
          "Samut Prakan",
          "Samut Prakan",
          "Samut Prakan",
          "Samut Prakan",
          "Samut Prakan",
          "Samut Prakan",
          "Samut Prakan",
          "Samut Prakan",
          "Samut Prakan",
          "Samut Prakan",
          "Samut Prakan",
          "Samut Prakan",
          "Samut Prakan",
          "Samut Prakan",
          "Samut Prakan",
          "Samut Prakan",
          "Samut Prakan",
          "Samut Prakan",
          "Samut Prakan",
          "Samut Prakan",
          "Samut Prakan",
          "Samut Prakan",
          "Samut Prakan",
          "Samut Prakan",
          "Samut Prakan",
          "Samut Prakan",
          "Samut Prakan",
          "Samut Prakan",
          "Samut Prakan",
          "Samut Prakan",
          "Samut Prakan",
          "Samut Prakan",
          "Samut Prakan",
          "Samut Prakan",
          "Samut Prakan",
          "Samut Prakan",
          "Samut Prakan",
          "Samut Prakan",
          "Samut Prakan",
          "Samut Prakan",
          "Samut Prakan",
          "Samut Prakan",
          "Samut Prakan",
          "Samut Prakan",
          "Samut Prakan",
          "Samut Prakan",
          "Samut Prakan",
          "Samut Prakan",
          "Samut Prakan",
          "Samut Prakan",
          "Samut Prakan",
          "Samut Prakan",
          "Samut Prakan",
          "Samut Prakan",
          "Samut Prakan",
          "Samut Prakan",
          "Samut Prakan",
          "Samut Prakan",
          "Samut Prakan",
          "Samut Prakan",
          "Samut Prakan",
          "Samut Prakan",
          "Samut Prakan",
          "Samut Prakan",
          "Samut Prakan",
          "Samut Prakan",
          "Samut Prakan",
          "Samut Prakan",
          "Samut Prakan",
          "Samut Prakan",
          "Samut Prakan",
          "Samut Prakan",
          "Samut Prakan",
          "Samut Prakan",
          "Samut Prakan",
          "Samut Prakan",
          "Samut Prakan"
         ],
         "xaxis": "x",
         "y": [
          2.2009427547454834,
          1.9996305704116821,
          1.9996305704116821,
          2.300997734069824,
          1.4999604225158691,
          2.500140905380249,
          2.500140905380249,
          2.6996939182281494,
          2.6996939182281494,
          2.500140905380249,
          2.39943790435791,
          2.6996939182281494,
          2.497049570083618,
          0.7001014947891235,
          2.900212526321411,
          2.39943790435791,
          2.6996939182281494,
          2.6996939182281494,
          6.5003767013549805,
          2.900212526321411,
          2.500140905380249,
          1.9004533290863037,
          2.500140905380249,
          3.0996804237365723,
          2.8007826805114746,
          1.0007883310317993,
          3.1998956203460693,
          2.8007826805114746,
          10.601588249206543,
          3.4005353450775146,
          1.6987276077270508,
          2.500140905380249,
          1.9996305704116821,
          2.2009427547454834,
          3.0002808570861816,
          2.6996939182281494,
          2.900212526321411,
          2.6996939182281494,
          2.2009427547454834,
          2.799882411956787,
          2.39943790435791,
          1.9996305704116821,
          1.9996305704116821,
          2.39943790435791,
          0.799848198890686,
          2.6996939182281494,
          1.9996305704116821,
          2.300997734069824,
          1.9996305704116821,
          2.500140905380249,
          2.500140905380249,
          2.6996939182281494,
          2.2009427547454834,
          2.2009427547454834,
          2.2009427547454834,
          2.8007826805114746,
          2.6996939182281494,
          1.9996305704116821,
          2.6996939182281494,
          2.39943790435791,
          2.900212526321411,
          2.500140905380249,
          2.39943790435791,
          2.500140905380249,
          2.900212526321411,
          3.8023650646209717,
          2.900212526321411,
          2.500140905380249,
          2.6996939182281494,
          3.3004257678985596,
          2.6996939182281494,
          1.2006566524505615,
          0.8998897671699524,
          2.3945329189300537,
          2.2009427547454834,
          2.500140905380249,
          2.6996939182281494,
          1.2006566524505615,
          2.9002692699432373,
          2.39943790435791,
          1.4999604225158691,
          2.900212526321411,
          2.6996939182281494,
          2.6996939182281494,
          6.102352619171143,
          2.6996939182281494,
          1.9004533290863037,
          1.9996305704116821,
          2.497049570083618,
          3.0002808570861816,
          2.500140905380249,
          2.500140905380249,
          2.39943790435791,
          2.600679874420166,
          3.0996804237365723,
          3.298584461212158,
          1.9996305704116821,
          3.4994654655456543,
          2.900212526321411,
          1.9996305704116821,
          2.900212526321411,
          2.39943790435791,
          4.000574588775635,
          2.2009427547454834,
          2.6996939182281494,
          1.4999604225158691,
          1.2002246379852295,
          2.497049570083618
         ],
         "yaxis": "y"
        }
       ],
       "layout": {
        "legend": {
         "title": {
          "text": "place_name"
         },
         "tracegroupgap": 0
        },
        "template": {
         "data": {
          "bar": [
           {
            "error_x": {
             "color": "#2a3f5f"
            },
            "error_y": {
             "color": "#2a3f5f"
            },
            "marker": {
             "line": {
              "color": "#E5ECF6",
              "width": 0.5
             },
             "pattern": {
              "fillmode": "overlay",
              "size": 10,
              "solidity": 0.2
             }
            },
            "type": "bar"
           }
          ],
          "barpolar": [
           {
            "marker": {
             "line": {
              "color": "#E5ECF6",
              "width": 0.5
             },
             "pattern": {
              "fillmode": "overlay",
              "size": 10,
              "solidity": 0.2
             }
            },
            "type": "barpolar"
           }
          ],
          "carpet": [
           {
            "aaxis": {
             "endlinecolor": "#2a3f5f",
             "gridcolor": "white",
             "linecolor": "white",
             "minorgridcolor": "white",
             "startlinecolor": "#2a3f5f"
            },
            "baxis": {
             "endlinecolor": "#2a3f5f",
             "gridcolor": "white",
             "linecolor": "white",
             "minorgridcolor": "white",
             "startlinecolor": "#2a3f5f"
            },
            "type": "carpet"
           }
          ],
          "choropleth": [
           {
            "colorbar": {
             "outlinewidth": 0,
             "ticks": ""
            },
            "type": "choropleth"
           }
          ],
          "contour": [
           {
            "colorbar": {
             "outlinewidth": 0,
             "ticks": ""
            },
            "colorscale": [
             [
              0,
              "#0d0887"
             ],
             [
              0.1111111111111111,
              "#46039f"
             ],
             [
              0.2222222222222222,
              "#7201a8"
             ],
             [
              0.3333333333333333,
              "#9c179e"
             ],
             [
              0.4444444444444444,
              "#bd3786"
             ],
             [
              0.5555555555555556,
              "#d8576b"
             ],
             [
              0.6666666666666666,
              "#ed7953"
             ],
             [
              0.7777777777777778,
              "#fb9f3a"
             ],
             [
              0.8888888888888888,
              "#fdca26"
             ],
             [
              1,
              "#f0f921"
             ]
            ],
            "type": "contour"
           }
          ],
          "contourcarpet": [
           {
            "colorbar": {
             "outlinewidth": 0,
             "ticks": ""
            },
            "type": "contourcarpet"
           }
          ],
          "heatmap": [
           {
            "colorbar": {
             "outlinewidth": 0,
             "ticks": ""
            },
            "colorscale": [
             [
              0,
              "#0d0887"
             ],
             [
              0.1111111111111111,
              "#46039f"
             ],
             [
              0.2222222222222222,
              "#7201a8"
             ],
             [
              0.3333333333333333,
              "#9c179e"
             ],
             [
              0.4444444444444444,
              "#bd3786"
             ],
             [
              0.5555555555555556,
              "#d8576b"
             ],
             [
              0.6666666666666666,
              "#ed7953"
             ],
             [
              0.7777777777777778,
              "#fb9f3a"
             ],
             [
              0.8888888888888888,
              "#fdca26"
             ],
             [
              1,
              "#f0f921"
             ]
            ],
            "type": "heatmap"
           }
          ],
          "heatmapgl": [
           {
            "colorbar": {
             "outlinewidth": 0,
             "ticks": ""
            },
            "colorscale": [
             [
              0,
              "#0d0887"
             ],
             [
              0.1111111111111111,
              "#46039f"
             ],
             [
              0.2222222222222222,
              "#7201a8"
             ],
             [
              0.3333333333333333,
              "#9c179e"
             ],
             [
              0.4444444444444444,
              "#bd3786"
             ],
             [
              0.5555555555555556,
              "#d8576b"
             ],
             [
              0.6666666666666666,
              "#ed7953"
             ],
             [
              0.7777777777777778,
              "#fb9f3a"
             ],
             [
              0.8888888888888888,
              "#fdca26"
             ],
             [
              1,
              "#f0f921"
             ]
            ],
            "type": "heatmapgl"
           }
          ],
          "histogram": [
           {
            "marker": {
             "pattern": {
              "fillmode": "overlay",
              "size": 10,
              "solidity": 0.2
             }
            },
            "type": "histogram"
           }
          ],
          "histogram2d": [
           {
            "colorbar": {
             "outlinewidth": 0,
             "ticks": ""
            },
            "colorscale": [
             [
              0,
              "#0d0887"
             ],
             [
              0.1111111111111111,
              "#46039f"
             ],
             [
              0.2222222222222222,
              "#7201a8"
             ],
             [
              0.3333333333333333,
              "#9c179e"
             ],
             [
              0.4444444444444444,
              "#bd3786"
             ],
             [
              0.5555555555555556,
              "#d8576b"
             ],
             [
              0.6666666666666666,
              "#ed7953"
             ],
             [
              0.7777777777777778,
              "#fb9f3a"
             ],
             [
              0.8888888888888888,
              "#fdca26"
             ],
             [
              1,
              "#f0f921"
             ]
            ],
            "type": "histogram2d"
           }
          ],
          "histogram2dcontour": [
           {
            "colorbar": {
             "outlinewidth": 0,
             "ticks": ""
            },
            "colorscale": [
             [
              0,
              "#0d0887"
             ],
             [
              0.1111111111111111,
              "#46039f"
             ],
             [
              0.2222222222222222,
              "#7201a8"
             ],
             [
              0.3333333333333333,
              "#9c179e"
             ],
             [
              0.4444444444444444,
              "#bd3786"
             ],
             [
              0.5555555555555556,
              "#d8576b"
             ],
             [
              0.6666666666666666,
              "#ed7953"
             ],
             [
              0.7777777777777778,
              "#fb9f3a"
             ],
             [
              0.8888888888888888,
              "#fdca26"
             ],
             [
              1,
              "#f0f921"
             ]
            ],
            "type": "histogram2dcontour"
           }
          ],
          "mesh3d": [
           {
            "colorbar": {
             "outlinewidth": 0,
             "ticks": ""
            },
            "type": "mesh3d"
           }
          ],
          "parcoords": [
           {
            "line": {
             "colorbar": {
              "outlinewidth": 0,
              "ticks": ""
             }
            },
            "type": "parcoords"
           }
          ],
          "pie": [
           {
            "automargin": true,
            "type": "pie"
           }
          ],
          "scatter": [
           {
            "fillpattern": {
             "fillmode": "overlay",
             "size": 10,
             "solidity": 0.2
            },
            "type": "scatter"
           }
          ],
          "scatter3d": [
           {
            "line": {
             "colorbar": {
              "outlinewidth": 0,
              "ticks": ""
             }
            },
            "marker": {
             "colorbar": {
              "outlinewidth": 0,
              "ticks": ""
             }
            },
            "type": "scatter3d"
           }
          ],
          "scattercarpet": [
           {
            "marker": {
             "colorbar": {
              "outlinewidth": 0,
              "ticks": ""
             }
            },
            "type": "scattercarpet"
           }
          ],
          "scattergeo": [
           {
            "marker": {
             "colorbar": {
              "outlinewidth": 0,
              "ticks": ""
             }
            },
            "type": "scattergeo"
           }
          ],
          "scattergl": [
           {
            "marker": {
             "colorbar": {
              "outlinewidth": 0,
              "ticks": ""
             }
            },
            "type": "scattergl"
           }
          ],
          "scattermapbox": [
           {
            "marker": {
             "colorbar": {
              "outlinewidth": 0,
              "ticks": ""
             }
            },
            "type": "scattermapbox"
           }
          ],
          "scatterpolar": [
           {
            "marker": {
             "colorbar": {
              "outlinewidth": 0,
              "ticks": ""
             }
            },
            "type": "scatterpolar"
           }
          ],
          "scatterpolargl": [
           {
            "marker": {
             "colorbar": {
              "outlinewidth": 0,
              "ticks": ""
             }
            },
            "type": "scatterpolargl"
           }
          ],
          "scatterternary": [
           {
            "marker": {
             "colorbar": {
              "outlinewidth": 0,
              "ticks": ""
             }
            },
            "type": "scatterternary"
           }
          ],
          "surface": [
           {
            "colorbar": {
             "outlinewidth": 0,
             "ticks": ""
            },
            "colorscale": [
             [
              0,
              "#0d0887"
             ],
             [
              0.1111111111111111,
              "#46039f"
             ],
             [
              0.2222222222222222,
              "#7201a8"
             ],
             [
              0.3333333333333333,
              "#9c179e"
             ],
             [
              0.4444444444444444,
              "#bd3786"
             ],
             [
              0.5555555555555556,
              "#d8576b"
             ],
             [
              0.6666666666666666,
              "#ed7953"
             ],
             [
              0.7777777777777778,
              "#fb9f3a"
             ],
             [
              0.8888888888888888,
              "#fdca26"
             ],
             [
              1,
              "#f0f921"
             ]
            ],
            "type": "surface"
           }
          ],
          "table": [
           {
            "cells": {
             "fill": {
              "color": "#EBF0F8"
             },
             "line": {
              "color": "white"
             }
            },
            "header": {
             "fill": {
              "color": "#C8D4E3"
             },
             "line": {
              "color": "white"
             }
            },
            "type": "table"
           }
          ]
         },
         "layout": {
          "annotationdefaults": {
           "arrowcolor": "#2a3f5f",
           "arrowhead": 0,
           "arrowwidth": 1
          },
          "autotypenumbers": "strict",
          "coloraxis": {
           "colorbar": {
            "outlinewidth": 0,
            "ticks": ""
           }
          },
          "colorscale": {
           "diverging": [
            [
             0,
             "#8e0152"
            ],
            [
             0.1,
             "#c51b7d"
            ],
            [
             0.2,
             "#de77ae"
            ],
            [
             0.3,
             "#f1b6da"
            ],
            [
             0.4,
             "#fde0ef"
            ],
            [
             0.5,
             "#f7f7f7"
            ],
            [
             0.6,
             "#e6f5d0"
            ],
            [
             0.7,
             "#b8e186"
            ],
            [
             0.8,
             "#7fbc41"
            ],
            [
             0.9,
             "#4d9221"
            ],
            [
             1,
             "#276419"
            ]
           ],
           "sequential": [
            [
             0,
             "#0d0887"
            ],
            [
             0.1111111111111111,
             "#46039f"
            ],
            [
             0.2222222222222222,
             "#7201a8"
            ],
            [
             0.3333333333333333,
             "#9c179e"
            ],
            [
             0.4444444444444444,
             "#bd3786"
            ],
            [
             0.5555555555555556,
             "#d8576b"
            ],
            [
             0.6666666666666666,
             "#ed7953"
            ],
            [
             0.7777777777777778,
             "#fb9f3a"
            ],
            [
             0.8888888888888888,
             "#fdca26"
            ],
            [
             1,
             "#f0f921"
            ]
           ],
           "sequentialminus": [
            [
             0,
             "#0d0887"
            ],
            [
             0.1111111111111111,
             "#46039f"
            ],
            [
             0.2222222222222222,
             "#7201a8"
            ],
            [
             0.3333333333333333,
             "#9c179e"
            ],
            [
             0.4444444444444444,
             "#bd3786"
            ],
            [
             0.5555555555555556,
             "#d8576b"
            ],
            [
             0.6666666666666666,
             "#ed7953"
            ],
            [
             0.7777777777777778,
             "#fb9f3a"
            ],
            [
             0.8888888888888888,
             "#fdca26"
            ],
            [
             1,
             "#f0f921"
            ]
           ]
          },
          "colorway": [
           "#636efa",
           "#EF553B",
           "#00cc96",
           "#ab63fa",
           "#FFA15A",
           "#19d3f3",
           "#FF6692",
           "#B6E880",
           "#FF97FF",
           "#FECB52"
          ],
          "font": {
           "color": "#2a3f5f"
          },
          "geo": {
           "bgcolor": "white",
           "lakecolor": "white",
           "landcolor": "#E5ECF6",
           "showlakes": true,
           "showland": true,
           "subunitcolor": "white"
          },
          "hoverlabel": {
           "align": "left"
          },
          "hovermode": "closest",
          "mapbox": {
           "style": "light"
          },
          "paper_bgcolor": "white",
          "plot_bgcolor": "#E5ECF6",
          "polar": {
           "angularaxis": {
            "gridcolor": "white",
            "linecolor": "white",
            "ticks": ""
           },
           "bgcolor": "#E5ECF6",
           "radialaxis": {
            "gridcolor": "white",
            "linecolor": "white",
            "ticks": ""
           }
          },
          "scene": {
           "xaxis": {
            "backgroundcolor": "#E5ECF6",
            "gridcolor": "white",
            "gridwidth": 2,
            "linecolor": "white",
            "showbackground": true,
            "ticks": "",
            "zerolinecolor": "white"
           },
           "yaxis": {
            "backgroundcolor": "#E5ECF6",
            "gridcolor": "white",
            "gridwidth": 2,
            "linecolor": "white",
            "showbackground": true,
            "ticks": "",
            "zerolinecolor": "white"
           },
           "zaxis": {
            "backgroundcolor": "#E5ECF6",
            "gridcolor": "white",
            "gridwidth": 2,
            "linecolor": "white",
            "showbackground": true,
            "ticks": "",
            "zerolinecolor": "white"
           }
          },
          "shapedefaults": {
           "line": {
            "color": "#2a3f5f"
           }
          },
          "ternary": {
           "aaxis": {
            "gridcolor": "white",
            "linecolor": "white",
            "ticks": ""
           },
           "baxis": {
            "gridcolor": "white",
            "linecolor": "white",
            "ticks": ""
           },
           "bgcolor": "#E5ECF6",
           "caxis": {
            "gridcolor": "white",
            "linecolor": "white",
            "ticks": ""
           }
          },
          "title": {
           "x": 0.05
          },
          "xaxis": {
           "automargin": true,
           "gridcolor": "white",
           "linecolor": "white",
           "ticks": "",
           "title": {
            "standoff": 15
           },
           "zerolinecolor": "white",
           "zerolinewidth": 2
          },
          "yaxis": {
           "automargin": true,
           "gridcolor": "white",
           "linecolor": "white",
           "ticks": "",
           "title": {
            "standoff": 15
           },
           "zerolinecolor": "white",
           "zerolinewidth": 2
          }
         }
        },
        "title": {
         "text": "Scatter Plot of Predicted Scores by Place Name"
        },
        "xaxis": {
         "anchor": "y",
         "categoryarray": [
          "Bangkok",
          "Nonthaburi",
          "Pathum Thani",
          "Phra Nakhon Si Ayutthaya",
          "Ang Thong",
          "Sing Buri",
          "Chai Nat",
          "Saraburi",
          "Nakhon Nayok",
          "Nakhon Sawan",
          "Uthai Thani",
          "Kamphaeng Phet",
          "Sukhothai",
          "Phitsanulok",
          "Phichit",
          "Phetchabun",
          "Samut Prakan"
         ],
         "categoryorder": "array",
         "domain": [
          0,
          1
         ],
         "title": {
          "text": "place_name"
         }
        },
        "yaxis": {
         "anchor": "x",
         "domain": [
          0,
          1
         ],
         "title": {
          "text": "predicted_score"
         }
        }
       }
      }
     },
     "metadata": {},
     "output_type": "display_data"
    }
   ],
   "source": [
    "# Create scatter plot using Plotly\n",
    "fig = px.scatter(\n",
    "    review_sentiment_df, \n",
    "    x='place_name', \n",
    "    y='predicted_score', \n",
    "    color='place_name',  # Optional: to color points by place_name\n",
    "    hover_data=['location_name'],  # Display location_name when hovering\n",
    "    title=\"Scatter Plot of Predicted Scores by Place Name\"\n",
    ")\n",
    "\n",
    "# Show the plot\n",
    "fig.show()"
   ]
  },
  {
   "cell_type": "code",
   "execution_count": 3,
   "metadata": {},
   "outputs": [
    {
     "name": "stdout",
     "output_type": "stream",
     "text": [
      "Data with calculated ratings:\n",
      "   tourist_id  place_id  score sentiment  rating\n",
      "0           1       101      4  positive      90\n",
      "1           2       102      5  positive     100\n",
      "2           3       103      3   neutral      60\n",
      "3           4       104      4  negative      70\n",
      "4           5       105      2  positive      50\n"
     ]
    }
   ],
   "source": [
    "# ----------------------------\n",
    "# 1. การเตรียมข้อมูล\n",
    "# ----------------------------\n",
    "\n",
    "# สมมติว่าเรามีข้อมูลดังนี้\n",
    "data = {\n",
    "    'tourist_id': [1, 2, 3, 4, 5],\n",
    "    'place_id': [101, 102, 103, 104, 105],\n",
    "    'score': [4, 5, 3, 4, 2],\n",
    "    'sentiment': ['positive', 'positive', 'neutral', 'negative', 'positive']\n",
    "}\n",
    "\n",
    "df = pd.DataFrame(data)\n",
    "\n",
    "# แปลง sentiment เป็นตัวเลข\n",
    "sentiment_mapping = {'positive': 1, 'neutral': 0, 'negative': -1}\n",
    "df['sentiment_score'] = df['sentiment'].map(sentiment_mapping)\n",
    "\n",
    "# คำนวณ rating\n",
    "df['rating'] = (df['score'] * 20) + (df['sentiment_score'] * 10)\n",
    "df['rating'] = df['rating'].clip(1, 100)  # เพื่อให้ค่าอยู่ระหว่าง 1-100\n",
    "\n",
    "print(\"Data with calculated ratings:\")\n",
    "print(df[['tourist_id', 'place_id', 'score', 'sentiment', 'rating']])"
   ]
  },
  {
   "cell_type": "code",
   "execution_count": 5,
   "metadata": {},
   "outputs": [],
   "source": [
    "# ----------------------------\n",
    "# 3. การแนะนำสถานที่สำหรับผู้ใช้\n",
    "# ----------------------------\n",
    "\n",
    "def get_recommendations(algo, user_id, df, num_recommendations=5):\n",
    "    # ดึงรายการสถานที่ทั้งหมด\n",
    "    all_places = df['place_id'].unique()\n",
    "    \n",
    "    # ดึงรายการสถานที่ที่ผู้ใช้ยังไม่เคยให้คะแนน\n",
    "    user_places = df[df['tourist_id'] == user_id]['place_id']\n",
    "    places_to_predict = np.setdiff1d(all_places, user_places)\n",
    "    \n",
    "    # ทำนาย rating สำหรับสถานที่ที่ยังไม่เคยให้คะแนน\n",
    "    predictions = [algo.predict(user_id, place_id) for place_id in places_to_predict]\n",
    "    \n",
    "    # จัดเรียงตาม rating ที่ทำนายได้\n",
    "    predictions.sort(key=lambda x: x.est, reverse=True)\n",
    "    \n",
    "    # เลือก top N recommendations\n",
    "    top_predictions = predictions[:num_recommendations]\n",
    "    \n",
    "    # สร้าง DataFrame ผลลัพธ์\n",
    "    recommendations = pd.DataFrame({\n",
    "        'place_id': [pred.iid for pred in top_predictions],\n",
    "        'estimated_rating': [pred.est for pred in top_predictions]\n",
    "    })\n",
    "    \n",
    "    return recommendations\n"
   ]
  },
  {
   "cell_type": "code",
   "execution_count": 6,
   "metadata": {},
   "outputs": [
    {
     "name": "stdout",
     "output_type": "stream",
     "text": [
      "\n",
      "Recommendations for user 1:\n",
      "   place_id  estimated_rating\n",
      "0       102         77.299194\n",
      "1       104         76.175460\n",
      "2       103         75.265293\n"
     ]
    }
   ],
   "source": [
    "# ตัวอย่างการแนะนำสถานที่สำหรับผู้ใช้ที่มี tourist_id = 1\n",
    "user_id = 1\n",
    "recommendations = get_recommendations(algo, user_id, df, num_recommendations=3)\n",
    "\n",
    "print(f\"\\nRecommendations for user {user_id}:\")\n",
    "print(recommendations)"
   ]
  },
  {
   "cell_type": "code",
   "execution_count": 7,
   "metadata": {},
   "outputs": [],
   "source": [
    "\n",
    "# ----------------------------\n",
    "# 4. การสร้าง Visualization สำหรับขั้นตอน Evaluate\n",
    "# ----------------------------\n",
    "\n",
    "# สร้าง DataFrame สำหรับการเปรียบเทียบค่าที่ทำนายกับค่าจริง\n",
    "eval_df = pd.DataFrame(predictions, columns=['uid', 'iid', 'r_ui', 'est', 'details'])\n",
    "eval_df['error'] = eval_df['est'] - eval_df['r_ui']"
   ]
  },
  {
   "cell_type": "code",
   "execution_count": 8,
   "metadata": {},
   "outputs": [
    {
     "data": {
      "image/png": "[encoded data removed]",
      "text/plain": [
       "<Figure size 1000x600 with 1 Axes>"
      ]
     },
     "metadata": {},
     "output_type": "display_data"
    }
   ],
   "source": [
    "# สร้างแผนภูมิการกระจายของค่าที่ทำนายได้เทียบกับค่าจริง\n",
    "plt.figure(figsize=(10, 6))\n",
    "plt.scatter(eval_df['r_ui'], eval_df['est'], alpha=0.5)\n",
    "plt.plot([0, 100], [0, 100], '--r')\n",
    "plt.xlabel('True Rating')\n",
    "plt.ylabel('Estimated Rating')\n",
    "plt.title('True vs Estimated Ratings')\n",
    "plt.grid(True)\n",
    "plt.show()"
   ]
  },
  {
   "cell_type": "code",
   "execution_count": 9,
   "metadata": {},
   "outputs": [
    {
     "data": {
      "image/png": "[encoded data removed]",
      "text/plain": [
       "<Figure size 1000x600 with 1 Axes>"
      ]
     },
     "metadata": {},
     "output_type": "display_data"
    }
   ],
   "source": [
    "# สร้างแผนภูมิ histogram ของข้อผิดพลาด\n",
    "plt.figure(figsize=(10, 6))\n",
    "plt.hist(eval_df['error'], bins=20, edgecolor='k')\n",
    "plt.xlabel('Prediction Error')\n",
    "plt.ylabel('Frequency')\n",
    "plt.title('Distribution of Prediction Errors')\n",
    "plt.grid(True)\n",
    "plt.show()"
   ]
  }
 ],
 "metadata": {
  "kernelspec": {
   "display_name": "is-project-thailand-tourism-recommendation-qwL-LsgH-py3.12",
   "language": "python",
   "name": "python3"
  },
  "language_info": {
   "codemirror_mode": {
    "name": "ipython",
    "version": 3
   },
   "file_extension": ".py",
   "mimetype": "text/x-python",
   "name": "python",
   "nbconvert_exporter": "python",
   "pygments_lexer": "ipython3",
   "version": "3.12.5"
  }
 },
 "nbformat": 4,
 "nbformat_minor": 2
}
