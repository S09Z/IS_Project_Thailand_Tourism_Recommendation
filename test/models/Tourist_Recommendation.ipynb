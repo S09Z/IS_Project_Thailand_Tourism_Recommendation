{
 "cells": [
  {
   "cell_type": "markdown",
   "metadata": {},
   "source": [
    "## Model\n",
    "\n",
    "#### (1) SVM, \n",
    "#### (2) Naive Bayer, \n",
    "#### (3) XGBooster,\n",
    "#### (4) Logistic, \n",
    "#### (5) Dicision Tree, \n",
    "#### (6) K-Nearest Neibor, \n",
    "#### (7) Random Forest"
   ]
  },
  {
   "cell_type": "code",
   "execution_count": 43,
   "metadata": {},
   "outputs": [],
   "source": [
    "import pandas as pd\n",
    "import numpy as np\n",
    "# from surprise import Dataset, Reader, SVD\n",
    "# from surprise.model_selection import train_test_split, cross_validate\n",
    "# from surprise.accuracy import rmse\n",
    "import matplotlib.pyplot as plt"
   ]
  },
  {
   "cell_type": "code",
   "execution_count": 44,
   "metadata": {},
   "outputs": [
    {
     "data": {
      "text/html": [
       "<div>\n",
       "<style scoped>\n",
       "    .dataframe tbody tr th:only-of-type {\n",
       "        vertical-align: middle;\n",
       "    }\n",
       "\n",
       "    .dataframe tbody tr th {\n",
       "        vertical-align: top;\n",
       "    }\n",
       "\n",
       "    .dataframe thead th {\n",
       "        text-align: right;\n",
       "    }\n",
       "</style>\n",
       "<table border=\"1\" class=\"dataframe\">\n",
       "  <thead>\n",
       "    <tr style=\"text-align: right;\">\n",
       "      <th></th>\n",
       "      <th>Unnamed: 0</th>\n",
       "      <th>location_id</th>\n",
       "      <th>location_name</th>\n",
       "      <th>trip_type</th>\n",
       "      <th>rating</th>\n",
       "      <th>helpful_voting</th>\n",
       "      <th>review_text</th>\n",
       "      <th>actual_sentiment</th>\n",
       "      <th>predicted_sentiment</th>\n",
       "      <th>place_id</th>\n",
       "      <th>place_name</th>\n",
       "      <th>emotion</th>\n",
       "      <th>review_id</th>\n",
       "    </tr>\n",
       "  </thead>\n",
       "  <tbody>\n",
       "    <tr>\n",
       "      <th>0</th>\n",
       "      <td>8</td>\n",
       "      <td>2273363.0</td>\n",
       "      <td>Wat Rajapradit Sathitmahasimaram Rajaworavihara</td>\n",
       "      <td>NONE</td>\n",
       "      <td>5.0</td>\n",
       "      <td>2.0</td>\n",
       "      <td>One of the least crowded temples but very beau...</td>\n",
       "      <td>2</td>\n",
       "      <td>2</td>\n",
       "      <td>P03013220</td>\n",
       "      <td>Bangkok</td>\n",
       "      <td>love</td>\n",
       "      <td>738692369.0</td>\n",
       "    </tr>\n",
       "    <tr>\n",
       "      <th>1</th>\n",
       "      <td>14</td>\n",
       "      <td>311043.0</td>\n",
       "      <td>Wat Phra Chetuphon</td>\n",
       "      <td>Couples</td>\n",
       "      <td>5.0</td>\n",
       "      <td>0.0</td>\n",
       "      <td>The designs, the Buddhas, and other figures fe...</td>\n",
       "      <td>1</td>\n",
       "      <td>1</td>\n",
       "      <td>P03013220</td>\n",
       "      <td>Bangkok</td>\n",
       "      <td>surprise</td>\n",
       "      <td>962482865.0</td>\n",
       "    </tr>\n",
       "    <tr>\n",
       "      <th>2</th>\n",
       "      <td>17</td>\n",
       "      <td>317504.0</td>\n",
       "      <td>Temple Of Dawn (Wat Arun)</td>\n",
       "      <td>Solo travel</td>\n",
       "      <td>5.0</td>\n",
       "      <td>15.0</td>\n",
       "      <td>Known as Temple of Dawn, I went to this temple...</td>\n",
       "      <td>0</td>\n",
       "      <td>0</td>\n",
       "      <td>P03013220</td>\n",
       "      <td>Bangkok</td>\n",
       "      <td>joy</td>\n",
       "      <td>955989676.0</td>\n",
       "    </tr>\n",
       "    <tr>\n",
       "      <th>3</th>\n",
       "      <td>19</td>\n",
       "      <td>317504.0</td>\n",
       "      <td>Temple Of Dawn (Wat Arun)</td>\n",
       "      <td>Family</td>\n",
       "      <td>4.0</td>\n",
       "      <td>0.0</td>\n",
       "      <td>I have to admit that this is a place i have al...</td>\n",
       "      <td>0</td>\n",
       "      <td>0</td>\n",
       "      <td>P03013220</td>\n",
       "      <td>Bangkok</td>\n",
       "      <td>sadness</td>\n",
       "      <td>955712588.0</td>\n",
       "    </tr>\n",
       "    <tr>\n",
       "      <th>4</th>\n",
       "      <td>23</td>\n",
       "      <td>456322.0</td>\n",
       "      <td>Wat Umong</td>\n",
       "      <td>Family</td>\n",
       "      <td>5.0</td>\n",
       "      <td>0.0</td>\n",
       "      <td>The visit to this temple was a good pick for u...</td>\n",
       "      <td>1</td>\n",
       "      <td>2</td>\n",
       "      <td>P03013220</td>\n",
       "      <td>Bangkok</td>\n",
       "      <td>joy</td>\n",
       "      <td>936553670.0</td>\n",
       "    </tr>\n",
       "    <tr>\n",
       "      <th>...</th>\n",
       "      <td>...</td>\n",
       "      <td>...</td>\n",
       "      <td>...</td>\n",
       "      <td>...</td>\n",
       "      <td>...</td>\n",
       "      <td>...</td>\n",
       "      <td>...</td>\n",
       "      <td>...</td>\n",
       "      <td>...</td>\n",
       "      <td>...</td>\n",
       "      <td>...</td>\n",
       "      <td>...</td>\n",
       "      <td>...</td>\n",
       "    </tr>\n",
       "    <tr>\n",
       "      <th>1163</th>\n",
       "      <td>5858</td>\n",
       "      <td>1390151.0</td>\n",
       "      <td>Herbal Steam House</td>\n",
       "      <td>Couples</td>\n",
       "      <td>3.0</td>\n",
       "      <td>0.0</td>\n",
       "      <td>Hubby and I stopped in for our third massage s...</td>\n",
       "      <td>0</td>\n",
       "      <td>0</td>\n",
       "      <td>P03015198</td>\n",
       "      <td>Samut Prakan</td>\n",
       "      <td>joy</td>\n",
       "      <td>694006082.0</td>\n",
       "    </tr>\n",
       "    <tr>\n",
       "      <th>1164</th>\n",
       "      <td>5866</td>\n",
       "      <td>6668995.0</td>\n",
       "      <td>Wat Intharam</td>\n",
       "      <td>Friends getaway</td>\n",
       "      <td>2.0</td>\n",
       "      <td>0.0</td>\n",
       "      <td>Wat Intharam was apparently built during the A...</td>\n",
       "      <td>1</td>\n",
       "      <td>1</td>\n",
       "      <td>P03015157</td>\n",
       "      <td>Samut Prakan</td>\n",
       "      <td>fear</td>\n",
       "      <td>577527835.0</td>\n",
       "    </tr>\n",
       "    <tr>\n",
       "      <th>1165</th>\n",
       "      <td>5880</td>\n",
       "      <td>456191.0</td>\n",
       "      <td>Khuean Srinagarindra National Park</td>\n",
       "      <td>Couples</td>\n",
       "      <td>4.0</td>\n",
       "      <td>1.0</td>\n",
       "      <td>After visiting the nearby waterfalls we drove ...</td>\n",
       "      <td>1</td>\n",
       "      <td>1</td>\n",
       "      <td>P03013837</td>\n",
       "      <td>Samut Prakan</td>\n",
       "      <td>joy</td>\n",
       "      <td>849208855.0</td>\n",
       "    </tr>\n",
       "    <tr>\n",
       "      <th>1166</th>\n",
       "      <td>5893</td>\n",
       "      <td>4322899.0</td>\n",
       "      <td>Prasat Wat Sa Kamphaeng Yai</td>\n",
       "      <td>Friends getaway</td>\n",
       "      <td>4.0</td>\n",
       "      <td>1.0</td>\n",
       "      <td>On same site as Prasat Wat Sa Kampheang Noi {w...</td>\n",
       "      <td>0</td>\n",
       "      <td>0</td>\n",
       "      <td>P03013503</td>\n",
       "      <td>Nonthaburi</td>\n",
       "      <td>joy</td>\n",
       "      <td>261414077.0</td>\n",
       "    </tr>\n",
       "    <tr>\n",
       "      <th>1167</th>\n",
       "      <td>5906</td>\n",
       "      <td>1831068.0</td>\n",
       "      <td>Prasat Puay Noi</td>\n",
       "      <td>Friends getaway</td>\n",
       "      <td>4.0</td>\n",
       "      <td>0.0</td>\n",
       "      <td>I think this place is claimed to be the oldest...</td>\n",
       "      <td>2</td>\n",
       "      <td>1</td>\n",
       "      <td>P03013503</td>\n",
       "      <td>Nonthaburi</td>\n",
       "      <td>joy</td>\n",
       "      <td>693354319.0</td>\n",
       "    </tr>\n",
       "  </tbody>\n",
       "</table>\n",
       "<p>1168 rows × 13 columns</p>\n",
       "</div>"
      ],
      "text/plain": [
       "      Unnamed: 0  location_id  \\\n",
       "0              8    2273363.0   \n",
       "1             14     311043.0   \n",
       "2             17     317504.0   \n",
       "3             19     317504.0   \n",
       "4             23     456322.0   \n",
       "...          ...          ...   \n",
       "1163        5858    1390151.0   \n",
       "1164        5866    6668995.0   \n",
       "1165        5880     456191.0   \n",
       "1166        5893    4322899.0   \n",
       "1167        5906    1831068.0   \n",
       "\n",
       "                                        location_name        trip_type  \\\n",
       "0     Wat Rajapradit Sathitmahasimaram Rajaworavihara             NONE   \n",
       "1                                  Wat Phra Chetuphon          Couples   \n",
       "2                           Temple Of Dawn (Wat Arun)      Solo travel   \n",
       "3                           Temple Of Dawn (Wat Arun)           Family   \n",
       "4                                           Wat Umong           Family   \n",
       "...                                               ...              ...   \n",
       "1163                               Herbal Steam House          Couples   \n",
       "1164                                     Wat Intharam  Friends getaway   \n",
       "1165               Khuean Srinagarindra National Park          Couples   \n",
       "1166                      Prasat Wat Sa Kamphaeng Yai  Friends getaway   \n",
       "1167                                  Prasat Puay Noi  Friends getaway   \n",
       "\n",
       "      rating  helpful_voting  \\\n",
       "0        5.0             2.0   \n",
       "1        5.0             0.0   \n",
       "2        5.0            15.0   \n",
       "3        4.0             0.0   \n",
       "4        5.0             0.0   \n",
       "...      ...             ...   \n",
       "1163     3.0             0.0   \n",
       "1164     2.0             0.0   \n",
       "1165     4.0             1.0   \n",
       "1166     4.0             1.0   \n",
       "1167     4.0             0.0   \n",
       "\n",
       "                                            review_text  actual_sentiment  \\\n",
       "0     One of the least crowded temples but very beau...                 2   \n",
       "1     The designs, the Buddhas, and other figures fe...                 1   \n",
       "2     Known as Temple of Dawn, I went to this temple...                 0   \n",
       "3     I have to admit that this is a place i have al...                 0   \n",
       "4     The visit to this temple was a good pick for u...                 1   \n",
       "...                                                 ...               ...   \n",
       "1163  Hubby and I stopped in for our third massage s...                 0   \n",
       "1164  Wat Intharam was apparently built during the A...                 1   \n",
       "1165  After visiting the nearby waterfalls we drove ...                 1   \n",
       "1166  On same site as Prasat Wat Sa Kampheang Noi {w...                 0   \n",
       "1167  I think this place is claimed to be the oldest...                 2   \n",
       "\n",
       "      predicted_sentiment   place_id    place_name   emotion    review_id  \n",
       "0                       2  P03013220       Bangkok      love  738692369.0  \n",
       "1                       1  P03013220       Bangkok  surprise  962482865.0  \n",
       "2                       0  P03013220       Bangkok       joy  955989676.0  \n",
       "3                       0  P03013220       Bangkok   sadness  955712588.0  \n",
       "4                       2  P03013220       Bangkok       joy  936553670.0  \n",
       "...                   ...        ...           ...       ...          ...  \n",
       "1163                    0  P03015198  Samut Prakan       joy  694006082.0  \n",
       "1164                    1  P03015157  Samut Prakan      fear  577527835.0  \n",
       "1165                    1  P03013837  Samut Prakan       joy  849208855.0  \n",
       "1166                    0  P03013503    Nonthaburi       joy  261414077.0  \n",
       "1167                    1  P03013503    Nonthaburi       joy  693354319.0  \n",
       "\n",
       "[1168 rows x 13 columns]"
      ]
     },
     "execution_count": 44,
     "metadata": {},
     "output_type": "execute_result"
    }
   ],
   "source": [
    "review_sentiment_df = pd.read_csv('output/LSTM_predictions.csv')\n",
    "review_sentiment_df"
   ]
  },
  {
   "cell_type": "code",
   "execution_count": 45,
   "metadata": {},
   "outputs": [
    {
     "data": {
      "image/png": "[encoded data removed]",
      "text/plain": [
       "<Figure size 1200x600 with 2 Axes>"
      ]
     },
     "metadata": {},
     "output_type": "display_data"
    },
    {
     "data": {
      "image/png": "[encoded data removed]",
      "text/plain": [
       "<Figure size 1200x600 with 2 Axes>"
      ]
     },
     "metadata": {},
     "output_type": "display_data"
    }
   ],
   "source": [
    "import matplotlib.pyplot as plt\n",
    "\n",
    "\n",
    "trip_type_counts = review_sentiment_df['trip_type'].value_counts()\n",
    "\n",
    "helpful_voting_counts = review_sentiment_df['helpful_voting'].astype(int).value_counts()\n",
    "\n",
    "helpful_voting_counts = review_sentiment_df['helpful_voting'].astype(int).value_counts()\n",
    "\n",
    "fig, (ax1, ax2) = plt.subplots(1, 2, figsize=(12, 6))\n",
    "\n",
    "ax1.bar(trip_type_counts.index.astype(str), trip_type_counts.values, color='b', alpha=0.6)\n",
    "ax1.set_xlabel('Trip Type')\n",
    "ax1.set_ylabel('Count')\n",
    "ax1.set_title('Count of Each Trip Type')\n",
    "\n",
    "ax2.bar(helpful_voting_counts.index.astype(str), helpful_voting_counts.values, color='r', alpha=0.6)\n",
    "ax2.set_xlabel('Helpful Voting')\n",
    "ax2.set_ylabel('Count')\n",
    "ax2.set_title('Count of Each Helpful Voting Value')\n",
    "\n",
    "fig, (ax3, ax4) = plt.subplots(1, 2, figsize=(12, 6))\n",
    "ax3.bar(helpful_voting_counts.index.astype(str), helpful_voting_counts.values, color='g', alpha=0.6)\n",
    "ax3.set_xlabel('Helpful Voting')\n",
    "ax2.set_ylabel('Count')\n",
    "ax3.set_title('Count of Each Helpful Voting Value')\n",
    "\n",
    "plt.tight_layout()\n",
    "\n",
    "plt.show()\n"
   ]
  },
  {
   "cell_type": "code",
   "execution_count": 46,
   "metadata": {},
   "outputs": [
    {
     "name": "stdout",
     "output_type": "stream",
     "text": [
      "['NONE' 'Couples' 'Solo travel' ... 'Couples' 'Friends getaway'\n",
      " 'Friends getaway']\n"
     ]
    }
   ],
   "source": [
    "print(review_sentiment_df['trip_type'].values)"
   ]
  },
  {
   "cell_type": "code",
   "execution_count": 48,
   "metadata": {},
   "outputs": [
    {
     "data": {
      "text/html": [
       "<div>\n",
       "<style scoped>\n",
       "    .dataframe tbody tr th:only-of-type {\n",
       "        vertical-align: middle;\n",
       "    }\n",
       "\n",
       "    .dataframe tbody tr th {\n",
       "        vertical-align: top;\n",
       "    }\n",
       "\n",
       "    .dataframe thead th {\n",
       "        text-align: right;\n",
       "    }\n",
       "</style>\n",
       "<table border=\"1\" class=\"dataframe\">\n",
       "  <thead>\n",
       "    <tr style=\"text-align: right;\">\n",
       "      <th></th>\n",
       "      <th>predicted_sentiment</th>\n",
       "      <th>helpful_voting</th>\n",
       "      <th>rating</th>\n",
       "      <th>location_name</th>\n",
       "      <th>place_name</th>\n",
       "      <th>review_id</th>\n",
       "    </tr>\n",
       "  </thead>\n",
       "  <tbody>\n",
       "    <tr>\n",
       "      <th>0</th>\n",
       "      <td>2</td>\n",
       "      <td>2.0</td>\n",
       "      <td>5.0</td>\n",
       "      <td>Wat Rajapradit Sathitmahasimaram Rajaworavihara</td>\n",
       "      <td>Bangkok</td>\n",
       "      <td>738692369.0</td>\n",
       "    </tr>\n",
       "    <tr>\n",
       "      <th>1</th>\n",
       "      <td>1</td>\n",
       "      <td>0.0</td>\n",
       "      <td>5.0</td>\n",
       "      <td>Wat Phra Chetuphon</td>\n",
       "      <td>Bangkok</td>\n",
       "      <td>962482865.0</td>\n",
       "    </tr>\n",
       "    <tr>\n",
       "      <th>2</th>\n",
       "      <td>0</td>\n",
       "      <td>15.0</td>\n",
       "      <td>5.0</td>\n",
       "      <td>Temple Of Dawn (Wat Arun)</td>\n",
       "      <td>Bangkok</td>\n",
       "      <td>955989676.0</td>\n",
       "    </tr>\n",
       "    <tr>\n",
       "      <th>3</th>\n",
       "      <td>0</td>\n",
       "      <td>0.0</td>\n",
       "      <td>4.0</td>\n",
       "      <td>Temple Of Dawn (Wat Arun)</td>\n",
       "      <td>Bangkok</td>\n",
       "      <td>955712588.0</td>\n",
       "    </tr>\n",
       "    <tr>\n",
       "      <th>4</th>\n",
       "      <td>2</td>\n",
       "      <td>0.0</td>\n",
       "      <td>5.0</td>\n",
       "      <td>Wat Umong</td>\n",
       "      <td>Bangkok</td>\n",
       "      <td>936553670.0</td>\n",
       "    </tr>\n",
       "    <tr>\n",
       "      <th>...</th>\n",
       "      <td>...</td>\n",
       "      <td>...</td>\n",
       "      <td>...</td>\n",
       "      <td>...</td>\n",
       "      <td>...</td>\n",
       "      <td>...</td>\n",
       "    </tr>\n",
       "    <tr>\n",
       "      <th>1163</th>\n",
       "      <td>0</td>\n",
       "      <td>0.0</td>\n",
       "      <td>3.0</td>\n",
       "      <td>Herbal Steam House</td>\n",
       "      <td>Samut Prakan</td>\n",
       "      <td>694006082.0</td>\n",
       "    </tr>\n",
       "    <tr>\n",
       "      <th>1164</th>\n",
       "      <td>1</td>\n",
       "      <td>0.0</td>\n",
       "      <td>2.0</td>\n",
       "      <td>Wat Intharam</td>\n",
       "      <td>Samut Prakan</td>\n",
       "      <td>577527835.0</td>\n",
       "    </tr>\n",
       "    <tr>\n",
       "      <th>1165</th>\n",
       "      <td>1</td>\n",
       "      <td>1.0</td>\n",
       "      <td>4.0</td>\n",
       "      <td>Khuean Srinagarindra National Park</td>\n",
       "      <td>Samut Prakan</td>\n",
       "      <td>849208855.0</td>\n",
       "    </tr>\n",
       "    <tr>\n",
       "      <th>1166</th>\n",
       "      <td>0</td>\n",
       "      <td>1.0</td>\n",
       "      <td>4.0</td>\n",
       "      <td>Prasat Wat Sa Kamphaeng Yai</td>\n",
       "      <td>Nonthaburi</td>\n",
       "      <td>261414077.0</td>\n",
       "    </tr>\n",
       "    <tr>\n",
       "      <th>1167</th>\n",
       "      <td>1</td>\n",
       "      <td>0.0</td>\n",
       "      <td>4.0</td>\n",
       "      <td>Prasat Puay Noi</td>\n",
       "      <td>Nonthaburi</td>\n",
       "      <td>693354319.0</td>\n",
       "    </tr>\n",
       "  </tbody>\n",
       "</table>\n",
       "<p>1168 rows × 6 columns</p>\n",
       "</div>"
      ],
      "text/plain": [
       "      predicted_sentiment  helpful_voting  rating  \\\n",
       "0                       2             2.0     5.0   \n",
       "1                       1             0.0     5.0   \n",
       "2                       0            15.0     5.0   \n",
       "3                       0             0.0     4.0   \n",
       "4                       2             0.0     5.0   \n",
       "...                   ...             ...     ...   \n",
       "1163                    0             0.0     3.0   \n",
       "1164                    1             0.0     2.0   \n",
       "1165                    1             1.0     4.0   \n",
       "1166                    0             1.0     4.0   \n",
       "1167                    1             0.0     4.0   \n",
       "\n",
       "                                        location_name    place_name  \\\n",
       "0     Wat Rajapradit Sathitmahasimaram Rajaworavihara       Bangkok   \n",
       "1                                  Wat Phra Chetuphon       Bangkok   \n",
       "2                           Temple Of Dawn (Wat Arun)       Bangkok   \n",
       "3                           Temple Of Dawn (Wat Arun)       Bangkok   \n",
       "4                                           Wat Umong       Bangkok   \n",
       "...                                               ...           ...   \n",
       "1163                               Herbal Steam House  Samut Prakan   \n",
       "1164                                     Wat Intharam  Samut Prakan   \n",
       "1165               Khuean Srinagarindra National Park  Samut Prakan   \n",
       "1166                      Prasat Wat Sa Kamphaeng Yai    Nonthaburi   \n",
       "1167                                  Prasat Puay Noi    Nonthaburi   \n",
       "\n",
       "        review_id  \n",
       "0     738692369.0  \n",
       "1     962482865.0  \n",
       "2     955989676.0  \n",
       "3     955712588.0  \n",
       "4     936553670.0  \n",
       "...           ...  \n",
       "1163  694006082.0  \n",
       "1164  577527835.0  \n",
       "1165  849208855.0  \n",
       "1166  261414077.0  \n",
       "1167  693354319.0  \n",
       "\n",
       "[1168 rows x 6 columns]"
      ]
     },
     "execution_count": 48,
     "metadata": {},
     "output_type": "execute_result"
    }
   ],
   "source": [
    "review_sentiment_df[[\"predicted_sentiment\", \"helpful_voting\", \"rating\", \"location_name\", \"place_name\", \"review_id\"]]"
   ]
  },
  {
   "cell_type": "code",
   "execution_count": 49,
   "metadata": {},
   "outputs": [],
   "source": [
    "from sklearn.model_selection import train_test_split\n",
    "from sklearn.metrics import mean_squared_error\n",
    "import xgboost as xgb"
   ]
  },
  {
   "cell_type": "code",
   "execution_count": 50,
   "metadata": {},
   "outputs": [
    {
     "name": "stdout",
     "output_type": "stream",
     "text": [
      "Mean Squared Error on test set: 0.016830854473337972\n",
      "                                        location_name    place_name  \\\n",
      "0     Wat Rajapradit Sathitmahasimaram Rajaworavihara       Bangkok   \n",
      "1                                  Wat Phra Chetuphon       Bangkok   \n",
      "2                           Temple Of Dawn (Wat Arun)       Bangkok   \n",
      "3                           Temple Of Dawn (Wat Arun)       Bangkok   \n",
      "4                                           Wat Umong       Bangkok   \n",
      "...                                               ...           ...   \n",
      "1163                               Herbal Steam House  Samut Prakan   \n",
      "1164                                     Wat Intharam  Samut Prakan   \n",
      "1165               Khuean Srinagarindra National Park  Samut Prakan   \n",
      "1166                      Prasat Wat Sa Kamphaeng Yai    Nonthaburi   \n",
      "1167                                  Prasat Puay Noi    Nonthaburi   \n",
      "\n",
      "      predicted_score  \n",
      "0            3.499147  \n",
      "1            2.800333  \n",
      "2            5.137371  \n",
      "3            2.000060  \n",
      "4            3.099694  \n",
      "...               ...  \n",
      "1163         1.499789  \n",
      "1164         1.300142  \n",
      "1165         2.500981  \n",
      "1166         2.202347  \n",
      "1167         2.299424  \n",
      "\n",
      "[1168 rows x 3 columns]\n"
     ]
    }
   ],
   "source": [
    "# Step 1: Create a proxy score based on a heuristic formula\n",
    "review_sentiment_df['proxy_score'] = (0.5 * review_sentiment_df['rating']) + \\\n",
    "                                     (0.2 * review_sentiment_df['helpful_voting']) + \\\n",
    "                                     (0.3 * review_sentiment_df['predicted_sentiment'])\n",
    "\n",
    "\n",
    "# Features and proxy score as target\n",
    "X = review_sentiment_df[['rating', 'predicted_sentiment', 'helpful_voting']]\n",
    "y = review_sentiment_df['proxy_score']\n",
    "\n",
    "# Step 2: Split data into training (70%) and test sets (30%)\n",
    "X_train, X_test, y_train, y_test = train_test_split(X, y, test_size=0.3, random_state=42)\n",
    "\n",
    "# Step 3: Initialize XGBoost regressor model\n",
    "model = xgb.XGBRegressor(objective='reg:squarederror', random_state=42)\n",
    "\n",
    "# Step 4: Train the model using proxy scores\n",
    "model.fit(X_train, y_train)\n",
    "\n",
    "# Step 5: Predict on the test set\n",
    "y_pred = model.predict(X_test)\n",
    "\n",
    "# Step 6: Evaluate the model using Mean Squared Error (MSE)\n",
    "mse = mean_squared_error(y_test, y_pred)\n",
    "print(f'Mean Squared Error on test set: {mse}')\n",
    "\n",
    "# Step 7: Predict scores for the entire dataset\n",
    "review_sentiment_df['predicted_score'] = model.predict(X)\n",
    "print(review_sentiment_df[['location_name', 'place_name', 'predicted_score']])"
   ]
  },
  {
   "cell_type": "code",
   "execution_count": 9,
   "metadata": {},
   "outputs": [],
   "source": [
    "import plotly.express as px"
   ]
  },
  {
   "cell_type": "code",
   "execution_count": 24,
   "metadata": {},
   "outputs": [
    {
     "data": {
      "application/vnd.plotly.v1+json": {
       "config": {
        "plotlyServerURL": "https://plot.ly"
       },
       "data": [
        {
         "customdata": [
          [
           "Wat Rajapradit Sathitmahasimaram Rajaworavihara"
          ],
          [
           "Wat Phra Chetuphon"
          ],
          [
           "Temple Of Dawn (Wat Arun)"
          ],
          [
           "Temple Of Dawn (Wat Arun)"
          ],
          [
           "Wat Umong"
          ],
          [
           "Wat Rong Khun"
          ],
          [
           "Wat Pak Nam"
          ],
          [
           "Wat Pak Nam"
          ],
          [
           "Wat Phra Singh"
          ],
          [
           "Wat Chaiwatthanaram"
          ],
          [
           "Wat Mahathat"
          ],
          [
           "Wat Hua Lumphong"
          ],
          [
           "Wat Hua Lumphong"
          ],
          [
           "The Golden Mount (Wat Saket)"
          ],
          [
           "Wat Pho Thai Traditional Massage School"
          ],
          [
           "Wat Samphanthawong Saram Worawihan (Wat Ko)"
          ],
          [
           "Wat Suthat"
          ],
          [
           "Wat Suthat"
          ],
          [
           "Wat Rakang Kositaram"
          ],
          [
           "Temple of the Emerald Buddha (Wat Phra Kaew)"
          ],
          [
           "Temple of the Emerald Buddha (Wat Phra Kaew)"
          ],
          [
           "Tiger God Shrine"
          ],
          [
           "Tiger Kingdom Phuket"
          ],
          [
           "Tiger Kingdom Phuket"
          ],
          [
           "Tiger Park Pattaya"
          ],
          [
           "Tiger Park Pattaya"
          ],
          [
           "Erawan Shrine (Thao Mahaprom Shrine)"
          ],
          [
           "Erawan Shrine (Thao Mahaprom Shrine)"
          ],
          [
           "Erawan Shrine (Thao Mahaprom Shrine)"
          ],
          [
           "Wat Phra Bat Ming Mueang Worawiharn"
          ],
          [
           "Wat Phra Bat Ming Mueang Worawiharn"
          ],
          [
           "Wat Maha That Worawiharn"
          ],
          [
           "Wat Sothon Wararam Worawihan"
          ],
          [
           "Wat Phanan Choeng Worawihan"
          ],
          [
           "Wat Phanan Choeng Worawihan"
          ],
          [
           "Wat Thammamun Worawihan"
          ],
          [
           "Wat Tri Thotsathep Worawihan"
          ],
          [
           "Wat Charoen Sukharam Worawihan"
          ],
          [
           "Wat Thepsirintrawat Ratchaworawihan"
          ],
          [
           "Wat Suwan Dararam Ratchaworawihan"
          ],
          [
           "Wat Suwan Dararam Ratchaworawihan"
          ],
          [
           "Wat Suwan Dararam Ratchaworawihan"
          ],
          [
           "Wat Ratchaburana (Temple of the Royal Restoration)"
          ],
          [
           "Wat Ratchaburana (Temple of the Royal Restoration)"
          ],
          [
           "Wat Chakrawatrachawat Woramahawihan"
          ],
          [
           "Wat Chakrawatrachawat Woramahawihan"
          ],
          [
           "Wat Chakrawatrachawat Woramahawihan"
          ],
          [
           "Wat Phra That Doi Suthep"
          ],
          [
           "Wat Khao Phra Si Sanphetchayaram or Wat Khao Phra"
          ],
          [
           "Wat Phra That Phanom"
          ],
          [
           "Wat Bang Phra  Temple"
          ],
          [
           "Wat Bang Phra  Temple"
          ],
          [
           "Wat Saman Rattanaram Temple"
          ],
          [
           "Wat Hong Rattanaram"
          ],
          [
           "Wat Pa Si Mongkhon Rattanaram"
          ],
          [
           "Wat Pa Si Mongkhon Rattanaram"
          ],
          [
           "Wat Pa Tam Wua"
          ],
          [
           "Sim Isan (Wat Pa Saeng Arun)"
          ],
          [
           "Museum of Siam"
          ],
          [
           "Jodd Fairs"
          ],
          [
           "Jodd Fairs DanNeramit"
          ],
          [
           "Jodd Fairs DanNeramit"
          ],
          [
           "Talat Phlu Train Station"
          ],
          [
           "Wat Chantharam Worawihan (Wat Klang Talat Phlu)"
          ],
          [
           "Talat Hua Mum Muang Mai"
          ],
          [
           "Talat Hua Mum Muang Mai"
          ],
          [
           "Wat Kalayanamit Varamahavihara"
          ],
          [
           "Wat Kalayanamit Varamahavihara"
          ],
          [
           "Siam AMAZING Park"
          ],
          [
           "Siam Square"
          ],
          [
           "Siam Niramit Phuket"
          ],
          [
           "Siam Discovery"
          ],
          [
           "Siam Paragon"
          ],
          [
           "Siam Paragon"
          ],
          [
           "Chang Siam Park"
          ],
          [
           "Chang Siam Park"
          ],
          [
           "Chang Siam Park"
          ],
          [
           "Siam Serpentarium"
          ],
          [
           "Siam Premium Outlets Bangkok"
          ],
          [
           "Mini Siam"
          ],
          [
           "Kwan-Riam Floating Market"
          ],
          [
           "Damnoen Saduak Floating Market"
          ],
          [
           "Damnoen Saduak Floating Market"
          ],
          [
           "Damnoen Saduak Floating Market"
          ],
          [
           "Amphawa Floating Market"
          ],
          [
           "Pattaya Floating Market"
          ],
          [
           "Pattaya Floating Market"
          ],
          [
           "Hat Yai Floating Market"
          ],
          [
           "Khlong Hae Floating Market"
          ],
          [
           "Khlong Hae Floating Market"
          ],
          [
           "Wat Sai Floating Market"
          ],
          [
           "Don Wai Floating Market"
          ],
          [
           "Don Wai Floating Market"
          ],
          [
           "Chatuchak Weekend Market"
          ],
          [
           "Chatuchak Weekend Market"
          ],
          [
           "Chatuchak Weekend Market"
          ],
          [
           "Chatuchak Flower Market"
          ],
          [
           "Phuket Weekend Night Market"
          ],
          [
           "Phuket Weekend Night Market"
          ],
          [
           "Chatuchak Park"
          ],
          [
           "JJ Mall"
          ],
          [
           "JJ Mall"
          ],
          [
           "Khlong Toei Market"
          ],
          [
           "Khlong Dan"
          ],
          [
           "Sanam Luang"
          ],
          [
           "Sanam Luang"
          ],
          [
           "Sanam Luang"
          ],
          [
           "Suan Luang Rama 9 Park"
          ],
          [
           "Dahra Beauty & Spa - Silom"
          ],
          [
           "Sukhumvit Road Street market"
          ],
          [
           "Street Art Songkhla"
          ],
          [
           "Art Street Pattaya"
          ],
          [
           "Art Street Pattaya"
          ],
          [
           "Art Street Pattaya"
          ],
          [
           "Hua Hin Railway Station"
          ],
          [
           "Hua Hin Railway Station"
          ],
          [
           "SEA LIFE Bangkok Ocean World"
          ],
          [
           "China Town"
          ],
          [
           "China Town"
          ],
          [
           "China Town"
          ],
          [
           "China Town Plaza Patong"
          ],
          [
           "China Town Plaza Patong"
          ],
          [
           "Walking Street Pattaya"
          ],
          [
           "Walking Street Pattaya"
          ],
          [
           "Walking Street Koh Lanta"
          ],
          [
           "Karbi Walking Street"
          ],
          [
           "Karbi Walking Street"
          ],
          [
           "Karbi Walking Street"
          ],
          [
           "Temple of the Golden Buddha (Wat Traimit)"
          ],
          [
           "Temple of the Golden Buddha (Wat Traimit)"
          ],
          [
           "Kata Noi Beach"
          ],
          [
           "Kata Noi Beach"
          ],
          [
           "Lipa Noi Beach"
          ],
          [
           "Talat Nam Song Khlong Wat Talingchan"
          ],
          [
           "Khlong Phadung Krung Kasem Floating Market"
          ],
          [
           "Wat Phra That Doi Saket"
          ],
          [
           "Wat Phra That Doi Saket"
          ],
          [
           "Wat Phra That Doi Saket"
          ],
          [
           "Wat Phu Khao Thong (Golden Mount)"
          ],
          [
           "Wat Phra That Doi Kham (Temple of the Golden Mountain)"
          ],
          [
           "Wat Phra That Doi Kham (Temple of the Golden Mountain)"
          ],
          [
           "Wat Ratchanatdaram Woravihara (Loha Prasat)"
          ],
          [
           "Wat Benchamabophit (The Marble Temple)"
          ],
          [
           "Asiatique The Riverfront"
          ],
          [
           "Asiatique The Riverfront"
          ],
          [
           "Rattanakosin Exhibition Hall"
          ],
          [
           "Rattanakosin Exhibition Hall"
          ],
          [
           "Songkran Festival Khao San Road"
          ],
          [
           "Songkran Festival Khao San Road"
          ],
          [
           "Khao San Thai Massage"
          ],
          [
           "Khao Kheow Open Zoo"
          ],
          [
           "Khao San Cooking School"
          ],
          [
           "Khao San Cooking School"
          ],
          [
           "Khao Phra Tamnak (Khao Phra Bat)"
          ],
          [
           "Khao San, 1986"
          ],
          [
           "Khao San, 1986"
          ],
          [
           "Khao Sok National Park"
          ],
          [
           "Chao Phraya River"
          ],
          [
           "Chao Phraya River"
          ],
          [
           "Chao Phraya Express Boat"
          ],
          [
           "Chao Phraya Express Boat"
          ],
          [
           "Chao Phraya Express Boat"
          ],
          [
           "Chao Phraya Express Boat"
          ],
          [
           "Chao Phraya Princess Dinner Cruise"
          ],
          [
           "Chao Phraya Tourist Boat"
          ],
          [
           "Chao Sam Phraya National Museum"
          ],
          [
           "Coin Museum Treasury Department Thailand"
          ],
          [
           "Coin Museum Treasury Department Thailand"
          ],
          [
           "Wat Chedi Luang Varavihara"
          ],
          [
           "Wat Niwet Thammaprawat"
          ],
          [
           "Ganesha Shrine"
          ],
          [
           "Ganesha Shrine"
          ],
          [
           "Trimurti Shrine"
          ],
          [
           "Erawan National Park"
          ],
          [
           "Erawan National Park"
          ],
          [
           "Lumpini Park"
          ],
          [
           "Lumpini Park"
          ],
          [
           "Benjakitti Park"
          ],
          [
           "King Rama IX Park"
          ],
          [
           "King Rama IX Park"
          ],
          [
           "Diora Luxe Lumpini"
          ],
          [
           "Nong Prajak Public Park"
          ],
          [
           "Nong Prajak Public Park"
          ],
          [
           "Victory Monument"
          ],
          [
           "Wang Lang Market"
          ],
          [
           "The Grand Palace"
          ],
          [
           "The Grand Palace"
          ],
          [
           "Nang Loeng Market"
          ],
          [
           "Nang Loeng Market"
          ],
          [
           "Ao Nang Landmark Night Market"
          ],
          [
           "Ao Nang Beach"
          ],
          [
           "Royal Barges National Museum"
          ],
          [
           "Siriraj Medical Museum"
          ],
          [
           "Saranrom Park"
          ],
          [
           "Saranrom Palace"
          ],
          [
           "Saranrom Palace"
          ],
          [
           "Bangkok City Pillar Shrine"
          ],
          [
           "Bangkok City Pillar Shrine"
          ],
          [
           "City Pillar Shrine, SuphanBuri"
          ],
          [
           "City Pillar Shrine (Udon Thani)"
          ],
          [
           "Rayong The City Pillar Shrine"
          ],
          [
           "Rayong The City Pillar Shrine"
          ],
          [
           "City Pillar Shrine"
          ],
          [
           "City Pillar Shrine - Prachuap Kiri Khan"
          ],
          [
           "Songkhla's Shrine City Pillar"
          ],
          [
           "City Pillar Shrine"
          ],
          [
           "Mae Fah Luang Garden"
          ],
          [
           "Doi Luang Chiang Dao"
          ],
          [
           "Queen Sirikit Museum of Textiles"
          ],
          [
           "Queen Sirikit Park"
          ],
          [
           "Queen Sirikit Park"
          ],
          [
           "Queen Sirikit Park"
          ],
          [
           "Queen Sirikit Botanic Garden"
          ],
          [
           "Queen Sirikit Park"
          ],
          [
           "Wat Chana Songkhram"
          ],
          [
           "Wat Thepthidaram"
          ],
          [
           "Wat Phra Kaeo"
          ],
          [
           "Wat Phra Si Rattana Mahathat"
          ],
          [
           "Wat Phra Si Mahathat"
          ],
          [
           "Wat Phra Sri Sanphet"
          ],
          [
           "Wat Phra Sri Sanphet"
          ],
          [
           "Wat Phra Sri Sanphet"
          ],
          [
           "Pipit Banglamphu History Museum"
          ],
          [
           "Pipit Banglamphu History Museum"
          ],
          [
           "Banglamphu"
          ],
          [
           "Banglamphu"
          ],
          [
           "Museum of Contemporary Art (MOCA)"
          ],
          [
           "Museum of Contemporary Art (MOCA)"
          ],
          [
           "Wat Mahathat Yuwaratrangsarit"
          ],
          [
           "Wat Manee Sri Mahathat"
          ],
          [
           "Wat Maha That Wachiramongkol"
          ],
          [
           "Wat Maha That Wachiramongkol"
          ],
          [
           "Khaosan Spa"
          ],
          [
           "Rama VIII Bridge"
          ],
          [
           "Rama VIII Bridge"
          ],
          [
           "Rama VIII Bridge"
          ],
          [
           "Rama VIII Bridge"
          ],
          [
           "Rama VIII Park"
          ],
          [
           "Democracy Monument"
          ],
          [
           "King Rama VI Monument"
          ],
          [
           "The Nine Center Rama 9"
          ],
          [
           "King Rama 9 Park"
          ],
          [
           "King Prajadhipok Museum"
          ],
          [
           "Wat Boromracha Kanchanapisek Anusorn Temple"
          ],
          [
           "Wat Boromracha Kanchanapisek Anusorn Temple"
          ],
          [
           "Silom Night Market"
          ],
          [
           "Train Night Market Ratchada"
          ],
          [
           "Liab Duan Night Market"
          ],
          [
           "Liab Duan Night Market"
          ],
          [
           "Liab Duan Night Market"
          ],
          [
           "Saturday Night Market  Walking Street - Wua Lai Road"
          ],
          [
           "Mr J Chiang Mai Private Driver"
          ],
          [
           "Mr J Chiang Mai Private Driver"
          ],
          [
           "Night Bazaar"
          ],
          [
           "Wat Sai Moon Myanmar"
          ],
          [
           "Wat Sai Moon Myanmar"
          ],
          [
           "Chiang Mai University"
          ],
          [
           "Elephant Jungle Sanctuary Chiang Mai"
          ],
          [
           "Chiang Mai Tour Center"
          ],
          [
           "Ban Jabo (Black Lahu community)"
          ],
          [
           "Ban Jabo (Black Lahu community)"
          ],
          [
           "Ban Phe Market"
          ],
          [
           "Ban Phe Market"
          ],
          [
           "Ban Phe Market"
          ],
          [
           "Ban Nam Khem Tsunami Memorial Park"
          ],
          [
           "Ban Bang Khen"
          ],
          [
           "Bo Phut Beach"
          ],
          [
           "Bo Phut Beach"
          ],
          [
           "Kata Night Market"
          ],
          [
           "Jomtien Night Market"
          ],
          [
           "Ko Kloi Floating Market"
          ],
          [
           "Ko Lanta"
          ],
          [
           "Lamai Night Market"
          ],
          [
           "Lamai Night Market"
          ],
          [
           "White Sand Beach Night Food Market"
          ],
          [
           "Thonburi Snake Farm"
          ],
          [
           "TK Tour"
          ],
          [
           "TK Tour"
          ],
          [
           "MBK Center (Ma Boon Khrong Center)"
          ],
          [
           "MBK Center (Ma Boon Khrong Center)"
          ],
          [
           "Sala Chalermkrung Royal Theatre"
          ],
          [
           "Santiphap Park (Park of Peace)"
          ],
          [
           "Thailand Cultural Centre"
          ],
          [
           "Thai-Chinese Cultural Center"
          ],
          [
           "Thai-Chinese Cultural Center"
          ],
          [
           "Old Chiangmai Cultural Center"
          ],
          [
           "Muangthai Rachadalai Theatre"
          ],
          [
           "Rachadalai Theatre"
          ],
          [
           "Romaneenart Park"
          ],
          [
           "Romaneenart Park"
          ],
          [
           "Romaneenart Park"
          ]
         ],
         "hovertemplate": "place_name=%{x}<br>predicted_score=%{y}<br>location_name=%{customdata[0]}<extra></extra>",
         "legendgroup": "Bangkok",
         "marker": {
          "color": "#636efa",
          "symbol": "circle"
         },
         "mode": "markers",
         "name": "Bangkok",
         "showlegend": true,
         "type": "scattergl",
         "x": [
          "Bangkok",
          "Bangkok",
          "Bangkok",
          "Bangkok",
          "Bangkok",
          "Bangkok",
          "Bangkok",
          "Bangkok",
          "Bangkok",
          "Bangkok",
          "Bangkok",
          "Bangkok",
          "Bangkok",
          "Bangkok",
          "Bangkok",
          "Bangkok",
          "Bangkok",
          "Bangkok",
          "Bangkok",
          "Bangkok",
          "Bangkok",
          "Bangkok",
          "Bangkok",
          "Bangkok",
          "Bangkok",
          "Bangkok",
          "Bangkok",
          "Bangkok",
          "Bangkok",
          "Bangkok",
          "Bangkok",
          "Bangkok",
          "Bangkok",
          "Bangkok",
          "Bangkok",
          "Bangkok",
          "Bangkok",
          "Bangkok",
          "Bangkok",
          "Bangkok",
          "Bangkok",
          "Bangkok",
          "Bangkok",
          "Bangkok",
          "Bangkok",
          "Bangkok",
          "Bangkok",
          "Bangkok",
          "Bangkok",
          "Bangkok",
          "Bangkok",
          "Bangkok",
          "Bangkok",
          "Bangkok",
          "Bangkok",
          "Bangkok",
          "Bangkok",
          "Bangkok",
          "Bangkok",
          "Bangkok",
          "Bangkok",
          "Bangkok",
          "Bangkok",
          "Bangkok",
          "Bangkok",
          "Bangkok",
          "Bangkok",
          "Bangkok",
          "Bangkok",
          "Bangkok",
          "Bangkok",
          "Bangkok",
          "Bangkok",
          "Bangkok",
          "Bangkok",
          "Bangkok",
          "Bangkok",
          "Bangkok",
          "Bangkok",
          "Bangkok",
          "Bangkok",
          "Bangkok",
          "Bangkok",
          "Bangkok",
          "Bangkok",
          "Bangkok",
          "Bangkok",
          "Bangkok",
          "Bangkok",
          "Bangkok",
          "Bangkok",
          "Bangkok",
          "Bangkok",
          "Bangkok",
          "Bangkok",
          "Bangkok",
          "Bangkok",
          "Bangkok",
          "Bangkok",
          "Bangkok",
          "Bangkok",
          "Bangkok",
          "Bangkok",
          "Bangkok",
          "Bangkok",
          "Bangkok",
          "Bangkok",
          "Bangkok",
          "Bangkok",
          "Bangkok",
          "Bangkok",
          "Bangkok",
          "Bangkok",
          "Bangkok",
          "Bangkok",
          "Bangkok",
          "Bangkok",
          "Bangkok",
          "Bangkok",
          "Bangkok",
          "Bangkok",
          "Bangkok",
          "Bangkok",
          "Bangkok",
          "Bangkok",
          "Bangkok",
          "Bangkok",
          "Bangkok",
          "Bangkok",
          "Bangkok",
          "Bangkok",
          "Bangkok",
          "Bangkok",
          "Bangkok",
          "Bangkok",
          "Bangkok",
          "Bangkok",
          "Bangkok",
          "Bangkok",
          "Bangkok",
          "Bangkok",
          "Bangkok",
          "Bangkok",
          "Bangkok",
          "Bangkok",
          "Bangkok",
          "Bangkok",
          "Bangkok",
          "Bangkok",
          "Bangkok",
          "Bangkok",
          "Bangkok",
          "Bangkok",
          "Bangkok",
          "Bangkok",
          "Bangkok",
          "Bangkok",
          "Bangkok",
          "Bangkok",
          "Bangkok",
          "Bangkok",
          "Bangkok",
          "Bangkok",
          "Bangkok",
          "Bangkok",
          "Bangkok",
          "Bangkok",
          "Bangkok",
          "Bangkok",
          "Bangkok",
          "Bangkok",
          "Bangkok",
          "Bangkok",
          "Bangkok",
          "Bangkok",
          "Bangkok",
          "Bangkok",
          "Bangkok",
          "Bangkok",
          "Bangkok",
          "Bangkok",
          "Bangkok",
          "Bangkok",
          "Bangkok",
          "Bangkok",
          "Bangkok",
          "Bangkok",
          "Bangkok",
          "Bangkok",
          "Bangkok",
          "Bangkok",
          "Bangkok",
          "Bangkok",
          "Bangkok",
          "Bangkok",
          "Bangkok",
          "Bangkok",
          "Bangkok",
          "Bangkok",
          "Bangkok",
          "Bangkok",
          "Bangkok",
          "Bangkok",
          "Bangkok",
          "Bangkok",
          "Bangkok",
          "Bangkok",
          "Bangkok",
          "Bangkok",
          "Bangkok",
          "Bangkok",
          "Bangkok",
          "Bangkok",
          "Bangkok",
          "Bangkok",
          "Bangkok",
          "Bangkok",
          "Bangkok",
          "Bangkok",
          "Bangkok",
          "Bangkok",
          "Bangkok",
          "Bangkok",
          "Bangkok",
          "Bangkok",
          "Bangkok",
          "Bangkok",
          "Bangkok",
          "Bangkok",
          "Bangkok",
          "Bangkok",
          "Bangkok",
          "Bangkok",
          "Bangkok",
          "Bangkok",
          "Bangkok",
          "Bangkok",
          "Bangkok",
          "Bangkok",
          "Bangkok",
          "Bangkok",
          "Bangkok",
          "Bangkok",
          "Bangkok",
          "Bangkok",
          "Bangkok",
          "Bangkok",
          "Bangkok",
          "Bangkok",
          "Bangkok",
          "Bangkok",
          "Bangkok",
          "Bangkok",
          "Bangkok",
          "Bangkok",
          "Bangkok",
          "Bangkok",
          "Bangkok",
          "Bangkok",
          "Bangkok",
          "Bangkok",
          "Bangkok",
          "Bangkok",
          "Bangkok",
          "Bangkok",
          "Bangkok",
          "Bangkok",
          "Bangkok",
          "Bangkok",
          "Bangkok",
          "Bangkok",
          "Bangkok",
          "Bangkok",
          "Bangkok",
          "Bangkok",
          "Bangkok",
          "Bangkok",
          "Bangkok",
          "Bangkok",
          "Bangkok",
          "Bangkok",
          "Bangkok",
          "Bangkok",
          "Bangkok",
          "Bangkok",
          "Bangkok",
          "Bangkok",
          "Bangkok",
          "Bangkok",
          "Bangkok",
          "Bangkok"
         ],
         "xaxis": "x",
         "y": [
          3.20166277885437,
          2.3995461463928223,
          4.677363872528076,
          1.5988664627075195,
          2.3995461463928223,
          1.200520396232605,
          2.7989964485168457,
          2.0003914833068848,
          2.0016705989837646,
          2.8001415729522705,
          2.0003914833068848,
          9.001397132873535,
          2.8001415729522705,
          2.3993027210235596,
          0.9999472498893738,
          2.000143527984619,
          2.3995461463928223,
          2.3993027210235596,
          2.3995461463928223,
          2.0016705989837646,
          2.3995461463928223,
          2.999656915664673,
          2.19999361038208,
          5.998219966888428,
          2.3995461463928223,
          2.0003914833068848,
          9.399711608886719,
          2.0016705989837646,
          2.6021888256073,
          1.200520396232605,
          2.8001415729522705,
          2.3993027210235596,
          2.8001415729522705,
          2.0016705989837646,
          2.8001415729522705,
          2.0016705989837646,
          2.7989964485168457,
          2.3993027210235596,
          3.399503469467163,
          2.3995461463928223,
          2.603734254837036,
          2.3995461463928223,
          2.8001415729522705,
          2.3995461463928223,
          2.3993027210235596,
          2.000143527984619,
          1.200520396232605,
          1.5988664627075195,
          2.0016705989837646,
          2.8001415729522705,
          3.6146180629730225,
          3.6283936500549316,
          2.19730806350708,
          2.6021745204925537,
          1.8074772357940674,
          1.3937820196151733,
          2.19730806350708,
          1.5988664627075195,
          2.3993027210235596,
          2.8001415729522705,
          2.8001415729522705,
          2.0016705989837646,
          2.3995461463928223,
          1.5988426208496094,
          2.3993027210235596,
          2.6021745204925537,
          2.4026975631713867,
          3.20166277885437,
          1.5988426208496094,
          2.0003914833068848,
          1.9186049699783325,
          2.3995461463928223,
          1.5988426208496094,
          2.0003914833068848,
          0.600354015827179,
          2.0016705989837646,
          2.5993640422821045,
          2.4026975631713867,
          2.0003914833068848,
          1.8074772357940674,
          2.19730806350708,
          2.3993027210235596,
          0.7996031641960144,
          1.2003188133239746,
          0.9996339678764343,
          1.201285719871521,
          2.0003914833068848,
          2.3995461463928223,
          2.3993027210235596,
          2.0003914833068848,
          0.40003088116645813,
          2.0003914833068848,
          2.189814567565918,
          2.3995461463928223,
          2.8001415729522705,
          2.8001415729522705,
          2.3995461463928223,
          2.8001415729522705,
          2.8001415729522705,
          2.3995461463928223,
          2.3995461463928223,
          0.600354015827179,
          0.9996339678764343,
          1.404282569885254,
          1.5988664627075195,
          2.0016705989837646,
          2.000143527984619,
          2.3995461463928223,
          2.19730806350708,
          3.6014130115509033,
          2.8001415729522705,
          2.999656915664673,
          1.5988426208496094,
          1.200520396232605,
          1.5988664627075195,
          2.0016705989837646,
          2.8001415729522705,
          1.200520396232605,
          1.5988664627075195,
          2.0065701007843018,
          0.9999472498893738,
          2.3993027210235596,
          2.3995461463928223,
          2.0003914833068848,
          1.5988664627075195,
          2.0016705989837646,
          1.7993156909942627,
          1.5988664627075195,
          2.8001415729522705,
          8.798357009887695,
          2.3993027210235596,
          2.3995461463928223,
          2.8001415729522705,
          2.3995461463928223,
          0.8000261783599854,
          2.3995461463928223,
          2.0016705989837646,
          2.6002705097198486,
          2.3993027210235596,
          2.0003914833068848,
          2.999656915664673,
          2.3995461463928223,
          2.8001415729522705,
          2.0016705989837646,
          0.40003088116645813,
          2.0003914833068848,
          2.0003914833068848,
          2.3995461463928223,
          1.8074772357940674,
          2.0003914833068848,
          1.2003188133239746,
          3.201072931289673,
          2.7968897819519043,
          9.360516548156738,
          1.9998128414154053,
          2.3995461463928223,
          2.0003914833068848,
          3.201072931289673,
          2.0016705989837646,
          0.7996031641960144,
          1.5988664627075195,
          7.202104568481445,
          0.40003088116645813,
          1.2003188133239746,
          1.5988426208496094,
          2.3993027210235596,
          1.2003188133239746,
          1.5988664627075195,
          2.0003914833068848,
          2.401073455810547,
          2.3995461463928223,
          2.0016705989837646,
          2.8001415729522705,
          2.0003914833068848,
          2.3995461463928223,
          2.0003914833068848,
          2.0016705989837646,
          2.3995461463928223,
          1.5988664627075195,
          1.5988664627075195,
          1.2003188133239746,
          1.5988664627075195,
          1.201285719871521,
          2.8001415729522705,
          2.0003914833068848,
          2.0003914833068848,
          1.5988664627075195,
          1.5988426208496094,
          2.999656915664673,
          2.3995461463928223,
          2.3993027210235596,
          3.9973905086517334,
          2.7968897819519043,
          2.0016705989837646,
          1.200520396232605,
          2.19999361038208,
          1.8074772357940674,
          2.19999361038208,
          2.3995461463928223,
          1.598639965057373,
          2.6021745204925537,
          2.000143527984619,
          2.3995461463928223,
          1.5988426208496094,
          1.5988426208496094,
          3.9927124977111816,
          2.3993027210235596,
          2.6002705097198486,
          2.0003914833068848,
          2.3995461463928223,
          2.3995461463928223,
          2.0003914833068848,
          2.0003914833068848,
          2.0003914833068848,
          2.3993027210235596,
          1.8074772357940674,
          1.5988426208496094,
          2.0016705989837646,
          2.189814567565918,
          2.8001415729522705,
          1.5988664627075195,
          1.5988664627075195,
          2.999656915664673,
          1.8074772357940674,
          2.8001415729522705,
          2.000143527984619,
          2.19730806350708,
          1.5988664627075195,
          2.6002705097198486,
          1.5988664627075195,
          3.20166277885437,
          3.399531602859497,
          1.5988664627075195,
          2.3995461463928223,
          2.603734254837036,
          2.0016705989837646,
          2.000143527984619,
          2.999656915664673,
          1.5988664627075195,
          2.000143527984619,
          2.0016705989837646,
          1.5988664627075195,
          2.3993027210235596,
          2.3993027210235596,
          1.5988664627075195,
          3.20166277885437,
          2.000143527984619,
          2.7968897819519043,
          2.603734254837036,
          1.5988664627075195,
          1.6001347303390503,
          2.603734254837036,
          2.19730806350708,
          1.200520396232605,
          1.5988664627075195,
          2.603734254837036,
          0.40003088116645813,
          2.0003914833068848,
          2.0003914833068848,
          3.20166277885437,
          3.20166277885437,
          2.3995461463928223,
          1.5988664627075195,
          2.3995461463928223,
          2.3995461463928223,
          1.5988426208496094,
          1.404282569885254,
          2.19730806350708,
          1.6001347303390503,
          2.8001415729522705,
          1.2029240131378174,
          2.4026975631713867,
          1.7867205142974854,
          2.3993027210235596,
          1.5988664627075195,
          2.9996025562286377,
          1.5988664627075195,
          1.7867205142974854,
          2.0003914833068848,
          2.8001415729522705,
          2.416400909423828,
          2.999656915664673,
          2.000143527984619,
          2.0003914833068848,
          2.3995461463928223,
          2.3995461463928223,
          1.5988664627075195,
          2.3993027210235596,
          1.5988664627075195,
          2.4026975631713867,
          1.5988664627075195
         ],
         "yaxis": "y"
        },
        {
         "customdata": [
          [
           "Wat Ku"
          ],
          [
           "Wat Chamthewi Temple (Wat Ku Kut)"
          ],
          [
           "Wat Chamthewi Temple (Wat Ku Kut)"
          ],
          [
           "Sala Kaew Ku (Wat Khaek)"
          ],
          [
           "IMPACT Muang Thong Thani"
          ],
          [
           "Wat Ban Na Muang"
          ],
          [
           "Tongdee Elephant Camp"
          ],
          [
           "Old Court and City Hall"
          ],
          [
           "Wat Chaloem Phrakiat Phrachomklao Rachanuson"
          ],
          [
           "Wat Chaloem Phrakiat Phrachomklao Rachanuson"
          ],
          [
           "Koh Kret"
          ],
          [
           "Koh Kret"
          ],
          [
           "Chit Beer"
          ],
          [
           "Ko Kham"
          ],
          [
           "Ko Mae Ko"
          ],
          [
           "Ko Mae Ko"
          ],
          [
           "Ko Samae San"
          ],
          [
           "Phuttha Utthayan Makha Bucha Anusorn"
          ],
          [
           "Phuttha Utthayan Makha Bucha Anusorn"
          ],
          [
           "Thale Noi Floating Market"
          ],
          [
           "Koh Kred"
          ],
          [
           "Som Motorbike Rental"
          ],
          [
           "Wat Phra That Si Chom Thong"
          ],
          [
           "Wat Phra That Si Chom Thong"
          ],
          [
           "Wat Muang"
          ],
          [
           "Wat Hong Thong"
          ],
          [
           "Wat Sisa Thong (Wat Phra Rahoo)"
          ],
          [
           "Wat Trapang Ngoen"
          ],
          [
           "Wat Tham Sua"
          ],
          [
           "Wat Ban Tham"
          ],
          [
           "Wat Tham Khoo Ha"
          ],
          [
           "Wat Suan Dok"
          ],
          [
           "Wat Suan Dok"
          ],
          [
           "Wat Kaeo Phichit"
          ],
          [
           "Wat Pa Maha Jedi Kaeo (Wat Larn Kuad)"
          ],
          [
           "Chao Pho Khao Yai Shrine"
          ],
          [
           "Chao Pho Mae Klong Shrine"
          ],
          [
           "Chang Chui Plane Market"
          ],
          [
           "Chao Pho Khao Yai Shrine"
          ],
          [
           "Chao Por Phawo Shrine"
          ],
          [
           "Chao Por Phawo Shrine"
          ],
          [
           "Chao Por Phawo Shrine"
          ],
          [
           "Chao Pu-Ya Shrine"
          ],
          [
           "Chao Por Lak Muang Khon Kaen Shrine"
          ],
          [
           "Big Buddha Phuket"
          ],
          [
           "Big Buddha Phuket"
          ],
          [
           "Big Buddha Temple"
          ],
          [
           "Na Muang Waterfall"
          ],
          [
           "Muang Ake Golf Club"
          ],
          [
           "Muang Ake Golf Club"
          ],
          [
           "﻿Muang Udon Thani Museum"
          ],
          [
           "Thong Nai Pan Yai Beach"
          ],
          [
           "Ao Thong Takhian"
          ],
          [
           "Wat Pa Khao Noi"
          ],
          [
           "Wat Pa Khao Noi"
          ],
          [
           "Wat Pa Khao Noi"
          ],
          [
           "Wat Pa Khao Noi"
          ],
          [
           "Sai Noi Beach"
          ],
          [
           "Sai Noi Beach"
          ],
          [
           "Wat Tang Sai Temple"
          ],
          [
           "Wat Tang Sai Temple"
          ],
          [
           "Wat Tang Sai Temple"
          ],
          [
           "Wat Tham Khao Wong"
          ],
          [
           "Wat Tham Khao Wong"
          ],
          [
           "Wong's place"
          ],
          [
           "Suan Pakkad Palace Museum"
          ],
          [
           "Suan Pakkad Palace Museum"
          ],
          [
           "Suan Lum Night Bazaar"
          ],
          [
           "Suan Lum Night Bazaar"
          ],
          [
           "Wat San Chao Floating Market"
          ],
          [
           "Wat Lam Phaya Floating Market"
          ],
          [
           "Wat Khao Sakae Krang"
          ],
          [
           "Wat Tha Sung"
          ],
          [
           "Wat Tha Sung"
          ],
          [
           "Wat Tha Mai"
          ],
          [
           "Wat Tha Khaek"
          ],
          [
           "Wat Tha Khaek"
          ],
          [
           "Wat Phra Kaew"
          ],
          [
           "Wat Phra That Khao Noi"
          ],
          [
           "Wat Khao Suwan Pradit"
          ],
          [
           "Wat Khao Suwan Pradit"
          ],
          [
           "Chalerm La Park"
          ],
          [
           "Kanchanaphisek Park"
          ],
          [
           "Chalerm Burapha Chonlathit"
          ],
          [
           "Chalerm Burapha Chonlathit"
          ],
          [
           "Wat Chai Phrakiat Temple"
          ],
          [
           "Wat Salak Phet Temple"
          ],
          [
           "Wat Salak Phet Temple"
          ],
          [
           "Wat Hua Wiang Tai Temple"
          ],
          [
           "Wat Hua Wiang Tai Temple"
          ],
          [
           "Wat Anu Banpot"
          ],
          [
           "Chaithararam Temple (Wat Chalong)"
          ],
          [
           "Wat Sri Suphan"
          ],
          [
           "Wat Sri Suphan"
          ],
          [
           "Wat Sri Suphan"
          ],
          [
           "Wat Sri Sawai"
          ],
          [
           "Wat Sri Sawai"
          ],
          [
           "Wat Sri Sawai"
          ],
          [
           "Wat Sri Sawai"
          ],
          [
           "Wat Thung Sri Muang"
          ],
          [
           "Wat Thung Sri Muang"
          ],
          [
           "Wat Sri Uthumporn"
          ],
          [
           "Wat Sri Sunthon (Wat Lipon)"
          ],
          [
           "Wat Sri Sunthon (Wat Lipon)"
          ],
          [
           "Wat Sri Chum"
          ],
          [
           "Big Buddha Temple (Wat Phra Yai)"
          ],
          [
           "Phra Si Ratana Temple (Wat Yai)"
          ],
          [
           "Wang Takrai Park"
          ],
          [
           "Khun Wang Royal Project"
          ],
          [
           "Mae Wang Elephant Camp"
          ],
          [
           "Wang Sai Thong Waterfall"
          ],
          [
           "Wat Chotikaram"
          ],
          [
           "Wat Saphan Hin"
          ],
          [
           "Wat Saphan Hin"
          ],
          [
           "Wat Phra Non"
          ],
          [
           "Wat Phra Non"
          ],
          [
           "Wat Phra That Lampang Luang"
          ],
          [
           "Wat Amphawan Chetiyaram"
          ],
          [
           "Wat Bang Khae Noi"
          ],
          [
           "Rak Screen Golf"
          ],
          [
           "Rak Screen Golf"
          ],
          [
           "Ko Racha Noi"
          ],
          [
           "Le Lek Bang Rak"
          ],
          [
           "Le Lek Bang Rak"
          ],
          [
           "Wat Prang Luang"
          ],
          [
           "Wat Luang Phor Toh"
          ],
          [
           "Choeng Mon Beach"
          ],
          [
           "Wat Krieng Krai Klang"
          ],
          [
           "Wat Klang Wiang"
          ],
          [
           "Prasat Wat Sa Kamphaeng Yai"
          ],
          [
           "Prasat Puay Noi"
          ]
         ],
         "hovertemplate": "place_name=%{x}<br>predicted_score=%{y}<br>location_name=%{customdata[0]}<extra></extra>",
         "legendgroup": "Nonthaburi",
         "marker": {
          "color": "#EF553B",
          "symbol": "circle"
         },
         "mode": "markers",
         "name": "Nonthaburi",
         "showlegend": true,
         "type": "scattergl",
         "x": [
          "Nonthaburi",
          "Nonthaburi",
          "Nonthaburi",
          "Nonthaburi",
          "Nonthaburi",
          "Nonthaburi",
          "Nonthaburi",
          "Nonthaburi",
          "Nonthaburi",
          "Nonthaburi",
          "Nonthaburi",
          "Nonthaburi",
          "Nonthaburi",
          "Nonthaburi",
          "Nonthaburi",
          "Nonthaburi",
          "Nonthaburi",
          "Nonthaburi",
          "Nonthaburi",
          "Nonthaburi",
          "Nonthaburi",
          "Nonthaburi",
          "Nonthaburi",
          "Nonthaburi",
          "Nonthaburi",
          "Nonthaburi",
          "Nonthaburi",
          "Nonthaburi",
          "Nonthaburi",
          "Nonthaburi",
          "Nonthaburi",
          "Nonthaburi",
          "Nonthaburi",
          "Nonthaburi",
          "Nonthaburi",
          "Nonthaburi",
          "Nonthaburi",
          "Nonthaburi",
          "Nonthaburi",
          "Nonthaburi",
          "Nonthaburi",
          "Nonthaburi",
          "Nonthaburi",
          "Nonthaburi",
          "Nonthaburi",
          "Nonthaburi",
          "Nonthaburi",
          "Nonthaburi",
          "Nonthaburi",
          "Nonthaburi",
          "Nonthaburi",
          "Nonthaburi",
          "Nonthaburi",
          "Nonthaburi",
          "Nonthaburi",
          "Nonthaburi",
          "Nonthaburi",
          "Nonthaburi",
          "Nonthaburi",
          "Nonthaburi",
          "Nonthaburi",
          "Nonthaburi",
          "Nonthaburi",
          "Nonthaburi",
          "Nonthaburi",
          "Nonthaburi",
          "Nonthaburi",
          "Nonthaburi",
          "Nonthaburi",
          "Nonthaburi",
          "Nonthaburi",
          "Nonthaburi",
          "Nonthaburi",
          "Nonthaburi",
          "Nonthaburi",
          "Nonthaburi",
          "Nonthaburi",
          "Nonthaburi",
          "Nonthaburi",
          "Nonthaburi",
          "Nonthaburi",
          "Nonthaburi",
          "Nonthaburi",
          "Nonthaburi",
          "Nonthaburi",
          "Nonthaburi",
          "Nonthaburi",
          "Nonthaburi",
          "Nonthaburi",
          "Nonthaburi",
          "Nonthaburi",
          "Nonthaburi",
          "Nonthaburi",
          "Nonthaburi",
          "Nonthaburi",
          "Nonthaburi",
          "Nonthaburi",
          "Nonthaburi",
          "Nonthaburi",
          "Nonthaburi",
          "Nonthaburi",
          "Nonthaburi",
          "Nonthaburi",
          "Nonthaburi",
          "Nonthaburi",
          "Nonthaburi",
          "Nonthaburi",
          "Nonthaburi",
          "Nonthaburi",
          "Nonthaburi",
          "Nonthaburi",
          "Nonthaburi",
          "Nonthaburi",
          "Nonthaburi",
          "Nonthaburi",
          "Nonthaburi",
          "Nonthaburi",
          "Nonthaburi",
          "Nonthaburi",
          "Nonthaburi",
          "Nonthaburi",
          "Nonthaburi",
          "Nonthaburi",
          "Nonthaburi",
          "Nonthaburi",
          "Nonthaburi",
          "Nonthaburi",
          "Nonthaburi",
          "Nonthaburi",
          "Nonthaburi",
          "Nonthaburi"
         ],
         "xaxis": "x",
         "y": [
          2.3995461463928223,
          3.20166277885437,
          2.401073455810547,
          1.201285719871521,
          2.0003914833068848,
          2.4026975631713867,
          2.7968897819519043,
          2.0003914833068848,
          2.8001415729522705,
          2.8001415729522705,
          1.7993156909942627,
          2.0016705989837646,
          2.3995461463928223,
          2.795226573944092,
          2.8001415729522705,
          2.189814567565918,
          2.3995461463928223,
          2.3995461463928223,
          2.3993027210235596,
          1.7993156909942627,
          1.5988664627075195,
          2.3995461463928223,
          2.8001415729522705,
          5.998219966888428,
          2.3995461463928223,
          2.196451425552368,
          2.8001415729522705,
          1.5988664627075195,
          2.3995461463928223,
          2.8001415729522705,
          1.598639965057373,
          2.0003914833068848,
          1.200520396232605,
          2.0003914833068848,
          3.201072931289673,
          2.0016705989837646,
          2.0016705989837646,
          2.999656915664673,
          2.3995461463928223,
          2.3995461463928223,
          2.0003914833068848,
          2.8001415729522705,
          2.6002705097198486,
          2.0016705989837646,
          2.000143527984619,
          2.0016705989837646,
          2.8001415729522705,
          1.200520396232605,
          1.5988664627075195,
          2.000143527984619,
          1.5988426208496094,
          2.0003914833068848,
          2.999656915664673,
          2.19730806350708,
          2.0016705989837646,
          2.401073455810547,
          2.3993027210235596,
          2.3995461463928223,
          1.9998128414154053,
          2.3995461463928223,
          2.19730806350708,
          2.189814567565918,
          2.0003914833068848,
          2.4026975631713867,
          1.5998839139938354,
          2.999656915664673,
          2.999656915664673,
          0.40003088116645813,
          0.9998528957366943,
          2.000143527984619,
          2.603734254837036,
          1.5988664627075195,
          2.603734254837036,
          2.603734254837036,
          2.0003914833068848,
          2.000143527984619,
          2.599439859390259,
          2.0003914833068848,
          1.200520396232605,
          2.8001415729522705,
          2.3995461463928223,
          2.4026975631713867,
          1.5988664627075195,
          2.0016705989837646,
          0.7987762689590454,
          2.603734254837036,
          2.3995461463928223,
          2.0016705989837646,
          2.0016705989837646,
          2.0016705989837646,
          2.0065701007843018,
          7.232974052429199,
          2.3995461463928223,
          2.3995461463928223,
          2.0003914833068848,
          2.7968897819519043,
          1.8074772357940674,
          2.0016705989837646,
          2.8001415729522705,
          2.3993027210235596,
          1.5988664627075195,
          2.3995461463928223,
          3.20166277885437,
          2.3993027210235596,
          1.5988664627075195,
          2.3995461463928223,
          3.399531602859497,
          2.6021745204925537,
          2.3995461463928223,
          2.19730806350708,
          2.19730806350708,
          2.8001415729522705,
          2.0016705989837646,
          2.0003914833068848,
          1.200520396232605,
          2.0016705989837646,
          1.200520396232605,
          39.19905090332031,
          2.3995461463928223,
          2.19730806350708,
          2.19730806350708,
          2.0003914833068848,
          2.3995461463928223,
          2.3995461463928223,
          2.3993027210235596,
          2.0016705989837646,
          2.0016705989837646,
          2.3993027210235596,
          2.603734254837036,
          1.8074772357940674,
          2.3993027210235596
         ],
         "yaxis": "y"
        },
        {
         "customdata": [
          [
           "Dream World"
          ],
          [
           "Wat Nong Hoi"
          ],
          [
           "Thai Airways Market"
          ],
          [
           "Wat Bot"
          ],
          [
           "Wat Bot Muang"
          ],
          [
           "Ban Khlong Luek Border Market"
          ],
          [
           "Wat Phai Rong Wua"
          ],
          [
           "Wat Thap Kradan"
          ],
          [
           "Chao Mae Song Nang Phi Nong Shrine"
          ],
          [
           "Wat Nong Pah Pong"
          ],
          [
           "Wat Nong Pah Pong"
          ],
          [
           "Wat Phra That Nong Bua"
          ],
          [
           "Wat Phra That Nong Bua"
          ],
          [
           "Wat Sala Loi"
          ],
          [
           "Wat Chao Fa Sala Loi"
          ],
          [
           "Wat Phra Bat Pupha Daeng"
          ],
          [
           "Wat Maha That Temple"
          ],
          [
           "Wat Maha That Temple"
          ],
          [
           "Wat Maha Phuttharam"
          ],
          [
           "Wat Maha But Temple - Mae Nak Shrine"
          ],
          [
           "Wat Phra Si Ratana Maha That"
          ],
          [
           "Wat Phra Si Ratana Maha That"
          ],
          [
           "Wat Maha That"
          ],
          [
           "Wat Maha That"
          ],
          [
           "Wat Suwan Khiri Khet"
          ],
          [
           "Krom Luang Chumphon Khet Udomsak Royal Palace"
          ],
          [
           "Krom Luang Chumphon Khet Udomsak Royal Palace"
          ],
          [
           "Krom Luang Chumphon Khet Udomsak Royal Palace"
          ],
          [
           "Wat Chang Hai Rat Buranaram"
          ],
          [
           "Wat Pa Non Sawan"
          ],
          [
           "Wat Pa Non Sawan"
          ],
          [
           "Wat Pa Non Sawan"
          ],
          [
           "Wat Koh Klang"
          ],
          [
           "Wat Pha Nam Yoi - Isaan Buddhist Park"
          ],
          [
           "Wat Nam Hoo"
          ],
          [
           "Wat Phumin"
          ],
          [
           "Wat Chang Lom"
          ],
          [
           "Wat Chang Rop"
          ],
          [
           "Wat Chang Rop"
          ],
          [
           "Wat Chang Taem"
          ],
          [
           "Wat Bowonniwet Vihara"
          ],
          [
           "Wat Bowonniwet Vihara"
          ],
          [
           "Wat Phai Lom"
          ],
          [
           "Wat Phai Lom"
          ],
          [
           "City Pillar Of Chanthaburi"
          ],
          [
           "City Pillar Of Chanthaburi"
          ],
          [
           "Wat Bua Khwan"
          ],
          [
           "Wat Leng Nei Yi 2"
          ],
          [
           "Wat Leng Nei Yi 2"
          ],
          [
           "Wat Nong Bua"
          ],
          [
           "Wat Nong Bua"
          ],
          [
           "Wat Okat Si Bua Ban"
          ],
          [
           "Wat Tham Suwannakhuha"
          ],
          [
           "Sing Sing Theater"
          ],
          [
           "Wat Phrai Phatthana"
          ],
          [
           "Tha Phae Gate"
          ],
          [
           "Khao Lak Elephant Home"
          ],
          [
           "Khao Lak Elephant Home"
          ],
          [
           "Mai Khao Beach"
          ],
          [
           "Mai Khao Beach"
          ],
          [
           "Mai Khao Beach"
          ],
          [
           "Khao Yai National Park"
          ],
          [
           "Khao Chamao Khao Wong National Park"
          ],
          [
           "Khao Chamao Khao Wong National Park"
          ],
          [
           "The National Memorial"
          ]
         ],
         "hovertemplate": "place_name=%{x}<br>predicted_score=%{y}<br>location_name=%{customdata[0]}<extra></extra>",
         "legendgroup": "Pathum Thani",
         "marker": {
          "color": "#00cc96",
          "symbol": "circle"
         },
         "mode": "markers",
         "name": "Pathum Thani",
         "showlegend": true,
         "type": "scattergl",
         "x": [
          "Pathum Thani",
          "Pathum Thani",
          "Pathum Thani",
          "Pathum Thani",
          "Pathum Thani",
          "Pathum Thani",
          "Pathum Thani",
          "Pathum Thani",
          "Pathum Thani",
          "Pathum Thani",
          "Pathum Thani",
          "Pathum Thani",
          "Pathum Thani",
          "Pathum Thani",
          "Pathum Thani",
          "Pathum Thani",
          "Pathum Thani",
          "Pathum Thani",
          "Pathum Thani",
          "Pathum Thani",
          "Pathum Thani",
          "Pathum Thani",
          "Pathum Thani",
          "Pathum Thani",
          "Pathum Thani",
          "Pathum Thani",
          "Pathum Thani",
          "Pathum Thani",
          "Pathum Thani",
          "Pathum Thani",
          "Pathum Thani",
          "Pathum Thani",
          "Pathum Thani",
          "Pathum Thani",
          "Pathum Thani",
          "Pathum Thani",
          "Pathum Thani",
          "Pathum Thani",
          "Pathum Thani",
          "Pathum Thani",
          "Pathum Thani",
          "Pathum Thani",
          "Pathum Thani",
          "Pathum Thani",
          "Pathum Thani",
          "Pathum Thani",
          "Pathum Thani",
          "Pathum Thani",
          "Pathum Thani",
          "Pathum Thani",
          "Pathum Thani",
          "Pathum Thani",
          "Pathum Thani",
          "Pathum Thani",
          "Pathum Thani",
          "Pathum Thani",
          "Pathum Thani",
          "Pathum Thani",
          "Pathum Thani",
          "Pathum Thani",
          "Pathum Thani",
          "Pathum Thani",
          "Pathum Thani",
          "Pathum Thani",
          "Pathum Thani"
         ],
         "xaxis": "x",
         "y": [
          2.3995461463928223,
          2.8001415729522705,
          1.5988664627075195,
          2.3993027210235596,
          1.2003188133239746,
          2.603734254837036,
          2.0016705989837646,
          2.8001415729522705,
          2.8001415729522705,
          1.5988664627075195,
          2.7989964485168457,
          2.0003914833068848,
          2.603734254837036,
          2.0016705989837646,
          1.5988664627075195,
          2.3995461463928223,
          3.399531602859497,
          2.3995461463928223,
          2.8001415729522705,
          2.0003914833068848,
          2.0016705989837646,
          2.7968897819519043,
          2.3993027210235596,
          2.3993027210235596,
          2.7989964485168457,
          2.189814567565918,
          2.3995461463928223,
          2.3993027210235596,
          2.999290704727173,
          2.7989964485168457,
          2.3995461463928223,
          2.189814567565918,
          2.3995461463928223,
          2.3995461463928223,
          1.200520396232605,
          2.3995461463928223,
          2.6021745204925537,
          1.9998128414154053,
          2.3995461463928223,
          1.5988664627075195,
          2.6021745204925537,
          2.189814567565918,
          2.0016705989837646,
          1.5998839139938354,
          1.200520396232605,
          2.8001415729522705,
          2.0016705989837646,
          2.3995461463928223,
          2.0003914833068848,
          1.200520396232605,
          1.5988664627075195,
          3.20166277885437,
          2.8001415729522705,
          2.3995461463928223,
          1.9998128414154053,
          2.8001415729522705,
          2.0003914833068848,
          2.0003914833068848,
          2.8001415729522705,
          2.3995461463928223,
          2.0016705989837646,
          2.3995461463928223,
          2.401073455810547,
          2.3993027210235596,
          2.401073455810547
         ],
         "yaxis": "y"
        },
        {
         "customdata": [
          [
           "Ayutthaya City Park"
          ],
          [
           "Ayutthaya Boat & Travel"
          ],
          [
           "Ayutthaya Boat & Travel"
          ],
          [
           "Ayutthaya National Art Museum"
          ],
          [
           "Ayutthaya Historical Study Centre"
          ],
          [
           "Ayutthaya Historical Park"
          ],
          [
           "Ayutthaya Tourism Centre"
          ],
          [
           "Ayutthaya Tourism Centre"
          ],
          [
           "Wat Pha To Ban Pak Sang"
          ],
          [
           "Wat Phra That Mae Yen"
          ],
          [
           "Wat Phra That Mae Yen"
          ],
          [
           "Nang Phaya Temple (Wat Nang Phaya)"
          ],
          [
           "Nang Phaya Temple (Wat Nang Phaya)"
          ],
          [
           "Wat Chong Kham"
          ],
          [
           "Wat Chong Kham"
          ],
          [
           "Wat Chong Kham"
          ],
          [
           "Kad Kong Ta Street Market"
          ],
          [
           "Kad Kong Ta Street Market"
          ],
          [
           "Hin Lad Waterfall"
          ],
          [
           "Lad Koh View Point"
          ],
          [
           "Lad Koh View Point"
          ],
          [
           "Wat Tham Khao Pun"
          ],
          [
           "Wat Suwan Kuha (Cave Temple)"
          ],
          [
           "Wat Thammikarat"
          ],
          [
           "Wat Thammikarat"
          ],
          [
           "Wat Thammikarat"
          ],
          [
           "Wat Rai Khing"
          ],
          [
           "Wat Samphran"
          ],
          [
           "Wat Samphran"
          ],
          [
           "Baan Hollanda"
          ],
          [
           "Baan Hollanda"
          ],
          [
           "Baan Dam Museum"
          ],
          [
           "Baan Sabai Massage Center"
          ],
          [
           "Baan Silapin"
          ],
          [
           "Baan Silapin"
          ],
          [
           "Baan Thai massage"
          ],
          [
           "Baan Tiew"
          ],
          [
           "Baan Sillapin Artists Village"
          ],
          [
           "Baan Sillapin Artists Village"
          ],
          [
           "Baan Sillapin Artists Village"
          ],
          [
           "Phra Mahathat Woramaha Wiharn"
          ],
          [
           "Phra Mahathat Woramaha Wiharn"
          ],
          [
           "Phra Mahathat Woramaha Wiharn"
          ],
          [
           "Phra Mahathat Woramaha Wiharn"
          ],
          [
           "Phra Thinang Aisawan Thiphta-Art"
          ],
          [
           "Phra Thinang Aisawan Thiphta-Art"
          ],
          [
           "Phra Thinang Wehart Chamrun"
          ],
          [
           "Phra Thinang Wehart Chamrun"
          ],
          [
           "Bang Pa-In Railway Station"
          ],
          [
           "Royal Bang Pa-in Golf Club"
          ],
          [
           "Phra Thinang Uthayan Phumisathian"
          ],
          [
           "Samui Elephant Sanctuary"
          ],
          [
           "Samui Elephant Sanctuary"
          ],
          [
           "Elephant Rescue Park"
          ],
          [
           "Elephant Rescue Park"
          ],
          [
           "Wat Yai Suwannaram"
          ],
          [
           "Wat Yai Suwannaram"
          ],
          [
           "Wat Phra Ngam"
          ],
          [
           "Wat Kudidao"
          ],
          [
           "King Naresuan Monument"
          ],
          [
           "King Naresuan The Great Shrine"
          ],
          [
           "King Naresuan The Great Shrine"
          ],
          [
           "Phra Si Ratana Chedi"
          ],
          [
           "Phra Chedi Si Suriyothai"
          ],
          [
           "Phra Chedi Si Suriyothai"
          ],
          [
           "Wat Phra Nang Sang"
          ],
          [
           "Kui Buri National Park"
          ],
          [
           "Wat Chumphon Khiri"
          ],
          [
           "Wat Chumphon Khiri"
          ],
          [
           "Wat Kaew Pra Seart"
          ],
          [
           "Mu Ko Chumphon National Park"
          ],
          [
           "Mu Ko Chumphon National Park"
          ],
          [
           "Chumphon Fishing Resort Thailand"
          ],
          [
           "Khun Korn Waterfall"
          ],
          [
           "Khun Chang Khian"
          ],
          [
           "Khun Chang Khian"
          ],
          [
           "Khun Chang Khian"
          ],
          [
           "Khun Dan Prakan Chon Dam"
          ],
          [
           "Khun Si Waterfall"
          ],
          [
           "Khun Si Waterfall"
          ],
          [
           "Wat Khun Chan"
          ],
          [
           "Wat Khun Inthapramun"
          ],
          [
           "Doi Khun Tan National Park"
          ],
          [
           "King Mengrai Monument"
          ],
          [
           "King Mengrai Monument"
          ],
          [
           "King Mengrai Monument"
          ],
          [
           "Three Kings Monument"
          ],
          [
           "Prasat Hin Phanom Wan"
          ],
          [
           "Prasat Hin Phanom Wan"
          ],
          [
           "Ban Prasat Archaeological Site"
          ],
          [
           "Ban Prasat Archaeological Site"
          ],
          [
           "Ban Prasat Archaeological Site"
          ],
          [
           "Wat Muen Tum"
          ],
          [
           "Prasat Hin Mueang Tum"
          ],
          [
           "Tum Massage"
          ],
          [
           "Somdet Phra Srinakarindra Park Roi Et"
          ],
          [
           "Somdet Phra Srinakarindra Park Roi Et"
          ],
          [
           "Somdet Phra Si Nakharin Park"
          ],
          [
           "Wat Ram Poeng"
          ],
          [
           "Wat Khun Thai Tha Ram Temple"
          ],
          [
           "Thung Bua Chom Floating Market"
          ],
          [
           "ตลาดน้ำทุ่งบัวแดง"
          ],
          [
           "Chado Cliff Viewpoint"
          ],
          [
           "St. Joseph's Church"
          ],
          [
           "St. Joseph's Church"
          ],
          [
           "St. Joseph's Church"
          ],
          [
           "Mon Bridge"
          ],
          [
           "Si Satchanalai Historical Park"
          ],
          [
           "Si Lanna National Park"
          ],
          [
           "Sunday Night Market"
          ],
          [
           "Sunday Night Market"
          ],
          [
           "Ploen Ruedee Night Market"
          ],
          [
           "Jing Jai Market"
          ],
          [
           "Jao Mae Tub Tim Shrine"
          ],
          [
           "Jao Mae Tub Tim Shrine"
          ],
          [
           "Soi Cowboy"
          ],
          [
           "Soi Cowboy"
          ],
          [
           "Chao Mae Tomo Shrine"
          ],
          [
           "Chao Mae Tubtim Thong Shrine"
          ],
          [
           "Chao Mae Tubtim Thong Shrine"
          ],
          [
           "Chao Mae Tubtim Thong Shrine"
          ],
          [
           "Phra Mae Ya Shrine"
          ],
          [
           "Wat Pha Lat Monk's Trail"
          ],
          [
           "Wat Pha Lat Monk's Trail"
          ],
          [
           "Thai Boat Museum"
          ],
          [
           "The National Museum Bangkok"
          ],
          [
           "Wat King Kaew"
          ],
          [
           "Koh Racha Yai"
          ]
         ],
         "hovertemplate": "place_name=%{x}<br>predicted_score=%{y}<br>location_name=%{customdata[0]}<extra></extra>",
         "legendgroup": "Phra Nakhon Si Ayutthaya",
         "marker": {
          "color": "#ab63fa",
          "symbol": "circle"
         },
         "mode": "markers",
         "name": "Phra Nakhon Si Ayutthaya",
         "showlegend": true,
         "type": "scattergl",
         "x": [
          "Phra Nakhon Si Ayutthaya",
          "Phra Nakhon Si Ayutthaya",
          "Phra Nakhon Si Ayutthaya",
          "Phra Nakhon Si Ayutthaya",
          "Phra Nakhon Si Ayutthaya",
          "Phra Nakhon Si Ayutthaya",
          "Phra Nakhon Si Ayutthaya",
          "Phra Nakhon Si Ayutthaya",
          "Phra Nakhon Si Ayutthaya",
          "Phra Nakhon Si Ayutthaya",
          "Phra Nakhon Si Ayutthaya",
          "Phra Nakhon Si Ayutthaya",
          "Phra Nakhon Si Ayutthaya",
          "Phra Nakhon Si Ayutthaya",
          "Phra Nakhon Si Ayutthaya",
          "Phra Nakhon Si Ayutthaya",
          "Phra Nakhon Si Ayutthaya",
          "Phra Nakhon Si Ayutthaya",
          "Phra Nakhon Si Ayutthaya",
          "Phra Nakhon Si Ayutthaya",
          "Phra Nakhon Si Ayutthaya",
          "Phra Nakhon Si Ayutthaya",
          "Phra Nakhon Si Ayutthaya",
          "Phra Nakhon Si Ayutthaya",
          "Phra Nakhon Si Ayutthaya",
          "Phra Nakhon Si Ayutthaya",
          "Phra Nakhon Si Ayutthaya",
          "Phra Nakhon Si Ayutthaya",
          "Phra Nakhon Si Ayutthaya",
          "Phra Nakhon Si Ayutthaya",
          "Phra Nakhon Si Ayutthaya",
          "Phra Nakhon Si Ayutthaya",
          "Phra Nakhon Si Ayutthaya",
          "Phra Nakhon Si Ayutthaya",
          "Phra Nakhon Si Ayutthaya",
          "Phra Nakhon Si Ayutthaya",
          "Phra Nakhon Si Ayutthaya",
          "Phra Nakhon Si Ayutthaya",
          "Phra Nakhon Si Ayutthaya",
          "Phra Nakhon Si Ayutthaya",
          "Phra Nakhon Si Ayutthaya",
          "Phra Nakhon Si Ayutthaya",
          "Phra Nakhon Si Ayutthaya",
          "Phra Nakhon Si Ayutthaya",
          "Phra Nakhon Si Ayutthaya",
          "Phra Nakhon Si Ayutthaya",
          "Phra Nakhon Si Ayutthaya",
          "Phra Nakhon Si Ayutthaya",
          "Phra Nakhon Si Ayutthaya",
          "Phra Nakhon Si Ayutthaya",
          "Phra Nakhon Si Ayutthaya",
          "Phra Nakhon Si Ayutthaya",
          "Phra Nakhon Si Ayutthaya",
          "Phra Nakhon Si Ayutthaya",
          "Phra Nakhon Si Ayutthaya",
          "Phra Nakhon Si Ayutthaya",
          "Phra Nakhon Si Ayutthaya",
          "Phra Nakhon Si Ayutthaya",
          "Phra Nakhon Si Ayutthaya",
          "Phra Nakhon Si Ayutthaya",
          "Phra Nakhon Si Ayutthaya",
          "Phra Nakhon Si Ayutthaya",
          "Phra Nakhon Si Ayutthaya",
          "Phra Nakhon Si Ayutthaya",
          "Phra Nakhon Si Ayutthaya",
          "Phra Nakhon Si Ayutthaya",
          "Phra Nakhon Si Ayutthaya",
          "Phra Nakhon Si Ayutthaya",
          "Phra Nakhon Si Ayutthaya",
          "Phra Nakhon Si Ayutthaya",
          "Phra Nakhon Si Ayutthaya",
          "Phra Nakhon Si Ayutthaya",
          "Phra Nakhon Si Ayutthaya",
          "Phra Nakhon Si Ayutthaya",
          "Phra Nakhon Si Ayutthaya",
          "Phra Nakhon Si Ayutthaya",
          "Phra Nakhon Si Ayutthaya",
          "Phra Nakhon Si Ayutthaya",
          "Phra Nakhon Si Ayutthaya",
          "Phra Nakhon Si Ayutthaya",
          "Phra Nakhon Si Ayutthaya",
          "Phra Nakhon Si Ayutthaya",
          "Phra Nakhon Si Ayutthaya",
          "Phra Nakhon Si Ayutthaya",
          "Phra Nakhon Si Ayutthaya",
          "Phra Nakhon Si Ayutthaya",
          "Phra Nakhon Si Ayutthaya",
          "Phra Nakhon Si Ayutthaya",
          "Phra Nakhon Si Ayutthaya",
          "Phra Nakhon Si Ayutthaya",
          "Phra Nakhon Si Ayutthaya",
          "Phra Nakhon Si Ayutthaya",
          "Phra Nakhon Si Ayutthaya",
          "Phra Nakhon Si Ayutthaya",
          "Phra Nakhon Si Ayutthaya",
          "Phra Nakhon Si Ayutthaya",
          "Phra Nakhon Si Ayutthaya",
          "Phra Nakhon Si Ayutthaya",
          "Phra Nakhon Si Ayutthaya",
          "Phra Nakhon Si Ayutthaya",
          "Phra Nakhon Si Ayutthaya",
          "Phra Nakhon Si Ayutthaya",
          "Phra Nakhon Si Ayutthaya",
          "Phra Nakhon Si Ayutthaya",
          "Phra Nakhon Si Ayutthaya",
          "Phra Nakhon Si Ayutthaya",
          "Phra Nakhon Si Ayutthaya",
          "Phra Nakhon Si Ayutthaya",
          "Phra Nakhon Si Ayutthaya",
          "Phra Nakhon Si Ayutthaya",
          "Phra Nakhon Si Ayutthaya",
          "Phra Nakhon Si Ayutthaya",
          "Phra Nakhon Si Ayutthaya",
          "Phra Nakhon Si Ayutthaya",
          "Phra Nakhon Si Ayutthaya",
          "Phra Nakhon Si Ayutthaya",
          "Phra Nakhon Si Ayutthaya",
          "Phra Nakhon Si Ayutthaya",
          "Phra Nakhon Si Ayutthaya",
          "Phra Nakhon Si Ayutthaya",
          "Phra Nakhon Si Ayutthaya",
          "Phra Nakhon Si Ayutthaya",
          "Phra Nakhon Si Ayutthaya",
          "Phra Nakhon Si Ayutthaya",
          "Phra Nakhon Si Ayutthaya",
          "Phra Nakhon Si Ayutthaya",
          "Phra Nakhon Si Ayutthaya",
          "Phra Nakhon Si Ayutthaya"
         ],
         "xaxis": "x",
         "y": [
          3.201072931289673,
          2.0003914833068848,
          2.3995461463928223,
          1.7993156909942627,
          2.7968897819519043,
          2.8001415729522705,
          2.3993027210235596,
          1.8074772357940674,
          2.0016705989837646,
          2.000143527984619,
          1.200520396232605,
          2.7968897819519043,
          2.8001415729522705,
          2.3993027210235596,
          2.19999361038208,
          2.0016705989837646,
          1.8074772357940674,
          2.999656915664673,
          0.40003088116645813,
          2.0016705989837646,
          2.3995461463928223,
          2.3993027210235596,
          2.0003914833068848,
          2.8001415729522705,
          2.000143527984619,
          1.201285719871521,
          2.3995461463928223,
          2.0016705989837646,
          2.3995461463928223,
          1.200520396232605,
          2.0016705989837646,
          2.3995461463928223,
          2.603734254837036,
          2.7968897819519043,
          2.401073455810547,
          2.603734254837036,
          2.8001415729522705,
          2.3993027210235596,
          1.5988426208496094,
          2.0003914833068848,
          2.0003914833068848,
          2.0003914833068848,
          2.401073455810547,
          2.401073455810547,
          2.8001415729522705,
          2.0003914833068848,
          2.000143527984619,
          2.3995461463928223,
          2.3993027210235596,
          2.6021745204925537,
          1.5988426208496094,
          2.3995461463928223,
          2.8001415729522705,
          2.7968897819519043,
          2.3995461463928223,
          1.8074772357940674,
          1.5988426208496094,
          2.6021745204925537,
          2.8001415729522705,
          11.600126266479492,
          2.3993027210235596,
          1.677943468093872,
          2.603734254837036,
          1.5988664627075195,
          2.189814567565918,
          2.0016705989837646,
          0.7987762689590454,
          2.0016705989837646,
          2.999656915664673,
          2.189814567565918,
          1.3937820196151733,
          2.0003914833068848,
          2.0003914833068848,
          2.8001415729522705,
          2.0003914833068848,
          2.3995461463928223,
          2.603734254837036,
          2.603734254837036,
          3.201072931289673,
          2.999290704727173,
          2.19730806350708,
          2.8001415729522705,
          2.7968897819519043,
          6.002264499664307,
          2.189814567565918,
          2.7968897819519043,
          7.422134876251221,
          2.19730806350708,
          1.9998128414154053,
          0.7996031641960144,
          2.3993027210235596,
          2.0003914833068848,
          2.000143527984619,
          2.3995461463928223,
          2.3995461463928223,
          2.8001415729522705,
          2.3993027210235596,
          2.3993027210235596,
          2.8001415729522705,
          1.5988664627075195,
          1.6001347303390503,
          2.999656915664673,
          2.3995461463928223,
          2.0016705989837646,
          2.3993027210235596,
          2.7989964485168457,
          2.0003914833068848,
          2.0003914833068848,
          2.3993027210235596,
          2.8001415729522705,
          2.3995461463928223,
          2.19730806350708,
          2.3995461463928223,
          2.3993027210235596,
          1.5988664627075195,
          2.0016705989837646,
          2.3993027210235596,
          2.0016705989837646,
          2.0065701007843018,
          2.3993027210235596,
          2.000143527984619,
          1.3937820196151733,
          2.0003914833068848,
          1.5988664627075195,
          2.0016705989837646,
          2.8001415729522705,
          2.196451425552368,
          2.7968897819519043
         ],
         "yaxis": "y"
        },
        {
         "customdata": [
          [
           "Wat Sa Bua Kaeo"
          ],
          [
           "Wat Tham Khao Chakan"
          ],
          [
           "Nong Hoi Royal Project"
          ],
          [
           "Huai Luek Royal Project Development Centre"
          ],
          [
           "Huai Luek Royal Project Development Centre"
          ],
          [
           "Royal Project Khun Pae"
          ],
          [
           "Wat Tham Ta Pan Temple"
          ],
          [
           "Wat Tham Ta Pan Temple"
          ],
          [
           "Wat Phra That Doi Kong Mu"
          ],
          [
           "Farm Chokchai"
          ],
          [
           "Farm Chokchai"
          ],
          [
           "Ban Hun Lek"
          ],
          [
           "Lek Massage"
          ],
          [
           "Lek Massage Bangkok - Lek House BTS National Stadium"
          ],
          [
           "Muak Lek Waterfall"
          ],
          [
           "Muak Lek Waterfall"
          ],
          [
           "Farm de Lek"
          ],
          [
           "Bangkok Dolls"
          ],
          [
           "Jewelry Trade Center"
          ],
          [
           "BASE"
          ],
          [
           "Chao 9 Massage"
          ],
          [
           "Koh Kham Undersea"
          ],
          [
           "Koh Kham Undersea"
          ],
          [
           "Koh Kham Undersea"
          ],
          [
           "Koh Kham Undersea"
          ],
          [
           "Kham Chanod Forest"
          ],
          [
           "Wat Ban Rai"
          ],
          [
           "Diamond Cave (Tham Phra Nang Nai)"
          ],
          [
           "Wat Mongkol Wararam"
          ],
          [
           "Big Buddha at Wat Muang Temple"
          ],
          [
           "Wat Muang"
          ],
          [
           "Wat Ming Muang"
          ],
          [
           "Wat Pho Chai"
          ],
          [
           "Ang Thong Provincial City Pillar Shrine"
          ],
          [
           "Ang Thong Provincial City Pillar Shrine"
          ],
          [
           "Chula Mani Temple"
          ],
          [
           "Wat Mani Phraison"
          ],
          [
           "Wat Mani Chonlakhan"
          ],
          [
           "Nai Thon Beach"
          ],
          [
           "Koh Khai Nai"
          ],
          [
           "Asia Blue - Thong Nai Pan"
          ],
          [
           "Wat Ban Tat"
          ],
          [
           "Wat Siriuttho (Wat Kham Chanod)"
          ],
          [
           "Wat Siriuttho (Wat Kham Chanod)"
          ],
          [
           "Wat Pa Kung"
          ],
          [
           "Wat Burapha Phiram"
          ],
          [
           "Wat Sriboonreung (Wat Si Bunruang)"
          ],
          [
           "Wat Phra Thaen Sila At"
          ],
          [
           "Prasat Muang Singh Historical Park"
          ],
          [
           "Prasat Muang Singh Historical Park"
          ]
         ],
         "hovertemplate": "place_name=%{x}<br>predicted_score=%{y}<br>location_name=%{customdata[0]}<extra></extra>",
         "legendgroup": "Ang Thong",
         "marker": {
          "color": "#FFA15A",
          "symbol": "circle"
         },
         "mode": "markers",
         "name": "Ang Thong",
         "showlegend": true,
         "type": "scattergl",
         "x": [
          "Ang Thong",
          "Ang Thong",
          "Ang Thong",
          "Ang Thong",
          "Ang Thong",
          "Ang Thong",
          "Ang Thong",
          "Ang Thong",
          "Ang Thong",
          "Ang Thong",
          "Ang Thong",
          "Ang Thong",
          "Ang Thong",
          "Ang Thong",
          "Ang Thong",
          "Ang Thong",
          "Ang Thong",
          "Ang Thong",
          "Ang Thong",
          "Ang Thong",
          "Ang Thong",
          "Ang Thong",
          "Ang Thong",
          "Ang Thong",
          "Ang Thong",
          "Ang Thong",
          "Ang Thong",
          "Ang Thong",
          "Ang Thong",
          "Ang Thong",
          "Ang Thong",
          "Ang Thong",
          "Ang Thong",
          "Ang Thong",
          "Ang Thong",
          "Ang Thong",
          "Ang Thong",
          "Ang Thong",
          "Ang Thong",
          "Ang Thong",
          "Ang Thong",
          "Ang Thong",
          "Ang Thong",
          "Ang Thong",
          "Ang Thong",
          "Ang Thong",
          "Ang Thong",
          "Ang Thong",
          "Ang Thong",
          "Ang Thong"
         ],
         "xaxis": "x",
         "y": [
          2.603734254837036,
          2.3995461463928223,
          2.401073455810547,
          1.5988664627075195,
          1.200520396232605,
          2.999656915664673,
          3.2115883827209473,
          1.5988664627075195,
          1.9998128414154053,
          1.5988426208496094,
          2.3995461463928223,
          2.0003914833068848,
          2.0003914833068848,
          1.400386929512024,
          2.7989964485168457,
          1.5988426208496094,
          3.20166277885437,
          2.0003914833068848,
          2.999656915664673,
          2.3995461463928223,
          0.7996031641960144,
          0.40003088116645813,
          2.0003914833068848,
          1.2029240131378174,
          2.999656915664673,
          2.8001415729522705,
          2.0003914833068848,
          1.7993156909942627,
          2.4026975631713867,
          2.0003914833068848,
          2.3995461463928223,
          2.0003914833068848,
          2.3995461463928223,
          2.8001415729522705,
          2.8001415729522705,
          1.9998128414154053,
          1.8074772357940674,
          1.200520396232605,
          2.3995461463928223,
          2.000143527984619,
          2.3995461463928223,
          2.456019163131714,
          2.3993027210235596,
          2.0003914833068848,
          2.0003914833068848,
          2.0016705989837646,
          1.9998128414154053,
          2.0003914833068848,
          1.9998128414154053,
          2.189814567565918
         ],
         "yaxis": "y"
        },
        {
         "customdata": [
          [
           "Ban Ta Klang Elephant Village"
          ],
          [
           "Maenam Beach"
          ],
          [
           "Mengrai Kilns"
          ],
          [
           "Phrom Lok Waterfall"
          ],
          [
           "Phrom Lok Waterfall"
          ],
          [
           "Lek Massage Bangkok - BTS Phrom Phong"
          ],
          [
           "Lek Massage Bangkok - BTS Phrom Phong"
          ],
          [
           "Asia Herb Association - Phrom Phong Shop"
          ],
          [
           "Wat Phrathat Chae Haeng"
          ],
          [
           "Wat Phrathat Chae Haeng"
          ],
          [
           "Wat Phrathat Chang Kham Worawihan"
          ],
          [
           "Ban Rachan Old-Style Market"
          ],
          [
           "Phrathat Bang Phuan"
          ],
          [
           "Khai Nok Island"
          ],
          [
           "Wat Sawang Arom (Wat Tham Sri Thon )"
          ],
          [
           "Shadow Play House of Suchat Sapsin"
          ],
          [
           "Phra Buddha Chinnarat"
          ],
          [
           "Kaeng Khud Khu"
          ],
          [
           "Muang Khu Bua Ancient Remains"
          ],
          [
           "Wat Buppharam or Wat Plai Klong"
          ],
          [
           "Wat Buppharam or Wat Plai Klong"
          ],
          [
           "Wat Bang Riang"
          ],
          [
           "Bann Kang Wat"
          ],
          [
           "Wat Phra Prang and Ancient Kilns"
          ],
          [
           "Phra Prang Sam Yot"
          ],
          [
           "Phra Prang Sam Yot"
          ],
          [
           "Tung Bua Tong Forest Park Doi Mae Mae Ukho"
          ]
         ],
         "hovertemplate": "place_name=%{x}<br>predicted_score=%{y}<br>location_name=%{customdata[0]}<extra></extra>",
         "legendgroup": "Sing Buri",
         "marker": {
          "color": "#19d3f3",
          "symbol": "circle"
         },
         "mode": "markers",
         "name": "Sing Buri",
         "showlegend": true,
         "type": "scattergl",
         "x": [
          "Sing Buri",
          "Sing Buri",
          "Sing Buri",
          "Sing Buri",
          "Sing Buri",
          "Sing Buri",
          "Sing Buri",
          "Sing Buri",
          "Sing Buri",
          "Sing Buri",
          "Sing Buri",
          "Sing Buri",
          "Sing Buri",
          "Sing Buri",
          "Sing Buri",
          "Sing Buri",
          "Sing Buri",
          "Sing Buri",
          "Sing Buri",
          "Sing Buri",
          "Sing Buri",
          "Sing Buri",
          "Sing Buri",
          "Sing Buri",
          "Sing Buri",
          "Sing Buri",
          "Sing Buri"
         ],
         "xaxis": "x",
         "y": [
          2.19999361038208,
          2.19730806350708,
          2.0003914833068848,
          2.999656915664673,
          1.201943039894104,
          1.201285719871521,
          2.0003914833068848,
          1.201285719871521,
          2.3995461463928223,
          2.0003914833068848,
          2.000143527984619,
          2.6002705097198486,
          2.19999361038208,
          0.9999472498893738,
          2.0016705989837646,
          2.8001415729522705,
          2.3995461463928223,
          0.600354015827179,
          2.3995461463928223,
          1.5988664627075195,
          2.3995461463928223,
          2.6021888256073,
          2.0016705989837646,
          2.0016705989837646,
          0.40003088116645813,
          1.5988664627075195,
          2.8001415729522705
         ],
         "yaxis": "y"
        },
        {
         "customdata": [
          [
           "Chainat bird park"
          ],
          [
           "Chainat bird park"
          ],
          [
           "Phuket Bird Park"
          ],
          [
           "Wat Tham Khao Rup Chang"
          ],
          [
           "Wat Khao Tham"
          ],
          [
           "Wat Lak Si Rat Samoson"
          ],
          [
           "Wat Phra Borommathat Chediyaram"
          ],
          [
           "Samma Karuna"
          ],
          [
           "Tukcom - Chon Buri"
          ],
          [
           "Nong Nooch Tropical Botanical Garden"
          ],
          [
           "Koh Larn"
          ],
          [
           "Koh Larn"
          ],
          [
           "Koh Larn"
          ],
          [
           "Pai Plong Beach"
          ],
          [
           "Pai Plong Beach"
          ],
          [
           "Chiang Chom Temple (Wat Chedi Plong Pagoda)"
          ],
          [
           "Chiang Chom Temple (Wat Chedi Plong Pagoda)"
          ],
          [
           "Boat Avenue Villa Market"
          ],
          [
           "Chan Chala Night Market"
          ],
          [
           "Wat Phra Singh"
          ],
          [
           "Wat Nuan Chan"
          ],
          [
           "The Wora Spa Hua Hin"
          ]
         ],
         "hovertemplate": "place_name=%{x}<br>predicted_score=%{y}<br>location_name=%{customdata[0]}<extra></extra>",
         "legendgroup": "Chai Nat",
         "marker": {
          "color": "#FF6692",
          "symbol": "circle"
         },
         "mode": "markers",
         "name": "Chai Nat",
         "showlegend": true,
         "type": "scattergl",
         "x": [
          "Chai Nat",
          "Chai Nat",
          "Chai Nat",
          "Chai Nat",
          "Chai Nat",
          "Chai Nat",
          "Chai Nat",
          "Chai Nat",
          "Chai Nat",
          "Chai Nat",
          "Chai Nat",
          "Chai Nat",
          "Chai Nat",
          "Chai Nat",
          "Chai Nat",
          "Chai Nat",
          "Chai Nat",
          "Chai Nat",
          "Chai Nat",
          "Chai Nat",
          "Chai Nat",
          "Chai Nat"
         ],
         "xaxis": "x",
         "y": [
          1.598639965057373,
          2.189814567565918,
          1.5988664627075195,
          2.19730806350708,
          2.999290704727173,
          1.5988664627075195,
          2.603734254837036,
          2.19730806350708,
          2.3993027210235596,
          2.0016705989837646,
          2.000143527984619,
          2.0016705989837646,
          1.5988664627075195,
          1.5988664627075195,
          2.3993027210235596,
          2.7968897819519043,
          2.3995461463928223,
          2.0003914833068848,
          2.6021745204925537,
          1.8074772357940674,
          2.3995461463928223,
          2.3995461463928223
         ],
         "yaxis": "y"
        },
        {
         "customdata": [
          [
           "Wat Jetiyakhiri (Wat Phu Thok)"
          ],
          [
           "Phra That Cave"
          ],
          [
           "Phra That Cave"
          ],
          [
           "Namtok Chet Sao Noi National Park"
          ],
          [
           "Tham Kra Sae Bridge"
          ],
          [
           "Tham Khao Luang Cave"
          ],
          [
           "Market Village HuaHin"
          ],
          [
           "Market Village HuaHin"
          ],
          [
           "Cicada Market"
          ],
          [
           "Hua Hin Sam Phan Nam Floating Market"
          ],
          [
           "Chatchai Market"
          ],
          [
           "Chatchai Market"
          ],
          [
           "Hua Hin Floating Market"
          ],
          [
           "Namtok Phlio National Park"
          ],
          [
           "Namtok Phlio National Park"
          ],
          [
           "Namtok Ngao National Park"
          ],
          [
           "Namtok Ngao National Park"
          ],
          [
           "Namtok Yong National Park"
          ],
          [
           "Khao Yoi Cave"
          ],
          [
           "Khao Mai Kaew Cave"
          ],
          [
           "Khao Mai Kaew Cave"
          ],
          [
           "Khao Luk Chang Bat Cave"
          ],
          [
           "Wat Phra Phutthabat Tak Pha"
          ],
          [
           "Wat Phra Phutthabat Tak Pha"
          ],
          [
           "Khao Sam Lan National Park"
          ],
          [
           "Khao Sam Roi Yot National Park"
          ],
          [
           "Khao Khitchakut National Park"
          ],
          [
           "Khao Luang National Park"
          ],
          [
           "Khao Phanom Bencha National Park"
          ],
          [
           "Cheow Lan Lake Khao Sok National Park"
          ],
          [
           "Wat Pra Dhat Pha-Ngao"
          ],
          [
           "Sea Farming Demonstration Unit"
          ],
          [
           "Sea Farming Demonstration Unit"
          ],
          [
           "Sea Farming Demonstration Unit"
          ],
          [
           "Sub Lek Reservoir"
          ],
          [
           "Namtok Ton Nga Chang"
          ],
          [
           "Namtok Ton Nga Chang"
          ],
          [
           "Namtok Ton Nga Chang"
          ],
          [
           "Namtok Inthason"
          ],
          [
           "Bua Thong Waterfalls (Nam Phu Chet Si)"
          ],
          [
           "Namtok Sarika waterfall"
          ],
          [
           "Namtok Sai Rung"
          ],
          [
           "Namtok Sai Rung"
          ],
          [
           "Sunflower Field"
          ],
          [
           "Manee Sorn Sunflower Field"
          ],
          [
           "Sunflower Field"
          ],
          [
           "Khao Jeen Lae Sunflower Field"
          ],
          [
           "Wat Tham Chiang Dao Temple"
          ],
          [
           "Cave Dao"
          ],
          [
           "Khao Kob Cave"
          ],
          [
           "Than Sadet Waterfall National Park"
          ],
          [
           "Huai Rap Sadet Waterfall"
          ],
          [
           "Huai Rap Sadet Waterfall"
          ],
          [
           "Pha Chor"
          ],
          [
           "Pha Chor"
          ],
          [
           "Pha Hi Village"
          ],
          [
           "Pha Hi Village"
          ],
          [
           "Wat Phuttha Chaiyo"
          ],
          [
           "Phra That Kong Khao Noi"
          ],
          [
           "Wat Phra That Mae Chedi"
          ],
          [
           "Tha Maharaj"
          ],
          [
           "Wat Tha Ka Rong Floating Market"
          ],
          [
           "Ban Tha Sawang Silk Weaving Village"
          ],
          [
           "Ton Pring Waterfall"
          ],
          [
           "Tan Massage"
          ],
          [
           "Phadung Krung Kasem Canal"
          ],
          [
           "Thung Khai Botanical Garden"
          ],
          [
           "Cinta Garden"
          ],
          [
           "Piyamit Tunnels"
          ]
         ],
         "hovertemplate": "place_name=%{x}<br>predicted_score=%{y}<br>location_name=%{customdata[0]}<extra></extra>",
         "legendgroup": "Saraburi",
         "marker": {
          "color": "#B6E880",
          "symbol": "circle"
         },
         "mode": "markers",
         "name": "Saraburi",
         "showlegend": true,
         "type": "scattergl",
         "x": [
          "Saraburi",
          "Saraburi",
          "Saraburi",
          "Saraburi",
          "Saraburi",
          "Saraburi",
          "Saraburi",
          "Saraburi",
          "Saraburi",
          "Saraburi",
          "Saraburi",
          "Saraburi",
          "Saraburi",
          "Saraburi",
          "Saraburi",
          "Saraburi",
          "Saraburi",
          "Saraburi",
          "Saraburi",
          "Saraburi",
          "Saraburi",
          "Saraburi",
          "Saraburi",
          "Saraburi",
          "Saraburi",
          "Saraburi",
          "Saraburi",
          "Saraburi",
          "Saraburi",
          "Saraburi",
          "Saraburi",
          "Saraburi",
          "Saraburi",
          "Saraburi",
          "Saraburi",
          "Saraburi",
          "Saraburi",
          "Saraburi",
          "Saraburi",
          "Saraburi",
          "Saraburi",
          "Saraburi",
          "Saraburi",
          "Saraburi",
          "Saraburi",
          "Saraburi",
          "Saraburi",
          "Saraburi",
          "Saraburi",
          "Saraburi",
          "Saraburi",
          "Saraburi",
          "Saraburi",
          "Saraburi",
          "Saraburi",
          "Saraburi",
          "Saraburi",
          "Saraburi",
          "Saraburi",
          "Saraburi",
          "Saraburi",
          "Saraburi",
          "Saraburi",
          "Saraburi",
          "Saraburi",
          "Saraburi",
          "Saraburi",
          "Saraburi",
          "Saraburi"
         ],
         "xaxis": "x",
         "y": [
          2.3995461463928223,
          2.19730806350708,
          2.0016705989837646,
          2.000143527984619,
          1.8074772357940674,
          2.999656915664673,
          0.40003088116645813,
          2.19730806350708,
          2.0003914833068848,
          1.201943039894104,
          1.5988664627075195,
          2.603734254837036,
          1.2003188133239746,
          2.0003914833068848,
          2.000143527984619,
          1.200520396232605,
          2.8001415729522705,
          2.19999361038208,
          2.7968897819519043,
          2.8001415729522705,
          2.3995461463928223,
          2.6021745204925537,
          2.8001415729522705,
          2.603734254837036,
          1.7993156909942627,
          2.6021745204925537,
          2.3993027210235596,
          2.0003914833068848,
          2.3995461463928223,
          2.8001415729522705,
          2.0003914833068848,
          2.0003914833068848,
          1.8074772357940674,
          1.5988664627075195,
          2.3993027210235596,
          2.0003914833068848,
          2.78712797164917,
          2.6002705097198486,
          2.795931339263916,
          2.0016705989837646,
          2.603734254837036,
          2.0016705989837646,
          2.19999361038208,
          2.0065701007843018,
          2.3995461463928223,
          2.8001415729522705,
          0.7987762689590454,
          1.5988426208496094,
          2.0775206089019775,
          2.3993027210235596,
          2.0065701007843018,
          2.8001415729522705,
          2.999290704727173,
          2.3995461463928223,
          2.3995461463928223,
          1.5988664627075195,
          1.8074772357940674,
          2.6021745204925537,
          2.000143527984619,
          2.0003914833068848,
          2.3993027210235596,
          2.3993027210235596,
          2.3995461463928223,
          2.603734254837036,
          2.8001415729522705,
          1.5988426208496094,
          1.200520396232605,
          2.795226573944092,
          2.8001415729522705
         ],
         "yaxis": "y"
        },
        {
         "customdata": [
          [
           "Haew Narok Waterfall"
          ],
          [
           "Haew Narok Waterfall"
          ],
          [
           "Haew Narok Waterfall"
          ],
          [
           "Wat Tham Phra"
          ],
          [
           "Phuttha Utthayan Wat Pa Dong Rai"
          ],
          [
           "Puttha Utthayan and Pra Mongkol Ming Muang"
          ],
          [
           "Ganesha Park"
          ],
          [
           "KBank Siam Pic Ganesha"
          ],
          [
           "Dan’s Collections"
          ],
          [
           "Bamboo Grove - Chulapornwararam Temple"
          ],
          [
           "Wat Pathum Wanaram"
          ],
          [
           "Bhumibol Bridge (Industrial Ring Road Bridge)"
          ],
          [
           "Bhumibol Bridge (Industrial Ring Road Bridge)"
          ],
          [
           "Klong Thom Center"
          ],
          [
           "Klong Thom Center"
          ],
          [
           "International Tsunami Museum"
          ],
          [
           "Ban Chiang Museum"
          ],
          [
           "Ban Chiang Museum"
          ],
          [
           "Ban Tha Chang spring"
          ],
          [
           "Ban Tha Chang spring"
          ],
          [
           "Ban Tha Chang spring"
          ],
          [
           "Sukhothai Historical Park"
          ],
          [
           "Sukhothai Historical Park"
          ],
          [
           "Nakhon Si Thammarat City Pillar Shrine"
          ],
          [
           "Wat Mongkol Nimit"
          ],
          [
           "Wat Phu Thong Thep Nimit"
          ],
          [
           "Black rock viewpoint"
          ],
          [
           "Ban Na Korn Nai"
          ],
          [
           "Huai Krathing Reservoir"
          ],
          [
           "Huai Krathing Reservoir"
          ],
          [
           "Huai Krathing Reservoir"
          ],
          [
           "Huai Pa Daeng Reservoir"
          ],
          [
           "Huai Pa Daeng Reservoir"
          ],
          [
           "Nature Trails Ang Ka"
          ],
          [
           "Doi Ang Khang"
          ],
          [
           "Heo Narok Waterfall"
          ],
          [
           "Heo Sin Chai Cave"
          ],
          [
           "Buddha’s Footprint Temple"
          ],
          [
           "Buddha’s Footprint Temple"
          ],
          [
           "Sai Thong National Park"
          ]
         ],
         "hovertemplate": "place_name=%{x}<br>predicted_score=%{y}<br>location_name=%{customdata[0]}<extra></extra>",
         "legendgroup": "Nakhon Nayok",
         "marker": {
          "color": "#FF97FF",
          "symbol": "circle"
         },
         "mode": "markers",
         "name": "Nakhon Nayok",
         "showlegend": true,
         "type": "scattergl",
         "x": [
          "Nakhon Nayok",
          "Nakhon Nayok",
          "Nakhon Nayok",
          "Nakhon Nayok",
          "Nakhon Nayok",
          "Nakhon Nayok",
          "Nakhon Nayok",
          "Nakhon Nayok",
          "Nakhon Nayok",
          "Nakhon Nayok",
          "Nakhon Nayok",
          "Nakhon Nayok",
          "Nakhon Nayok",
          "Nakhon Nayok",
          "Nakhon Nayok",
          "Nakhon Nayok",
          "Nakhon Nayok",
          "Nakhon Nayok",
          "Nakhon Nayok",
          "Nakhon Nayok",
          "Nakhon Nayok",
          "Nakhon Nayok",
          "Nakhon Nayok",
          "Nakhon Nayok",
          "Nakhon Nayok",
          "Nakhon Nayok",
          "Nakhon Nayok",
          "Nakhon Nayok",
          "Nakhon Nayok",
          "Nakhon Nayok",
          "Nakhon Nayok",
          "Nakhon Nayok",
          "Nakhon Nayok",
          "Nakhon Nayok",
          "Nakhon Nayok",
          "Nakhon Nayok",
          "Nakhon Nayok",
          "Nakhon Nayok",
          "Nakhon Nayok",
          "Nakhon Nayok"
         ],
         "xaxis": "x",
         "y": [
          2.8001415729522705,
          2.999656915664673,
          2.0003914833068848,
          1.598639965057373,
          2.3993027210235596,
          1.201285719871521,
          2.0003914833068848,
          2.3993027210235596,
          2.3995461463928223,
          2.3993027210235596,
          2.3995461463928223,
          2.3993027210235596,
          2.189814567565918,
          2.401073455810547,
          2.603734254837036,
          2.0003914833068848,
          2.3995461463928223,
          2.3995461463928223,
          2.0016705989837646,
          2.603734254837036,
          0.9999472498893738,
          2.0003914833068848,
          2.8001415729522705,
          2.795931339263916,
          2.000143527984619,
          2.0016705989837646,
          2.19730806350708,
          2.000143527984619,
          3.20166277885437,
          1.5988426208496094,
          2.3995461463928223,
          2.000143527984619,
          2.0016705989837646,
          2.000143527984619,
          2.6002705097198486,
          2.3995461463928223,
          2.401073455810547,
          1.5988426208496094,
          2.6021745204925537,
          2.0016705989837646
         ],
         "yaxis": "y"
        },
        {
         "customdata": [
          [
           "Wat Khiriwong"
          ],
          [
           "Tham Khao Wang Thong"
          ],
          [
           "Tham Khao Wang Thong"
          ],
          [
           "Wat Tham Saeng Phet"
          ],
          [
           "Wat Tham Mankhon Thong"
          ],
          [
           "Rim Moei Market"
          ],
          [
           "Rim Moei Market"
          ],
          [
           "Rim Moei Market"
          ],
          [
           "Wat Klang"
          ],
          [
           "Ban Singha Tha"
          ],
          [
           "Wat Khae"
          ],
          [
           "Wat Khae"
          ],
          [
           "Wat Thewarup Songtham"
          ],
          [
           "Bat Cave at Wat Khao Chong Pran"
          ],
          [
           "Shrine of the Goddess Tubtim"
          ],
          [
           "Shrine of the Goddess Tubtim"
          ],
          [
           "Shrine of the Goddess Tubtim"
          ],
          [
           "Goddess Gentlemen's Lounge And A GoGo Bar"
          ],
          [
           "Bung Boraphet"
          ],
          [
           "Bung Boraphet"
          ],
          [
           "Paradise Park"
          ],
          [
           "Paradise Park"
          ],
          [
           "Chiang Saen National Museum"
          ],
          [
           "Chiang Saen National Museum"
          ],
          [
           "Chiang Saen National Museum"
          ],
          [
           "Khlong Saen Saep Boat Service"
          ],
          [
           "The Wang Saen Suk Hell Garden"
          ],
          [
           "Bang Saen 2 and Hat Chom Thong"
          ],
          [
           "Tham Luang Nang Non"
          ],
          [
           "Mae Kampong Village"
          ],
          [
           "Mae Kampong Village"
          ],
          [
           "Mae Kampong Village"
          ],
          [
           "Laem Mae Phim Beach"
          ],
          [
           "Mueang On Cave"
          ],
          [
           "Mueang On Cave"
          ],
          [
           "Mae Hong Son Loop"
          ],
          [
           "Mae Hong Son Loop"
          ],
          [
           "Mae Ramphueng Beach"
          ],
          [
           "Doi Mae Salong"
          ],
          [
           "Doi Mae Salong"
          ],
          [
           "Chedi Phra Borommasaririkkathat Khao Kho"
          ],
          [
           "Chedi Phra Borommasaririkkathat Khao Kho"
          ],
          [
           "Chedi Phra Borommasaririkkathat Khao Kho"
          ],
          [
           "Khao Wang (Phra Nakhon Khiri Historical Park)"
          ],
          [
           "Khao Wang (Phra Nakhon Khiri Historical Park)"
          ],
          [
           "Orchid Garden Khaolak"
          ],
          [
           "Orchid Garden Khaolak"
          ],
          [
           "Tham Khao Bin"
          ],
          [
           "Tham Khao Bin"
          ],
          [
           "Ao Tha Lane"
          ],
          [
           "Ao Tha Lane"
          ],
          [
           "Tha Pai Hot Spring"
          ],
          [
           "Namtok Bang Liab Nam"
          ],
          [
           "Cheow Lan Dam (Ratchaprapa Dam)"
          ],
          [
           "Thai Song Dam Tribal Villages"
          ],
          [
           "Nhong Krathing Park"
          ],
          [
           "Wat A-Hong Silawas"
          ],
          [
           "Wat Khao Din"
          ],
          [
           "Wat Nak Prok"
          ],
          [
           "Soi Sawan Waterfall"
          ],
          [
           "Nakorn Sawan Collection"
          ],
          [
           "Nakorn Sawan Collection"
          ],
          [
           "Phra Maha Chedi Si Rajakarn"
          ],
          [
           "Chedi Maha Mongkol Bua"
          ],
          [
           "Hin Ta & Hin Yai Rocks"
          ],
          [
           "U-Turn"
          ],
          [
           "Wat Khao Rang Samakkhitham"
          ],
          [
           "Wat Khao Rang Samakkhitham"
          ],
          [
           "Chao Mae Kuan Im Shrine"
          ],
          [
           "Ta Pha Dean Shrine"
          ],
          [
           "Ta Pha Dean Shrine"
          ],
          [
           "Ta Pha Dean Shrine"
          ]
         ],
         "hovertemplate": "place_name=%{x}<br>predicted_score=%{y}<br>location_name=%{customdata[0]}<extra></extra>",
         "legendgroup": "Nakhon Sawan",
         "marker": {
          "color": "#FECB52",
          "symbol": "circle"
         },
         "mode": "markers",
         "name": "Nakhon Sawan",
         "showlegend": true,
         "type": "scattergl",
         "x": [
          "Nakhon Sawan",
          "Nakhon Sawan",
          "Nakhon Sawan",
          "Nakhon Sawan",
          "Nakhon Sawan",
          "Nakhon Sawan",
          "Nakhon Sawan",
          "Nakhon Sawan",
          "Nakhon Sawan",
          "Nakhon Sawan",
          "Nakhon Sawan",
          "Nakhon Sawan",
          "Nakhon Sawan",
          "Nakhon Sawan",
          "Nakhon Sawan",
          "Nakhon Sawan",
          "Nakhon Sawan",
          "Nakhon Sawan",
          "Nakhon Sawan",
          "Nakhon Sawan",
          "Nakhon Sawan",
          "Nakhon Sawan",
          "Nakhon Sawan",
          "Nakhon Sawan",
          "Nakhon Sawan",
          "Nakhon Sawan",
          "Nakhon Sawan",
          "Nakhon Sawan",
          "Nakhon Sawan",
          "Nakhon Sawan",
          "Nakhon Sawan",
          "Nakhon Sawan",
          "Nakhon Sawan",
          "Nakhon Sawan",
          "Nakhon Sawan",
          "Nakhon Sawan",
          "Nakhon Sawan",
          "Nakhon Sawan",
          "Nakhon Sawan",
          "Nakhon Sawan",
          "Nakhon Sawan",
          "Nakhon Sawan",
          "Nakhon Sawan",
          "Nakhon Sawan",
          "Nakhon Sawan",
          "Nakhon Sawan",
          "Nakhon Sawan",
          "Nakhon Sawan",
          "Nakhon Sawan",
          "Nakhon Sawan",
          "Nakhon Sawan",
          "Nakhon Sawan",
          "Nakhon Sawan",
          "Nakhon Sawan",
          "Nakhon Sawan",
          "Nakhon Sawan",
          "Nakhon Sawan",
          "Nakhon Sawan",
          "Nakhon Sawan",
          "Nakhon Sawan",
          "Nakhon Sawan",
          "Nakhon Sawan",
          "Nakhon Sawan",
          "Nakhon Sawan",
          "Nakhon Sawan",
          "Nakhon Sawan",
          "Nakhon Sawan",
          "Nakhon Sawan",
          "Nakhon Sawan",
          "Nakhon Sawan",
          "Nakhon Sawan",
          "Nakhon Sawan"
         ],
         "xaxis": "x",
         "y": [
          2.603734254837036,
          2.19730806350708,
          2.0003914833068848,
          1.5988426208496094,
          2.189814567565918,
          1.5988664627075195,
          30.39946174621582,
          1.5745500326156616,
          2.999656915664673,
          1.8055121898651123,
          2.3993027210235596,
          2.3993027210235596,
          2.19730806350708,
          2.0016705989837646,
          2.0003914833068848,
          0.9998528957366943,
          2.0003914833068848,
          2.3995461463928223,
          2.8001415729522705,
          2.401073455810547,
          2.0016705989837646,
          2.3993027210235596,
          2.0016705989837646,
          1.9998128414154053,
          2.0016705989837646,
          1.5988664627075195,
          2.189814567565918,
          2.0016705989837646,
          2.3993027210235596,
          2.3995461463928223,
          2.0016705989837646,
          1.598639965057373,
          2.0016705989837646,
          2.401073455810547,
          2.7989964485168457,
          4.153530120849609,
          3.399531602859497,
          2.4026975631713867,
          2.999656915664673,
          2.7989964485168457,
          2.000143527984619,
          1.5988426208496094,
          1.5745500326156616,
          2.0003914833068848,
          1.5988664627075195,
          0.40003088116645813,
          1.200520396232605,
          2.000143527984619,
          2.3995461463928223,
          3.20166277885437,
          2.19730806350708,
          2.0003914833068848,
          2.3995461463928223,
          2.8001415729522705,
          1.5988664627075195,
          2.3995461463928223,
          2.19999361038208,
          1.8074772357940674,
          2.6002705097198486,
          2.8001415729522705,
          1.404282569885254,
          0.9998528957366943,
          2.401073455810547,
          2.3993027210235596,
          1.9998128414154053,
          0.600354015827179,
          1.9998128414154053,
          1.2029240131378174,
          2.0003914833068848,
          2.3993027210235596,
          1.200520396232605,
          1.5988664627075195
         ],
         "yaxis": "y"
        },
        {
         "customdata": [
          [
           "Thung Yai Naresuan Huai Kha Khaeng Wildlife Sanctuary"
          ],
          [
           "Tham Hup Pa Tat Cave"
          ],
          [
           "Khao Sam Muk"
          ],
          [
           "Phu Thap Boek"
          ],
          [
           "Songkhla Tae Raek Walking street"
          ],
          [
           "Wat Thap Than"
          ],
          [
           "Khao Ra"
          ],
          [
           "Khao Ra"
          ],
          [
           "Wat Phu Khao Noi"
          ],
          [
           "Wat Phu Khao Noi"
          ],
          [
           "Wat Phu Khao Noi"
          ],
          [
           "The Hindad Hot Spring"
          ],
          [
           "Sakae Krang River"
          ],
          [
           "Khao Kradong Forest Park"
          ],
          [
           "Sea Dragon Dive Center"
          ],
          [
           "Sea Dragon Dive Center"
          ],
          [
           "White Sand Beach"
          ],
          [
           "Railay Walking Street"
          ],
          [
           "Railay Walking Street"
          ],
          [
           "Ao Nang Walking Street"
          ],
          [
           "Phu Ruea National Park"
          ],
          [
           "Phu Ruea National Park"
          ],
          [
           "Phu Ruea National Park"
          ],
          [
           "Tha Ruea Phli Fish Market"
          ],
          [
           "Pha Dok Seaw Waterfall"
          ],
          [
           "Phaeng Waterfall"
          ],
          [
           "Paradise Waterfall"
          ],
          [
           "Paradise Waterfall"
          ],
          [
           "Waterfall Party"
          ],
          [
           "Phu Pha Phet Caves"
          ],
          [
           "Ao Wai"
          ],
          [
           "Ao Wai"
          ],
          [
           "Tang Kuan Hill"
          ],
          [
           "Tang Kuan Hill"
          ],
          [
           "Khao Tang Kuan"
          ],
          [
           "Ko Si Chang Island"
          ],
          [
           "Wat Phra That Chae Haeng"
          ],
          [
           "Wat Phra That Chae Haeng"
          ],
          [
           "Wat Pa Tueng"
          ],
          [
           "Hang Tueng Farm"
          ],
          [
           "Hang Tueng Farmstay And Workshop Chiang Mai"
          ],
          [
           "Rong Je Sai Tee Hook Tueng"
          ],
          [
           "Wat Nong Ao"
          ]
         ],
         "hovertemplate": "place_name=%{x}<br>predicted_score=%{y}<br>location_name=%{customdata[0]}<extra></extra>",
         "legendgroup": "Uthai Thani",
         "marker": {
          "color": "#636efa",
          "symbol": "circle"
         },
         "mode": "markers",
         "name": "Uthai Thani",
         "showlegend": true,
         "type": "scattergl",
         "x": [
          "Uthai Thani",
          "Uthai Thani",
          "Uthai Thani",
          "Uthai Thani",
          "Uthai Thani",
          "Uthai Thani",
          "Uthai Thani",
          "Uthai Thani",
          "Uthai Thani",
          "Uthai Thani",
          "Uthai Thani",
          "Uthai Thani",
          "Uthai Thani",
          "Uthai Thani",
          "Uthai Thani",
          "Uthai Thani",
          "Uthai Thani",
          "Uthai Thani",
          "Uthai Thani",
          "Uthai Thani",
          "Uthai Thani",
          "Uthai Thani",
          "Uthai Thani",
          "Uthai Thani",
          "Uthai Thani",
          "Uthai Thani",
          "Uthai Thani",
          "Uthai Thani",
          "Uthai Thani",
          "Uthai Thani",
          "Uthai Thani",
          "Uthai Thani",
          "Uthai Thani",
          "Uthai Thani",
          "Uthai Thani",
          "Uthai Thani",
          "Uthai Thani",
          "Uthai Thani",
          "Uthai Thani",
          "Uthai Thani",
          "Uthai Thani",
          "Uthai Thani",
          "Uthai Thani"
         ],
         "xaxis": "x",
         "y": [
          2.401073455810547,
          2.6021745204925537,
          1.404282569885254,
          2.6021745204925537,
          2.0003914833068848,
          1.200520396232605,
          2.0016705989837646,
          2.8001415729522705,
          2.7968897819519043,
          2.3995461463928223,
          2.3993027210235596,
          2.0016705989837646,
          2.3995461463928223,
          2.3993027210235596,
          2.999656915664673,
          2.999656915664673,
          2.0003914833068848,
          2.0016705989837646,
          2.3993027210235596,
          2.3993027210235596,
          2.3993027210235596,
          1.200520396232605,
          2.7989964485168457,
          2.8001415729522705,
          2.0003914833068848,
          1.9998128414154053,
          1.6001347303390503,
          1.200520396232605,
          0.40003088116645813,
          1.200520396232605,
          2.8001415729522705,
          2.0003914833068848,
          2.0016705989837646,
          2.3993027210235596,
          2.603734254837036,
          2.189814567565918,
          2.8001415729522705,
          2.0003914833068848,
          2.9989538192749023,
          2.3995461463928223,
          2.8001415729522705,
          2.0003914833068848,
          2.19730806350708
         ],
         "yaxis": "y"
        },
        {
         "customdata": [
          [
           "Pom Phet (Phet Fortress)"
          ],
          [
           "Salawin National Park"
          ],
          [
           "Mae Ping National Park"
          ],
          [
           "Mae Ping National Park"
          ],
          [
           "Huai Nam Dang National Park"
          ],
          [
           "Phra Ruang Hot Springs"
          ],
          [
           "The Kamphang Phet National Museum"
          ],
          [
           "Amulet Market"
          ],
          [
           "Buddhist Votive Tablets Learning Center"
          ],
          [
           "Hill Tribe Museum"
          ],
          [
           "Khlong Muang Beach"
          ]
         ],
         "hovertemplate": "place_name=%{x}<br>predicted_score=%{y}<br>location_name=%{customdata[0]}<extra></extra>",
         "legendgroup": "Kamphaeng Phet",
         "marker": {
          "color": "#EF553B",
          "symbol": "circle"
         },
         "mode": "markers",
         "name": "Kamphaeng Phet",
         "showlegend": true,
         "type": "scattergl",
         "x": [
          "Kamphaeng Phet",
          "Kamphaeng Phet",
          "Kamphaeng Phet",
          "Kamphaeng Phet",
          "Kamphaeng Phet",
          "Kamphaeng Phet",
          "Kamphaeng Phet",
          "Kamphaeng Phet",
          "Kamphaeng Phet",
          "Kamphaeng Phet",
          "Kamphaeng Phet"
         ],
         "xaxis": "x",
         "y": [
          1.6001347303390503,
          2.7989964485168457,
          2.78712797164917,
          2.7968897819519043,
          3.6014130115509033,
          2.4026975631713867,
          2.19730806350708,
          3.0309717655181885,
          2.401073455810547,
          6.198894500732422,
          2.3995461463928223
         ],
         "yaxis": "y"
        },
        {
         "customdata": [
          [
           "Ramkhamhaeng National Museum"
          ],
          [
           "Ramkhamhaeng National Park"
          ],
          [
           "Wat Phan On Temple"
          ],
          [
           "Wat Phan On Temple"
          ],
          [
           "National Park Srisatchanalai"
          ],
          [
           "National Park Srisatchanalai"
          ],
          [
           "Sukhothai Night Food Market"
          ],
          [
           "Sukhothai Loi Krathong and Candle Festival"
          ],
          [
           "Boon Lott's Elephant Sanctuary"
          ],
          [
           "The Sukhothai Spa"
          ],
          [
           "Wat Sa Si"
          ],
          [
           "Pha Daeng National Park"
          ],
          [
           "Suan Ta San"
          ],
          [
           "Wat Phra Pai Luang"
          ],
          [
           "Wat Bo Thong Lang"
          ],
          [
           "Wat Bo Thong Lang"
          ],
          [
           "Thong Lang Beach"
          ],
          [
           "Wat Phra That Chom Kitti"
          ],
          [
           "Wat Phra Tat Chom Ping"
          ],
          [
           "Wat Phaya Wat"
          ],
          [
           "Wat Phaya Wat"
          ],
          [
           "Wat Phaya Wat"
          ],
          [
           "Sai Khao Waterfall"
          ],
          [
           "Huai Sai Wildlife Breeding Center"
          ],
          [
           "Huai Sai Wildlife Breeding Center"
          ],
          [
           "Suwan Khiri Wong Temple(Patong Temple)"
          ],
          [
           "Suwan Khiri Wong Temple(Patong Temple)"
          ],
          [
           "Phimai Historical Park"
          ],
          [
           "Huay Mongkol Temple"
          ],
          [
           "Wat Thung Yu Temple"
          ],
          [
           "Wat Thung Yu Temple"
          ],
          [
           "Sathorn Pier"
          ],
          [
           "Organic Agriculture Project"
          ],
          [
           "Mae Ya Waterfall"
          ]
         ],
         "hovertemplate": "place_name=%{x}<br>predicted_score=%{y}<br>location_name=%{customdata[0]}<extra></extra>",
         "legendgroup": "Sukhothai",
         "marker": {
          "color": "#00cc96",
          "symbol": "circle"
         },
         "mode": "markers",
         "name": "Sukhothai",
         "showlegend": true,
         "type": "scattergl",
         "x": [
          "Sukhothai",
          "Sukhothai",
          "Sukhothai",
          "Sukhothai",
          "Sukhothai",
          "Sukhothai",
          "Sukhothai",
          "Sukhothai",
          "Sukhothai",
          "Sukhothai",
          "Sukhothai",
          "Sukhothai",
          "Sukhothai",
          "Sukhothai",
          "Sukhothai",
          "Sukhothai",
          "Sukhothai",
          "Sukhothai",
          "Sukhothai",
          "Sukhothai",
          "Sukhothai",
          "Sukhothai",
          "Sukhothai",
          "Sukhothai",
          "Sukhothai",
          "Sukhothai",
          "Sukhothai",
          "Sukhothai",
          "Sukhothai",
          "Sukhothai",
          "Sukhothai",
          "Sukhothai",
          "Sukhothai",
          "Sukhothai"
         ],
         "xaxis": "x",
         "y": [
          0.600354015827179,
          2.7989964485168457,
          2.8001415729522705,
          3.6283936500549316,
          1.5988664627075195,
          2.0003914833068848,
          2.3995461463928223,
          2.603734254837036,
          2.19730806350708,
          2.603734254837036,
          2.999656915664673,
          2.999656915664673,
          2.3993027210235596,
          2.0003914833068848,
          1.5988664627075195,
          1.6001347303390503,
          2.19730806350708,
          2.8001415729522705,
          2.3995461463928223,
          2.8001415729522705,
          2.3995461463928223,
          2.3993027210235596,
          2.19730806350708,
          1.200520396232605,
          2.603734254837036,
          1.6001347303390503,
          1.5988664627075195,
          1.5988664627075195,
          1.200520396232605,
          2.8001415729522705,
          2.3995461463928223,
          1.5988664627075195,
          1.9998128414154053,
          2.401073455810547
         ],
         "yaxis": "y"
        },
        {
         "customdata": [
          [
           "Krung Thong Plaza"
          ],
          [
           "Kaeng Krachan Dam"
          ],
          [
           "Kaeng Krachan Dam"
          ],
          [
           "Kaeng Loengchan"
          ],
          [
           "Kaeng Tana National Park"
          ],
          [
           "Kaeng Tana National Park"
          ],
          [
           "Kaeng Khoi Junction Railway Station"
          ],
          [
           "Phu Kradueng National Park"
          ],
          [
           "Phu Kradueng National Park"
          ],
          [
           "Phu Pha Maan National Park"
          ],
          [
           "Phu Hin Rongka National Park"
          ],
          [
           "Phu Wiang National Park"
          ],
          [
           "Namtok Than Thip Forest Park"
          ],
          [
           "Kaeng Krachan National Park"
          ],
          [
           "River Khwae Bridge"
          ],
          [
           "River Khwae Bridge"
          ],
          [
           "Phitsanulok Night Bazaar"
          ],
          [
           "Chan Royal Palace Historical Center"
          ],
          [
           "Sgt. Maj. Thawee Folk Museum"
          ],
          [
           "Bangkok Folk Museum"
          ],
          [
           "Kaeng Song Waterfall"
          ],
          [
           "Phu Langka National Park"
          ],
          [
           "Khao Phra Yod Temple"
          ]
         ],
         "hovertemplate": "place_name=%{x}<br>predicted_score=%{y}<br>location_name=%{customdata[0]}<extra></extra>",
         "legendgroup": "Phitsanulok",
         "marker": {
          "color": "#ab63fa",
          "symbol": "circle"
         },
         "mode": "markers",
         "name": "Phitsanulok",
         "showlegend": true,
         "type": "scattergl",
         "x": [
          "Phitsanulok",
          "Phitsanulok",
          "Phitsanulok",
          "Phitsanulok",
          "Phitsanulok",
          "Phitsanulok",
          "Phitsanulok",
          "Phitsanulok",
          "Phitsanulok",
          "Phitsanulok",
          "Phitsanulok",
          "Phitsanulok",
          "Phitsanulok",
          "Phitsanulok",
          "Phitsanulok",
          "Phitsanulok",
          "Phitsanulok",
          "Phitsanulok",
          "Phitsanulok",
          "Phitsanulok",
          "Phitsanulok",
          "Phitsanulok",
          "Phitsanulok"
         ],
         "xaxis": "x",
         "y": [
          1.3937820196151733,
          2.603734254837036,
          1.200520396232605,
          2.4026975631713867,
          2.0016705989837646,
          1.8074772357940674,
          1.5988664627075195,
          2.401073455810547,
          2.8001415729522705,
          2.0003914833068848,
          1.5988664627075195,
          2.401073455810547,
          0.7996031641960144,
          1.5988426208496094,
          2.19730806350708,
          2.8001415729522705,
          2.0003914833068848,
          2.0016705989837646,
          2.8001415729522705,
          2.3995461463928223,
          2.000143527984619,
          2.3995461463928223,
          2.189814567565918
         ],
         "yaxis": "y"
        },
        {
         "customdata": [
          [
           "Wat Klang Phra Aram Luang"
          ],
          [
           "Rod Fai Night Market 2"
          ],
          [
           "Wachira Benchathat Park (Rot Fai Park)"
          ],
          [
           "Khao Hin Lek Fai Viewpoint"
          ],
          [
           "Kao Khad Views Tower"
          ],
          [
           "The Spa"
          ],
          [
           "Splash Jungle Waterpark"
          ],
          [
           "Chalok Baan Kao Beach"
          ],
          [
           "Chalok Baan Kao Beach"
          ],
          [
           "Turtle Village Shops & Cuisine"
          ],
          [
           "Turtle Village Shops & Cuisine"
          ],
          [
           "Huay Keaw Waterfall"
          ],
          [
           "Huay Mae Khamin Waterfalls"
          ],
          [
           "wat phra Buddha nimitpukao"
          ],
          [
           "Temple of the Reclining Buddha (Wat Lokayasutharam)"
          ],
          [
           "Phahurat Market"
          ]
         ],
         "hovertemplate": "place_name=%{x}<br>predicted_score=%{y}<br>location_name=%{customdata[0]}<extra></extra>",
         "legendgroup": "Phichit",
         "marker": {
          "color": "#FFA15A",
          "symbol": "circle"
         },
         "mode": "markers",
         "name": "Phichit",
         "showlegend": true,
         "type": "scattergl",
         "x": [
          "Phichit",
          "Phichit",
          "Phichit",
          "Phichit",
          "Phichit",
          "Phichit",
          "Phichit",
          "Phichit",
          "Phichit",
          "Phichit",
          "Phichit",
          "Phichit",
          "Phichit",
          "Phichit",
          "Phichit",
          "Phichit"
         ],
         "xaxis": "x",
         "y": [
          2.3995461463928223,
          1.5988664627075195,
          10.999896049499512,
          2.3995461463928223,
          2.0003914833068848,
          2.0003914833068848,
          2.3995461463928223,
          2.6021745204925537,
          2.0016705989837646,
          2.19999361038208,
          2.3995461463928223,
          1.200520396232605,
          2.3995461463928223,
          2.6021745204925537,
          2.19730806350708,
          2.999656915664673
         ],
         "yaxis": "y"
        },
        {
         "customdata": [
          [
           "Chiang Rai Night Bazaar"
          ],
          [
           "Chiang Rai Night Bazaar"
          ],
          [
           "Chiang Rai Night Bazaar"
          ],
          [
           "Chiang Rai Night Bazaar"
          ],
          [
           "Rai Ruen Rom - Organic Farm Chiang Rai, Thailand"
          ],
          [
           "Rai Ruen Rom - Organic Farm Chiang Rai, Thailand"
          ],
          [
           "Clock Tower Chiang Rai"
          ],
          [
           "Elephant Steps Chiang Rai"
          ],
          [
           "Arisara Thai Massage Chiang Rai"
          ],
          [
           "Arisara Thai Massage Chiang Rai"
          ],
          [
           "Suan Lamai"
          ],
          [
           "Suan Son (Phe Arboretum)"
          ],
          [
           "Dinosaur Footprints Park at Tha Uthen"
          ],
          [
           "Wat Pa Non Sa-At"
          ],
          [
           "Wat  Pahuaylad Temple"
          ],
          [
           "Muay Thai Battle Conquer"
          ],
          [
           "Khao Kho Royal Palace"
          ],
          [
           "Khao Kho Wind Farm"
          ],
          [
           "Koh Kho Khao Island"
          ],
          [
           "Koh Kho Khao Island"
          ],
          [
           "Koh Kho Khao Island"
          ],
          [
           "Khao Kho Sacrificial Monument"
          ],
          [
           "Chalermkarnchana University Phetchabun"
          ],
          [
           "Mae Fah Luang Art and Culture Park"
          ],
          [
           "Khao Lak-Lam Ru National Park"
          ],
          [
           "Khao Lak-Lam Ru National Park"
          ],
          [
           "Khao Kho International Library"
          ],
          [
           "Koh Kho Khao Diving"
          ],
          [
           "Ta Nim Magic Garden"
          ],
          [
           "Ta Nim Magic Garden"
          ],
          [
           "The Royal Agricultural Station Angkhang"
          ],
          [
           "The Royal Agricultural Station Angkhang"
          ],
          [
           "Weapon Museum"
          ],
          [
           "Samet Nangshe Viewpoint"
          ],
          [
           "Karon Viewpoint"
          ],
          [
           "Karon Viewpoint"
          ],
          [
           "Lamai Viewpoint"
          ],
          [
           "Lamai Viewpoint"
          ]
         ],
         "hovertemplate": "place_name=%{x}<br>predicted_score=%{y}<br>location_name=%{customdata[0]}<extra></extra>",
         "legendgroup": "Phetchabun",
         "marker": {
          "color": "#19d3f3",
          "symbol": "circle"
         },
         "mode": "markers",
         "name": "Phetchabun",
         "showlegend": true,
         "type": "scattergl",
         "x": [
          "Phetchabun",
          "Phetchabun",
          "Phetchabun",
          "Phetchabun",
          "Phetchabun",
          "Phetchabun",
          "Phetchabun",
          "Phetchabun",
          "Phetchabun",
          "Phetchabun",
          "Phetchabun",
          "Phetchabun",
          "Phetchabun",
          "Phetchabun",
          "Phetchabun",
          "Phetchabun",
          "Phetchabun",
          "Phetchabun",
          "Phetchabun",
          "Phetchabun",
          "Phetchabun",
          "Phetchabun",
          "Phetchabun",
          "Phetchabun",
          "Phetchabun",
          "Phetchabun",
          "Phetchabun",
          "Phetchabun",
          "Phetchabun",
          "Phetchabun",
          "Phetchabun",
          "Phetchabun",
          "Phetchabun",
          "Phetchabun",
          "Phetchabun",
          "Phetchabun",
          "Phetchabun",
          "Phetchabun"
         ],
         "xaxis": "x",
         "y": [
          2.0003914833068848,
          2.3993027210235596,
          2.8001415729522705,
          2.0003914833068848,
          2.0003914833068848,
          2.3995461463928223,
          2.0016705989837646,
          2.0003914833068848,
          0.7996031641960144,
          1.5998839139938354,
          2.7968897819519043,
          2.189814567565918,
          1.8074772357940674,
          2.3993027210235596,
          1.200520396232605,
          2.603734254837036,
          0.9999472498893738,
          2.3995461463928223,
          2.3995461463928223,
          2.603734254837036,
          2.19730806350708,
          2.3993027210235596,
          2.791862726211548,
          1.5988664627075195,
          2.19730806350708,
          2.0003914833068848,
          1.2003188133239746,
          2.8001415729522705,
          2.999656915664673,
          2.189814567565918,
          2.3993027210235596,
          2.3995461463928223,
          2.0016705989837646,
          2.3995461463928223,
          2.0003914833068848,
          2.3993027210235596,
          2.8001415729522705,
          2.0003914833068848
         ],
         "yaxis": "y"
        },
        {
         "customdata": [
          [
           "Ang Sila Old Market 133 Years"
          ],
          [
           "Ang Sila Old Market 133 Years"
          ],
          [
           "Ang Sila Old Market 133 Years"
          ],
          [
           "Bang Phli Floating Market"
          ],
          [
           "Wat  Bang Phli Yai Klang"
          ],
          [
           "Wat Hat Yai Nai"
          ],
          [
           "Wat Hat Yai Nai"
          ],
          [
           "Nai Harn Beach"
          ],
          [
           "Nai Harn Beach"
          ],
          [
           "Wat Bang Nam Phueng Nai"
          ],
          [
           "MEGA HarborLand - Mega Bangna"
          ],
          [
           "Central Plaza Bangna"
          ],
          [
           "Central Plaza Bangna"
          ],
          [
           "HarborLand @HARBOR PATTAYA"
          ],
          [
           "HarborLand @HARBOR PATTAYA"
          ],
          [
           "Phra Samut Chedi"
          ],
          [
           "Pom Phra Chulachomklao"
          ],
          [
           "Phra Mahathat Chedi Phra Phuttha Thamma Prakat"
          ],
          [
           "Phra Mahathat Chedi Phra Phuttha Thamma Prakat"
          ],
          [
           "Phi Suea Samut Fort"
          ],
          [
           "Phra Maha Chedi CHai Mongkol"
          ],
          [
           "Wat Khao Takiap"
          ],
          [
           "Wat Koo Kam"
          ],
          [
           "Wat Tham Khao Tao"
          ],
          [
           "Wat Khao Krailart"
          ],
          [
           "Wat Khao Krailart"
          ],
          [
           "Wat Bussayabanpot"
          ],
          [
           "Bueng Phlan Chai"
          ],
          [
           "Phu Sing Bueng Kan"
          ],
          [
           "Phu Sing Bueng Kan"
          ],
          [
           "Bueng Si Fai"
          ],
          [
           "Bueng Boraphet Aquarium"
          ],
          [
           "Bueng Boraphet Aquarium"
          ],
          [
           "Bueng Boraphet Aquarium"
          ],
          [
           "Bueng Bua Nature Observation Center"
          ],
          [
           "Wat Si Mongkhon (Wat Kong)"
          ],
          [
           "Wat Yai Chai Mongkol"
          ],
          [
           "Wat Phra That Su Thon Mongkhon Khiri"
          ],
          [
           "Wat Phra That Su Thon Mongkhon Khiri"
          ],
          [
           "Khung Kraben Bay Royal Development Study Center"
          ],
          [
           "Bang Saray Beach"
          ],
          [
           "Bang Tao Beach"
          ],
          [
           "Bang Tao Beach"
          ],
          [
           "Bang Saen Beach"
          ],
          [
           "Bang Saen Beach"
          ],
          [
           "Bang Niang Market"
          ],
          [
           "Bang Niang Market"
          ],
          [
           "Bang Niang Market"
          ],
          [
           "Wat Bang Kung"
          ],
          [
           "Bang-Tao Night Market"
          ],
          [
           "Wat Pha Lat"
          ],
          [
           "Wat Chedi"
          ],
          [
           "Wat Phra That Chedi Luang"
          ],
          [
           "Wat Phra That Chedi Luang"
          ],
          [
           "Chedi Wat Sam Pluem"
          ],
          [
           "Wat Pho Bang Khla"
          ],
          [
           "Wat Pak Nam"
          ],
          [
           "Wat Sa Long Ruea Temple"
          ],
          [
           "Tiger Cave Temple (Wat Tham Suea)"
          ],
          [
           "The only morning trip phi phi"
          ],
          [
           "Koh Phi Phi Viewpoint"
          ],
          [
           "Phi Phi Island Boat Tours"
          ],
          [
           "Phi Phi Island Boat Tours"
          ],
          [
           "Phi Phi Cruiser"
          ],
          [
           "Phi Phi Cruiser"
          ],
          [
           "Koh Phi Phi Tour"
          ],
          [
           "KUDO Beach Club"
          ],
          [
           "KUDO Beach Club"
          ],
          [
           "Sugar Club Phuket"
          ],
          [
           "Sugar Club Phuket"
          ],
          [
           "Sugar Club"
          ],
          [
           "Sugar Club"
          ],
          [
           "Club Onyx"
          ],
          [
           "Sub Zero Ice Skate Club"
          ],
          [
           "Sub Zero Ice Skate Club"
          ],
          [
           "Sub Phuket Taxi And Tour"
          ],
          [
           "Sub Phuket Taxi And Tour"
          ],
          [
           "Levels Club & Lounge"
          ],
          [
           "The Club At Koi"
          ],
          [
           "Bangpu Recreation Center"
          ],
          [
           "Bangpu Recreation Center"
          ],
          [
           "Soi Dog Foundation"
          ],
          [
           "Soi Dog Foundation"
          ],
          [
           "Ancient City (Mueang Boran)"
          ],
          [
           "Muangboran (Ancient City)"
          ],
          [
           "Erawan Cave"
          ],
          [
           "Chaloem Phra Kiat Public Park"
          ],
          [
           "Chaloem Phra Kiat Public Park"
          ],
          [
           "Nong Han Chaloem Phra Kiat Park"
          ],
          [
           "Nong Han Chaloem Phra Kiat Park"
          ],
          [
           "Phanom Rung Historical Park (Prasat Hin Phanom Rung)"
          ],
          [
           "Phanom Rung Historical Park (Prasat Hin Phanom Rung)"
          ],
          [
           "Wat Chaiyo Worawihan (Wat Ket Chaiyo)"
          ],
          [
           "Wat Ket Karam Museum"
          ],
          [
           "Wat Pa Pradu"
          ],
          [
           "Wat Pa Lak Roi"
          ],
          [
           "Wat Pa Lak Roi"
          ],
          [
           "Wat Pa Lak Roi"
          ],
          [
           "Royal Thai Air Force Museum"
          ],
          [
           "Wat Huay Pla Kang"
          ],
          [
           "Wat Huay Pla Kang"
          ],
          [
           "Wat Huay Pla Kang"
          ],
          [
           "Thai Labour Museum"
          ],
          [
           "Thai Labour Museum"
          ],
          [
           "The Source Herbal Detox Retreat"
          ],
          [
           "Herbal Steam House"
          ],
          [
           "Wat Intharam"
          ],
          [
           "Khuean Srinagarindra National Park"
          ]
         ],
         "hovertemplate": "place_name=%{x}<br>predicted_score=%{y}<br>location_name=%{customdata[0]}<extra></extra>",
         "legendgroup": "Samut Prakan",
         "marker": {
          "color": "#FF6692",
          "symbol": "circle"
         },
         "mode": "markers",
         "name": "Samut Prakan",
         "showlegend": true,
         "type": "scattergl",
         "x": [
          "Samut Prakan",
          "Samut Prakan",
          "Samut Prakan",
          "Samut Prakan",
          "Samut Prakan",
          "Samut Prakan",
          "Samut Prakan",
          "Samut Prakan",
          "Samut Prakan",
          "Samut Prakan",
          "Samut Prakan",
          "Samut Prakan",
          "Samut Prakan",
          "Samut Prakan",
          "Samut Prakan",
          "Samut Prakan",
          "Samut Prakan",
          "Samut Prakan",
          "Samut Prakan",
          "Samut Prakan",
          "Samut Prakan",
          "Samut Prakan",
          "Samut Prakan",
          "Samut Prakan",
          "Samut Prakan",
          "Samut Prakan",
          "Samut Prakan",
          "Samut Prakan",
          "Samut Prakan",
          "Samut Prakan",
          "Samut Prakan",
          "Samut Prakan",
          "Samut Prakan",
          "Samut Prakan",
          "Samut Prakan",
          "Samut Prakan",
          "Samut Prakan",
          "Samut Prakan",
          "Samut Prakan",
          "Samut Prakan",
          "Samut Prakan",
          "Samut Prakan",
          "Samut Prakan",
          "Samut Prakan",
          "Samut Prakan",
          "Samut Prakan",
          "Samut Prakan",
          "Samut Prakan",
          "Samut Prakan",
          "Samut Prakan",
          "Samut Prakan",
          "Samut Prakan",
          "Samut Prakan",
          "Samut Prakan",
          "Samut Prakan",
          "Samut Prakan",
          "Samut Prakan",
          "Samut Prakan",
          "Samut Prakan",
          "Samut Prakan",
          "Samut Prakan",
          "Samut Prakan",
          "Samut Prakan",
          "Samut Prakan",
          "Samut Prakan",
          "Samut Prakan",
          "Samut Prakan",
          "Samut Prakan",
          "Samut Prakan",
          "Samut Prakan",
          "Samut Prakan",
          "Samut Prakan",
          "Samut Prakan",
          "Samut Prakan",
          "Samut Prakan",
          "Samut Prakan",
          "Samut Prakan",
          "Samut Prakan",
          "Samut Prakan",
          "Samut Prakan",
          "Samut Prakan",
          "Samut Prakan",
          "Samut Prakan",
          "Samut Prakan",
          "Samut Prakan",
          "Samut Prakan",
          "Samut Prakan",
          "Samut Prakan",
          "Samut Prakan",
          "Samut Prakan",
          "Samut Prakan",
          "Samut Prakan",
          "Samut Prakan",
          "Samut Prakan",
          "Samut Prakan",
          "Samut Prakan",
          "Samut Prakan",
          "Samut Prakan",
          "Samut Prakan",
          "Samut Prakan",
          "Samut Prakan",
          "Samut Prakan",
          "Samut Prakan",
          "Samut Prakan",
          "Samut Prakan",
          "Samut Prakan",
          "Samut Prakan",
          "Samut Prakan"
         ],
         "xaxis": "x",
         "y": [
          2.0016705989837646,
          1.5988664627075195,
          1.5988664627075195,
          1.8074772357940674,
          1.200520396232605,
          2.0003914833068848,
          2.0003914833068848,
          2.3995461463928223,
          2.3995461463928223,
          2.0003914833068848,
          2.3993027210235596,
          2.3995461463928223,
          2.189814567565918,
          0.7996031641960144,
          2.8001415729522705,
          2.3993027210235596,
          2.3995461463928223,
          2.3995461463928223,
          4.599705696105957,
          2.8001415729522705,
          2.0003914833068848,
          2.000143527984619,
          2.0003914833068848,
          2.401073455810547,
          2.4026975631713867,
          0.7987762689590454,
          2.999656915664673,
          2.4026975631713867,
          7.4009013175964355,
          2.6002705097198486,
          1.5988426208496094,
          2.0003914833068848,
          1.5988664627075195,
          2.0016705989837646,
          2.603734254837036,
          2.3995461463928223,
          2.8001415729522705,
          2.3995461463928223,
          2.0016705989837646,
          2.19730806350708,
          2.3993027210235596,
          1.5988664627075195,
          1.5988664627075195,
          2.3993027210235596,
          0.600354015827179,
          2.3995461463928223,
          1.5988664627075195,
          1.8074772357940674,
          1.5988664627075195,
          2.0003914833068848,
          2.0003914833068848,
          2.3995461463928223,
          2.0016705989837646,
          2.0016705989837646,
          2.0016705989837646,
          2.4026975631713867,
          2.3995461463928223,
          1.5988664627075195,
          2.3995461463928223,
          2.3993027210235596,
          2.8001415729522705,
          2.0003914833068848,
          2.3993027210235596,
          2.0003914833068848,
          2.8001415729522705,
          3.399531602859497,
          2.8001415729522705,
          2.0003914833068848,
          2.3995461463928223,
          2.7968897819519043,
          2.3995461463928223,
          1.400386929512024,
          1.2003188133239746,
          2.456019163131714,
          2.0016705989837646,
          2.0003914833068848,
          2.3995461463928223,
          1.400386929512024,
          2.000929594039917,
          2.3993027210235596,
          1.200520396232605,
          2.8001415729522705,
          2.3995461463928223,
          2.3995461463928223,
          4.401774883270264,
          2.3995461463928223,
          2.000143527984619,
          1.5988664627075195,
          2.189814567565918,
          2.603734254837036,
          2.0003914833068848,
          2.0003914833068848,
          2.3993027210235596,
          1.9998128414154053,
          2.401073455810547,
          2.999290704727173,
          1.5988664627075195,
          3.20166277885437,
          2.8001415729522705,
          1.5988664627075195,
          2.8001415729522705,
          2.3993027210235596,
          2.9989538192749023,
          2.0016705989837646,
          2.3995461463928223,
          1.200520396232605,
          1.201285719871521,
          2.189814567565918
         ],
         "yaxis": "y"
        }
       ],
       "layout": {
        "legend": {
         "title": {
          "text": "place_name"
         },
         "tracegroupgap": 0
        },
        "template": {
         "data": {
          "bar": [
           {
            "error_x": {
             "color": "#2a3f5f"
            },
            "error_y": {
             "color": "#2a3f5f"
            },
            "marker": {
             "line": {
              "color": "#E5ECF6",
              "width": 0.5
             },
             "pattern": {
              "fillmode": "overlay",
              "size": 10,
              "solidity": 0.2
             }
            },
            "type": "bar"
           }
          ],
          "barpolar": [
           {
            "marker": {
             "line": {
              "color": "#E5ECF6",
              "width": 0.5
             },
             "pattern": {
              "fillmode": "overlay",
              "size": 10,
              "solidity": 0.2
             }
            },
            "type": "barpolar"
           }
          ],
          "carpet": [
           {
            "aaxis": {
             "endlinecolor": "#2a3f5f",
             "gridcolor": "white",
             "linecolor": "white",
             "minorgridcolor": "white",
             "startlinecolor": "#2a3f5f"
            },
            "baxis": {
             "endlinecolor": "#2a3f5f",
             "gridcolor": "white",
             "linecolor": "white",
             "minorgridcolor": "white",
             "startlinecolor": "#2a3f5f"
            },
            "type": "carpet"
           }
          ],
          "choropleth": [
           {
            "colorbar": {
             "outlinewidth": 0,
             "ticks": ""
            },
            "type": "choropleth"
           }
          ],
          "contour": [
           {
            "colorbar": {
             "outlinewidth": 0,
             "ticks": ""
            },
            "colorscale": [
             [
              0,
              "#0d0887"
             ],
             [
              0.1111111111111111,
              "#46039f"
             ],
             [
              0.2222222222222222,
              "#7201a8"
             ],
             [
              0.3333333333333333,
              "#9c179e"
             ],
             [
              0.4444444444444444,
              "#bd3786"
             ],
             [
              0.5555555555555556,
              "#d8576b"
             ],
             [
              0.6666666666666666,
              "#ed7953"
             ],
             [
              0.7777777777777778,
              "#fb9f3a"
             ],
             [
              0.8888888888888888,
              "#fdca26"
             ],
             [
              1,
              "#f0f921"
             ]
            ],
            "type": "contour"
           }
          ],
          "contourcarpet": [
           {
            "colorbar": {
             "outlinewidth": 0,
             "ticks": ""
            },
            "type": "contourcarpet"
           }
          ],
          "heatmap": [
           {
            "colorbar": {
             "outlinewidth": 0,
             "ticks": ""
            },
            "colorscale": [
             [
              0,
              "#0d0887"
             ],
             [
              0.1111111111111111,
              "#46039f"
             ],
             [
              0.2222222222222222,
              "#7201a8"
             ],
             [
              0.3333333333333333,
              "#9c179e"
             ],
             [
              0.4444444444444444,
              "#bd3786"
             ],
             [
              0.5555555555555556,
              "#d8576b"
             ],
             [
              0.6666666666666666,
              "#ed7953"
             ],
             [
              0.7777777777777778,
              "#fb9f3a"
             ],
             [
              0.8888888888888888,
              "#fdca26"
             ],
             [
              1,
              "#f0f921"
             ]
            ],
            "type": "heatmap"
           }
          ],
          "heatmapgl": [
           {
            "colorbar": {
             "outlinewidth": 0,
             "ticks": ""
            },
            "colorscale": [
             [
              0,
              "#0d0887"
             ],
             [
              0.1111111111111111,
              "#46039f"
             ],
             [
              0.2222222222222222,
              "#7201a8"
             ],
             [
              0.3333333333333333,
              "#9c179e"
             ],
             [
              0.4444444444444444,
              "#bd3786"
             ],
             [
              0.5555555555555556,
              "#d8576b"
             ],
             [
              0.6666666666666666,
              "#ed7953"
             ],
             [
              0.7777777777777778,
              "#fb9f3a"
             ],
             [
              0.8888888888888888,
              "#fdca26"
             ],
             [
              1,
              "#f0f921"
             ]
            ],
            "type": "heatmapgl"
           }
          ],
          "histogram": [
           {
            "marker": {
             "pattern": {
              "fillmode": "overlay",
              "size": 10,
              "solidity": 0.2
             }
            },
            "type": "histogram"
           }
          ],
          "histogram2d": [
           {
            "colorbar": {
             "outlinewidth": 0,
             "ticks": ""
            },
            "colorscale": [
             [
              0,
              "#0d0887"
             ],
             [
              0.1111111111111111,
              "#46039f"
             ],
             [
              0.2222222222222222,
              "#7201a8"
             ],
             [
              0.3333333333333333,
              "#9c179e"
             ],
             [
              0.4444444444444444,
              "#bd3786"
             ],
             [
              0.5555555555555556,
              "#d8576b"
             ],
             [
              0.6666666666666666,
              "#ed7953"
             ],
             [
              0.7777777777777778,
              "#fb9f3a"
             ],
             [
              0.8888888888888888,
              "#fdca26"
             ],
             [
              1,
              "#f0f921"
             ]
            ],
            "type": "histogram2d"
           }
          ],
          "histogram2dcontour": [
           {
            "colorbar": {
             "outlinewidth": 0,
             "ticks": ""
            },
            "colorscale": [
             [
              0,
              "#0d0887"
             ],
             [
              0.1111111111111111,
              "#46039f"
             ],
             [
              0.2222222222222222,
              "#7201a8"
             ],
             [
              0.3333333333333333,
              "#9c179e"
             ],
             [
              0.4444444444444444,
              "#bd3786"
             ],
             [
              0.5555555555555556,
              "#d8576b"
             ],
             [
              0.6666666666666666,
              "#ed7953"
             ],
             [
              0.7777777777777778,
              "#fb9f3a"
             ],
             [
              0.8888888888888888,
              "#fdca26"
             ],
             [
              1,
              "#f0f921"
             ]
            ],
            "type": "histogram2dcontour"
           }
          ],
          "mesh3d": [
           {
            "colorbar": {
             "outlinewidth": 0,
             "ticks": ""
            },
            "type": "mesh3d"
           }
          ],
          "parcoords": [
           {
            "line": {
             "colorbar": {
              "outlinewidth": 0,
              "ticks": ""
             }
            },
            "type": "parcoords"
           }
          ],
          "pie": [
           {
            "automargin": true,
            "type": "pie"
           }
          ],
          "scatter": [
           {
            "fillpattern": {
             "fillmode": "overlay",
             "size": 10,
             "solidity": 0.2
            },
            "type": "scatter"
           }
          ],
          "scatter3d": [
           {
            "line": {
             "colorbar": {
              "outlinewidth": 0,
              "ticks": ""
             }
            },
            "marker": {
             "colorbar": {
              "outlinewidth": 0,
              "ticks": ""
             }
            },
            "type": "scatter3d"
           }
          ],
          "scattercarpet": [
           {
            "marker": {
             "colorbar": {
              "outlinewidth": 0,
              "ticks": ""
             }
            },
            "type": "scattercarpet"
           }
          ],
          "scattergeo": [
           {
            "marker": {
             "colorbar": {
              "outlinewidth": 0,
              "ticks": ""
             }
            },
            "type": "scattergeo"
           }
          ],
          "scattergl": [
           {
            "marker": {
             "colorbar": {
              "outlinewidth": 0,
              "ticks": ""
             }
            },
            "type": "scattergl"
           }
          ],
          "scattermapbox": [
           {
            "marker": {
             "colorbar": {
              "outlinewidth": 0,
              "ticks": ""
             }
            },
            "type": "scattermapbox"
           }
          ],
          "scatterpolar": [
           {
            "marker": {
             "colorbar": {
              "outlinewidth": 0,
              "ticks": ""
             }
            },
            "type": "scatterpolar"
           }
          ],
          "scatterpolargl": [
           {
            "marker": {
             "colorbar": {
              "outlinewidth": 0,
              "ticks": ""
             }
            },
            "type": "scatterpolargl"
           }
          ],
          "scatterternary": [
           {
            "marker": {
             "colorbar": {
              "outlinewidth": 0,
              "ticks": ""
             }
            },
            "type": "scatterternary"
           }
          ],
          "surface": [
           {
            "colorbar": {
             "outlinewidth": 0,
             "ticks": ""
            },
            "colorscale": [
             [
              0,
              "#0d0887"
             ],
             [
              0.1111111111111111,
              "#46039f"
             ],
             [
              0.2222222222222222,
              "#7201a8"
             ],
             [
              0.3333333333333333,
              "#9c179e"
             ],
             [
              0.4444444444444444,
              "#bd3786"
             ],
             [
              0.5555555555555556,
              "#d8576b"
             ],
             [
              0.6666666666666666,
              "#ed7953"
             ],
             [
              0.7777777777777778,
              "#fb9f3a"
             ],
             [
              0.8888888888888888,
              "#fdca26"
             ],
             [
              1,
              "#f0f921"
             ]
            ],
            "type": "surface"
           }
          ],
          "table": [
           {
            "cells": {
             "fill": {
              "color": "#EBF0F8"
             },
             "line": {
              "color": "white"
             }
            },
            "header": {
             "fill": {
              "color": "#C8D4E3"
             },
             "line": {
              "color": "white"
             }
            },
            "type": "table"
           }
          ]
         },
         "layout": {
          "annotationdefaults": {
           "arrowcolor": "#2a3f5f",
           "arrowhead": 0,
           "arrowwidth": 1
          },
          "autotypenumbers": "strict",
          "coloraxis": {
           "colorbar": {
            "outlinewidth": 0,
            "ticks": ""
           }
          },
          "colorscale": {
           "diverging": [
            [
             0,
             "#8e0152"
            ],
            [
             0.1,
             "#c51b7d"
            ],
            [
             0.2,
             "#de77ae"
            ],
            [
             0.3,
             "#f1b6da"
            ],
            [
             0.4,
             "#fde0ef"
            ],
            [
             0.5,
             "#f7f7f7"
            ],
            [
             0.6,
             "#e6f5d0"
            ],
            [
             0.7,
             "#b8e186"
            ],
            [
             0.8,
             "#7fbc41"
            ],
            [
             0.9,
             "#4d9221"
            ],
            [
             1,
             "#276419"
            ]
           ],
           "sequential": [
            [
             0,
             "#0d0887"
            ],
            [
             0.1111111111111111,
             "#46039f"
            ],
            [
             0.2222222222222222,
             "#7201a8"
            ],
            [
             0.3333333333333333,
             "#9c179e"
            ],
            [
             0.4444444444444444,
             "#bd3786"
            ],
            [
             0.5555555555555556,
             "#d8576b"
            ],
            [
             0.6666666666666666,
             "#ed7953"
            ],
            [
             0.7777777777777778,
             "#fb9f3a"
            ],
            [
             0.8888888888888888,
             "#fdca26"
            ],
            [
             1,
             "#f0f921"
            ]
           ],
           "sequentialminus": [
            [
             0,
             "#0d0887"
            ],
            [
             0.1111111111111111,
             "#46039f"
            ],
            [
             0.2222222222222222,
             "#7201a8"
            ],
            [
             0.3333333333333333,
             "#9c179e"
            ],
            [
             0.4444444444444444,
             "#bd3786"
            ],
            [
             0.5555555555555556,
             "#d8576b"
            ],
            [
             0.6666666666666666,
             "#ed7953"
            ],
            [
             0.7777777777777778,
             "#fb9f3a"
            ],
            [
             0.8888888888888888,
             "#fdca26"
            ],
            [
             1,
             "#f0f921"
            ]
           ]
          },
          "colorway": [
           "#636efa",
           "#EF553B",
           "#00cc96",
           "#ab63fa",
           "#FFA15A",
           "#19d3f3",
           "#FF6692",
           "#B6E880",
           "#FF97FF",
           "#FECB52"
          ],
          "font": {
           "color": "#2a3f5f"
          },
          "geo": {
           "bgcolor": "white",
           "lakecolor": "white",
           "landcolor": "#E5ECF6",
           "showlakes": true,
           "showland": true,
           "subunitcolor": "white"
          },
          "hoverlabel": {
           "align": "left"
          },
          "hovermode": "closest",
          "mapbox": {
           "style": "light"
          },
          "paper_bgcolor": "white",
          "plot_bgcolor": "#E5ECF6",
          "polar": {
           "angularaxis": {
            "gridcolor": "white",
            "linecolor": "white",
            "ticks": ""
           },
           "bgcolor": "#E5ECF6",
           "radialaxis": {
            "gridcolor": "white",
            "linecolor": "white",
            "ticks": ""
           }
          },
          "scene": {
           "xaxis": {
            "backgroundcolor": "#E5ECF6",
            "gridcolor": "white",
            "gridwidth": 2,
            "linecolor": "white",
            "showbackground": true,
            "ticks": "",
            "zerolinecolor": "white"
           },
           "yaxis": {
            "backgroundcolor": "#E5ECF6",
            "gridcolor": "white",
            "gridwidth": 2,
            "linecolor": "white",
            "showbackground": true,
            "ticks": "",
            "zerolinecolor": "white"
           },
           "zaxis": {
            "backgroundcolor": "#E5ECF6",
            "gridcolor": "white",
            "gridwidth": 2,
            "linecolor": "white",
            "showbackground": true,
            "ticks": "",
            "zerolinecolor": "white"
           }
          },
          "shapedefaults": {
           "line": {
            "color": "#2a3f5f"
           }
          },
          "ternary": {
           "aaxis": {
            "gridcolor": "white",
            "linecolor": "white",
            "ticks": ""
           },
           "baxis": {
            "gridcolor": "white",
            "linecolor": "white",
            "ticks": ""
           },
           "bgcolor": "#E5ECF6",
           "caxis": {
            "gridcolor": "white",
            "linecolor": "white",
            "ticks": ""
           }
          },
          "title": {
           "x": 0.05
          },
          "xaxis": {
           "automargin": true,
           "gridcolor": "white",
           "linecolor": "white",
           "ticks": "",
           "title": {
            "standoff": 15
           },
           "zerolinecolor": "white",
           "zerolinewidth": 2
          },
          "yaxis": {
           "automargin": true,
           "gridcolor": "white",
           "linecolor": "white",
           "ticks": "",
           "title": {
            "standoff": 15
           },
           "zerolinecolor": "white",
           "zerolinewidth": 2
          }
         }
        },
        "title": {
         "text": "Scatter Plot of Predicted Scores by Place Name"
        },
        "xaxis": {
         "anchor": "y",
         "categoryarray": [
          "Bangkok",
          "Nonthaburi",
          "Pathum Thani",
          "Phra Nakhon Si Ayutthaya",
          "Ang Thong",
          "Sing Buri",
          "Chai Nat",
          "Saraburi",
          "Nakhon Nayok",
          "Nakhon Sawan",
          "Uthai Thani",
          "Kamphaeng Phet",
          "Sukhothai",
          "Phitsanulok",
          "Phichit",
          "Phetchabun",
          "Samut Prakan"
         ],
         "categoryorder": "array",
         "domain": [
          0,
          1
         ],
         "title": {
          "text": "place_name"
         }
        },
        "yaxis": {
         "anchor": "x",
         "domain": [
          0,
          1
         ],
         "title": {
          "text": "predicted_score"
         }
        }
       }
      }
     },
     "metadata": {},
     "output_type": "display_data"
    }
   ],
   "source": [
    "# Create scatter plot using Plotly\n",
    "fig = px.scatter(\n",
    "    review_sentiment_df, \n",
    "    x='place_name', \n",
    "    y='predicted_score', \n",
    "    color='place_name',  # Optional: to color points by place_name\n",
    "    hover_data=['location_name'],  # Display location_name when hovering\n",
    "    title=\"Scatter Plot of Predicted Scores by Place Name\"\n",
    ")\n",
    "\n",
    "# Show the plot\n",
    "fig.show()"
   ]
  },
  {
   "cell_type": "code",
   "execution_count": 51,
   "metadata": {},
   "outputs": [
    {
     "data": {
      "application/vnd.plotly.v1+json": {
       "config": {
        "plotlyServerURL": "https://plot.ly"
       },
       "data": [
        {
         "hovertemplate": "Rating=%{x}<br>Predicted Score=%{y}<extra></extra>",
         "legendgroup": "",
         "marker": {
          "color": "#636efa",
          "symbol": "circle"
         },
         "mode": "markers",
         "name": "",
         "showlegend": false,
         "type": "scattergl",
         "x": [
          5,
          5,
          5,
          4,
          5,
          3,
          4,
          5,
          4,
          5,
          5,
          5,
          5,
          4,
          2,
          3,
          5,
          4,
          5,
          4,
          5,
          5,
          3,
          5,
          5,
          5,
          4,
          4,
          4,
          3,
          5,
          4,
          5,
          4,
          5,
          4,
          4,
          4,
          4,
          5,
          5,
          5,
          5,
          5,
          4,
          3,
          3,
          4,
          4,
          5,
          5,
          4,
          5,
          4,
          4,
          3,
          5,
          4,
          4,
          5,
          5,
          4,
          5,
          3,
          5,
          5,
          5,
          2,
          5,
          4,
          5,
          5,
          5,
          5,
          3,
          4,
          5,
          5,
          5,
          4,
          5,
          5,
          4,
          3,
          4,
          5,
          5,
          5,
          5,
          4,
          5,
          4,
          5,
          5,
          3,
          5,
          3,
          5,
          5,
          4,
          4,
          5,
          5,
          5,
          5,
          5,
          5,
          4,
          3,
          4,
          5,
          3,
          4,
          3,
          3,
          5,
          5,
          5,
          4,
          5,
          4,
          5,
          4,
          5,
          5,
          4,
          5,
          4,
          1,
          5,
          5,
          1,
          1,
          3,
          5,
          4,
          5,
          5,
          5,
          3,
          3,
          5,
          3,
          5,
          5,
          4,
          4,
          4,
          2,
          5,
          5,
          4,
          4,
          4,
          3,
          3,
          5,
          5,
          5,
          5,
          4,
          4,
          5,
          4,
          4,
          5,
          5,
          4,
          4,
          5,
          5,
          4,
          5,
          5,
          5,
          5,
          4,
          5,
          3,
          4,
          3,
          5,
          5,
          5,
          5,
          5,
          5,
          5,
          4,
          4,
          4,
          4,
          5,
          5,
          5,
          4,
          4,
          1,
          5,
          4,
          5,
          5,
          4,
          4,
          5,
          5,
          4,
          4,
          5,
          5,
          5,
          5,
          5,
          4,
          5,
          4,
          4,
          4,
          4,
          5,
          4,
          4,
          4,
          5,
          4,
          5,
          5,
          3,
          5,
          4,
          4,
          5,
          4,
          4,
          4,
          4,
          1,
          3,
          5,
          4,
          5,
          5,
          3,
          4,
          5,
          5,
          5,
          4,
          5,
          5,
          5,
          5,
          5,
          4,
          5,
          5,
          4,
          5,
          5,
          5,
          5,
          3,
          5,
          5,
          4,
          4,
          4,
          3,
          3,
          5,
          5,
          4,
          3,
          4,
          4,
          5,
          1,
          4,
          5,
          4,
          5,
          5,
          3,
          2,
          5,
          4,
          5,
          3,
          4,
          5,
          5,
          5,
          5,
          5,
          5,
          4,
          3,
          5,
          5,
          5,
          5,
          5,
          5,
          5,
          3,
          5,
          4,
          4,
          3,
          5,
          5,
          5,
          5,
          4,
          3,
          4,
          5,
          3,
          4,
          3,
          5,
          4,
          4,
          4,
          2,
          4,
          5,
          4,
          3,
          5,
          5,
          5,
          5,
          5,
          5,
          5,
          5,
          4,
          5,
          5,
          5,
          4,
          4,
          5,
          4,
          5,
          4,
          1,
          4,
          5,
          3,
          5,
          5,
          5,
          4,
          4,
          5,
          4,
          2,
          5,
          5,
          4,
          4,
          4,
          5,
          5,
          4,
          5,
          5,
          5,
          5,
          4,
          4,
          4,
          4,
          4,
          3,
          4,
          3,
          3,
          5,
          4,
          4,
          5,
          4,
          5,
          5,
          5,
          5,
          4,
          3,
          5,
          4,
          4,
          4,
          3,
          5,
          5,
          5,
          1,
          4,
          3,
          5,
          5,
          5,
          5,
          1,
          1,
          5,
          2,
          5,
          5,
          5,
          3,
          4,
          5,
          5,
          5,
          5,
          5,
          5,
          4,
          4,
          3,
          5,
          3,
          5,
          3,
          4,
          5,
          5,
          4,
          4,
          5,
          4,
          4,
          3,
          5,
          5,
          5,
          1,
          2,
          5,
          2,
          5,
          5,
          3,
          5,
          3,
          2,
          4,
          5,
          5,
          1,
          5,
          4,
          5,
          4,
          4,
          4,
          1,
          4,
          5,
          3,
          4,
          4,
          5,
          4,
          4,
          5,
          5,
          4,
          4,
          3,
          4,
          4,
          4,
          4,
          5,
          5,
          5,
          4,
          4,
          5,
          5,
          5,
          5,
          4,
          3,
          4,
          5,
          1,
          5,
          5,
          1,
          4,
          5,
          1,
          5,
          3,
          3,
          5,
          3,
          5,
          5,
          5,
          4,
          5,
          5,
          3,
          4,
          4,
          5,
          5,
          5,
          5,
          5,
          4,
          4,
          4,
          5,
          4,
          5,
          3,
          4,
          5,
          4,
          3,
          3,
          5,
          5,
          2,
          3,
          3,
          4,
          3,
          5,
          4,
          5,
          5,
          4,
          4,
          4,
          3,
          5,
          4,
          4,
          5,
          5,
          5,
          3,
          3,
          5,
          5,
          5,
          5,
          5,
          3,
          4,
          2,
          5,
          4,
          5,
          4,
          5,
          4,
          4,
          5,
          5,
          5,
          5,
          5,
          4,
          5,
          2,
          5,
          5,
          3,
          3,
          4,
          5,
          3,
          5,
          3,
          5,
          3,
          4,
          3,
          5,
          5,
          5,
          3,
          4,
          4,
          5,
          5,
          5,
          3,
          4,
          4,
          3,
          2,
          5,
          2,
          4,
          4,
          5,
          4,
          5,
          1,
          5,
          5,
          5,
          5,
          4,
          4,
          4,
          4,
          4,
          4,
          4,
          4,
          4,
          5,
          4,
          3,
          4,
          5,
          4,
          5,
          5,
          4,
          5,
          4,
          3,
          3,
          2,
          5,
          4,
          1,
          3,
          3,
          5,
          5,
          5,
          5,
          5,
          5,
          4,
          5,
          3,
          4,
          5,
          5,
          2,
          1,
          5,
          4,
          4,
          1,
          4,
          2,
          5,
          4,
          3,
          4,
          5,
          4,
          2,
          4,
          5,
          3,
          4,
          5,
          5,
          5,
          4,
          4,
          5,
          4,
          5,
          5,
          5,
          4,
          4,
          4,
          4,
          3,
          4,
          5,
          5,
          4,
          2,
          3,
          1,
          3,
          5,
          5,
          4,
          4,
          5,
          4,
          5,
          5,
          5,
          5,
          5,
          5,
          5,
          2,
          4,
          4,
          5,
          4,
          4,
          5,
          5,
          5,
          4,
          5,
          1,
          4,
          5,
          4,
          4,
          5,
          5,
          5,
          5,
          5,
          5,
          5,
          4,
          5,
          4,
          2,
          5,
          5,
          5,
          5,
          5,
          4,
          5,
          3,
          5,
          2,
          4,
          4,
          3,
          5,
          5,
          4,
          4,
          5,
          3,
          5,
          3,
          4,
          4,
          4,
          4,
          5,
          5,
          5,
          4,
          5,
          1,
          3,
          5,
          5,
          5,
          4,
          5,
          5,
          3,
          5,
          4,
          5,
          4,
          4,
          5,
          5,
          5,
          5,
          4,
          4,
          3,
          5,
          3,
          5,
          4,
          5,
          5,
          5,
          4,
          5,
          5,
          5,
          5,
          4,
          5,
          1,
          1,
          5,
          4,
          4,
          4,
          3,
          5,
          2,
          5,
          5,
          5,
          5,
          4,
          4,
          4,
          5,
          5,
          1,
          5,
          5,
          4,
          4,
          5,
          4,
          5,
          5,
          4,
          5,
          5,
          4,
          4,
          4,
          5,
          3,
          5,
          1,
          5,
          3,
          5,
          1,
          4,
          2,
          4,
          5,
          4,
          5,
          4,
          1,
          1,
          1,
          2,
          5,
          5,
          4,
          5,
          1,
          5,
          4,
          5,
          5,
          5,
          5,
          5,
          5,
          5,
          5,
          1,
          1,
          2,
          4,
          4,
          3,
          5,
          5,
          4,
          5,
          5,
          3,
          3,
          4,
          4,
          5,
          3,
          4,
          3,
          2,
          4,
          5,
          5,
          4,
          4,
          3,
          4,
          5,
          5,
          4,
          5,
          5,
          5,
          1,
          5,
          4,
          5,
          4,
          5,
          5,
          5,
          5,
          4,
          1,
          5,
          5,
          5,
          4,
          5,
          1,
          5,
          5,
          5,
          4,
          5,
          5,
          5,
          4,
          1,
          4,
          5,
          1,
          1,
          3,
          4,
          1,
          4,
          5,
          5,
          5,
          4,
          5,
          5,
          5,
          5,
          4,
          5,
          4,
          4,
          1,
          4,
          2,
          5,
          5,
          5,
          4,
          3,
          5,
          5,
          4,
          5,
          5,
          4,
          3,
          3,
          4,
          3,
          5,
          3,
          4,
          3,
          5,
          3,
          3,
          5,
          4,
          5,
          5,
          5,
          5,
          5,
          5,
          5,
          4,
          4,
          3,
          4,
          4,
          5,
          4,
          4,
          5,
          4,
          5,
          3,
          5,
          4,
          5,
          4,
          5,
          5,
          4,
          5,
          5,
          4,
          3,
          5,
          4,
          3,
          4,
          4,
          4,
          4,
          4,
          5,
          3,
          5,
          5,
          4,
          2,
          5,
          5,
          3,
          4,
          5,
          1,
          5,
          5,
          5,
          5,
          5,
          4,
          5,
          5,
          3,
          2,
          5,
          2,
          5,
          2,
          4,
          2,
          4,
          4,
          1,
          4,
          2,
          5,
          5,
          4,
          5,
          3,
          5,
          5,
          5,
          4,
          4,
          4,
          4,
          4,
          4,
          4,
          4,
          4,
          3,
          5,
          5,
          5,
          5,
          5,
          4,
          5,
          4,
          1,
          5,
          4,
          5,
          5,
          4,
          5,
          5,
          3,
          5,
          5,
          4,
          2,
          5,
          4,
          5,
          5,
          3,
          5,
          4,
          4,
          5,
          5,
          5,
          5,
          4,
          5,
          4,
          4,
          4,
          4,
          1,
          5,
          4,
          4,
          4,
          5,
          5,
          5,
          4,
          4,
          4,
          4,
          5,
          4,
          5,
          4,
          5,
          5,
          4,
          5,
          5,
          5,
          5,
          5,
          5,
          5,
          5,
          1,
          1,
          3,
          4,
          5,
          5,
          1,
          1,
          4,
          3,
          5,
          5,
          5,
          5,
          5,
          3,
          4,
          4,
          5,
          5,
          5,
          4,
          4,
          5,
          4,
          4,
          5,
          5,
          4,
          5,
          4,
          5,
          4,
          5,
          3,
          2,
          4,
          4,
          4
         ],
         "xaxis": "x",
         "y": [
          3.4991469383239746,
          2.800332546234131,
          5.137370586395264,
          2.0000598430633545,
          3.099693536758423,
          1.4997888803482056,
          3.0019612312316895,
          2.4999279975891113,
          2.6004152297973633,
          3.099693536758423,
          2.4999279975891113,
          9.498631477355957,
          3.099693536758423,
          2.6004152297973633,
          1.1994001865386963,
          2.099836826324463,
          3.099693536758423,
          2.6004152297973633,
          2.800332546234131,
          2.0000598430633545,
          3.099693536758423,
          3.3010709285736084,
          2.3014156818389893,
          6.495896816253662,
          2.800332546234131,
          2.4999279975891113,
          9.702077865600586,
          2.6004152297973633,
          2.59883189201355,
          1.4997888803482056,
          3.099693536758423,
          2.6004152297973633,
          3.099693536758423,
          2.299424409866333,
          2.800332546234131,
          2.299424409866333,
          3.0019612312316895,
          2.6004152297973633,
          3.6038599014282227,
          2.800332546234131,
          2.998406410217285,
          2.800332546234131,
          2.800332546234131,
          2.800332546234131,
          2.6004152297973633,
          2.099836826324463,
          1.4997888803482056,
          2.0000598430633545,
          2.299424409866333,
          2.800332546234131,
          4.010128974914551,
          3.595391273498535,
          2.7004406452178955,
          2.500981092453003,
          2.2023465633392334,
          1.691056489944458,
          2.7004406452178955,
          2.0000598430633545,
          2.6004152297973633,
          3.099693536758423,
          2.800332546234131,
          2.299424409866333,
          2.800332546234131,
          1.800459384918213,
          2.800332546234131,
          3.4991469383239746,
          2.8992109298706055,
          1.5997308492660522,
          2.4999279975891113,
          2.699524164199829,
          3.202824592590332,
          2.4999279975891113,
          3.099693536758423,
          2.800332546234131,
          1.999643325805664,
          2.299424409866333,
          2.800332546234131,
          3.299734115600586,
          3.099693536758423,
          2.500981092453003,
          2.800332546234131,
          2.800332546234131,
          2.6004152297973633,
          1.999643325805664,
          2.0000598430633545,
          2.800332546234131,
          3.099693536758423,
          6.495896816253662,
          2.800332546234131,
          2.59883189201355,
          3.099693536758423,
          2.0000598430633545,
          2.800332546234131,
          2.800332546234131,
          1.9024702310562134,
          2.4999279975891113,
          1.4997888803482056,
          2.4999279975891113,
          3.5961596965789795,
          2.299424409866333,
          2.299424409866333,
          2.998406410217285,
          3.099693536758423,
          2.800332546234131,
          2.4999279975891113,
          3.099693536758423,
          3.0997917652130127,
          2.299424409866333,
          2.099836826324463,
          2.299424409866333,
          3.099693536758423,
          1.4997888803482056,
          2.299424409866333,
          2.099836826324463,
          2.099836826324463,
          2.4999279975891113,
          3.3010709285736084,
          2.7004406452178955,
          2.299424409866333,
          2.8992109298706055,
          2.6004152297973633,
          2.800332546234131,
          2.3971848487854004,
          2.800332546234131,
          2.7004406452178955,
          2.500981092453003,
          2.4999279975891113,
          3.0019612312316895,
          1.2002825736999512,
          2.998406410217285,
          2.998406410217285,
          0.5000371932983398,
          1.0042273998260498,
          2.099836826324463,
          2.998406410217285,
          2.0000598430633545,
          2.998406410217285,
          2.998406410217285,
          2.4999279975891113,
          2.099836826324463,
          2.656461477279663,
          2.4999279975891113,
          1.4997888803482056,
          3.099693536758423,
          3.099693536758423,
          2.699524164199829,
          2.0000598430633545,
          2.299424409866333,
          1.0003745555877686,
          2.998406410217285,
          2.800332546234131,
          2.299424409866333,
          2.299424409866333,
          2.299424409866333,
          2.2001640796661377,
          7.330210208892822,
          2.800332546234131,
          2.800332546234131,
          2.4999279975891113,
          3.4991469383239746,
          2.2023465633392334,
          2.6004152297973633,
          3.099693536758423,
          2.6004152297973633,
          2.0000598430633545,
          2.800332546234131,
          3.202824592590332,
          2.6004152297973633,
          2.0000598430633545,
          2.800332546234131,
          3.699530601501465,
          2.7968392372131348,
          2.800332546234131,
          2.7004406452178955,
          2.7004406452178955,
          3.099693536758423,
          2.299424409866333,
          2.4999279975891113,
          1.4997888803482056,
          2.299424409866333,
          1.4997888803482056,
          39.499847412109375,
          2.800332546234131,
          2.7004406452178955,
          2.7004406452178955,
          2.4999279975891113,
          2.800332546234131,
          2.800332546234131,
          2.6004152297973633,
          2.299424409866333,
          2.299424409866333,
          2.6004152297973633,
          2.998406410217285,
          2.800332546234131,
          3.099693536758423,
          2.0000598430633545,
          2.6004152297973633,
          1.1003879308700562,
          2.998406410217285,
          2.299424409866333,
          2.800332546234131,
          3.099693536758423,
          2.0000598430633545,
          3.0019612312316895,
          2.4999279975891113,
          2.998406410217285,
          2.6004152297973633,
          2.0000598430633545,
          2.800332546234131,
          3.699530601501465,
          3.099693536758423,
          3.099693536758423,
          2.4999279975891113,
          2.299424409866333,
          3.202824592590332,
          2.6004152297973633,
          2.6004152297973633,
          3.0019612312316895,
          2.500981092453003,
          2.800332546234131,
          2.6004152297973633,
          3.2001984119415283,
          3.0019612312316895,
          2.800332546234131,
          2.7968392372131348,
          2.800332546234131,
          2.800332546234131,
          1.4997888803482056,
          2.800332546234131,
          2.500981092453003,
          2.3971848487854004,
          2.800332546234131,
          2.0000598430633545,
          2.500981092453003,
          2.500981092453003,
          2.0000598430633545,
          1.2002825736999512,
          1.4997888803482056,
          3.099693536758423,
          2.299424409866333,
          2.800332546234131,
          2.4999279975891113,
          1.4997888803482056,
          2.0000598430633545,
          3.4991469383239746,
          2.800332546234131,
          2.800332546234131,
          2.3971848487854004,
          2.800332546234131,
          2.4999279975891113,
          2.4999279975891113,
          2.800332546234131,
          2.800332546234131,
          2.299424409866333,
          2.800332546234131,
          2.8992109298706055,
          2.299424409866333,
          2.8992109298706055,
          3.5961596965789795,
          2.4999279975891113,
          3.099693536758423,
          2.3014156818389893,
          3.202824592590332,
          3.099693536758423,
          2.6004152297973633,
          2.2023465633392334,
          2.299424409866333,
          1.800459384918213,
          1.4997888803482056,
          3.202824592590332,
          3.099693536758423,
          2.299424409866333,
          2.3014156818389893,
          2.299424409866333,
          2.2023465633392334,
          2.998406410217285,
          0.5000371932983398,
          2.6004152297973633,
          2.800332546234131,
          2.6004152297973633,
          2.4999279975891113,
          2.800332546234131,
          2.099836826324463,
          1.3001418113708496,
          2.800332546234131,
          2.299424409866333,
          2.800332546234131,
          1.4997888803482056,
          2.6004152297973633,
          2.800332546234131,
          2.998406410217285,
          3.4991469383239746,
          2.8992109298706055,
          2.998406410217285,
          3.099693536758423,
          2.299424409866333,
          1.800459384918213,
          2.4999279975891113,
          2.4999279975891113,
          2.4999279975891113,
          2.8992109298706055,
          2.8992109298706055,
          3.099693536758423,
          2.4999279975891113,
          2.099836826324463,
          2.800332546234131,
          2.6004152297973633,
          2.500981092453003,
          1.800459384918213,
          2.800332546234131,
          3.099693536758423,
          3.202824592590332,
          2.800332546234131,
          2.2023465633392334,
          2.099836826324463,
          2.7968392372131348,
          3.099693536758423,
          11.698114395141602,
          2.299424409866333,
          2.1426637172698975,
          3.3010709285736084,
          2.0000598430633545,
          2.500981092453003,
          2.299424409866333,
          1.0003745555877686,
          2.0000598430633545,
          2.998406410217285,
          2.2023465633392334,
          1.691056489944458,
          2.4999279975891113,
          2.4999279975891113,
          3.099693536758423,
          2.800332546234131,
          2.800332546234131,
          2.998406410217285,
          2.998406410217285,
          3.5961596965789795,
          2.904651165008545,
          2.7004406452178955,
          3.099693536758423,
          3.4991469383239746,
          6.304926872253418,
          2.500981092453003,
          3.202824592590332,
          7.846717357635498,
          2.7004406452178955,
          2.3971848487854004,
          0.7995842695236206,
          2.6004152297973633,
          2.4999279975891113,
          2.099836826324463,
          2.800332546234131,
          2.800332546234131,
          3.099693536758423,
          2.6004152297973633,
          2.299424409866333,
          3.099693536758423,
          2.0000598430633545,
          1.5997308492660522,
          3.3010709285736084,
          2.800332546234131,
          2.6004152297973633,
          2.299424409866333,
          3.0019612312316895,
          2.4999279975891113,
          2.4999279975891113,
          2.6004152297973633,
          2.800332546234131,
          2.800332546234131,
          2.7004406452178955,
          2.800332546234131,
          2.6004152297973633,
          2.0000598430633545,
          2.299424409866333,
          2.6004152297973633,
          2.299424409866333,
          2.2001640796661377,
          2.6004152297973633,
          2.099836826324463,
          1.691056489944458,
          2.4999279975891113,
          2.0000598430633545,
          2.299424409866333,
          3.099693536758423,
          2.59883189201355,
          3.4991469383239746,
          2.998406410217285,
          2.800332546234131,
          2.8992109298706055,
          2.0000598430633545,
          1.4997888803482056,
          3.3010709285736084,
          3.3952250480651855,
          2.0000598430633545,
          2.3971848487854004,
          2.099836826324463,
          2.800332546234131,
          2.4999279975891113,
          2.4999279975891113,
          1.3002368211746216,
          2.699524164199829,
          2.099836826324463,
          3.4991469383239746,
          2.4999279975891113,
          3.3010709285736084,
          3.099693536758423,
          0.7995842695236206,
          0.5000371932983398,
          2.4999279975891113,
          1.400284767150879,
          3.3010709285736084,
          3.099693536758423,
          2.4999279975891113,
          1.999643325805664,
          2.699524164199829,
          2.4999279975891113,
          2.800332546234131,
          2.4999279975891113,
          2.800332546234131,
          3.099693536758423,
          3.099693536758423,
          2.3971848487854004,
          2.2023465633392334,
          1.4997888803482056,
          3.099693536758423,
          2.099836826324463,
          2.800332546234131,
          2.4295082092285156,
          2.6004152297973633,
          2.4999279975891113,
          2.4999279975891113,
          2.299424409866333,
          2.3971848487854004,
          2.4999279975891113,
          2.3971848487854004,
          2.7968392372131348,
          2.3014156818389893,
          2.7004406452178955,
          2.4999279975891113,
          3.3010709285736084,
          1.2002825736999512,
          1.0003745555877686,
          2.4999279975891113,
          1.3001418113708496,
          3.099693536758423,
          2.4999279975891113,
          2.099836826324463,
          3.0997917652130127,
          1.999643325805664,
          1.1994001865386963,
          2.299424409866333,
          3.099693536758423,
          2.800332546234131,
          0.7001534104347229,
          2.800332546234131,
          2.0000598430633545,
          3.099693536758423,
          3.2001984119415283,
          2.6004152297973633,
          2.0000598430633545,
          0.5000371932983398,
          2.0000598430633545,
          2.800332546234131,
          1.9024702310562134,
          2.500981092453003,
          2.0000598430633545,
          2.7004406452178955,
          3.2001984119415283,
          2.0000598430633545,
          3.3010709285736084,
          2.7004406452178955,
          2.6004152297973633,
          2.299424409866333,
          2.099836826324463,
          2.299424409866333,
          2.0000598430633545,
          2.0000598430633545,
          2.6004152297973633,
          3.4991469383239746,
          3.099693536758423,
          2.4999279975891113,
          2.7968392372131348,
          2.2023465633392334,
          3.099693536758423,
          3.099693536758423,
          3.099693536758423,
          2.7004406452178955,
          2.299424409866333,
          2.099836826324463,
          2.2023465633392334,
          3.3010709285736084,
          0.5000371932983398,
          2.7004406452178955,
          2.4999279975891113,
          1.2002825736999512,
          2.0000598430633545,
          2.998406410217285,
          0.7995842695236206,
          2.4999279975891113,
          2.099836826324463,
          1.4997888803482056,
          3.099693536758423,
          2.3014156818389893,
          3.4991469383239746,
          2.800332546234131,
          2.800332546234131,
          2.7968392372131348,
          3.099693536758423,
          2.998406410217285,
          2.3014156818389893,
          2.7968392372131348,
          2.6004152297973633,
          2.4999279975891113,
          2.800332546234131,
          2.800332546234131,
          2.4999279975891113,
          2.4999279975891113,
          2.2023465633392334,
          2.0000598430633545,
          2.6004152297973633,
          2.4999279975891113,
          3.110689163208008,
          3.0997917652130127,
          2.726109504699707,
          2.299424409866333,
          2.998406410217285,
          2.299424409866333,
          2.3014156818389893,
          2.2001640796661377,
          2.800332546234131,
          2.800332546234131,
          1.0003745555877686,
          1.800459384918213,
          2.579200029373169,
          2.6004152297973633,
          2.4295082092285156,
          3.099693536758423,
          2.904651165008545,
          2.800332546234131,
          2.800332546234131,
          2.0000598430633545,
          2.2023465633392334,
          2.500981092453003,
          2.099836826324463,
          2.4999279975891113,
          2.6004152297973633,
          2.6004152297973633,
          3.099693536758423,
          2.998406410217285,
          3.099693536758423,
          1.800459384918213,
          1.4997888803482056,
          3.299734115600586,
          3.099693536758423,
          3.099693536758423,
          3.3010709285736084,
          2.4999279975891113,
          1.9024702310562134,
          2.299424409866333,
          1.3001418113708496,
          2.4999279975891113,
          2.299424409866333,
          2.800332546234131,
          2.6004152297973633,
          2.800332546234131,
          2.299424409866333,
          2.500981092453003,
          2.8992109298706055,
          2.998406410217285,
          2.4999279975891113,
          2.800332546234131,
          2.800332546234131,
          2.6004152297973633,
          3.3010709285736084,
          1.1994001865386963,
          2.4999279975891113,
          3.099693536758423,
          2.5992212295532227,
          2.099836826324463,
          2.6004152297973633,
          2.7004406452178955,
          2.099836826324463,
          3.202824592590332,
          1.800459384918213,
          2.800332546234131,
          1.800459384918213,
          2.299424409866333,
          1.800459384918213,
          3.0997917652130127,
          2.800332546234131,
          2.8992109298706055,
          1.800459384918213,
          2.7968392372131348,
          2.299424409866333,
          2.998406410217285,
          2.7004406452178955,
          2.4999279975891113,
          1.800459384918213,
          2.7968392372131348,
          2.0000598430633545,
          30.600584030151367,
          1.6941022872924805,
          3.3010709285736084,
          2.201444387435913,
          2.6004152297973633,
          2.299424409866333,
          2.7004406452178955,
          2.299424409866333,
          2.4999279975891113,
          1.3002368211746216,
          2.4999279975891113,
          2.800332546234131,
          2.800332546234131,
          2.8992109298706055,
          2.299424409866333,
          2.299424409866333,
          2.299424409866333,
          2.3971848487854004,
          2.299424409866333,
          2.0000598430633545,
          2.500981092453003,
          2.299424409866333,
          2.6004152297973633,
          2.800332546234131,
          2.299424409866333,
          1.9024702310562134,
          2.299424409866333,
          2.8992109298706055,
          3.0019612312316895,
          4.3959197998046875,
          3.699530601501465,
          2.699524164199829,
          3.3010709285736084,
          3.0019612312316895,
          2.099836826324463,
          1.800459384918213,
          1.6941022872924805,
          2.4999279975891113,
          2.0000598430633545,
          0.5000371932983398,
          1.4997888803482056,
          2.099836826324463,
          2.800332546234131,
          3.4991469383239746,
          2.7004406452178955,
          2.4999279975891113,
          2.800332546234131,
          3.099693536758423,
          2.0000598430633545,
          2.800332546234131,
          2.3014156818389893,
          2.2023465633392334,
          3.0997917652130127,
          3.099693536758423,
          1.5009074211120605,
          0.7001534104347229,
          2.8992109298706055,
          2.6004152297973633,
          2.3971848487854004,
          0.7001534104347229,
          2.3971848487854004,
          1.400284767150879,
          2.4999279975891113,
          2.6004152297973633,
          1.4997888803482056,
          2.0000598430633545,
          2.8992109298706055,
          2.7968392372131348,
          1.7973265647888184,
          2.7968392372131348,
          2.4999279975891113,
          1.4997888803482056,
          2.299424409866333,
          3.099693536758423,
          3.4991469383239746,
          3.099693536758423,
          2.6004152297973633,
          2.299424409866333,
          2.800332546234131,
          2.6004152297973633,
          3.3010709285736084,
          3.3010709285736084,
          2.4999279975891113,
          2.299424409866333,
          2.6004152297973633,
          2.6004152297973633,
          2.6004152297973633,
          1.4997888803482056,
          2.699524164199829,
          3.099693536758423,
          2.4999279975891113,
          2.3971848487854004,
          1.3001418113708496,
          1.800459384918213,
          0.5000371932983398,
          1.4997888803482056,
          2.800332546234131,
          2.4999279975891113,
          2.299424409866333,
          2.6004152297973633,
          2.998406410217285,
          2.500981092453003,
          3.099693536758423,
          2.4999279975891113,
          3.4996979236602783,
          2.800332546234131,
          3.099693536758423,
          2.4999279975891113,
          2.7004406452178955,
          1.3001418113708496,
          3.0019612312316895,
          3.110689163208008,
          3.202824592590332,
          3.699042558670044,
          2.699524164199829,
          2.7004406452178955,
          3.4120774269104004,
          2.8992109298706055,
          6.496997833251953,
          2.800332546234131,
          0.7001534104347229,
          3.0019612312316895,
          3.099693536758423,
          3.6273536682128906,
          2.0000598430633545,
          2.4999279975891113,
          2.800332546234131,
          2.998406410217285,
          2.7004406452178955,
          2.998406410217285,
          2.998406410217285,
          2.998406410217285,
          2.6004152297973633,
          2.4999279975891113,
          2.0000598430633545,
          1.3001418113708496,
          2.7004406452178955,
          3.099693536758423,
          2.4999279975891113,
          3.099693536758423,
          2.800332546234131,
          2.6004152297973633,
          2.7004406452178955,
          1.4997888803482056,
          2.998406410217285,
          1.5997308492660522,
          2.0000598430633545,
          2.299424409866333,
          1.4997888803482056,
          3.099693536758423,
          2.800332546234131,
          2.0000598430633545,
          2.3971848487854004,
          2.8992109298706055,
          1.691056489944458,
          2.998406410217285,
          1.4997888803482056,
          2.699524164199829,
          2.299424409866333,
          2.2023465633392334,
          2.0000598430633545,
          2.8992109298706055,
          3.099693536758423,
          2.4999279975891113,
          2.0000598430633545,
          2.8992109298706055,
          0.5000371932983398,
          1.800459384918213,
          2.7004406452178955,
          2.800332546234131,
          2.4999279975891113,
          2.6004152297973633,
          3.099693536758423,
          2.800332546234131,
          1.800459384918213,
          2.800332546234131,
          2.7968392372131348,
          2.800332546234131,
          2.0000598430633545,
          11.400678634643555,
          3.099693536758423,
          2.4999279975891113,
          2.4999279975891113,
          2.800332546234131,
          2.7968392372131348,
          2.6004152297973633,
          2.3014156818389893,
          2.800332546234131,
          1.4997888803482056,
          2.800332546234131,
          2.7968392372131348,
          2.7004406452178955,
          3.3010709285736084,
          2.4999279975891113,
          2.6004152297973633,
          2.800332546234131,
          2.4999279975891113,
          2.800332546234131,
          2.800332546234131,
          2.6004152297973633,
          2.4999279975891113,
          0.7995842695236206,
          1.2002825736999512,
          3.4991469383239746,
          2.500981092453003,
          2.2023465633392334,
          2.6004152297973633,
          1.800459384918213,
          2.998406410217285,
          1.1994001865386963,
          2.800332546234131,
          2.800332546234131,
          2.998406410217285,
          2.7004406452178955,
          2.6004152297973633,
          3.2077481746673584,
          2.0000598430633545,
          2.7004406452178955,
          2.4999279975891113,
          0.7995842695236206,
          3.099693536758423,
          2.7004406452178955,
          2.500981092453003,
          2.299424409866333,
          2.800332546234131,
          2.6004152297973633,
          2.800332546234131,
          2.4999279975891113,
          2.6004152297973633,
          3.099693536758423,
          2.4999279975891113,
          2.6004152297973633,
          2.7968392372131348,
          2.699524164199829,
          3.4991469383239746,
          1.800459384918213,
          2.4999279975891113,
          1.5690847635269165,
          2.800332546234131,
          1.800459384918213,
          2.4999279975891113,
          0.7001534104347229,
          2.299424409866333,
          3.1000146865844727,
          2.699524164199829,
          2.4999279975891113,
          2.2023465633392334,
          2.7004406452178955,
          2.6004152297973633,
          0.7995842695236206,
          1.1003879308700562,
          1.0997021198272705,
          1.3001418113708496,
          2.4999279975891113,
          2.4999279975891113,
          2.6004152297973633,
          2.4999279975891113,
          0.5000371932983398,
          2.4999279975891113,
          2.500981092453003,
          2.4999279975891113,
          3.099693536758423,
          3.099693536758423,
          2.800332546234131,
          2.800332546234131,
          3.099693536758423,
          2.800332546234131,
          2.800332546234131,
          0.7001534104347229,
          1.0997021198272705,
          1.5009074211120605,
          2.0000598430633545,
          2.299424409866333,
          1.800459384918213,
          2.800332546234131,
          2.7004406452178955,
          3.4873313903808594,
          3.099693536758423,
          2.998406410217285,
          1.800459384918213,
          1.4997888803482056,
          2.0000598430633545,
          2.6004152297973633,
          3.099693536758423,
          1.4997888803482056,
          2.0000598430633545,
          2.2001640796661377,
          1.1994001865386963,
          2.299424409866333,
          2.800332546234131,
          2.4999279975891113,
          2.0000598430633545,
          2.299424409866333,
          1.999643325805664,
          2.0000598430633545,
          3.099693536758423,
          9.19924259185791,
          2.6004152297973633,
          3.099693536758423,
          2.800332546234131,
          2.800332546234131,
          0.8989659547805786,
          2.800332546234131,
          2.299424409866333,
          3.0997917652130127,
          2.299424409866333,
          2.4999279975891113,
          3.3010709285736084,
          2.4999279975891113,
          3.099693536758423,
          2.299424409866333,
          0.5000371932983398,
          2.4999279975891113,
          2.4999279975891113,
          3.099693536758423,
          2.2023465633392334,
          2.4999279975891113,
          1.1003879308700562,
          3.5961596965789795,
          3.202824592590332,
          9.840777397155762,
          2.3971848487854004,
          2.800332546234131,
          2.4999279975891113,
          3.5961596965789795,
          2.6004152297973633,
          0.7995842695236206,
          2.0000598430633545,
          7.501534461975098,
          0.5000371932983398,
          1.1003879308700562,
          1.800459384918213,
          2.299424409866333,
          0.7995842695236206,
          2.0000598430633545,
          2.4999279975891113,
          3.202824592590332,
          2.800332546234131,
          2.6004152297973633,
          3.099693536758423,
          2.4999279975891113,
          2.800332546234131,
          2.4999279975891113,
          2.6004152297973633,
          2.800332546234131,
          2.0000598430633545,
          2.0000598430633545,
          1.1003879308700562,
          2.0000598430633545,
          1.3001418113708496,
          2.800332546234131,
          2.4999279975891113,
          2.4999279975891113,
          2.0000598430633545,
          1.800459384918213,
          3.3010709285736084,
          2.800332546234131,
          2.6004152297973633,
          4.3959197998046875,
          3.202824592590332,
          2.299424409866333,
          1.4997888803482056,
          2.3014156818389893,
          2.2023465633392334,
          1.999643325805664,
          2.800332546234131,
          1.9024702310562134,
          2.500981092453003,
          2.099836826324463,
          2.800332546234131,
          1.800459384918213,
          1.800459384918213,
          4.296773433685303,
          2.6004152297973633,
          3.0997917652130127,
          2.4999279975891113,
          2.800332546234131,
          2.4999279975891113,
          2.4999279975891113,
          2.4999279975891113,
          2.4999279975891113,
          2.6004152297973633,
          2.2023465633392334,
          1.800459384918213,
          2.299424409866333,
          2.500981092453003,
          2.800332546234131,
          2.0000598430633545,
          2.0000598430633545,
          2.998406410217285,
          2.2023465633392334,
          3.099693536758423,
          1.800459384918213,
          2.7004406452178955,
          2.0000598430633545,
          3.0997917652130127,
          2.0000598430633545,
          3.202824592590332,
          3.699530601501465,
          2.0000598430633545,
          2.800332546234131,
          2.998406410217285,
          2.6004152297973633,
          2.099836826324463,
          2.998406410217285,
          2.0000598430633545,
          2.099836826324463,
          2.299424409866333,
          2.0000598430633545,
          2.6004152297973633,
          2.6004152297973633,
          2.0000598430633545,
          3.4991469383239746,
          1.800459384918213,
          3.202824592590332,
          2.998406410217285,
          2.0000598430633545,
          1.5997308492660522,
          2.7004406452178955,
          2.7004406452178955,
          1.4997888803482056,
          2.0000598430633545,
          2.998406410217285,
          0.5000371932983398,
          2.4999279975891113,
          2.4999279975891113,
          3.4991469383239746,
          3.4991469383239746,
          2.800332546234131,
          2.0000598430633545,
          2.4999279975891113,
          2.800332546234131,
          1.800459384918213,
          1.5009074211120605,
          2.7004406452178955,
          1.5997308492660522,
          3.099693536758423,
          1.400284767150879,
          2.699524164199829,
          1.7973265647888184,
          2.6004152297973633,
          2.0000598430633545,
          2.998914957046509,
          2.0000598430633545,
          1.7973265647888184,
          2.4999279975891113,
          3.099693536758423,
          2.797410488128662,
          2.998406410217285,
          2.099836826324463,
          2.4999279975891113,
          3.099693536758423,
          2.4999279975891113,
          2.0000598430633545,
          2.6004152297973633,
          2.0000598430633545,
          2.699524164199829,
          2.0000598430633545,
          2.299424409866333,
          2.0000598430633545,
          2.0000598430633545,
          2.2023465633392334,
          1.4997888803482056,
          2.4999279975891113,
          2.4999279975891113,
          2.800332546234131,
          2.800332546234131,
          2.4999279975891113,
          2.6004152297973633,
          2.800332546234131,
          2.500981092453003,
          0.7995842695236206,
          2.800332546234131,
          2.6004152297973633,
          3.099693536758423,
          2.800332546234131,
          4.99936580657959,
          3.099693536758423,
          2.4999279975891113,
          2.099836826324463,
          2.4999279975891113,
          2.8992109298706055,
          2.699524164199829,
          1.0003745555877686,
          3.3010709285736084,
          2.699524164199829,
          7.901318073272705,
          3.0997917652130127,
          1.800459384918213,
          2.4999279975891113,
          2.0000598430633545,
          2.6004152297973633,
          2.7004406452178955,
          2.800332546234131,
          3.099693536758423,
          2.800332546234131,
          2.6004152297973633,
          2.7004406452178955,
          2.6004152297973633,
          2.0000598430633545,
          2.0000598430633545,
          2.299424409866333,
          0.7001534104347229,
          2.800332546234131,
          2.0000598430633545,
          2.2023465633392334,
          2.0000598430633545,
          2.4999279975891113,
          2.4999279975891113,
          2.800332546234131,
          2.299424409866333,
          2.299424409866333,
          2.299424409866333,
          2.699524164199829,
          2.800332546234131,
          2.0000598430633545,
          2.4999279975891113,
          2.299424409866333,
          3.099693536758423,
          2.4999279975891113,
          2.6004152297973633,
          2.4999279975891113,
          2.800332546234131,
          3.699530601501465,
          3.099693536758423,
          2.4999279975891113,
          2.800332546234131,
          3.202824592590332,
          2.800332546234131,
          1.3002368211746216,
          1.1003879308700562,
          2.4295082092285156,
          2.299424409866333,
          2.4999279975891113,
          2.800332546234131,
          1.3002368211746216,
          2.099928617477417,
          2.6004152297973633,
          1.4997888803482056,
          3.099693536758423,
          2.800332546234131,
          2.800332546234131,
          4.902915954589844,
          2.800332546234131,
          1.800459384918213,
          2.0000598430633545,
          2.500981092453003,
          2.998406410217285,
          2.4999279975891113,
          2.4999279975891113,
          2.6004152297973633,
          2.3971848487854004,
          2.8992109298706055,
          2.904651165008545,
          2.0000598430633545,
          3.4991469383239746,
          3.099693536758423,
          2.0000598430633545,
          3.099693536758423,
          2.6004152297973633,
          3.4996979236602783,
          2.299424409866333,
          2.800332546234131,
          1.4997888803482056,
          1.3001418113708496,
          2.500981092453003,
          2.2023465633392334,
          2.299424409866333
         ],
         "yaxis": "y"
        }
       ],
       "layout": {
        "legend": {
         "tracegroupgap": 0
        },
        "template": {
         "data": {
          "bar": [
           {
            "error_x": {
             "color": "#2a3f5f"
            },
            "error_y": {
             "color": "#2a3f5f"
            },
            "marker": {
             "line": {
              "color": "#E5ECF6",
              "width": 0.5
             },
             "pattern": {
              "fillmode": "overlay",
              "size": 10,
              "solidity": 0.2
             }
            },
            "type": "bar"
           }
          ],
          "barpolar": [
           {
            "marker": {
             "line": {
              "color": "#E5ECF6",
              "width": 0.5
             },
             "pattern": {
              "fillmode": "overlay",
              "size": 10,
              "solidity": 0.2
             }
            },
            "type": "barpolar"
           }
          ],
          "carpet": [
           {
            "aaxis": {
             "endlinecolor": "#2a3f5f",
             "gridcolor": "white",
             "linecolor": "white",
             "minorgridcolor": "white",
             "startlinecolor": "#2a3f5f"
            },
            "baxis": {
             "endlinecolor": "#2a3f5f",
             "gridcolor": "white",
             "linecolor": "white",
             "minorgridcolor": "white",
             "startlinecolor": "#2a3f5f"
            },
            "type": "carpet"
           }
          ],
          "choropleth": [
           {
            "colorbar": {
             "outlinewidth": 0,
             "ticks": ""
            },
            "type": "choropleth"
           }
          ],
          "contour": [
           {
            "colorbar": {
             "outlinewidth": 0,
             "ticks": ""
            },
            "colorscale": [
             [
              0,
              "#0d0887"
             ],
             [
              0.1111111111111111,
              "#46039f"
             ],
             [
              0.2222222222222222,
              "#7201a8"
             ],
             [
              0.3333333333333333,
              "#9c179e"
             ],
             [
              0.4444444444444444,
              "#bd3786"
             ],
             [
              0.5555555555555556,
              "#d8576b"
             ],
             [
              0.6666666666666666,
              "#ed7953"
             ],
             [
              0.7777777777777778,
              "#fb9f3a"
             ],
             [
              0.8888888888888888,
              "#fdca26"
             ],
             [
              1,
              "#f0f921"
             ]
            ],
            "type": "contour"
           }
          ],
          "contourcarpet": [
           {
            "colorbar": {
             "outlinewidth": 0,
             "ticks": ""
            },
            "type": "contourcarpet"
           }
          ],
          "heatmap": [
           {
            "colorbar": {
             "outlinewidth": 0,
             "ticks": ""
            },
            "colorscale": [
             [
              0,
              "#0d0887"
             ],
             [
              0.1111111111111111,
              "#46039f"
             ],
             [
              0.2222222222222222,
              "#7201a8"
             ],
             [
              0.3333333333333333,
              "#9c179e"
             ],
             [
              0.4444444444444444,
              "#bd3786"
             ],
             [
              0.5555555555555556,
              "#d8576b"
             ],
             [
              0.6666666666666666,
              "#ed7953"
             ],
             [
              0.7777777777777778,
              "#fb9f3a"
             ],
             [
              0.8888888888888888,
              "#fdca26"
             ],
             [
              1,
              "#f0f921"
             ]
            ],
            "type": "heatmap"
           }
          ],
          "heatmapgl": [
           {
            "colorbar": {
             "outlinewidth": 0,
             "ticks": ""
            },
            "colorscale": [
             [
              0,
              "#0d0887"
             ],
             [
              0.1111111111111111,
              "#46039f"
             ],
             [
              0.2222222222222222,
              "#7201a8"
             ],
             [
              0.3333333333333333,
              "#9c179e"
             ],
             [
              0.4444444444444444,
              "#bd3786"
             ],
             [
              0.5555555555555556,
              "#d8576b"
             ],
             [
              0.6666666666666666,
              "#ed7953"
             ],
             [
              0.7777777777777778,
              "#fb9f3a"
             ],
             [
              0.8888888888888888,
              "#fdca26"
             ],
             [
              1,
              "#f0f921"
             ]
            ],
            "type": "heatmapgl"
           }
          ],
          "histogram": [
           {
            "marker": {
             "pattern": {
              "fillmode": "overlay",
              "size": 10,
              "solidity": 0.2
             }
            },
            "type": "histogram"
           }
          ],
          "histogram2d": [
           {
            "colorbar": {
             "outlinewidth": 0,
             "ticks": ""
            },
            "colorscale": [
             [
              0,
              "#0d0887"
             ],
             [
              0.1111111111111111,
              "#46039f"
             ],
             [
              0.2222222222222222,
              "#7201a8"
             ],
             [
              0.3333333333333333,
              "#9c179e"
             ],
             [
              0.4444444444444444,
              "#bd3786"
             ],
             [
              0.5555555555555556,
              "#d8576b"
             ],
             [
              0.6666666666666666,
              "#ed7953"
             ],
             [
              0.7777777777777778,
              "#fb9f3a"
             ],
             [
              0.8888888888888888,
              "#fdca26"
             ],
             [
              1,
              "#f0f921"
             ]
            ],
            "type": "histogram2d"
           }
          ],
          "histogram2dcontour": [
           {
            "colorbar": {
             "outlinewidth": 0,
             "ticks": ""
            },
            "colorscale": [
             [
              0,
              "#0d0887"
             ],
             [
              0.1111111111111111,
              "#46039f"
             ],
             [
              0.2222222222222222,
              "#7201a8"
             ],
             [
              0.3333333333333333,
              "#9c179e"
             ],
             [
              0.4444444444444444,
              "#bd3786"
             ],
             [
              0.5555555555555556,
              "#d8576b"
             ],
             [
              0.6666666666666666,
              "#ed7953"
             ],
             [
              0.7777777777777778,
              "#fb9f3a"
             ],
             [
              0.8888888888888888,
              "#fdca26"
             ],
             [
              1,
              "#f0f921"
             ]
            ],
            "type": "histogram2dcontour"
           }
          ],
          "mesh3d": [
           {
            "colorbar": {
             "outlinewidth": 0,
             "ticks": ""
            },
            "type": "mesh3d"
           }
          ],
          "parcoords": [
           {
            "line": {
             "colorbar": {
              "outlinewidth": 0,
              "ticks": ""
             }
            },
            "type": "parcoords"
           }
          ],
          "pie": [
           {
            "automargin": true,
            "type": "pie"
           }
          ],
          "scatter": [
           {
            "fillpattern": {
             "fillmode": "overlay",
             "size": 10,
             "solidity": 0.2
            },
            "type": "scatter"
           }
          ],
          "scatter3d": [
           {
            "line": {
             "colorbar": {
              "outlinewidth": 0,
              "ticks": ""
             }
            },
            "marker": {
             "colorbar": {
              "outlinewidth": 0,
              "ticks": ""
             }
            },
            "type": "scatter3d"
           }
          ],
          "scattercarpet": [
           {
            "marker": {
             "colorbar": {
              "outlinewidth": 0,
              "ticks": ""
             }
            },
            "type": "scattercarpet"
           }
          ],
          "scattergeo": [
           {
            "marker": {
             "colorbar": {
              "outlinewidth": 0,
              "ticks": ""
             }
            },
            "type": "scattergeo"
           }
          ],
          "scattergl": [
           {
            "marker": {
             "colorbar": {
              "outlinewidth": 0,
              "ticks": ""
             }
            },
            "type": "scattergl"
           }
          ],
          "scattermapbox": [
           {
            "marker": {
             "colorbar": {
              "outlinewidth": 0,
              "ticks": ""
             }
            },
            "type": "scattermapbox"
           }
          ],
          "scatterpolar": [
           {
            "marker": {
             "colorbar": {
              "outlinewidth": 0,
              "ticks": ""
             }
            },
            "type": "scatterpolar"
           }
          ],
          "scatterpolargl": [
           {
            "marker": {
             "colorbar": {
              "outlinewidth": 0,
              "ticks": ""
             }
            },
            "type": "scatterpolargl"
           }
          ],
          "scatterternary": [
           {
            "marker": {
             "colorbar": {
              "outlinewidth": 0,
              "ticks": ""
             }
            },
            "type": "scatterternary"
           }
          ],
          "surface": [
           {
            "colorbar": {
             "outlinewidth": 0,
             "ticks": ""
            },
            "colorscale": [
             [
              0,
              "#0d0887"
             ],
             [
              0.1111111111111111,
              "#46039f"
             ],
             [
              0.2222222222222222,
              "#7201a8"
             ],
             [
              0.3333333333333333,
              "#9c179e"
             ],
             [
              0.4444444444444444,
              "#bd3786"
             ],
             [
              0.5555555555555556,
              "#d8576b"
             ],
             [
              0.6666666666666666,
              "#ed7953"
             ],
             [
              0.7777777777777778,
              "#fb9f3a"
             ],
             [
              0.8888888888888888,
              "#fdca26"
             ],
             [
              1,
              "#f0f921"
             ]
            ],
            "type": "surface"
           }
          ],
          "table": [
           {
            "cells": {
             "fill": {
              "color": "#EBF0F8"
             },
             "line": {
              "color": "white"
             }
            },
            "header": {
             "fill": {
              "color": "#C8D4E3"
             },
             "line": {
              "color": "white"
             }
            },
            "type": "table"
           }
          ]
         },
         "layout": {
          "annotationdefaults": {
           "arrowcolor": "#2a3f5f",
           "arrowhead": 0,
           "arrowwidth": 1
          },
          "autotypenumbers": "strict",
          "coloraxis": {
           "colorbar": {
            "outlinewidth": 0,
            "ticks": ""
           }
          },
          "colorscale": {
           "diverging": [
            [
             0,
             "#8e0152"
            ],
            [
             0.1,
             "#c51b7d"
            ],
            [
             0.2,
             "#de77ae"
            ],
            [
             0.3,
             "#f1b6da"
            ],
            [
             0.4,
             "#fde0ef"
            ],
            [
             0.5,
             "#f7f7f7"
            ],
            [
             0.6,
             "#e6f5d0"
            ],
            [
             0.7,
             "#b8e186"
            ],
            [
             0.8,
             "#7fbc41"
            ],
            [
             0.9,
             "#4d9221"
            ],
            [
             1,
             "#276419"
            ]
           ],
           "sequential": [
            [
             0,
             "#0d0887"
            ],
            [
             0.1111111111111111,
             "#46039f"
            ],
            [
             0.2222222222222222,
             "#7201a8"
            ],
            [
             0.3333333333333333,
             "#9c179e"
            ],
            [
             0.4444444444444444,
             "#bd3786"
            ],
            [
             0.5555555555555556,
             "#d8576b"
            ],
            [
             0.6666666666666666,
             "#ed7953"
            ],
            [
             0.7777777777777778,
             "#fb9f3a"
            ],
            [
             0.8888888888888888,
             "#fdca26"
            ],
            [
             1,
             "#f0f921"
            ]
           ],
           "sequentialminus": [
            [
             0,
             "#0d0887"
            ],
            [
             0.1111111111111111,
             "#46039f"
            ],
            [
             0.2222222222222222,
             "#7201a8"
            ],
            [
             0.3333333333333333,
             "#9c179e"
            ],
            [
             0.4444444444444444,
             "#bd3786"
            ],
            [
             0.5555555555555556,
             "#d8576b"
            ],
            [
             0.6666666666666666,
             "#ed7953"
            ],
            [
             0.7777777777777778,
             "#fb9f3a"
            ],
            [
             0.8888888888888888,
             "#fdca26"
            ],
            [
             1,
             "#f0f921"
            ]
           ]
          },
          "colorway": [
           "#636efa",
           "#EF553B",
           "#00cc96",
           "#ab63fa",
           "#FFA15A",
           "#19d3f3",
           "#FF6692",
           "#B6E880",
           "#FF97FF",
           "#FECB52"
          ],
          "font": {
           "color": "#2a3f5f"
          },
          "geo": {
           "bgcolor": "white",
           "lakecolor": "white",
           "landcolor": "#E5ECF6",
           "showlakes": true,
           "showland": true,
           "subunitcolor": "white"
          },
          "hoverlabel": {
           "align": "left"
          },
          "hovermode": "closest",
          "mapbox": {
           "style": "light"
          },
          "paper_bgcolor": "white",
          "plot_bgcolor": "#E5ECF6",
          "polar": {
           "angularaxis": {
            "gridcolor": "white",
            "linecolor": "white",
            "ticks": ""
           },
           "bgcolor": "#E5ECF6",
           "radialaxis": {
            "gridcolor": "white",
            "linecolor": "white",
            "ticks": ""
           }
          },
          "scene": {
           "xaxis": {
            "backgroundcolor": "#E5ECF6",
            "gridcolor": "white",
            "gridwidth": 2,
            "linecolor": "white",
            "showbackground": true,
            "ticks": "",
            "zerolinecolor": "white"
           },
           "yaxis": {
            "backgroundcolor": "#E5ECF6",
            "gridcolor": "white",
            "gridwidth": 2,
            "linecolor": "white",
            "showbackground": true,
            "ticks": "",
            "zerolinecolor": "white"
           },
           "zaxis": {
            "backgroundcolor": "#E5ECF6",
            "gridcolor": "white",
            "gridwidth": 2,
            "linecolor": "white",
            "showbackground": true,
            "ticks": "",
            "zerolinecolor": "white"
           }
          },
          "shapedefaults": {
           "line": {
            "color": "#2a3f5f"
           }
          },
          "ternary": {
           "aaxis": {
            "gridcolor": "white",
            "linecolor": "white",
            "ticks": ""
           },
           "baxis": {
            "gridcolor": "white",
            "linecolor": "white",
            "ticks": ""
           },
           "bgcolor": "#E5ECF6",
           "caxis": {
            "gridcolor": "white",
            "linecolor": "white",
            "ticks": ""
           }
          },
          "title": {
           "x": 0.05
          },
          "xaxis": {
           "automargin": true,
           "gridcolor": "white",
           "linecolor": "white",
           "ticks": "",
           "title": {
            "standoff": 15
           },
           "zerolinecolor": "white",
           "zerolinewidth": 2
          },
          "yaxis": {
           "automargin": true,
           "gridcolor": "white",
           "linecolor": "white",
           "ticks": "",
           "title": {
            "standoff": 15
           },
           "zerolinecolor": "white",
           "zerolinewidth": 2
          }
         }
        },
        "title": {
         "text": "Predicted Score vs Rating"
        },
        "xaxis": {
         "anchor": "y",
         "domain": [
          0,
          1
         ],
         "title": {
          "text": "Rating"
         }
        },
        "yaxis": {
         "anchor": "x",
         "domain": [
          0,
          1
         ],
         "title": {
          "text": "Predicted Score"
         }
        }
       }
      }
     },
     "metadata": {},
     "output_type": "display_data"
    },
    {
     "data": {
      "application/vnd.plotly.v1+json": {
       "config": {
        "plotlyServerURL": "https://plot.ly"
       },
       "data": [
        {
         "hovertemplate": "Predicted Sentiment=%{x}<br>Predicted Score=%{y}<extra></extra>",
         "legendgroup": "",
         "marker": {
          "color": "#636efa",
          "symbol": "circle"
         },
         "mode": "markers",
         "name": "",
         "showlegend": false,
         "type": "scattergl",
         "x": [
          2,
          1,
          0,
          0,
          2,
          0,
          2,
          0,
          2,
          2,
          0,
          0,
          2,
          2,
          0,
          2,
          2,
          2,
          1,
          0,
          2,
          2,
          2,
          0,
          1,
          0,
          1,
          2,
          0,
          0,
          2,
          2,
          2,
          1,
          1,
          1,
          2,
          2,
          2,
          1,
          1,
          1,
          1,
          1,
          2,
          2,
          0,
          0,
          1,
          1,
          1,
          1,
          0,
          1,
          0,
          0,
          0,
          0,
          2,
          2,
          1,
          1,
          1,
          1,
          1,
          2,
          0,
          2,
          0,
          1,
          1,
          0,
          2,
          1,
          1,
          1,
          1,
          0,
          2,
          1,
          1,
          1,
          2,
          1,
          0,
          1,
          2,
          0,
          1,
          0,
          2,
          0,
          1,
          1,
          0,
          0,
          0,
          0,
          1,
          1,
          1,
          1,
          2,
          1,
          0,
          2,
          0,
          1,
          2,
          1,
          2,
          0,
          1,
          2,
          2,
          0,
          2,
          0,
          1,
          0,
          2,
          1,
          0,
          1,
          0,
          1,
          0,
          2,
          1,
          1,
          1,
          0,
          1,
          2,
          1,
          0,
          1,
          1,
          0,
          2,
          2,
          0,
          0,
          2,
          2,
          1,
          0,
          1,
          0,
          1,
          1,
          1,
          1,
          1,
          1,
          0,
          1,
          1,
          0,
          2,
          0,
          2,
          2,
          2,
          0,
          1,
          1,
          2,
          0,
          1,
          2,
          2,
          1,
          0,
          0,
          2,
          1,
          0,
          0,
          1,
          0,
          2,
          1,
          0,
          0,
          0,
          1,
          1,
          2,
          1,
          1,
          2,
          1,
          1,
          2,
          0,
          2,
          2,
          1,
          1,
          1,
          2,
          0,
          2,
          0,
          1,
          2,
          0,
          1,
          2,
          2,
          2,
          0,
          1,
          1,
          2,
          2,
          2,
          1,
          1,
          2,
          2,
          2,
          1,
          2,
          1,
          1,
          0,
          1,
          1,
          0,
          1,
          0,
          1,
          1,
          0,
          1,
          0,
          2,
          1,
          1,
          0,
          0,
          0,
          2,
          1,
          1,
          0,
          1,
          0,
          0,
          1,
          1,
          1,
          1,
          0,
          1,
          0,
          1,
          0,
          2,
          2,
          1,
          2,
          2,
          0,
          1,
          1,
          0,
          1,
          2,
          1,
          2,
          1,
          0,
          1,
          0,
          2,
          1,
          2,
          0,
          1,
          2,
          1,
          1,
          1,
          1,
          0,
          2,
          1,
          1,
          2,
          0,
          1,
          2,
          1,
          1,
          0,
          0,
          0,
          0,
          0,
          2,
          0,
          2,
          1,
          2,
          1,
          1,
          1,
          2,
          1,
          1,
          0,
          2,
          2,
          2,
          2,
          1,
          0,
          2,
          0,
          1,
          1,
          0,
          0,
          1,
          0,
          0,
          0,
          0,
          2,
          1,
          1,
          1,
          1,
          1,
          1,
          0,
          2,
          2,
          1,
          1,
          1,
          2,
          0,
          0,
          1,
          2,
          0,
          2,
          1,
          1,
          2,
          2,
          1,
          2,
          0,
          2,
          2,
          1,
          2,
          1,
          2,
          0,
          0,
          2,
          1,
          1,
          0,
          1,
          2,
          0,
          1,
          2,
          1,
          1,
          2,
          2,
          0,
          0,
          0,
          1,
          2,
          0,
          2,
          1,
          1,
          0,
          0,
          0,
          2,
          2,
          0,
          0,
          2,
          1,
          0,
          0,
          2,
          1,
          2,
          2,
          0,
          2,
          2,
          1,
          0,
          0,
          0,
          2,
          2,
          0,
          1,
          1,
          0,
          1,
          0,
          1,
          2,
          2,
          0,
          0,
          0,
          2,
          2,
          1,
          2,
          2,
          0,
          0,
          1,
          0,
          0,
          0,
          2,
          2,
          0,
          0,
          2,
          1,
          0,
          0,
          1,
          2,
          0,
          2,
          0,
          1,
          0,
          1,
          2,
          1,
          0,
          1,
          0,
          2,
          2,
          2,
          0,
          0,
          0,
          1,
          0,
          1,
          0,
          0,
          2,
          0,
          2,
          0,
          2,
          1,
          2,
          1,
          0,
          0,
          2,
          2,
          2,
          0,
          2,
          0,
          2,
          2,
          2,
          0,
          1,
          2,
          0,
          2,
          0,
          0,
          0,
          1,
          0,
          1,
          1,
          0,
          2,
          0,
          2,
          2,
          2,
          1,
          1,
          2,
          2,
          1,
          2,
          2,
          2,
          0,
          1,
          1,
          0,
          0,
          0,
          0,
          2,
          0,
          1,
          0,
          2,
          1,
          1,
          1,
          2,
          1,
          1,
          1,
          0,
          1,
          1,
          2,
          2,
          2,
          1,
          1,
          1,
          0,
          0,
          1,
          2,
          0,
          2,
          2,
          2,
          1,
          2,
          1,
          0,
          0,
          2,
          2,
          2,
          0,
          0,
          1,
          1,
          0,
          1,
          1,
          2,
          1,
          1,
          1,
          0,
          1,
          0,
          1,
          1,
          2,
          2,
          0,
          0,
          2,
          1,
          2,
          2,
          0,
          2,
          1,
          1,
          1,
          1,
          1,
          1,
          0,
          1,
          0,
          1,
          2,
          1,
          1,
          0,
          0,
          1,
          2,
          0,
          1,
          1,
          2,
          2,
          2,
          1,
          0,
          1,
          0,
          2,
          0,
          1,
          1,
          0,
          1,
          1,
          1,
          0,
          1,
          0,
          1,
          1,
          2,
          1,
          1,
          0,
          1,
          0,
          2,
          1,
          2,
          1,
          2,
          2,
          2,
          1,
          1,
          0,
          0,
          0,
          0,
          2,
          1,
          2,
          0,
          0,
          1,
          2,
          0,
          1,
          2,
          0,
          0,
          2,
          1,
          0,
          0,
          2,
          0,
          0,
          0,
          0,
          0,
          2,
          0,
          0,
          0,
          2,
          2,
          2,
          0,
          0,
          1,
          2,
          2,
          2,
          2,
          1,
          1,
          2,
          2,
          2,
          0,
          1,
          2,
          2,
          2,
          0,
          1,
          2,
          0,
          0,
          1,
          1,
          0,
          0,
          1,
          0,
          1,
          2,
          1,
          1,
          2,
          0,
          0,
          1,
          2,
          0,
          0,
          1,
          2,
          1,
          1,
          2,
          1,
          0,
          1,
          0,
          1,
          1,
          0,
          2,
          2,
          2,
          0,
          0,
          1,
          1,
          0,
          1,
          1,
          1,
          2,
          0,
          0,
          1,
          0,
          2,
          0,
          2,
          1,
          2,
          0,
          0,
          1,
          2,
          0,
          1,
          0,
          2,
          1,
          0,
          0,
          0,
          0,
          1,
          0,
          1,
          1,
          0,
          0,
          0,
          2,
          0,
          0,
          0,
          0,
          1,
          0,
          1,
          0,
          2,
          2,
          1,
          1,
          1,
          2,
          1,
          0,
          0,
          2,
          0,
          0,
          1,
          2,
          2,
          2,
          1,
          0,
          1,
          2,
          0,
          2,
          0,
          2,
          1,
          0,
          1,
          1,
          2,
          0,
          1,
          1,
          2,
          1,
          0,
          2,
          1,
          1,
          0,
          1,
          1,
          1,
          0,
          2,
          0,
          0,
          0,
          0,
          1,
          2,
          0,
          1,
          1,
          1,
          2,
          1,
          0,
          2,
          2,
          0,
          2,
          2,
          1,
          2,
          1,
          0,
          2,
          1,
          1,
          0,
          0,
          1,
          1,
          1,
          0,
          0,
          0,
          2,
          1,
          2,
          0,
          1,
          0,
          0,
          2,
          0,
          0,
          0,
          1,
          0,
          2,
          2,
          1,
          1,
          2,
          1,
          1,
          0,
          0,
          1,
          0,
          1,
          1,
          1,
          0,
          1,
          2,
          1,
          1,
          0,
          0,
          2,
          2,
          0,
          0,
          1,
          0,
          1,
          1,
          0,
          0,
          1,
          1,
          0,
          2,
          1,
          2,
          2,
          1,
          1,
          0,
          1,
          1,
          0,
          1,
          0,
          2,
          0,
          2,
          1,
          0,
          0,
          0,
          2,
          0,
          0,
          2,
          1,
          1,
          0,
          0,
          1,
          0,
          1,
          2,
          1,
          0,
          2,
          0,
          2,
          1,
          1,
          1,
          0,
          0,
          1,
          1,
          2,
          2,
          0,
          1,
          0,
          2,
          1,
          0,
          0,
          2,
          0,
          1,
          1,
          0,
          0,
          0,
          1,
          2,
          1,
          2,
          1,
          1,
          1,
          0,
          2,
          0,
          1,
          1,
          0,
          1,
          2,
          1,
          1,
          1,
          2,
          2,
          0,
          0,
          1,
          0,
          0,
          0,
          0,
          2,
          0,
          1,
          1,
          1,
          1,
          0,
          0,
          1,
          0,
          2,
          1,
          0,
          0,
          0,
          0,
          1,
          2,
          0,
          1,
          1,
          2,
          2,
          1,
          0,
          2,
          1,
          0,
          2,
          2,
          0,
          2,
          1,
          1,
          1,
          0,
          2,
          0,
          0,
          0,
          0,
          1,
          0,
          0,
          0,
          2,
          2,
          1,
          0,
          0,
          1,
          1,
          1,
          0,
          2,
          2,
          0,
          1,
          2,
          2,
          0,
          1,
          0,
          2,
          0,
          2,
          0,
          1,
          2,
          0,
          2,
          0,
          0,
          2,
          0,
          1,
          0,
          1,
          0,
          0,
          0,
          0,
          0,
          0,
          1,
          1,
          0,
          2,
          1,
          1,
          1,
          1,
          2,
          2,
          1,
          0,
          2,
          0,
          2,
          0,
          0,
          1,
          0,
          2,
          1,
          0,
          0,
          1,
          0,
          0,
          2,
          0,
          1,
          2,
          1,
          2,
          0,
          2,
          0,
          0,
          1,
          0,
          1,
          0,
          0,
          0,
          0,
          0,
          1,
          1,
          1,
          1,
          1,
          1,
          0,
          0,
          1,
          2,
          0,
          2,
          0,
          1,
          2,
          2,
          0,
          1,
          1,
          1,
          2,
          2,
          2,
          1,
          0,
          1,
          2,
          0,
          2,
          0,
          2,
          1,
          1,
          0,
          1,
          1,
          0,
          1,
          1,
          0,
          0,
          2,
          0,
          0,
          1,
          0,
          2,
          2,
          0,
          2,
          2,
          0,
          1,
          1,
          0,
          1,
          1,
          0,
          1
         ],
         "xaxis": "x",
         "y": [
          3.4991469383239746,
          2.800332546234131,
          5.137370586395264,
          2.0000598430633545,
          3.099693536758423,
          1.4997888803482056,
          3.0019612312316895,
          2.4999279975891113,
          2.6004152297973633,
          3.099693536758423,
          2.4999279975891113,
          9.498631477355957,
          3.099693536758423,
          2.6004152297973633,
          1.1994001865386963,
          2.099836826324463,
          3.099693536758423,
          2.6004152297973633,
          2.800332546234131,
          2.0000598430633545,
          3.099693536758423,
          3.3010709285736084,
          2.3014156818389893,
          6.495896816253662,
          2.800332546234131,
          2.4999279975891113,
          9.702077865600586,
          2.6004152297973633,
          2.59883189201355,
          1.4997888803482056,
          3.099693536758423,
          2.6004152297973633,
          3.099693536758423,
          2.299424409866333,
          2.800332546234131,
          2.299424409866333,
          3.0019612312316895,
          2.6004152297973633,
          3.6038599014282227,
          2.800332546234131,
          2.998406410217285,
          2.800332546234131,
          2.800332546234131,
          2.800332546234131,
          2.6004152297973633,
          2.099836826324463,
          1.4997888803482056,
          2.0000598430633545,
          2.299424409866333,
          2.800332546234131,
          4.010128974914551,
          3.595391273498535,
          2.7004406452178955,
          2.500981092453003,
          2.2023465633392334,
          1.691056489944458,
          2.7004406452178955,
          2.0000598430633545,
          2.6004152297973633,
          3.099693536758423,
          2.800332546234131,
          2.299424409866333,
          2.800332546234131,
          1.800459384918213,
          2.800332546234131,
          3.4991469383239746,
          2.8992109298706055,
          1.5997308492660522,
          2.4999279975891113,
          2.699524164199829,
          3.202824592590332,
          2.4999279975891113,
          3.099693536758423,
          2.800332546234131,
          1.999643325805664,
          2.299424409866333,
          2.800332546234131,
          3.299734115600586,
          3.099693536758423,
          2.500981092453003,
          2.800332546234131,
          2.800332546234131,
          2.6004152297973633,
          1.999643325805664,
          2.0000598430633545,
          2.800332546234131,
          3.099693536758423,
          6.495896816253662,
          2.800332546234131,
          2.59883189201355,
          3.099693536758423,
          2.0000598430633545,
          2.800332546234131,
          2.800332546234131,
          1.9024702310562134,
          2.4999279975891113,
          1.4997888803482056,
          2.4999279975891113,
          3.5961596965789795,
          2.299424409866333,
          2.299424409866333,
          2.998406410217285,
          3.099693536758423,
          2.800332546234131,
          2.4999279975891113,
          3.099693536758423,
          3.0997917652130127,
          2.299424409866333,
          2.099836826324463,
          2.299424409866333,
          3.099693536758423,
          1.4997888803482056,
          2.299424409866333,
          2.099836826324463,
          2.099836826324463,
          2.4999279975891113,
          3.3010709285736084,
          2.7004406452178955,
          2.299424409866333,
          2.8992109298706055,
          2.6004152297973633,
          2.800332546234131,
          2.3971848487854004,
          2.800332546234131,
          2.7004406452178955,
          2.500981092453003,
          2.4999279975891113,
          3.0019612312316895,
          1.2002825736999512,
          2.998406410217285,
          2.998406410217285,
          0.5000371932983398,
          1.0042273998260498,
          2.099836826324463,
          2.998406410217285,
          2.0000598430633545,
          2.998406410217285,
          2.998406410217285,
          2.4999279975891113,
          2.099836826324463,
          2.656461477279663,
          2.4999279975891113,
          1.4997888803482056,
          3.099693536758423,
          3.099693536758423,
          2.699524164199829,
          2.0000598430633545,
          2.299424409866333,
          1.0003745555877686,
          2.998406410217285,
          2.800332546234131,
          2.299424409866333,
          2.299424409866333,
          2.299424409866333,
          2.2001640796661377,
          7.330210208892822,
          2.800332546234131,
          2.800332546234131,
          2.4999279975891113,
          3.4991469383239746,
          2.2023465633392334,
          2.6004152297973633,
          3.099693536758423,
          2.6004152297973633,
          2.0000598430633545,
          2.800332546234131,
          3.202824592590332,
          2.6004152297973633,
          2.0000598430633545,
          2.800332546234131,
          3.699530601501465,
          2.7968392372131348,
          2.800332546234131,
          2.7004406452178955,
          2.7004406452178955,
          3.099693536758423,
          2.299424409866333,
          2.4999279975891113,
          1.4997888803482056,
          2.299424409866333,
          1.4997888803482056,
          39.499847412109375,
          2.800332546234131,
          2.7004406452178955,
          2.7004406452178955,
          2.4999279975891113,
          2.800332546234131,
          2.800332546234131,
          2.6004152297973633,
          2.299424409866333,
          2.299424409866333,
          2.6004152297973633,
          2.998406410217285,
          2.800332546234131,
          3.099693536758423,
          2.0000598430633545,
          2.6004152297973633,
          1.1003879308700562,
          2.998406410217285,
          2.299424409866333,
          2.800332546234131,
          3.099693536758423,
          2.0000598430633545,
          3.0019612312316895,
          2.4999279975891113,
          2.998406410217285,
          2.6004152297973633,
          2.0000598430633545,
          2.800332546234131,
          3.699530601501465,
          3.099693536758423,
          3.099693536758423,
          2.4999279975891113,
          2.299424409866333,
          3.202824592590332,
          2.6004152297973633,
          2.6004152297973633,
          3.0019612312316895,
          2.500981092453003,
          2.800332546234131,
          2.6004152297973633,
          3.2001984119415283,
          3.0019612312316895,
          2.800332546234131,
          2.7968392372131348,
          2.800332546234131,
          2.800332546234131,
          1.4997888803482056,
          2.800332546234131,
          2.500981092453003,
          2.3971848487854004,
          2.800332546234131,
          2.0000598430633545,
          2.500981092453003,
          2.500981092453003,
          2.0000598430633545,
          1.2002825736999512,
          1.4997888803482056,
          3.099693536758423,
          2.299424409866333,
          2.800332546234131,
          2.4999279975891113,
          1.4997888803482056,
          2.0000598430633545,
          3.4991469383239746,
          2.800332546234131,
          2.800332546234131,
          2.3971848487854004,
          2.800332546234131,
          2.4999279975891113,
          2.4999279975891113,
          2.800332546234131,
          2.800332546234131,
          2.299424409866333,
          2.800332546234131,
          2.8992109298706055,
          2.299424409866333,
          2.8992109298706055,
          3.5961596965789795,
          2.4999279975891113,
          3.099693536758423,
          2.3014156818389893,
          3.202824592590332,
          3.099693536758423,
          2.6004152297973633,
          2.2023465633392334,
          2.299424409866333,
          1.800459384918213,
          1.4997888803482056,
          3.202824592590332,
          3.099693536758423,
          2.299424409866333,
          2.3014156818389893,
          2.299424409866333,
          2.2023465633392334,
          2.998406410217285,
          0.5000371932983398,
          2.6004152297973633,
          2.800332546234131,
          2.6004152297973633,
          2.4999279975891113,
          2.800332546234131,
          2.099836826324463,
          1.3001418113708496,
          2.800332546234131,
          2.299424409866333,
          2.800332546234131,
          1.4997888803482056,
          2.6004152297973633,
          2.800332546234131,
          2.998406410217285,
          3.4991469383239746,
          2.8992109298706055,
          2.998406410217285,
          3.099693536758423,
          2.299424409866333,
          1.800459384918213,
          2.4999279975891113,
          2.4999279975891113,
          2.4999279975891113,
          2.8992109298706055,
          2.8992109298706055,
          3.099693536758423,
          2.4999279975891113,
          2.099836826324463,
          2.800332546234131,
          2.6004152297973633,
          2.500981092453003,
          1.800459384918213,
          2.800332546234131,
          3.099693536758423,
          3.202824592590332,
          2.800332546234131,
          2.2023465633392334,
          2.099836826324463,
          2.7968392372131348,
          3.099693536758423,
          11.698114395141602,
          2.299424409866333,
          2.1426637172698975,
          3.3010709285736084,
          2.0000598430633545,
          2.500981092453003,
          2.299424409866333,
          1.0003745555877686,
          2.0000598430633545,
          2.998406410217285,
          2.2023465633392334,
          1.691056489944458,
          2.4999279975891113,
          2.4999279975891113,
          3.099693536758423,
          2.800332546234131,
          2.800332546234131,
          2.998406410217285,
          2.998406410217285,
          3.5961596965789795,
          2.904651165008545,
          2.7004406452178955,
          3.099693536758423,
          3.4991469383239746,
          6.304926872253418,
          2.500981092453003,
          3.202824592590332,
          7.846717357635498,
          2.7004406452178955,
          2.3971848487854004,
          0.7995842695236206,
          2.6004152297973633,
          2.4999279975891113,
          2.099836826324463,
          2.800332546234131,
          2.800332546234131,
          3.099693536758423,
          2.6004152297973633,
          2.299424409866333,
          3.099693536758423,
          2.0000598430633545,
          1.5997308492660522,
          3.3010709285736084,
          2.800332546234131,
          2.6004152297973633,
          2.299424409866333,
          3.0019612312316895,
          2.4999279975891113,
          2.4999279975891113,
          2.6004152297973633,
          2.800332546234131,
          2.800332546234131,
          2.7004406452178955,
          2.800332546234131,
          2.6004152297973633,
          2.0000598430633545,
          2.299424409866333,
          2.6004152297973633,
          2.299424409866333,
          2.2001640796661377,
          2.6004152297973633,
          2.099836826324463,
          1.691056489944458,
          2.4999279975891113,
          2.0000598430633545,
          2.299424409866333,
          3.099693536758423,
          2.59883189201355,
          3.4991469383239746,
          2.998406410217285,
          2.800332546234131,
          2.8992109298706055,
          2.0000598430633545,
          1.4997888803482056,
          3.3010709285736084,
          3.3952250480651855,
          2.0000598430633545,
          2.3971848487854004,
          2.099836826324463,
          2.800332546234131,
          2.4999279975891113,
          2.4999279975891113,
          1.3002368211746216,
          2.699524164199829,
          2.099836826324463,
          3.4991469383239746,
          2.4999279975891113,
          3.3010709285736084,
          3.099693536758423,
          0.7995842695236206,
          0.5000371932983398,
          2.4999279975891113,
          1.400284767150879,
          3.3010709285736084,
          3.099693536758423,
          2.4999279975891113,
          1.999643325805664,
          2.699524164199829,
          2.4999279975891113,
          2.800332546234131,
          2.4999279975891113,
          2.800332546234131,
          3.099693536758423,
          3.099693536758423,
          2.3971848487854004,
          2.2023465633392334,
          1.4997888803482056,
          3.099693536758423,
          2.099836826324463,
          2.800332546234131,
          2.4295082092285156,
          2.6004152297973633,
          2.4999279975891113,
          2.4999279975891113,
          2.299424409866333,
          2.3971848487854004,
          2.4999279975891113,
          2.3971848487854004,
          2.7968392372131348,
          2.3014156818389893,
          2.7004406452178955,
          2.4999279975891113,
          3.3010709285736084,
          1.2002825736999512,
          1.0003745555877686,
          2.4999279975891113,
          1.3001418113708496,
          3.099693536758423,
          2.4999279975891113,
          2.099836826324463,
          3.0997917652130127,
          1.999643325805664,
          1.1994001865386963,
          2.299424409866333,
          3.099693536758423,
          2.800332546234131,
          0.7001534104347229,
          2.800332546234131,
          2.0000598430633545,
          3.099693536758423,
          3.2001984119415283,
          2.6004152297973633,
          2.0000598430633545,
          0.5000371932983398,
          2.0000598430633545,
          2.800332546234131,
          1.9024702310562134,
          2.500981092453003,
          2.0000598430633545,
          2.7004406452178955,
          3.2001984119415283,
          2.0000598430633545,
          3.3010709285736084,
          2.7004406452178955,
          2.6004152297973633,
          2.299424409866333,
          2.099836826324463,
          2.299424409866333,
          2.0000598430633545,
          2.0000598430633545,
          2.6004152297973633,
          3.4991469383239746,
          3.099693536758423,
          2.4999279975891113,
          2.7968392372131348,
          2.2023465633392334,
          3.099693536758423,
          3.099693536758423,
          3.099693536758423,
          2.7004406452178955,
          2.299424409866333,
          2.099836826324463,
          2.2023465633392334,
          3.3010709285736084,
          0.5000371932983398,
          2.7004406452178955,
          2.4999279975891113,
          1.2002825736999512,
          2.0000598430633545,
          2.998406410217285,
          0.7995842695236206,
          2.4999279975891113,
          2.099836826324463,
          1.4997888803482056,
          3.099693536758423,
          2.3014156818389893,
          3.4991469383239746,
          2.800332546234131,
          2.800332546234131,
          2.7968392372131348,
          3.099693536758423,
          2.998406410217285,
          2.3014156818389893,
          2.7968392372131348,
          2.6004152297973633,
          2.4999279975891113,
          2.800332546234131,
          2.800332546234131,
          2.4999279975891113,
          2.4999279975891113,
          2.2023465633392334,
          2.0000598430633545,
          2.6004152297973633,
          2.4999279975891113,
          3.110689163208008,
          3.0997917652130127,
          2.726109504699707,
          2.299424409866333,
          2.998406410217285,
          2.299424409866333,
          2.3014156818389893,
          2.2001640796661377,
          2.800332546234131,
          2.800332546234131,
          1.0003745555877686,
          1.800459384918213,
          2.579200029373169,
          2.6004152297973633,
          2.4295082092285156,
          3.099693536758423,
          2.904651165008545,
          2.800332546234131,
          2.800332546234131,
          2.0000598430633545,
          2.2023465633392334,
          2.500981092453003,
          2.099836826324463,
          2.4999279975891113,
          2.6004152297973633,
          2.6004152297973633,
          3.099693536758423,
          2.998406410217285,
          3.099693536758423,
          1.800459384918213,
          1.4997888803482056,
          3.299734115600586,
          3.099693536758423,
          3.099693536758423,
          3.3010709285736084,
          2.4999279975891113,
          1.9024702310562134,
          2.299424409866333,
          1.3001418113708496,
          2.4999279975891113,
          2.299424409866333,
          2.800332546234131,
          2.6004152297973633,
          2.800332546234131,
          2.299424409866333,
          2.500981092453003,
          2.8992109298706055,
          2.998406410217285,
          2.4999279975891113,
          2.800332546234131,
          2.800332546234131,
          2.6004152297973633,
          3.3010709285736084,
          1.1994001865386963,
          2.4999279975891113,
          3.099693536758423,
          2.5992212295532227,
          2.099836826324463,
          2.6004152297973633,
          2.7004406452178955,
          2.099836826324463,
          3.202824592590332,
          1.800459384918213,
          2.800332546234131,
          1.800459384918213,
          2.299424409866333,
          1.800459384918213,
          3.0997917652130127,
          2.800332546234131,
          2.8992109298706055,
          1.800459384918213,
          2.7968392372131348,
          2.299424409866333,
          2.998406410217285,
          2.7004406452178955,
          2.4999279975891113,
          1.800459384918213,
          2.7968392372131348,
          2.0000598430633545,
          30.600584030151367,
          1.6941022872924805,
          3.3010709285736084,
          2.201444387435913,
          2.6004152297973633,
          2.299424409866333,
          2.7004406452178955,
          2.299424409866333,
          2.4999279975891113,
          1.3002368211746216,
          2.4999279975891113,
          2.800332546234131,
          2.800332546234131,
          2.8992109298706055,
          2.299424409866333,
          2.299424409866333,
          2.299424409866333,
          2.3971848487854004,
          2.299424409866333,
          2.0000598430633545,
          2.500981092453003,
          2.299424409866333,
          2.6004152297973633,
          2.800332546234131,
          2.299424409866333,
          1.9024702310562134,
          2.299424409866333,
          2.8992109298706055,
          3.0019612312316895,
          4.3959197998046875,
          3.699530601501465,
          2.699524164199829,
          3.3010709285736084,
          3.0019612312316895,
          2.099836826324463,
          1.800459384918213,
          1.6941022872924805,
          2.4999279975891113,
          2.0000598430633545,
          0.5000371932983398,
          1.4997888803482056,
          2.099836826324463,
          2.800332546234131,
          3.4991469383239746,
          2.7004406452178955,
          2.4999279975891113,
          2.800332546234131,
          3.099693536758423,
          2.0000598430633545,
          2.800332546234131,
          2.3014156818389893,
          2.2023465633392334,
          3.0997917652130127,
          3.099693536758423,
          1.5009074211120605,
          0.7001534104347229,
          2.8992109298706055,
          2.6004152297973633,
          2.3971848487854004,
          0.7001534104347229,
          2.3971848487854004,
          1.400284767150879,
          2.4999279975891113,
          2.6004152297973633,
          1.4997888803482056,
          2.0000598430633545,
          2.8992109298706055,
          2.7968392372131348,
          1.7973265647888184,
          2.7968392372131348,
          2.4999279975891113,
          1.4997888803482056,
          2.299424409866333,
          3.099693536758423,
          3.4991469383239746,
          3.099693536758423,
          2.6004152297973633,
          2.299424409866333,
          2.800332546234131,
          2.6004152297973633,
          3.3010709285736084,
          3.3010709285736084,
          2.4999279975891113,
          2.299424409866333,
          2.6004152297973633,
          2.6004152297973633,
          2.6004152297973633,
          1.4997888803482056,
          2.699524164199829,
          3.099693536758423,
          2.4999279975891113,
          2.3971848487854004,
          1.3001418113708496,
          1.800459384918213,
          0.5000371932983398,
          1.4997888803482056,
          2.800332546234131,
          2.4999279975891113,
          2.299424409866333,
          2.6004152297973633,
          2.998406410217285,
          2.500981092453003,
          3.099693536758423,
          2.4999279975891113,
          3.4996979236602783,
          2.800332546234131,
          3.099693536758423,
          2.4999279975891113,
          2.7004406452178955,
          1.3001418113708496,
          3.0019612312316895,
          3.110689163208008,
          3.202824592590332,
          3.699042558670044,
          2.699524164199829,
          2.7004406452178955,
          3.4120774269104004,
          2.8992109298706055,
          6.496997833251953,
          2.800332546234131,
          0.7001534104347229,
          3.0019612312316895,
          3.099693536758423,
          3.6273536682128906,
          2.0000598430633545,
          2.4999279975891113,
          2.800332546234131,
          2.998406410217285,
          2.7004406452178955,
          2.998406410217285,
          2.998406410217285,
          2.998406410217285,
          2.6004152297973633,
          2.4999279975891113,
          2.0000598430633545,
          1.3001418113708496,
          2.7004406452178955,
          3.099693536758423,
          2.4999279975891113,
          3.099693536758423,
          2.800332546234131,
          2.6004152297973633,
          2.7004406452178955,
          1.4997888803482056,
          2.998406410217285,
          1.5997308492660522,
          2.0000598430633545,
          2.299424409866333,
          1.4997888803482056,
          3.099693536758423,
          2.800332546234131,
          2.0000598430633545,
          2.3971848487854004,
          2.8992109298706055,
          1.691056489944458,
          2.998406410217285,
          1.4997888803482056,
          2.699524164199829,
          2.299424409866333,
          2.2023465633392334,
          2.0000598430633545,
          2.8992109298706055,
          3.099693536758423,
          2.4999279975891113,
          2.0000598430633545,
          2.8992109298706055,
          0.5000371932983398,
          1.800459384918213,
          2.7004406452178955,
          2.800332546234131,
          2.4999279975891113,
          2.6004152297973633,
          3.099693536758423,
          2.800332546234131,
          1.800459384918213,
          2.800332546234131,
          2.7968392372131348,
          2.800332546234131,
          2.0000598430633545,
          11.400678634643555,
          3.099693536758423,
          2.4999279975891113,
          2.4999279975891113,
          2.800332546234131,
          2.7968392372131348,
          2.6004152297973633,
          2.3014156818389893,
          2.800332546234131,
          1.4997888803482056,
          2.800332546234131,
          2.7968392372131348,
          2.7004406452178955,
          3.3010709285736084,
          2.4999279975891113,
          2.6004152297973633,
          2.800332546234131,
          2.4999279975891113,
          2.800332546234131,
          2.800332546234131,
          2.6004152297973633,
          2.4999279975891113,
          0.7995842695236206,
          1.2002825736999512,
          3.4991469383239746,
          2.500981092453003,
          2.2023465633392334,
          2.6004152297973633,
          1.800459384918213,
          2.998406410217285,
          1.1994001865386963,
          2.800332546234131,
          2.800332546234131,
          2.998406410217285,
          2.7004406452178955,
          2.6004152297973633,
          3.2077481746673584,
          2.0000598430633545,
          2.7004406452178955,
          2.4999279975891113,
          0.7995842695236206,
          3.099693536758423,
          2.7004406452178955,
          2.500981092453003,
          2.299424409866333,
          2.800332546234131,
          2.6004152297973633,
          2.800332546234131,
          2.4999279975891113,
          2.6004152297973633,
          3.099693536758423,
          2.4999279975891113,
          2.6004152297973633,
          2.7968392372131348,
          2.699524164199829,
          3.4991469383239746,
          1.800459384918213,
          2.4999279975891113,
          1.5690847635269165,
          2.800332546234131,
          1.800459384918213,
          2.4999279975891113,
          0.7001534104347229,
          2.299424409866333,
          3.1000146865844727,
          2.699524164199829,
          2.4999279975891113,
          2.2023465633392334,
          2.7004406452178955,
          2.6004152297973633,
          0.7995842695236206,
          1.1003879308700562,
          1.0997021198272705,
          1.3001418113708496,
          2.4999279975891113,
          2.4999279975891113,
          2.6004152297973633,
          2.4999279975891113,
          0.5000371932983398,
          2.4999279975891113,
          2.500981092453003,
          2.4999279975891113,
          3.099693536758423,
          3.099693536758423,
          2.800332546234131,
          2.800332546234131,
          3.099693536758423,
          2.800332546234131,
          2.800332546234131,
          0.7001534104347229,
          1.0997021198272705,
          1.5009074211120605,
          2.0000598430633545,
          2.299424409866333,
          1.800459384918213,
          2.800332546234131,
          2.7004406452178955,
          3.4873313903808594,
          3.099693536758423,
          2.998406410217285,
          1.800459384918213,
          1.4997888803482056,
          2.0000598430633545,
          2.6004152297973633,
          3.099693536758423,
          1.4997888803482056,
          2.0000598430633545,
          2.2001640796661377,
          1.1994001865386963,
          2.299424409866333,
          2.800332546234131,
          2.4999279975891113,
          2.0000598430633545,
          2.299424409866333,
          1.999643325805664,
          2.0000598430633545,
          3.099693536758423,
          9.19924259185791,
          2.6004152297973633,
          3.099693536758423,
          2.800332546234131,
          2.800332546234131,
          0.8989659547805786,
          2.800332546234131,
          2.299424409866333,
          3.0997917652130127,
          2.299424409866333,
          2.4999279975891113,
          3.3010709285736084,
          2.4999279975891113,
          3.099693536758423,
          2.299424409866333,
          0.5000371932983398,
          2.4999279975891113,
          2.4999279975891113,
          3.099693536758423,
          2.2023465633392334,
          2.4999279975891113,
          1.1003879308700562,
          3.5961596965789795,
          3.202824592590332,
          9.840777397155762,
          2.3971848487854004,
          2.800332546234131,
          2.4999279975891113,
          3.5961596965789795,
          2.6004152297973633,
          0.7995842695236206,
          2.0000598430633545,
          7.501534461975098,
          0.5000371932983398,
          1.1003879308700562,
          1.800459384918213,
          2.299424409866333,
          0.7995842695236206,
          2.0000598430633545,
          2.4999279975891113,
          3.202824592590332,
          2.800332546234131,
          2.6004152297973633,
          3.099693536758423,
          2.4999279975891113,
          2.800332546234131,
          2.4999279975891113,
          2.6004152297973633,
          2.800332546234131,
          2.0000598430633545,
          2.0000598430633545,
          1.1003879308700562,
          2.0000598430633545,
          1.3001418113708496,
          2.800332546234131,
          2.4999279975891113,
          2.4999279975891113,
          2.0000598430633545,
          1.800459384918213,
          3.3010709285736084,
          2.800332546234131,
          2.6004152297973633,
          4.3959197998046875,
          3.202824592590332,
          2.299424409866333,
          1.4997888803482056,
          2.3014156818389893,
          2.2023465633392334,
          1.999643325805664,
          2.800332546234131,
          1.9024702310562134,
          2.500981092453003,
          2.099836826324463,
          2.800332546234131,
          1.800459384918213,
          1.800459384918213,
          4.296773433685303,
          2.6004152297973633,
          3.0997917652130127,
          2.4999279975891113,
          2.800332546234131,
          2.4999279975891113,
          2.4999279975891113,
          2.4999279975891113,
          2.4999279975891113,
          2.6004152297973633,
          2.2023465633392334,
          1.800459384918213,
          2.299424409866333,
          2.500981092453003,
          2.800332546234131,
          2.0000598430633545,
          2.0000598430633545,
          2.998406410217285,
          2.2023465633392334,
          3.099693536758423,
          1.800459384918213,
          2.7004406452178955,
          2.0000598430633545,
          3.0997917652130127,
          2.0000598430633545,
          3.202824592590332,
          3.699530601501465,
          2.0000598430633545,
          2.800332546234131,
          2.998406410217285,
          2.6004152297973633,
          2.099836826324463,
          2.998406410217285,
          2.0000598430633545,
          2.099836826324463,
          2.299424409866333,
          2.0000598430633545,
          2.6004152297973633,
          2.6004152297973633,
          2.0000598430633545,
          3.4991469383239746,
          1.800459384918213,
          3.202824592590332,
          2.998406410217285,
          2.0000598430633545,
          1.5997308492660522,
          2.7004406452178955,
          2.7004406452178955,
          1.4997888803482056,
          2.0000598430633545,
          2.998406410217285,
          0.5000371932983398,
          2.4999279975891113,
          2.4999279975891113,
          3.4991469383239746,
          3.4991469383239746,
          2.800332546234131,
          2.0000598430633545,
          2.4999279975891113,
          2.800332546234131,
          1.800459384918213,
          1.5009074211120605,
          2.7004406452178955,
          1.5997308492660522,
          3.099693536758423,
          1.400284767150879,
          2.699524164199829,
          1.7973265647888184,
          2.6004152297973633,
          2.0000598430633545,
          2.998914957046509,
          2.0000598430633545,
          1.7973265647888184,
          2.4999279975891113,
          3.099693536758423,
          2.797410488128662,
          2.998406410217285,
          2.099836826324463,
          2.4999279975891113,
          3.099693536758423,
          2.4999279975891113,
          2.0000598430633545,
          2.6004152297973633,
          2.0000598430633545,
          2.699524164199829,
          2.0000598430633545,
          2.299424409866333,
          2.0000598430633545,
          2.0000598430633545,
          2.2023465633392334,
          1.4997888803482056,
          2.4999279975891113,
          2.4999279975891113,
          2.800332546234131,
          2.800332546234131,
          2.4999279975891113,
          2.6004152297973633,
          2.800332546234131,
          2.500981092453003,
          0.7995842695236206,
          2.800332546234131,
          2.6004152297973633,
          3.099693536758423,
          2.800332546234131,
          4.99936580657959,
          3.099693536758423,
          2.4999279975891113,
          2.099836826324463,
          2.4999279975891113,
          2.8992109298706055,
          2.699524164199829,
          1.0003745555877686,
          3.3010709285736084,
          2.699524164199829,
          7.901318073272705,
          3.0997917652130127,
          1.800459384918213,
          2.4999279975891113,
          2.0000598430633545,
          2.6004152297973633,
          2.7004406452178955,
          2.800332546234131,
          3.099693536758423,
          2.800332546234131,
          2.6004152297973633,
          2.7004406452178955,
          2.6004152297973633,
          2.0000598430633545,
          2.0000598430633545,
          2.299424409866333,
          0.7001534104347229,
          2.800332546234131,
          2.0000598430633545,
          2.2023465633392334,
          2.0000598430633545,
          2.4999279975891113,
          2.4999279975891113,
          2.800332546234131,
          2.299424409866333,
          2.299424409866333,
          2.299424409866333,
          2.699524164199829,
          2.800332546234131,
          2.0000598430633545,
          2.4999279975891113,
          2.299424409866333,
          3.099693536758423,
          2.4999279975891113,
          2.6004152297973633,
          2.4999279975891113,
          2.800332546234131,
          3.699530601501465,
          3.099693536758423,
          2.4999279975891113,
          2.800332546234131,
          3.202824592590332,
          2.800332546234131,
          1.3002368211746216,
          1.1003879308700562,
          2.4295082092285156,
          2.299424409866333,
          2.4999279975891113,
          2.800332546234131,
          1.3002368211746216,
          2.099928617477417,
          2.6004152297973633,
          1.4997888803482056,
          3.099693536758423,
          2.800332546234131,
          2.800332546234131,
          4.902915954589844,
          2.800332546234131,
          1.800459384918213,
          2.0000598430633545,
          2.500981092453003,
          2.998406410217285,
          2.4999279975891113,
          2.4999279975891113,
          2.6004152297973633,
          2.3971848487854004,
          2.8992109298706055,
          2.904651165008545,
          2.0000598430633545,
          3.4991469383239746,
          3.099693536758423,
          2.0000598430633545,
          3.099693536758423,
          2.6004152297973633,
          3.4996979236602783,
          2.299424409866333,
          2.800332546234131,
          1.4997888803482056,
          1.3001418113708496,
          2.500981092453003,
          2.2023465633392334,
          2.299424409866333
         ],
         "yaxis": "y"
        }
       ],
       "layout": {
        "legend": {
         "tracegroupgap": 0
        },
        "template": {
         "data": {
          "bar": [
           {
            "error_x": {
             "color": "#2a3f5f"
            },
            "error_y": {
             "color": "#2a3f5f"
            },
            "marker": {
             "line": {
              "color": "#E5ECF6",
              "width": 0.5
             },
             "pattern": {
              "fillmode": "overlay",
              "size": 10,
              "solidity": 0.2
             }
            },
            "type": "bar"
           }
          ],
          "barpolar": [
           {
            "marker": {
             "line": {
              "color": "#E5ECF6",
              "width": 0.5
             },
             "pattern": {
              "fillmode": "overlay",
              "size": 10,
              "solidity": 0.2
             }
            },
            "type": "barpolar"
           }
          ],
          "carpet": [
           {
            "aaxis": {
             "endlinecolor": "#2a3f5f",
             "gridcolor": "white",
             "linecolor": "white",
             "minorgridcolor": "white",
             "startlinecolor": "#2a3f5f"
            },
            "baxis": {
             "endlinecolor": "#2a3f5f",
             "gridcolor": "white",
             "linecolor": "white",
             "minorgridcolor": "white",
             "startlinecolor": "#2a3f5f"
            },
            "type": "carpet"
           }
          ],
          "choropleth": [
           {
            "colorbar": {
             "outlinewidth": 0,
             "ticks": ""
            },
            "type": "choropleth"
           }
          ],
          "contour": [
           {
            "colorbar": {
             "outlinewidth": 0,
             "ticks": ""
            },
            "colorscale": [
             [
              0,
              "#0d0887"
             ],
             [
              0.1111111111111111,
              "#46039f"
             ],
             [
              0.2222222222222222,
              "#7201a8"
             ],
             [
              0.3333333333333333,
              "#9c179e"
             ],
             [
              0.4444444444444444,
              "#bd3786"
             ],
             [
              0.5555555555555556,
              "#d8576b"
             ],
             [
              0.6666666666666666,
              "#ed7953"
             ],
             [
              0.7777777777777778,
              "#fb9f3a"
             ],
             [
              0.8888888888888888,
              "#fdca26"
             ],
             [
              1,
              "#f0f921"
             ]
            ],
            "type": "contour"
           }
          ],
          "contourcarpet": [
           {
            "colorbar": {
             "outlinewidth": 0,
             "ticks": ""
            },
            "type": "contourcarpet"
           }
          ],
          "heatmap": [
           {
            "colorbar": {
             "outlinewidth": 0,
             "ticks": ""
            },
            "colorscale": [
             [
              0,
              "#0d0887"
             ],
             [
              0.1111111111111111,
              "#46039f"
             ],
             [
              0.2222222222222222,
              "#7201a8"
             ],
             [
              0.3333333333333333,
              "#9c179e"
             ],
             [
              0.4444444444444444,
              "#bd3786"
             ],
             [
              0.5555555555555556,
              "#d8576b"
             ],
             [
              0.6666666666666666,
              "#ed7953"
             ],
             [
              0.7777777777777778,
              "#fb9f3a"
             ],
             [
              0.8888888888888888,
              "#fdca26"
             ],
             [
              1,
              "#f0f921"
             ]
            ],
            "type": "heatmap"
           }
          ],
          "heatmapgl": [
           {
            "colorbar": {
             "outlinewidth": 0,
             "ticks": ""
            },
            "colorscale": [
             [
              0,
              "#0d0887"
             ],
             [
              0.1111111111111111,
              "#46039f"
             ],
             [
              0.2222222222222222,
              "#7201a8"
             ],
             [
              0.3333333333333333,
              "#9c179e"
             ],
             [
              0.4444444444444444,
              "#bd3786"
             ],
             [
              0.5555555555555556,
              "#d8576b"
             ],
             [
              0.6666666666666666,
              "#ed7953"
             ],
             [
              0.7777777777777778,
              "#fb9f3a"
             ],
             [
              0.8888888888888888,
              "#fdca26"
             ],
             [
              1,
              "#f0f921"
             ]
            ],
            "type": "heatmapgl"
           }
          ],
          "histogram": [
           {
            "marker": {
             "pattern": {
              "fillmode": "overlay",
              "size": 10,
              "solidity": 0.2
             }
            },
            "type": "histogram"
           }
          ],
          "histogram2d": [
           {
            "colorbar": {
             "outlinewidth": 0,
             "ticks": ""
            },
            "colorscale": [
             [
              0,
              "#0d0887"
             ],
             [
              0.1111111111111111,
              "#46039f"
             ],
             [
              0.2222222222222222,
              "#7201a8"
             ],
             [
              0.3333333333333333,
              "#9c179e"
             ],
             [
              0.4444444444444444,
              "#bd3786"
             ],
             [
              0.5555555555555556,
              "#d8576b"
             ],
             [
              0.6666666666666666,
              "#ed7953"
             ],
             [
              0.7777777777777778,
              "#fb9f3a"
             ],
             [
              0.8888888888888888,
              "#fdca26"
             ],
             [
              1,
              "#f0f921"
             ]
            ],
            "type": "histogram2d"
           }
          ],
          "histogram2dcontour": [
           {
            "colorbar": {
             "outlinewidth": 0,
             "ticks": ""
            },
            "colorscale": [
             [
              0,
              "#0d0887"
             ],
             [
              0.1111111111111111,
              "#46039f"
             ],
             [
              0.2222222222222222,
              "#7201a8"
             ],
             [
              0.3333333333333333,
              "#9c179e"
             ],
             [
              0.4444444444444444,
              "#bd3786"
             ],
             [
              0.5555555555555556,
              "#d8576b"
             ],
             [
              0.6666666666666666,
              "#ed7953"
             ],
             [
              0.7777777777777778,
              "#fb9f3a"
             ],
             [
              0.8888888888888888,
              "#fdca26"
             ],
             [
              1,
              "#f0f921"
             ]
            ],
            "type": "histogram2dcontour"
           }
          ],
          "mesh3d": [
           {
            "colorbar": {
             "outlinewidth": 0,
             "ticks": ""
            },
            "type": "mesh3d"
           }
          ],
          "parcoords": [
           {
            "line": {
             "colorbar": {
              "outlinewidth": 0,
              "ticks": ""
             }
            },
            "type": "parcoords"
           }
          ],
          "pie": [
           {
            "automargin": true,
            "type": "pie"
           }
          ],
          "scatter": [
           {
            "fillpattern": {
             "fillmode": "overlay",
             "size": 10,
             "solidity": 0.2
            },
            "type": "scatter"
           }
          ],
          "scatter3d": [
           {
            "line": {
             "colorbar": {
              "outlinewidth": 0,
              "ticks": ""
             }
            },
            "marker": {
             "colorbar": {
              "outlinewidth": 0,
              "ticks": ""
             }
            },
            "type": "scatter3d"
           }
          ],
          "scattercarpet": [
           {
            "marker": {
             "colorbar": {
              "outlinewidth": 0,
              "ticks": ""
             }
            },
            "type": "scattercarpet"
           }
          ],
          "scattergeo": [
           {
            "marker": {
             "colorbar": {
              "outlinewidth": 0,
              "ticks": ""
             }
            },
            "type": "scattergeo"
           }
          ],
          "scattergl": [
           {
            "marker": {
             "colorbar": {
              "outlinewidth": 0,
              "ticks": ""
             }
            },
            "type": "scattergl"
           }
          ],
          "scattermapbox": [
           {
            "marker": {
             "colorbar": {
              "outlinewidth": 0,
              "ticks": ""
             }
            },
            "type": "scattermapbox"
           }
          ],
          "scatterpolar": [
           {
            "marker": {
             "colorbar": {
              "outlinewidth": 0,
              "ticks": ""
             }
            },
            "type": "scatterpolar"
           }
          ],
          "scatterpolargl": [
           {
            "marker": {
             "colorbar": {
              "outlinewidth": 0,
              "ticks": ""
             }
            },
            "type": "scatterpolargl"
           }
          ],
          "scatterternary": [
           {
            "marker": {
             "colorbar": {
              "outlinewidth": 0,
              "ticks": ""
             }
            },
            "type": "scatterternary"
           }
          ],
          "surface": [
           {
            "colorbar": {
             "outlinewidth": 0,
             "ticks": ""
            },
            "colorscale": [
             [
              0,
              "#0d0887"
             ],
             [
              0.1111111111111111,
              "#46039f"
             ],
             [
              0.2222222222222222,
              "#7201a8"
             ],
             [
              0.3333333333333333,
              "#9c179e"
             ],
             [
              0.4444444444444444,
              "#bd3786"
             ],
             [
              0.5555555555555556,
              "#d8576b"
             ],
             [
              0.6666666666666666,
              "#ed7953"
             ],
             [
              0.7777777777777778,
              "#fb9f3a"
             ],
             [
              0.8888888888888888,
              "#fdca26"
             ],
             [
              1,
              "#f0f921"
             ]
            ],
            "type": "surface"
           }
          ],
          "table": [
           {
            "cells": {
             "fill": {
              "color": "#EBF0F8"
             },
             "line": {
              "color": "white"
             }
            },
            "header": {
             "fill": {
              "color": "#C8D4E3"
             },
             "line": {
              "color": "white"
             }
            },
            "type": "table"
           }
          ]
         },
         "layout": {
          "annotationdefaults": {
           "arrowcolor": "#2a3f5f",
           "arrowhead": 0,
           "arrowwidth": 1
          },
          "autotypenumbers": "strict",
          "coloraxis": {
           "colorbar": {
            "outlinewidth": 0,
            "ticks": ""
           }
          },
          "colorscale": {
           "diverging": [
            [
             0,
             "#8e0152"
            ],
            [
             0.1,
             "#c51b7d"
            ],
            [
             0.2,
             "#de77ae"
            ],
            [
             0.3,
             "#f1b6da"
            ],
            [
             0.4,
             "#fde0ef"
            ],
            [
             0.5,
             "#f7f7f7"
            ],
            [
             0.6,
             "#e6f5d0"
            ],
            [
             0.7,
             "#b8e186"
            ],
            [
             0.8,
             "#7fbc41"
            ],
            [
             0.9,
             "#4d9221"
            ],
            [
             1,
             "#276419"
            ]
           ],
           "sequential": [
            [
             0,
             "#0d0887"
            ],
            [
             0.1111111111111111,
             "#46039f"
            ],
            [
             0.2222222222222222,
             "#7201a8"
            ],
            [
             0.3333333333333333,
             "#9c179e"
            ],
            [
             0.4444444444444444,
             "#bd3786"
            ],
            [
             0.5555555555555556,
             "#d8576b"
            ],
            [
             0.6666666666666666,
             "#ed7953"
            ],
            [
             0.7777777777777778,
             "#fb9f3a"
            ],
            [
             0.8888888888888888,
             "#fdca26"
            ],
            [
             1,
             "#f0f921"
            ]
           ],
           "sequentialminus": [
            [
             0,
             "#0d0887"
            ],
            [
             0.1111111111111111,
             "#46039f"
            ],
            [
             0.2222222222222222,
             "#7201a8"
            ],
            [
             0.3333333333333333,
             "#9c179e"
            ],
            [
             0.4444444444444444,
             "#bd3786"
            ],
            [
             0.5555555555555556,
             "#d8576b"
            ],
            [
             0.6666666666666666,
             "#ed7953"
            ],
            [
             0.7777777777777778,
             "#fb9f3a"
            ],
            [
             0.8888888888888888,
             "#fdca26"
            ],
            [
             1,
             "#f0f921"
            ]
           ]
          },
          "colorway": [
           "#636efa",
           "#EF553B",
           "#00cc96",
           "#ab63fa",
           "#FFA15A",
           "#19d3f3",
           "#FF6692",
           "#B6E880",
           "#FF97FF",
           "#FECB52"
          ],
          "font": {
           "color": "#2a3f5f"
          },
          "geo": {
           "bgcolor": "white",
           "lakecolor": "white",
           "landcolor": "#E5ECF6",
           "showlakes": true,
           "showland": true,
           "subunitcolor": "white"
          },
          "hoverlabel": {
           "align": "left"
          },
          "hovermode": "closest",
          "mapbox": {
           "style": "light"
          },
          "paper_bgcolor": "white",
          "plot_bgcolor": "#E5ECF6",
          "polar": {
           "angularaxis": {
            "gridcolor": "white",
            "linecolor": "white",
            "ticks": ""
           },
           "bgcolor": "#E5ECF6",
           "radialaxis": {
            "gridcolor": "white",
            "linecolor": "white",
            "ticks": ""
           }
          },
          "scene": {
           "xaxis": {
            "backgroundcolor": "#E5ECF6",
            "gridcolor": "white",
            "gridwidth": 2,
            "linecolor": "white",
            "showbackground": true,
            "ticks": "",
            "zerolinecolor": "white"
           },
           "yaxis": {
            "backgroundcolor": "#E5ECF6",
            "gridcolor": "white",
            "gridwidth": 2,
            "linecolor": "white",
            "showbackground": true,
            "ticks": "",
            "zerolinecolor": "white"
           },
           "zaxis": {
            "backgroundcolor": "#E5ECF6",
            "gridcolor": "white",
            "gridwidth": 2,
            "linecolor": "white",
            "showbackground": true,
            "ticks": "",
            "zerolinecolor": "white"
           }
          },
          "shapedefaults": {
           "line": {
            "color": "#2a3f5f"
           }
          },
          "ternary": {
           "aaxis": {
            "gridcolor": "white",
            "linecolor": "white",
            "ticks": ""
           },
           "baxis": {
            "gridcolor": "white",
            "linecolor": "white",
            "ticks": ""
           },
           "bgcolor": "#E5ECF6",
           "caxis": {
            "gridcolor": "white",
            "linecolor": "white",
            "ticks": ""
           }
          },
          "title": {
           "x": 0.05
          },
          "xaxis": {
           "automargin": true,
           "gridcolor": "white",
           "linecolor": "white",
           "ticks": "",
           "title": {
            "standoff": 15
           },
           "zerolinecolor": "white",
           "zerolinewidth": 2
          },
          "yaxis": {
           "automargin": true,
           "gridcolor": "white",
           "linecolor": "white",
           "ticks": "",
           "title": {
            "standoff": 15
           },
           "zerolinecolor": "white",
           "zerolinewidth": 2
          }
         }
        },
        "title": {
         "text": "Predicted Score vs Predicted Sentiment"
        },
        "xaxis": {
         "anchor": "y",
         "domain": [
          0,
          1
         ],
         "title": {
          "text": "Predicted Sentiment"
         }
        },
        "yaxis": {
         "anchor": "x",
         "domain": [
          0,
          1
         ],
         "title": {
          "text": "Predicted Score"
         }
        }
       }
      }
     },
     "metadata": {},
     "output_type": "display_data"
    },
    {
     "data": {
      "application/vnd.plotly.v1+json": {
       "config": {
        "plotlyServerURL": "https://plot.ly"
       },
       "data": [
        {
         "hovertemplate": "Helpful Voting=%{x}<br>Predicted Score=%{y}<extra></extra>",
         "legendgroup": "",
         "marker": {
          "color": "#636efa",
          "symbol": "circle"
         },
         "mode": "markers",
         "name": "",
         "showlegend": false,
         "type": "scattergl",
         "x": [
          2,
          0,
          15,
          0,
          0,
          0,
          2,
          0,
          0,
          0,
          0,
          35,
          0,
          0,
          1,
          0,
          0,
          0,
          0,
          0,
          0,
          1,
          1,
          20,
          0,
          0,
          37,
          0,
          3,
          0,
          0,
          0,
          0,
          0,
          0,
          0,
          2,
          0,
          5,
          0,
          1,
          0,
          0,
          0,
          0,
          0,
          0,
          0,
          0,
          0,
          6,
          11,
          1,
          1,
          1,
          1,
          1,
          0,
          0,
          0,
          0,
          0,
          0,
          0,
          0,
          2,
          2,
          0,
          0,
          2,
          2,
          0,
          0,
          0,
          1,
          0,
          0,
          4,
          0,
          1,
          0,
          0,
          0,
          1,
          0,
          0,
          0,
          20,
          0,
          3,
          0,
          0,
          0,
          0,
          2,
          0,
          0,
          0,
          4,
          0,
          0,
          1,
          0,
          0,
          0,
          0,
          3,
          0,
          0,
          0,
          0,
          0,
          0,
          0,
          0,
          0,
          1,
          1,
          0,
          2,
          0,
          0,
          2,
          0,
          1,
          1,
          0,
          2,
          2,
          1,
          1,
          0,
          1,
          0,
          1,
          0,
          1,
          1,
          0,
          0,
          3,
          0,
          0,
          0,
          0,
          2,
          0,
          0,
          0,
          1,
          0,
          0,
          0,
          0,
          2,
          22,
          0,
          0,
          0,
          2,
          1,
          0,
          0,
          0,
          0,
          0,
          2,
          0,
          0,
          0,
          3,
          1,
          0,
          1,
          1,
          0,
          0,
          0,
          0,
          0,
          0,
          182,
          0,
          1,
          1,
          0,
          0,
          0,
          0,
          0,
          0,
          0,
          1,
          0,
          0,
          0,
          0,
          0,
          1,
          0,
          0,
          0,
          0,
          2,
          0,
          1,
          0,
          0,
          0,
          3,
          0,
          0,
          0,
          0,
          2,
          0,
          0,
          2,
          1,
          0,
          0,
          3,
          2,
          0,
          1,
          0,
          0,
          0,
          0,
          1,
          2,
          0,
          0,
          1,
          1,
          0,
          2,
          0,
          0,
          0,
          0,
          0,
          0,
          0,
          2,
          0,
          0,
          2,
          0,
          0,
          0,
          0,
          0,
          0,
          0,
          2,
          0,
          2,
          4,
          0,
          0,
          1,
          2,
          0,
          0,
          1,
          0,
          0,
          0,
          2,
          0,
          0,
          1,
          0,
          1,
          1,
          0,
          0,
          0,
          0,
          0,
          0,
          0,
          0,
          0,
          0,
          0,
          0,
          0,
          0,
          1,
          2,
          2,
          1,
          0,
          0,
          0,
          0,
          0,
          0,
          2,
          2,
          0,
          0,
          0,
          0,
          0,
          1,
          0,
          0,
          0,
          2,
          0,
          1,
          0,
          1,
          0,
          48,
          0,
          3,
          1,
          0,
          1,
          0,
          0,
          0,
          1,
          1,
          1,
          0,
          0,
          0,
          0,
          0,
          1,
          1,
          4,
          3,
          1,
          0,
          2,
          20,
          1,
          2,
          29,
          1,
          2,
          0,
          0,
          0,
          0,
          0,
          0,
          0,
          0,
          0,
          0,
          0,
          0,
          1,
          0,
          0,
          0,
          2,
          0,
          0,
          0,
          0,
          0,
          1,
          0,
          0,
          0,
          0,
          0,
          0,
          2,
          0,
          0,
          1,
          0,
          0,
          0,
          0,
          3,
          2,
          1,
          0,
          2,
          0,
          0,
          1,
          4,
          0,
          2,
          0,
          0,
          0,
          0,
          1,
          2,
          0,
          2,
          0,
          1,
          0,
          0,
          0,
          0,
          2,
          1,
          0,
          0,
          1,
          2,
          0,
          0,
          0,
          0,
          0,
          0,
          2,
          1,
          0,
          0,
          0,
          0,
          2,
          0,
          0,
          0,
          0,
          2,
          0,
          2,
          1,
          1,
          1,
          0,
          1,
          2,
          0,
          0,
          0,
          0,
          0,
          0,
          3,
          1,
          1,
          0,
          0,
          0,
          1,
          0,
          0,
          0,
          3,
          0,
          0,
          0,
          0,
          0,
          2,
          1,
          0,
          1,
          3,
          0,
          1,
          1,
          0,
          0,
          0,
          0,
          0,
          0,
          0,
          2,
          0,
          0,
          1,
          1,
          0,
          0,
          0,
          1,
          0,
          0,
          1,
          1,
          0,
          1,
          0,
          2,
          0,
          1,
          0,
          0,
          0,
          0,
          0,
          1,
          2,
          0,
          0,
          1,
          0,
          1,
          1,
          1,
          0,
          0,
          0,
          0,
          0,
          0,
          1,
          0,
          0,
          0,
          4,
          3,
          4,
          0,
          1,
          0,
          1,
          2,
          0,
          0,
          0,
          0,
          3,
          0,
          2,
          0,
          3,
          0,
          0,
          0,
          1,
          1,
          0,
          0,
          0,
          0,
          0,
          1,
          0,
          0,
          0,
          4,
          0,
          0,
          1,
          0,
          2,
          0,
          0,
          0,
          0,
          0,
          0,
          0,
          0,
          1,
          2,
          1,
          0,
          0,
          0,
          0,
          1,
          1,
          0,
          0,
          4,
          0,
          0,
          1,
          0,
          2,
          0,
          0,
          0,
          0,
          0,
          3,
          0,
          2,
          0,
          1,
          0,
          1,
          1,
          0,
          0,
          1,
          0,
          144,
          2,
          1,
          3,
          0,
          0,
          1,
          0,
          0,
          1,
          0,
          0,
          0,
          2,
          0,
          0,
          0,
          2,
          0,
          0,
          1,
          0,
          0,
          0,
          0,
          2,
          0,
          2,
          2,
          8,
          3,
          2,
          1,
          2,
          0,
          0,
          2,
          0,
          0,
          0,
          0,
          0,
          0,
          2,
          1,
          0,
          0,
          0,
          0,
          0,
          1,
          1,
          3,
          0,
          1,
          1,
          2,
          0,
          2,
          1,
          2,
          2,
          0,
          0,
          0,
          0,
          2,
          1,
          1,
          1,
          0,
          0,
          0,
          0,
          2,
          0,
          0,
          0,
          0,
          0,
          1,
          1,
          0,
          0,
          0,
          0,
          0,
          0,
          2,
          0,
          0,
          2,
          0,
          0,
          0,
          0,
          0,
          0,
          0,
          0,
          1,
          1,
          0,
          0,
          5,
          0,
          0,
          0,
          1,
          0,
          2,
          4,
          2,
          6,
          2,
          1,
          3,
          2,
          21,
          0,
          1,
          2,
          0,
          11,
          0,
          0,
          0,
          1,
          1,
          1,
          1,
          1,
          0,
          0,
          0,
          0,
          1,
          0,
          0,
          0,
          0,
          0,
          1,
          0,
          1,
          0,
          0,
          0,
          0,
          0,
          0,
          0,
          2,
          2,
          1,
          1,
          0,
          2,
          0,
          1,
          0,
          2,
          0,
          0,
          0,
          2,
          0,
          0,
          1,
          0,
          0,
          0,
          0,
          0,
          0,
          0,
          1,
          0,
          0,
          47,
          0,
          0,
          0,
          0,
          1,
          0,
          1,
          0,
          0,
          0,
          1,
          1,
          1,
          0,
          0,
          0,
          0,
          0,
          0,
          0,
          0,
          0,
          2,
          2,
          1,
          1,
          0,
          0,
          1,
          1,
          0,
          0,
          1,
          1,
          0,
          6,
          0,
          1,
          0,
          0,
          0,
          1,
          1,
          0,
          0,
          0,
          0,
          0,
          0,
          0,
          0,
          0,
          1,
          2,
          2,
          0,
          0,
          3,
          0,
          0,
          0,
          1,
          0,
          9,
          2,
          0,
          1,
          1,
          0,
          0,
          0,
          3,
          0,
          0,
          0,
          0,
          0,
          0,
          0,
          1,
          0,
          0,
          0,
          0,
          0,
          0,
          0,
          0,
          1,
          3,
          1,
          0,
          0,
          0,
          0,
          1,
          6,
          0,
          1,
          0,
          0,
          0,
          0,
          0,
          0,
          0,
          2,
          1,
          0,
          0,
          0,
          0,
          0,
          1,
          0,
          0,
          32,
          0,
          0,
          0,
          0,
          2,
          0,
          0,
          3,
          0,
          0,
          1,
          0,
          0,
          0,
          0,
          0,
          0,
          0,
          1,
          0,
          0,
          4,
          2,
          42,
          2,
          0,
          0,
          4,
          0,
          0,
          0,
          22,
          0,
          0,
          0,
          0,
          0,
          0,
          0,
          2,
          0,
          0,
          0,
          0,
          0,
          0,
          0,
          0,
          0,
          0,
          0,
          0,
          0,
          0,
          0,
          0,
          0,
          0,
          1,
          0,
          0,
          8,
          2,
          0,
          0,
          1,
          1,
          1,
          0,
          2,
          1,
          0,
          0,
          0,
          0,
          6,
          0,
          3,
          0,
          0,
          0,
          0,
          0,
          0,
          0,
          1,
          0,
          0,
          1,
          0,
          0,
          0,
          1,
          1,
          0,
          0,
          1,
          0,
          3,
          0,
          2,
          3,
          0,
          0,
          1,
          0,
          0,
          1,
          0,
          0,
          0,
          0,
          0,
          0,
          0,
          2,
          0,
          2,
          1,
          0,
          0,
          1,
          1,
          0,
          0,
          1,
          0,
          0,
          0,
          2,
          2,
          0,
          0,
          0,
          0,
          0,
          1,
          1,
          0,
          0,
          2,
          2,
          1,
          0,
          0,
          11,
          0,
          1,
          0,
          0,
          4,
          1,
          0,
          0,
          0,
          0,
          0,
          0,
          0,
          2,
          0,
          0,
          0,
          0,
          1,
          0,
          0,
          0,
          0,
          0,
          0,
          0,
          0,
          1,
          0,
          0,
          0,
          0,
          0,
          15,
          0,
          0,
          0,
          0,
          2,
          2,
          0,
          1,
          2,
          27,
          3,
          0,
          0,
          0,
          0,
          1,
          0,
          0,
          0,
          0,
          1,
          0,
          0,
          0,
          0,
          1,
          0,
          0,
          1,
          0,
          0,
          0,
          0,
          0,
          0,
          0,
          2,
          0,
          0,
          0,
          0,
          0,
          0,
          0,
          0,
          0,
          3,
          0,
          0,
          0,
          2,
          0,
          1,
          0,
          2,
          0,
          0,
          0,
          1,
          8,
          0,
          0,
          0,
          0,
          0,
          12,
          0,
          0,
          0,
          1,
          1,
          0,
          0,
          0,
          2,
          2,
          3,
          0,
          2,
          0,
          0,
          0,
          0,
          5,
          0,
          0,
          0,
          0,
          1,
          1,
          0
         ],
         "xaxis": "x",
         "y": [
          3.4991469383239746,
          2.800332546234131,
          5.137370586395264,
          2.0000598430633545,
          3.099693536758423,
          1.4997888803482056,
          3.0019612312316895,
          2.4999279975891113,
          2.6004152297973633,
          3.099693536758423,
          2.4999279975891113,
          9.498631477355957,
          3.099693536758423,
          2.6004152297973633,
          1.1994001865386963,
          2.099836826324463,
          3.099693536758423,
          2.6004152297973633,
          2.800332546234131,
          2.0000598430633545,
          3.099693536758423,
          3.3010709285736084,
          2.3014156818389893,
          6.495896816253662,
          2.800332546234131,
          2.4999279975891113,
          9.702077865600586,
          2.6004152297973633,
          2.59883189201355,
          1.4997888803482056,
          3.099693536758423,
          2.6004152297973633,
          3.099693536758423,
          2.299424409866333,
          2.800332546234131,
          2.299424409866333,
          3.0019612312316895,
          2.6004152297973633,
          3.6038599014282227,
          2.800332546234131,
          2.998406410217285,
          2.800332546234131,
          2.800332546234131,
          2.800332546234131,
          2.6004152297973633,
          2.099836826324463,
          1.4997888803482056,
          2.0000598430633545,
          2.299424409866333,
          2.800332546234131,
          4.010128974914551,
          3.595391273498535,
          2.7004406452178955,
          2.500981092453003,
          2.2023465633392334,
          1.691056489944458,
          2.7004406452178955,
          2.0000598430633545,
          2.6004152297973633,
          3.099693536758423,
          2.800332546234131,
          2.299424409866333,
          2.800332546234131,
          1.800459384918213,
          2.800332546234131,
          3.4991469383239746,
          2.8992109298706055,
          1.5997308492660522,
          2.4999279975891113,
          2.699524164199829,
          3.202824592590332,
          2.4999279975891113,
          3.099693536758423,
          2.800332546234131,
          1.999643325805664,
          2.299424409866333,
          2.800332546234131,
          3.299734115600586,
          3.099693536758423,
          2.500981092453003,
          2.800332546234131,
          2.800332546234131,
          2.6004152297973633,
          1.999643325805664,
          2.0000598430633545,
          2.800332546234131,
          3.099693536758423,
          6.495896816253662,
          2.800332546234131,
          2.59883189201355,
          3.099693536758423,
          2.0000598430633545,
          2.800332546234131,
          2.800332546234131,
          1.9024702310562134,
          2.4999279975891113,
          1.4997888803482056,
          2.4999279975891113,
          3.5961596965789795,
          2.299424409866333,
          2.299424409866333,
          2.998406410217285,
          3.099693536758423,
          2.800332546234131,
          2.4999279975891113,
          3.099693536758423,
          3.0997917652130127,
          2.299424409866333,
          2.099836826324463,
          2.299424409866333,
          3.099693536758423,
          1.4997888803482056,
          2.299424409866333,
          2.099836826324463,
          2.099836826324463,
          2.4999279975891113,
          3.3010709285736084,
          2.7004406452178955,
          2.299424409866333,
          2.8992109298706055,
          2.6004152297973633,
          2.800332546234131,
          2.3971848487854004,
          2.800332546234131,
          2.7004406452178955,
          2.500981092453003,
          2.4999279975891113,
          3.0019612312316895,
          1.2002825736999512,
          2.998406410217285,
          2.998406410217285,
          0.5000371932983398,
          1.0042273998260498,
          2.099836826324463,
          2.998406410217285,
          2.0000598430633545,
          2.998406410217285,
          2.998406410217285,
          2.4999279975891113,
          2.099836826324463,
          2.656461477279663,
          2.4999279975891113,
          1.4997888803482056,
          3.099693536758423,
          3.099693536758423,
          2.699524164199829,
          2.0000598430633545,
          2.299424409866333,
          1.0003745555877686,
          2.998406410217285,
          2.800332546234131,
          2.299424409866333,
          2.299424409866333,
          2.299424409866333,
          2.2001640796661377,
          7.330210208892822,
          2.800332546234131,
          2.800332546234131,
          2.4999279975891113,
          3.4991469383239746,
          2.2023465633392334,
          2.6004152297973633,
          3.099693536758423,
          2.6004152297973633,
          2.0000598430633545,
          2.800332546234131,
          3.202824592590332,
          2.6004152297973633,
          2.0000598430633545,
          2.800332546234131,
          3.699530601501465,
          2.7968392372131348,
          2.800332546234131,
          2.7004406452178955,
          2.7004406452178955,
          3.099693536758423,
          2.299424409866333,
          2.4999279975891113,
          1.4997888803482056,
          2.299424409866333,
          1.4997888803482056,
          39.499847412109375,
          2.800332546234131,
          2.7004406452178955,
          2.7004406452178955,
          2.4999279975891113,
          2.800332546234131,
          2.800332546234131,
          2.6004152297973633,
          2.299424409866333,
          2.299424409866333,
          2.6004152297973633,
          2.998406410217285,
          2.800332546234131,
          3.099693536758423,
          2.0000598430633545,
          2.6004152297973633,
          1.1003879308700562,
          2.998406410217285,
          2.299424409866333,
          2.800332546234131,
          3.099693536758423,
          2.0000598430633545,
          3.0019612312316895,
          2.4999279975891113,
          2.998406410217285,
          2.6004152297973633,
          2.0000598430633545,
          2.800332546234131,
          3.699530601501465,
          3.099693536758423,
          3.099693536758423,
          2.4999279975891113,
          2.299424409866333,
          3.202824592590332,
          2.6004152297973633,
          2.6004152297973633,
          3.0019612312316895,
          2.500981092453003,
          2.800332546234131,
          2.6004152297973633,
          3.2001984119415283,
          3.0019612312316895,
          2.800332546234131,
          2.7968392372131348,
          2.800332546234131,
          2.800332546234131,
          1.4997888803482056,
          2.800332546234131,
          2.500981092453003,
          2.3971848487854004,
          2.800332546234131,
          2.0000598430633545,
          2.500981092453003,
          2.500981092453003,
          2.0000598430633545,
          1.2002825736999512,
          1.4997888803482056,
          3.099693536758423,
          2.299424409866333,
          2.800332546234131,
          2.4999279975891113,
          1.4997888803482056,
          2.0000598430633545,
          3.4991469383239746,
          2.800332546234131,
          2.800332546234131,
          2.3971848487854004,
          2.800332546234131,
          2.4999279975891113,
          2.4999279975891113,
          2.800332546234131,
          2.800332546234131,
          2.299424409866333,
          2.800332546234131,
          2.8992109298706055,
          2.299424409866333,
          2.8992109298706055,
          3.5961596965789795,
          2.4999279975891113,
          3.099693536758423,
          2.3014156818389893,
          3.202824592590332,
          3.099693536758423,
          2.6004152297973633,
          2.2023465633392334,
          2.299424409866333,
          1.800459384918213,
          1.4997888803482056,
          3.202824592590332,
          3.099693536758423,
          2.299424409866333,
          2.3014156818389893,
          2.299424409866333,
          2.2023465633392334,
          2.998406410217285,
          0.5000371932983398,
          2.6004152297973633,
          2.800332546234131,
          2.6004152297973633,
          2.4999279975891113,
          2.800332546234131,
          2.099836826324463,
          1.3001418113708496,
          2.800332546234131,
          2.299424409866333,
          2.800332546234131,
          1.4997888803482056,
          2.6004152297973633,
          2.800332546234131,
          2.998406410217285,
          3.4991469383239746,
          2.8992109298706055,
          2.998406410217285,
          3.099693536758423,
          2.299424409866333,
          1.800459384918213,
          2.4999279975891113,
          2.4999279975891113,
          2.4999279975891113,
          2.8992109298706055,
          2.8992109298706055,
          3.099693536758423,
          2.4999279975891113,
          2.099836826324463,
          2.800332546234131,
          2.6004152297973633,
          2.500981092453003,
          1.800459384918213,
          2.800332546234131,
          3.099693536758423,
          3.202824592590332,
          2.800332546234131,
          2.2023465633392334,
          2.099836826324463,
          2.7968392372131348,
          3.099693536758423,
          11.698114395141602,
          2.299424409866333,
          2.1426637172698975,
          3.3010709285736084,
          2.0000598430633545,
          2.500981092453003,
          2.299424409866333,
          1.0003745555877686,
          2.0000598430633545,
          2.998406410217285,
          2.2023465633392334,
          1.691056489944458,
          2.4999279975891113,
          2.4999279975891113,
          3.099693536758423,
          2.800332546234131,
          2.800332546234131,
          2.998406410217285,
          2.998406410217285,
          3.5961596965789795,
          2.904651165008545,
          2.7004406452178955,
          3.099693536758423,
          3.4991469383239746,
          6.304926872253418,
          2.500981092453003,
          3.202824592590332,
          7.846717357635498,
          2.7004406452178955,
          2.3971848487854004,
          0.7995842695236206,
          2.6004152297973633,
          2.4999279975891113,
          2.099836826324463,
          2.800332546234131,
          2.800332546234131,
          3.099693536758423,
          2.6004152297973633,
          2.299424409866333,
          3.099693536758423,
          2.0000598430633545,
          1.5997308492660522,
          3.3010709285736084,
          2.800332546234131,
          2.6004152297973633,
          2.299424409866333,
          3.0019612312316895,
          2.4999279975891113,
          2.4999279975891113,
          2.6004152297973633,
          2.800332546234131,
          2.800332546234131,
          2.7004406452178955,
          2.800332546234131,
          2.6004152297973633,
          2.0000598430633545,
          2.299424409866333,
          2.6004152297973633,
          2.299424409866333,
          2.2001640796661377,
          2.6004152297973633,
          2.099836826324463,
          1.691056489944458,
          2.4999279975891113,
          2.0000598430633545,
          2.299424409866333,
          3.099693536758423,
          2.59883189201355,
          3.4991469383239746,
          2.998406410217285,
          2.800332546234131,
          2.8992109298706055,
          2.0000598430633545,
          1.4997888803482056,
          3.3010709285736084,
          3.3952250480651855,
          2.0000598430633545,
          2.3971848487854004,
          2.099836826324463,
          2.800332546234131,
          2.4999279975891113,
          2.4999279975891113,
          1.3002368211746216,
          2.699524164199829,
          2.099836826324463,
          3.4991469383239746,
          2.4999279975891113,
          3.3010709285736084,
          3.099693536758423,
          0.7995842695236206,
          0.5000371932983398,
          2.4999279975891113,
          1.400284767150879,
          3.3010709285736084,
          3.099693536758423,
          2.4999279975891113,
          1.999643325805664,
          2.699524164199829,
          2.4999279975891113,
          2.800332546234131,
          2.4999279975891113,
          2.800332546234131,
          3.099693536758423,
          3.099693536758423,
          2.3971848487854004,
          2.2023465633392334,
          1.4997888803482056,
          3.099693536758423,
          2.099836826324463,
          2.800332546234131,
          2.4295082092285156,
          2.6004152297973633,
          2.4999279975891113,
          2.4999279975891113,
          2.299424409866333,
          2.3971848487854004,
          2.4999279975891113,
          2.3971848487854004,
          2.7968392372131348,
          2.3014156818389893,
          2.7004406452178955,
          2.4999279975891113,
          3.3010709285736084,
          1.2002825736999512,
          1.0003745555877686,
          2.4999279975891113,
          1.3001418113708496,
          3.099693536758423,
          2.4999279975891113,
          2.099836826324463,
          3.0997917652130127,
          1.999643325805664,
          1.1994001865386963,
          2.299424409866333,
          3.099693536758423,
          2.800332546234131,
          0.7001534104347229,
          2.800332546234131,
          2.0000598430633545,
          3.099693536758423,
          3.2001984119415283,
          2.6004152297973633,
          2.0000598430633545,
          0.5000371932983398,
          2.0000598430633545,
          2.800332546234131,
          1.9024702310562134,
          2.500981092453003,
          2.0000598430633545,
          2.7004406452178955,
          3.2001984119415283,
          2.0000598430633545,
          3.3010709285736084,
          2.7004406452178955,
          2.6004152297973633,
          2.299424409866333,
          2.099836826324463,
          2.299424409866333,
          2.0000598430633545,
          2.0000598430633545,
          2.6004152297973633,
          3.4991469383239746,
          3.099693536758423,
          2.4999279975891113,
          2.7968392372131348,
          2.2023465633392334,
          3.099693536758423,
          3.099693536758423,
          3.099693536758423,
          2.7004406452178955,
          2.299424409866333,
          2.099836826324463,
          2.2023465633392334,
          3.3010709285736084,
          0.5000371932983398,
          2.7004406452178955,
          2.4999279975891113,
          1.2002825736999512,
          2.0000598430633545,
          2.998406410217285,
          0.7995842695236206,
          2.4999279975891113,
          2.099836826324463,
          1.4997888803482056,
          3.099693536758423,
          2.3014156818389893,
          3.4991469383239746,
          2.800332546234131,
          2.800332546234131,
          2.7968392372131348,
          3.099693536758423,
          2.998406410217285,
          2.3014156818389893,
          2.7968392372131348,
          2.6004152297973633,
          2.4999279975891113,
          2.800332546234131,
          2.800332546234131,
          2.4999279975891113,
          2.4999279975891113,
          2.2023465633392334,
          2.0000598430633545,
          2.6004152297973633,
          2.4999279975891113,
          3.110689163208008,
          3.0997917652130127,
          2.726109504699707,
          2.299424409866333,
          2.998406410217285,
          2.299424409866333,
          2.3014156818389893,
          2.2001640796661377,
          2.800332546234131,
          2.800332546234131,
          1.0003745555877686,
          1.800459384918213,
          2.579200029373169,
          2.6004152297973633,
          2.4295082092285156,
          3.099693536758423,
          2.904651165008545,
          2.800332546234131,
          2.800332546234131,
          2.0000598430633545,
          2.2023465633392334,
          2.500981092453003,
          2.099836826324463,
          2.4999279975891113,
          2.6004152297973633,
          2.6004152297973633,
          3.099693536758423,
          2.998406410217285,
          3.099693536758423,
          1.800459384918213,
          1.4997888803482056,
          3.299734115600586,
          3.099693536758423,
          3.099693536758423,
          3.3010709285736084,
          2.4999279975891113,
          1.9024702310562134,
          2.299424409866333,
          1.3001418113708496,
          2.4999279975891113,
          2.299424409866333,
          2.800332546234131,
          2.6004152297973633,
          2.800332546234131,
          2.299424409866333,
          2.500981092453003,
          2.8992109298706055,
          2.998406410217285,
          2.4999279975891113,
          2.800332546234131,
          2.800332546234131,
          2.6004152297973633,
          3.3010709285736084,
          1.1994001865386963,
          2.4999279975891113,
          3.099693536758423,
          2.5992212295532227,
          2.099836826324463,
          2.6004152297973633,
          2.7004406452178955,
          2.099836826324463,
          3.202824592590332,
          1.800459384918213,
          2.800332546234131,
          1.800459384918213,
          2.299424409866333,
          1.800459384918213,
          3.0997917652130127,
          2.800332546234131,
          2.8992109298706055,
          1.800459384918213,
          2.7968392372131348,
          2.299424409866333,
          2.998406410217285,
          2.7004406452178955,
          2.4999279975891113,
          1.800459384918213,
          2.7968392372131348,
          2.0000598430633545,
          30.600584030151367,
          1.6941022872924805,
          3.3010709285736084,
          2.201444387435913,
          2.6004152297973633,
          2.299424409866333,
          2.7004406452178955,
          2.299424409866333,
          2.4999279975891113,
          1.3002368211746216,
          2.4999279975891113,
          2.800332546234131,
          2.800332546234131,
          2.8992109298706055,
          2.299424409866333,
          2.299424409866333,
          2.299424409866333,
          2.3971848487854004,
          2.299424409866333,
          2.0000598430633545,
          2.500981092453003,
          2.299424409866333,
          2.6004152297973633,
          2.800332546234131,
          2.299424409866333,
          1.9024702310562134,
          2.299424409866333,
          2.8992109298706055,
          3.0019612312316895,
          4.3959197998046875,
          3.699530601501465,
          2.699524164199829,
          3.3010709285736084,
          3.0019612312316895,
          2.099836826324463,
          1.800459384918213,
          1.6941022872924805,
          2.4999279975891113,
          2.0000598430633545,
          0.5000371932983398,
          1.4997888803482056,
          2.099836826324463,
          2.800332546234131,
          3.4991469383239746,
          2.7004406452178955,
          2.4999279975891113,
          2.800332546234131,
          3.099693536758423,
          2.0000598430633545,
          2.800332546234131,
          2.3014156818389893,
          2.2023465633392334,
          3.0997917652130127,
          3.099693536758423,
          1.5009074211120605,
          0.7001534104347229,
          2.8992109298706055,
          2.6004152297973633,
          2.3971848487854004,
          0.7001534104347229,
          2.3971848487854004,
          1.400284767150879,
          2.4999279975891113,
          2.6004152297973633,
          1.4997888803482056,
          2.0000598430633545,
          2.8992109298706055,
          2.7968392372131348,
          1.7973265647888184,
          2.7968392372131348,
          2.4999279975891113,
          1.4997888803482056,
          2.299424409866333,
          3.099693536758423,
          3.4991469383239746,
          3.099693536758423,
          2.6004152297973633,
          2.299424409866333,
          2.800332546234131,
          2.6004152297973633,
          3.3010709285736084,
          3.3010709285736084,
          2.4999279975891113,
          2.299424409866333,
          2.6004152297973633,
          2.6004152297973633,
          2.6004152297973633,
          1.4997888803482056,
          2.699524164199829,
          3.099693536758423,
          2.4999279975891113,
          2.3971848487854004,
          1.3001418113708496,
          1.800459384918213,
          0.5000371932983398,
          1.4997888803482056,
          2.800332546234131,
          2.4999279975891113,
          2.299424409866333,
          2.6004152297973633,
          2.998406410217285,
          2.500981092453003,
          3.099693536758423,
          2.4999279975891113,
          3.4996979236602783,
          2.800332546234131,
          3.099693536758423,
          2.4999279975891113,
          2.7004406452178955,
          1.3001418113708496,
          3.0019612312316895,
          3.110689163208008,
          3.202824592590332,
          3.699042558670044,
          2.699524164199829,
          2.7004406452178955,
          3.4120774269104004,
          2.8992109298706055,
          6.496997833251953,
          2.800332546234131,
          0.7001534104347229,
          3.0019612312316895,
          3.099693536758423,
          3.6273536682128906,
          2.0000598430633545,
          2.4999279975891113,
          2.800332546234131,
          2.998406410217285,
          2.7004406452178955,
          2.998406410217285,
          2.998406410217285,
          2.998406410217285,
          2.6004152297973633,
          2.4999279975891113,
          2.0000598430633545,
          1.3001418113708496,
          2.7004406452178955,
          3.099693536758423,
          2.4999279975891113,
          3.099693536758423,
          2.800332546234131,
          2.6004152297973633,
          2.7004406452178955,
          1.4997888803482056,
          2.998406410217285,
          1.5997308492660522,
          2.0000598430633545,
          2.299424409866333,
          1.4997888803482056,
          3.099693536758423,
          2.800332546234131,
          2.0000598430633545,
          2.3971848487854004,
          2.8992109298706055,
          1.691056489944458,
          2.998406410217285,
          1.4997888803482056,
          2.699524164199829,
          2.299424409866333,
          2.2023465633392334,
          2.0000598430633545,
          2.8992109298706055,
          3.099693536758423,
          2.4999279975891113,
          2.0000598430633545,
          2.8992109298706055,
          0.5000371932983398,
          1.800459384918213,
          2.7004406452178955,
          2.800332546234131,
          2.4999279975891113,
          2.6004152297973633,
          3.099693536758423,
          2.800332546234131,
          1.800459384918213,
          2.800332546234131,
          2.7968392372131348,
          2.800332546234131,
          2.0000598430633545,
          11.400678634643555,
          3.099693536758423,
          2.4999279975891113,
          2.4999279975891113,
          2.800332546234131,
          2.7968392372131348,
          2.6004152297973633,
          2.3014156818389893,
          2.800332546234131,
          1.4997888803482056,
          2.800332546234131,
          2.7968392372131348,
          2.7004406452178955,
          3.3010709285736084,
          2.4999279975891113,
          2.6004152297973633,
          2.800332546234131,
          2.4999279975891113,
          2.800332546234131,
          2.800332546234131,
          2.6004152297973633,
          2.4999279975891113,
          0.7995842695236206,
          1.2002825736999512,
          3.4991469383239746,
          2.500981092453003,
          2.2023465633392334,
          2.6004152297973633,
          1.800459384918213,
          2.998406410217285,
          1.1994001865386963,
          2.800332546234131,
          2.800332546234131,
          2.998406410217285,
          2.7004406452178955,
          2.6004152297973633,
          3.2077481746673584,
          2.0000598430633545,
          2.7004406452178955,
          2.4999279975891113,
          0.7995842695236206,
          3.099693536758423,
          2.7004406452178955,
          2.500981092453003,
          2.299424409866333,
          2.800332546234131,
          2.6004152297973633,
          2.800332546234131,
          2.4999279975891113,
          2.6004152297973633,
          3.099693536758423,
          2.4999279975891113,
          2.6004152297973633,
          2.7968392372131348,
          2.699524164199829,
          3.4991469383239746,
          1.800459384918213,
          2.4999279975891113,
          1.5690847635269165,
          2.800332546234131,
          1.800459384918213,
          2.4999279975891113,
          0.7001534104347229,
          2.299424409866333,
          3.1000146865844727,
          2.699524164199829,
          2.4999279975891113,
          2.2023465633392334,
          2.7004406452178955,
          2.6004152297973633,
          0.7995842695236206,
          1.1003879308700562,
          1.0997021198272705,
          1.3001418113708496,
          2.4999279975891113,
          2.4999279975891113,
          2.6004152297973633,
          2.4999279975891113,
          0.5000371932983398,
          2.4999279975891113,
          2.500981092453003,
          2.4999279975891113,
          3.099693536758423,
          3.099693536758423,
          2.800332546234131,
          2.800332546234131,
          3.099693536758423,
          2.800332546234131,
          2.800332546234131,
          0.7001534104347229,
          1.0997021198272705,
          1.5009074211120605,
          2.0000598430633545,
          2.299424409866333,
          1.800459384918213,
          2.800332546234131,
          2.7004406452178955,
          3.4873313903808594,
          3.099693536758423,
          2.998406410217285,
          1.800459384918213,
          1.4997888803482056,
          2.0000598430633545,
          2.6004152297973633,
          3.099693536758423,
          1.4997888803482056,
          2.0000598430633545,
          2.2001640796661377,
          1.1994001865386963,
          2.299424409866333,
          2.800332546234131,
          2.4999279975891113,
          2.0000598430633545,
          2.299424409866333,
          1.999643325805664,
          2.0000598430633545,
          3.099693536758423,
          9.19924259185791,
          2.6004152297973633,
          3.099693536758423,
          2.800332546234131,
          2.800332546234131,
          0.8989659547805786,
          2.800332546234131,
          2.299424409866333,
          3.0997917652130127,
          2.299424409866333,
          2.4999279975891113,
          3.3010709285736084,
          2.4999279975891113,
          3.099693536758423,
          2.299424409866333,
          0.5000371932983398,
          2.4999279975891113,
          2.4999279975891113,
          3.099693536758423,
          2.2023465633392334,
          2.4999279975891113,
          1.1003879308700562,
          3.5961596965789795,
          3.202824592590332,
          9.840777397155762,
          2.3971848487854004,
          2.800332546234131,
          2.4999279975891113,
          3.5961596965789795,
          2.6004152297973633,
          0.7995842695236206,
          2.0000598430633545,
          7.501534461975098,
          0.5000371932983398,
          1.1003879308700562,
          1.800459384918213,
          2.299424409866333,
          0.7995842695236206,
          2.0000598430633545,
          2.4999279975891113,
          3.202824592590332,
          2.800332546234131,
          2.6004152297973633,
          3.099693536758423,
          2.4999279975891113,
          2.800332546234131,
          2.4999279975891113,
          2.6004152297973633,
          2.800332546234131,
          2.0000598430633545,
          2.0000598430633545,
          1.1003879308700562,
          2.0000598430633545,
          1.3001418113708496,
          2.800332546234131,
          2.4999279975891113,
          2.4999279975891113,
          2.0000598430633545,
          1.800459384918213,
          3.3010709285736084,
          2.800332546234131,
          2.6004152297973633,
          4.3959197998046875,
          3.202824592590332,
          2.299424409866333,
          1.4997888803482056,
          2.3014156818389893,
          2.2023465633392334,
          1.999643325805664,
          2.800332546234131,
          1.9024702310562134,
          2.500981092453003,
          2.099836826324463,
          2.800332546234131,
          1.800459384918213,
          1.800459384918213,
          4.296773433685303,
          2.6004152297973633,
          3.0997917652130127,
          2.4999279975891113,
          2.800332546234131,
          2.4999279975891113,
          2.4999279975891113,
          2.4999279975891113,
          2.4999279975891113,
          2.6004152297973633,
          2.2023465633392334,
          1.800459384918213,
          2.299424409866333,
          2.500981092453003,
          2.800332546234131,
          2.0000598430633545,
          2.0000598430633545,
          2.998406410217285,
          2.2023465633392334,
          3.099693536758423,
          1.800459384918213,
          2.7004406452178955,
          2.0000598430633545,
          3.0997917652130127,
          2.0000598430633545,
          3.202824592590332,
          3.699530601501465,
          2.0000598430633545,
          2.800332546234131,
          2.998406410217285,
          2.6004152297973633,
          2.099836826324463,
          2.998406410217285,
          2.0000598430633545,
          2.099836826324463,
          2.299424409866333,
          2.0000598430633545,
          2.6004152297973633,
          2.6004152297973633,
          2.0000598430633545,
          3.4991469383239746,
          1.800459384918213,
          3.202824592590332,
          2.998406410217285,
          2.0000598430633545,
          1.5997308492660522,
          2.7004406452178955,
          2.7004406452178955,
          1.4997888803482056,
          2.0000598430633545,
          2.998406410217285,
          0.5000371932983398,
          2.4999279975891113,
          2.4999279975891113,
          3.4991469383239746,
          3.4991469383239746,
          2.800332546234131,
          2.0000598430633545,
          2.4999279975891113,
          2.800332546234131,
          1.800459384918213,
          1.5009074211120605,
          2.7004406452178955,
          1.5997308492660522,
          3.099693536758423,
          1.400284767150879,
          2.699524164199829,
          1.7973265647888184,
          2.6004152297973633,
          2.0000598430633545,
          2.998914957046509,
          2.0000598430633545,
          1.7973265647888184,
          2.4999279975891113,
          3.099693536758423,
          2.797410488128662,
          2.998406410217285,
          2.099836826324463,
          2.4999279975891113,
          3.099693536758423,
          2.4999279975891113,
          2.0000598430633545,
          2.6004152297973633,
          2.0000598430633545,
          2.699524164199829,
          2.0000598430633545,
          2.299424409866333,
          2.0000598430633545,
          2.0000598430633545,
          2.2023465633392334,
          1.4997888803482056,
          2.4999279975891113,
          2.4999279975891113,
          2.800332546234131,
          2.800332546234131,
          2.4999279975891113,
          2.6004152297973633,
          2.800332546234131,
          2.500981092453003,
          0.7995842695236206,
          2.800332546234131,
          2.6004152297973633,
          3.099693536758423,
          2.800332546234131,
          4.99936580657959,
          3.099693536758423,
          2.4999279975891113,
          2.099836826324463,
          2.4999279975891113,
          2.8992109298706055,
          2.699524164199829,
          1.0003745555877686,
          3.3010709285736084,
          2.699524164199829,
          7.901318073272705,
          3.0997917652130127,
          1.800459384918213,
          2.4999279975891113,
          2.0000598430633545,
          2.6004152297973633,
          2.7004406452178955,
          2.800332546234131,
          3.099693536758423,
          2.800332546234131,
          2.6004152297973633,
          2.7004406452178955,
          2.6004152297973633,
          2.0000598430633545,
          2.0000598430633545,
          2.299424409866333,
          0.7001534104347229,
          2.800332546234131,
          2.0000598430633545,
          2.2023465633392334,
          2.0000598430633545,
          2.4999279975891113,
          2.4999279975891113,
          2.800332546234131,
          2.299424409866333,
          2.299424409866333,
          2.299424409866333,
          2.699524164199829,
          2.800332546234131,
          2.0000598430633545,
          2.4999279975891113,
          2.299424409866333,
          3.099693536758423,
          2.4999279975891113,
          2.6004152297973633,
          2.4999279975891113,
          2.800332546234131,
          3.699530601501465,
          3.099693536758423,
          2.4999279975891113,
          2.800332546234131,
          3.202824592590332,
          2.800332546234131,
          1.3002368211746216,
          1.1003879308700562,
          2.4295082092285156,
          2.299424409866333,
          2.4999279975891113,
          2.800332546234131,
          1.3002368211746216,
          2.099928617477417,
          2.6004152297973633,
          1.4997888803482056,
          3.099693536758423,
          2.800332546234131,
          2.800332546234131,
          4.902915954589844,
          2.800332546234131,
          1.800459384918213,
          2.0000598430633545,
          2.500981092453003,
          2.998406410217285,
          2.4999279975891113,
          2.4999279975891113,
          2.6004152297973633,
          2.3971848487854004,
          2.8992109298706055,
          2.904651165008545,
          2.0000598430633545,
          3.4991469383239746,
          3.099693536758423,
          2.0000598430633545,
          3.099693536758423,
          2.6004152297973633,
          3.4996979236602783,
          2.299424409866333,
          2.800332546234131,
          1.4997888803482056,
          1.3001418113708496,
          2.500981092453003,
          2.2023465633392334,
          2.299424409866333
         ],
         "yaxis": "y"
        }
       ],
       "layout": {
        "legend": {
         "tracegroupgap": 0
        },
        "template": {
         "data": {
          "bar": [
           {
            "error_x": {
             "color": "#2a3f5f"
            },
            "error_y": {
             "color": "#2a3f5f"
            },
            "marker": {
             "line": {
              "color": "#E5ECF6",
              "width": 0.5
             },
             "pattern": {
              "fillmode": "overlay",
              "size": 10,
              "solidity": 0.2
             }
            },
            "type": "bar"
           }
          ],
          "barpolar": [
           {
            "marker": {
             "line": {
              "color": "#E5ECF6",
              "width": 0.5
             },
             "pattern": {
              "fillmode": "overlay",
              "size": 10,
              "solidity": 0.2
             }
            },
            "type": "barpolar"
           }
          ],
          "carpet": [
           {
            "aaxis": {
             "endlinecolor": "#2a3f5f",
             "gridcolor": "white",
             "linecolor": "white",
             "minorgridcolor": "white",
             "startlinecolor": "#2a3f5f"
            },
            "baxis": {
             "endlinecolor": "#2a3f5f",
             "gridcolor": "white",
             "linecolor": "white",
             "minorgridcolor": "white",
             "startlinecolor": "#2a3f5f"
            },
            "type": "carpet"
           }
          ],
          "choropleth": [
           {
            "colorbar": {
             "outlinewidth": 0,
             "ticks": ""
            },
            "type": "choropleth"
           }
          ],
          "contour": [
           {
            "colorbar": {
             "outlinewidth": 0,
             "ticks": ""
            },
            "colorscale": [
             [
              0,
              "#0d0887"
             ],
             [
              0.1111111111111111,
              "#46039f"
             ],
             [
              0.2222222222222222,
              "#7201a8"
             ],
             [
              0.3333333333333333,
              "#9c179e"
             ],
             [
              0.4444444444444444,
              "#bd3786"
             ],
             [
              0.5555555555555556,
              "#d8576b"
             ],
             [
              0.6666666666666666,
              "#ed7953"
             ],
             [
              0.7777777777777778,
              "#fb9f3a"
             ],
             [
              0.8888888888888888,
              "#fdca26"
             ],
             [
              1,
              "#f0f921"
             ]
            ],
            "type": "contour"
           }
          ],
          "contourcarpet": [
           {
            "colorbar": {
             "outlinewidth": 0,
             "ticks": ""
            },
            "type": "contourcarpet"
           }
          ],
          "heatmap": [
           {
            "colorbar": {
             "outlinewidth": 0,
             "ticks": ""
            },
            "colorscale": [
             [
              0,
              "#0d0887"
             ],
             [
              0.1111111111111111,
              "#46039f"
             ],
             [
              0.2222222222222222,
              "#7201a8"
             ],
             [
              0.3333333333333333,
              "#9c179e"
             ],
             [
              0.4444444444444444,
              "#bd3786"
             ],
             [
              0.5555555555555556,
              "#d8576b"
             ],
             [
              0.6666666666666666,
              "#ed7953"
             ],
             [
              0.7777777777777778,
              "#fb9f3a"
             ],
             [
              0.8888888888888888,
              "#fdca26"
             ],
             [
              1,
              "#f0f921"
             ]
            ],
            "type": "heatmap"
           }
          ],
          "heatmapgl": [
           {
            "colorbar": {
             "outlinewidth": 0,
             "ticks": ""
            },
            "colorscale": [
             [
              0,
              "#0d0887"
             ],
             [
              0.1111111111111111,
              "#46039f"
             ],
             [
              0.2222222222222222,
              "#7201a8"
             ],
             [
              0.3333333333333333,
              "#9c179e"
             ],
             [
              0.4444444444444444,
              "#bd3786"
             ],
             [
              0.5555555555555556,
              "#d8576b"
             ],
             [
              0.6666666666666666,
              "#ed7953"
             ],
             [
              0.7777777777777778,
              "#fb9f3a"
             ],
             [
              0.8888888888888888,
              "#fdca26"
             ],
             [
              1,
              "#f0f921"
             ]
            ],
            "type": "heatmapgl"
           }
          ],
          "histogram": [
           {
            "marker": {
             "pattern": {
              "fillmode": "overlay",
              "size": 10,
              "solidity": 0.2
             }
            },
            "type": "histogram"
           }
          ],
          "histogram2d": [
           {
            "colorbar": {
             "outlinewidth": 0,
             "ticks": ""
            },
            "colorscale": [
             [
              0,
              "#0d0887"
             ],
             [
              0.1111111111111111,
              "#46039f"
             ],
             [
              0.2222222222222222,
              "#7201a8"
             ],
             [
              0.3333333333333333,
              "#9c179e"
             ],
             [
              0.4444444444444444,
              "#bd3786"
             ],
             [
              0.5555555555555556,
              "#d8576b"
             ],
             [
              0.6666666666666666,
              "#ed7953"
             ],
             [
              0.7777777777777778,
              "#fb9f3a"
             ],
             [
              0.8888888888888888,
              "#fdca26"
             ],
             [
              1,
              "#f0f921"
             ]
            ],
            "type": "histogram2d"
           }
          ],
          "histogram2dcontour": [
           {
            "colorbar": {
             "outlinewidth": 0,
             "ticks": ""
            },
            "colorscale": [
             [
              0,
              "#0d0887"
             ],
             [
              0.1111111111111111,
              "#46039f"
             ],
             [
              0.2222222222222222,
              "#7201a8"
             ],
             [
              0.3333333333333333,
              "#9c179e"
             ],
             [
              0.4444444444444444,
              "#bd3786"
             ],
             [
              0.5555555555555556,
              "#d8576b"
             ],
             [
              0.6666666666666666,
              "#ed7953"
             ],
             [
              0.7777777777777778,
              "#fb9f3a"
             ],
             [
              0.8888888888888888,
              "#fdca26"
             ],
             [
              1,
              "#f0f921"
             ]
            ],
            "type": "histogram2dcontour"
           }
          ],
          "mesh3d": [
           {
            "colorbar": {
             "outlinewidth": 0,
             "ticks": ""
            },
            "type": "mesh3d"
           }
          ],
          "parcoords": [
           {
            "line": {
             "colorbar": {
              "outlinewidth": 0,
              "ticks": ""
             }
            },
            "type": "parcoords"
           }
          ],
          "pie": [
           {
            "automargin": true,
            "type": "pie"
           }
          ],
          "scatter": [
           {
            "fillpattern": {
             "fillmode": "overlay",
             "size": 10,
             "solidity": 0.2
            },
            "type": "scatter"
           }
          ],
          "scatter3d": [
           {
            "line": {
             "colorbar": {
              "outlinewidth": 0,
              "ticks": ""
             }
            },
            "marker": {
             "colorbar": {
              "outlinewidth": 0,
              "ticks": ""
             }
            },
            "type": "scatter3d"
           }
          ],
          "scattercarpet": [
           {
            "marker": {
             "colorbar": {
              "outlinewidth": 0,
              "ticks": ""
             }
            },
            "type": "scattercarpet"
           }
          ],
          "scattergeo": [
           {
            "marker": {
             "colorbar": {
              "outlinewidth": 0,
              "ticks": ""
             }
            },
            "type": "scattergeo"
           }
          ],
          "scattergl": [
           {
            "marker": {
             "colorbar": {
              "outlinewidth": 0,
              "ticks": ""
             }
            },
            "type": "scattergl"
           }
          ],
          "scattermapbox": [
           {
            "marker": {
             "colorbar": {
              "outlinewidth": 0,
              "ticks": ""
             }
            },
            "type": "scattermapbox"
           }
          ],
          "scatterpolar": [
           {
            "marker": {
             "colorbar": {
              "outlinewidth": 0,
              "ticks": ""
             }
            },
            "type": "scatterpolar"
           }
          ],
          "scatterpolargl": [
           {
            "marker": {
             "colorbar": {
              "outlinewidth": 0,
              "ticks": ""
             }
            },
            "type": "scatterpolargl"
           }
          ],
          "scatterternary": [
           {
            "marker": {
             "colorbar": {
              "outlinewidth": 0,
              "ticks": ""
             }
            },
            "type": "scatterternary"
           }
          ],
          "surface": [
           {
            "colorbar": {
             "outlinewidth": 0,
             "ticks": ""
            },
            "colorscale": [
             [
              0,
              "#0d0887"
             ],
             [
              0.1111111111111111,
              "#46039f"
             ],
             [
              0.2222222222222222,
              "#7201a8"
             ],
             [
              0.3333333333333333,
              "#9c179e"
             ],
             [
              0.4444444444444444,
              "#bd3786"
             ],
             [
              0.5555555555555556,
              "#d8576b"
             ],
             [
              0.6666666666666666,
              "#ed7953"
             ],
             [
              0.7777777777777778,
              "#fb9f3a"
             ],
             [
              0.8888888888888888,
              "#fdca26"
             ],
             [
              1,
              "#f0f921"
             ]
            ],
            "type": "surface"
           }
          ],
          "table": [
           {
            "cells": {
             "fill": {
              "color": "#EBF0F8"
             },
             "line": {
              "color": "white"
             }
            },
            "header": {
             "fill": {
              "color": "#C8D4E3"
             },
             "line": {
              "color": "white"
             }
            },
            "type": "table"
           }
          ]
         },
         "layout": {
          "annotationdefaults": {
           "arrowcolor": "#2a3f5f",
           "arrowhead": 0,
           "arrowwidth": 1
          },
          "autotypenumbers": "strict",
          "coloraxis": {
           "colorbar": {
            "outlinewidth": 0,
            "ticks": ""
           }
          },
          "colorscale": {
           "diverging": [
            [
             0,
             "#8e0152"
            ],
            [
             0.1,
             "#c51b7d"
            ],
            [
             0.2,
             "#de77ae"
            ],
            [
             0.3,
             "#f1b6da"
            ],
            [
             0.4,
             "#fde0ef"
            ],
            [
             0.5,
             "#f7f7f7"
            ],
            [
             0.6,
             "#e6f5d0"
            ],
            [
             0.7,
             "#b8e186"
            ],
            [
             0.8,
             "#7fbc41"
            ],
            [
             0.9,
             "#4d9221"
            ],
            [
             1,
             "#276419"
            ]
           ],
           "sequential": [
            [
             0,
             "#0d0887"
            ],
            [
             0.1111111111111111,
             "#46039f"
            ],
            [
             0.2222222222222222,
             "#7201a8"
            ],
            [
             0.3333333333333333,
             "#9c179e"
            ],
            [
             0.4444444444444444,
             "#bd3786"
            ],
            [
             0.5555555555555556,
             "#d8576b"
            ],
            [
             0.6666666666666666,
             "#ed7953"
            ],
            [
             0.7777777777777778,
             "#fb9f3a"
            ],
            [
             0.8888888888888888,
             "#fdca26"
            ],
            [
             1,
             "#f0f921"
            ]
           ],
           "sequentialminus": [
            [
             0,
             "#0d0887"
            ],
            [
             0.1111111111111111,
             "#46039f"
            ],
            [
             0.2222222222222222,
             "#7201a8"
            ],
            [
             0.3333333333333333,
             "#9c179e"
            ],
            [
             0.4444444444444444,
             "#bd3786"
            ],
            [
             0.5555555555555556,
             "#d8576b"
            ],
            [
             0.6666666666666666,
             "#ed7953"
            ],
            [
             0.7777777777777778,
             "#fb9f3a"
            ],
            [
             0.8888888888888888,
             "#fdca26"
            ],
            [
             1,
             "#f0f921"
            ]
           ]
          },
          "colorway": [
           "#636efa",
           "#EF553B",
           "#00cc96",
           "#ab63fa",
           "#FFA15A",
           "#19d3f3",
           "#FF6692",
           "#B6E880",
           "#FF97FF",
           "#FECB52"
          ],
          "font": {
           "color": "#2a3f5f"
          },
          "geo": {
           "bgcolor": "white",
           "lakecolor": "white",
           "landcolor": "#E5ECF6",
           "showlakes": true,
           "showland": true,
           "subunitcolor": "white"
          },
          "hoverlabel": {
           "align": "left"
          },
          "hovermode": "closest",
          "mapbox": {
           "style": "light"
          },
          "paper_bgcolor": "white",
          "plot_bgcolor": "#E5ECF6",
          "polar": {
           "angularaxis": {
            "gridcolor": "white",
            "linecolor": "white",
            "ticks": ""
           },
           "bgcolor": "#E5ECF6",
           "radialaxis": {
            "gridcolor": "white",
            "linecolor": "white",
            "ticks": ""
           }
          },
          "scene": {
           "xaxis": {
            "backgroundcolor": "#E5ECF6",
            "gridcolor": "white",
            "gridwidth": 2,
            "linecolor": "white",
            "showbackground": true,
            "ticks": "",
            "zerolinecolor": "white"
           },
           "yaxis": {
            "backgroundcolor": "#E5ECF6",
            "gridcolor": "white",
            "gridwidth": 2,
            "linecolor": "white",
            "showbackground": true,
            "ticks": "",
            "zerolinecolor": "white"
           },
           "zaxis": {
            "backgroundcolor": "#E5ECF6",
            "gridcolor": "white",
            "gridwidth": 2,
            "linecolor": "white",
            "showbackground": true,
            "ticks": "",
            "zerolinecolor": "white"
           }
          },
          "shapedefaults": {
           "line": {
            "color": "#2a3f5f"
           }
          },
          "ternary": {
           "aaxis": {
            "gridcolor": "white",
            "linecolor": "white",
            "ticks": ""
           },
           "baxis": {
            "gridcolor": "white",
            "linecolor": "white",
            "ticks": ""
           },
           "bgcolor": "#E5ECF6",
           "caxis": {
            "gridcolor": "white",
            "linecolor": "white",
            "ticks": ""
           }
          },
          "title": {
           "x": 0.05
          },
          "xaxis": {
           "automargin": true,
           "gridcolor": "white",
           "linecolor": "white",
           "ticks": "",
           "title": {
            "standoff": 15
           },
           "zerolinecolor": "white",
           "zerolinewidth": 2
          },
          "yaxis": {
           "automargin": true,
           "gridcolor": "white",
           "linecolor": "white",
           "ticks": "",
           "title": {
            "standoff": 15
           },
           "zerolinecolor": "white",
           "zerolinewidth": 2
          }
         }
        },
        "title": {
         "text": "Predicted Score vs Helpful Voting"
        },
        "xaxis": {
         "anchor": "y",
         "domain": [
          0,
          1
         ],
         "title": {
          "text": "Helpful Voting"
         }
        },
        "yaxis": {
         "anchor": "x",
         "domain": [
          0,
          1
         ],
         "title": {
          "text": "Predicted Score"
         }
        }
       }
      }
     },
     "metadata": {},
     "output_type": "display_data"
    }
   ],
   "source": [
    "\n",
    "# Plot predicted scores against rating\n",
    "fig1 = px.scatter(\n",
    "    review_sentiment_df, \n",
    "    x='rating', \n",
    "    y='predicted_score', \n",
    "    title=\"Predicted Score vs Rating\", \n",
    "    labels={'rating': 'Rating', 'predicted_score': 'Predicted Score'}\n",
    ")\n",
    "fig1.show()\n",
    "\n",
    "# Plot predicted scores against predicted_sentiment\n",
    "fig2 = px.scatter(\n",
    "    review_sentiment_df, \n",
    "    x='predicted_sentiment', \n",
    "    y='predicted_score', \n",
    "    title=\"Predicted Score vs Predicted Sentiment\", \n",
    "    labels={'predicted_sentiment': 'Predicted Sentiment', 'predicted_score': 'Predicted Score'}\n",
    ")\n",
    "fig2.show()\n",
    "\n",
    "# Plot predicted scores against helpful_voting\n",
    "fig3 = px.scatter(\n",
    "    review_sentiment_df, \n",
    "    x='helpful_voting', \n",
    "    y='predicted_score', \n",
    "    title=\"Predicted Score vs Helpful Voting\", \n",
    "    labels={'helpful_voting': 'Helpful Voting', 'predicted_score': 'Predicted Score'}\n",
    ")\n",
    "fig3.show()"
   ]
  },
  {
   "cell_type": "code",
   "execution_count": 53,
   "metadata": {},
   "outputs": [
    {
     "data": {
      "text/plain": [
       "17"
      ]
     },
     "execution_count": 53,
     "metadata": {},
     "output_type": "execute_result"
    }
   ],
   "source": [
    "len(list(set(review_sentiment_df['place_name'].values)))"
   ]
  },
  {
   "cell_type": "code",
   "execution_count": 52,
   "metadata": {},
   "outputs": [],
   "source": [
    "def get_best_location_in_place(place_name):\n",
    "    place_df = review_sentiment_df[review_sentiment_df['place_name'] == place_name]\n",
    "    best_location = place_df.loc[place_df['predicted_score'].idxmax()]\n",
    "    return best_location['location_name'], best_location['predicted_score']\n",
    "\n",
    "def suggest_locations_in_other_places(exclude_place_name, top_n=3):\n",
    "    other_places_df = review_sentiment_df[review_sentiment_df['place_name'] != exclude_place_name]\n",
    "    top_suggestions = other_places_df.sort_values(by='predicted_score', ascending=False).head(top_n)\n",
    "    return top_suggestions[['location_name', 'place_name', 'predicted_score']]"
   ]
  },
  {
   "cell_type": "code",
   "execution_count": 54,
   "metadata": {},
   "outputs": [
    {
     "name": "stdout",
     "output_type": "stream",
     "text": [
      ">>>> Best location in Nonthaburi: Wat Amphawan Chetiyaram with a score of 39.499847412109375\n",
      "\n",
      ">>>> Suggestions in other places:\n",
      "\n"
     ]
    },
    {
     "data": {
      "text/html": [
       "<div>\n",
       "<style scoped>\n",
       "    .dataframe tbody tr th:only-of-type {\n",
       "        vertical-align: middle;\n",
       "    }\n",
       "\n",
       "    .dataframe tbody tr th {\n",
       "        vertical-align: top;\n",
       "    }\n",
       "\n",
       "    .dataframe thead th {\n",
       "        text-align: right;\n",
       "    }\n",
       "</style>\n",
       "<table border=\"1\" class=\"dataframe\">\n",
       "  <thead>\n",
       "    <tr style=\"text-align: right;\">\n",
       "      <th></th>\n",
       "      <th>location_name</th>\n",
       "      <th>place_name</th>\n",
       "      <th>predicted_score</th>\n",
       "    </tr>\n",
       "  </thead>\n",
       "  <tbody>\n",
       "    <tr>\n",
       "      <th>600</th>\n",
       "      <td>Rim Moei Market</td>\n",
       "      <td>Nakhon Sawan</td>\n",
       "      <td>30.600584</td>\n",
       "    </tr>\n",
       "    <tr>\n",
       "      <th>317</th>\n",
       "      <td>King Naresuan Monument</td>\n",
       "      <td>Phra Nakhon Si Ayutthaya</td>\n",
       "      <td>11.698114</td>\n",
       "    </tr>\n",
       "    <tr>\n",
       "      <th>779</th>\n",
       "      <td>Wachira Benchathat Park (Rot Fai Park)</td>\n",
       "      <td>Phichit</td>\n",
       "      <td>11.400679</td>\n",
       "    </tr>\n",
       "    <tr>\n",
       "      <th>920</th>\n",
       "      <td>Khao Phra Tamnak (Khao Phra Bat)</td>\n",
       "      <td>Bangkok</td>\n",
       "      <td>9.840777</td>\n",
       "    </tr>\n",
       "    <tr>\n",
       "      <th>26</th>\n",
       "      <td>Erawan Shrine (Thao Mahaprom Shrine)</td>\n",
       "      <td>Bangkok</td>\n",
       "      <td>9.702078</td>\n",
       "    </tr>\n",
       "  </tbody>\n",
       "</table>\n",
       "</div>"
      ],
      "text/plain": [
       "                              location_name                place_name  \\\n",
       "600                         Rim Moei Market              Nakhon Sawan   \n",
       "317                  King Naresuan Monument  Phra Nakhon Si Ayutthaya   \n",
       "779  Wachira Benchathat Park (Rot Fai Park)                   Phichit   \n",
       "920        Khao Phra Tamnak (Khao Phra Bat)                   Bangkok   \n",
       "26     Erawan Shrine (Thao Mahaprom Shrine)                   Bangkok   \n",
       "\n",
       "     predicted_score  \n",
       "600        30.600584  \n",
       "317        11.698114  \n",
       "779        11.400679  \n",
       "920         9.840777  \n",
       "26          9.702078  "
      ]
     },
     "execution_count": 54,
     "metadata": {},
     "output_type": "execute_result"
    }
   ],
   "source": [
    "place_name = 'Nonthaburi'\n",
    "\n",
    "best_location, best_score = get_best_location_in_place(place_name)\n",
    "print(f\">>>> Best location in {place_name}: {best_location} with a score of {best_score}\")\n",
    "\n",
    "suggestions = suggest_locations_in_other_places(place_name, top_n=5)\n",
    "print(f\"\\n>>>> Suggestions in other places:\\n\")\n",
    "suggestions"
   ]
  },
  {
   "cell_type": "code",
   "execution_count": 42,
   "metadata": {},
   "outputs": [
    {
     "name": "stdout",
     "output_type": "stream",
     "text": [
      "                                        location_name  proxy_score\n",
      "0     Wat Rajapradit Sathitmahasimaram Rajaworavihara          3.2\n",
      "1                                  Wat Phra Chetuphon          2.4\n",
      "2                           Temple Of Dawn (Wat Arun)          5.0\n",
      "3                           Temple Of Dawn (Wat Arun)          1.6\n",
      "4                                           Wat Umong          2.4\n",
      "...                                               ...          ...\n",
      "1163                               Herbal Steam House          1.2\n",
      "1164                                     Wat Intharam          1.2\n",
      "1165               Khuean Srinagarindra National Park          2.2\n",
      "1166                      Prasat Wat Sa Kamphaeng Yai          1.8\n",
      "1167                                  Prasat Puay Noi          2.4\n",
      "\n",
      "[1168 rows x 2 columns]\n"
     ]
    }
   ],
   "source": [
    "print(review_sentiment_df[['location_name', 'proxy_score']])"
   ]
  },
  {
   "cell_type": "code",
   "execution_count": 63,
   "metadata": {},
   "outputs": [
    {
     "data": {
      "text/html": [
       "<div>\n",
       "<style scoped>\n",
       "    .dataframe tbody tr th:only-of-type {\n",
       "        vertical-align: middle;\n",
       "    }\n",
       "\n",
       "    .dataframe tbody tr th {\n",
       "        vertical-align: top;\n",
       "    }\n",
       "\n",
       "    .dataframe thead th {\n",
       "        text-align: right;\n",
       "    }\n",
       "</style>\n",
       "<table border=\"1\" class=\"dataframe\">\n",
       "  <thead>\n",
       "    <tr style=\"text-align: right;\">\n",
       "      <th></th>\n",
       "      <th>review_id</th>\n",
       "      <th>location_name</th>\n",
       "      <th>rating</th>\n",
       "    </tr>\n",
       "  </thead>\n",
       "  <tbody>\n",
       "    <tr>\n",
       "      <th>0</th>\n",
       "      <td>738692369.0</td>\n",
       "      <td>Wat Rajapradit Sathitmahasimaram Rajaworavihara</td>\n",
       "      <td>5.0</td>\n",
       "    </tr>\n",
       "    <tr>\n",
       "      <th>1</th>\n",
       "      <td>962482865.0</td>\n",
       "      <td>Wat Phra Chetuphon</td>\n",
       "      <td>5.0</td>\n",
       "    </tr>\n",
       "    <tr>\n",
       "      <th>2</th>\n",
       "      <td>955989676.0</td>\n",
       "      <td>Temple Of Dawn (Wat Arun)</td>\n",
       "      <td>5.0</td>\n",
       "    </tr>\n",
       "    <tr>\n",
       "      <th>3</th>\n",
       "      <td>955712588.0</td>\n",
       "      <td>Temple Of Dawn (Wat Arun)</td>\n",
       "      <td>4.0</td>\n",
       "    </tr>\n",
       "    <tr>\n",
       "      <th>4</th>\n",
       "      <td>936553670.0</td>\n",
       "      <td>Wat Umong</td>\n",
       "      <td>5.0</td>\n",
       "    </tr>\n",
       "    <tr>\n",
       "      <th>...</th>\n",
       "      <td>...</td>\n",
       "      <td>...</td>\n",
       "      <td>...</td>\n",
       "    </tr>\n",
       "    <tr>\n",
       "      <th>1163</th>\n",
       "      <td>694006082.0</td>\n",
       "      <td>Herbal Steam House</td>\n",
       "      <td>3.0</td>\n",
       "    </tr>\n",
       "    <tr>\n",
       "      <th>1164</th>\n",
       "      <td>577527835.0</td>\n",
       "      <td>Wat Intharam</td>\n",
       "      <td>2.0</td>\n",
       "    </tr>\n",
       "    <tr>\n",
       "      <th>1165</th>\n",
       "      <td>849208855.0</td>\n",
       "      <td>Khuean Srinagarindra National Park</td>\n",
       "      <td>4.0</td>\n",
       "    </tr>\n",
       "    <tr>\n",
       "      <th>1166</th>\n",
       "      <td>261414077.0</td>\n",
       "      <td>Prasat Wat Sa Kamphaeng Yai</td>\n",
       "      <td>4.0</td>\n",
       "    </tr>\n",
       "    <tr>\n",
       "      <th>1167</th>\n",
       "      <td>693354319.0</td>\n",
       "      <td>Prasat Puay Noi</td>\n",
       "      <td>4.0</td>\n",
       "    </tr>\n",
       "  </tbody>\n",
       "</table>\n",
       "<p>1168 rows × 3 columns</p>\n",
       "</div>"
      ],
      "text/plain": [
       "        review_id                                    location_name  rating\n",
       "0     738692369.0  Wat Rajapradit Sathitmahasimaram Rajaworavihara     5.0\n",
       "1     962482865.0                               Wat Phra Chetuphon     5.0\n",
       "2     955989676.0                        Temple Of Dawn (Wat Arun)     5.0\n",
       "3     955712588.0                        Temple Of Dawn (Wat Arun)     4.0\n",
       "4     936553670.0                                        Wat Umong     5.0\n",
       "...           ...                                              ...     ...\n",
       "1163  694006082.0                               Herbal Steam House     3.0\n",
       "1164  577527835.0                                     Wat Intharam     2.0\n",
       "1165  849208855.0               Khuean Srinagarindra National Park     4.0\n",
       "1166  261414077.0                      Prasat Wat Sa Kamphaeng Yai     4.0\n",
       "1167  693354319.0                                  Prasat Puay Noi     4.0\n",
       "\n",
       "[1168 rows x 3 columns]"
      ]
     },
     "execution_count": 63,
     "metadata": {},
     "output_type": "execute_result"
    }
   ],
   "source": [
    "review_sentiment_df[['review_id', 'location_name', 'rating']]"
   ]
  },
  {
   "cell_type": "code",
   "execution_count": 66,
   "metadata": {},
   "outputs": [],
   "source": [
    "from surprise import Dataset, Reader, SVD\n",
    "from surprise import accuracy\n",
    "\n",
    "reader = Reader(rating_scale=(1, 5))\n",
    "data = Dataset.load_from_df(review_sentiment_df[['review_id', 'location_name', 'rating']], reader)\n"
   ]
  },
  {
   "cell_type": "code",
   "execution_count": 68,
   "metadata": {},
   "outputs": [],
   "source": [
    "from surprise.model_selection import train_test_split\n",
    "trainset, testset = train_test_split(data, test_size=0.2)"
   ]
  },
  {
   "cell_type": "code",
   "execution_count": 78,
   "metadata": {},
   "outputs": [
    {
     "data": {
      "text/html": [
       "<div>\n",
       "<style scoped>\n",
       "    .dataframe tbody tr th:only-of-type {\n",
       "        vertical-align: middle;\n",
       "    }\n",
       "\n",
       "    .dataframe tbody tr th {\n",
       "        vertical-align: top;\n",
       "    }\n",
       "\n",
       "    .dataframe thead th {\n",
       "        text-align: right;\n",
       "    }\n",
       "</style>\n",
       "<table border=\"1\" class=\"dataframe\">\n",
       "  <thead>\n",
       "    <tr style=\"text-align: right;\">\n",
       "      <th></th>\n",
       "      <th>Unnamed: 0</th>\n",
       "      <th>location_id</th>\n",
       "      <th>location_name</th>\n",
       "      <th>trip_type</th>\n",
       "      <th>rating</th>\n",
       "      <th>helpful_voting</th>\n",
       "      <th>review_text</th>\n",
       "      <th>actual_sentiment</th>\n",
       "      <th>predicted_sentiment</th>\n",
       "      <th>place_id</th>\n",
       "      <th>place_name</th>\n",
       "      <th>emotion</th>\n",
       "      <th>review_id</th>\n",
       "      <th>proxy_score</th>\n",
       "      <th>predicted_score</th>\n",
       "    </tr>\n",
       "  </thead>\n",
       "  <tbody>\n",
       "    <tr>\n",
       "      <th>500</th>\n",
       "      <td>2476</td>\n",
       "      <td>6878365.0</td>\n",
       "      <td>Namtok Ngao National Park</td>\n",
       "      <td>Family</td>\n",
       "      <td>3.0</td>\n",
       "      <td>0.0</td>\n",
       "      <td>Not far off the main highway these high falls ...</td>\n",
       "      <td>1</td>\n",
       "      <td>0</td>\n",
       "      <td>P03005928</td>\n",
       "      <td>Saraburi</td>\n",
       "      <td>joy</td>\n",
       "      <td>427149765.0</td>\n",
       "      <td>1.5</td>\n",
       "      <td>1.499789</td>\n",
       "    </tr>\n",
       "    <tr>\n",
       "      <th>501</th>\n",
       "      <td>2478</td>\n",
       "      <td>6878365.0</td>\n",
       "      <td>Namtok Ngao National Park</td>\n",
       "      <td>Friends getaway</td>\n",
       "      <td>5.0</td>\n",
       "      <td>0.0</td>\n",
       "      <td>this is one of the best place.\\nno commercial ...</td>\n",
       "      <td>2</td>\n",
       "      <td>2</td>\n",
       "      <td>P03005928</td>\n",
       "      <td>Saraburi</td>\n",
       "      <td>joy</td>\n",
       "      <td>239464944.0</td>\n",
       "      <td>3.1</td>\n",
       "      <td>3.099694</td>\n",
       "    </tr>\n",
       "    <tr>\n",
       "      <th>502</th>\n",
       "      <td>2484</td>\n",
       "      <td>6669416.0</td>\n",
       "      <td>Namtok Yong National Park</td>\n",
       "      <td>Family</td>\n",
       "      <td>3.0</td>\n",
       "      <td>1.0</td>\n",
       "      <td>Easy to reach by car from Thungsong - and only...</td>\n",
       "      <td>2</td>\n",
       "      <td>2</td>\n",
       "      <td>P03005928</td>\n",
       "      <td>Saraburi</td>\n",
       "      <td>joy</td>\n",
       "      <td>490284622.0</td>\n",
       "      <td>2.3</td>\n",
       "      <td>2.301416</td>\n",
       "    </tr>\n",
       "    <tr>\n",
       "      <th>503</th>\n",
       "      <td>2495</td>\n",
       "      <td>3384454.0</td>\n",
       "      <td>Khao Yoi Cave</td>\n",
       "      <td>Family</td>\n",
       "      <td>5.0</td>\n",
       "      <td>2.0</td>\n",
       "      <td>Tham khao Yoi temple next to the cave is a mus...</td>\n",
       "      <td>2</td>\n",
       "      <td>2</td>\n",
       "      <td>P03004509</td>\n",
       "      <td>Saraburi</td>\n",
       "      <td>joy</td>\n",
       "      <td>701459085.0</td>\n",
       "      <td>3.5</td>\n",
       "      <td>3.499147</td>\n",
       "    </tr>\n",
       "    <tr>\n",
       "      <th>504</th>\n",
       "      <td>2498</td>\n",
       "      <td>3445712.0</td>\n",
       "      <td>Khao Mai Kaew Cave</td>\n",
       "      <td>Couples</td>\n",
       "      <td>5.0</td>\n",
       "      <td>0.0</td>\n",
       "      <td>The Khao Mai Kaew cave was an interesting and ...</td>\n",
       "      <td>1</td>\n",
       "      <td>1</td>\n",
       "      <td>P03004509</td>\n",
       "      <td>Saraburi</td>\n",
       "      <td>joy</td>\n",
       "      <td>890723374.0</td>\n",
       "      <td>2.8</td>\n",
       "      <td>2.800333</td>\n",
       "    </tr>\n",
       "  </tbody>\n",
       "</table>\n",
       "</div>"
      ],
      "text/plain": [
       "     Unnamed: 0  location_id              location_name        trip_type  \\\n",
       "500        2476    6878365.0  Namtok Ngao National Park           Family   \n",
       "501        2478    6878365.0  Namtok Ngao National Park  Friends getaway   \n",
       "502        2484    6669416.0  Namtok Yong National Park           Family   \n",
       "503        2495    3384454.0              Khao Yoi Cave           Family   \n",
       "504        2498    3445712.0         Khao Mai Kaew Cave          Couples   \n",
       "\n",
       "     rating  helpful_voting  \\\n",
       "500     3.0             0.0   \n",
       "501     5.0             0.0   \n",
       "502     3.0             1.0   \n",
       "503     5.0             2.0   \n",
       "504     5.0             0.0   \n",
       "\n",
       "                                           review_text  actual_sentiment  \\\n",
       "500  Not far off the main highway these high falls ...                 1   \n",
       "501  this is one of the best place.\\nno commercial ...                 2   \n",
       "502  Easy to reach by car from Thungsong - and only...                 2   \n",
       "503  Tham khao Yoi temple next to the cave is a mus...                 2   \n",
       "504  The Khao Mai Kaew cave was an interesting and ...                 1   \n",
       "\n",
       "     predicted_sentiment   place_id place_name emotion    review_id  \\\n",
       "500                    0  P03005928   Saraburi     joy  427149765.0   \n",
       "501                    2  P03005928   Saraburi     joy  239464944.0   \n",
       "502                    2  P03005928   Saraburi     joy  490284622.0   \n",
       "503                    2  P03004509   Saraburi     joy  701459085.0   \n",
       "504                    1  P03004509   Saraburi     joy  890723374.0   \n",
       "\n",
       "     proxy_score  predicted_score  \n",
       "500          1.5         1.499789  \n",
       "501          3.1         3.099694  \n",
       "502          2.3         2.301416  \n",
       "503          3.5         3.499147  \n",
       "504          2.8         2.800333  "
      ]
     },
     "execution_count": 78,
     "metadata": {},
     "output_type": "execute_result"
    }
   ],
   "source": [
    "review_sentiment_df.iloc[500:505]"
   ]
  },
  {
   "cell_type": "code",
   "execution_count": 79,
   "metadata": {},
   "outputs": [
    {
     "name": "stdout",
     "output_type": "stream",
     "text": [
      "RMSE: 0.9879\n",
      "Collaborative Filtering RMSE: 0.9879275928641755\n",
      "Collaborative Filtering prediction for Review 765890432 on Khao Yoi Cave: 4.251600424293963\n"
     ]
    }
   ],
   "source": [
    "model = SVD()\n",
    "model.fit(trainset)\n",
    "\n",
    "# Step 5: Get predictions for the test set\n",
    "predictions = model.test(testset)\n",
    "print(f\"Collaborative Filtering RMSE: {accuracy.rmse(predictions)}\")\n",
    "\n",
    "# Step 6: Collaborative Filtering predictions for a specific review-item pair\n",
    "review_id = 765890432\n",
    "item_id = 'Khao Yoi Cave'\n",
    "collab_pred = model.predict(review_id, item_id).est\n",
    "print(f\"Collaborative Filtering prediction for Review {review_id} on {item_id}: {collab_pred}\")"
   ]
  },
  {
   "cell_type": "code",
   "execution_count": 80,
   "metadata": {},
   "outputs": [
    {
     "name": "stdout",
     "output_type": "stream",
     "text": [
      "Hybrid Recommendation Score for 765890432 on Khao Yoi Cave: 3.950960254576378 of 5\n"
     ]
    }
   ],
   "source": [
    "# Define weights for each method\n",
    "collab_weight = 0.6\n",
    "content_weight = 0.4\n",
    "\n",
    "# Get the content-based score for a specific item (e.g., 'Wat Pho')\n",
    "content_pred = review_sentiment_df[review_sentiment_df['location_name'] == item_id]['proxy_score'].values[0]\n",
    "\n",
    "# Combine both scores into a final hybrid score\n",
    "hybrid_score = (collab_weight * collab_pred) + (content_weight * content_pred)\n",
    "\n",
    "print(f\"Hybrid Recommendation Score for {review_id} on {item_id}: {hybrid_score} of 5\")\n"
   ]
  },
  {
   "cell_type": "markdown",
   "metadata": {},
   "source": [
    "## หลักการ\n",
    "ระบบแนะนำแบบไฮบริดเป็นการผสมผสานระหว่าง **Collaborative Filtering (CF)** และ **Content-Based Filtering (CBF)** เพื่อใช้ประโยชน์จากทั้งสองวิธี:\n",
    "\n",
    "- **Collaborative Filtering (CF)**: วิเคราะห์พฤติกรรมการให้คะแนนของผู้ใช้ที่คล้ายกัน เพื่อแนะนำสถานที่ที่ผู้ใช้อาจจะชอบ\n",
    "- **Content-Based Filtering (CBF)**: วิเคราะห์คุณลักษณะของสถานที่ เช่น ความรู้สึกในการรีวิว (sentiment) หรือจำนวนการโหวต (helpful voting) เพื่อแนะนำสถานที่ที่มีลักษณะคล้ายกับที่ผู้ใช้เคยชอบ\n",
    "\n",
    "## การคำนวณ\n",
    "คะแนนไฮบริดคำนวณจากการถ่วงน้ำหนักระหว่าง CF และ CBF โดยใช้สูตร:\n",
    "\n",
    "$$ \n",
    "\\text{Hybrid Score} = (\\text{Weight}_{CF} \\times \\text{CF Score}) + (\\text{Weight}_{CBF} \\times \\text{CBF Score}) \n",
    "$$\n",
    "\n",
    "ซึ่ง **Weight** จะถูกกำหนดตามความสำคัญของแต่ละโมเดลในระบบ\n",
    "\n",
    "## การตีความ\n",
    "- **คะแนนใกล้ 5**: โมเดลคาดว่าผู้ใช้หรือรีวิวนี้น่าจะชอบสถานที่มาก\n",
    "- **คะแนนใกล้ 1**: โมเดลคาดว่าผู้ใช้ไม่น่าจะชอบสถานที่นั้น\n",
    "- **คะแนนกลางๆ**: ผู้ใช้อาจรู้สึกกลางๆ กับสถานที่นั้น\n",
    "\n",
    "คะแนนนี้สามารถนำไปใช้เพื่อจัดลำดับความสำคัญในการแนะนำสถานที่ต่างๆ ให้กับผู้ใช้ตามความชอบที่คาดการณ์\n"
   ]
  },
  {
   "cell_type": "code",
   "execution_count": 98,
   "metadata": {},
   "outputs": [],
   "source": [
    "def recommend_top5_locations(review_id, svd_model, review_sentiment_df, content_weights=(0.4, 0.3, 0.3), cf_weight=0.6, cbf_weight=0.4):\n",
    "    \"\"\"\n",
    "    Recommend the top 5 locations that the user (review_id) might like based on hybrid recommendation.\n",
    "\n",
    "    Parameters:\n",
    "    review_id (int): The review ID for which to recommend locations.\n",
    "    svd_model (SVD): The trained SVD collaborative filtering model.\n",
    "    review_sentiment_df (pd.DataFrame): The DataFrame containing review data and content features.\n",
    "    content_weights (tuple): Weights for content-based features (rating, helpful_voting, predicted_sentiment).\n",
    "    cf_weight (float): Weight for collaborative filtering score.\n",
    "    cbf_weight (float): Weight for content-based filtering score.\n",
    "\n",
    "    Returns:\n",
    "    pd.DataFrame: Top 5 recommended locations with their hybrid scores.\n",
    "    \"\"\"\n",
    "    # Get the list of all locations\n",
    "    all_locations = review_sentiment_df['location_name'].unique()\n",
    "    \n",
    "    # Get the locations that the user (review_id) has already reviewed\n",
    "    reviewed_locations = review_sentiment_df[review_sentiment_df['review_id'] == review_id]['location_name'].unique()\n",
    "    \n",
    "    # Filter out locations that the user has already reviewed\n",
    "    locations_to_recommend = [loc for loc in all_locations if loc not in reviewed_locations]\n",
    "    \n",
    "    recommendations = []\n",
    "\n",
    "    # Normalize content features to avoid domination by one feature\n",
    "    min_rating = review_sentiment_df['rating'].min()\n",
    "    max_rating = review_sentiment_df['rating'].max()\n",
    "    min_helpful = review_sentiment_df['helpful_voting'].min()\n",
    "    max_helpful = review_sentiment_df['helpful_voting'].max()\n",
    "    min_sentiment = review_sentiment_df['predicted_sentiment'].min()\n",
    "    max_sentiment = review_sentiment_df['predicted_sentiment'].max()\n",
    "\n",
    "    for location in locations_to_recommend:\n",
    "        # Step 1: Collaborative Filtering (CF) Score\n",
    "        try:\n",
    "            cf_score = svd_model.predict(review_id, location).est\n",
    "        except:\n",
    "            cf_score = 0  # In case prediction fails for any reason\n",
    "        \n",
    "        # Step 2: Content-Based Filtering (CBF) Score\n",
    "        location_data = review_sentiment_df[review_sentiment_df['location_name'] == location].iloc[0]\n",
    "        \n",
    "        # Normalize the content-based features to a 0-1 scale\n",
    "        normalized_rating = (location_data['rating'] - min_rating) / (max_rating - min_rating)\n",
    "        normalized_helpful = (location_data['helpful_voting'] - min_helpful) / (max_helpful - min_helpful)\n",
    "        normalized_sentiment = (location_data['predicted_sentiment'] - min_sentiment) / (max_sentiment - min_sentiment)\n",
    "        \n",
    "        cbf_score = (\n",
    "            content_weights[0] * normalized_rating +\n",
    "            content_weights[1] * normalized_helpful +\n",
    "            content_weights[2] * normalized_sentiment\n",
    "        )\n",
    "        \n",
    "        # Step 3: Hybrid Score (weighted combination of CF and CBF scores)\n",
    "        hybrid_score = (cf_weight * cf_score) + (cbf_weight * cbf_score)\n",
    "        \n",
    "        # Append the location and the hybrid score to the list\n",
    "        recommendations.append((location, hybrid_score))\n",
    "    \n",
    "    # Sort the recommendations by hybrid score in descending order\n",
    "    recommendations = sorted(recommendations, key=lambda x: x[1], reverse=True)\n",
    "    \n",
    "    # Convert to DataFrame for easier reading and select top 5\n",
    "    recommendations_df = pd.DataFrame(recommendations, columns=['location_name', 'hybrid_score'])\n",
    "    \n",
    "    return recommendations_df.head(5)\n"
   ]
  },
  {
   "cell_type": "code",
   "execution_count": 99,
   "metadata": {},
   "outputs": [
    {
     "data": {
      "text/html": [
       "<div>\n",
       "<style scoped>\n",
       "    .dataframe tbody tr th:only-of-type {\n",
       "        vertical-align: middle;\n",
       "    }\n",
       "\n",
       "    .dataframe tbody tr th {\n",
       "        vertical-align: top;\n",
       "    }\n",
       "\n",
       "    .dataframe thead th {\n",
       "        text-align: right;\n",
       "    }\n",
       "</style>\n",
       "<table border=\"1\" class=\"dataframe\">\n",
       "  <thead>\n",
       "    <tr style=\"text-align: right;\">\n",
       "      <th></th>\n",
       "      <th>review_id</th>\n",
       "    </tr>\n",
       "  </thead>\n",
       "  <tbody>\n",
       "    <tr>\n",
       "      <th>0</th>\n",
       "      <td>738692369</td>\n",
       "    </tr>\n",
       "    <tr>\n",
       "      <th>1</th>\n",
       "      <td>962482865</td>\n",
       "    </tr>\n",
       "    <tr>\n",
       "      <th>2</th>\n",
       "      <td>955989676</td>\n",
       "    </tr>\n",
       "    <tr>\n",
       "      <th>3</th>\n",
       "      <td>955712588</td>\n",
       "    </tr>\n",
       "    <tr>\n",
       "      <th>4</th>\n",
       "      <td>936553670</td>\n",
       "    </tr>\n",
       "    <tr>\n",
       "      <th>5</th>\n",
       "      <td>962490689</td>\n",
       "    </tr>\n",
       "    <tr>\n",
       "      <th>6</th>\n",
       "      <td>935907604</td>\n",
       "    </tr>\n",
       "    <tr>\n",
       "      <th>7</th>\n",
       "      <td>890055418</td>\n",
       "    </tr>\n",
       "    <tr>\n",
       "      <th>8</th>\n",
       "      <td>947799000</td>\n",
       "    </tr>\n",
       "    <tr>\n",
       "      <th>9</th>\n",
       "      <td>946867745</td>\n",
       "    </tr>\n",
       "  </tbody>\n",
       "</table>\n",
       "</div>"
      ],
      "text/plain": [
       "   review_id\n",
       "0  738692369\n",
       "1  962482865\n",
       "2  955989676\n",
       "3  955712588\n",
       "4  936553670\n",
       "5  962490689\n",
       "6  935907604\n",
       "7  890055418\n",
       "8  947799000\n",
       "9  946867745"
      ]
     },
     "execution_count": 99,
     "metadata": {},
     "output_type": "execute_result"
    }
   ],
   "source": [
    "review_sentiment_df[['review_id']].astype(int).iloc[:100].head(10)"
   ]
  },
  {
   "cell_type": "code",
   "execution_count": 106,
   "metadata": {},
   "outputs": [
    {
     "data": {
      "text/html": [
       "<div>\n",
       "<style scoped>\n",
       "    .dataframe tbody tr th:only-of-type {\n",
       "        vertical-align: middle;\n",
       "    }\n",
       "\n",
       "    .dataframe tbody tr th {\n",
       "        vertical-align: top;\n",
       "    }\n",
       "\n",
       "    .dataframe thead th {\n",
       "        text-align: right;\n",
       "    }\n",
       "</style>\n",
       "<table border=\"1\" class=\"dataframe\">\n",
       "  <thead>\n",
       "    <tr style=\"text-align: right;\">\n",
       "      <th></th>\n",
       "      <th>Unnamed: 0</th>\n",
       "      <th>location_id</th>\n",
       "      <th>location_name</th>\n",
       "      <th>trip_type</th>\n",
       "      <th>rating</th>\n",
       "      <th>helpful_voting</th>\n",
       "      <th>review_text</th>\n",
       "      <th>actual_sentiment</th>\n",
       "      <th>predicted_sentiment</th>\n",
       "      <th>place_id</th>\n",
       "      <th>place_name</th>\n",
       "      <th>emotion</th>\n",
       "      <th>review_id</th>\n",
       "      <th>proxy_score</th>\n",
       "      <th>predicted_score</th>\n",
       "    </tr>\n",
       "  </thead>\n",
       "  <tbody>\n",
       "    <tr>\n",
       "      <th>0</th>\n",
       "      <td>8</td>\n",
       "      <td>2273363.0</td>\n",
       "      <td>Wat Rajapradit Sathitmahasimaram Rajaworavihara</td>\n",
       "      <td>NONE</td>\n",
       "      <td>5.0</td>\n",
       "      <td>2.0</td>\n",
       "      <td>One of the least crowded temples but very beau...</td>\n",
       "      <td>2</td>\n",
       "      <td>2</td>\n",
       "      <td>P03013220</td>\n",
       "      <td>Bangkok</td>\n",
       "      <td>love</td>\n",
       "      <td>738692369.0</td>\n",
       "      <td>3.5</td>\n",
       "      <td>3.499147</td>\n",
       "    </tr>\n",
       "  </tbody>\n",
       "</table>\n",
       "</div>"
      ],
      "text/plain": [
       "   Unnamed: 0  location_id                                    location_name  \\\n",
       "0           8    2273363.0  Wat Rajapradit Sathitmahasimaram Rajaworavihara   \n",
       "\n",
       "  trip_type  rating  helpful_voting  \\\n",
       "0      NONE     5.0             2.0   \n",
       "\n",
       "                                         review_text  actual_sentiment  \\\n",
       "0  One of the least crowded temples but very beau...                 2   \n",
       "\n",
       "   predicted_sentiment   place_id place_name emotion    review_id  \\\n",
       "0                    2  P03013220    Bangkok    love  738692369.0   \n",
       "\n",
       "   proxy_score  predicted_score  \n",
       "0          3.5         3.499147  "
      ]
     },
     "execution_count": 106,
     "metadata": {},
     "output_type": "execute_result"
    }
   ],
   "source": [
    "picked_review_id = 738692369\n",
    "review_sentiment_df[review_sentiment_df['review_id'] == picked_review_id]"
   ]
  },
  {
   "cell_type": "code",
   "execution_count": 107,
   "metadata": {},
   "outputs": [
    {
     "name": "stdout",
     "output_type": "stream",
     "text": [
      "                      location_name  hybrid_score\n",
      "0           Wat Amphawan Chetiyaram      2.947568\n",
      "1             Wat Khao Suwan Pradit      2.872810\n",
      "2  Phra Thinang Aisawan Thiphta-Art      2.866534\n",
      "3            Sea Dragon Dive Center      2.866124\n",
      "4                Soi Dog Foundation      2.865616\n"
     ]
    }
   ],
   "source": [
    "# Example usage\n",
    "top5_recommendations = recommend_top5_locations(review_id=picked_review_id, svd_model=model, review_sentiment_df=review_sentiment_df)\n",
    "print(top5_recommendations)"
   ]
  },
  {
   "cell_type": "code",
   "execution_count": 2,
   "metadata": {},
   "outputs": [],
   "source": [
    "import mlflow\n",
    "import optuna\n",
    "import pandas as pd\n",
    "from sklearn.model_selection import train_test_split, cross_val_score\n",
    "from sklearn.ensemble import RandomForestClassifier\n",
    "from sklearn.metrics import accuracy_score"
   ]
  },
  {
   "cell_type": "code",
   "execution_count": 3,
   "metadata": {},
   "outputs": [],
   "source": [
    "FILE_PATH = \"../dataset/full_embled_review_combined.csv\""
   ]
  },
  {
   "cell_type": "code",
   "execution_count": 4,
   "metadata": {},
   "outputs": [],
   "source": [
    "def load_and_prepare_data(file_path):\n",
    "    \"\"\"\n",
    "    Load and prepare data for modeling.\n",
    "    \"\"\"\n",
    "    df = pd.read_csv(file_path)\n",
    "    \n",
    "    # Data cleaning and feature engineering (as in the previous steps)\n",
    "    df.dropna(inplace=True)\n",
    "    df['sentiment'] = df['sentiment'].map({'positive': 1, 'neutral': 0.5, 'negative': 0})\n",
    "    df['weighted_rating'] = df['rating'] * df['sentiment'] * df['helpful_vote']\n",
    "    \n",
    "    # Features and labels\n",
    "    X = df[['rating', 'sentiment', 'helpful_vote', 'weighted_rating']]\n",
    "    y = df['rating']  # Assuming the target is 'rating' in this case\n",
    "    \n",
    "    return train_test_split(X, y, test_size=0.2, random_state=42)"
   ]
  },
  {
   "cell_type": "code",
   "execution_count": 5,
   "metadata": {},
   "outputs": [],
   "source": [
    "def objective(trial):\n",
    "    \"\"\"\n",
    "    Optuna objective function for hyperparameter tuning.\n",
    "    \"\"\"\n",
    "    # Suggest hyperparameters\n",
    "    n_estimators = trial.suggest_int('n_estimators', 50, 200)\n",
    "    max_depth = trial.suggest_int('max_depth', 2, 10)\n",
    "\n",
    "    # Train-test split\n",
    "    X_train, X_test, y_train, y_test = load_and_prepare_data(FILE_PATH)\n",
    "\n",
    "    # Create and train model\n",
    "    model = RandomForestClassifier(n_estimators=n_estimators, max_depth=max_depth)\n",
    "    model.fit(X_train, y_train)\n",
    "\n",
    "    # Predict and evaluate\n",
    "    predictions = model.predict(X_test)\n",
    "    accuracy = accuracy_score(y_test, predictions)\n",
    "    \n",
    "    # Log parameters and metrics with MLFlow\n",
    "    with mlflow.start_run():\n",
    "        mlflow.log_param(\"n_estimators\", n_estimators)\n",
    "        mlflow.log_param(\"max_depth\", max_depth)\n",
    "        mlflow.log_metric(\"accuracy\", accuracy)\n",
    "        mlflow.sklearn.log_model(model, \"random_forest_model\")\n",
    "    \n",
    "    return accuracy"
   ]
  },
  {
   "cell_type": "code",
   "execution_count": 6,
   "metadata": {},
   "outputs": [],
   "source": [
    "def run_optuna_optimization():\n",
    "    \"\"\"\n",
    "    Run Optuna to optimize hyperparameters.\n",
    "    \"\"\"\n",
    "    study = optuna.create_study(direction=\"maximize\")\n",
    "    study.optimize(objective, n_trials=20)\n",
    "\n",
    "    print(f\"Best parameters: {study.best_params}\")\n",
    "    print(f\"Best accuracy: {study.best_value}\")"
   ]
  },
  {
   "cell_type": "code",
   "execution_count": 8,
   "metadata": {},
   "outputs": [
    {
     "name": "stderr",
     "output_type": "stream",
     "text": [
      "[I 2024-09-28 12:51:11,042] A new study created in memory with name: no-name-49efd6eb-87e7-4eed-88de-c5fd074074f8\n",
      "/var/folders/fk/449tdf_12hzd2r7ps4659q0m0000gn/T/ipykernel_5574/630592448.py:5: DtypeWarning: Columns (7) have mixed types. Specify dtype option on import or set low_memory=False.\n",
      "  df = pd.read_csv(file_path)\n",
      "[W 2024-09-28 12:51:15,978] Trial 0 failed with parameters: {'n_estimators': 167, 'max_depth': 5} because of the following error: KeyError('helpful_vote').\n",
      "Traceback (most recent call last):\n",
      "  File \"/Users/ittichaiboonyarakthunya/Library/Caches/pypoetry/virtualenvs/is-project-thailand-tourism-recommendation-qwL-LsgH-py3.12/lib/python3.12/site-packages/pandas/core/indexes/base.py\", line 3802, in get_loc\n",
      "    return self._engine.get_loc(casted_key)\n",
      "           ^^^^^^^^^^^^^^^^^^^^^^^^^^^^^^^^\n",
      "  File \"index.pyx\", line 153, in pandas._libs.index.IndexEngine.get_loc\n",
      "  File \"index.pyx\", line 182, in pandas._libs.index.IndexEngine.get_loc\n",
      "  File \"pandas/_libs/hashtable_class_helper.pxi\", line 7081, in pandas._libs.hashtable.PyObjectHashTable.get_item\n",
      "  File \"pandas/_libs/hashtable_class_helper.pxi\", line 7089, in pandas._libs.hashtable.PyObjectHashTable.get_item\n",
      "KeyError: 'helpful_vote'\n",
      "\n",
      "The above exception was the direct cause of the following exception:\n",
      "\n",
      "Traceback (most recent call last):\n",
      "  File \"/Users/ittichaiboonyarakthunya/Library/Caches/pypoetry/virtualenvs/is-project-thailand-tourism-recommendation-qwL-LsgH-py3.12/lib/python3.12/site-packages/optuna/study/_optimize.py\", line 197, in _run_trial\n",
      "    value_or_values = func(trial)\n",
      "                      ^^^^^^^^^^^\n",
      "  File \"/var/folders/fk/449tdf_12hzd2r7ps4659q0m0000gn/T/ipykernel_5574/3832646894.py\", line 10, in objective\n",
      "    X_train, X_test, y_train, y_test = load_and_prepare_data(FILE_PATH)\n",
      "                                       ^^^^^^^^^^^^^^^^^^^^^^^^^^^^^^^^\n",
      "  File \"/var/folders/fk/449tdf_12hzd2r7ps4659q0m0000gn/T/ipykernel_5574/630592448.py\", line 10, in load_and_prepare_data\n",
      "    df['weighted_rating'] = df['rating'] * df['sentiment'] * df['helpful_vote']\n",
      "                                                             ~~^^^^^^^^^^^^^^^^\n",
      "  File \"/Users/ittichaiboonyarakthunya/Library/Caches/pypoetry/virtualenvs/is-project-thailand-tourism-recommendation-qwL-LsgH-py3.12/lib/python3.12/site-packages/pandas/core/frame.py\", line 4090, in __getitem__\n",
      "    indexer = self.columns.get_loc(key)\n",
      "              ^^^^^^^^^^^^^^^^^^^^^^^^^\n",
      "  File \"/Users/ittichaiboonyarakthunya/Library/Caches/pypoetry/virtualenvs/is-project-thailand-tourism-recommendation-qwL-LsgH-py3.12/lib/python3.12/site-packages/pandas/core/indexes/base.py\", line 3809, in get_loc\n",
      "    raise KeyError(key) from err\n",
      "KeyError: 'helpful_vote'\n",
      "[W 2024-09-28 12:51:15,981] Trial 0 failed with value None.\n"
     ]
    },
    {
     "ename": "KeyError",
     "evalue": "'helpful_vote'",
     "output_type": "error",
     "traceback": [
      "\u001b[0;31m---------------------------------------------------------------------------\u001b[0m",
      "\u001b[0;31mKeyError\u001b[0m                                  Traceback (most recent call last)",
      "File \u001b[0;32m~/Library/Caches/pypoetry/virtualenvs/is-project-thailand-tourism-recommendation-qwL-LsgH-py3.12/lib/python3.12/site-packages/pandas/core/indexes/base.py:3802\u001b[0m, in \u001b[0;36mIndex.get_loc\u001b[0;34m(self, key)\u001b[0m\n\u001b[1;32m   3801\u001b[0m \u001b[38;5;28;01mtry\u001b[39;00m:\n\u001b[0;32m-> 3802\u001b[0m     \u001b[38;5;28;01mreturn\u001b[39;00m \u001b[38;5;28;43mself\u001b[39;49m\u001b[38;5;241;43m.\u001b[39;49m\u001b[43m_engine\u001b[49m\u001b[38;5;241;43m.\u001b[39;49m\u001b[43mget_loc\u001b[49m\u001b[43m(\u001b[49m\u001b[43mcasted_key\u001b[49m\u001b[43m)\u001b[49m\n\u001b[1;32m   3803\u001b[0m \u001b[38;5;28;01mexcept\u001b[39;00m \u001b[38;5;167;01mKeyError\u001b[39;00m \u001b[38;5;28;01mas\u001b[39;00m err:\n",
      "File \u001b[0;32mindex.pyx:153\u001b[0m, in \u001b[0;36mpandas._libs.index.IndexEngine.get_loc\u001b[0;34m()\u001b[0m\n",
      "File \u001b[0;32mindex.pyx:182\u001b[0m, in \u001b[0;36mpandas._libs.index.IndexEngine.get_loc\u001b[0;34m()\u001b[0m\n",
      "File \u001b[0;32mpandas/_libs/hashtable_class_helper.pxi:7081\u001b[0m, in \u001b[0;36mpandas._libs.hashtable.PyObjectHashTable.get_item\u001b[0;34m()\u001b[0m\n",
      "File \u001b[0;32mpandas/_libs/hashtable_class_helper.pxi:7089\u001b[0m, in \u001b[0;36mpandas._libs.hashtable.PyObjectHashTable.get_item\u001b[0;34m()\u001b[0m\n",
      "\u001b[0;31mKeyError\u001b[0m: 'helpful_vote'",
      "\nThe above exception was the direct cause of the following exception:\n",
      "\u001b[0;31mKeyError\u001b[0m                                  Traceback (most recent call last)",
      "Cell \u001b[0;32mIn[8], line 2\u001b[0m\n\u001b[1;32m      1\u001b[0m mlflow\u001b[38;5;241m.\u001b[39mset_experiment(\u001b[38;5;124m\"\u001b[39m\u001b[38;5;124mDelta-Project\u001b[39m\u001b[38;5;124m\"\u001b[39m)\n\u001b[0;32m----> 2\u001b[0m \u001b[43mrun_optuna_optimization\u001b[49m\u001b[43m(\u001b[49m\u001b[43m)\u001b[49m\n",
      "Cell \u001b[0;32mIn[6], line 6\u001b[0m, in \u001b[0;36mrun_optuna_optimization\u001b[0;34m()\u001b[0m\n\u001b[1;32m      2\u001b[0m \u001b[38;5;250m\u001b[39m\u001b[38;5;124;03m\"\"\"\u001b[39;00m\n\u001b[1;32m      3\u001b[0m \u001b[38;5;124;03mRun Optuna to optimize hyperparameters.\u001b[39;00m\n\u001b[1;32m      4\u001b[0m \u001b[38;5;124;03m\"\"\"\u001b[39;00m\n\u001b[1;32m      5\u001b[0m study \u001b[38;5;241m=\u001b[39m optuna\u001b[38;5;241m.\u001b[39mcreate_study(direction\u001b[38;5;241m=\u001b[39m\u001b[38;5;124m\"\u001b[39m\u001b[38;5;124mmaximize\u001b[39m\u001b[38;5;124m\"\u001b[39m)\n\u001b[0;32m----> 6\u001b[0m \u001b[43mstudy\u001b[49m\u001b[38;5;241;43m.\u001b[39;49m\u001b[43moptimize\u001b[49m\u001b[43m(\u001b[49m\u001b[43mobjective\u001b[49m\u001b[43m,\u001b[49m\u001b[43m \u001b[49m\u001b[43mn_trials\u001b[49m\u001b[38;5;241;43m=\u001b[39;49m\u001b[38;5;241;43m20\u001b[39;49m\u001b[43m)\u001b[49m\n\u001b[1;32m      8\u001b[0m \u001b[38;5;28mprint\u001b[39m(\u001b[38;5;124mf\u001b[39m\u001b[38;5;124m\"\u001b[39m\u001b[38;5;124mBest parameters: \u001b[39m\u001b[38;5;132;01m{\u001b[39;00mstudy\u001b[38;5;241m.\u001b[39mbest_params\u001b[38;5;132;01m}\u001b[39;00m\u001b[38;5;124m\"\u001b[39m)\n\u001b[1;32m      9\u001b[0m \u001b[38;5;28mprint\u001b[39m(\u001b[38;5;124mf\u001b[39m\u001b[38;5;124m\"\u001b[39m\u001b[38;5;124mBest accuracy: \u001b[39m\u001b[38;5;132;01m{\u001b[39;00mstudy\u001b[38;5;241m.\u001b[39mbest_value\u001b[38;5;132;01m}\u001b[39;00m\u001b[38;5;124m\"\u001b[39m)\n",
      "File \u001b[0;32m~/Library/Caches/pypoetry/virtualenvs/is-project-thailand-tourism-recommendation-qwL-LsgH-py3.12/lib/python3.12/site-packages/optuna/study/study.py:475\u001b[0m, in \u001b[0;36mStudy.optimize\u001b[0;34m(self, func, n_trials, timeout, n_jobs, catch, callbacks, gc_after_trial, show_progress_bar)\u001b[0m\n\u001b[1;32m    373\u001b[0m \u001b[38;5;28;01mdef\u001b[39;00m \u001b[38;5;21moptimize\u001b[39m(\n\u001b[1;32m    374\u001b[0m     \u001b[38;5;28mself\u001b[39m,\n\u001b[1;32m    375\u001b[0m     func: ObjectiveFuncType,\n\u001b[0;32m   (...)\u001b[0m\n\u001b[1;32m    382\u001b[0m     show_progress_bar: \u001b[38;5;28mbool\u001b[39m \u001b[38;5;241m=\u001b[39m \u001b[38;5;28;01mFalse\u001b[39;00m,\n\u001b[1;32m    383\u001b[0m ) \u001b[38;5;241m-\u001b[39m\u001b[38;5;241m>\u001b[39m \u001b[38;5;28;01mNone\u001b[39;00m:\n\u001b[1;32m    384\u001b[0m \u001b[38;5;250m    \u001b[39m\u001b[38;5;124;03m\"\"\"Optimize an objective function.\u001b[39;00m\n\u001b[1;32m    385\u001b[0m \n\u001b[1;32m    386\u001b[0m \u001b[38;5;124;03m    Optimization is done by choosing a suitable set of hyperparameter values from a given\u001b[39;00m\n\u001b[0;32m   (...)\u001b[0m\n\u001b[1;32m    473\u001b[0m \u001b[38;5;124;03m            If nested invocation of this method occurs.\u001b[39;00m\n\u001b[1;32m    474\u001b[0m \u001b[38;5;124;03m    \"\"\"\u001b[39;00m\n\u001b[0;32m--> 475\u001b[0m     \u001b[43m_optimize\u001b[49m\u001b[43m(\u001b[49m\n\u001b[1;32m    476\u001b[0m \u001b[43m        \u001b[49m\u001b[43mstudy\u001b[49m\u001b[38;5;241;43m=\u001b[39;49m\u001b[38;5;28;43mself\u001b[39;49m\u001b[43m,\u001b[49m\n\u001b[1;32m    477\u001b[0m \u001b[43m        \u001b[49m\u001b[43mfunc\u001b[49m\u001b[38;5;241;43m=\u001b[39;49m\u001b[43mfunc\u001b[49m\u001b[43m,\u001b[49m\n\u001b[1;32m    478\u001b[0m \u001b[43m        \u001b[49m\u001b[43mn_trials\u001b[49m\u001b[38;5;241;43m=\u001b[39;49m\u001b[43mn_trials\u001b[49m\u001b[43m,\u001b[49m\n\u001b[1;32m    479\u001b[0m \u001b[43m        \u001b[49m\u001b[43mtimeout\u001b[49m\u001b[38;5;241;43m=\u001b[39;49m\u001b[43mtimeout\u001b[49m\u001b[43m,\u001b[49m\n\u001b[1;32m    480\u001b[0m \u001b[43m        \u001b[49m\u001b[43mn_jobs\u001b[49m\u001b[38;5;241;43m=\u001b[39;49m\u001b[43mn_jobs\u001b[49m\u001b[43m,\u001b[49m\n\u001b[1;32m    481\u001b[0m \u001b[43m        \u001b[49m\u001b[43mcatch\u001b[49m\u001b[38;5;241;43m=\u001b[39;49m\u001b[38;5;28;43mtuple\u001b[39;49m\u001b[43m(\u001b[49m\u001b[43mcatch\u001b[49m\u001b[43m)\u001b[49m\u001b[43m \u001b[49m\u001b[38;5;28;43;01mif\u001b[39;49;00m\u001b[43m \u001b[49m\u001b[38;5;28;43misinstance\u001b[39;49m\u001b[43m(\u001b[49m\u001b[43mcatch\u001b[49m\u001b[43m,\u001b[49m\u001b[43m \u001b[49m\u001b[43mIterable\u001b[49m\u001b[43m)\u001b[49m\u001b[43m \u001b[49m\u001b[38;5;28;43;01melse\u001b[39;49;00m\u001b[43m \u001b[49m\u001b[43m(\u001b[49m\u001b[43mcatch\u001b[49m\u001b[43m,\u001b[49m\u001b[43m)\u001b[49m\u001b[43m,\u001b[49m\n\u001b[1;32m    482\u001b[0m \u001b[43m        \u001b[49m\u001b[43mcallbacks\u001b[49m\u001b[38;5;241;43m=\u001b[39;49m\u001b[43mcallbacks\u001b[49m\u001b[43m,\u001b[49m\n\u001b[1;32m    483\u001b[0m \u001b[43m        \u001b[49m\u001b[43mgc_after_trial\u001b[49m\u001b[38;5;241;43m=\u001b[39;49m\u001b[43mgc_after_trial\u001b[49m\u001b[43m,\u001b[49m\n\u001b[1;32m    484\u001b[0m \u001b[43m        \u001b[49m\u001b[43mshow_progress_bar\u001b[49m\u001b[38;5;241;43m=\u001b[39;49m\u001b[43mshow_progress_bar\u001b[49m\u001b[43m,\u001b[49m\n\u001b[1;32m    485\u001b[0m \u001b[43m    \u001b[49m\u001b[43m)\u001b[49m\n",
      "File \u001b[0;32m~/Library/Caches/pypoetry/virtualenvs/is-project-thailand-tourism-recommendation-qwL-LsgH-py3.12/lib/python3.12/site-packages/optuna/study/_optimize.py:63\u001b[0m, in \u001b[0;36m_optimize\u001b[0;34m(study, func, n_trials, timeout, n_jobs, catch, callbacks, gc_after_trial, show_progress_bar)\u001b[0m\n\u001b[1;32m     61\u001b[0m \u001b[38;5;28;01mtry\u001b[39;00m:\n\u001b[1;32m     62\u001b[0m     \u001b[38;5;28;01mif\u001b[39;00m n_jobs \u001b[38;5;241m==\u001b[39m \u001b[38;5;241m1\u001b[39m:\n\u001b[0;32m---> 63\u001b[0m         \u001b[43m_optimize_sequential\u001b[49m\u001b[43m(\u001b[49m\n\u001b[1;32m     64\u001b[0m \u001b[43m            \u001b[49m\u001b[43mstudy\u001b[49m\u001b[43m,\u001b[49m\n\u001b[1;32m     65\u001b[0m \u001b[43m            \u001b[49m\u001b[43mfunc\u001b[49m\u001b[43m,\u001b[49m\n\u001b[1;32m     66\u001b[0m \u001b[43m            \u001b[49m\u001b[43mn_trials\u001b[49m\u001b[43m,\u001b[49m\n\u001b[1;32m     67\u001b[0m \u001b[43m            \u001b[49m\u001b[43mtimeout\u001b[49m\u001b[43m,\u001b[49m\n\u001b[1;32m     68\u001b[0m \u001b[43m            \u001b[49m\u001b[43mcatch\u001b[49m\u001b[43m,\u001b[49m\n\u001b[1;32m     69\u001b[0m \u001b[43m            \u001b[49m\u001b[43mcallbacks\u001b[49m\u001b[43m,\u001b[49m\n\u001b[1;32m     70\u001b[0m \u001b[43m            \u001b[49m\u001b[43mgc_after_trial\u001b[49m\u001b[43m,\u001b[49m\n\u001b[1;32m     71\u001b[0m \u001b[43m            \u001b[49m\u001b[43mreseed_sampler_rng\u001b[49m\u001b[38;5;241;43m=\u001b[39;49m\u001b[38;5;28;43;01mFalse\u001b[39;49;00m\u001b[43m,\u001b[49m\n\u001b[1;32m     72\u001b[0m \u001b[43m            \u001b[49m\u001b[43mtime_start\u001b[49m\u001b[38;5;241;43m=\u001b[39;49m\u001b[38;5;28;43;01mNone\u001b[39;49;00m\u001b[43m,\u001b[49m\n\u001b[1;32m     73\u001b[0m \u001b[43m            \u001b[49m\u001b[43mprogress_bar\u001b[49m\u001b[38;5;241;43m=\u001b[39;49m\u001b[43mprogress_bar\u001b[49m\u001b[43m,\u001b[49m\n\u001b[1;32m     74\u001b[0m \u001b[43m        \u001b[49m\u001b[43m)\u001b[49m\n\u001b[1;32m     75\u001b[0m     \u001b[38;5;28;01melse\u001b[39;00m:\n\u001b[1;32m     76\u001b[0m         \u001b[38;5;28;01mif\u001b[39;00m n_jobs \u001b[38;5;241m==\u001b[39m \u001b[38;5;241m-\u001b[39m\u001b[38;5;241m1\u001b[39m:\n",
      "File \u001b[0;32m~/Library/Caches/pypoetry/virtualenvs/is-project-thailand-tourism-recommendation-qwL-LsgH-py3.12/lib/python3.12/site-packages/optuna/study/_optimize.py:160\u001b[0m, in \u001b[0;36m_optimize_sequential\u001b[0;34m(study, func, n_trials, timeout, catch, callbacks, gc_after_trial, reseed_sampler_rng, time_start, progress_bar)\u001b[0m\n\u001b[1;32m    157\u001b[0m         \u001b[38;5;28;01mbreak\u001b[39;00m\n\u001b[1;32m    159\u001b[0m \u001b[38;5;28;01mtry\u001b[39;00m:\n\u001b[0;32m--> 160\u001b[0m     frozen_trial \u001b[38;5;241m=\u001b[39m \u001b[43m_run_trial\u001b[49m\u001b[43m(\u001b[49m\u001b[43mstudy\u001b[49m\u001b[43m,\u001b[49m\u001b[43m \u001b[49m\u001b[43mfunc\u001b[49m\u001b[43m,\u001b[49m\u001b[43m \u001b[49m\u001b[43mcatch\u001b[49m\u001b[43m)\u001b[49m\n\u001b[1;32m    161\u001b[0m \u001b[38;5;28;01mfinally\u001b[39;00m:\n\u001b[1;32m    162\u001b[0m     \u001b[38;5;66;03m# The following line mitigates memory problems that can be occurred in some\u001b[39;00m\n\u001b[1;32m    163\u001b[0m     \u001b[38;5;66;03m# environments (e.g., services that use computing containers such as GitHub Actions).\u001b[39;00m\n\u001b[1;32m    164\u001b[0m     \u001b[38;5;66;03m# Please refer to the following PR for further details:\u001b[39;00m\n\u001b[1;32m    165\u001b[0m     \u001b[38;5;66;03m# https://github.com/optuna/optuna/pull/325.\u001b[39;00m\n\u001b[1;32m    166\u001b[0m     \u001b[38;5;28;01mif\u001b[39;00m gc_after_trial:\n",
      "File \u001b[0;32m~/Library/Caches/pypoetry/virtualenvs/is-project-thailand-tourism-recommendation-qwL-LsgH-py3.12/lib/python3.12/site-packages/optuna/study/_optimize.py:248\u001b[0m, in \u001b[0;36m_run_trial\u001b[0;34m(study, func, catch)\u001b[0m\n\u001b[1;32m    241\u001b[0m         \u001b[38;5;28;01massert\u001b[39;00m \u001b[38;5;28;01mFalse\u001b[39;00m, \u001b[38;5;124m\"\u001b[39m\u001b[38;5;124mShould not reach.\u001b[39m\u001b[38;5;124m\"\u001b[39m\n\u001b[1;32m    243\u001b[0m \u001b[38;5;28;01mif\u001b[39;00m (\n\u001b[1;32m    244\u001b[0m     frozen_trial\u001b[38;5;241m.\u001b[39mstate \u001b[38;5;241m==\u001b[39m TrialState\u001b[38;5;241m.\u001b[39mFAIL\n\u001b[1;32m    245\u001b[0m     \u001b[38;5;129;01mand\u001b[39;00m func_err \u001b[38;5;129;01mis\u001b[39;00m \u001b[38;5;129;01mnot\u001b[39;00m \u001b[38;5;28;01mNone\u001b[39;00m\n\u001b[1;32m    246\u001b[0m     \u001b[38;5;129;01mand\u001b[39;00m \u001b[38;5;129;01mnot\u001b[39;00m \u001b[38;5;28misinstance\u001b[39m(func_err, catch)\n\u001b[1;32m    247\u001b[0m ):\n\u001b[0;32m--> 248\u001b[0m     \u001b[38;5;28;01mraise\u001b[39;00m func_err\n\u001b[1;32m    249\u001b[0m \u001b[38;5;28;01mreturn\u001b[39;00m frozen_trial\n",
      "File \u001b[0;32m~/Library/Caches/pypoetry/virtualenvs/is-project-thailand-tourism-recommendation-qwL-LsgH-py3.12/lib/python3.12/site-packages/optuna/study/_optimize.py:197\u001b[0m, in \u001b[0;36m_run_trial\u001b[0;34m(study, func, catch)\u001b[0m\n\u001b[1;32m    195\u001b[0m \u001b[38;5;28;01mwith\u001b[39;00m get_heartbeat_thread(trial\u001b[38;5;241m.\u001b[39m_trial_id, study\u001b[38;5;241m.\u001b[39m_storage):\n\u001b[1;32m    196\u001b[0m     \u001b[38;5;28;01mtry\u001b[39;00m:\n\u001b[0;32m--> 197\u001b[0m         value_or_values \u001b[38;5;241m=\u001b[39m \u001b[43mfunc\u001b[49m\u001b[43m(\u001b[49m\u001b[43mtrial\u001b[49m\u001b[43m)\u001b[49m\n\u001b[1;32m    198\u001b[0m     \u001b[38;5;28;01mexcept\u001b[39;00m exceptions\u001b[38;5;241m.\u001b[39mTrialPruned \u001b[38;5;28;01mas\u001b[39;00m e:\n\u001b[1;32m    199\u001b[0m         \u001b[38;5;66;03m# TODO(mamu): Handle multi-objective cases.\u001b[39;00m\n\u001b[1;32m    200\u001b[0m         state \u001b[38;5;241m=\u001b[39m TrialState\u001b[38;5;241m.\u001b[39mPRUNED\n",
      "Cell \u001b[0;32mIn[5], line 10\u001b[0m, in \u001b[0;36mobjective\u001b[0;34m(trial)\u001b[0m\n\u001b[1;32m      7\u001b[0m max_depth \u001b[38;5;241m=\u001b[39m trial\u001b[38;5;241m.\u001b[39msuggest_int(\u001b[38;5;124m'\u001b[39m\u001b[38;5;124mmax_depth\u001b[39m\u001b[38;5;124m'\u001b[39m, \u001b[38;5;241m2\u001b[39m, \u001b[38;5;241m10\u001b[39m)\n\u001b[1;32m      9\u001b[0m \u001b[38;5;66;03m# Train-test split\u001b[39;00m\n\u001b[0;32m---> 10\u001b[0m X_train, X_test, y_train, y_test \u001b[38;5;241m=\u001b[39m \u001b[43mload_and_prepare_data\u001b[49m\u001b[43m(\u001b[49m\u001b[43mFILE_PATH\u001b[49m\u001b[43m)\u001b[49m\n\u001b[1;32m     12\u001b[0m \u001b[38;5;66;03m# Create and train model\u001b[39;00m\n\u001b[1;32m     13\u001b[0m model \u001b[38;5;241m=\u001b[39m RandomForestClassifier(n_estimators\u001b[38;5;241m=\u001b[39mn_estimators, max_depth\u001b[38;5;241m=\u001b[39mmax_depth)\n",
      "Cell \u001b[0;32mIn[4], line 10\u001b[0m, in \u001b[0;36mload_and_prepare_data\u001b[0;34m(file_path)\u001b[0m\n\u001b[1;32m      8\u001b[0m df\u001b[38;5;241m.\u001b[39mdropna(inplace\u001b[38;5;241m=\u001b[39m\u001b[38;5;28;01mTrue\u001b[39;00m)\n\u001b[1;32m      9\u001b[0m df[\u001b[38;5;124m'\u001b[39m\u001b[38;5;124msentiment\u001b[39m\u001b[38;5;124m'\u001b[39m] \u001b[38;5;241m=\u001b[39m df[\u001b[38;5;124m'\u001b[39m\u001b[38;5;124msentiment\u001b[39m\u001b[38;5;124m'\u001b[39m]\u001b[38;5;241m.\u001b[39mmap({\u001b[38;5;124m'\u001b[39m\u001b[38;5;124mpositive\u001b[39m\u001b[38;5;124m'\u001b[39m: \u001b[38;5;241m1\u001b[39m, \u001b[38;5;124m'\u001b[39m\u001b[38;5;124mneutral\u001b[39m\u001b[38;5;124m'\u001b[39m: \u001b[38;5;241m0.5\u001b[39m, \u001b[38;5;124m'\u001b[39m\u001b[38;5;124mnegative\u001b[39m\u001b[38;5;124m'\u001b[39m: \u001b[38;5;241m0\u001b[39m})\n\u001b[0;32m---> 10\u001b[0m df[\u001b[38;5;124m'\u001b[39m\u001b[38;5;124mweighted_rating\u001b[39m\u001b[38;5;124m'\u001b[39m] \u001b[38;5;241m=\u001b[39m df[\u001b[38;5;124m'\u001b[39m\u001b[38;5;124mrating\u001b[39m\u001b[38;5;124m'\u001b[39m] \u001b[38;5;241m*\u001b[39m df[\u001b[38;5;124m'\u001b[39m\u001b[38;5;124msentiment\u001b[39m\u001b[38;5;124m'\u001b[39m] \u001b[38;5;241m*\u001b[39m \u001b[43mdf\u001b[49m\u001b[43m[\u001b[49m\u001b[38;5;124;43m'\u001b[39;49m\u001b[38;5;124;43mhelpful_vote\u001b[39;49m\u001b[38;5;124;43m'\u001b[39;49m\u001b[43m]\u001b[49m\n\u001b[1;32m     12\u001b[0m \u001b[38;5;66;03m# Features and labels\u001b[39;00m\n\u001b[1;32m     13\u001b[0m X \u001b[38;5;241m=\u001b[39m df[[\u001b[38;5;124m'\u001b[39m\u001b[38;5;124mrating\u001b[39m\u001b[38;5;124m'\u001b[39m, \u001b[38;5;124m'\u001b[39m\u001b[38;5;124msentiment\u001b[39m\u001b[38;5;124m'\u001b[39m, \u001b[38;5;124m'\u001b[39m\u001b[38;5;124mhelpful_vote\u001b[39m\u001b[38;5;124m'\u001b[39m, \u001b[38;5;124m'\u001b[39m\u001b[38;5;124mweighted_rating\u001b[39m\u001b[38;5;124m'\u001b[39m]]\n",
      "File \u001b[0;32m~/Library/Caches/pypoetry/virtualenvs/is-project-thailand-tourism-recommendation-qwL-LsgH-py3.12/lib/python3.12/site-packages/pandas/core/frame.py:4090\u001b[0m, in \u001b[0;36mDataFrame.__getitem__\u001b[0;34m(self, key)\u001b[0m\n\u001b[1;32m   4088\u001b[0m \u001b[38;5;28;01mif\u001b[39;00m \u001b[38;5;28mself\u001b[39m\u001b[38;5;241m.\u001b[39mcolumns\u001b[38;5;241m.\u001b[39mnlevels \u001b[38;5;241m>\u001b[39m \u001b[38;5;241m1\u001b[39m:\n\u001b[1;32m   4089\u001b[0m     \u001b[38;5;28;01mreturn\u001b[39;00m \u001b[38;5;28mself\u001b[39m\u001b[38;5;241m.\u001b[39m_getitem_multilevel(key)\n\u001b[0;32m-> 4090\u001b[0m indexer \u001b[38;5;241m=\u001b[39m \u001b[38;5;28;43mself\u001b[39;49m\u001b[38;5;241;43m.\u001b[39;49m\u001b[43mcolumns\u001b[49m\u001b[38;5;241;43m.\u001b[39;49m\u001b[43mget_loc\u001b[49m\u001b[43m(\u001b[49m\u001b[43mkey\u001b[49m\u001b[43m)\u001b[49m\n\u001b[1;32m   4091\u001b[0m \u001b[38;5;28;01mif\u001b[39;00m is_integer(indexer):\n\u001b[1;32m   4092\u001b[0m     indexer \u001b[38;5;241m=\u001b[39m [indexer]\n",
      "File \u001b[0;32m~/Library/Caches/pypoetry/virtualenvs/is-project-thailand-tourism-recommendation-qwL-LsgH-py3.12/lib/python3.12/site-packages/pandas/core/indexes/base.py:3809\u001b[0m, in \u001b[0;36mIndex.get_loc\u001b[0;34m(self, key)\u001b[0m\n\u001b[1;32m   3804\u001b[0m     \u001b[38;5;28;01mif\u001b[39;00m \u001b[38;5;28misinstance\u001b[39m(casted_key, \u001b[38;5;28mslice\u001b[39m) \u001b[38;5;129;01mor\u001b[39;00m (\n\u001b[1;32m   3805\u001b[0m         \u001b[38;5;28misinstance\u001b[39m(casted_key, abc\u001b[38;5;241m.\u001b[39mIterable)\n\u001b[1;32m   3806\u001b[0m         \u001b[38;5;129;01mand\u001b[39;00m \u001b[38;5;28many\u001b[39m(\u001b[38;5;28misinstance\u001b[39m(x, \u001b[38;5;28mslice\u001b[39m) \u001b[38;5;28;01mfor\u001b[39;00m x \u001b[38;5;129;01min\u001b[39;00m casted_key)\n\u001b[1;32m   3807\u001b[0m     ):\n\u001b[1;32m   3808\u001b[0m         \u001b[38;5;28;01mraise\u001b[39;00m InvalidIndexError(key)\n\u001b[0;32m-> 3809\u001b[0m     \u001b[38;5;28;01mraise\u001b[39;00m \u001b[38;5;167;01mKeyError\u001b[39;00m(key) \u001b[38;5;28;01mfrom\u001b[39;00m \u001b[38;5;21;01merr\u001b[39;00m\n\u001b[1;32m   3810\u001b[0m \u001b[38;5;28;01mexcept\u001b[39;00m \u001b[38;5;167;01mTypeError\u001b[39;00m:\n\u001b[1;32m   3811\u001b[0m     \u001b[38;5;66;03m# If we have a listlike key, _check_indexing_error will raise\u001b[39;00m\n\u001b[1;32m   3812\u001b[0m     \u001b[38;5;66;03m#  InvalidIndexError. Otherwise we fall through and re-raise\u001b[39;00m\n\u001b[1;32m   3813\u001b[0m     \u001b[38;5;66;03m#  the TypeError.\u001b[39;00m\n\u001b[1;32m   3814\u001b[0m     \u001b[38;5;28mself\u001b[39m\u001b[38;5;241m.\u001b[39m_check_indexing_error(key)\n",
      "\u001b[0;31mKeyError\u001b[0m: 'helpful_vote'"
     ]
    }
   ],
   "source": [
    "mlflow.set_experiment(\"Delta-Project\")\n",
    "run_optuna_optimization()"
   ]
  }
 ],
 "metadata": {
  "kernelspec": {
   "display_name": "is-project-thailand-tourism-recommendation-qwL-LsgH-py3.12",
   "language": "python",
   "name": "python3"
  },
  "language_info": {
   "codemirror_mode": {
    "name": "ipython",
    "version": 3
   },
   "file_extension": ".py",
   "mimetype": "text/x-python",
   "name": "python",
   "nbconvert_exporter": "python",
   "pygments_lexer": "ipython3",
   "version": "3.12.5"
  }
 },
 "nbformat": 4,
 "nbformat_minor": 2
}
