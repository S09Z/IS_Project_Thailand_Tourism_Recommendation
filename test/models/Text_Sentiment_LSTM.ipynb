{
 "cells": [
  {
   "cell_type": "code",
   "execution_count": 1,
   "metadata": {},
   "outputs": [],
   "source": [
    "import os\n",
    "import pandas as pd\n",
    "import nltk\n",
    "import requests\n",
    "import string\n",
    "from gensim.models import Word2Vec, KeyedVectors\n",
    "import shutil\n",
    "import numpy as np\n",
    "import re\n",
    "from sklearn.model_selection import train_test_split\n",
    "import tensorflow\n",
    "from tensorflow.keras.models import Sequential\n",
    "from tensorflow.keras.layers import Embedding, LSTM, Dense, Dropout, Attention, Concatenate\n",
    "from tensorflow.keras.preprocessing.sequence import pad_sequences\n",
    "from tensorflow.keras.preprocessing.text import Tokenizer\n",
    "from sklearn.metrics import accuracy_score, classification_report\n",
    "from tensorflow.keras.callbacks import EarlyStopping\n",
    "from tensorflow.keras.regularizers import l2\n",
    "import shap\n"
   ]
  },
  {
   "cell_type": "code",
   "execution_count": 2,
   "metadata": {},
   "outputs": [],
   "source": [
    "FINE_TUNED_DIR = '../../pretained_or_finetune-models'\n",
    "REVIEWS_DATASET_DIR = '../../dataset'\n",
    "UTILS_DIR = '../../utils'\n",
    "NLTK_DATA_PATH = f\"{FINE_TUNED_DIR}/nltk_data\"\n",
    "\n",
    "nltk.data.path.append(NLTK_DATA_PATH)"
   ]
  },
  {
   "cell_type": "code",
   "execution_count": 94,
   "metadata": {},
   "outputs": [],
   "source": [
    "tourism_reviews_en = pd.read_csv(f\"{REVIEWS_DATASET_DIR}/eng_reviews_emotion_classify.csv\", encoding='utf-8')\n",
    "\n",
    "columns_to_use = ['helpful_votes', 'location_id', 'review_id', 'review',\n",
    "                  'review_subject', 'trip_type', 'rating',\n",
    "                  'location_name', 'province', 'place_id', 'emotion', 'cleaned_review']\n",
    "columns_to_train = ['location_id', 'review', 'rating']\n",
    "review_df = tourism_reviews_en[columns_to_use]"
   ]
  },
  {
   "cell_type": "code",
   "execution_count": 95,
   "metadata": {},
   "outputs": [
    {
     "name": "stdout",
     "output_type": "stream",
     "text": [
      "<class 'pandas.core.frame.DataFrame'>\n",
      "RangeIndex: 5909 entries, 0 to 5908\n",
      "Data columns (total 16 columns):\n",
      " #   Column          Non-Null Count  Dtype \n",
      "---  ------          --------------  ----- \n",
      " 0   Unnamed: 0.1    5909 non-null   int64 \n",
      " 1   Unnamed: 0      5909 non-null   int64 \n",
      " 2   helpful_votes   5909 non-null   int64 \n",
      " 3   location_id     5909 non-null   int64 \n",
      " 4   lang            5909 non-null   object\n",
      " 5   review_id       5909 non-null   int64 \n",
      " 6   review          5909 non-null   object\n",
      " 7   review_subject  5909 non-null   object\n",
      " 8   trip_type       5892 non-null   object\n",
      " 9   travel_date     5892 non-null   object\n",
      " 10  rating          5909 non-null   int64 \n",
      " 11  location_name   5909 non-null   object\n",
      " 12  province        5909 non-null   object\n",
      " 13  place_id        5909 non-null   object\n",
      " 14  cleaned_review  5909 non-null   object\n",
      " 15  emotion         5909 non-null   object\n",
      "dtypes: int64(6), object(10)\n",
      "memory usage: 738.8+ KB\n"
     ]
    }
   ],
   "source": [
    "tourism_reviews_en.info()"
   ]
  },
  {
   "cell_type": "code",
   "execution_count": 96,
   "metadata": {},
   "outputs": [
    {
     "data": {
      "text/html": [
       "<div>\n",
       "<style scoped>\n",
       "    .dataframe tbody tr th:only-of-type {\n",
       "        vertical-align: middle;\n",
       "    }\n",
       "\n",
       "    .dataframe tbody tr th {\n",
       "        vertical-align: top;\n",
       "    }\n",
       "\n",
       "    .dataframe thead th {\n",
       "        text-align: right;\n",
       "    }\n",
       "</style>\n",
       "<table border=\"1\" class=\"dataframe\">\n",
       "  <thead>\n",
       "    <tr style=\"text-align: right;\">\n",
       "      <th></th>\n",
       "      <th>helpful_votes</th>\n",
       "      <th>location_id</th>\n",
       "      <th>review_id</th>\n",
       "      <th>rating</th>\n",
       "    </tr>\n",
       "  </thead>\n",
       "  <tbody>\n",
       "    <tr>\n",
       "      <th>count</th>\n",
       "      <td>5909.000000</td>\n",
       "      <td>5.909000e+03</td>\n",
       "      <td>5.909000e+03</td>\n",
       "      <td>5909.000000</td>\n",
       "    </tr>\n",
       "    <tr>\n",
       "      <th>mean</th>\n",
       "      <td>1.058216</td>\n",
       "      <td>6.483167e+06</td>\n",
       "      <td>7.590446e+08</td>\n",
       "      <td>4.153833</td>\n",
       "    </tr>\n",
       "    <tr>\n",
       "      <th>std</th>\n",
       "      <td>5.625108</td>\n",
       "      <td>4.877561e+06</td>\n",
       "      <td>1.844114e+08</td>\n",
       "      <td>1.067077</td>\n",
       "    </tr>\n",
       "    <tr>\n",
       "      <th>min</th>\n",
       "      <td>0.000000</td>\n",
       "      <td>3.110380e+05</td>\n",
       "      <td>1.049076e+08</td>\n",
       "      <td>1.000000</td>\n",
       "    </tr>\n",
       "    <tr>\n",
       "      <th>25%</th>\n",
       "      <td>0.000000</td>\n",
       "      <td>2.578107e+06</td>\n",
       "      <td>6.573250e+08</td>\n",
       "      <td>4.000000</td>\n",
       "    </tr>\n",
       "    <tr>\n",
       "      <th>50%</th>\n",
       "      <td>0.000000</td>\n",
       "      <td>6.017599e+06</td>\n",
       "      <td>7.832754e+08</td>\n",
       "      <td>4.000000</td>\n",
       "    </tr>\n",
       "    <tr>\n",
       "      <th>75%</th>\n",
       "      <td>1.000000</td>\n",
       "      <td>8.818088e+06</td>\n",
       "      <td>9.240324e+08</td>\n",
       "      <td>5.000000</td>\n",
       "    </tr>\n",
       "    <tr>\n",
       "      <th>max</th>\n",
       "      <td>182.000000</td>\n",
       "      <td>2.714283e+07</td>\n",
       "      <td>9.653184e+08</td>\n",
       "      <td>5.000000</td>\n",
       "    </tr>\n",
       "  </tbody>\n",
       "</table>\n",
       "</div>"
      ],
      "text/plain": [
       "       helpful_votes   location_id     review_id       rating\n",
       "count    5909.000000  5.909000e+03  5.909000e+03  5909.000000\n",
       "mean        1.058216  6.483167e+06  7.590446e+08     4.153833\n",
       "std         5.625108  4.877561e+06  1.844114e+08     1.067077\n",
       "min         0.000000  3.110380e+05  1.049076e+08     1.000000\n",
       "25%         0.000000  2.578107e+06  6.573250e+08     4.000000\n",
       "50%         0.000000  6.017599e+06  7.832754e+08     4.000000\n",
       "75%         1.000000  8.818088e+06  9.240324e+08     5.000000\n",
       "max       182.000000  2.714283e+07  9.653184e+08     5.000000"
      ]
     },
     "execution_count": 96,
     "metadata": {},
     "output_type": "execute_result"
    }
   ],
   "source": [
    "review_df.describe()"
   ]
  },
  {
   "cell_type": "code",
   "execution_count": 97,
   "metadata": {},
   "outputs": [
    {
     "name": "stdout",
     "output_type": "stream",
     "text": [
      "<class 'pandas.core.frame.DataFrame'>\n",
      "RangeIndex: 5909 entries, 0 to 5908\n",
      "Data columns (total 12 columns):\n",
      " #   Column          Non-Null Count  Dtype \n",
      "---  ------          --------------  ----- \n",
      " 0   helpful_votes   5909 non-null   int64 \n",
      " 1   location_id     5909 non-null   int64 \n",
      " 2   review_id       5909 non-null   int64 \n",
      " 3   review          5909 non-null   object\n",
      " 4   review_subject  5909 non-null   object\n",
      " 5   trip_type       5892 non-null   object\n",
      " 6   rating          5909 non-null   int64 \n",
      " 7   location_name   5909 non-null   object\n",
      " 8   province        5909 non-null   object\n",
      " 9   place_id        5909 non-null   object\n",
      " 10  emotion         5909 non-null   object\n",
      " 11  cleaned_review  5909 non-null   object\n",
      "dtypes: int64(4), object(8)\n",
      "memory usage: 554.1+ KB\n"
     ]
    }
   ],
   "source": [
    "review_df.info()"
   ]
  },
  {
   "cell_type": "code",
   "execution_count": 98,
   "metadata": {},
   "outputs": [
    {
     "data": {
      "text/html": [
       "<div>\n",
       "<style scoped>\n",
       "    .dataframe tbody tr th:only-of-type {\n",
       "        vertical-align: middle;\n",
       "    }\n",
       "\n",
       "    .dataframe tbody tr th {\n",
       "        vertical-align: top;\n",
       "    }\n",
       "\n",
       "    .dataframe thead th {\n",
       "        text-align: right;\n",
       "    }\n",
       "</style>\n",
       "<table border=\"1\" class=\"dataframe\">\n",
       "  <thead>\n",
       "    <tr style=\"text-align: right;\">\n",
       "      <th></th>\n",
       "      <th>label</th>\n",
       "      <th>text</th>\n",
       "    </tr>\n",
       "  </thead>\n",
       "  <tbody>\n",
       "    <tr>\n",
       "      <th>0</th>\n",
       "      <td>4</td>\n",
       "      <td>dr. goldberg offers everything i look for in a...</td>\n",
       "    </tr>\n",
       "    <tr>\n",
       "      <th>1</th>\n",
       "      <td>1</td>\n",
       "      <td>Unfortunately, the frustration of being Dr. Go...</td>\n",
       "    </tr>\n",
       "    <tr>\n",
       "      <th>2</th>\n",
       "      <td>3</td>\n",
       "      <td>Been going to Dr. Goldberg for over 10 years. ...</td>\n",
       "    </tr>\n",
       "    <tr>\n",
       "      <th>3</th>\n",
       "      <td>3</td>\n",
       "      <td>Got a letter in the mail last week that said D...</td>\n",
       "    </tr>\n",
       "    <tr>\n",
       "      <th>4</th>\n",
       "      <td>0</td>\n",
       "      <td>I don't know what Dr. Goldberg was like before...</td>\n",
       "    </tr>\n",
       "  </tbody>\n",
       "</table>\n",
       "</div>"
      ],
      "text/plain": [
       "   label                                               text\n",
       "0      4  dr. goldberg offers everything i look for in a...\n",
       "1      1  Unfortunately, the frustration of being Dr. Go...\n",
       "2      3  Been going to Dr. Goldberg for over 10 years. ...\n",
       "3      3  Got a letter in the mail last week that said D...\n",
       "4      0  I don't know what Dr. Goldberg was like before..."
      ]
     },
     "execution_count": 98,
     "metadata": {},
     "output_type": "execute_result"
    }
   ],
   "source": [
    "df_review_yelp = pd.read_csv(f\"{REVIEWS_DATASET_DIR}/yelp_review_train.csv\")\n",
    "df_review_yelp.head(5)"
   ]
  },
  {
   "cell_type": "code",
   "execution_count": 99,
   "metadata": {},
   "outputs": [],
   "source": [
    "import random\n",
    "\n",
    "def map_label_to_rating(val):\n",
    "    return val + 1\n",
    "\n",
    "def map_generate_location_id():\n",
    "    return f\"YELP{random.randint(10000, 99999)}\"\n",
    "\n",
    "df_review_yelp['location_id'] = df_review_yelp['text'].apply(lambda x: map_generate_location_id())\n",
    "df_review_yelp['review'] = df_review_yelp['text']\n",
    "df_review_yelp['rating'] = df_review_yelp['label'].apply(map_label_to_rating)\n",
    "\n",
    "df_review_yelp = df_review_yelp[['rating', 'review', 'location_id']]\n"
   ]
  },
  {
   "cell_type": "code",
   "execution_count": 9,
   "metadata": {},
   "outputs": [
    {
     "data": {
      "text/html": [
       "<div>\n",
       "<style scoped>\n",
       "    .dataframe tbody tr th:only-of-type {\n",
       "        vertical-align: middle;\n",
       "    }\n",
       "\n",
       "    .dataframe tbody tr th {\n",
       "        vertical-align: top;\n",
       "    }\n",
       "\n",
       "    .dataframe thead th {\n",
       "        text-align: right;\n",
       "    }\n",
       "</style>\n",
       "<table border=\"1\" class=\"dataframe\">\n",
       "  <thead>\n",
       "    <tr style=\"text-align: right;\">\n",
       "      <th></th>\n",
       "      <th>rating</th>\n",
       "      <th>review</th>\n",
       "      <th>location_id</th>\n",
       "    </tr>\n",
       "  </thead>\n",
       "  <tbody>\n",
       "    <tr>\n",
       "      <th>0</th>\n",
       "      <td>5</td>\n",
       "      <td>dr. goldberg offers everything i look for in a...</td>\n",
       "      <td>YELP43272</td>\n",
       "    </tr>\n",
       "    <tr>\n",
       "      <th>1</th>\n",
       "      <td>2</td>\n",
       "      <td>Unfortunately, the frustration of being Dr. Go...</td>\n",
       "      <td>YELP56653</td>\n",
       "    </tr>\n",
       "    <tr>\n",
       "      <th>2</th>\n",
       "      <td>4</td>\n",
       "      <td>Been going to Dr. Goldberg for over 10 years. ...</td>\n",
       "      <td>YELP78819</td>\n",
       "    </tr>\n",
       "    <tr>\n",
       "      <th>3</th>\n",
       "      <td>4</td>\n",
       "      <td>Got a letter in the mail last week that said D...</td>\n",
       "      <td>YELP18889</td>\n",
       "    </tr>\n",
       "    <tr>\n",
       "      <th>4</th>\n",
       "      <td>1</td>\n",
       "      <td>I don't know what Dr. Goldberg was like before...</td>\n",
       "      <td>YELP54051</td>\n",
       "    </tr>\n",
       "    <tr>\n",
       "      <th>...</th>\n",
       "      <td>...</td>\n",
       "      <td>...</td>\n",
       "      <td>...</td>\n",
       "    </tr>\n",
       "    <tr>\n",
       "      <th>649995</th>\n",
       "      <td>5</td>\n",
       "      <td>I had a sprinkler that was gushing... pipe bro...</td>\n",
       "      <td>YELP89720</td>\n",
       "    </tr>\n",
       "    <tr>\n",
       "      <th>649996</th>\n",
       "      <td>1</td>\n",
       "      <td>Phone calls always go to voicemail and message...</td>\n",
       "      <td>YELP86683</td>\n",
       "    </tr>\n",
       "    <tr>\n",
       "      <th>649997</th>\n",
       "      <td>1</td>\n",
       "      <td>Looks like all of the good reviews have gone t...</td>\n",
       "      <td>YELP82104</td>\n",
       "    </tr>\n",
       "    <tr>\n",
       "      <th>649998</th>\n",
       "      <td>5</td>\n",
       "      <td>I was able to once again rely on Yelp to provi...</td>\n",
       "      <td>YELP29953</td>\n",
       "    </tr>\n",
       "    <tr>\n",
       "      <th>649999</th>\n",
       "      <td>1</td>\n",
       "      <td>I have been using this company for 11 months. ...</td>\n",
       "      <td>YELP90129</td>\n",
       "    </tr>\n",
       "  </tbody>\n",
       "</table>\n",
       "<p>650000 rows × 3 columns</p>\n",
       "</div>"
      ],
      "text/plain": [
       "        rating                                             review location_id\n",
       "0            5  dr. goldberg offers everything i look for in a...   YELP43272\n",
       "1            2  Unfortunately, the frustration of being Dr. Go...   YELP56653\n",
       "2            4  Been going to Dr. Goldberg for over 10 years. ...   YELP78819\n",
       "3            4  Got a letter in the mail last week that said D...   YELP18889\n",
       "4            1  I don't know what Dr. Goldberg was like before...   YELP54051\n",
       "...        ...                                                ...         ...\n",
       "649995       5  I had a sprinkler that was gushing... pipe bro...   YELP89720\n",
       "649996       1  Phone calls always go to voicemail and message...   YELP86683\n",
       "649997       1  Looks like all of the good reviews have gone t...   YELP82104\n",
       "649998       5  I was able to once again rely on Yelp to provi...   YELP29953\n",
       "649999       1  I have been using this company for 11 months. ...   YELP90129\n",
       "\n",
       "[650000 rows x 3 columns]"
      ]
     },
     "execution_count": 9,
     "metadata": {},
     "output_type": "execute_result"
    }
   ],
   "source": [
    "df_review_yelp"
   ]
  },
  {
   "cell_type": "code",
   "execution_count": 110,
   "metadata": {},
   "outputs": [
    {
     "name": "stdout",
     "output_type": "stream",
     "text": [
      "Positive [130000] / Natural [260000] / Negative [260000]\n"
     ]
    }
   ],
   "source": [
    "df_postive_yelp = df_review_yelp[df_review_yelp['rating'].isin([5])]\n",
    "df_natural_yelp = df_review_yelp[df_review_yelp['rating'].isin([3, 4])]\n",
    "df_negative_yelp = df_review_yelp[df_review_yelp['rating'].isin([1, 2])]\n",
    "\n",
    "print(f\"Positive [{len(df_postive_yelp)}] / Natural [{len(df_natural_yelp)}] / Negative [{len(df_negative_yelp)}]\")"
   ]
  },
  {
   "cell_type": "code",
   "execution_count": 111,
   "metadata": {},
   "outputs": [
    {
     "name": "stdout",
     "output_type": "stream",
     "text": [
      "Positive [2871] / Natural [2571] / Negative [467]\n"
     ]
    }
   ],
   "source": [
    "df_postive = review_df[review_df['rating'].isin([5])]\n",
    "df_natural = review_df[review_df['rating'].isin([3, 4])]\n",
    "df_negative = review_df[review_df['rating'].isin([1, 2])]\n",
    "\n",
    "print(f\"Positive [{len(df_postive)}] / Natural [{len(df_natural)}] / Negative [{len(df_negative)}]\")"
   ]
  },
  {
   "cell_type": "code",
   "execution_count": 9,
   "metadata": {},
   "outputs": [],
   "source": [
    "# binary_url = 'https://github.com/BrownDSI/word2vec-slim/releases/' + \\\n",
    "#              'download/v0.1/GoogleNews-vectors-negative300-slim.bin.gz'\n",
    "# r = requests.get(binary_url)\n",
    "# open('google-word2vec-slim.bin.gz', 'wb').write(r.content);\n",
    "\n",
    "# model = KeyedVectors.load_word2vec_format('google-word2vec-slim.bin.gz', binary = True)"
   ]
  },
  {
   "cell_type": "code",
   "execution_count": 10,
   "metadata": {},
   "outputs": [],
   "source": [
    "# print(os.path.exists(f\"{NLTK_DATA_PATH}/tokenizers/punkt\")) "
   ]
  },
  {
   "cell_type": "code",
   "execution_count": 11,
   "metadata": {},
   "outputs": [],
   "source": [
    "# 1. Data Preparation\n",
    "# nltk.download ('all', download_dir=NLTK_DATA_PATH)"
   ]
  },
  {
   "cell_type": "code",
   "execution_count": 12,
   "metadata": {},
   "outputs": [
    {
     "data": {
      "text/plain": [
       "['Hello Mr. Smith, how are you doing today?',\n",
       " 'The weather is great and Python is awesome.',\n",
       " 'The sky is pinkish-blue.',\n",
       " 'You should not eat cardboard.']"
      ]
     },
     "execution_count": 12,
     "metadata": {},
     "output_type": "execute_result"
    }
   ],
   "source": [
    "from nltk.tokenize import word_tokenize, sent_tokenize\n",
    "text = \"Hello Mr. Smith, how are you doing today? The weather is great and Python is awesome. The sky is pinkish-blue. You should not eat cardboard.\"\n",
    "word_tokenize ( text )\n",
    "sent_tokenize ( text )"
   ]
  },
  {
   "cell_type": "code",
   "execution_count": 13,
   "metadata": {},
   "outputs": [],
   "source": [
    "from nltk.corpus import stopwords \n",
    "\n",
    "custom_stopwords = set(stopwords.words('english'))"
   ]
  },
  {
   "cell_type": "code",
   "execution_count": 14,
   "metadata": {},
   "outputs": [],
   "source": [
    "from nltk.stem import WordNetLemmatizer\n",
    "\n",
    "stop_words = custom_stopwords\n",
    "lemmatizer = WordNetLemmatizer()"
   ]
  },
  {
   "cell_type": "code",
   "execution_count": 112,
   "metadata": {},
   "outputs": [],
   "source": [
    "def advanced_clean_text(text):\n",
    "    text = text.lower()\n",
    "    text = re.sub(r'\\d+', '', text)  # Remove numbers\n",
    "    text = re.sub(r'[^a-z\\s]', '', text)  # Remove special characters\n",
    "    text = re.sub(r'\\b(u|ur|b4)\\b', 'you', text)  # Replace common abbreviations\n",
    "    words = word_tokenize(text)\n",
    "    words = [lemmatizer.lemmatize(word) for word in words if word not in stop_words]\n",
    "    words = [word for word in words if word not in string.punctuation]\n",
    "    return ' '.join(words)"
   ]
  },
  {
   "cell_type": "code",
   "execution_count": 113,
   "metadata": {},
   "outputs": [],
   "source": [
    "combined_positive_df = pd.concat([df_postive_yelp.iloc[:-len(df_postive)], df_postive])\n",
    "combined_natural_df = pd.concat([df_natural_yelp.iloc[:-len(df_natural)], df_natural])\n",
    "combined_negative_df = pd.concat([df_negative_yelp.iloc[:-len(df_negative)], df_negative])"
   ]
  },
  {
   "cell_type": "code",
   "execution_count": 114,
   "metadata": {},
   "outputs": [
    {
     "name": "stdout",
     "output_type": "stream",
     "text": [
      "130000 / 260000 / 260000\n"
     ]
    }
   ],
   "source": [
    "print(f\"{len(combined_positive_df)} / {len(combined_natural_df)} / {len(combined_negative_df)}\")"
   ]
  },
  {
   "cell_type": "code",
   "execution_count": 18,
   "metadata": {},
   "outputs": [],
   "source": [
    "selected_column_trained = ['rating', 'location_id', 'review', 'helpful_vote']\n",
    "full_combined_df = pd.concat([combined_positive_df[selected_column_trained], combined_natural_df[selected_column_trained], combined_negative_df[selected_column_trained]])"
   ]
  },
  {
   "cell_type": "code",
   "execution_count": 115,
   "metadata": {},
   "outputs": [
    {
     "name": "stdout",
     "output_type": "stream",
     "text": [
      "650000\n",
      "      rating location_id                                             review  \\\n",
      "0          5   YELP43272  dr. goldberg offers everything i look for in a...   \n",
      "5          5   YELP57453  Top notch doctor in a top notch practice. Can'...   \n",
      "6          5   YELP76804  Dr. Eric Goldberg is a fantastic doctor who ha...   \n",
      "14         5   YELP13334  This place was DELICIOUS!!  My parents saw a r...   \n",
      "15         5   YELP22507  Can't miss stop for the best Fish Sandwich in ...   \n",
      "...      ...         ...                                                ...   \n",
      "5814       1    10000684  Personally tough this place is not maintained ...   \n",
      "5859       1     1390151  Found this on social, the owner parked his/her...   \n",
      "5866       2     6668995  Wat Intharam was apparently built during the A...   \n",
      "5867       2     6668995  if you expect to find authentic buddhist teach...   \n",
      "5882       1      456191  Living in Thailand many years, having Thai hus...   \n",
      "\n",
      "                                         cleaned_review  \\\n",
      "0     dr goldberg offer everything look general prac...   \n",
      "5     top notch doctor top notch practice cant say s...   \n",
      "6     dr eric goldberg fantastic doctor correctly di...   \n",
      "14    place delicious parent saw recommendation visi...   \n",
      "15         cant miss stop best fish sandwich pittsburgh   \n",
      "...                                                 ...   \n",
      "5814  personally tough place maintained well didnt f...   \n",
      "5859  found social owner parked hisher car front nei...   \n",
      "5866  wat intharam apparently built ayutthaya period...   \n",
      "5867  expect find authentic buddhist teaching disapp...   \n",
      "5882  living thailand many year thai husband kid can...   \n",
      "\n",
      "                                              embedding sentiment  \\\n",
      "0     [[-0.045151736587285995, -0.9692229628562927, ...  positive   \n",
      "5     [[0.0, 0.0, 0.0, 0.0, 0.0, 0.0, 0.0, 0.0, 0.0,...  positive   \n",
      "6     [[1.3690896034240723, 0.2061864137649536, 0.37...  positive   \n",
      "14    [[0.0, 0.0, 0.0, 0.0, 0.0, 0.0, 0.0, 0.0, 0.0,...  positive   \n",
      "15    [[1.3690896034240723, 0.2061864137649536, 0.37...  positive   \n",
      "...                                                 ...       ...   \n",
      "5814  [[1.3690896034240723, 0.2061864137649536, 0.37...  negative   \n",
      "5859  [[0.5830258727073669, -1.4960771799087524, 0.5...  negative   \n",
      "5866  [[-0.3437580168247223, -0.0936395525932312, -0...   neutral   \n",
      "5867  [[0.0, 0.0, 0.0, 0.0, 0.0, 0.0, 0.0, 0.0, 0.0,...   neutral   \n",
      "5882  [[0.0838048979640007, -0.39479994773864746, -0...  negative   \n",
      "\n",
      "      location_id_numeric  \n",
      "0                     NaN  \n",
      "5                     NaN  \n",
      "6                     NaN  \n",
      "14                    NaN  \n",
      "15                    NaN  \n",
      "...                   ...  \n",
      "5814           10000684.0  \n",
      "5859            1390151.0  \n",
      "5866            6668995.0  \n",
      "5867            6668995.0  \n",
      "5882             456191.0  \n",
      "\n",
      "[650000 rows x 7 columns]\n"
     ]
    }
   ],
   "source": [
    "print(len(full_combined_df))\n",
    "print(full_combined_df)"
   ]
  },
  {
   "cell_type": "code",
   "execution_count": 116,
   "metadata": {},
   "outputs": [],
   "source": [
    "# Apply preprocessing to the review texts\n",
    "full_combined_df['cleaned_review'] = full_combined_df['review'].apply(advanced_clean_text)\n",
    "\n",
    "# 2. สร้าง Word Embeddings ด้วย Word2Vec\n",
    "# word2vec_model = Word2Vec(sentences=review_df['cleaned_review'], vector_size=300, window=5, min_count=1, sg=1)  # ใช้ Skip-Gram\n",
    "sentences = [row.split() for row in full_combined_df['cleaned_review']]\n",
    "word2vec_model = Word2Vec(sentences, vector_size=300, window=5, min_count=1, workers=4)  # เปลี่ยน vector_size เป็น 300\n",
    "\n"
   ]
  },
  {
   "cell_type": "code",
   "execution_count": 117,
   "metadata": {},
   "outputs": [],
   "source": [
    "# Parameters\n",
    "embedding_dim = 300  # Assuming Word2Vec has 300 dimensions\n",
    "gru_units = 128\n",
    "dropout_rate = 0.5\n",
    "num_classes = 1  # Binary classification\n",
    "max_sequence_length = 300  # Maximum length of input sequences\n",
    "ngram_range = (1, 2)  # Unigrams and bigrams\n",
    "max_features = 20000  \n",
    "\n",
    "# Create the embedding matrix from the Word2Vec model\n",
    "word_index = {word: i for i, word in enumerate(word2vec_model.wv.index_to_key)}\n",
    "embedding_matrix = np.zeros((len(word_index) + 1, embedding_dim))"
   ]
  },
  {
   "cell_type": "code",
   "execution_count": 118,
   "metadata": {},
   "outputs": [],
   "source": [
    "def text_to_word2vec(tokens, model, max_length=300):\n",
    "    vector = np.zeros((max_length, 300))\n",
    "    for i, word in enumerate(tokens):\n",
    "        if i < max_length:\n",
    "            if word in model.wv:\n",
    "                vector[i] = model.wv[word]\n",
    "    return vector\n",
    "\n",
    "full_combined_df['embedding'] = review_df['cleaned_review'].apply(lambda x: text_to_word2vec(x, word2vec_model))\n"
   ]
  },
  {
   "cell_type": "code",
   "execution_count": 119,
   "metadata": {},
   "outputs": [],
   "source": [
    "def map_rating_to_sentiment(rating):\n",
    "    if rating in [1, 2]:\n",
    "        return 'negative'\n",
    "    elif rating in [4, 3]:\n",
    "        return 'neutral'\n",
    "    else:  # 4 or 5\n",
    "        return 'positive'\n",
    "\n",
    "full_combined_df['sentiment'] = full_combined_df['rating'].apply(map_rating_to_sentiment)"
   ]
  },
  {
   "cell_type": "code",
   "execution_count": 120,
   "metadata": {},
   "outputs": [
    {
     "data": {
      "text/html": [
       "<div>\n",
       "<style scoped>\n",
       "    .dataframe tbody tr th:only-of-type {\n",
       "        vertical-align: middle;\n",
       "    }\n",
       "\n",
       "    .dataframe tbody tr th {\n",
       "        vertical-align: top;\n",
       "    }\n",
       "\n",
       "    .dataframe thead th {\n",
       "        text-align: right;\n",
       "    }\n",
       "</style>\n",
       "<table border=\"1\" class=\"dataframe\">\n",
       "  <thead>\n",
       "    <tr style=\"text-align: right;\">\n",
       "      <th></th>\n",
       "      <th>rating</th>\n",
       "      <th>location_id</th>\n",
       "      <th>review</th>\n",
       "      <th>cleaned_review</th>\n",
       "      <th>embedding</th>\n",
       "      <th>sentiment</th>\n",
       "      <th>location_id_numeric</th>\n",
       "    </tr>\n",
       "  </thead>\n",
       "  <tbody>\n",
       "    <tr>\n",
       "      <th>0</th>\n",
       "      <td>5</td>\n",
       "      <td>YELP43272</td>\n",
       "      <td>dr. goldberg offers everything i look for in a...</td>\n",
       "      <td>dr goldberg offer everything look general prac...</td>\n",
       "      <td>[[0.7459096908569336, 0.05217102915048599, 0.4...</td>\n",
       "      <td>positive</td>\n",
       "      <td>NaN</td>\n",
       "    </tr>\n",
       "    <tr>\n",
       "      <th>5</th>\n",
       "      <td>5</td>\n",
       "      <td>YELP57453</td>\n",
       "      <td>Top notch doctor in a top notch practice. Can'...</td>\n",
       "      <td>top notch doctor top notch practice cant say s...</td>\n",
       "      <td>[[0.0, 0.0, 0.0, 0.0, 0.0, 0.0, 0.0, 0.0, 0.0,...</td>\n",
       "      <td>positive</td>\n",
       "      <td>NaN</td>\n",
       "    </tr>\n",
       "    <tr>\n",
       "      <th>6</th>\n",
       "      <td>5</td>\n",
       "      <td>YELP76804</td>\n",
       "      <td>Dr. Eric Goldberg is a fantastic doctor who ha...</td>\n",
       "      <td>dr eric goldberg fantastic doctor correctly di...</td>\n",
       "      <td>[[0.6843482851982117, -0.5332671999931335, -0....</td>\n",
       "      <td>positive</td>\n",
       "      <td>NaN</td>\n",
       "    </tr>\n",
       "    <tr>\n",
       "      <th>14</th>\n",
       "      <td>5</td>\n",
       "      <td>YELP13334</td>\n",
       "      <td>This place was DELICIOUS!!  My parents saw a r...</td>\n",
       "      <td>place delicious parent saw recommendation visi...</td>\n",
       "      <td>[[0.0, 0.0, 0.0, 0.0, 0.0, 0.0, 0.0, 0.0, 0.0,...</td>\n",
       "      <td>positive</td>\n",
       "      <td>NaN</td>\n",
       "    </tr>\n",
       "    <tr>\n",
       "      <th>15</th>\n",
       "      <td>5</td>\n",
       "      <td>YELP22507</td>\n",
       "      <td>Can't miss stop for the best Fish Sandwich in ...</td>\n",
       "      <td>cant miss stop best fish sandwich pittsburgh</td>\n",
       "      <td>[[0.6843482851982117, -0.5332671999931335, -0....</td>\n",
       "      <td>positive</td>\n",
       "      <td>NaN</td>\n",
       "    </tr>\n",
       "  </tbody>\n",
       "</table>\n",
       "</div>"
      ],
      "text/plain": [
       "    rating location_id                                             review  \\\n",
       "0        5   YELP43272  dr. goldberg offers everything i look for in a...   \n",
       "5        5   YELP57453  Top notch doctor in a top notch practice. Can'...   \n",
       "6        5   YELP76804  Dr. Eric Goldberg is a fantastic doctor who ha...   \n",
       "14       5   YELP13334  This place was DELICIOUS!!  My parents saw a r...   \n",
       "15       5   YELP22507  Can't miss stop for the best Fish Sandwich in ...   \n",
       "\n",
       "                                       cleaned_review  \\\n",
       "0   dr goldberg offer everything look general prac...   \n",
       "5   top notch doctor top notch practice cant say s...   \n",
       "6   dr eric goldberg fantastic doctor correctly di...   \n",
       "14  place delicious parent saw recommendation visi...   \n",
       "15       cant miss stop best fish sandwich pittsburgh   \n",
       "\n",
       "                                            embedding sentiment  \\\n",
       "0   [[0.7459096908569336, 0.05217102915048599, 0.4...  positive   \n",
       "5   [[0.0, 0.0, 0.0, 0.0, 0.0, 0.0, 0.0, 0.0, 0.0,...  positive   \n",
       "6   [[0.6843482851982117, -0.5332671999931335, -0....  positive   \n",
       "14  [[0.0, 0.0, 0.0, 0.0, 0.0, 0.0, 0.0, 0.0, 0.0,...  positive   \n",
       "15  [[0.6843482851982117, -0.5332671999931335, -0....  positive   \n",
       "\n",
       "    location_id_numeric  \n",
       "0                   NaN  \n",
       "5                   NaN  \n",
       "6                   NaN  \n",
       "14                  NaN  \n",
       "15                  NaN  "
      ]
     },
     "execution_count": 120,
     "metadata": {},
     "output_type": "execute_result"
    }
   ],
   "source": [
    "full_combined_df.head(5)"
   ]
  },
  {
   "cell_type": "code",
   "execution_count": null,
   "metadata": {},
   "outputs": [],
   "source": [
    "# from sklearn.utils import resample\n",
    "\n",
    "# # Assuming `review_df` is your original DataFrame with a 'sentiment' column\n",
    "\n",
    "# # 1. Separate the data by class\n",
    "# df_positive = review_df[review_df.sentiment == 'positive']\n",
    "# df_neutral = review_df[review_df.sentiment == 'neutral']\n",
    "# df_negative = review_df[review_df.sentiment == 'negative']\n",
    "\n",
    "# # 2. Resample the minority classes\n",
    "# # For example, oversample the neutral and negative classes to match the positive class\n",
    "# df_neutral_upsampled = resample(df_neutral,\n",
    "#                                 replace=True,  # Sample with replacement\n",
    "#                                 n_samples=len(df_positive),  # Match number of positive class samples\n",
    "#                                 random_state=42)  # Reproducible results\n",
    "\n",
    "# df_negative_upsampled = resample(df_negative,\n",
    "#                                  replace=True,  # Sample with replacement\n",
    "#                                  n_samples=len(df_positive),  # Match number of positive class samples\n",
    "#                                  random_state=42)  # Reproducible results\n",
    "\n",
    "# # 3. Combine the resampled DataFrames\n",
    "# df_balanced = pd.concat([df_positive, df_neutral_upsampled, df_negative_upsampled])\n",
    "\n",
    "# # 4. Shuffle the combined DataFrame\n",
    "# df_balanced = df_balanced.sample(frac=1, random_state=42).reset_index(drop=True)\n",
    "\n",
    "# # 5. Check the distribution of the classes\n",
    "# print(df_balanced['sentiment'].value_counts())\n"
   ]
  },
  {
   "cell_type": "code",
   "execution_count": 121,
   "metadata": {},
   "outputs": [],
   "source": [
    "full_combined_df.to_csv(\"../dataset/full_embled_review_combined.csv\")"
   ]
  },
  {
   "cell_type": "code",
   "execution_count": 122,
   "metadata": {},
   "outputs": [
    {
     "name": "stdout",
     "output_type": "stream",
     "text": [
      "sentiment\n",
      "neutral     260000\n",
      "negative    260000\n",
      "positive    130000\n",
      "Name: count, dtype: int64\n"
     ]
    }
   ],
   "source": [
    "df_balanced = full_combined_df\n",
    "\n",
    "print(df_balanced['sentiment'].value_counts())"
   ]
  },
  {
   "cell_type": "code",
   "execution_count": 123,
   "metadata": {},
   "outputs": [],
   "source": [
    "df_balanced['location_id_numeric'] = pd.to_numeric(df_balanced['location_id'], errors='coerce')\n",
    "\n",
    "# Filter out rows where 'location_id_numeric' is NaN (i.e., non-integer)\n",
    "filtered_df = df_balanced[df_balanced['location_id_numeric'].notna()]\n",
    "trained_df = df_balanced[df_balanced['location_id_numeric'].isna()] \n",
    "\n",
    "# Drop the helper 'location_id_numeric' column if you don't need it anymore\n",
    "validate_review_df = filtered_df.drop(columns=['location_id_numeric'])\n",
    "training_review_df = trained_df.drop(columns=['location_id_numeric'])\n"
   ]
  },
  {
   "cell_type": "code",
   "execution_count": 124,
   "metadata": {},
   "outputs": [
    {
     "name": "stderr",
     "output_type": "stream",
     "text": [
      "/var/folders/fk/449tdf_12hzd2r7ps4659q0m0000gn/T/ipykernel_3059/4209710448.py:1: DeprecationWarning:\n",
      "\n",
      "DataFrameGroupBy.apply operated on the grouping columns. This behavior is deprecated, and in a future version of pandas the grouping columns will be excluded from the operation. Either pass `include_groups=False` to exclude the groupings or explicitly select the grouping columns after groupby to silence this warning.\n",
      "\n"
     ]
    }
   ],
   "source": [
    "df_sampled = training_review_df.groupby('sentiment').apply(lambda x: x.sample(n=10000, random_state=42)).reset_index(drop=True)\n"
   ]
  },
  {
   "cell_type": "code",
   "execution_count": 127,
   "metadata": {},
   "outputs": [],
   "source": [
    "tokenizer = Tokenizer(num_words=max_features, oov_token=\"OOV\")\n",
    "tokenizer.fit_on_texts(df_sampled['cleaned_review'])\n",
    "\n",
    "X = tokenizer.texts_to_sequences(df_sampled['cleaned_review'])\n",
    "X = pad_sequences(X, maxlen=max_sequence_length)\n",
    "\n",
    "# แปลงคอลัมน์ 'sentiment' เป็นข้อมูลตัวเลข\n",
    "label_mapping = {'negative': 0, 'neutral': 1, 'positive': 2}\n",
    "y = df_sampled['sentiment'].map(label_mapping)"
   ]
  },
  {
   "cell_type": "code",
   "execution_count": 125,
   "metadata": {},
   "outputs": [
    {
     "data": {
      "text/plain": [
       "(30000, 300)"
      ]
     },
     "execution_count": 125,
     "metadata": {},
     "output_type": "execute_result"
    }
   ],
   "source": [
    "X.shape"
   ]
  },
  {
   "cell_type": "code",
   "execution_count": 126,
   "metadata": {},
   "outputs": [
    {
     "data": {
      "text/plain": [
       "(30000,)"
      ]
     },
     "execution_count": 126,
     "metadata": {},
     "output_type": "execute_result"
    }
   ],
   "source": [
    "y.shape"
   ]
  },
  {
   "cell_type": "code",
   "execution_count": 128,
   "metadata": {},
   "outputs": [],
   "source": [
    "from imblearn.over_sampling import SMOTE\n",
    "smote = SMOTE(random_state=42)\n",
    "X_train_resampled, y_train_resampled = smote.fit_resample(X, y)\n",
    "\n",
    "# แบ่งข้อมูลใหม่อีกครั้งหลังจาก SMOTE\n",
    "X_train_resampled, X_val, y_train_resampled, y_val = train_test_split(X, y, test_size=0.3, random_state=42)"
   ]
  },
  {
   "cell_type": "code",
   "execution_count": 129,
   "metadata": {},
   "outputs": [
    {
     "name": "stdout",
     "output_type": "stream",
     "text": [
      "X_train shape: (21000, 300)\n",
      "y_train shape: (21000,)\n",
      "X_test shape: (9000, 300)\n",
      "y_test shape: (9000,)\n"
     ]
    }
   ],
   "source": [
    "# Check the shapes of the resulting arrays\n",
    "print(f\"X_train shape: {X_train_resampled.shape}\")\n",
    "print(f\"y_train shape: {y_train_resampled.shape}\")\n",
    "print(f\"X_test shape: {X_val.shape}\")\n",
    "print(f\"y_test shape: {y_val.shape}\")\n"
   ]
  },
  {
   "cell_type": "code",
   "execution_count": 130,
   "metadata": {},
   "outputs": [
    {
     "name": "stderr",
     "output_type": "stream",
     "text": [
      "/Users/ittichaiboonyarakthunya/Library/Caches/pypoetry/virtualenvs/is-project-thailand-tourism-recommendation-qwL-LsgH-py3.12/lib/python3.12/site-packages/keras/src/layers/core/embedding.py:90: UserWarning:\n",
      "\n",
      "Argument `input_length` is deprecated. Just remove it.\n",
      "\n"
     ]
    }
   ],
   "source": [
    "from sklearn.model_selection import train_test_split\n",
    "from tensorflow.keras.models import Sequential\n",
    "from tensorflow.keras.layers import Embedding, LSTM, Dense, Dropout\n",
    "from tensorflow.keras.preprocessing.sequence import pad_sequences\n",
    "from tensorflow.keras.preprocessing.text import Tokenizer\n",
    "\n",
    "# Step 6: Build the LSTM Model\n",
    "gru_units = 128\n",
    "dropout_rate = 0.5\n",
    "input_shape = X_train_resampled.shape[1:] \n",
    "max_len = 100\n",
    "\n",
    "# สร้างโมเดลด้วย L2 Regularization และ Dropout\n",
    "model = Sequential()\n",
    "model.add(Embedding(input_dim=max_features, output_dim=embedding_dim, input_length=max_len))\n",
    "model.add(LSTM(128, return_sequences=True, kernel_regularizer=l2(0.01)))  # L2 Regularization\n",
    "model.add(Dropout(0.5))\n",
    "model.add(LSTM(64, kernel_regularizer=l2(0.01)))  # L2 Regularization\n",
    "model.add(Dropout(0.5))\n",
    "model.add(Dense(3, activation='softmax'))  # สมมติว่ามี 3 คลาส\n",
    "\n",
    "model.compile(optimizer='adam', loss='sparse_categorical_crossentropy', metrics=['accuracy'])\n"
   ]
  },
  {
   "cell_type": "code",
   "execution_count": 131,
   "metadata": {},
   "outputs": [],
   "source": [
    "word_index = tokenizer.word_index\n",
    "embedding_matrix = np.zeros((len(word_index) + 1, embedding_dim))\n",
    "\n",
    "for word, i in word_index.items():\n",
    "    if i < max_features:\n",
    "        # ใช้ [] แทนการใช้ get() เพื่อดึง embedding vector\n",
    "        if word in word2vec_model.wv:\n",
    "            embedding_vector = word2vec_model.wv[word]\n",
    "            if embedding_vector is not None:\n",
    "                embedding_matrix[i] = embedding_vector"
   ]
  },
  {
   "cell_type": "code",
   "execution_count": 132,
   "metadata": {},
   "outputs": [],
   "source": [
    "model.compile(optimizer='adam', loss='sparse_categorical_crossentropy', metrics=['accuracy'])\n"
   ]
  },
  {
   "cell_type": "code",
   "execution_count": 133,
   "metadata": {},
   "outputs": [],
   "source": [
    "from sklearn.utils.class_weight import compute_class_weight\n",
    "\n",
    "unique_classes = np.unique(y_train_resampled)\n",
    "\n",
    "# Compute class weights\n",
    "class_weights = compute_class_weight('balanced', classes=unique_classes, y=y)\n",
    "class_weights_dict = dict(enumerate(class_weights))\n",
    "\n",
    "# Optional: Normalize class weights\n",
    "total = sum(class_weights_dict.values())\n",
    "class_weights_dict = {k: v / total for k, v in class_weights_dict.items()}"
   ]
  },
  {
   "cell_type": "code",
   "execution_count": 134,
   "metadata": {},
   "outputs": [],
   "source": [
    "class_weights_dict = dict(enumerate(class_weights))"
   ]
  },
  {
   "cell_type": "code",
   "execution_count": 135,
   "metadata": {},
   "outputs": [
    {
     "data": {
      "text/plain": [
       "{0: 1.0, 1: 1.0, 2: 1.0}"
      ]
     },
     "execution_count": 135,
     "metadata": {},
     "output_type": "execute_result"
    }
   ],
   "source": [
    "class_weights_dict"
   ]
  },
  {
   "cell_type": "code",
   "execution_count": 136,
   "metadata": {},
   "outputs": [],
   "source": [
    "from tensorflow.keras.callbacks import TensorBoard\n",
    "tensorboard = TensorBoard(log_dir=f'../../logs')"
   ]
  },
  {
   "cell_type": "code",
   "execution_count": 138,
   "metadata": {},
   "outputs": [
    {
     "name": "stdout",
     "output_type": "stream",
     "text": [
      "Epoch 1/20\n",
      "\u001b[1m329/329\u001b[0m \u001b[32m━━━━━━━━━━━━━━━━━━━━\u001b[0m\u001b[37m\u001b[0m \u001b[1m116s\u001b[0m 353ms/step - accuracy: 0.5757 - loss: 1.5479 - val_accuracy: 0.6852 - val_loss: 0.7400\n",
      "Epoch 2/20\n",
      "\u001b[1m329/329\u001b[0m \u001b[32m━━━━━━━━━━━━━━━━━━━━\u001b[0m\u001b[37m\u001b[0m \u001b[1m122s\u001b[0m 370ms/step - accuracy: 0.7571 - loss: 0.6290 - val_accuracy: 0.6898 - val_loss: 0.7286\n",
      "Epoch 3/20\n",
      "\u001b[1m329/329\u001b[0m \u001b[32m━━━━━━━━━━━━━━━━━━━━\u001b[0m\u001b[37m\u001b[0m \u001b[1m119s\u001b[0m 362ms/step - accuracy: 0.8155 - loss: 0.5060 - val_accuracy: 0.6849 - val_loss: 0.7729\n",
      "Epoch 4/20\n",
      "\u001b[1m329/329\u001b[0m \u001b[32m━━━━━━━━━━━━━━━━━━━━\u001b[0m\u001b[37m\u001b[0m \u001b[1m120s\u001b[0m 364ms/step - accuracy: 0.8592 - loss: 0.4261 - val_accuracy: 0.6812 - val_loss: 0.8795\n",
      "Epoch 5/20\n",
      "\u001b[1m329/329\u001b[0m \u001b[32m━━━━━━━━━━━━━━━━━━━━\u001b[0m\u001b[37m\u001b[0m \u001b[1m116s\u001b[0m 352ms/step - accuracy: 0.8878 - loss: 0.3517 - val_accuracy: 0.6697 - val_loss: 0.9129\n",
      "Epoch 6/20\n",
      "\u001b[1m329/329\u001b[0m \u001b[32m━━━━━━━━━━━━━━━━━━━━\u001b[0m\u001b[37m\u001b[0m \u001b[1m116s\u001b[0m 352ms/step - accuracy: 0.8908 - loss: 0.3359 - val_accuracy: 0.6709 - val_loss: 1.0328\n",
      "Epoch 7/20\n",
      "\u001b[1m329/329\u001b[0m \u001b[32m━━━━━━━━━━━━━━━━━━━━\u001b[0m\u001b[37m\u001b[0m \u001b[1m116s\u001b[0m 351ms/step - accuracy: 0.9125 - loss: 0.2804 - val_accuracy: 0.6621 - val_loss: 1.1007\n"
     ]
    }
   ],
   "source": [
    "from keras.callbacks import EarlyStopping, ModelCheckpoint\n",
    "\n",
    "# กำหนดการตั้งค่า Early Stopping และ Model Checkpoint\n",
    "early_stopping = EarlyStopping(monitor='val_loss', patience=5, restore_best_weights=True)\n",
    "model_checkpoint = ModelCheckpoint('../../models/LSTM_models_sample.keras', monitor='val_loss', save_best_only=True)  # เปลี่ยนจาก .h5 เป็น .keras\n",
    "\n",
    "# ฝึกโมเดล\n",
    "history = model.fit(X_train_resampled, y_train_resampled,\n",
    "                    epochs=20,\n",
    "                    batch_size=64,\n",
    "                    validation_data=(X_val, y_val),\n",
    "                    callbacks=[early_stopping, model_checkpoint, tensorboard],\n",
    "                    class_weight=None)\n"
   ]
  },
  {
   "cell_type": "code",
   "execution_count": 139,
   "metadata": {},
   "outputs": [
    {
     "data": {
      "image/png": "[encoded data removed]",
      "text/plain": [
       "<Figure size 1200x500 with 2 Axes>"
      ]
     },
     "metadata": {},
     "output_type": "display_data"
    }
   ],
   "source": [
    "import matplotlib.pyplot as plt\n",
    "\n",
    "acc = history.history['accuracy']      # Training accuracy\n",
    "val_acc = history.history['val_accuracy']  # Validation accuracy\n",
    "loss = history.history['loss']         # Training loss\n",
    "val_loss = history.history['val_loss']  # Validation loss\n",
    "\n",
    "# Plot Accuracy\n",
    "plt.figure(figsize=(12, 5))\n",
    "plt.subplot(1, 2, 1)  # Create subplot for accuracy\n",
    "plt.plot(acc, label='Training Accuracy')\n",
    "plt.plot(val_acc, label='Validation Accuracy')\n",
    "plt.title('Training and Validation Accuracy')\n",
    "plt.xlabel('Epoch')\n",
    "plt.ylabel('Accuracy')\n",
    "plt.legend()\n",
    "\n",
    "# Plot Loss\n",
    "plt.subplot(1, 2, 2)  # Create subplot for loss\n",
    "plt.plot(loss, label='Training Loss')\n",
    "plt.plot(val_loss, label='Validation Loss')\n",
    "plt.title('Training and Validation Loss')\n",
    "plt.xlabel('Epoch')\n",
    "plt.ylabel('Loss')\n",
    "plt.legend()\n",
    "\n",
    "# Display the plots\n",
    "plt.tight_layout()\n",
    "plt.show()"
   ]
  },
  {
   "cell_type": "code",
   "execution_count": null,
   "metadata": {},
   "outputs": [],
   "source": [
    "from tensorflow.keras.utils import plot_model\n",
    "\n",
    "plot_model(model, to_file='model_plot.png', show_shapes=True, show_layer_names=True)\n"
   ]
  },
  {
   "cell_type": "code",
   "execution_count": 140,
   "metadata": {},
   "outputs": [],
   "source": [
    "from sklearn.ensemble import RandomForestClassifier, GradientBoostingClassifier\n",
    "from sklearn.metrics import accuracy_score, confusion_matrix\n",
    "from keras.models import load_model\n",
    "\n",
    "# โหลดโมเดล LSTM ที่ดีที่สุด\n",
    "best_model = load_model('../../models/LSTM_models_sample.keras')"
   ]
  },
  {
   "cell_type": "code",
   "execution_count": 141,
   "metadata": {},
   "outputs": [
    {
     "data": {
      "text/plain": [
       "5909"
      ]
     },
     "execution_count": 141,
     "metadata": {},
     "output_type": "execute_result"
    }
   ],
   "source": [
    "len(validate_review_df)"
   ]
  },
  {
   "cell_type": "code",
   "execution_count": 142,
   "metadata": {},
   "outputs": [
    {
     "data": {
      "text/html": [
       "<div>\n",
       "<style scoped>\n",
       "    .dataframe tbody tr th:only-of-type {\n",
       "        vertical-align: middle;\n",
       "    }\n",
       "\n",
       "    .dataframe tbody tr th {\n",
       "        vertical-align: top;\n",
       "    }\n",
       "\n",
       "    .dataframe thead th {\n",
       "        text-align: right;\n",
       "    }\n",
       "</style>\n",
       "<table border=\"1\" class=\"dataframe\">\n",
       "  <thead>\n",
       "    <tr style=\"text-align: right;\">\n",
       "      <th></th>\n",
       "      <th>rating</th>\n",
       "      <th>location_id</th>\n",
       "      <th>review</th>\n",
       "      <th>cleaned_review</th>\n",
       "      <th>embedding</th>\n",
       "      <th>sentiment</th>\n",
       "    </tr>\n",
       "  </thead>\n",
       "  <tbody>\n",
       "    <tr>\n",
       "      <th>5882</th>\n",
       "      <td>1</td>\n",
       "      <td>456191</td>\n",
       "      <td>Living in Thailand many years, having Thai hus...</td>\n",
       "      <td>living thailand many year thai husband kid can...</td>\n",
       "      <td>[[-0.11702033132314682, -0.5730656981468201, -...</td>\n",
       "      <td>negative</td>\n",
       "    </tr>\n",
       "    <tr>\n",
       "      <th>2463</th>\n",
       "      <td>1</td>\n",
       "      <td>6277182</td>\n",
       "      <td>The floating market is a dead abandoned place ...</td>\n",
       "      <td>floating market dead abandoned place absolutel...</td>\n",
       "      <td>[[0.0, 0.0, 0.0, 0.0, 0.0, 0.0, 0.0, 0.0, 0.0,...</td>\n",
       "      <td>negative</td>\n",
       "    </tr>\n",
       "    <tr>\n",
       "      <th>2465</th>\n",
       "      <td>1</td>\n",
       "      <td>6277182</td>\n",
       "      <td>Without of your time. It is not difficult. The...</td>\n",
       "      <td>without time difficult lot closed store open w...</td>\n",
       "      <td>[[-0.25492197275161743, -0.7028679847717285, -...</td>\n",
       "      <td>negative</td>\n",
       "    </tr>\n",
       "    <tr>\n",
       "      <th>2500</th>\n",
       "      <td>1</td>\n",
       "      <td>3445712</td>\n",
       "      <td>Tourist trap! They try to charge you 300 baht ...</td>\n",
       "      <td>tourist trap try charge baht per person enter ...</td>\n",
       "      <td>[[0.2401776760816574, -0.5479413866996765, 0.0...</td>\n",
       "      <td>negative</td>\n",
       "    </tr>\n",
       "    <tr>\n",
       "      <th>2520</th>\n",
       "      <td>2</td>\n",
       "      <td>6669305</td>\n",
       "      <td>When people think of \"national parks\" they nor...</td>\n",
       "      <td>people think national park normally except som...</td>\n",
       "      <td>[[0.0, 0.0, 0.0, 0.0, 0.0, 0.0, 0.0, 0.0, 0.0,...</td>\n",
       "      <td>negative</td>\n",
       "    </tr>\n",
       "    <tr>\n",
       "      <th>2538</th>\n",
       "      <td>1</td>\n",
       "      <td>2086145</td>\n",
       "      <td>ROBBERY! DON`T GO!!!\\n400 Bath one person! For...</td>\n",
       "      <td>robbery dont go bath one person walkin around ...</td>\n",
       "      <td>[[1.0832406282424927, 0.14952969551086426, 0.0...</td>\n",
       "      <td>negative</td>\n",
       "    </tr>\n",
       "    <tr>\n",
       "      <th>2587</th>\n",
       "      <td>1</td>\n",
       "      <td>4322440</td>\n",
       "      <td>Just stop by and didn't do a tour at this site...</td>\n",
       "      <td>stop didnt tour site commence visited place ca...</td>\n",
       "      <td>[[0.0, 0.0, 0.0, 0.0, 0.0, 0.0, 0.0, 0.0, 0.0,...</td>\n",
       "      <td>negative</td>\n",
       "    </tr>\n",
       "    <tr>\n",
       "      <th>2588</th>\n",
       "      <td>2</td>\n",
       "      <td>4322440</td>\n",
       "      <td>Dun waste your time going there. Is abandon. N...</td>\n",
       "      <td>dun waste time going abandon signage place roa...</td>\n",
       "      <td>[[1.065230369567871, -0.7339228987693787, 0.41...</td>\n",
       "      <td>negative</td>\n",
       "    </tr>\n",
       "    <tr>\n",
       "      <th>2622</th>\n",
       "      <td>2</td>\n",
       "      <td>10224093</td>\n",
       "      <td>Hired a car to take us from Bangkok to Sarabur...</td>\n",
       "      <td>hired car take u bangkok saraburi saw somethin...</td>\n",
       "      <td>[[0.613468587398529, -1.304443359375, 0.206912...</td>\n",
       "      <td>negative</td>\n",
       "    </tr>\n",
       "    <tr>\n",
       "      <th>2623</th>\n",
       "      <td>2</td>\n",
       "      <td>10224093</td>\n",
       "      <td>Viewed in late November; sunflowers not fully ...</td>\n",
       "      <td>viewed late november sunflower fully bloom bet...</td>\n",
       "      <td>[[2.205598831176758, -1.3279869556427002, 0.31...</td>\n",
       "      <td>negative</td>\n",
       "    </tr>\n",
       "  </tbody>\n",
       "</table>\n",
       "</div>"
      ],
      "text/plain": [
       "      rating location_id                                             review  \\\n",
       "5882       1      456191  Living in Thailand many years, having Thai hus...   \n",
       "2463       1     6277182  The floating market is a dead abandoned place ...   \n",
       "2465       1     6277182  Without of your time. It is not difficult. The...   \n",
       "2500       1     3445712  Tourist trap! They try to charge you 300 baht ...   \n",
       "2520       2     6669305  When people think of \"national parks\" they nor...   \n",
       "2538       1     2086145  ROBBERY! DON`T GO!!!\\n400 Bath one person! For...   \n",
       "2587       1     4322440  Just stop by and didn't do a tour at this site...   \n",
       "2588       2     4322440  Dun waste your time going there. Is abandon. N...   \n",
       "2622       2    10224093  Hired a car to take us from Bangkok to Sarabur...   \n",
       "2623       2    10224093  Viewed in late November; sunflowers not fully ...   \n",
       "\n",
       "                                         cleaned_review  \\\n",
       "5882  living thailand many year thai husband kid can...   \n",
       "2463  floating market dead abandoned place absolutel...   \n",
       "2465  without time difficult lot closed store open w...   \n",
       "2500  tourist trap try charge baht per person enter ...   \n",
       "2520  people think national park normally except som...   \n",
       "2538  robbery dont go bath one person walkin around ...   \n",
       "2587  stop didnt tour site commence visited place ca...   \n",
       "2588  dun waste time going abandon signage place roa...   \n",
       "2622  hired car take u bangkok saraburi saw somethin...   \n",
       "2623  viewed late november sunflower fully bloom bet...   \n",
       "\n",
       "                                              embedding sentiment  \n",
       "5882  [[-0.11702033132314682, -0.5730656981468201, -...  negative  \n",
       "2463  [[0.0, 0.0, 0.0, 0.0, 0.0, 0.0, 0.0, 0.0, 0.0,...  negative  \n",
       "2465  [[-0.25492197275161743, -0.7028679847717285, -...  negative  \n",
       "2500  [[0.2401776760816574, -0.5479413866996765, 0.0...  negative  \n",
       "2520  [[0.0, 0.0, 0.0, 0.0, 0.0, 0.0, 0.0, 0.0, 0.0,...  negative  \n",
       "2538  [[1.0832406282424927, 0.14952969551086426, 0.0...  negative  \n",
       "2587  [[0.0, 0.0, 0.0, 0.0, 0.0, 0.0, 0.0, 0.0, 0.0,...  negative  \n",
       "2588  [[1.065230369567871, -0.7339228987693787, 0.41...  negative  \n",
       "2622  [[0.613468587398529, -1.304443359375, 0.206912...  negative  \n",
       "2623  [[2.205598831176758, -1.3279869556427002, 0.31...  negative  "
      ]
     },
     "execution_count": 142,
     "metadata": {},
     "output_type": "execute_result"
    }
   ],
   "source": [
    "validate_review_df.sort_values(by='sentiment', ascending=True).head(10)"
   ]
  },
  {
   "cell_type": "code",
   "execution_count": 143,
   "metadata": {},
   "outputs": [],
   "source": [
    "tokenizer = Tokenizer(num_words=max_features, oov_token=\"OOV\")\n",
    "tokenizer.fit_on_texts(validate_review_df['cleaned_review'])\n",
    "\n",
    "X_val_resampled = tokenizer.texts_to_sequences(validate_review_df['cleaned_review'])\n",
    "X_val_resampled = pad_sequences(X_val_resampled, maxlen=max_sequence_length)\n",
    "\n",
    "y_val_resampled = validate_review_df['sentiment'].map(label_mapping)"
   ]
  },
  {
   "cell_type": "code",
   "execution_count": 144,
   "metadata": {},
   "outputs": [
    {
     "data": {
      "text/plain": [
       "(5909,)"
      ]
     },
     "execution_count": 144,
     "metadata": {},
     "output_type": "execute_result"
    }
   ],
   "source": [
    "y_val_resampled.shape"
   ]
  },
  {
   "cell_type": "code",
   "execution_count": 145,
   "metadata": {},
   "outputs": [
    {
     "data": {
      "text/plain": [
       "(5909, 300)"
      ]
     },
     "execution_count": 145,
     "metadata": {},
     "output_type": "execute_result"
    }
   ],
   "source": [
    "X_val_resampled.shape"
   ]
  },
  {
   "cell_type": "code",
   "execution_count": null,
   "metadata": {},
   "outputs": [],
   "source": [
    "# ใช้โมเดล LSTM ทำนายข้อมูล validation set\n",
    "# lstm_preds = best_model.predict(X_val_resampled)\n",
    "# lstm_preds = np.argmax(lstm_preds, axis=1)\n",
    "\n",
    "# ฝึก Gradient Boosting Classifier บนผลลัพธ์จาก LSTM\n",
    "# gb_clf = GradientBoostingClassifier(n_estimators=100, random_state=42)\n",
    "# gb_clf.fit(lstm_preds.reshape(-1, 1), y_val_resampled)\n",
    "\n",
    "# # ทำนายผลลัพธ์ด้วย Gradient Boosting\n",
    "# ensemble_preds = gb_clf.predict(lstm_preds.reshape(-1, 1))\n",
    "\n",
    "# ตรวจสอบผลลัพธ์\n",
    "# print(classification_report(y_val_resampled, ensemble_preds))\n",
    "# print(confusion_matrix(y_val_resampled, ensemble_preds))"
   ]
  },
  {
   "cell_type": "code",
   "execution_count": null,
   "metadata": {},
   "outputs": [],
   "source": [
    "# สร้างโมเดล Random Forest (Bagging)\n",
    "rf_model = RandomForestClassifier(n_estimators=100, random_state=42)\n",
    "rf_model.fit(X_train_resampled, y_train_resampled)\n",
    "rf_predictions = rf_model.predict(X_val)\n",
    "\n",
    "# สร้างโมเดล Gradient Boosting (Boosting)\n",
    "gb_model = GradientBoostingClassifier(n_estimators=100, random_state=42)\n",
    "gb_model.fit(X_train_resampled, y_train_resampled)\n",
    "gb_predictions = gb_model.predict(X_val)\n",
    "\n",
    "# วัดผลลัพธ์ของแต่ละโมเดล\n",
    "print(\"Random Forest Accuracy:\", accuracy_score(y_val, rf_predictions))\n",
    "print(\"Gradient Boosting Accuracy:\", accuracy_score(y_val, gb_predictions))"
   ]
  },
  {
   "cell_type": "code",
   "execution_count": 117,
   "metadata": {},
   "outputs": [
    {
     "name": "stdout",
     "output_type": "stream",
     "text": [
      "Voting Ensemble Accuracy: 0.4108888888888889\n"
     ]
    }
   ],
   "source": [
    "# Ensemble วิธี Voting (Hard Voting)\n",
    "from sklearn.ensemble import VotingClassifier\n",
    "\n",
    "# รวมโมเดลทั้งสองด้วยการ Voting\n",
    "voting_model = VotingClassifier(estimators=[\n",
    "    ('rf', rf_model), ('gb', gb_model)],\n",
    "    voting='hard')\n",
    "\n",
    "voting_model.fit(X_train_resampled, y_train_resampled)\n",
    "voting_predictions = voting_model.predict(X_val)\n",
    "\n",
    "# วัดผลลัพธ์จากการใช้ Voting\n",
    "print(\"Voting Ensemble Accuracy:\", accuracy_score(y_val, voting_predictions))"
   ]
  },
  {
   "cell_type": "code",
   "execution_count": 147,
   "metadata": {},
   "outputs": [
    {
     "data": {
      "text/plain": [
       "array([[    0,     0,     0, ...,     2,   116,  4076],\n",
       "       [    0,     0,     0, ...,   143,    23,   105],\n",
       "       [    0,     0,     0, ...,  1663,   392,    60],\n",
       "       ...,\n",
       "       [    0,     0,     0, ..., 16084,    29,     2],\n",
       "       [    0,     0,     0, ...,  3645,  2468,  1542],\n",
       "       [    0,     0,     0, ...,   464,   589,  1905]], dtype=int32)"
      ]
     },
     "execution_count": 147,
     "metadata": {},
     "output_type": "execute_result"
    }
   ],
   "source": [
    "X_val_resampled"
   ]
  },
  {
   "cell_type": "code",
   "execution_count": 148,
   "metadata": {},
   "outputs": [
    {
     "data": {
      "text/plain": [
       "0       2\n",
       "3       2\n",
       "4       2\n",
       "5       2\n",
       "6       2\n",
       "       ..\n",
       "5814    0\n",
       "5859    0\n",
       "5866    0\n",
       "5867    0\n",
       "5882    0\n",
       "Name: sentiment, Length: 5909, dtype: int64"
      ]
     },
     "execution_count": 148,
     "metadata": {},
     "output_type": "execute_result"
    }
   ],
   "source": [
    "y_val_resampled"
   ]
  },
  {
   "cell_type": "code",
   "execution_count": 149,
   "metadata": {},
   "outputs": [
    {
     "name": "stdout",
     "output_type": "stream",
     "text": [
      "Common indices count: 1761\n",
      "Missing indices count: 7239\n"
     ]
    }
   ],
   "source": [
    "common_indices = y_val.index.intersection(review_df.index)\n",
    "missing_indices = y_val.index.difference(review_df.index)\n",
    "print(f\"Common indices count: {len(common_indices)}\")\n",
    "print(f\"Missing indices count: {len(missing_indices)}\")"
   ]
  },
  {
   "cell_type": "code",
   "execution_count": 150,
   "metadata": {},
   "outputs": [],
   "source": [
    "predict_label = y_val_resampled"
   ]
  },
  {
   "cell_type": "code",
   "execution_count": 152,
   "metadata": {},
   "outputs": [
    {
     "name": "stdout",
     "output_type": "stream",
     "text": [
      "\u001b[1m185/185\u001b[0m \u001b[32m━━━━━━━━━━━━━━━━━━━━\u001b[0m\u001b[37m\u001b[0m \u001b[1m11s\u001b[0m 61ms/step\n",
      "Accuracy: 0.34642071416483333\n",
      "              precision    recall  f1-score   support\n",
      "\n",
      "           0       0.08      0.30      0.12       467\n",
      "           1       0.44      0.33      0.38      2571\n",
      "           2       0.49      0.37      0.42      2871\n",
      "\n",
      "    accuracy                           0.35      5909\n",
      "   macro avg       0.34      0.33      0.31      5909\n",
      "weighted avg       0.43      0.35      0.38      5909\n",
      "\n",
      "[[ 139  133  195]\n",
      " [ 793  849  929]\n",
      " [ 880  932 1059]]\n"
     ]
    }
   ],
   "source": [
    "lstm_preds = best_model.predict(X_val_resampled)\n",
    "lstm_preds = np.argmax(lstm_preds, axis=1)\n",
    "\n",
    "conf_matrix = confusion_matrix(y_val_resampled, lstm_preds)\n",
    "\n",
    "print(\"Accuracy:\", accuracy_score(y_val_resampled, lstm_preds))\n",
    "print(classification_report(y_val_resampled, lstm_preds))\n",
    "print(conf_matrix)"
   ]
  },
  {
   "cell_type": "code",
   "execution_count": 153,
   "metadata": {},
   "outputs": [
    {
     "data": {
      "application/vnd.plotly.v1+json": {
       "config": {
        "plotlyServerURL": "https://plot.ly"
       },
       "data": [
        {
         "colorscale": [
          [
           0,
           "rgb(247,251,255)"
          ],
          [
           0.125,
           "rgb(222,235,247)"
          ],
          [
           0.25,
           "rgb(198,219,239)"
          ],
          [
           0.375,
           "rgb(158,202,225)"
          ],
          [
           0.5,
           "rgb(107,174,214)"
          ],
          [
           0.625,
           "rgb(66,146,198)"
          ],
          [
           0.75,
           "rgb(33,113,181)"
          ],
          [
           0.875,
           "rgb(8,81,156)"
          ],
          [
           1,
           "rgb(8,48,107)"
          ]
         ],
         "hoverongaps": false,
         "type": "heatmap",
         "x": [
          "Predicted Class 0",
          "Predicted Class 1",
          "Predicted Class 2"
         ],
         "y": [
          "Actual Class 0",
          "Actual Class 1",
          "Actual Class 2"
         ],
         "z": [
          [
           139,
           133,
           195
          ],
          [
           793,
           849,
           929
          ],
          [
           880,
           932,
           1059
          ]
         ]
        }
       ],
       "layout": {
        "font": {
         "size": 14
        },
        "template": {
         "data": {
          "bar": [
           {
            "error_x": {
             "color": "#2a3f5f"
            },
            "error_y": {
             "color": "#2a3f5f"
            },
            "marker": {
             "line": {
              "color": "#E5ECF6",
              "width": 0.5
             },
             "pattern": {
              "fillmode": "overlay",
              "size": 10,
              "solidity": 0.2
             }
            },
            "type": "bar"
           }
          ],
          "barpolar": [
           {
            "marker": {
             "line": {
              "color": "#E5ECF6",
              "width": 0.5
             },
             "pattern": {
              "fillmode": "overlay",
              "size": 10,
              "solidity": 0.2
             }
            },
            "type": "barpolar"
           }
          ],
          "carpet": [
           {
            "aaxis": {
             "endlinecolor": "#2a3f5f",
             "gridcolor": "white",
             "linecolor": "white",
             "minorgridcolor": "white",
             "startlinecolor": "#2a3f5f"
            },
            "baxis": {
             "endlinecolor": "#2a3f5f",
             "gridcolor": "white",
             "linecolor": "white",
             "minorgridcolor": "white",
             "startlinecolor": "#2a3f5f"
            },
            "type": "carpet"
           }
          ],
          "choropleth": [
           {
            "colorbar": {
             "outlinewidth": 0,
             "ticks": ""
            },
            "type": "choropleth"
           }
          ],
          "contour": [
           {
            "colorbar": {
             "outlinewidth": 0,
             "ticks": ""
            },
            "colorscale": [
             [
              0,
              "#0d0887"
             ],
             [
              0.1111111111111111,
              "#46039f"
             ],
             [
              0.2222222222222222,
              "#7201a8"
             ],
             [
              0.3333333333333333,
              "#9c179e"
             ],
             [
              0.4444444444444444,
              "#bd3786"
             ],
             [
              0.5555555555555556,
              "#d8576b"
             ],
             [
              0.6666666666666666,
              "#ed7953"
             ],
             [
              0.7777777777777778,
              "#fb9f3a"
             ],
             [
              0.8888888888888888,
              "#fdca26"
             ],
             [
              1,
              "#f0f921"
             ]
            ],
            "type": "contour"
           }
          ],
          "contourcarpet": [
           {
            "colorbar": {
             "outlinewidth": 0,
             "ticks": ""
            },
            "type": "contourcarpet"
           }
          ],
          "heatmap": [
           {
            "colorbar": {
             "outlinewidth": 0,
             "ticks": ""
            },
            "colorscale": [
             [
              0,
              "#0d0887"
             ],
             [
              0.1111111111111111,
              "#46039f"
             ],
             [
              0.2222222222222222,
              "#7201a8"
             ],
             [
              0.3333333333333333,
              "#9c179e"
             ],
             [
              0.4444444444444444,
              "#bd3786"
             ],
             [
              0.5555555555555556,
              "#d8576b"
             ],
             [
              0.6666666666666666,
              "#ed7953"
             ],
             [
              0.7777777777777778,
              "#fb9f3a"
             ],
             [
              0.8888888888888888,
              "#fdca26"
             ],
             [
              1,
              "#f0f921"
             ]
            ],
            "type": "heatmap"
           }
          ],
          "heatmapgl": [
           {
            "colorbar": {
             "outlinewidth": 0,
             "ticks": ""
            },
            "colorscale": [
             [
              0,
              "#0d0887"
             ],
             [
              0.1111111111111111,
              "#46039f"
             ],
             [
              0.2222222222222222,
              "#7201a8"
             ],
             [
              0.3333333333333333,
              "#9c179e"
             ],
             [
              0.4444444444444444,
              "#bd3786"
             ],
             [
              0.5555555555555556,
              "#d8576b"
             ],
             [
              0.6666666666666666,
              "#ed7953"
             ],
             [
              0.7777777777777778,
              "#fb9f3a"
             ],
             [
              0.8888888888888888,
              "#fdca26"
             ],
             [
              1,
              "#f0f921"
             ]
            ],
            "type": "heatmapgl"
           }
          ],
          "histogram": [
           {
            "marker": {
             "pattern": {
              "fillmode": "overlay",
              "size": 10,
              "solidity": 0.2
             }
            },
            "type": "histogram"
           }
          ],
          "histogram2d": [
           {
            "colorbar": {
             "outlinewidth": 0,
             "ticks": ""
            },
            "colorscale": [
             [
              0,
              "#0d0887"
             ],
             [
              0.1111111111111111,
              "#46039f"
             ],
             [
              0.2222222222222222,
              "#7201a8"
             ],
             [
              0.3333333333333333,
              "#9c179e"
             ],
             [
              0.4444444444444444,
              "#bd3786"
             ],
             [
              0.5555555555555556,
              "#d8576b"
             ],
             [
              0.6666666666666666,
              "#ed7953"
             ],
             [
              0.7777777777777778,
              "#fb9f3a"
             ],
             [
              0.8888888888888888,
              "#fdca26"
             ],
             [
              1,
              "#f0f921"
             ]
            ],
            "type": "histogram2d"
           }
          ],
          "histogram2dcontour": [
           {
            "colorbar": {
             "outlinewidth": 0,
             "ticks": ""
            },
            "colorscale": [
             [
              0,
              "#0d0887"
             ],
             [
              0.1111111111111111,
              "#46039f"
             ],
             [
              0.2222222222222222,
              "#7201a8"
             ],
             [
              0.3333333333333333,
              "#9c179e"
             ],
             [
              0.4444444444444444,
              "#bd3786"
             ],
             [
              0.5555555555555556,
              "#d8576b"
             ],
             [
              0.6666666666666666,
              "#ed7953"
             ],
             [
              0.7777777777777778,
              "#fb9f3a"
             ],
             [
              0.8888888888888888,
              "#fdca26"
             ],
             [
              1,
              "#f0f921"
             ]
            ],
            "type": "histogram2dcontour"
           }
          ],
          "mesh3d": [
           {
            "colorbar": {
             "outlinewidth": 0,
             "ticks": ""
            },
            "type": "mesh3d"
           }
          ],
          "parcoords": [
           {
            "line": {
             "colorbar": {
              "outlinewidth": 0,
              "ticks": ""
             }
            },
            "type": "parcoords"
           }
          ],
          "pie": [
           {
            "automargin": true,
            "type": "pie"
           }
          ],
          "scatter": [
           {
            "fillpattern": {
             "fillmode": "overlay",
             "size": 10,
             "solidity": 0.2
            },
            "type": "scatter"
           }
          ],
          "scatter3d": [
           {
            "line": {
             "colorbar": {
              "outlinewidth": 0,
              "ticks": ""
             }
            },
            "marker": {
             "colorbar": {
              "outlinewidth": 0,
              "ticks": ""
             }
            },
            "type": "scatter3d"
           }
          ],
          "scattercarpet": [
           {
            "marker": {
             "colorbar": {
              "outlinewidth": 0,
              "ticks": ""
             }
            },
            "type": "scattercarpet"
           }
          ],
          "scattergeo": [
           {
            "marker": {
             "colorbar": {
              "outlinewidth": 0,
              "ticks": ""
             }
            },
            "type": "scattergeo"
           }
          ],
          "scattergl": [
           {
            "marker": {
             "colorbar": {
              "outlinewidth": 0,
              "ticks": ""
             }
            },
            "type": "scattergl"
           }
          ],
          "scattermapbox": [
           {
            "marker": {
             "colorbar": {
              "outlinewidth": 0,
              "ticks": ""
             }
            },
            "type": "scattermapbox"
           }
          ],
          "scatterpolar": [
           {
            "marker": {
             "colorbar": {
              "outlinewidth": 0,
              "ticks": ""
             }
            },
            "type": "scatterpolar"
           }
          ],
          "scatterpolargl": [
           {
            "marker": {
             "colorbar": {
              "outlinewidth": 0,
              "ticks": ""
             }
            },
            "type": "scatterpolargl"
           }
          ],
          "scatterternary": [
           {
            "marker": {
             "colorbar": {
              "outlinewidth": 0,
              "ticks": ""
             }
            },
            "type": "scatterternary"
           }
          ],
          "surface": [
           {
            "colorbar": {
             "outlinewidth": 0,
             "ticks": ""
            },
            "colorscale": [
             [
              0,
              "#0d0887"
             ],
             [
              0.1111111111111111,
              "#46039f"
             ],
             [
              0.2222222222222222,
              "#7201a8"
             ],
             [
              0.3333333333333333,
              "#9c179e"
             ],
             [
              0.4444444444444444,
              "#bd3786"
             ],
             [
              0.5555555555555556,
              "#d8576b"
             ],
             [
              0.6666666666666666,
              "#ed7953"
             ],
             [
              0.7777777777777778,
              "#fb9f3a"
             ],
             [
              0.8888888888888888,
              "#fdca26"
             ],
             [
              1,
              "#f0f921"
             ]
            ],
            "type": "surface"
           }
          ],
          "table": [
           {
            "cells": {
             "fill": {
              "color": "#EBF0F8"
             },
             "line": {
              "color": "white"
             }
            },
            "header": {
             "fill": {
              "color": "#C8D4E3"
             },
             "line": {
              "color": "white"
             }
            },
            "type": "table"
           }
          ]
         },
         "layout": {
          "annotationdefaults": {
           "arrowcolor": "#2a3f5f",
           "arrowhead": 0,
           "arrowwidth": 1
          },
          "autotypenumbers": "strict",
          "coloraxis": {
           "colorbar": {
            "outlinewidth": 0,
            "ticks": ""
           }
          },
          "colorscale": {
           "diverging": [
            [
             0,
             "#8e0152"
            ],
            [
             0.1,
             "#c51b7d"
            ],
            [
             0.2,
             "#de77ae"
            ],
            [
             0.3,
             "#f1b6da"
            ],
            [
             0.4,
             "#fde0ef"
            ],
            [
             0.5,
             "#f7f7f7"
            ],
            [
             0.6,
             "#e6f5d0"
            ],
            [
             0.7,
             "#b8e186"
            ],
            [
             0.8,
             "#7fbc41"
            ],
            [
             0.9,
             "#4d9221"
            ],
            [
             1,
             "#276419"
            ]
           ],
           "sequential": [
            [
             0,
             "#0d0887"
            ],
            [
             0.1111111111111111,
             "#46039f"
            ],
            [
             0.2222222222222222,
             "#7201a8"
            ],
            [
             0.3333333333333333,
             "#9c179e"
            ],
            [
             0.4444444444444444,
             "#bd3786"
            ],
            [
             0.5555555555555556,
             "#d8576b"
            ],
            [
             0.6666666666666666,
             "#ed7953"
            ],
            [
             0.7777777777777778,
             "#fb9f3a"
            ],
            [
             0.8888888888888888,
             "#fdca26"
            ],
            [
             1,
             "#f0f921"
            ]
           ],
           "sequentialminus": [
            [
             0,
             "#0d0887"
            ],
            [
             0.1111111111111111,
             "#46039f"
            ],
            [
             0.2222222222222222,
             "#7201a8"
            ],
            [
             0.3333333333333333,
             "#9c179e"
            ],
            [
             0.4444444444444444,
             "#bd3786"
            ],
            [
             0.5555555555555556,
             "#d8576b"
            ],
            [
             0.6666666666666666,
             "#ed7953"
            ],
            [
             0.7777777777777778,
             "#fb9f3a"
            ],
            [
             0.8888888888888888,
             "#fdca26"
            ],
            [
             1,
             "#f0f921"
            ]
           ]
          },
          "colorway": [
           "#636efa",
           "#EF553B",
           "#00cc96",
           "#ab63fa",
           "#FFA15A",
           "#19d3f3",
           "#FF6692",
           "#B6E880",
           "#FF97FF",
           "#FECB52"
          ],
          "font": {
           "color": "#2a3f5f"
          },
          "geo": {
           "bgcolor": "white",
           "lakecolor": "white",
           "landcolor": "#E5ECF6",
           "showlakes": true,
           "showland": true,
           "subunitcolor": "white"
          },
          "hoverlabel": {
           "align": "left"
          },
          "hovermode": "closest",
          "mapbox": {
           "style": "light"
          },
          "paper_bgcolor": "white",
          "plot_bgcolor": "#E5ECF6",
          "polar": {
           "angularaxis": {
            "gridcolor": "white",
            "linecolor": "white",
            "ticks": ""
           },
           "bgcolor": "#E5ECF6",
           "radialaxis": {
            "gridcolor": "white",
            "linecolor": "white",
            "ticks": ""
           }
          },
          "scene": {
           "xaxis": {
            "backgroundcolor": "#E5ECF6",
            "gridcolor": "white",
            "gridwidth": 2,
            "linecolor": "white",
            "showbackground": true,
            "ticks": "",
            "zerolinecolor": "white"
           },
           "yaxis": {
            "backgroundcolor": "#E5ECF6",
            "gridcolor": "white",
            "gridwidth": 2,
            "linecolor": "white",
            "showbackground": true,
            "ticks": "",
            "zerolinecolor": "white"
           },
           "zaxis": {
            "backgroundcolor": "#E5ECF6",
            "gridcolor": "white",
            "gridwidth": 2,
            "linecolor": "white",
            "showbackground": true,
            "ticks": "",
            "zerolinecolor": "white"
           }
          },
          "shapedefaults": {
           "line": {
            "color": "#2a3f5f"
           }
          },
          "ternary": {
           "aaxis": {
            "gridcolor": "white",
            "linecolor": "white",
            "ticks": ""
           },
           "baxis": {
            "gridcolor": "white",
            "linecolor": "white",
            "ticks": ""
           },
           "bgcolor": "#E5ECF6",
           "caxis": {
            "gridcolor": "white",
            "linecolor": "white",
            "ticks": ""
           }
          },
          "title": {
           "x": 0.05
          },
          "xaxis": {
           "automargin": true,
           "gridcolor": "white",
           "linecolor": "white",
           "ticks": "",
           "title": {
            "standoff": 15
           },
           "zerolinecolor": "white",
           "zerolinewidth": 2
          },
          "yaxis": {
           "automargin": true,
           "gridcolor": "white",
           "linecolor": "white",
           "ticks": "",
           "title": {
            "standoff": 15
           },
           "zerolinecolor": "white",
           "zerolinewidth": 2
          }
         }
        },
        "title": {
         "text": "Confusion Matrix for 3 Classes"
        },
        "xaxis": {
         "title": {
          "text": "Predicted Label"
         }
        },
        "yaxis": {
         "title": {
          "text": "True Label"
         }
        }
       }
      }
     },
     "metadata": {},
     "output_type": "display_data"
    }
   ],
   "source": [
    "import plotly.graph_objects as go\n",
    "\n",
    "class_names = ['Class 0', 'Class 1', 'Class 2']\n",
    "\n",
    "fig = go.Figure(data=go.Heatmap(\n",
    "        z=conf_matrix,\n",
    "        x=[f'Predicted {label}' for label in class_names],  # predicted labels\n",
    "        y=[f'Actual {label}' for label in class_names],  # actual labels\n",
    "        hoverongaps=False,\n",
    "        colorscale='Blues'  # Customize colorscale as needed\n",
    "    ))\n",
    "\n",
    "# Update layout for better readability\n",
    "fig.update_layout(\n",
    "    title='Confusion Matrix for 3 Classes',\n",
    "    xaxis_title='Predicted Label',\n",
    "    yaxis_title='True Label',\n",
    "    font=dict(size=14)\n",
    ")\n",
    "\n",
    "# Show the plot\n",
    "fig.show()"
   ]
  },
  {
   "cell_type": "code",
   "execution_count": 154,
   "metadata": {},
   "outputs": [],
   "source": [
    "redicted_df = pd.DataFrame({'predicted': lstm_preds}, index=y_val_resampled.index)\n",
    "    \n",
    "    # Concatenate y_val and the new predicted_df to create a new DataFrame\n",
    "predict_df = pd.concat([y_val_resampled, redicted_df], axis=1)"
   ]
  },
  {
   "cell_type": "code",
   "execution_count": 155,
   "metadata": {},
   "outputs": [
    {
     "data": {
      "text/html": [
       "<div>\n",
       "<style scoped>\n",
       "    .dataframe tbody tr th:only-of-type {\n",
       "        vertical-align: middle;\n",
       "    }\n",
       "\n",
       "    .dataframe tbody tr th {\n",
       "        vertical-align: top;\n",
       "    }\n",
       "\n",
       "    .dataframe thead th {\n",
       "        text-align: right;\n",
       "    }\n",
       "</style>\n",
       "<table border=\"1\" class=\"dataframe\">\n",
       "  <thead>\n",
       "    <tr style=\"text-align: right;\">\n",
       "      <th></th>\n",
       "      <th>sentiment</th>\n",
       "      <th>predicted</th>\n",
       "    </tr>\n",
       "  </thead>\n",
       "  <tbody>\n",
       "    <tr>\n",
       "      <th>0</th>\n",
       "      <td>2</td>\n",
       "      <td>0</td>\n",
       "    </tr>\n",
       "    <tr>\n",
       "      <th>3</th>\n",
       "      <td>2</td>\n",
       "      <td>1</td>\n",
       "    </tr>\n",
       "    <tr>\n",
       "      <th>4</th>\n",
       "      <td>2</td>\n",
       "      <td>0</td>\n",
       "    </tr>\n",
       "    <tr>\n",
       "      <th>5</th>\n",
       "      <td>2</td>\n",
       "      <td>0</td>\n",
       "    </tr>\n",
       "    <tr>\n",
       "      <th>6</th>\n",
       "      <td>2</td>\n",
       "      <td>1</td>\n",
       "    </tr>\n",
       "    <tr>\n",
       "      <th>...</th>\n",
       "      <td>...</td>\n",
       "      <td>...</td>\n",
       "    </tr>\n",
       "    <tr>\n",
       "      <th>5814</th>\n",
       "      <td>0</td>\n",
       "      <td>2</td>\n",
       "    </tr>\n",
       "    <tr>\n",
       "      <th>5859</th>\n",
       "      <td>0</td>\n",
       "      <td>0</td>\n",
       "    </tr>\n",
       "    <tr>\n",
       "      <th>5866</th>\n",
       "      <td>0</td>\n",
       "      <td>2</td>\n",
       "    </tr>\n",
       "    <tr>\n",
       "      <th>5867</th>\n",
       "      <td>0</td>\n",
       "      <td>0</td>\n",
       "    </tr>\n",
       "    <tr>\n",
       "      <th>5882</th>\n",
       "      <td>0</td>\n",
       "      <td>0</td>\n",
       "    </tr>\n",
       "  </tbody>\n",
       "</table>\n",
       "<p>5909 rows × 2 columns</p>\n",
       "</div>"
      ],
      "text/plain": [
       "      sentiment  predicted\n",
       "0             2          0\n",
       "3             2          1\n",
       "4             2          0\n",
       "5             2          0\n",
       "6             2          1\n",
       "...         ...        ...\n",
       "5814          0          2\n",
       "5859          0          0\n",
       "5866          0          2\n",
       "5867          0          0\n",
       "5882          0          0\n",
       "\n",
       "[5909 rows x 2 columns]"
      ]
     },
     "execution_count": 155,
     "metadata": {},
     "output_type": "execute_result"
    }
   ],
   "source": [
    "predict_df"
   ]
  },
  {
   "cell_type": "code",
   "execution_count": 90,
   "metadata": {},
   "outputs": [],
   "source": [
    "valid_y_val = predict_df.loc[predict_df.index.isin(review_df.index)]\n",
    "\n",
    "# Now you can safely use .loc with valid_y_val indices\n",
    "filtered_reviews = review_df.loc[valid_y_val.index]"
   ]
  },
  {
   "cell_type": "code",
   "execution_count": 91,
   "metadata": {},
   "outputs": [
    {
     "data": {
      "text/html": [
       "<div>\n",
       "<style scoped>\n",
       "    .dataframe tbody tr th:only-of-type {\n",
       "        vertical-align: middle;\n",
       "    }\n",
       "\n",
       "    .dataframe tbody tr th {\n",
       "        vertical-align: top;\n",
       "    }\n",
       "\n",
       "    .dataframe thead th {\n",
       "        text-align: right;\n",
       "    }\n",
       "</style>\n",
       "<table border=\"1\" class=\"dataframe\">\n",
       "  <thead>\n",
       "    <tr style=\"text-align: right;\">\n",
       "      <th></th>\n",
       "      <th>helpful_votes</th>\n",
       "      <th>location_id</th>\n",
       "      <th>review_id</th>\n",
       "      <th>review</th>\n",
       "      <th>review_subject</th>\n",
       "      <th>trip_type</th>\n",
       "      <th>rating</th>\n",
       "      <th>location_name</th>\n",
       "      <th>province</th>\n",
       "      <th>place_id</th>\n",
       "      <th>emotion</th>\n",
       "      <th>cleaned_review</th>\n",
       "    </tr>\n",
       "  </thead>\n",
       "  <tbody>\n",
       "    <tr>\n",
       "      <th>0</th>\n",
       "      <td>0</td>\n",
       "      <td>2209612</td>\n",
       "      <td>953596359</td>\n",
       "      <td>Besides elegant grand palace and wat pra kaew ...</td>\n",
       "      <td>The place is nearby grand palace, in the area ...</td>\n",
       "      <td>Family</td>\n",
       "      <td>5</td>\n",
       "      <td>Wat Ratchabophit</td>\n",
       "      <td>Bangkok</td>\n",
       "      <td>P03013220</td>\n",
       "      <td>joy</td>\n",
       "      <td>besides elegant grand palace &lt;OOV&gt; wat pra kae...</td>\n",
       "    </tr>\n",
       "    <tr>\n",
       "      <th>3</th>\n",
       "      <td>0</td>\n",
       "      <td>2209612</td>\n",
       "      <td>885904967</td>\n",
       "      <td>Wat Ratchabophit is a Buddhist temple located ...</td>\n",
       "      <td>Wat Ratchabophit - a temple characterized by u...</td>\n",
       "      <td>Couples</td>\n",
       "      <td>5</td>\n",
       "      <td>Wat Ratchabophit</td>\n",
       "      <td>Bangkok</td>\n",
       "      <td>P03013220</td>\n",
       "      <td>joy</td>\n",
       "      <td>wat ratchabophit &lt;OOV&gt; &lt;OOV&gt; buddhist temple l...</td>\n",
       "    </tr>\n",
       "    <tr>\n",
       "      <th>4</th>\n",
       "      <td>4</td>\n",
       "      <td>2209612</td>\n",
       "      <td>782967555</td>\n",
       "      <td>Wat Ratchabophit is a historic royal temple bu...</td>\n",
       "      <td>Beautiful, peaceful</td>\n",
       "      <td>NONE</td>\n",
       "      <td>5</td>\n",
       "      <td>Wat Ratchabophit</td>\n",
       "      <td>Bangkok</td>\n",
       "      <td>P03013220</td>\n",
       "      <td>joy</td>\n",
       "      <td>wat ratchabophit &lt;OOV&gt; &lt;OOV&gt; historic royal te...</td>\n",
       "    </tr>\n",
       "    <tr>\n",
       "      <th>5</th>\n",
       "      <td>3</td>\n",
       "      <td>2273363</td>\n",
       "      <td>837832355</td>\n",
       "      <td>So much peace and so much space in your mind. ...</td>\n",
       "      <td>Need My Peace</td>\n",
       "      <td>NONE</td>\n",
       "      <td>5</td>\n",
       "      <td>Wat Rajapradit Sathitmahasimaram Rajaworavihara</td>\n",
       "      <td>Bangkok</td>\n",
       "      <td>P03013220</td>\n",
       "      <td>joy</td>\n",
       "      <td>&lt;OOV&gt; much peace &lt;OOV&gt; &lt;OOV&gt; much space &lt;OOV&gt; ...</td>\n",
       "    </tr>\n",
       "    <tr>\n",
       "      <th>6</th>\n",
       "      <td>1</td>\n",
       "      <td>2273363</td>\n",
       "      <td>764048613</td>\n",
       "      <td>Probably one of the greater Sunday afternoons ...</td>\n",
       "      <td>Beautiful and very restful!</td>\n",
       "      <td>NONE</td>\n",
       "      <td>5</td>\n",
       "      <td>Wat Rajapradit Sathitmahasimaram Rajaworavihara</td>\n",
       "      <td>Bangkok</td>\n",
       "      <td>P03013220</td>\n",
       "      <td>joy</td>\n",
       "      <td>probably one &lt;OOV&gt; &lt;OOV&gt; greater sunday aftern...</td>\n",
       "    </tr>\n",
       "    <tr>\n",
       "      <th>...</th>\n",
       "      <td>...</td>\n",
       "      <td>...</td>\n",
       "      <td>...</td>\n",
       "      <td>...</td>\n",
       "      <td>...</td>\n",
       "      <td>...</td>\n",
       "      <td>...</td>\n",
       "      <td>...</td>\n",
       "      <td>...</td>\n",
       "      <td>...</td>\n",
       "      <td>...</td>\n",
       "      <td>...</td>\n",
       "    </tr>\n",
       "    <tr>\n",
       "      <th>5814</th>\n",
       "      <td>0</td>\n",
       "      <td>10000684</td>\n",
       "      <td>888281182</td>\n",
       "      <td>Personally tough this place is not maintained ...</td>\n",
       "      <td>Confused..if it is still in operations</td>\n",
       "      <td>Family</td>\n",
       "      <td>1</td>\n",
       "      <td>Wat Pa Lak Roi</td>\n",
       "      <td>Samut Prakan</td>\n",
       "      <td>P03015192</td>\n",
       "      <td>sadness</td>\n",
       "      <td>personally tough &lt;OOV&gt; place &lt;OOV&gt; &lt;OOV&gt; maint...</td>\n",
       "    </tr>\n",
       "    <tr>\n",
       "      <th>5859</th>\n",
       "      <td>1</td>\n",
       "      <td>1390151</td>\n",
       "      <td>685902742</td>\n",
       "      <td>Found this on social, the owner parked his/her...</td>\n",
       "      <td>You're neighbor from HELL</td>\n",
       "      <td>Solo travel</td>\n",
       "      <td>1</td>\n",
       "      <td>Herbal Steam House</td>\n",
       "      <td>Samut Prakan</td>\n",
       "      <td>P03015198</td>\n",
       "      <td>anger</td>\n",
       "      <td>found &lt;OOV&gt; &lt;OOV&gt; social &lt;OOV&gt; owner parked ca...</td>\n",
       "    </tr>\n",
       "    <tr>\n",
       "      <th>5866</th>\n",
       "      <td>0</td>\n",
       "      <td>6668995</td>\n",
       "      <td>577527835</td>\n",
       "      <td>Wat Intharam was apparently built during the A...</td>\n",
       "      <td>Ancient temple hidden by a bustling market</td>\n",
       "      <td>Friends getaway</td>\n",
       "      <td>2</td>\n",
       "      <td>Wat Intharam</td>\n",
       "      <td>Samut Prakan</td>\n",
       "      <td>P03015157</td>\n",
       "      <td>fear</td>\n",
       "      <td>wat intharam &lt;OOV&gt; apparently built &lt;OOV&gt; &lt;OOV...</td>\n",
       "    </tr>\n",
       "    <tr>\n",
       "      <th>5867</th>\n",
       "      <td>0</td>\n",
       "      <td>6668995</td>\n",
       "      <td>490510816</td>\n",
       "      <td>if you expect to find authentic buddhist teach...</td>\n",
       "      <td>commercial buddhist</td>\n",
       "      <td>Solo travel</td>\n",
       "      <td>2</td>\n",
       "      <td>Wat Intharam</td>\n",
       "      <td>Samut Prakan</td>\n",
       "      <td>P03015157</td>\n",
       "      <td>joy</td>\n",
       "      <td>&lt;OOV&gt; &lt;OOV&gt; expect &lt;OOV&gt; find authentic buddhi...</td>\n",
       "    </tr>\n",
       "    <tr>\n",
       "      <th>5882</th>\n",
       "      <td>18</td>\n",
       "      <td>456191</td>\n",
       "      <td>757554137</td>\n",
       "      <td>Living in Thailand many years, having Thai hus...</td>\n",
       "      <td>Can’t enter because of nationality</td>\n",
       "      <td>NONE</td>\n",
       "      <td>1</td>\n",
       "      <td>Khuean Srinagarindra National Park</td>\n",
       "      <td>Samut Prakan</td>\n",
       "      <td>P03013837</td>\n",
       "      <td>anger</td>\n",
       "      <td>living &lt;OOV&gt; thailand many years &lt;OOV&gt; thai hu...</td>\n",
       "    </tr>\n",
       "  </tbody>\n",
       "</table>\n",
       "<p>5909 rows × 12 columns</p>\n",
       "</div>"
      ],
      "text/plain": [
       "      helpful_votes  location_id  review_id  \\\n",
       "0                 0      2209612  953596359   \n",
       "3                 0      2209612  885904967   \n",
       "4                 4      2209612  782967555   \n",
       "5                 3      2273363  837832355   \n",
       "6                 1      2273363  764048613   \n",
       "...             ...          ...        ...   \n",
       "5814              0     10000684  888281182   \n",
       "5859              1      1390151  685902742   \n",
       "5866              0      6668995  577527835   \n",
       "5867              0      6668995  490510816   \n",
       "5882             18       456191  757554137   \n",
       "\n",
       "                                                 review  \\\n",
       "0     Besides elegant grand palace and wat pra kaew ...   \n",
       "3     Wat Ratchabophit is a Buddhist temple located ...   \n",
       "4     Wat Ratchabophit is a historic royal temple bu...   \n",
       "5     So much peace and so much space in your mind. ...   \n",
       "6     Probably one of the greater Sunday afternoons ...   \n",
       "...                                                 ...   \n",
       "5814  Personally tough this place is not maintained ...   \n",
       "5859  Found this on social, the owner parked his/her...   \n",
       "5866  Wat Intharam was apparently built during the A...   \n",
       "5867  if you expect to find authentic buddhist teach...   \n",
       "5882  Living in Thailand many years, having Thai hus...   \n",
       "\n",
       "                                         review_subject        trip_type  \\\n",
       "0     The place is nearby grand palace, in the area ...           Family   \n",
       "3     Wat Ratchabophit - a temple characterized by u...          Couples   \n",
       "4                                   Beautiful, peaceful             NONE   \n",
       "5                                         Need My Peace             NONE   \n",
       "6                           Beautiful and very restful!             NONE   \n",
       "...                                                 ...              ...   \n",
       "5814             Confused..if it is still in operations           Family   \n",
       "5859                          You're neighbor from HELL      Solo travel   \n",
       "5866         Ancient temple hidden by a bustling market  Friends getaway   \n",
       "5867                                commercial buddhist      Solo travel   \n",
       "5882                 Can’t enter because of nationality             NONE   \n",
       "\n",
       "      rating                                    location_name      province  \\\n",
       "0          5                                 Wat Ratchabophit       Bangkok   \n",
       "3          5                                 Wat Ratchabophit       Bangkok   \n",
       "4          5                                 Wat Ratchabophit       Bangkok   \n",
       "5          5  Wat Rajapradit Sathitmahasimaram Rajaworavihara       Bangkok   \n",
       "6          5  Wat Rajapradit Sathitmahasimaram Rajaworavihara       Bangkok   \n",
       "...      ...                                              ...           ...   \n",
       "5814       1                                   Wat Pa Lak Roi  Samut Prakan   \n",
       "5859       1                               Herbal Steam House  Samut Prakan   \n",
       "5866       2                                     Wat Intharam  Samut Prakan   \n",
       "5867       2                                     Wat Intharam  Samut Prakan   \n",
       "5882       1               Khuean Srinagarindra National Park  Samut Prakan   \n",
       "\n",
       "       place_id  emotion                                     cleaned_review  \n",
       "0     P03013220      joy  besides elegant grand palace <OOV> wat pra kae...  \n",
       "3     P03013220      joy  wat ratchabophit <OOV> <OOV> buddhist temple l...  \n",
       "4     P03013220      joy  wat ratchabophit <OOV> <OOV> historic royal te...  \n",
       "5     P03013220      joy  <OOV> much peace <OOV> <OOV> much space <OOV> ...  \n",
       "6     P03013220      joy  probably one <OOV> <OOV> greater sunday aftern...  \n",
       "...         ...      ...                                                ...  \n",
       "5814  P03015192  sadness  personally tough <OOV> place <OOV> <OOV> maint...  \n",
       "5859  P03015198    anger  found <OOV> <OOV> social <OOV> owner parked ca...  \n",
       "5866  P03015157     fear  wat intharam <OOV> apparently built <OOV> <OOV...  \n",
       "5867  P03015157      joy  <OOV> <OOV> expect <OOV> find authentic buddhi...  \n",
       "5882  P03013837    anger  living <OOV> thailand many years <OOV> thai hu...  \n",
       "\n",
       "[5909 rows x 12 columns]"
      ]
     },
     "execution_count": 91,
     "metadata": {},
     "output_type": "execute_result"
    }
   ],
   "source": [
    "filtered_reviews"
   ]
  },
  {
   "cell_type": "code",
   "execution_count": 92,
   "metadata": {},
   "outputs": [
    {
     "data": {
      "text/html": [
       "<div>\n",
       "<style scoped>\n",
       "    .dataframe tbody tr th:only-of-type {\n",
       "        vertical-align: middle;\n",
       "    }\n",
       "\n",
       "    .dataframe tbody tr th {\n",
       "        vertical-align: top;\n",
       "    }\n",
       "\n",
       "    .dataframe thead th {\n",
       "        text-align: right;\n",
       "    }\n",
       "</style>\n",
       "<table border=\"1\" class=\"dataframe\">\n",
       "  <thead>\n",
       "    <tr style=\"text-align: right;\">\n",
       "      <th></th>\n",
       "      <th>location_id</th>\n",
       "      <th>location_name</th>\n",
       "      <th>trip_type</th>\n",
       "      <th>rating</th>\n",
       "      <th>helpful_voting</th>\n",
       "      <th>review_text</th>\n",
       "      <th>actual_sentiment</th>\n",
       "      <th>predicted_sentiment</th>\n",
       "      <th>place_id</th>\n",
       "      <th>place_name</th>\n",
       "      <th>emotion</th>\n",
       "      <th>review_id</th>\n",
       "    </tr>\n",
       "  </thead>\n",
       "  <tbody>\n",
       "    <tr>\n",
       "      <th>5814</th>\n",
       "      <td>10000684</td>\n",
       "      <td>Wat Pa Lak Roi</td>\n",
       "      <td>Family</td>\n",
       "      <td>1</td>\n",
       "      <td>0</td>\n",
       "      <td>Personally tough this place is not maintained ...</td>\n",
       "      <td>0</td>\n",
       "      <td>2</td>\n",
       "      <td>P03015192</td>\n",
       "      <td>Samut Prakan</td>\n",
       "      <td>sadness</td>\n",
       "      <td>888281182</td>\n",
       "    </tr>\n",
       "    <tr>\n",
       "      <th>5859</th>\n",
       "      <td>1390151</td>\n",
       "      <td>Herbal Steam House</td>\n",
       "      <td>Solo travel</td>\n",
       "      <td>1</td>\n",
       "      <td>1</td>\n",
       "      <td>Found this on social, the owner parked his/her...</td>\n",
       "      <td>0</td>\n",
       "      <td>2</td>\n",
       "      <td>P03015198</td>\n",
       "      <td>Samut Prakan</td>\n",
       "      <td>anger</td>\n",
       "      <td>685902742</td>\n",
       "    </tr>\n",
       "    <tr>\n",
       "      <th>5866</th>\n",
       "      <td>6668995</td>\n",
       "      <td>Wat Intharam</td>\n",
       "      <td>Friends getaway</td>\n",
       "      <td>2</td>\n",
       "      <td>0</td>\n",
       "      <td>Wat Intharam was apparently built during the A...</td>\n",
       "      <td>0</td>\n",
       "      <td>2</td>\n",
       "      <td>P03015157</td>\n",
       "      <td>Samut Prakan</td>\n",
       "      <td>fear</td>\n",
       "      <td>577527835</td>\n",
       "    </tr>\n",
       "    <tr>\n",
       "      <th>5867</th>\n",
       "      <td>6668995</td>\n",
       "      <td>Wat Intharam</td>\n",
       "      <td>Solo travel</td>\n",
       "      <td>2</td>\n",
       "      <td>0</td>\n",
       "      <td>if you expect to find authentic buddhist teach...</td>\n",
       "      <td>0</td>\n",
       "      <td>2</td>\n",
       "      <td>P03015157</td>\n",
       "      <td>Samut Prakan</td>\n",
       "      <td>joy</td>\n",
       "      <td>490510816</td>\n",
       "    </tr>\n",
       "    <tr>\n",
       "      <th>5882</th>\n",
       "      <td>456191</td>\n",
       "      <td>Khuean Srinagarindra National Park</td>\n",
       "      <td>NONE</td>\n",
       "      <td>1</td>\n",
       "      <td>18</td>\n",
       "      <td>Living in Thailand many years, having Thai hus...</td>\n",
       "      <td>0</td>\n",
       "      <td>2</td>\n",
       "      <td>P03013837</td>\n",
       "      <td>Samut Prakan</td>\n",
       "      <td>anger</td>\n",
       "      <td>757554137</td>\n",
       "    </tr>\n",
       "  </tbody>\n",
       "</table>\n",
       "</div>"
      ],
      "text/plain": [
       "      location_id                       location_name        trip_type  \\\n",
       "5814     10000684                      Wat Pa Lak Roi           Family   \n",
       "5859      1390151                  Herbal Steam House      Solo travel   \n",
       "5866      6668995                        Wat Intharam  Friends getaway   \n",
       "5867      6668995                        Wat Intharam      Solo travel   \n",
       "5882       456191  Khuean Srinagarindra National Park             NONE   \n",
       "\n",
       "      rating  helpful_voting  \\\n",
       "5814       1               0   \n",
       "5859       1               1   \n",
       "5866       2               0   \n",
       "5867       2               0   \n",
       "5882       1              18   \n",
       "\n",
       "                                            review_text  actual_sentiment  \\\n",
       "5814  Personally tough this place is not maintained ...                 0   \n",
       "5859  Found this on social, the owner parked his/her...                 0   \n",
       "5866  Wat Intharam was apparently built during the A...                 0   \n",
       "5867  if you expect to find authentic buddhist teach...                 0   \n",
       "5882  Living in Thailand many years, having Thai hus...                 0   \n",
       "\n",
       "      predicted_sentiment   place_id    place_name  emotion  review_id  \n",
       "5814                    2  P03015192  Samut Prakan  sadness  888281182  \n",
       "5859                    2  P03015198  Samut Prakan    anger  685902742  \n",
       "5866                    2  P03015157  Samut Prakan     fear  577527835  \n",
       "5867                    2  P03015157  Samut Prakan      joy  490510816  \n",
       "5882                    2  P03013837  Samut Prakan    anger  757554137  "
      ]
     },
     "execution_count": 92,
     "metadata": {},
     "output_type": "execute_result"
    }
   ],
   "source": [
    "\n",
    "predictions_df = pd.DataFrame({\n",
    "    'location_id': filtered_reviews['location_id'],\n",
    "    'location_name': filtered_reviews['location_name'],\n",
    "    'trip_type': filtered_reviews['trip_type'],\n",
    "    'rating': filtered_reviews['rating'],\n",
    "    'helpful_voting': filtered_reviews['helpful_votes'],\n",
    "    'review_text': filtered_reviews['review'],  # Assuming X_test is a subset with a specific index\n",
    "    'actual_sentiment': predict_df['sentiment'],  # The actual sentiment labels\n",
    "    'predicted_sentiment': predict_df['predicted'], # The predicted sentiment labels\n",
    "    'place_id': filtered_reviews['place_id'],\n",
    "    'place_name': filtered_reviews['province'],\n",
    "    'emotion': filtered_reviews['emotion'],\n",
    "    'review_id': filtered_reviews['review_id']\n",
    "})\n",
    "\n",
    "# predictions_df['actual_sentiment'] = predictions_df['actual_sentiment'].map(label_mapping)\n",
    "# predictions_df['predicted_sentiment'] = predictions_df['predicted_sentiment'].map(label_mapping)\n",
    "\n",
    "predictions_df.tail(5)\n"
   ]
  },
  {
   "cell_type": "code",
   "execution_count": 62,
   "metadata": {},
   "outputs": [
    {
     "data": {
      "text/html": [
       "<div>\n",
       "<style scoped>\n",
       "    .dataframe tbody tr th:only-of-type {\n",
       "        vertical-align: middle;\n",
       "    }\n",
       "\n",
       "    .dataframe tbody tr th {\n",
       "        vertical-align: top;\n",
       "    }\n",
       "\n",
       "    .dataframe thead th {\n",
       "        text-align: right;\n",
       "    }\n",
       "</style>\n",
       "<table border=\"1\" class=\"dataframe\">\n",
       "  <thead>\n",
       "    <tr style=\"text-align: right;\">\n",
       "      <th></th>\n",
       "      <th>location_id</th>\n",
       "      <th>location_name</th>\n",
       "      <th>trip_type</th>\n",
       "      <th>rating</th>\n",
       "      <th>helpful_voting</th>\n",
       "      <th>review_text</th>\n",
       "      <th>actual_sentiment</th>\n",
       "      <th>predicted_sentiment</th>\n",
       "      <th>place_id</th>\n",
       "      <th>place_name</th>\n",
       "      <th>emotion</th>\n",
       "      <th>review_id</th>\n",
       "    </tr>\n",
       "  </thead>\n",
       "  <tbody>\n",
       "    <tr>\n",
       "      <th>8</th>\n",
       "      <td>2273363.0</td>\n",
       "      <td>Wat Rajapradit Sathitmahasimaram Rajaworavihara</td>\n",
       "      <td>NONE</td>\n",
       "      <td>5.0</td>\n",
       "      <td>2.0</td>\n",
       "      <td>One of the least crowded temples but very beau...</td>\n",
       "      <td>2</td>\n",
       "      <td>2</td>\n",
       "      <td>P03013220</td>\n",
       "      <td>Bangkok</td>\n",
       "      <td>love</td>\n",
       "      <td>738692369.0</td>\n",
       "    </tr>\n",
       "    <tr>\n",
       "      <th>14</th>\n",
       "      <td>311043.0</td>\n",
       "      <td>Wat Phra Chetuphon</td>\n",
       "      <td>Couples</td>\n",
       "      <td>5.0</td>\n",
       "      <td>0.0</td>\n",
       "      <td>The designs, the Buddhas, and other figures fe...</td>\n",
       "      <td>1</td>\n",
       "      <td>1</td>\n",
       "      <td>P03013220</td>\n",
       "      <td>Bangkok</td>\n",
       "      <td>surprise</td>\n",
       "      <td>962482865.0</td>\n",
       "    </tr>\n",
       "    <tr>\n",
       "      <th>17</th>\n",
       "      <td>317504.0</td>\n",
       "      <td>Temple Of Dawn (Wat Arun)</td>\n",
       "      <td>Solo travel</td>\n",
       "      <td>5.0</td>\n",
       "      <td>15.0</td>\n",
       "      <td>Known as Temple of Dawn, I went to this temple...</td>\n",
       "      <td>0</td>\n",
       "      <td>0</td>\n",
       "      <td>P03013220</td>\n",
       "      <td>Bangkok</td>\n",
       "      <td>joy</td>\n",
       "      <td>955989676.0</td>\n",
       "    </tr>\n",
       "    <tr>\n",
       "      <th>19</th>\n",
       "      <td>317504.0</td>\n",
       "      <td>Temple Of Dawn (Wat Arun)</td>\n",
       "      <td>Family</td>\n",
       "      <td>4.0</td>\n",
       "      <td>0.0</td>\n",
       "      <td>I have to admit that this is a place i have al...</td>\n",
       "      <td>0</td>\n",
       "      <td>0</td>\n",
       "      <td>P03013220</td>\n",
       "      <td>Bangkok</td>\n",
       "      <td>sadness</td>\n",
       "      <td>955712588.0</td>\n",
       "    </tr>\n",
       "    <tr>\n",
       "      <th>23</th>\n",
       "      <td>456322.0</td>\n",
       "      <td>Wat Umong</td>\n",
       "      <td>Family</td>\n",
       "      <td>5.0</td>\n",
       "      <td>0.0</td>\n",
       "      <td>The visit to this temple was a good pick for u...</td>\n",
       "      <td>1</td>\n",
       "      <td>2</td>\n",
       "      <td>P03013220</td>\n",
       "      <td>Bangkok</td>\n",
       "      <td>joy</td>\n",
       "      <td>936553670.0</td>\n",
       "    </tr>\n",
       "    <tr>\n",
       "      <th>...</th>\n",
       "      <td>...</td>\n",
       "      <td>...</td>\n",
       "      <td>...</td>\n",
       "      <td>...</td>\n",
       "      <td>...</td>\n",
       "      <td>...</td>\n",
       "      <td>...</td>\n",
       "      <td>...</td>\n",
       "      <td>...</td>\n",
       "      <td>...</td>\n",
       "      <td>...</td>\n",
       "      <td>...</td>\n",
       "    </tr>\n",
       "    <tr>\n",
       "      <th>5858</th>\n",
       "      <td>1390151.0</td>\n",
       "      <td>Herbal Steam House</td>\n",
       "      <td>Couples</td>\n",
       "      <td>3.0</td>\n",
       "      <td>0.0</td>\n",
       "      <td>Hubby and I stopped in for our third massage s...</td>\n",
       "      <td>0</td>\n",
       "      <td>0</td>\n",
       "      <td>P03015198</td>\n",
       "      <td>Samut Prakan</td>\n",
       "      <td>joy</td>\n",
       "      <td>694006082.0</td>\n",
       "    </tr>\n",
       "    <tr>\n",
       "      <th>5866</th>\n",
       "      <td>6668995.0</td>\n",
       "      <td>Wat Intharam</td>\n",
       "      <td>Friends getaway</td>\n",
       "      <td>2.0</td>\n",
       "      <td>0.0</td>\n",
       "      <td>Wat Intharam was apparently built during the A...</td>\n",
       "      <td>1</td>\n",
       "      <td>1</td>\n",
       "      <td>P03015157</td>\n",
       "      <td>Samut Prakan</td>\n",
       "      <td>fear</td>\n",
       "      <td>577527835.0</td>\n",
       "    </tr>\n",
       "    <tr>\n",
       "      <th>5880</th>\n",
       "      <td>456191.0</td>\n",
       "      <td>Khuean Srinagarindra National Park</td>\n",
       "      <td>Couples</td>\n",
       "      <td>4.0</td>\n",
       "      <td>1.0</td>\n",
       "      <td>After visiting the nearby waterfalls we drove ...</td>\n",
       "      <td>1</td>\n",
       "      <td>1</td>\n",
       "      <td>P03013837</td>\n",
       "      <td>Samut Prakan</td>\n",
       "      <td>joy</td>\n",
       "      <td>849208855.0</td>\n",
       "    </tr>\n",
       "    <tr>\n",
       "      <th>5893</th>\n",
       "      <td>4322899.0</td>\n",
       "      <td>Prasat Wat Sa Kamphaeng Yai</td>\n",
       "      <td>Friends getaway</td>\n",
       "      <td>4.0</td>\n",
       "      <td>1.0</td>\n",
       "      <td>On same site as Prasat Wat Sa Kampheang Noi {w...</td>\n",
       "      <td>0</td>\n",
       "      <td>0</td>\n",
       "      <td>P03013503</td>\n",
       "      <td>Nonthaburi</td>\n",
       "      <td>joy</td>\n",
       "      <td>261414077.0</td>\n",
       "    </tr>\n",
       "    <tr>\n",
       "      <th>5906</th>\n",
       "      <td>1831068.0</td>\n",
       "      <td>Prasat Puay Noi</td>\n",
       "      <td>Friends getaway</td>\n",
       "      <td>4.0</td>\n",
       "      <td>0.0</td>\n",
       "      <td>I think this place is claimed to be the oldest...</td>\n",
       "      <td>2</td>\n",
       "      <td>1</td>\n",
       "      <td>P03013503</td>\n",
       "      <td>Nonthaburi</td>\n",
       "      <td>joy</td>\n",
       "      <td>693354319.0</td>\n",
       "    </tr>\n",
       "  </tbody>\n",
       "</table>\n",
       "<p>1168 rows × 12 columns</p>\n",
       "</div>"
      ],
      "text/plain": [
       "      location_id                                    location_name  \\\n",
       "8       2273363.0  Wat Rajapradit Sathitmahasimaram Rajaworavihara   \n",
       "14       311043.0                               Wat Phra Chetuphon   \n",
       "17       317504.0                        Temple Of Dawn (Wat Arun)   \n",
       "19       317504.0                        Temple Of Dawn (Wat Arun)   \n",
       "23       456322.0                                        Wat Umong   \n",
       "...           ...                                              ...   \n",
       "5858    1390151.0                               Herbal Steam House   \n",
       "5866    6668995.0                                     Wat Intharam   \n",
       "5880     456191.0               Khuean Srinagarindra National Park   \n",
       "5893    4322899.0                      Prasat Wat Sa Kamphaeng Yai   \n",
       "5906    1831068.0                                  Prasat Puay Noi   \n",
       "\n",
       "            trip_type  rating  helpful_voting  \\\n",
       "8                NONE     5.0             2.0   \n",
       "14            Couples     5.0             0.0   \n",
       "17        Solo travel     5.0            15.0   \n",
       "19             Family     4.0             0.0   \n",
       "23             Family     5.0             0.0   \n",
       "...               ...     ...             ...   \n",
       "5858          Couples     3.0             0.0   \n",
       "5866  Friends getaway     2.0             0.0   \n",
       "5880          Couples     4.0             1.0   \n",
       "5893  Friends getaway     4.0             1.0   \n",
       "5906  Friends getaway     4.0             0.0   \n",
       "\n",
       "                                            review_text  actual_sentiment  \\\n",
       "8     One of the least crowded temples but very beau...                 2   \n",
       "14    The designs, the Buddhas, and other figures fe...                 1   \n",
       "17    Known as Temple of Dawn, I went to this temple...                 0   \n",
       "19    I have to admit that this is a place i have al...                 0   \n",
       "23    The visit to this temple was a good pick for u...                 1   \n",
       "...                                                 ...               ...   \n",
       "5858  Hubby and I stopped in for our third massage s...                 0   \n",
       "5866  Wat Intharam was apparently built during the A...                 1   \n",
       "5880  After visiting the nearby waterfalls we drove ...                 1   \n",
       "5893  On same site as Prasat Wat Sa Kampheang Noi {w...                 0   \n",
       "5906  I think this place is claimed to be the oldest...                 2   \n",
       "\n",
       "      predicted_sentiment   place_id    place_name   emotion    review_id  \n",
       "8                       2  P03013220       Bangkok      love  738692369.0  \n",
       "14                      1  P03013220       Bangkok  surprise  962482865.0  \n",
       "17                      0  P03013220       Bangkok       joy  955989676.0  \n",
       "19                      0  P03013220       Bangkok   sadness  955712588.0  \n",
       "23                      2  P03013220       Bangkok       joy  936553670.0  \n",
       "...                   ...        ...           ...       ...          ...  \n",
       "5858                    0  P03015198  Samut Prakan       joy  694006082.0  \n",
       "5866                    1  P03015157  Samut Prakan      fear  577527835.0  \n",
       "5880                    1  P03013837  Samut Prakan       joy  849208855.0  \n",
       "5893                    0  P03013503    Nonthaburi       joy  261414077.0  \n",
       "5906                    1  P03013503    Nonthaburi       joy  693354319.0  \n",
       "\n",
       "[1168 rows x 12 columns]"
      ]
     },
     "execution_count": 62,
     "metadata": {},
     "output_type": "execute_result"
    }
   ],
   "source": [
    "df_filtered = predictions_df.dropna()\n",
    "df_filtered"
   ]
  },
  {
   "cell_type": "code",
   "execution_count": 63,
   "metadata": {},
   "outputs": [],
   "source": [
    "df_filtered.to_csv('./output/LSTM_predictions.csv')"
   ]
  },
  {
   "cell_type": "code",
   "execution_count": 50,
   "metadata": {},
   "outputs": [],
   "source": [
    "y_val = y_val.astype(int)\n",
    "ensemble_preds_class = ensemble_preds.astype(int)\n"
   ]
  },
  {
   "cell_type": "code",
   "execution_count": 51,
   "metadata": {},
   "outputs": [
    {
     "name": "stdout",
     "output_type": "stream",
     "text": [
      "(1723,)\n",
      "(1723,)\n"
     ]
    }
   ],
   "source": [
    "print(y_val.shape)            # Shape of y_val\n",
    "print(ensemble_preds.shape) "
   ]
  },
  {
   "cell_type": "code",
   "execution_count": 52,
   "metadata": {},
   "outputs": [
    {
     "name": "stdout",
     "output_type": "stream",
     "text": [
      "Precision: 0.7829\n",
      "Recall: 0.7824\n",
      "F1-Score: 0.7796\n"
     ]
    }
   ],
   "source": [
    "from sklearn.metrics import precision_score, recall_score, f1_score\n",
    "\n",
    "# Calculate precision, recall, and F1-score directly using ensemble_preds\n",
    "precision = precision_score(y_val, ensemble_preds, average='weighted')\n",
    "recall = recall_score(y_val, ensemble_preds, average='weighted')\n",
    "f1 = f1_score(y_val, ensemble_preds, average='weighted')\n",
    "\n",
    "# Print the results\n",
    "print(f'Precision: {precision:.4f}')\n",
    "print(f'Recall: {recall:.4f}')\n",
    "print(f'F1-Score: {f1:.4f}')\n"
   ]
  },
  {
   "cell_type": "code",
   "execution_count": 53,
   "metadata": {},
   "outputs": [
    {
     "ename": "NameError",
     "evalue": "name 'y_test' is not defined",
     "output_type": "error",
     "traceback": [
      "\u001b[0;31m---------------------------------------------------------------------------\u001b[0m",
      "\u001b[0;31mNameError\u001b[0m                                 Traceback (most recent call last)",
      "Cell \u001b[0;32mIn[53], line 7\u001b[0m\n\u001b[1;32m      2\u001b[0m \u001b[38;5;28;01mfrom\u001b[39;00m \u001b[38;5;21;01msklearn\u001b[39;00m\u001b[38;5;21;01m.\u001b[39;00m\u001b[38;5;21;01mpreprocessing\u001b[39;00m \u001b[38;5;28;01mimport\u001b[39;00m label_binarize\n\u001b[1;32m      4\u001b[0m \u001b[38;5;66;03m# Assume y_test contains true class labels, and y_pred_prob contains predicted probabilities\u001b[39;00m\n\u001b[1;32m      5\u001b[0m \n\u001b[1;32m      6\u001b[0m \u001b[38;5;66;03m# Binarize the output labels for calculating AUC\u001b[39;00m\n\u001b[0;32m----> 7\u001b[0m y_test_bin \u001b[38;5;241m=\u001b[39m label_binarize(\u001b[43my_test\u001b[49m, classes\u001b[38;5;241m=\u001b[39m[\u001b[38;5;241m0\u001b[39m, \u001b[38;5;241m1\u001b[39m, \u001b[38;5;241m2\u001b[39m])  \u001b[38;5;66;03m# Assuming 3 classes: 0, 1, 2\u001b[39;00m\n\u001b[1;32m      9\u001b[0m \u001b[38;5;66;03m# Calculate the AUC for each class\u001b[39;00m\n\u001b[1;32m     10\u001b[0m auc_macro \u001b[38;5;241m=\u001b[39m roc_auc_score(y_test_bin, y_pred_prob, average\u001b[38;5;241m=\u001b[39m\u001b[38;5;124m'\u001b[39m\u001b[38;5;124mmacro\u001b[39m\u001b[38;5;124m'\u001b[39m, multi_class\u001b[38;5;241m=\u001b[39m\u001b[38;5;124m'\u001b[39m\u001b[38;5;124movr\u001b[39m\u001b[38;5;124m'\u001b[39m)\n",
      "\u001b[0;31mNameError\u001b[0m: name 'y_test' is not defined"
     ]
    }
   ],
   "source": [
    "from sklearn.metrics import roc_auc_score\n",
    "from sklearn.preprocessing import label_binarize\n",
    "\n",
    "# Assume y_test contains true class labels, and y_pred_prob contains predicted probabilities\n",
    "\n",
    "# Binarize the output labels for calculating AUC\n",
    "y_test_bin = label_binarize(y_test, classes=[0, 1, 2])  # Assuming 3 classes: 0, 1, 2\n",
    "\n",
    "# Calculate the AUC for each class\n",
    "auc_macro = roc_auc_score(y_test_bin, y_pred_prob, average='macro', multi_class='ovr')\n",
    "auc_micro = roc_auc_score(y_test_bin, y_pred_prob, average='micro', multi_class='ovr')\n",
    "\n",
    "print(f'Macro-Averaged AUC: {auc_macro:.4f}')\n",
    "print(f'Micro-Averaged AUC: {auc_micro:.4f}')"
   ]
  },
  {
   "cell_type": "code",
   "execution_count": 165,
   "metadata": {},
   "outputs": [
    {
     "name": "stdout",
     "output_type": "stream",
     "text": [
      "Log Loss: 0.7264\n"
     ]
    }
   ],
   "source": [
    "from sklearn.metrics import log_loss\n",
    "\n",
    "# Calculate log loss\n",
    "log_loss_value = log_loss(y_test, y_pred_prob)\n",
    "print(f'Log Loss: {log_loss_value:.4f}')"
   ]
  }
 ],
 "metadata": {
  "kernelspec": {
   "display_name": "is-project-thailand-tourism-recommendation-qwL-LsgH-py3.12",
   "language": "python",
   "name": "python3"
  },
  "language_info": {
   "codemirror_mode": {
    "name": "ipython",
    "version": 3
   },
   "file_extension": ".py",
   "mimetype": "text/x-python",
   "name": "python",
   "nbconvert_exporter": "python",
   "pygments_lexer": "ipython3",
   "version": "3.12.5"
  }
 },
 "nbformat": 4,
 "nbformat_minor": 2
}
