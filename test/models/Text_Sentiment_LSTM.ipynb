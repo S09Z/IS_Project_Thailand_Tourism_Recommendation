{
 "cells": [
  {
   "cell_type": "code",
   "execution_count": 1,
   "metadata": {},
   "outputs": [],
   "source": [
    "import os\n",
    "import pandas as pd\n",
    "import nltk\n",
    "import requests\n",
    "import string\n",
    "from gensim.models import Word2Vec, KeyedVectors\n",
    "import shutil\n",
    "import numpy as np\n",
    "import re\n",
    "from sklearn.model_selection import train_test_split\n",
    "import tensorflow\n",
    "from tensorflow.keras.models import Sequential\n",
    "from tensorflow.keras.layers import Embedding, LSTM, Dense, Dropout, Attention, Concatenate\n",
    "from tensorflow.keras.preprocessing.sequence import pad_sequences\n",
    "from tensorflow.keras.preprocessing.text import Tokenizer\n",
    "from sklearn.metrics import accuracy_score, classification_report\n",
    "from tensorflow.keras.callbacks import EarlyStopping\n",
    "from tensorflow.keras.regularizers import l2\n",
    "import shap\n"
   ]
  },
  {
   "cell_type": "code",
   "execution_count": 2,
   "metadata": {},
   "outputs": [],
   "source": [
    "FINE_TUNED_DIR = '../../pretained_or_finetune-models'\n",
    "REVIEWS_DATASET_DIR = '../../dataset'\n",
    "UTILS_DIR = '../../utils'\n",
    "NLTK_DATA_PATH = f\"{FINE_TUNED_DIR}/nltk_data\"\n",
    "\n",
    "nltk.data.path.append(NLTK_DATA_PATH)"
   ]
  },
  {
   "cell_type": "code",
   "execution_count": 3,
   "metadata": {},
   "outputs": [],
   "source": [
    "tourism_reviews_en = pd.read_csv(f\"{REVIEWS_DATASET_DIR}/eng_reviews_emotion_classify.csv\", encoding='utf-8')\n",
    "\n",
    "columns_to_use = ['helpful_votes', 'location_id', 'review_id', 'review',\n",
    "                  'review_subject', 'trip_type', 'rating',\n",
    "                  'location_name', 'province', 'place_id', 'emotion', 'cleaned_review']\n",
    "columns_to_train = ['location_id', 'review', 'rating']\n",
    "review_df = tourism_reviews_en[columns_to_use]"
   ]
  },
  {
   "cell_type": "code",
   "execution_count": 4,
   "metadata": {},
   "outputs": [
    {
     "name": "stdout",
     "output_type": "stream",
     "text": [
      "<class 'pandas.core.frame.DataFrame'>\n",
      "RangeIndex: 5909 entries, 0 to 5908\n",
      "Data columns (total 16 columns):\n",
      " #   Column          Non-Null Count  Dtype \n",
      "---  ------          --------------  ----- \n",
      " 0   Unnamed: 0.1    5909 non-null   int64 \n",
      " 1   Unnamed: 0      5909 non-null   int64 \n",
      " 2   helpful_votes   5909 non-null   int64 \n",
      " 3   location_id     5909 non-null   int64 \n",
      " 4   lang            5909 non-null   object\n",
      " 5   review_id       5909 non-null   int64 \n",
      " 6   review          5909 non-null   object\n",
      " 7   review_subject  5909 non-null   object\n",
      " 8   trip_type       5892 non-null   object\n",
      " 9   travel_date     5892 non-null   object\n",
      " 10  rating          5909 non-null   int64 \n",
      " 11  location_name   5909 non-null   object\n",
      " 12  province        5909 non-null   object\n",
      " 13  place_id        5909 non-null   object\n",
      " 14  cleaned_review  5909 non-null   object\n",
      " 15  emotion         5909 non-null   object\n",
      "dtypes: int64(6), object(10)\n",
      "memory usage: 738.8+ KB\n"
     ]
    }
   ],
   "source": [
    "tourism_reviews_en.info()"
   ]
  },
  {
   "cell_type": "code",
   "execution_count": 5,
   "metadata": {},
   "outputs": [
    {
     "data": {
      "text/html": [
       "<div>\n",
       "<style scoped>\n",
       "    .dataframe tbody tr th:only-of-type {\n",
       "        vertical-align: middle;\n",
       "    }\n",
       "\n",
       "    .dataframe tbody tr th {\n",
       "        vertical-align: top;\n",
       "    }\n",
       "\n",
       "    .dataframe thead th {\n",
       "        text-align: right;\n",
       "    }\n",
       "</style>\n",
       "<table border=\"1\" class=\"dataframe\">\n",
       "  <thead>\n",
       "    <tr style=\"text-align: right;\">\n",
       "      <th></th>\n",
       "      <th>helpful_votes</th>\n",
       "      <th>location_id</th>\n",
       "      <th>review_id</th>\n",
       "      <th>rating</th>\n",
       "    </tr>\n",
       "  </thead>\n",
       "  <tbody>\n",
       "    <tr>\n",
       "      <th>count</th>\n",
       "      <td>5909.000000</td>\n",
       "      <td>5.909000e+03</td>\n",
       "      <td>5.909000e+03</td>\n",
       "      <td>5909.000000</td>\n",
       "    </tr>\n",
       "    <tr>\n",
       "      <th>mean</th>\n",
       "      <td>1.058216</td>\n",
       "      <td>6.483167e+06</td>\n",
       "      <td>7.590446e+08</td>\n",
       "      <td>4.153833</td>\n",
       "    </tr>\n",
       "    <tr>\n",
       "      <th>std</th>\n",
       "      <td>5.625108</td>\n",
       "      <td>4.877561e+06</td>\n",
       "      <td>1.844114e+08</td>\n",
       "      <td>1.067077</td>\n",
       "    </tr>\n",
       "    <tr>\n",
       "      <th>min</th>\n",
       "      <td>0.000000</td>\n",
       "      <td>3.110380e+05</td>\n",
       "      <td>1.049076e+08</td>\n",
       "      <td>1.000000</td>\n",
       "    </tr>\n",
       "    <tr>\n",
       "      <th>25%</th>\n",
       "      <td>0.000000</td>\n",
       "      <td>2.578107e+06</td>\n",
       "      <td>6.573250e+08</td>\n",
       "      <td>4.000000</td>\n",
       "    </tr>\n",
       "    <tr>\n",
       "      <th>50%</th>\n",
       "      <td>0.000000</td>\n",
       "      <td>6.017599e+06</td>\n",
       "      <td>7.832754e+08</td>\n",
       "      <td>4.000000</td>\n",
       "    </tr>\n",
       "    <tr>\n",
       "      <th>75%</th>\n",
       "      <td>1.000000</td>\n",
       "      <td>8.818088e+06</td>\n",
       "      <td>9.240324e+08</td>\n",
       "      <td>5.000000</td>\n",
       "    </tr>\n",
       "    <tr>\n",
       "      <th>max</th>\n",
       "      <td>182.000000</td>\n",
       "      <td>2.714283e+07</td>\n",
       "      <td>9.653184e+08</td>\n",
       "      <td>5.000000</td>\n",
       "    </tr>\n",
       "  </tbody>\n",
       "</table>\n",
       "</div>"
      ],
      "text/plain": [
       "       helpful_votes   location_id     review_id       rating\n",
       "count    5909.000000  5.909000e+03  5.909000e+03  5909.000000\n",
       "mean        1.058216  6.483167e+06  7.590446e+08     4.153833\n",
       "std         5.625108  4.877561e+06  1.844114e+08     1.067077\n",
       "min         0.000000  3.110380e+05  1.049076e+08     1.000000\n",
       "25%         0.000000  2.578107e+06  6.573250e+08     4.000000\n",
       "50%         0.000000  6.017599e+06  7.832754e+08     4.000000\n",
       "75%         1.000000  8.818088e+06  9.240324e+08     5.000000\n",
       "max       182.000000  2.714283e+07  9.653184e+08     5.000000"
      ]
     },
     "execution_count": 5,
     "metadata": {},
     "output_type": "execute_result"
    }
   ],
   "source": [
    "review_df.describe()"
   ]
  },
  {
   "cell_type": "code",
   "execution_count": 6,
   "metadata": {},
   "outputs": [
    {
     "name": "stdout",
     "output_type": "stream",
     "text": [
      "<class 'pandas.core.frame.DataFrame'>\n",
      "RangeIndex: 5909 entries, 0 to 5908\n",
      "Data columns (total 12 columns):\n",
      " #   Column          Non-Null Count  Dtype \n",
      "---  ------          --------------  ----- \n",
      " 0   helpful_votes   5909 non-null   int64 \n",
      " 1   location_id     5909 non-null   int64 \n",
      " 2   review_id       5909 non-null   int64 \n",
      " 3   review          5909 non-null   object\n",
      " 4   review_subject  5909 non-null   object\n",
      " 5   trip_type       5892 non-null   object\n",
      " 6   rating          5909 non-null   int64 \n",
      " 7   location_name   5909 non-null   object\n",
      " 8   province        5909 non-null   object\n",
      " 9   place_id        5909 non-null   object\n",
      " 10  emotion         5909 non-null   object\n",
      " 11  cleaned_review  5909 non-null   object\n",
      "dtypes: int64(4), object(8)\n",
      "memory usage: 554.1+ KB\n"
     ]
    }
   ],
   "source": [
    "review_df.info()"
   ]
  },
  {
   "cell_type": "code",
   "execution_count": 7,
   "metadata": {},
   "outputs": [
    {
     "data": {
      "text/html": [
       "<div>\n",
       "<style scoped>\n",
       "    .dataframe tbody tr th:only-of-type {\n",
       "        vertical-align: middle;\n",
       "    }\n",
       "\n",
       "    .dataframe tbody tr th {\n",
       "        vertical-align: top;\n",
       "    }\n",
       "\n",
       "    .dataframe thead th {\n",
       "        text-align: right;\n",
       "    }\n",
       "</style>\n",
       "<table border=\"1\" class=\"dataframe\">\n",
       "  <thead>\n",
       "    <tr style=\"text-align: right;\">\n",
       "      <th></th>\n",
       "      <th>label</th>\n",
       "      <th>text</th>\n",
       "    </tr>\n",
       "  </thead>\n",
       "  <tbody>\n",
       "    <tr>\n",
       "      <th>0</th>\n",
       "      <td>4</td>\n",
       "      <td>dr. goldberg offers everything i look for in a...</td>\n",
       "    </tr>\n",
       "    <tr>\n",
       "      <th>1</th>\n",
       "      <td>1</td>\n",
       "      <td>Unfortunately, the frustration of being Dr. Go...</td>\n",
       "    </tr>\n",
       "    <tr>\n",
       "      <th>2</th>\n",
       "      <td>3</td>\n",
       "      <td>Been going to Dr. Goldberg for over 10 years. ...</td>\n",
       "    </tr>\n",
       "    <tr>\n",
       "      <th>3</th>\n",
       "      <td>3</td>\n",
       "      <td>Got a letter in the mail last week that said D...</td>\n",
       "    </tr>\n",
       "    <tr>\n",
       "      <th>4</th>\n",
       "      <td>0</td>\n",
       "      <td>I don't know what Dr. Goldberg was like before...</td>\n",
       "    </tr>\n",
       "  </tbody>\n",
       "</table>\n",
       "</div>"
      ],
      "text/plain": [
       "   label                                               text\n",
       "0      4  dr. goldberg offers everything i look for in a...\n",
       "1      1  Unfortunately, the frustration of being Dr. Go...\n",
       "2      3  Been going to Dr. Goldberg for over 10 years. ...\n",
       "3      3  Got a letter in the mail last week that said D...\n",
       "4      0  I don't know what Dr. Goldberg was like before..."
      ]
     },
     "execution_count": 7,
     "metadata": {},
     "output_type": "execute_result"
    }
   ],
   "source": [
    "df_review_yelp = pd.read_csv(f\"{REVIEWS_DATASET_DIR}/yelp_review_train.csv\")\n",
    "df_review_yelp.head(5)"
   ]
  },
  {
   "cell_type": "code",
   "execution_count": 8,
   "metadata": {},
   "outputs": [],
   "source": [
    "import random\n",
    "\n",
    "def map_label_to_rating(val):\n",
    "    return val + 1\n",
    "\n",
    "def map_generate_location_id():\n",
    "    return f\"YELP{random.randint(10000, 99999)}\"\n",
    "\n",
    "df_review_yelp['location_id'] = df_review_yelp['text'].apply(lambda x: map_generate_location_id())\n",
    "df_review_yelp['review'] = df_review_yelp['text']\n",
    "df_review_yelp['rating'] = df_review_yelp['label'].apply(map_label_to_rating)\n",
    "\n",
    "df_review_yelp = df_review_yelp[['rating', 'review', 'location_id']]\n"
   ]
  },
  {
   "cell_type": "code",
   "execution_count": 9,
   "metadata": {},
   "outputs": [
    {
     "data": {
      "text/html": [
       "<div>\n",
       "<style scoped>\n",
       "    .dataframe tbody tr th:only-of-type {\n",
       "        vertical-align: middle;\n",
       "    }\n",
       "\n",
       "    .dataframe tbody tr th {\n",
       "        vertical-align: top;\n",
       "    }\n",
       "\n",
       "    .dataframe thead th {\n",
       "        text-align: right;\n",
       "    }\n",
       "</style>\n",
       "<table border=\"1\" class=\"dataframe\">\n",
       "  <thead>\n",
       "    <tr style=\"text-align: right;\">\n",
       "      <th></th>\n",
       "      <th>rating</th>\n",
       "      <th>review</th>\n",
       "      <th>location_id</th>\n",
       "    </tr>\n",
       "  </thead>\n",
       "  <tbody>\n",
       "    <tr>\n",
       "      <th>0</th>\n",
       "      <td>5</td>\n",
       "      <td>dr. goldberg offers everything i look for in a...</td>\n",
       "      <td>YELP43272</td>\n",
       "    </tr>\n",
       "    <tr>\n",
       "      <th>1</th>\n",
       "      <td>2</td>\n",
       "      <td>Unfortunately, the frustration of being Dr. Go...</td>\n",
       "      <td>YELP56653</td>\n",
       "    </tr>\n",
       "    <tr>\n",
       "      <th>2</th>\n",
       "      <td>4</td>\n",
       "      <td>Been going to Dr. Goldberg for over 10 years. ...</td>\n",
       "      <td>YELP78819</td>\n",
       "    </tr>\n",
       "    <tr>\n",
       "      <th>3</th>\n",
       "      <td>4</td>\n",
       "      <td>Got a letter in the mail last week that said D...</td>\n",
       "      <td>YELP18889</td>\n",
       "    </tr>\n",
       "    <tr>\n",
       "      <th>4</th>\n",
       "      <td>1</td>\n",
       "      <td>I don't know what Dr. Goldberg was like before...</td>\n",
       "      <td>YELP54051</td>\n",
       "    </tr>\n",
       "    <tr>\n",
       "      <th>...</th>\n",
       "      <td>...</td>\n",
       "      <td>...</td>\n",
       "      <td>...</td>\n",
       "    </tr>\n",
       "    <tr>\n",
       "      <th>649995</th>\n",
       "      <td>5</td>\n",
       "      <td>I had a sprinkler that was gushing... pipe bro...</td>\n",
       "      <td>YELP89720</td>\n",
       "    </tr>\n",
       "    <tr>\n",
       "      <th>649996</th>\n",
       "      <td>1</td>\n",
       "      <td>Phone calls always go to voicemail and message...</td>\n",
       "      <td>YELP86683</td>\n",
       "    </tr>\n",
       "    <tr>\n",
       "      <th>649997</th>\n",
       "      <td>1</td>\n",
       "      <td>Looks like all of the good reviews have gone t...</td>\n",
       "      <td>YELP82104</td>\n",
       "    </tr>\n",
       "    <tr>\n",
       "      <th>649998</th>\n",
       "      <td>5</td>\n",
       "      <td>I was able to once again rely on Yelp to provi...</td>\n",
       "      <td>YELP29953</td>\n",
       "    </tr>\n",
       "    <tr>\n",
       "      <th>649999</th>\n",
       "      <td>1</td>\n",
       "      <td>I have been using this company for 11 months. ...</td>\n",
       "      <td>YELP90129</td>\n",
       "    </tr>\n",
       "  </tbody>\n",
       "</table>\n",
       "<p>650000 rows × 3 columns</p>\n",
       "</div>"
      ],
      "text/plain": [
       "        rating                                             review location_id\n",
       "0            5  dr. goldberg offers everything i look for in a...   YELP43272\n",
       "1            2  Unfortunately, the frustration of being Dr. Go...   YELP56653\n",
       "2            4  Been going to Dr. Goldberg for over 10 years. ...   YELP78819\n",
       "3            4  Got a letter in the mail last week that said D...   YELP18889\n",
       "4            1  I don't know what Dr. Goldberg was like before...   YELP54051\n",
       "...        ...                                                ...         ...\n",
       "649995       5  I had a sprinkler that was gushing... pipe bro...   YELP89720\n",
       "649996       1  Phone calls always go to voicemail and message...   YELP86683\n",
       "649997       1  Looks like all of the good reviews have gone t...   YELP82104\n",
       "649998       5  I was able to once again rely on Yelp to provi...   YELP29953\n",
       "649999       1  I have been using this company for 11 months. ...   YELP90129\n",
       "\n",
       "[650000 rows x 3 columns]"
      ]
     },
     "execution_count": 9,
     "metadata": {},
     "output_type": "execute_result"
    }
   ],
   "source": [
    "df_review_yelp"
   ]
  },
  {
   "cell_type": "code",
   "execution_count": 10,
   "metadata": {},
   "outputs": [
    {
     "name": "stdout",
     "output_type": "stream",
     "text": [
      "Positive [130000] / Natural [260000] / Negative [260000]\n"
     ]
    }
   ],
   "source": [
    "df_postive_yelp = df_review_yelp[df_review_yelp['rating'].isin([5])]\n",
    "df_natural_yelp = df_review_yelp[df_review_yelp['rating'].isin([3, 4])]\n",
    "df_negative_yelp = df_review_yelp[df_review_yelp['rating'].isin([1, 2])]\n",
    "\n",
    "print(f\"Positive [{len(df_postive_yelp)}] / Natural [{len(df_natural_yelp)}] / Negative [{len(df_negative_yelp)}]\")"
   ]
  },
  {
   "cell_type": "code",
   "execution_count": 11,
   "metadata": {},
   "outputs": [
    {
     "name": "stdout",
     "output_type": "stream",
     "text": [
      "Positive [2871] / Natural [2571] / Negative [467]\n"
     ]
    }
   ],
   "source": [
    "df_postive = review_df[review_df['rating'].isin([5])]\n",
    "df_natural = review_df[review_df['rating'].isin([3, 4])]\n",
    "df_negative = review_df[review_df['rating'].isin([1, 2])]\n",
    "\n",
    "print(f\"Positive [{len(df_postive)}] / Natural [{len(df_natural)}] / Negative [{len(df_negative)}]\")"
   ]
  },
  {
   "cell_type": "code",
   "execution_count": 9,
   "metadata": {},
   "outputs": [],
   "source": [
    "# binary_url = 'https://github.com/BrownDSI/word2vec-slim/releases/' + \\\n",
    "#              'download/v0.1/GoogleNews-vectors-negative300-slim.bin.gz'\n",
    "# r = requests.get(binary_url)\n",
    "# open('google-word2vec-slim.bin.gz', 'wb').write(r.content);\n",
    "\n",
    "# model = KeyedVectors.load_word2vec_format('google-word2vec-slim.bin.gz', binary = True)"
   ]
  },
  {
   "cell_type": "code",
   "execution_count": 10,
   "metadata": {},
   "outputs": [],
   "source": [
    "# print(os.path.exists(f\"{NLTK_DATA_PATH}/tokenizers/punkt\")) "
   ]
  },
  {
   "cell_type": "code",
   "execution_count": 11,
   "metadata": {},
   "outputs": [],
   "source": [
    "# 1. Data Preparation\n",
    "# nltk.download ('all', download_dir=NLTK_DATA_PATH)"
   ]
  },
  {
   "cell_type": "code",
   "execution_count": 12,
   "metadata": {},
   "outputs": [
    {
     "data": {
      "text/plain": [
       "['Hello Mr. Smith, how are you doing today?',\n",
       " 'The weather is great and Python is awesome.',\n",
       " 'The sky is pinkish-blue.',\n",
       " 'You should not eat cardboard.']"
      ]
     },
     "execution_count": 12,
     "metadata": {},
     "output_type": "execute_result"
    }
   ],
   "source": [
    "from nltk.tokenize import word_tokenize, sent_tokenize\n",
    "text = \"Hello Mr. Smith, how are you doing today? The weather is great and Python is awesome. The sky is pinkish-blue. You should not eat cardboard.\"\n",
    "word_tokenize ( text )\n",
    "sent_tokenize ( text )"
   ]
  },
  {
   "cell_type": "code",
   "execution_count": 13,
   "metadata": {},
   "outputs": [],
   "source": [
    "from nltk.corpus import stopwords \n",
    "\n",
    "custom_stopwords = set(stopwords.words('english'))"
   ]
  },
  {
   "cell_type": "code",
   "execution_count": 14,
   "metadata": {},
   "outputs": [],
   "source": [
    "from nltk.stem import WordNetLemmatizer\n",
    "\n",
    "stop_words = custom_stopwords\n",
    "lemmatizer = WordNetLemmatizer()"
   ]
  },
  {
   "cell_type": "code",
   "execution_count": 15,
   "metadata": {},
   "outputs": [],
   "source": [
    "def advanced_clean_text(text):\n",
    "    text = text.lower()\n",
    "    text = re.sub(r'\\d+', '', text)  # Remove numbers\n",
    "    text = re.sub(r'[^a-z\\s]', '', text)  # Remove special characters\n",
    "    text = re.sub(r'\\b(u|ur|b4)\\b', 'you', text)  # Replace common abbreviations\n",
    "    words = word_tokenize(text)\n",
    "    words = [lemmatizer.lemmatize(word) for word in words if word not in stop_words]\n",
    "    words = [word for word in words if word not in string.punctuation]\n",
    "    return ' '.join(words)"
   ]
  },
  {
   "cell_type": "code",
   "execution_count": 16,
   "metadata": {},
   "outputs": [],
   "source": [
    "combined_positive_df = pd.concat([df_postive_yelp.iloc[:-len(df_postive)], df_postive])\n",
    "combined_natural_df = pd.concat([df_natural_yelp.iloc[:-len(df_natural)], df_natural])\n",
    "combined_negative_df = pd.concat([df_negative_yelp.iloc[:-len(df_negative)], df_negative])"
   ]
  },
  {
   "cell_type": "code",
   "execution_count": 17,
   "metadata": {},
   "outputs": [
    {
     "name": "stdout",
     "output_type": "stream",
     "text": [
      "130000 / 260000 / 260000\n"
     ]
    }
   ],
   "source": [
    "print(f\"{len(combined_positive_df)} / {len(combined_natural_df)} / {len(combined_negative_df)}\")"
   ]
  },
  {
   "cell_type": "code",
   "execution_count": 18,
   "metadata": {},
   "outputs": [],
   "source": [
    "selected_column_trained = ['rating', 'location_id', 'review']\n",
    "full_combined_df = pd.concat([combined_positive_df[selected_column_trained], combined_natural_df[selected_column_trained], combined_negative_df[selected_column_trained]])"
   ]
  },
  {
   "cell_type": "code",
   "execution_count": 19,
   "metadata": {},
   "outputs": [
    {
     "name": "stdout",
     "output_type": "stream",
     "text": [
      "650000\n",
      "      rating location_id                                             review\n",
      "0          5   YELP43272  dr. goldberg offers everything i look for in a...\n",
      "5          5   YELP57453  Top notch doctor in a top notch practice. Can'...\n",
      "6          5   YELP76804  Dr. Eric Goldberg is a fantastic doctor who ha...\n",
      "14         5   YELP13334  This place was DELICIOUS!!  My parents saw a r...\n",
      "15         5   YELP22507  Can't miss stop for the best Fish Sandwich in ...\n",
      "...      ...         ...                                                ...\n",
      "5814       1    10000684  Personally tough this place is not maintained ...\n",
      "5859       1     1390151  Found this on social, the owner parked his/her...\n",
      "5866       2     6668995  Wat Intharam was apparently built during the A...\n",
      "5867       2     6668995  if you expect to find authentic buddhist teach...\n",
      "5882       1      456191  Living in Thailand many years, having Thai hus...\n",
      "\n",
      "[650000 rows x 3 columns]\n"
     ]
    }
   ],
   "source": [
    "print(len(full_combined_df))\n",
    "print(full_combined_df)"
   ]
  },
  {
   "cell_type": "code",
   "execution_count": 20,
   "metadata": {},
   "outputs": [],
   "source": [
    "# Apply preprocessing to the review texts\n",
    "full_combined_df['cleaned_review'] = full_combined_df['review'].apply(advanced_clean_text)\n",
    "\n",
    "# 2. สร้าง Word Embeddings ด้วย Word2Vec\n",
    "# word2vec_model = Word2Vec(sentences=review_df['cleaned_review'], vector_size=300, window=5, min_count=1, sg=1)  # ใช้ Skip-Gram\n",
    "sentences = [row.split() for row in full_combined_df['cleaned_review']]\n",
    "word2vec_model = Word2Vec(sentences, vector_size=300, window=5, min_count=1, workers=4)  # เปลี่ยน vector_size เป็น 300\n",
    "\n"
   ]
  },
  {
   "cell_type": "code",
   "execution_count": 21,
   "metadata": {},
   "outputs": [],
   "source": [
    "# Parameters\n",
    "embedding_dim = 300  # Assuming Word2Vec has 300 dimensions\n",
    "gru_units = 128\n",
    "dropout_rate = 0.5\n",
    "num_classes = 1  # Binary classification\n",
    "max_sequence_length = 300  # Maximum length of input sequences\n",
    "ngram_range = (1, 2)  # Unigrams and bigrams\n",
    "max_features = 20000  \n",
    "\n",
    "# Create the embedding matrix from the Word2Vec model\n",
    "word_index = {word: i for i, word in enumerate(word2vec_model.wv.index_to_key)}\n",
    "embedding_matrix = np.zeros((len(word_index) + 1, embedding_dim))"
   ]
  },
  {
   "cell_type": "code",
   "execution_count": 22,
   "metadata": {},
   "outputs": [],
   "source": [
    "def text_to_word2vec(tokens, model, max_length=300):\n",
    "    vector = np.zeros((max_length, 300))\n",
    "    for i, word in enumerate(tokens):\n",
    "        if i < max_length:\n",
    "            if word in model.wv:\n",
    "                vector[i] = model.wv[word]\n",
    "    return vector\n",
    "\n",
    "full_combined_df['embedding'] = review_df['cleaned_review'].apply(lambda x: text_to_word2vec(x, word2vec_model))\n"
   ]
  },
  {
   "cell_type": "code",
   "execution_count": 23,
   "metadata": {},
   "outputs": [],
   "source": [
    "def map_rating_to_sentiment(rating):\n",
    "    if rating in [1, 2]:\n",
    "        return 'negative'\n",
    "    elif rating in [3, 4]:\n",
    "        return 'neutral'\n",
    "    else:  # 4 or 5\n",
    "        return 'positive'\n",
    "\n",
    "full_combined_df['sentiment'] = full_combined_df['rating'].apply(map_rating_to_sentiment)"
   ]
  },
  {
   "cell_type": "code",
   "execution_count": null,
   "metadata": {},
   "outputs": [],
   "source": [
    "# from sklearn.utils import resample\n",
    "\n",
    "# # Assuming `review_df` is your original DataFrame with a 'sentiment' column\n",
    "\n",
    "# # 1. Separate the data by class\n",
    "# df_positive = review_df[review_df.sentiment == 'positive']\n",
    "# df_neutral = review_df[review_df.sentiment == 'neutral']\n",
    "# df_negative = review_df[review_df.sentiment == 'negative']\n",
    "\n",
    "# # 2. Resample the minority classes\n",
    "# # For example, oversample the neutral and negative classes to match the positive class\n",
    "# df_neutral_upsampled = resample(df_neutral,\n",
    "#                                 replace=True,  # Sample with replacement\n",
    "#                                 n_samples=len(df_positive),  # Match number of positive class samples\n",
    "#                                 random_state=42)  # Reproducible results\n",
    "\n",
    "# df_negative_upsampled = resample(df_negative,\n",
    "#                                  replace=True,  # Sample with replacement\n",
    "#                                  n_samples=len(df_positive),  # Match number of positive class samples\n",
    "#                                  random_state=42)  # Reproducible results\n",
    "\n",
    "# # 3. Combine the resampled DataFrames\n",
    "# df_balanced = pd.concat([df_positive, df_neutral_upsampled, df_negative_upsampled])\n",
    "\n",
    "# # 4. Shuffle the combined DataFrame\n",
    "# df_balanced = df_balanced.sample(frac=1, random_state=42).reset_index(drop=True)\n",
    "\n",
    "# # 5. Check the distribution of the classes\n",
    "# print(df_balanced['sentiment'].value_counts())\n"
   ]
  },
  {
   "cell_type": "code",
   "execution_count": 107,
   "metadata": {},
   "outputs": [],
   "source": [
    "full_combined_df.to_csv(\"../dataset/full_embled_review_combined.csv\")"
   ]
  },
  {
   "cell_type": "code",
   "execution_count": 24,
   "metadata": {},
   "outputs": [
    {
     "name": "stdout",
     "output_type": "stream",
     "text": [
      "sentiment\n",
      "neutral     260000\n",
      "negative    260000\n",
      "positive    130000\n",
      "Name: count, dtype: int64\n"
     ]
    }
   ],
   "source": [
    "df_balanced = full_combined_df\n",
    "\n",
    "print(df_balanced['sentiment'].value_counts())"
   ]
  },
  {
   "cell_type": "code",
   "execution_count": 25,
   "metadata": {},
   "outputs": [],
   "source": [
    "df_balanced['location_id_numeric'] = pd.to_numeric(df_balanced['location_id'], errors='coerce')\n",
    "\n",
    "# Filter out rows where 'location_id_numeric' is NaN (i.e., non-integer)\n",
    "filtered_df = df_balanced[df_balanced['location_id_numeric'].notna()]\n",
    "trained_df = df_balanced[df_balanced['location_id_numeric'].isna()] \n",
    "\n",
    "# Drop the helper 'location_id_numeric' column if you don't need it anymore\n",
    "validate_review_df = filtered_df.drop(columns=['location_id_numeric'])\n",
    "training_review_df = trained_df.drop(columns=['location_id_numeric'])\n"
   ]
  },
  {
   "cell_type": "code",
   "execution_count": 26,
   "metadata": {},
   "outputs": [
    {
     "name": "stderr",
     "output_type": "stream",
     "text": [
      "/var/folders/fk/449tdf_12hzd2r7ps4659q0m0000gn/T/ipykernel_3059/4209710448.py:1: DeprecationWarning: DataFrameGroupBy.apply operated on the grouping columns. This behavior is deprecated, and in a future version of pandas the grouping columns will be excluded from the operation. Either pass `include_groups=False` to exclude the groupings or explicitly select the grouping columns after groupby to silence this warning.\n",
      "  df_sampled = training_review_df.groupby('sentiment').apply(lambda x: x.sample(n=10000, random_state=42)).reset_index(drop=True)\n"
     ]
    }
   ],
   "source": [
    "df_sampled = training_review_df.groupby('sentiment').apply(lambda x: x.sample(n=10000, random_state=42)).reset_index(drop=True)\n"
   ]
  },
  {
   "cell_type": "code",
   "execution_count": 27,
   "metadata": {},
   "outputs": [],
   "source": [
    "tokenizer = Tokenizer(num_words=max_features, oov_token=\"OOV\")\n",
    "tokenizer.fit_on_texts(df_sampled['cleaned_review'])\n",
    "\n",
    "X = tokenizer.texts_to_sequences(df_sampled['cleaned_review'])\n",
    "X = pad_sequences(X, maxlen=max_sequence_length)\n",
    "\n",
    "# แปลงคอลัมน์ 'sentiment' เป็นข้อมูลตัวเลข\n",
    "label_mapping = {'negative': 0, 'neutral': 1, 'positive': 2}\n",
    "y = df_sampled['sentiment'].map(label_mapping)"
   ]
  },
  {
   "cell_type": "code",
   "execution_count": 28,
   "metadata": {},
   "outputs": [
    {
     "data": {
      "text/plain": [
       "(30000, 300)"
      ]
     },
     "execution_count": 28,
     "metadata": {},
     "output_type": "execute_result"
    }
   ],
   "source": [
    "X.shape"
   ]
  },
  {
   "cell_type": "code",
   "execution_count": 29,
   "metadata": {},
   "outputs": [
    {
     "data": {
      "text/plain": [
       "(30000,)"
      ]
     },
     "execution_count": 29,
     "metadata": {},
     "output_type": "execute_result"
    }
   ],
   "source": [
    "y.shape"
   ]
  },
  {
   "cell_type": "code",
   "execution_count": 30,
   "metadata": {},
   "outputs": [],
   "source": [
    "from imblearn.over_sampling import SMOTE\n",
    "smote = SMOTE(random_state=42)\n",
    "X_train_resampled, y_train_resampled = smote.fit_resample(X, y)\n",
    "\n",
    "# แบ่งข้อมูลใหม่อีกครั้งหลังจาก SMOTE\n",
    "X_train_resampled, X_val, y_train_resampled, y_val = train_test_split(X, y, test_size=0.3, random_state=42)"
   ]
  },
  {
   "cell_type": "code",
   "execution_count": 31,
   "metadata": {},
   "outputs": [
    {
     "name": "stdout",
     "output_type": "stream",
     "text": [
      "X_train shape: (21000, 300)\n",
      "y_train shape: (21000,)\n",
      "X_test shape: (9000, 300)\n",
      "y_test shape: (9000,)\n"
     ]
    }
   ],
   "source": [
    "# Check the shapes of the resulting arrays\n",
    "print(f\"X_train shape: {X_train_resampled.shape}\")\n",
    "print(f\"y_train shape: {y_train_resampled.shape}\")\n",
    "print(f\"X_test shape: {X_val.shape}\")\n",
    "print(f\"y_test shape: {y_val.shape}\")\n"
   ]
  },
  {
   "cell_type": "code",
   "execution_count": 32,
   "metadata": {},
   "outputs": [
    {
     "name": "stderr",
     "output_type": "stream",
     "text": [
      "/Users/ittichaiboonyarakthunya/Library/Caches/pypoetry/virtualenvs/is-project-thailand-tourism-recommendation-qwL-LsgH-py3.12/lib/python3.12/site-packages/keras/src/layers/core/embedding.py:90: UserWarning: Argument `input_length` is deprecated. Just remove it.\n",
      "  warnings.warn(\n"
     ]
    }
   ],
   "source": [
    "from sklearn.model_selection import train_test_split\n",
    "from tensorflow.keras.models import Sequential\n",
    "from tensorflow.keras.layers import Embedding, LSTM, Dense, Dropout\n",
    "from tensorflow.keras.preprocessing.sequence import pad_sequences\n",
    "from tensorflow.keras.preprocessing.text import Tokenizer\n",
    "\n",
    "# Step 6: Build the LSTM Model\n",
    "gru_units = 128\n",
    "dropout_rate = 0.5\n",
    "input_shape = X_train_resampled.shape[1:] \n",
    "max_len = 100\n",
    "\n",
    "# สร้างโมเดลด้วย L2 Regularization และ Dropout\n",
    "model = Sequential()\n",
    "model.add(Embedding(input_dim=max_features, output_dim=embedding_dim, input_length=max_len))\n",
    "model.add(LSTM(128, return_sequences=True, kernel_regularizer=l2(0.01)))  # L2 Regularization\n",
    "model.add(Dropout(0.5))\n",
    "model.add(LSTM(64, kernel_regularizer=l2(0.01)))  # L2 Regularization\n",
    "model.add(Dropout(0.5))\n",
    "model.add(Dense(3, activation='softmax'))  # สมมติว่ามี 3 คลาส\n",
    "\n",
    "model.compile(optimizer='adam', loss='sparse_categorical_crossentropy', metrics=['accuracy'])\n"
   ]
  },
  {
   "cell_type": "code",
   "execution_count": 33,
   "metadata": {},
   "outputs": [],
   "source": [
    "word_index = tokenizer.word_index\n",
    "embedding_matrix = np.zeros((len(word_index) + 1, embedding_dim))\n",
    "\n",
    "for word, i in word_index.items():\n",
    "    if i < max_features:\n",
    "        # ใช้ [] แทนการใช้ get() เพื่อดึง embedding vector\n",
    "        if word in word2vec_model.wv:\n",
    "            embedding_vector = word2vec_model.wv[word]\n",
    "            if embedding_vector is not None:\n",
    "                embedding_matrix[i] = embedding_vector"
   ]
  },
  {
   "cell_type": "code",
   "execution_count": 34,
   "metadata": {},
   "outputs": [],
   "source": [
    "model.compile(optimizer='adam', loss='sparse_categorical_crossentropy', metrics=['accuracy'])\n"
   ]
  },
  {
   "cell_type": "code",
   "execution_count": 35,
   "metadata": {},
   "outputs": [],
   "source": [
    "from sklearn.utils.class_weight import compute_class_weight\n",
    "\n",
    "unique_classes = np.unique(y_train_resampled)\n",
    "\n",
    "# Compute class weights\n",
    "class_weights = compute_class_weight('balanced', classes=unique_classes, y=y)\n",
    "class_weights_dict = dict(enumerate(class_weights))\n",
    "\n",
    "# Optional: Normalize class weights\n",
    "total = sum(class_weights_dict.values())\n",
    "class_weights_dict = {k: v / total for k, v in class_weights_dict.items()}"
   ]
  },
  {
   "cell_type": "code",
   "execution_count": 29,
   "metadata": {},
   "outputs": [],
   "source": [
    "class_weights_dict = dict(enumerate(class_weights))"
   ]
  },
  {
   "cell_type": "code",
   "execution_count": 30,
   "metadata": {},
   "outputs": [
    {
     "data": {
      "text/plain": [
       "{0: 1.0064271107215892, 1: 0.9869646182495344, 2: 1.0068683326026597}"
      ]
     },
     "execution_count": 30,
     "metadata": {},
     "output_type": "execute_result"
    }
   ],
   "source": [
    "class_weights_dict"
   ]
  },
  {
   "cell_type": "code",
   "execution_count": 36,
   "metadata": {},
   "outputs": [],
   "source": [
    "from tensorflow.keras.callbacks import TensorBoard\n",
    "tensorboard = TensorBoard(log_dir=f'../../logs')"
   ]
  },
  {
   "cell_type": "code",
   "execution_count": 37,
   "metadata": {},
   "outputs": [
    {
     "name": "stdout",
     "output_type": "stream",
     "text": [
      "Epoch 1/20\n",
      "\u001b[1m165/165\u001b[0m \u001b[32m━━━━━━━━━━━━━━━━━━━━\u001b[0m\u001b[37m\u001b[0m \u001b[1m100s\u001b[0m 588ms/step - accuracy: 0.4746 - loss: 3.2830 - val_accuracy: 0.6226 - val_loss: 0.8711\n",
      "Epoch 2/20\n",
      "\u001b[1m165/165\u001b[0m \u001b[32m━━━━━━━━━━━━━━━━━━━━\u001b[0m\u001b[37m\u001b[0m \u001b[1m94s\u001b[0m 567ms/step - accuracy: 0.6788 - loss: 0.7638 - val_accuracy: 0.6493 - val_loss: 0.7792\n",
      "Epoch 3/20\n",
      "\u001b[1m165/165\u001b[0m \u001b[32m━━━━━━━━━━━━━━━━━━━━\u001b[0m\u001b[37m\u001b[0m \u001b[1m95s\u001b[0m 574ms/step - accuracy: 0.7532 - loss: 0.6248 - val_accuracy: 0.6843 - val_loss: 0.7363\n",
      "Epoch 4/20\n",
      "\u001b[1m165/165\u001b[0m \u001b[32m━━━━━━━━━━━━━━━━━━━━\u001b[0m\u001b[37m\u001b[0m \u001b[1m100s\u001b[0m 610ms/step - accuracy: 0.8209 - loss: 0.5052 - val_accuracy: 0.6748 - val_loss: 0.7998\n",
      "Epoch 5/20\n",
      "\u001b[1m165/165\u001b[0m \u001b[32m━━━━━━━━━━━━━━━━━━━━\u001b[0m\u001b[37m\u001b[0m \u001b[1m94s\u001b[0m 571ms/step - accuracy: 0.8500 - loss: 0.4421 - val_accuracy: 0.6770 - val_loss: 0.8935\n",
      "Epoch 6/20\n",
      "\u001b[1m165/165\u001b[0m \u001b[32m━━━━━━━━━━━━━━━━━━━━\u001b[0m\u001b[37m\u001b[0m \u001b[1m101s\u001b[0m 612ms/step - accuracy: 0.8789 - loss: 0.3635 - val_accuracy: 0.6587 - val_loss: 0.9455\n",
      "Epoch 7/20\n",
      "\u001b[1m165/165\u001b[0m \u001b[32m━━━━━━━━━━━━━━━━━━━━\u001b[0m\u001b[37m\u001b[0m \u001b[1m0s\u001b[0m 600ms/step - accuracy: 0.8730 - loss: 0.3778"
     ]
    }
   ],
   "source": [
    "from keras.callbacks import EarlyStopping, ModelCheckpoint\n",
    "\n",
    "# กำหนดการตั้งค่า Early Stopping และ Model Checkpoint\n",
    "early_stopping = EarlyStopping(monitor='val_loss', patience=10, restore_best_weights=True)\n",
    "model_checkpoint = ModelCheckpoint('../../models/LSTM_models_sample.keras', monitor='val_loss', save_best_only=True)  # เปลี่ยนจาก .h5 เป็น .keras\n",
    "\n",
    "# ฝึกโมเดล\n",
    "history = model.fit(X_train_resampled, y_train_resampled,\n",
    "                    epochs=20,\n",
    "                    batch_size=128,\n",
    "                    validation_data=(X_val, y_val),\n",
    "                    callbacks=[early_stopping, model_checkpoint, tensorboard],\n",
    "                    class_weight=None)\n"
   ]
  },
  {
   "cell_type": "code",
   "execution_count": 108,
   "metadata": {},
   "outputs": [
    {
     "data": {
      "image/png": "[encoded data removed]",
      "text/plain": [
       "<Figure size 1200x500 with 2 Axes>"
      ]
     },
     "metadata": {},
     "output_type": "display_data"
    }
   ],
   "source": [
    "import matplotlib.pyplot as plt\n",
    "\n",
    "acc = history.history['accuracy']      # Training accuracy\n",
    "val_acc = history.history['val_accuracy']  # Validation accuracy\n",
    "loss = history.history['loss']         # Training loss\n",
    "val_loss = history.history['val_loss']  # Validation loss\n",
    "\n",
    "# Plot Accuracy\n",
    "plt.figure(figsize=(12, 5))\n",
    "plt.subplot(1, 2, 1)  # Create subplot for accuracy\n",
    "plt.plot(acc, label='Training Accuracy')\n",
    "plt.plot(val_acc, label='Validation Accuracy')\n",
    "plt.title('Training and Validation Accuracy')\n",
    "plt.xlabel('Epoch')\n",
    "plt.ylabel('Accuracy')\n",
    "plt.legend()\n",
    "\n",
    "# Plot Loss\n",
    "plt.subplot(1, 2, 2)  # Create subplot for loss\n",
    "plt.plot(loss, label='Training Loss')\n",
    "plt.plot(val_loss, label='Validation Loss')\n",
    "plt.title('Training and Validation Loss')\n",
    "plt.xlabel('Epoch')\n",
    "plt.ylabel('Loss')\n",
    "plt.legend()\n",
    "\n",
    "# Display the plots\n",
    "plt.tight_layout()\n",
    "plt.show()"
   ]
  },
  {
   "cell_type": "code",
   "execution_count": null,
   "metadata": {},
   "outputs": [],
   "source": [
    "from tensorflow.keras.utils import plot_model\n",
    "\n",
    "plot_model(model, to_file='model_plot.png', show_shapes=True, show_layer_names=True)\n"
   ]
  },
  {
   "cell_type": "code",
   "execution_count": 1,
   "metadata": {},
   "outputs": [],
   "source": [
    "from sklearn.ensemble import RandomForestClassifier, GradientBoostingClassifier\n",
    "from sklearn.metrics import accuracy_score, confusion_matrix\n",
    "from keras.models import load_model\n",
    "\n",
    "# โหลดโมเดล LSTM ที่ดีที่สุด\n",
    "best_model = load_model('../../models/LSTM_models_sample.keras')"
   ]
  },
  {
   "cell_type": "code",
   "execution_count": 142,
   "metadata": {},
   "outputs": [
    {
     "data": {
      "text/plain": [
       "5909"
      ]
     },
     "execution_count": 142,
     "metadata": {},
     "output_type": "execute_result"
    }
   ],
   "source": [
    "len(validate_review_df)"
   ]
  },
  {
   "cell_type": "code",
   "execution_count": 138,
   "metadata": {},
   "outputs": [
    {
     "data": {
      "text/html": [
       "<div>\n",
       "<style scoped>\n",
       "    .dataframe tbody tr th:only-of-type {\n",
       "        vertical-align: middle;\n",
       "    }\n",
       "\n",
       "    .dataframe tbody tr th {\n",
       "        vertical-align: top;\n",
       "    }\n",
       "\n",
       "    .dataframe thead th {\n",
       "        text-align: right;\n",
       "    }\n",
       "</style>\n",
       "<table border=\"1\" class=\"dataframe\">\n",
       "  <thead>\n",
       "    <tr style=\"text-align: right;\">\n",
       "      <th></th>\n",
       "      <th>rating</th>\n",
       "      <th>location_id</th>\n",
       "      <th>review</th>\n",
       "      <th>cleaned_review</th>\n",
       "      <th>sentiment</th>\n",
       "      <th>embedding</th>\n",
       "    </tr>\n",
       "  </thead>\n",
       "  <tbody>\n",
       "    <tr>\n",
       "      <th>0</th>\n",
       "      <td>5</td>\n",
       "      <td>2209612</td>\n",
       "      <td>Besides elegant grand palace and wat pra kaew ...</td>\n",
       "      <td>besides elegant grand palace wat pra kaew emer...</td>\n",
       "      <td>positive</td>\n",
       "      <td>[[0.6471980214118958, -0.8321853876113892, 1.5...</td>\n",
       "    </tr>\n",
       "  </tbody>\n",
       "</table>\n",
       "</div>"
      ],
      "text/plain": [
       "   rating location_id                                             review  \\\n",
       "0       5     2209612  Besides elegant grand palace and wat pra kaew ...   \n",
       "\n",
       "                                      cleaned_review sentiment  \\\n",
       "0  besides elegant grand palace wat pra kaew emer...  positive   \n",
       "\n",
       "                                           embedding  \n",
       "0  [[0.6471980214118958, -0.8321853876113892, 1.5...  "
      ]
     },
     "execution_count": 138,
     "metadata": {},
     "output_type": "execute_result"
    }
   ],
   "source": [
    "validate_review_df.head(1)"
   ]
  },
  {
   "cell_type": "code",
   "execution_count": 158,
   "metadata": {},
   "outputs": [],
   "source": [
    "tokenizer = Tokenizer(num_words=max_features, oov_token=\"OOV\")\n",
    "tokenizer.fit_on_texts(validate_review_df['cleaned_review'])\n",
    "\n",
    "X_val_resampled = tokenizer.texts_to_sequences(validate_review_df['cleaned_review'])\n",
    "X_val_resampled = pad_sequences(X_val_resampled, maxlen=max_sequence_length)\n",
    "\n",
    "y_val_resampled = validate_review_df['sentiment'].map(label_mapping)"
   ]
  },
  {
   "cell_type": "code",
   "execution_count": 162,
   "metadata": {},
   "outputs": [
    {
     "data": {
      "text/plain": [
       "(5909,)"
      ]
     },
     "execution_count": 162,
     "metadata": {},
     "output_type": "execute_result"
    }
   ],
   "source": [
    "y_val_resampled.shape"
   ]
  },
  {
   "cell_type": "code",
   "execution_count": 163,
   "metadata": {},
   "outputs": [
    {
     "data": {
      "text/plain": [
       "(5909, 500)"
      ]
     },
     "execution_count": 163,
     "metadata": {},
     "output_type": "execute_result"
    }
   ],
   "source": [
    "X_val_resampled.shape"
   ]
  },
  {
   "cell_type": "code",
   "execution_count": 164,
   "metadata": {},
   "outputs": [
    {
     "name": "stdout",
     "output_type": "stream",
     "text": [
      "\u001b[1m185/185\u001b[0m \u001b[32m━━━━━━━━━━━━━━━━━━━━\u001b[0m\u001b[37m\u001b[0m \u001b[1m25s\u001b[0m 137ms/step\n",
      "              precision    recall  f1-score   support\n",
      "\n",
      "           0       0.00      0.00      0.00       467\n",
      "           1       0.00      0.00      0.00      2571\n",
      "           2       0.49      1.00      0.65      2871\n",
      "\n",
      "    accuracy                           0.49      5909\n",
      "   macro avg       0.16      0.33      0.22      5909\n",
      "weighted avg       0.24      0.49      0.32      5909\n",
      "\n",
      "[[   0    0  467]\n",
      " [   0    0 2571]\n",
      " [   0    0 2871]]\n"
     ]
    },
    {
     "name": "stderr",
     "output_type": "stream",
     "text": [
      "/Users/ittichaiboonyarakthunya/Library/Caches/pypoetry/virtualenvs/is-project-thailand-tourism-recommendation-qwL-LsgH-py3.12/lib/python3.12/site-packages/sklearn/metrics/_classification.py:1531: UndefinedMetricWarning: Precision is ill-defined and being set to 0.0 in labels with no predicted samples. Use `zero_division` parameter to control this behavior.\n",
      "  _warn_prf(average, modifier, f\"{metric.capitalize()} is\", len(result))\n",
      "/Users/ittichaiboonyarakthunya/Library/Caches/pypoetry/virtualenvs/is-project-thailand-tourism-recommendation-qwL-LsgH-py3.12/lib/python3.12/site-packages/sklearn/metrics/_classification.py:1531: UndefinedMetricWarning: Precision is ill-defined and being set to 0.0 in labels with no predicted samples. Use `zero_division` parameter to control this behavior.\n",
      "  _warn_prf(average, modifier, f\"{metric.capitalize()} is\", len(result))\n",
      "/Users/ittichaiboonyarakthunya/Library/Caches/pypoetry/virtualenvs/is-project-thailand-tourism-recommendation-qwL-LsgH-py3.12/lib/python3.12/site-packages/sklearn/metrics/_classification.py:1531: UndefinedMetricWarning: Precision is ill-defined and being set to 0.0 in labels with no predicted samples. Use `zero_division` parameter to control this behavior.\n",
      "  _warn_prf(average, modifier, f\"{metric.capitalize()} is\", len(result))\n"
     ]
    }
   ],
   "source": [
    "# ใช้โมเดล LSTM ทำนายข้อมูล validation set\n",
    "lstm_preds = best_model.predict(X_val_resampled)\n",
    "lstm_preds = np.argmax(lstm_preds, axis=1)\n",
    "\n",
    "# ฝึก Gradient Boosting Classifier บนผลลัพธ์จาก LSTM\n",
    "gb_clf = GradientBoostingClassifier(n_estimators=100, random_state=42)\n",
    "gb_clf.fit(lstm_preds.reshape(-1, 1), y_val_resampled)\n",
    "\n",
    "# ทำนายผลลัพธ์ด้วย Gradient Boosting\n",
    "ensemble_preds = gb_clf.predict(lstm_preds.reshape(-1, 1))\n",
    "\n",
    "# ตรวจสอบผลลัพธ์\n",
    "print(classification_report(y_val_resampled, ensemble_preds))\n",
    "print(confusion_matrix(y_val_resampled, ensemble_preds))"
   ]
  },
  {
   "cell_type": "code",
   "execution_count": 115,
   "metadata": {},
   "outputs": [
    {
     "name": "stdout",
     "output_type": "stream",
     "text": [
      "\u001b[1m282/282\u001b[0m \u001b[32m━━━━━━━━━━━━━━━━━━━━\u001b[0m\u001b[37m\u001b[0m \u001b[1m36s\u001b[0m 127ms/step\n",
      "              precision    recall  f1-score   support\n",
      "\n",
      "           0       0.73      0.84      0.78      3008\n",
      "           1       0.60      0.45      0.52      2998\n",
      "           2       0.68      0.76      0.72      2994\n",
      "\n",
      "    accuracy                           0.68      9000\n",
      "   macro avg       0.67      0.68      0.67      9000\n",
      "weighted avg       0.67      0.68      0.67      9000\n",
      "\n",
      "[[2523  343  142]\n",
      " [ 733 1360  905]\n",
      " [ 177  552 2265]]\n"
     ]
    }
   ],
   "source": [
    "lstm_preds = best_model.predict(X_val)\n",
    "lstm_preds = np.argmax(lstm_preds, axis=1)\n",
    "\n",
    "print(classification_report(y_val, lstm_preds))\n",
    "print(confusion_matrix(y_val, lstm_preds))"
   ]
  },
  {
   "cell_type": "code",
   "execution_count": 116,
   "metadata": {},
   "outputs": [
    {
     "name": "stdout",
     "output_type": "stream",
     "text": [
      "Random Forest Accuracy: 0.40055555555555555\n",
      "Gradient Boosting Accuracy: 0.41944444444444445\n"
     ]
    }
   ],
   "source": [
    "# สร้างโมเดล Random Forest (Bagging)\n",
    "rf_model = RandomForestClassifier(n_estimators=100, random_state=42)\n",
    "rf_model.fit(X_train_resampled, y_train_resampled)\n",
    "rf_predictions = rf_model.predict(X_val)\n",
    "\n",
    "# สร้างโมเดล Gradient Boosting (Boosting)\n",
    "gb_model = GradientBoostingClassifier(n_estimators=100, random_state=42)\n",
    "gb_model.fit(X_train_resampled, y_train_resampled)\n",
    "gb_predictions = gb_model.predict(X_val)\n",
    "\n",
    "# วัดผลลัพธ์ของแต่ละโมเดล\n",
    "print(\"Random Forest Accuracy:\", accuracy_score(y_val, rf_predictions))\n",
    "print(\"Gradient Boosting Accuracy:\", accuracy_score(y_val, gb_predictions))"
   ]
  },
  {
   "cell_type": "code",
   "execution_count": 117,
   "metadata": {},
   "outputs": [
    {
     "name": "stdout",
     "output_type": "stream",
     "text": [
      "Voting Ensemble Accuracy: 0.4108888888888889\n"
     ]
    }
   ],
   "source": [
    "# Ensemble วิธี Voting (Hard Voting)\n",
    "from sklearn.ensemble import VotingClassifier\n",
    "\n",
    "# รวมโมเดลทั้งสองด้วยการ Voting\n",
    "voting_model = VotingClassifier(estimators=[\n",
    "    ('rf', rf_model), ('gb', gb_model)],\n",
    "    voting='hard')\n",
    "\n",
    "voting_model.fit(X_train_resampled, y_train_resampled)\n",
    "voting_predictions = voting_model.predict(X_val)\n",
    "\n",
    "# วัดผลลัพธ์จากการใช้ Voting\n",
    "print(\"Voting Ensemble Accuracy:\", accuracy_score(y_val, voting_predictions))"
   ]
  },
  {
   "cell_type": "code",
   "execution_count": 39,
   "metadata": {},
   "outputs": [
    {
     "data": {
      "text/plain": [
       "4205    2\n",
       "1665    1\n",
       "3121    2\n",
       "3126    2\n",
       "3688    0\n",
       "       ..\n",
       "8510    1\n",
       "7445    2\n",
       "2132    0\n",
       "247     1\n",
       "4011    2\n",
       "Name: sentiment, Length: 1723, dtype: int64"
      ]
     },
     "execution_count": 39,
     "metadata": {},
     "output_type": "execute_result"
    }
   ],
   "source": [
    "y_val"
   ]
  },
  {
   "cell_type": "code",
   "execution_count": 40,
   "metadata": {},
   "outputs": [
    {
     "name": "stdout",
     "output_type": "stream",
     "text": [
      "Common indices count: 1170\n",
      "Missing indices count: 553\n"
     ]
    }
   ],
   "source": [
    "common_indices = y_val.index.intersection(review_df.index)\n",
    "missing_indices = y_val.index.difference(review_df.index)\n",
    "print(f\"Common indices count: {len(common_indices)}\")\n",
    "print(f\"Missing indices count: {len(missing_indices)}\")"
   ]
  },
  {
   "cell_type": "code",
   "execution_count": 41,
   "metadata": {},
   "outputs": [],
   "source": [
    "# y_val = y_val.iloc[:-1]"
   ]
  },
  {
   "cell_type": "code",
   "execution_count": 56,
   "metadata": {},
   "outputs": [],
   "source": [
    "predict_label = y_val"
   ]
  },
  {
   "cell_type": "code",
   "execution_count": 57,
   "metadata": {},
   "outputs": [],
   "source": [
    "redicted_df = pd.DataFrame({'predicted': ensemble_preds}, index=y_val.index)\n",
    "    \n",
    "    # Concatenate y_val and the new predicted_df to create a new DataFrame\n",
    "predict_df = pd.concat([y_val, redicted_df], axis=1)"
   ]
  },
  {
   "cell_type": "code",
   "execution_count": 58,
   "metadata": {},
   "outputs": [
    {
     "data": {
      "text/html": [
       "<div>\n",
       "<style scoped>\n",
       "    .dataframe tbody tr th:only-of-type {\n",
       "        vertical-align: middle;\n",
       "    }\n",
       "\n",
       "    .dataframe tbody tr th {\n",
       "        vertical-align: top;\n",
       "    }\n",
       "\n",
       "    .dataframe thead th {\n",
       "        text-align: right;\n",
       "    }\n",
       "</style>\n",
       "<table border=\"1\" class=\"dataframe\">\n",
       "  <thead>\n",
       "    <tr style=\"text-align: right;\">\n",
       "      <th></th>\n",
       "      <th>sentiment</th>\n",
       "      <th>predicted</th>\n",
       "    </tr>\n",
       "  </thead>\n",
       "  <tbody>\n",
       "    <tr>\n",
       "      <th>4205</th>\n",
       "      <td>2</td>\n",
       "      <td>1</td>\n",
       "    </tr>\n",
       "    <tr>\n",
       "      <th>1665</th>\n",
       "      <td>1</td>\n",
       "      <td>1</td>\n",
       "    </tr>\n",
       "    <tr>\n",
       "      <th>3121</th>\n",
       "      <td>2</td>\n",
       "      <td>2</td>\n",
       "    </tr>\n",
       "    <tr>\n",
       "      <th>3126</th>\n",
       "      <td>2</td>\n",
       "      <td>2</td>\n",
       "    </tr>\n",
       "    <tr>\n",
       "      <th>3688</th>\n",
       "      <td>0</td>\n",
       "      <td>0</td>\n",
       "    </tr>\n",
       "    <tr>\n",
       "      <th>...</th>\n",
       "      <td>...</td>\n",
       "      <td>...</td>\n",
       "    </tr>\n",
       "    <tr>\n",
       "      <th>8510</th>\n",
       "      <td>1</td>\n",
       "      <td>1</td>\n",
       "    </tr>\n",
       "    <tr>\n",
       "      <th>7445</th>\n",
       "      <td>2</td>\n",
       "      <td>2</td>\n",
       "    </tr>\n",
       "    <tr>\n",
       "      <th>2132</th>\n",
       "      <td>0</td>\n",
       "      <td>0</td>\n",
       "    </tr>\n",
       "    <tr>\n",
       "      <th>247</th>\n",
       "      <td>1</td>\n",
       "      <td>1</td>\n",
       "    </tr>\n",
       "    <tr>\n",
       "      <th>4011</th>\n",
       "      <td>2</td>\n",
       "      <td>2</td>\n",
       "    </tr>\n",
       "  </tbody>\n",
       "</table>\n",
       "<p>1723 rows × 2 columns</p>\n",
       "</div>"
      ],
      "text/plain": [
       "      sentiment  predicted\n",
       "4205          2          1\n",
       "1665          1          1\n",
       "3121          2          2\n",
       "3126          2          2\n",
       "3688          0          0\n",
       "...         ...        ...\n",
       "8510          1          1\n",
       "7445          2          2\n",
       "2132          0          0\n",
       "247           1          1\n",
       "4011          2          2\n",
       "\n",
       "[1723 rows x 2 columns]"
      ]
     },
     "execution_count": 58,
     "metadata": {},
     "output_type": "execute_result"
    }
   ],
   "source": [
    "predict_df"
   ]
  },
  {
   "cell_type": "code",
   "execution_count": 59,
   "metadata": {},
   "outputs": [],
   "source": [
    "valid_y_val = predict_df.loc[predict_df.index.isin(review_df.index)]\n",
    "\n",
    "# Now you can safely use .loc with valid_y_val indices\n",
    "filtered_reviews = review_df.loc[valid_y_val.index]"
   ]
  },
  {
   "cell_type": "code",
   "execution_count": 60,
   "metadata": {},
   "outputs": [
    {
     "data": {
      "text/html": [
       "<div>\n",
       "<style scoped>\n",
       "    .dataframe tbody tr th:only-of-type {\n",
       "        vertical-align: middle;\n",
       "    }\n",
       "\n",
       "    .dataframe tbody tr th {\n",
       "        vertical-align: top;\n",
       "    }\n",
       "\n",
       "    .dataframe thead th {\n",
       "        text-align: right;\n",
       "    }\n",
       "</style>\n",
       "<table border=\"1\" class=\"dataframe\">\n",
       "  <thead>\n",
       "    <tr style=\"text-align: right;\">\n",
       "      <th></th>\n",
       "      <th>helpful_votes</th>\n",
       "      <th>location_id</th>\n",
       "      <th>review_id</th>\n",
       "      <th>review</th>\n",
       "      <th>review_subject</th>\n",
       "      <th>trip_type</th>\n",
       "      <th>rating</th>\n",
       "      <th>location_name</th>\n",
       "      <th>province</th>\n",
       "      <th>place_id</th>\n",
       "      <th>emotion</th>\n",
       "      <th>cleaned_review</th>\n",
       "      <th>embedding</th>\n",
       "      <th>sentiment</th>\n",
       "    </tr>\n",
       "  </thead>\n",
       "  <tbody>\n",
       "    <tr>\n",
       "      <th>4205</th>\n",
       "      <td>0</td>\n",
       "      <td>11867768</td>\n",
       "      <td>660193827</td>\n",
       "      <td>The place is a real gem, nestling in the cool ...</td>\n",
       "      <td>Not to be Missed!</td>\n",
       "      <td>Couples</td>\n",
       "      <td>5</td>\n",
       "      <td>The Royal Agricultural Station Angkhang</td>\n",
       "      <td>Phetchabun</td>\n",
       "      <td>P03012884</td>\n",
       "      <td>joy</td>\n",
       "      <td>place real gem nestling cool green upland doi ...</td>\n",
       "      <td>[[-0.0007259029662236571, 0.0874868631362915, ...</td>\n",
       "      <td>positive</td>\n",
       "    </tr>\n",
       "    <tr>\n",
       "      <th>1665</th>\n",
       "      <td>0</td>\n",
       "      <td>16868178</td>\n",
       "      <td>893223254</td>\n",
       "      <td>Nice view, but you need to be be careful when ...</td>\n",
       "      <td>Nice view</td>\n",
       "      <td>Friends getaway</td>\n",
       "      <td>5</td>\n",
       "      <td>Chado Cliff Viewpoint</td>\n",
       "      <td>Phra Nakhon Si Ayutthaya</td>\n",
       "      <td>P03017905</td>\n",
       "      <td>joy</td>\n",
       "      <td>nice view need careful hiking natural trail be...</td>\n",
       "      <td>[[-0.014990693889558315, 0.23374047875404358, ...</td>\n",
       "      <td>positive</td>\n",
       "    </tr>\n",
       "    <tr>\n",
       "      <th>3121</th>\n",
       "      <td>1</td>\n",
       "      <td>556614</td>\n",
       "      <td>874997345</td>\n",
       "      <td>Doi Mae Salong is a beautiful and interesting ...</td>\n",
       "      <td>Beautiful and peaceful</td>\n",
       "      <td>NONE</td>\n",
       "      <td>5</td>\n",
       "      <td>Doi Mae Salong</td>\n",
       "      <td>Nakhon Sawan</td>\n",
       "      <td>P03016134</td>\n",
       "      <td>joy</td>\n",
       "      <td>doi mae salong beautiful interesting place vis...</td>\n",
       "      <td>[[0.0, 0.0, 0.0, 0.0, 0.0, 0.0, 0.0, 0.0, 0.0,...</td>\n",
       "      <td>positive</td>\n",
       "    </tr>\n",
       "    <tr>\n",
       "      <th>3126</th>\n",
       "      <td>0</td>\n",
       "      <td>6669517</td>\n",
       "      <td>632751727</td>\n",
       "      <td>Located on the way we back to our accommodatio...</td>\n",
       "      <td>temple that next to the road</td>\n",
       "      <td>Couples</td>\n",
       "      <td>3</td>\n",
       "      <td>Chedi Phra Borommasaririkkathat Khao Kho</td>\n",
       "      <td>Nakhon Sawan</td>\n",
       "      <td>P03016132</td>\n",
       "      <td>joy</td>\n",
       "      <td>located way back accommodation look time avail...</td>\n",
       "      <td>[[-0.006438706070184708, 0.07269428670406342, ...</td>\n",
       "      <td>neutral</td>\n",
       "    </tr>\n",
       "    <tr>\n",
       "      <th>3688</th>\n",
       "      <td>1</td>\n",
       "      <td>7659431</td>\n",
       "      <td>613000573</td>\n",
       "      <td>i stayed on koh larn at the castello resort ov...</td>\n",
       "      <td>i love this island so much</td>\n",
       "      <td>Solo travel</td>\n",
       "      <td>5</td>\n",
       "      <td>Thong Lang Beach</td>\n",
       "      <td>Sukhothai</td>\n",
       "      <td>P03025214</td>\n",
       "      <td>joy</td>\n",
       "      <td>stayed koh larn castello resort christmas enjo...</td>\n",
       "      <td>[[-0.00036730527062900364, 0.0131112951785326,...</td>\n",
       "      <td>positive</td>\n",
       "    </tr>\n",
       "    <tr>\n",
       "      <th>...</th>\n",
       "      <td>...</td>\n",
       "      <td>...</td>\n",
       "      <td>...</td>\n",
       "      <td>...</td>\n",
       "      <td>...</td>\n",
       "      <td>...</td>\n",
       "      <td>...</td>\n",
       "      <td>...</td>\n",
       "      <td>...</td>\n",
       "      <td>...</td>\n",
       "      <td>...</td>\n",
       "      <td>...</td>\n",
       "      <td>...</td>\n",
       "      <td>...</td>\n",
       "    </tr>\n",
       "    <tr>\n",
       "      <th>469</th>\n",
       "      <td>0</td>\n",
       "      <td>8874054</td>\n",
       "      <td>875897422</td>\n",
       "      <td>Chaio por Phawo Shrine is the most popular pra...</td>\n",
       "      <td>Most Respect shine in Mae sot People</td>\n",
       "      <td>NONE</td>\n",
       "      <td>5</td>\n",
       "      <td>Chao Por Phawo Shrine</td>\n",
       "      <td>Nonthaburi</td>\n",
       "      <td>P03016494</td>\n",
       "      <td>joy</td>\n",
       "      <td>chaio por phawo shrine popular pray respect pl...</td>\n",
       "      <td>[[-0.011705528944730759, 0.12313786894083023, ...</td>\n",
       "      <td>positive</td>\n",
       "    </tr>\n",
       "    <tr>\n",
       "      <th>4129</th>\n",
       "      <td>1</td>\n",
       "      <td>1307603</td>\n",
       "      <td>750690836</td>\n",
       "      <td>Took a fast boat for a magical day at Hapla Be...</td>\n",
       "      <td>Blissful</td>\n",
       "      <td>Couples</td>\n",
       "      <td>5</td>\n",
       "      <td>Koh Kho Khao Island</td>\n",
       "      <td>Phetchabun</td>\n",
       "      <td>P03004050</td>\n",
       "      <td>joy</td>\n",
       "      <td>took fast boat magical day hapla beach real ro...</td>\n",
       "      <td>[[0.0, 0.0, 0.0, 0.0, 0.0, 0.0, 0.0, 0.0, 0.0,...</td>\n",
       "      <td>positive</td>\n",
       "    </tr>\n",
       "    <tr>\n",
       "      <th>2132</th>\n",
       "      <td>0</td>\n",
       "      <td>554864</td>\n",
       "      <td>696305303</td>\n",
       "      <td>in the twelfe-year animal cycle the rabbit is ...</td>\n",
       "      <td>the rabbit temple</td>\n",
       "      <td>Couples</td>\n",
       "      <td>5</td>\n",
       "      <td>Wat Phrathat Chae Haeng</td>\n",
       "      <td>Sing Buri</td>\n",
       "      <td>P03013402</td>\n",
       "      <td>joy</td>\n",
       "      <td>twelfeyear animal cycle rabbit one wat phra ch...</td>\n",
       "      <td>[[0.0, 0.0, 0.0, 0.0, 0.0, 0.0, 0.0, 0.0, 0.0,...</td>\n",
       "      <td>positive</td>\n",
       "    </tr>\n",
       "    <tr>\n",
       "      <th>247</th>\n",
       "      <td>0</td>\n",
       "      <td>25571501</td>\n",
       "      <td>929540899</td>\n",
       "      <td>We went on a weekday and was pleased that this...</td>\n",
       "      <td>Best Jodd Fair</td>\n",
       "      <td>Friends getaway</td>\n",
       "      <td>5</td>\n",
       "      <td>Jodd Fairs DanNeramit</td>\n",
       "      <td>Bangkok</td>\n",
       "      <td>P03022261</td>\n",
       "      <td>joy</td>\n",
       "      <td>went weekday pleased jodd fair wasnt packed ma...</td>\n",
       "      <td>[[-0.0009895602706819773, 0.029332052916288376...</td>\n",
       "      <td>positive</td>\n",
       "    </tr>\n",
       "    <tr>\n",
       "      <th>4011</th>\n",
       "      <td>1</td>\n",
       "      <td>2359241</td>\n",
       "      <td>931977927</td>\n",
       "      <td>A small group of shops and restaurants created...</td>\n",
       "      <td>A manufactured village …</td>\n",
       "      <td>Family</td>\n",
       "      <td>3</td>\n",
       "      <td>Turtle Village Shops &amp; Cuisine</td>\n",
       "      <td>Phichit</td>\n",
       "      <td>P03018368</td>\n",
       "      <td>joy</td>\n",
       "      <td>small group shop restaurant created support co...</td>\n",
       "      <td>[[-0.00036730527062900364, 0.0131112951785326,...</td>\n",
       "      <td>neutral</td>\n",
       "    </tr>\n",
       "  </tbody>\n",
       "</table>\n",
       "<p>1170 rows × 14 columns</p>\n",
       "</div>"
      ],
      "text/plain": [
       "      helpful_votes  location_id  review_id  \\\n",
       "4205              0     11867768  660193827   \n",
       "1665              0     16868178  893223254   \n",
       "3121              1       556614  874997345   \n",
       "3126              0      6669517  632751727   \n",
       "3688              1      7659431  613000573   \n",
       "...             ...          ...        ...   \n",
       "469               0      8874054  875897422   \n",
       "4129              1      1307603  750690836   \n",
       "2132              0       554864  696305303   \n",
       "247               0     25571501  929540899   \n",
       "4011              1      2359241  931977927   \n",
       "\n",
       "                                                 review  \\\n",
       "4205  The place is a real gem, nestling in the cool ...   \n",
       "1665  Nice view, but you need to be be careful when ...   \n",
       "3121  Doi Mae Salong is a beautiful and interesting ...   \n",
       "3126  Located on the way we back to our accommodatio...   \n",
       "3688  i stayed on koh larn at the castello resort ov...   \n",
       "...                                                 ...   \n",
       "469   Chaio por Phawo Shrine is the most popular pra...   \n",
       "4129  Took a fast boat for a magical day at Hapla Be...   \n",
       "2132  in the twelfe-year animal cycle the rabbit is ...   \n",
       "247   We went on a weekday and was pleased that this...   \n",
       "4011  A small group of shops and restaurants created...   \n",
       "\n",
       "                            review_subject        trip_type  rating  \\\n",
       "4205                     Not to be Missed!          Couples       5   \n",
       "1665                             Nice view  Friends getaway       5   \n",
       "3121                Beautiful and peaceful             NONE       5   \n",
       "3126          temple that next to the road          Couples       3   \n",
       "3688            i love this island so much      Solo travel       5   \n",
       "...                                    ...              ...     ...   \n",
       "469   Most Respect shine in Mae sot People             NONE       5   \n",
       "4129                              Blissful          Couples       5   \n",
       "2132                     the rabbit temple          Couples       5   \n",
       "247                         Best Jodd Fair  Friends getaway       5   \n",
       "4011              A manufactured village …           Family       3   \n",
       "\n",
       "                                 location_name                  province  \\\n",
       "4205   The Royal Agricultural Station Angkhang                Phetchabun   \n",
       "1665                     Chado Cliff Viewpoint  Phra Nakhon Si Ayutthaya   \n",
       "3121                            Doi Mae Salong              Nakhon Sawan   \n",
       "3126  Chedi Phra Borommasaririkkathat Khao Kho              Nakhon Sawan   \n",
       "3688                          Thong Lang Beach                 Sukhothai   \n",
       "...                                        ...                       ...   \n",
       "469                      Chao Por Phawo Shrine                Nonthaburi   \n",
       "4129                       Koh Kho Khao Island                Phetchabun   \n",
       "2132                   Wat Phrathat Chae Haeng                 Sing Buri   \n",
       "247                      Jodd Fairs DanNeramit                   Bangkok   \n",
       "4011            Turtle Village Shops & Cuisine                   Phichit   \n",
       "\n",
       "       place_id emotion                                     cleaned_review  \\\n",
       "4205  P03012884     joy  place real gem nestling cool green upland doi ...   \n",
       "1665  P03017905     joy  nice view need careful hiking natural trail be...   \n",
       "3121  P03016134     joy  doi mae salong beautiful interesting place vis...   \n",
       "3126  P03016132     joy  located way back accommodation look time avail...   \n",
       "3688  P03025214     joy  stayed koh larn castello resort christmas enjo...   \n",
       "...         ...     ...                                                ...   \n",
       "469   P03016494     joy  chaio por phawo shrine popular pray respect pl...   \n",
       "4129  P03004050     joy  took fast boat magical day hapla beach real ro...   \n",
       "2132  P03013402     joy  twelfeyear animal cycle rabbit one wat phra ch...   \n",
       "247   P03022261     joy  went weekday pleased jodd fair wasnt packed ma...   \n",
       "4011  P03018368     joy  small group shop restaurant created support co...   \n",
       "\n",
       "                                              embedding sentiment  \n",
       "4205  [[-0.0007259029662236571, 0.0874868631362915, ...  positive  \n",
       "1665  [[-0.014990693889558315, 0.23374047875404358, ...  positive  \n",
       "3121  [[0.0, 0.0, 0.0, 0.0, 0.0, 0.0, 0.0, 0.0, 0.0,...  positive  \n",
       "3126  [[-0.006438706070184708, 0.07269428670406342, ...   neutral  \n",
       "3688  [[-0.00036730527062900364, 0.0131112951785326,...  positive  \n",
       "...                                                 ...       ...  \n",
       "469   [[-0.011705528944730759, 0.12313786894083023, ...  positive  \n",
       "4129  [[0.0, 0.0, 0.0, 0.0, 0.0, 0.0, 0.0, 0.0, 0.0,...  positive  \n",
       "2132  [[0.0, 0.0, 0.0, 0.0, 0.0, 0.0, 0.0, 0.0, 0.0,...  positive  \n",
       "247   [[-0.0009895602706819773, 0.029332052916288376...  positive  \n",
       "4011  [[-0.00036730527062900364, 0.0131112951785326,...   neutral  \n",
       "\n",
       "[1170 rows x 14 columns]"
      ]
     },
     "execution_count": 60,
     "metadata": {},
     "output_type": "execute_result"
    }
   ],
   "source": [
    "filtered_reviews"
   ]
  },
  {
   "cell_type": "code",
   "execution_count": 61,
   "metadata": {},
   "outputs": [
    {
     "data": {
      "text/html": [
       "<div>\n",
       "<style scoped>\n",
       "    .dataframe tbody tr th:only-of-type {\n",
       "        vertical-align: middle;\n",
       "    }\n",
       "\n",
       "    .dataframe tbody tr th {\n",
       "        vertical-align: top;\n",
       "    }\n",
       "\n",
       "    .dataframe thead th {\n",
       "        text-align: right;\n",
       "    }\n",
       "</style>\n",
       "<table border=\"1\" class=\"dataframe\">\n",
       "  <thead>\n",
       "    <tr style=\"text-align: right;\">\n",
       "      <th></th>\n",
       "      <th>location_id</th>\n",
       "      <th>location_name</th>\n",
       "      <th>trip_type</th>\n",
       "      <th>rating</th>\n",
       "      <th>helpful_voting</th>\n",
       "      <th>review_text</th>\n",
       "      <th>actual_sentiment</th>\n",
       "      <th>predicted_sentiment</th>\n",
       "      <th>place_id</th>\n",
       "      <th>place_name</th>\n",
       "      <th>emotion</th>\n",
       "      <th>review_id</th>\n",
       "    </tr>\n",
       "  </thead>\n",
       "  <tbody>\n",
       "    <tr>\n",
       "      <th>8581</th>\n",
       "      <td>NaN</td>\n",
       "      <td>NaN</td>\n",
       "      <td>NaN</td>\n",
       "      <td>NaN</td>\n",
       "      <td>NaN</td>\n",
       "      <td>NaN</td>\n",
       "      <td>2</td>\n",
       "      <td>2</td>\n",
       "      <td>NaN</td>\n",
       "      <td>NaN</td>\n",
       "      <td>NaN</td>\n",
       "      <td>NaN</td>\n",
       "    </tr>\n",
       "    <tr>\n",
       "      <th>8589</th>\n",
       "      <td>NaN</td>\n",
       "      <td>NaN</td>\n",
       "      <td>NaN</td>\n",
       "      <td>NaN</td>\n",
       "      <td>NaN</td>\n",
       "      <td>NaN</td>\n",
       "      <td>2</td>\n",
       "      <td>2</td>\n",
       "      <td>NaN</td>\n",
       "      <td>NaN</td>\n",
       "      <td>NaN</td>\n",
       "      <td>NaN</td>\n",
       "    </tr>\n",
       "    <tr>\n",
       "      <th>8602</th>\n",
       "      <td>NaN</td>\n",
       "      <td>NaN</td>\n",
       "      <td>NaN</td>\n",
       "      <td>NaN</td>\n",
       "      <td>NaN</td>\n",
       "      <td>NaN</td>\n",
       "      <td>2</td>\n",
       "      <td>2</td>\n",
       "      <td>NaN</td>\n",
       "      <td>NaN</td>\n",
       "      <td>NaN</td>\n",
       "      <td>NaN</td>\n",
       "    </tr>\n",
       "    <tr>\n",
       "      <th>8609</th>\n",
       "      <td>NaN</td>\n",
       "      <td>NaN</td>\n",
       "      <td>NaN</td>\n",
       "      <td>NaN</td>\n",
       "      <td>NaN</td>\n",
       "      <td>NaN</td>\n",
       "      <td>1</td>\n",
       "      <td>1</td>\n",
       "      <td>NaN</td>\n",
       "      <td>NaN</td>\n",
       "      <td>NaN</td>\n",
       "      <td>NaN</td>\n",
       "    </tr>\n",
       "    <tr>\n",
       "      <th>8611</th>\n",
       "      <td>NaN</td>\n",
       "      <td>NaN</td>\n",
       "      <td>NaN</td>\n",
       "      <td>NaN</td>\n",
       "      <td>NaN</td>\n",
       "      <td>NaN</td>\n",
       "      <td>2</td>\n",
       "      <td>2</td>\n",
       "      <td>NaN</td>\n",
       "      <td>NaN</td>\n",
       "      <td>NaN</td>\n",
       "      <td>NaN</td>\n",
       "    </tr>\n",
       "  </tbody>\n",
       "</table>\n",
       "</div>"
      ],
      "text/plain": [
       "      location_id location_name trip_type  rating  helpful_voting review_text  \\\n",
       "8581          NaN           NaN       NaN     NaN             NaN         NaN   \n",
       "8589          NaN           NaN       NaN     NaN             NaN         NaN   \n",
       "8602          NaN           NaN       NaN     NaN             NaN         NaN   \n",
       "8609          NaN           NaN       NaN     NaN             NaN         NaN   \n",
       "8611          NaN           NaN       NaN     NaN             NaN         NaN   \n",
       "\n",
       "      actual_sentiment  predicted_sentiment place_id place_name emotion  \\\n",
       "8581                 2                    2      NaN        NaN     NaN   \n",
       "8589                 2                    2      NaN        NaN     NaN   \n",
       "8602                 2                    2      NaN        NaN     NaN   \n",
       "8609                 1                    1      NaN        NaN     NaN   \n",
       "8611                 2                    2      NaN        NaN     NaN   \n",
       "\n",
       "      review_id  \n",
       "8581        NaN  \n",
       "8589        NaN  \n",
       "8602        NaN  \n",
       "8609        NaN  \n",
       "8611        NaN  "
      ]
     },
     "execution_count": 61,
     "metadata": {},
     "output_type": "execute_result"
    }
   ],
   "source": [
    "\n",
    "predictions_df = pd.DataFrame({\n",
    "    'location_id': filtered_reviews['location_id'],\n",
    "    'location_name': filtered_reviews['location_name'],\n",
    "    'trip_type': filtered_reviews['trip_type'],\n",
    "    'rating': filtered_reviews['rating'],\n",
    "    'helpful_voting': filtered_reviews['helpful_votes'],\n",
    "    'review_text': filtered_reviews['review'],  # Assuming X_test is a subset with a specific index\n",
    "    'actual_sentiment': predict_df['sentiment'],  # The actual sentiment labels\n",
    "    'predicted_sentiment': predict_df['predicted'], # The predicted sentiment labels\n",
    "    'place_id': filtered_reviews['place_id'],\n",
    "    'place_name': filtered_reviews['province'],\n",
    "    'emotion': filtered_reviews['emotion'],\n",
    "    'review_id': filtered_reviews['review_id']\n",
    "})\n",
    "\n",
    "# predictions_df['actual_sentiment'] = predictions_df['actual_sentiment'].map(label_mapping)\n",
    "# predictions_df['predicted_sentiment'] = predictions_df['predicted_sentiment'].map(label_mapping)\n",
    "\n",
    "predictions_df.tail(5)\n"
   ]
  },
  {
   "cell_type": "code",
   "execution_count": 62,
   "metadata": {},
   "outputs": [
    {
     "data": {
      "text/html": [
       "<div>\n",
       "<style scoped>\n",
       "    .dataframe tbody tr th:only-of-type {\n",
       "        vertical-align: middle;\n",
       "    }\n",
       "\n",
       "    .dataframe tbody tr th {\n",
       "        vertical-align: top;\n",
       "    }\n",
       "\n",
       "    .dataframe thead th {\n",
       "        text-align: right;\n",
       "    }\n",
       "</style>\n",
       "<table border=\"1\" class=\"dataframe\">\n",
       "  <thead>\n",
       "    <tr style=\"text-align: right;\">\n",
       "      <th></th>\n",
       "      <th>location_id</th>\n",
       "      <th>location_name</th>\n",
       "      <th>trip_type</th>\n",
       "      <th>rating</th>\n",
       "      <th>helpful_voting</th>\n",
       "      <th>review_text</th>\n",
       "      <th>actual_sentiment</th>\n",
       "      <th>predicted_sentiment</th>\n",
       "      <th>place_id</th>\n",
       "      <th>place_name</th>\n",
       "      <th>emotion</th>\n",
       "      <th>review_id</th>\n",
       "    </tr>\n",
       "  </thead>\n",
       "  <tbody>\n",
       "    <tr>\n",
       "      <th>8</th>\n",
       "      <td>2273363.0</td>\n",
       "      <td>Wat Rajapradit Sathitmahasimaram Rajaworavihara</td>\n",
       "      <td>NONE</td>\n",
       "      <td>5.0</td>\n",
       "      <td>2.0</td>\n",
       "      <td>One of the least crowded temples but very beau...</td>\n",
       "      <td>2</td>\n",
       "      <td>2</td>\n",
       "      <td>P03013220</td>\n",
       "      <td>Bangkok</td>\n",
       "      <td>love</td>\n",
       "      <td>738692369.0</td>\n",
       "    </tr>\n",
       "    <tr>\n",
       "      <th>14</th>\n",
       "      <td>311043.0</td>\n",
       "      <td>Wat Phra Chetuphon</td>\n",
       "      <td>Couples</td>\n",
       "      <td>5.0</td>\n",
       "      <td>0.0</td>\n",
       "      <td>The designs, the Buddhas, and other figures fe...</td>\n",
       "      <td>1</td>\n",
       "      <td>1</td>\n",
       "      <td>P03013220</td>\n",
       "      <td>Bangkok</td>\n",
       "      <td>surprise</td>\n",
       "      <td>962482865.0</td>\n",
       "    </tr>\n",
       "    <tr>\n",
       "      <th>17</th>\n",
       "      <td>317504.0</td>\n",
       "      <td>Temple Of Dawn (Wat Arun)</td>\n",
       "      <td>Solo travel</td>\n",
       "      <td>5.0</td>\n",
       "      <td>15.0</td>\n",
       "      <td>Known as Temple of Dawn, I went to this temple...</td>\n",
       "      <td>0</td>\n",
       "      <td>0</td>\n",
       "      <td>P03013220</td>\n",
       "      <td>Bangkok</td>\n",
       "      <td>joy</td>\n",
       "      <td>955989676.0</td>\n",
       "    </tr>\n",
       "    <tr>\n",
       "      <th>19</th>\n",
       "      <td>317504.0</td>\n",
       "      <td>Temple Of Dawn (Wat Arun)</td>\n",
       "      <td>Family</td>\n",
       "      <td>4.0</td>\n",
       "      <td>0.0</td>\n",
       "      <td>I have to admit that this is a place i have al...</td>\n",
       "      <td>0</td>\n",
       "      <td>0</td>\n",
       "      <td>P03013220</td>\n",
       "      <td>Bangkok</td>\n",
       "      <td>sadness</td>\n",
       "      <td>955712588.0</td>\n",
       "    </tr>\n",
       "    <tr>\n",
       "      <th>23</th>\n",
       "      <td>456322.0</td>\n",
       "      <td>Wat Umong</td>\n",
       "      <td>Family</td>\n",
       "      <td>5.0</td>\n",
       "      <td>0.0</td>\n",
       "      <td>The visit to this temple was a good pick for u...</td>\n",
       "      <td>1</td>\n",
       "      <td>2</td>\n",
       "      <td>P03013220</td>\n",
       "      <td>Bangkok</td>\n",
       "      <td>joy</td>\n",
       "      <td>936553670.0</td>\n",
       "    </tr>\n",
       "    <tr>\n",
       "      <th>...</th>\n",
       "      <td>...</td>\n",
       "      <td>...</td>\n",
       "      <td>...</td>\n",
       "      <td>...</td>\n",
       "      <td>...</td>\n",
       "      <td>...</td>\n",
       "      <td>...</td>\n",
       "      <td>...</td>\n",
       "      <td>...</td>\n",
       "      <td>...</td>\n",
       "      <td>...</td>\n",
       "      <td>...</td>\n",
       "    </tr>\n",
       "    <tr>\n",
       "      <th>5858</th>\n",
       "      <td>1390151.0</td>\n",
       "      <td>Herbal Steam House</td>\n",
       "      <td>Couples</td>\n",
       "      <td>3.0</td>\n",
       "      <td>0.0</td>\n",
       "      <td>Hubby and I stopped in for our third massage s...</td>\n",
       "      <td>0</td>\n",
       "      <td>0</td>\n",
       "      <td>P03015198</td>\n",
       "      <td>Samut Prakan</td>\n",
       "      <td>joy</td>\n",
       "      <td>694006082.0</td>\n",
       "    </tr>\n",
       "    <tr>\n",
       "      <th>5866</th>\n",
       "      <td>6668995.0</td>\n",
       "      <td>Wat Intharam</td>\n",
       "      <td>Friends getaway</td>\n",
       "      <td>2.0</td>\n",
       "      <td>0.0</td>\n",
       "      <td>Wat Intharam was apparently built during the A...</td>\n",
       "      <td>1</td>\n",
       "      <td>1</td>\n",
       "      <td>P03015157</td>\n",
       "      <td>Samut Prakan</td>\n",
       "      <td>fear</td>\n",
       "      <td>577527835.0</td>\n",
       "    </tr>\n",
       "    <tr>\n",
       "      <th>5880</th>\n",
       "      <td>456191.0</td>\n",
       "      <td>Khuean Srinagarindra National Park</td>\n",
       "      <td>Couples</td>\n",
       "      <td>4.0</td>\n",
       "      <td>1.0</td>\n",
       "      <td>After visiting the nearby waterfalls we drove ...</td>\n",
       "      <td>1</td>\n",
       "      <td>1</td>\n",
       "      <td>P03013837</td>\n",
       "      <td>Samut Prakan</td>\n",
       "      <td>joy</td>\n",
       "      <td>849208855.0</td>\n",
       "    </tr>\n",
       "    <tr>\n",
       "      <th>5893</th>\n",
       "      <td>4322899.0</td>\n",
       "      <td>Prasat Wat Sa Kamphaeng Yai</td>\n",
       "      <td>Friends getaway</td>\n",
       "      <td>4.0</td>\n",
       "      <td>1.0</td>\n",
       "      <td>On same site as Prasat Wat Sa Kampheang Noi {w...</td>\n",
       "      <td>0</td>\n",
       "      <td>0</td>\n",
       "      <td>P03013503</td>\n",
       "      <td>Nonthaburi</td>\n",
       "      <td>joy</td>\n",
       "      <td>261414077.0</td>\n",
       "    </tr>\n",
       "    <tr>\n",
       "      <th>5906</th>\n",
       "      <td>1831068.0</td>\n",
       "      <td>Prasat Puay Noi</td>\n",
       "      <td>Friends getaway</td>\n",
       "      <td>4.0</td>\n",
       "      <td>0.0</td>\n",
       "      <td>I think this place is claimed to be the oldest...</td>\n",
       "      <td>2</td>\n",
       "      <td>1</td>\n",
       "      <td>P03013503</td>\n",
       "      <td>Nonthaburi</td>\n",
       "      <td>joy</td>\n",
       "      <td>693354319.0</td>\n",
       "    </tr>\n",
       "  </tbody>\n",
       "</table>\n",
       "<p>1168 rows × 12 columns</p>\n",
       "</div>"
      ],
      "text/plain": [
       "      location_id                                    location_name  \\\n",
       "8       2273363.0  Wat Rajapradit Sathitmahasimaram Rajaworavihara   \n",
       "14       311043.0                               Wat Phra Chetuphon   \n",
       "17       317504.0                        Temple Of Dawn (Wat Arun)   \n",
       "19       317504.0                        Temple Of Dawn (Wat Arun)   \n",
       "23       456322.0                                        Wat Umong   \n",
       "...           ...                                              ...   \n",
       "5858    1390151.0                               Herbal Steam House   \n",
       "5866    6668995.0                                     Wat Intharam   \n",
       "5880     456191.0               Khuean Srinagarindra National Park   \n",
       "5893    4322899.0                      Prasat Wat Sa Kamphaeng Yai   \n",
       "5906    1831068.0                                  Prasat Puay Noi   \n",
       "\n",
       "            trip_type  rating  helpful_voting  \\\n",
       "8                NONE     5.0             2.0   \n",
       "14            Couples     5.0             0.0   \n",
       "17        Solo travel     5.0            15.0   \n",
       "19             Family     4.0             0.0   \n",
       "23             Family     5.0             0.0   \n",
       "...               ...     ...             ...   \n",
       "5858          Couples     3.0             0.0   \n",
       "5866  Friends getaway     2.0             0.0   \n",
       "5880          Couples     4.0             1.0   \n",
       "5893  Friends getaway     4.0             1.0   \n",
       "5906  Friends getaway     4.0             0.0   \n",
       "\n",
       "                                            review_text  actual_sentiment  \\\n",
       "8     One of the least crowded temples but very beau...                 2   \n",
       "14    The designs, the Buddhas, and other figures fe...                 1   \n",
       "17    Known as Temple of Dawn, I went to this temple...                 0   \n",
       "19    I have to admit that this is a place i have al...                 0   \n",
       "23    The visit to this temple was a good pick for u...                 1   \n",
       "...                                                 ...               ...   \n",
       "5858  Hubby and I stopped in for our third massage s...                 0   \n",
       "5866  Wat Intharam was apparently built during the A...                 1   \n",
       "5880  After visiting the nearby waterfalls we drove ...                 1   \n",
       "5893  On same site as Prasat Wat Sa Kampheang Noi {w...                 0   \n",
       "5906  I think this place is claimed to be the oldest...                 2   \n",
       "\n",
       "      predicted_sentiment   place_id    place_name   emotion    review_id  \n",
       "8                       2  P03013220       Bangkok      love  738692369.0  \n",
       "14                      1  P03013220       Bangkok  surprise  962482865.0  \n",
       "17                      0  P03013220       Bangkok       joy  955989676.0  \n",
       "19                      0  P03013220       Bangkok   sadness  955712588.0  \n",
       "23                      2  P03013220       Bangkok       joy  936553670.0  \n",
       "...                   ...        ...           ...       ...          ...  \n",
       "5858                    0  P03015198  Samut Prakan       joy  694006082.0  \n",
       "5866                    1  P03015157  Samut Prakan      fear  577527835.0  \n",
       "5880                    1  P03013837  Samut Prakan       joy  849208855.0  \n",
       "5893                    0  P03013503    Nonthaburi       joy  261414077.0  \n",
       "5906                    1  P03013503    Nonthaburi       joy  693354319.0  \n",
       "\n",
       "[1168 rows x 12 columns]"
      ]
     },
     "execution_count": 62,
     "metadata": {},
     "output_type": "execute_result"
    }
   ],
   "source": [
    "df_filtered = predictions_df.dropna()\n",
    "df_filtered"
   ]
  },
  {
   "cell_type": "code",
   "execution_count": 63,
   "metadata": {},
   "outputs": [],
   "source": [
    "df_filtered.to_csv('./output/LSTM_predictions.csv')"
   ]
  },
  {
   "cell_type": "code",
   "execution_count": 50,
   "metadata": {},
   "outputs": [],
   "source": [
    "y_val = y_val.astype(int)\n",
    "ensemble_preds_class = ensemble_preds.astype(int)\n"
   ]
  },
  {
   "cell_type": "code",
   "execution_count": 51,
   "metadata": {},
   "outputs": [
    {
     "name": "stdout",
     "output_type": "stream",
     "text": [
      "(1723,)\n",
      "(1723,)\n"
     ]
    }
   ],
   "source": [
    "print(y_val.shape)            # Shape of y_val\n",
    "print(ensemble_preds.shape) "
   ]
  },
  {
   "cell_type": "code",
   "execution_count": 52,
   "metadata": {},
   "outputs": [
    {
     "name": "stdout",
     "output_type": "stream",
     "text": [
      "Precision: 0.7829\n",
      "Recall: 0.7824\n",
      "F1-Score: 0.7796\n"
     ]
    }
   ],
   "source": [
    "from sklearn.metrics import precision_score, recall_score, f1_score\n",
    "\n",
    "# Calculate precision, recall, and F1-score directly using ensemble_preds\n",
    "precision = precision_score(y_val, ensemble_preds, average='weighted')\n",
    "recall = recall_score(y_val, ensemble_preds, average='weighted')\n",
    "f1 = f1_score(y_val, ensemble_preds, average='weighted')\n",
    "\n",
    "# Print the results\n",
    "print(f'Precision: {precision:.4f}')\n",
    "print(f'Recall: {recall:.4f}')\n",
    "print(f'F1-Score: {f1:.4f}')\n"
   ]
  },
  {
   "cell_type": "code",
   "execution_count": 53,
   "metadata": {},
   "outputs": [
    {
     "ename": "NameError",
     "evalue": "name 'y_test' is not defined",
     "output_type": "error",
     "traceback": [
      "\u001b[0;31m---------------------------------------------------------------------------\u001b[0m",
      "\u001b[0;31mNameError\u001b[0m                                 Traceback (most recent call last)",
      "Cell \u001b[0;32mIn[53], line 7\u001b[0m\n\u001b[1;32m      2\u001b[0m \u001b[38;5;28;01mfrom\u001b[39;00m \u001b[38;5;21;01msklearn\u001b[39;00m\u001b[38;5;21;01m.\u001b[39;00m\u001b[38;5;21;01mpreprocessing\u001b[39;00m \u001b[38;5;28;01mimport\u001b[39;00m label_binarize\n\u001b[1;32m      4\u001b[0m \u001b[38;5;66;03m# Assume y_test contains true class labels, and y_pred_prob contains predicted probabilities\u001b[39;00m\n\u001b[1;32m      5\u001b[0m \n\u001b[1;32m      6\u001b[0m \u001b[38;5;66;03m# Binarize the output labels for calculating AUC\u001b[39;00m\n\u001b[0;32m----> 7\u001b[0m y_test_bin \u001b[38;5;241m=\u001b[39m label_binarize(\u001b[43my_test\u001b[49m, classes\u001b[38;5;241m=\u001b[39m[\u001b[38;5;241m0\u001b[39m, \u001b[38;5;241m1\u001b[39m, \u001b[38;5;241m2\u001b[39m])  \u001b[38;5;66;03m# Assuming 3 classes: 0, 1, 2\u001b[39;00m\n\u001b[1;32m      9\u001b[0m \u001b[38;5;66;03m# Calculate the AUC for each class\u001b[39;00m\n\u001b[1;32m     10\u001b[0m auc_macro \u001b[38;5;241m=\u001b[39m roc_auc_score(y_test_bin, y_pred_prob, average\u001b[38;5;241m=\u001b[39m\u001b[38;5;124m'\u001b[39m\u001b[38;5;124mmacro\u001b[39m\u001b[38;5;124m'\u001b[39m, multi_class\u001b[38;5;241m=\u001b[39m\u001b[38;5;124m'\u001b[39m\u001b[38;5;124movr\u001b[39m\u001b[38;5;124m'\u001b[39m)\n",
      "\u001b[0;31mNameError\u001b[0m: name 'y_test' is not defined"
     ]
    }
   ],
   "source": [
    "from sklearn.metrics import roc_auc_score\n",
    "from sklearn.preprocessing import label_binarize\n",
    "\n",
    "# Assume y_test contains true class labels, and y_pred_prob contains predicted probabilities\n",
    "\n",
    "# Binarize the output labels for calculating AUC\n",
    "y_test_bin = label_binarize(y_test, classes=[0, 1, 2])  # Assuming 3 classes: 0, 1, 2\n",
    "\n",
    "# Calculate the AUC for each class\n",
    "auc_macro = roc_auc_score(y_test_bin, y_pred_prob, average='macro', multi_class='ovr')\n",
    "auc_micro = roc_auc_score(y_test_bin, y_pred_prob, average='micro', multi_class='ovr')\n",
    "\n",
    "print(f'Macro-Averaged AUC: {auc_macro:.4f}')\n",
    "print(f'Micro-Averaged AUC: {auc_micro:.4f}')"
   ]
  },
  {
   "cell_type": "code",
   "execution_count": 165,
   "metadata": {},
   "outputs": [
    {
     "name": "stdout",
     "output_type": "stream",
     "text": [
      "Log Loss: 0.7264\n"
     ]
    }
   ],
   "source": [
    "from sklearn.metrics import log_loss\n",
    "\n",
    "# Calculate log loss\n",
    "log_loss_value = log_loss(y_test, y_pred_prob)\n",
    "print(f'Log Loss: {log_loss_value:.4f}')"
   ]
  }
 ],
 "metadata": {
  "kernelspec": {
   "display_name": "is-project-thailand-tourism-recommendation-qwL-LsgH-py3.12",
   "language": "python",
   "name": "python3"
  },
  "language_info": {
   "codemirror_mode": {
    "name": "ipython",
    "version": 3
   },
   "file_extension": ".py",
   "mimetype": "text/x-python",
   "name": "python",
   "nbconvert_exporter": "python",
   "pygments_lexer": "ipython3",
   "version": "3.12.5"
  }
 },
 "nbformat": 4,
 "nbformat_minor": 2
}
