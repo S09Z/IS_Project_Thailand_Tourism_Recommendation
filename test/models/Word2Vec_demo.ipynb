{
 "cells": [
  {
   "cell_type": "code",
   "execution_count": 1,
   "metadata": {},
   "outputs": [],
   "source": [
    "import os\n",
    "import pandas as pd\n",
    "import nltk\n",
    "import requests\n",
    "import string\n",
    "from gensim.models import Word2Vec, KeyedVectors\n",
    "import shutil\n",
    "import numpy as np\n",
    "import re\n",
    "from sklearn.model_selection import train_test_split\n",
    "from tensorflow.keras.models import Sequential\n",
    "from tensorflow.keras.layers import Embedding, GRU, Dense, Dropout, Attention, Concatenate\n",
    "from tensorflow.keras.preprocessing.sequence import pad_sequences\n",
    "from tensorflow.keras.preprocessing.text import Tokenizer\n",
    "from sklearn.metrics import accuracy_score, classification_report\n",
    "from tensorflow.keras.callbacks import EarlyStopping\n",
    "from tensorflow.keras.regularizers import l2\n",
    "import shap\n"
   ]
  },
  {
   "cell_type": "code",
   "execution_count": 12,
   "metadata": {},
   "outputs": [],
   "source": [
    "FINE_TUNED_DIR = '../../pretained_or_finetune-models'\n",
    "REVIEWS_DATASET_DIR = '../../dataset'\n",
    "UTILS_DIR = '../../utils'\n",
    "NLTK_DATA_PATH = f\"{FINE_TUNED_DIR}/nltk_data\"\n",
    "\n",
    "nltk.data.path.append(NLTK_DATA_PATH)"
   ]
  },
  {
   "cell_type": "code",
   "execution_count": 3,
   "metadata": {},
   "outputs": [],
   "source": [
    "tourism_reviews_en = pd.read_csv(f\"{REVIEWS_DATASET_DIR}/eng_reviews_emotion_classify.csv\", encoding='utf-8')\n",
    "\n",
    "columns_to_use = ['helpful_votes', 'location_id', 'review_id', 'review',\n",
    "                  'review_subject', 'trip_type', 'rating',\n",
    "                  'location_name', 'province', 'place_id', 'emotion', 'cleaned_review']\n",
    "columns_to_train = ['location_id', 'review', 'rating']\n",
    "review_df = tourism_reviews_en[columns_to_train]"
   ]
  },
  {
   "cell_type": "code",
   "execution_count": 4,
   "metadata": {},
   "outputs": [
    {
     "data": {
      "text/html": [
       "<div>\n",
       "<style scoped>\n",
       "    .dataframe tbody tr th:only-of-type {\n",
       "        vertical-align: middle;\n",
       "    }\n",
       "\n",
       "    .dataframe tbody tr th {\n",
       "        vertical-align: top;\n",
       "    }\n",
       "\n",
       "    .dataframe thead th {\n",
       "        text-align: right;\n",
       "    }\n",
       "</style>\n",
       "<table border=\"1\" class=\"dataframe\">\n",
       "  <thead>\n",
       "    <tr style=\"text-align: right;\">\n",
       "      <th></th>\n",
       "      <th>location_id</th>\n",
       "      <th>rating</th>\n",
       "    </tr>\n",
       "  </thead>\n",
       "  <tbody>\n",
       "    <tr>\n",
       "      <th>count</th>\n",
       "      <td>5.909000e+03</td>\n",
       "      <td>5909.000000</td>\n",
       "    </tr>\n",
       "    <tr>\n",
       "      <th>mean</th>\n",
       "      <td>6.483167e+06</td>\n",
       "      <td>4.153833</td>\n",
       "    </tr>\n",
       "    <tr>\n",
       "      <th>std</th>\n",
       "      <td>4.877561e+06</td>\n",
       "      <td>1.067077</td>\n",
       "    </tr>\n",
       "    <tr>\n",
       "      <th>min</th>\n",
       "      <td>3.110380e+05</td>\n",
       "      <td>1.000000</td>\n",
       "    </tr>\n",
       "    <tr>\n",
       "      <th>25%</th>\n",
       "      <td>2.578107e+06</td>\n",
       "      <td>4.000000</td>\n",
       "    </tr>\n",
       "    <tr>\n",
       "      <th>50%</th>\n",
       "      <td>6.017599e+06</td>\n",
       "      <td>4.000000</td>\n",
       "    </tr>\n",
       "    <tr>\n",
       "      <th>75%</th>\n",
       "      <td>8.818088e+06</td>\n",
       "      <td>5.000000</td>\n",
       "    </tr>\n",
       "    <tr>\n",
       "      <th>max</th>\n",
       "      <td>2.714283e+07</td>\n",
       "      <td>5.000000</td>\n",
       "    </tr>\n",
       "  </tbody>\n",
       "</table>\n",
       "</div>"
      ],
      "text/plain": [
       "        location_id       rating\n",
       "count  5.909000e+03  5909.000000\n",
       "mean   6.483167e+06     4.153833\n",
       "std    4.877561e+06     1.067077\n",
       "min    3.110380e+05     1.000000\n",
       "25%    2.578107e+06     4.000000\n",
       "50%    6.017599e+06     4.000000\n",
       "75%    8.818088e+06     5.000000\n",
       "max    2.714283e+07     5.000000"
      ]
     },
     "execution_count": 4,
     "metadata": {},
     "output_type": "execute_result"
    }
   ],
   "source": [
    "review_df.describe()"
   ]
  },
  {
   "cell_type": "code",
   "execution_count": 5,
   "metadata": {},
   "outputs": [
    {
     "name": "stdout",
     "output_type": "stream",
     "text": [
      "<class 'pandas.core.frame.DataFrame'>\n",
      "RangeIndex: 5909 entries, 0 to 5908\n",
      "Data columns (total 3 columns):\n",
      " #   Column       Non-Null Count  Dtype \n",
      "---  ------       --------------  ----- \n",
      " 0   location_id  5909 non-null   int64 \n",
      " 1   review       5909 non-null   object\n",
      " 2   rating       5909 non-null   int64 \n",
      "dtypes: int64(2), object(1)\n",
      "memory usage: 138.6+ KB\n"
     ]
    }
   ],
   "source": [
    "review_df.info()"
   ]
  },
  {
   "cell_type": "code",
   "execution_count": 97,
   "metadata": {},
   "outputs": [
    {
     "data": {
      "text/html": [
       "<div>\n",
       "<style scoped>\n",
       "    .dataframe tbody tr th:only-of-type {\n",
       "        vertical-align: middle;\n",
       "    }\n",
       "\n",
       "    .dataframe tbody tr th {\n",
       "        vertical-align: top;\n",
       "    }\n",
       "\n",
       "    .dataframe thead th {\n",
       "        text-align: right;\n",
       "    }\n",
       "</style>\n",
       "<table border=\"1\" class=\"dataframe\">\n",
       "  <thead>\n",
       "    <tr style=\"text-align: right;\">\n",
       "      <th></th>\n",
       "      <th>location_id</th>\n",
       "      <th>review</th>\n",
       "      <th>rating</th>\n",
       "      <th>cleaned_review</th>\n",
       "      <th>embedding</th>\n",
       "      <th>sentiment</th>\n",
       "    </tr>\n",
       "  </thead>\n",
       "  <tbody>\n",
       "    <tr>\n",
       "      <th>0</th>\n",
       "      <td>2209612</td>\n",
       "      <td>Besides elegant grand palace and wat pra kaew ...</td>\n",
       "      <td>5</td>\n",
       "      <td>besides elegant grand palace wat pra kaew emer...</td>\n",
       "      <td>[[-0.028509778901934624, 0.3325634002685547, 0...</td>\n",
       "      <td>positive</td>\n",
       "    </tr>\n",
       "    <tr>\n",
       "      <th>1</th>\n",
       "      <td>2209612</td>\n",
       "      <td>This is one of the last big king temples of Ba...</td>\n",
       "      <td>4</td>\n",
       "      <td>one last big king temple bangkok one lot europ...</td>\n",
       "      <td>[[-0.003996930085122585, 0.014730370603501797,...</td>\n",
       "      <td>positive</td>\n",
       "    </tr>\n",
       "    <tr>\n",
       "      <th>2</th>\n",
       "      <td>2209612</td>\n",
       "      <td>It is beautiful, clean and free to enter. Both...</td>\n",
       "      <td>4</td>\n",
       "      <td>beautiful clean free enter exterior interior s...</td>\n",
       "      <td>[[-0.028509778901934624, 0.3325634002685547, 0...</td>\n",
       "      <td>positive</td>\n",
       "    </tr>\n",
       "    <tr>\n",
       "      <th>3</th>\n",
       "      <td>2209612</td>\n",
       "      <td>Wat Ratchabophit is a Buddhist temple located ...</td>\n",
       "      <td>5</td>\n",
       "      <td>wat ratchabophit buddhist temple located fuean...</td>\n",
       "      <td>[[-0.0015841611893847585, 0.034438904374837875...</td>\n",
       "      <td>positive</td>\n",
       "    </tr>\n",
       "    <tr>\n",
       "      <th>4</th>\n",
       "      <td>2209612</td>\n",
       "      <td>Wat Ratchabophit is a historic royal temple bu...</td>\n",
       "      <td>5</td>\n",
       "      <td>wat ratchabophit historic royal temple built k...</td>\n",
       "      <td>[[-0.0015841611893847585, 0.034438904374837875...</td>\n",
       "      <td>positive</td>\n",
       "    </tr>\n",
       "    <tr>\n",
       "      <th>...</th>\n",
       "      <td>...</td>\n",
       "      <td>...</td>\n",
       "      <td>...</td>\n",
       "      <td>...</td>\n",
       "      <td>...</td>\n",
       "      <td>...</td>\n",
       "    </tr>\n",
       "    <tr>\n",
       "      <th>5904</th>\n",
       "      <td>1831068</td>\n",
       "      <td>Is quite far from Korat Town or main highway. ...</td>\n",
       "      <td>3</td>\n",
       "      <td>quite far korat town main highway beautiful bu...</td>\n",
       "      <td>[[0.0, 0.0, 0.0, 0.0, 0.0, 0.0, 0.0, 0.0, 0.0,...</td>\n",
       "      <td>neutral</td>\n",
       "    </tr>\n",
       "    <tr>\n",
       "      <th>5905</th>\n",
       "      <td>1831068</td>\n",
       "      <td>Prasat Pueai Noi is claimed to be the biggest ...</td>\n",
       "      <td>3</td>\n",
       "      <td>prasat pueai noi claimed biggest khmer sanctua...</td>\n",
       "      <td>[[-0.004209618084132671, 0.07795886695384979, ...</td>\n",
       "      <td>neutral</td>\n",
       "    </tr>\n",
       "    <tr>\n",
       "      <th>5906</th>\n",
       "      <td>1831068</td>\n",
       "      <td>I think this place is claimed to be the oldest...</td>\n",
       "      <td>4</td>\n",
       "      <td>think place claimed oldest khmerstyle ruin upp...</td>\n",
       "      <td>[[0.0, 0.0, 0.0, 0.0, 0.0, 0.0, 0.0, 0.0, 0.0,...</td>\n",
       "      <td>positive</td>\n",
       "    </tr>\n",
       "    <tr>\n",
       "      <th>5907</th>\n",
       "      <td>1831068</td>\n",
       "      <td>The compound comprises three brick buildings o...</td>\n",
       "      <td>4</td>\n",
       "      <td>compound comprises three brick building lateri...</td>\n",
       "      <td>[[-0.020202770829200745, 0.1382008045911789, 0...</td>\n",
       "      <td>positive</td>\n",
       "    </tr>\n",
       "    <tr>\n",
       "      <th>5908</th>\n",
       "      <td>1831068</td>\n",
       "      <td>Fully recommend this to the genuine history bu...</td>\n",
       "      <td>4</td>\n",
       "      <td>fully recommend genuine history buff tourist h...</td>\n",
       "      <td>[[-0.004105282481759787, 0.03240010887384415, ...</td>\n",
       "      <td>positive</td>\n",
       "    </tr>\n",
       "  </tbody>\n",
       "</table>\n",
       "<p>5909 rows × 6 columns</p>\n",
       "</div>"
      ],
      "text/plain": [
       "      location_id                                             review  rating  \\\n",
       "0         2209612  Besides elegant grand palace and wat pra kaew ...       5   \n",
       "1         2209612  This is one of the last big king temples of Ba...       4   \n",
       "2         2209612  It is beautiful, clean and free to enter. Both...       4   \n",
       "3         2209612  Wat Ratchabophit is a Buddhist temple located ...       5   \n",
       "4         2209612  Wat Ratchabophit is a historic royal temple bu...       5   \n",
       "...           ...                                                ...     ...   \n",
       "5904      1831068  Is quite far from Korat Town or main highway. ...       3   \n",
       "5905      1831068  Prasat Pueai Noi is claimed to be the biggest ...       3   \n",
       "5906      1831068  I think this place is claimed to be the oldest...       4   \n",
       "5907      1831068  The compound comprises three brick buildings o...       4   \n",
       "5908      1831068  Fully recommend this to the genuine history bu...       4   \n",
       "\n",
       "                                         cleaned_review  \\\n",
       "0     besides elegant grand palace wat pra kaew emer...   \n",
       "1     one last big king temple bangkok one lot europ...   \n",
       "2     beautiful clean free enter exterior interior s...   \n",
       "3     wat ratchabophit buddhist temple located fuean...   \n",
       "4     wat ratchabophit historic royal temple built k...   \n",
       "...                                                 ...   \n",
       "5904  quite far korat town main highway beautiful bu...   \n",
       "5905  prasat pueai noi claimed biggest khmer sanctua...   \n",
       "5906  think place claimed oldest khmerstyle ruin upp...   \n",
       "5907  compound comprises three brick building lateri...   \n",
       "5908  fully recommend genuine history buff tourist h...   \n",
       "\n",
       "                                              embedding sentiment  \n",
       "0     [[-0.028509778901934624, 0.3325634002685547, 0...  positive  \n",
       "1     [[-0.003996930085122585, 0.014730370603501797,...  positive  \n",
       "2     [[-0.028509778901934624, 0.3325634002685547, 0...  positive  \n",
       "3     [[-0.0015841611893847585, 0.034438904374837875...  positive  \n",
       "4     [[-0.0015841611893847585, 0.034438904374837875...  positive  \n",
       "...                                                 ...       ...  \n",
       "5904  [[0.0, 0.0, 0.0, 0.0, 0.0, 0.0, 0.0, 0.0, 0.0,...   neutral  \n",
       "5905  [[-0.004209618084132671, 0.07795886695384979, ...   neutral  \n",
       "5906  [[0.0, 0.0, 0.0, 0.0, 0.0, 0.0, 0.0, 0.0, 0.0,...  positive  \n",
       "5907  [[-0.020202770829200745, 0.1382008045911789, 0...  positive  \n",
       "5908  [[-0.004105282481759787, 0.03240010887384415, ...  positive  \n",
       "\n",
       "[5909 rows x 6 columns]"
      ]
     },
     "execution_count": 97,
     "metadata": {},
     "output_type": "execute_result"
    }
   ],
   "source": [
    "review_df"
   ]
  },
  {
   "cell_type": "code",
   "execution_count": 15,
   "metadata": {},
   "outputs": [],
   "source": [
    "binary_url = 'https://github.com/BrownDSI/word2vec-slim/releases/' + \\\n",
    "             'download/v0.1/GoogleNews-vectors-negative300-slim.bin.gz'\n",
    "r = requests.get(binary_url)\n",
    "open('google-word2vec-slim.bin.gz', 'wb').write(r.content);\n",
    "\n",
    "#Load model contrained abot 300k of vocabs\n",
    "model = KeyedVectors.load_word2vec_format('google-word2vec-slim.bin.gz', binary = True)"
   ]
  },
  {
   "cell_type": "code",
   "execution_count": 6,
   "metadata": {},
   "outputs": [
    {
     "name": "stdout",
     "output_type": "stream",
     "text": [
      "True\n"
     ]
    }
   ],
   "source": [
    "print(os.path.exists(f\"{NLTK_DATA_PATH}/tokenizers/punkt\")) "
   ]
  },
  {
   "cell_type": "code",
   "execution_count": null,
   "metadata": {},
   "outputs": [],
   "source": [
    "# 1. Data Preparation\n",
    "nltk.download ('all', download_dir=NLTK_DATA_PATH)"
   ]
  },
  {
   "cell_type": "code",
   "execution_count": 18,
   "metadata": {},
   "outputs": [
    {
     "data": {
      "text/plain": [
       "['Hello Mr. Smith, how are you doing today?',\n",
       " 'The weather is great and Python is awesome.',\n",
       " 'The sky is pinkish-blue.',\n",
       " 'You should not eat cardboard.']"
      ]
     },
     "execution_count": 18,
     "metadata": {},
     "output_type": "execute_result"
    }
   ],
   "source": [
    "from nltk.tokenize import word_tokenize, sent_tokenize\n",
    "text = \"Hello Mr. Smith, how are you doing today? The weather is great and Python is awesome. The sky is pinkish-blue. You should not eat cardboard.\"\n",
    "word_tokenize ( text )\n",
    "sent_tokenize ( text )"
   ]
  },
  {
   "cell_type": "code",
   "execution_count": 19,
   "metadata": {},
   "outputs": [],
   "source": [
    "from nltk.corpus import stopwords\n",
    "\n",
    "custom_stopwords = set(stopwords.words('english'))"
   ]
  },
  {
   "cell_type": "code",
   "execution_count": 9,
   "metadata": {},
   "outputs": [
    {
     "name": "stdout",
     "output_type": "stream",
     "text": [
      "/Users/ittichaiboonyarakthunya/nltk_data/tokenizers/punkt\n"
     ]
    }
   ],
   "source": [
    "print(nltk.data.find('tokenizers/punkt'))"
   ]
  },
  {
   "cell_type": "code",
   "execution_count": 10,
   "metadata": {},
   "outputs": [],
   "source": [
    "from nltk.stem import WordNetLemmatizer\n",
    "\n",
    "stop_words = custom_stopwords\n",
    "lemmatizer = WordNetLemmatizer()"
   ]
  },
  {
   "cell_type": "code",
   "execution_count": 64,
   "metadata": {},
   "outputs": [],
   "source": [
    "def advanced_clean_text(text):\n",
    "    text = text.lower()\n",
    "    text = re.sub(r'\\d+', '', text)  # Remove numbers\n",
    "    text = re.sub(r'[^a-z\\s]', '', text)  # Remove special characters\n",
    "    text = re.sub(r'\\b(u|ur|b4)\\b', 'you', text)  # Replace common abbreviations\n",
    "    words = word_tokenize(text)\n",
    "    words = [lemmatizer.lemmatize(word) for word in words if word not in stop_words]\n",
    "    words = [word for word in words if word not in string.punctuation]\n",
    "    return ' '.join(words)"
   ]
  },
  {
   "cell_type": "code",
   "execution_count": 70,
   "metadata": {},
   "outputs": [
    {
     "name": "stderr",
     "output_type": "stream",
     "text": [
      "/var/folders/fk/449tdf_12hzd2r7ps4659q0m0000gn/T/ipykernel_14225/2616607316.py:2: SettingWithCopyWarning: \n",
      "A value is trying to be set on a copy of a slice from a DataFrame.\n",
      "Try using .loc[row_indexer,col_indexer] = value instead\n",
      "\n",
      "See the caveats in the documentation: https://pandas.pydata.org/pandas-docs/stable/user_guide/indexing.html#returning-a-view-versus-a-copy\n",
      "  review_df['cleaned_review'] = review_df['review'].apply(advanced_clean_text)\n"
     ]
    }
   ],
   "source": [
    "# Apply preprocessing to the review texts\n",
    "review_df['cleaned_review'] = review_df['review'].apply(advanced_clean_text)\n",
    "\n",
    "# 2. สร้าง Word Embeddings ด้วย Word2Vec\n",
    "# word2vec_model = Word2Vec(sentences=review_df['cleaned_review'], vector_size=300, window=5, min_count=1, sg=1)  # ใช้ Skip-Gram\n",
    "sentences = [row.split() for row in review_df['cleaned_review']]\n",
    "word2vec_model = Word2Vec(sentences, vector_size=300, window=5, min_count=1, workers=4)  # เปลี่ยน vector_size เป็น 300\n",
    "\n"
   ]
  },
  {
   "cell_type": "code",
   "execution_count": 98,
   "metadata": {},
   "outputs": [
    {
     "data": {
      "text/html": [
       "<div>\n",
       "<style scoped>\n",
       "    .dataframe tbody tr th:only-of-type {\n",
       "        vertical-align: middle;\n",
       "    }\n",
       "\n",
       "    .dataframe tbody tr th {\n",
       "        vertical-align: top;\n",
       "    }\n",
       "\n",
       "    .dataframe thead th {\n",
       "        text-align: right;\n",
       "    }\n",
       "</style>\n",
       "<table border=\"1\" class=\"dataframe\">\n",
       "  <thead>\n",
       "    <tr style=\"text-align: right;\">\n",
       "      <th></th>\n",
       "      <th>location_id</th>\n",
       "      <th>review</th>\n",
       "      <th>rating</th>\n",
       "      <th>cleaned_review</th>\n",
       "      <th>embedding</th>\n",
       "      <th>sentiment</th>\n",
       "    </tr>\n",
       "  </thead>\n",
       "  <tbody>\n",
       "    <tr>\n",
       "      <th>0</th>\n",
       "      <td>2209612</td>\n",
       "      <td>Besides elegant grand palace and wat pra kaew ...</td>\n",
       "      <td>5</td>\n",
       "      <td>besides elegant grand palace wat pra kaew emer...</td>\n",
       "      <td>[[-0.028509778901934624, 0.3325634002685547, 0...</td>\n",
       "      <td>positive</td>\n",
       "    </tr>\n",
       "    <tr>\n",
       "      <th>1</th>\n",
       "      <td>2209612</td>\n",
       "      <td>This is one of the last big king temples of Ba...</td>\n",
       "      <td>4</td>\n",
       "      <td>one last big king temple bangkok one lot europ...</td>\n",
       "      <td>[[-0.003996930085122585, 0.014730370603501797,...</td>\n",
       "      <td>positive</td>\n",
       "    </tr>\n",
       "    <tr>\n",
       "      <th>2</th>\n",
       "      <td>2209612</td>\n",
       "      <td>It is beautiful, clean and free to enter. Both...</td>\n",
       "      <td>4</td>\n",
       "      <td>beautiful clean free enter exterior interior s...</td>\n",
       "      <td>[[-0.028509778901934624, 0.3325634002685547, 0...</td>\n",
       "      <td>positive</td>\n",
       "    </tr>\n",
       "    <tr>\n",
       "      <th>3</th>\n",
       "      <td>2209612</td>\n",
       "      <td>Wat Ratchabophit is a Buddhist temple located ...</td>\n",
       "      <td>5</td>\n",
       "      <td>wat ratchabophit buddhist temple located fuean...</td>\n",
       "      <td>[[-0.0015841611893847585, 0.034438904374837875...</td>\n",
       "      <td>positive</td>\n",
       "    </tr>\n",
       "    <tr>\n",
       "      <th>4</th>\n",
       "      <td>2209612</td>\n",
       "      <td>Wat Ratchabophit is a historic royal temple bu...</td>\n",
       "      <td>5</td>\n",
       "      <td>wat ratchabophit historic royal temple built k...</td>\n",
       "      <td>[[-0.0015841611893847585, 0.034438904374837875...</td>\n",
       "      <td>positive</td>\n",
       "    </tr>\n",
       "    <tr>\n",
       "      <th>...</th>\n",
       "      <td>...</td>\n",
       "      <td>...</td>\n",
       "      <td>...</td>\n",
       "      <td>...</td>\n",
       "      <td>...</td>\n",
       "      <td>...</td>\n",
       "    </tr>\n",
       "    <tr>\n",
       "      <th>5904</th>\n",
       "      <td>1831068</td>\n",
       "      <td>Is quite far from Korat Town or main highway. ...</td>\n",
       "      <td>3</td>\n",
       "      <td>quite far korat town main highway beautiful bu...</td>\n",
       "      <td>[[0.0, 0.0, 0.0, 0.0, 0.0, 0.0, 0.0, 0.0, 0.0,...</td>\n",
       "      <td>neutral</td>\n",
       "    </tr>\n",
       "    <tr>\n",
       "      <th>5905</th>\n",
       "      <td>1831068</td>\n",
       "      <td>Prasat Pueai Noi is claimed to be the biggest ...</td>\n",
       "      <td>3</td>\n",
       "      <td>prasat pueai noi claimed biggest khmer sanctua...</td>\n",
       "      <td>[[-0.004209618084132671, 0.07795886695384979, ...</td>\n",
       "      <td>neutral</td>\n",
       "    </tr>\n",
       "    <tr>\n",
       "      <th>5906</th>\n",
       "      <td>1831068</td>\n",
       "      <td>I think this place is claimed to be the oldest...</td>\n",
       "      <td>4</td>\n",
       "      <td>think place claimed oldest khmerstyle ruin upp...</td>\n",
       "      <td>[[0.0, 0.0, 0.0, 0.0, 0.0, 0.0, 0.0, 0.0, 0.0,...</td>\n",
       "      <td>positive</td>\n",
       "    </tr>\n",
       "    <tr>\n",
       "      <th>5907</th>\n",
       "      <td>1831068</td>\n",
       "      <td>The compound comprises three brick buildings o...</td>\n",
       "      <td>4</td>\n",
       "      <td>compound comprises three brick building lateri...</td>\n",
       "      <td>[[-0.020202770829200745, 0.1382008045911789, 0...</td>\n",
       "      <td>positive</td>\n",
       "    </tr>\n",
       "    <tr>\n",
       "      <th>5908</th>\n",
       "      <td>1831068</td>\n",
       "      <td>Fully recommend this to the genuine history bu...</td>\n",
       "      <td>4</td>\n",
       "      <td>fully recommend genuine history buff tourist h...</td>\n",
       "      <td>[[-0.004105282481759787, 0.03240010887384415, ...</td>\n",
       "      <td>positive</td>\n",
       "    </tr>\n",
       "  </tbody>\n",
       "</table>\n",
       "<p>5909 rows × 6 columns</p>\n",
       "</div>"
      ],
      "text/plain": [
       "      location_id                                             review  rating  \\\n",
       "0         2209612  Besides elegant grand palace and wat pra kaew ...       5   \n",
       "1         2209612  This is one of the last big king temples of Ba...       4   \n",
       "2         2209612  It is beautiful, clean and free to enter. Both...       4   \n",
       "3         2209612  Wat Ratchabophit is a Buddhist temple located ...       5   \n",
       "4         2209612  Wat Ratchabophit is a historic royal temple bu...       5   \n",
       "...           ...                                                ...     ...   \n",
       "5904      1831068  Is quite far from Korat Town or main highway. ...       3   \n",
       "5905      1831068  Prasat Pueai Noi is claimed to be the biggest ...       3   \n",
       "5906      1831068  I think this place is claimed to be the oldest...       4   \n",
       "5907      1831068  The compound comprises three brick buildings o...       4   \n",
       "5908      1831068  Fully recommend this to the genuine history bu...       4   \n",
       "\n",
       "                                         cleaned_review  \\\n",
       "0     besides elegant grand palace wat pra kaew emer...   \n",
       "1     one last big king temple bangkok one lot europ...   \n",
       "2     beautiful clean free enter exterior interior s...   \n",
       "3     wat ratchabophit buddhist temple located fuean...   \n",
       "4     wat ratchabophit historic royal temple built k...   \n",
       "...                                                 ...   \n",
       "5904  quite far korat town main highway beautiful bu...   \n",
       "5905  prasat pueai noi claimed biggest khmer sanctua...   \n",
       "5906  think place claimed oldest khmerstyle ruin upp...   \n",
       "5907  compound comprises three brick building lateri...   \n",
       "5908  fully recommend genuine history buff tourist h...   \n",
       "\n",
       "                                              embedding sentiment  \n",
       "0     [[-0.028509778901934624, 0.3325634002685547, 0...  positive  \n",
       "1     [[-0.003996930085122585, 0.014730370603501797,...  positive  \n",
       "2     [[-0.028509778901934624, 0.3325634002685547, 0...  positive  \n",
       "3     [[-0.0015841611893847585, 0.034438904374837875...  positive  \n",
       "4     [[-0.0015841611893847585, 0.034438904374837875...  positive  \n",
       "...                                                 ...       ...  \n",
       "5904  [[0.0, 0.0, 0.0, 0.0, 0.0, 0.0, 0.0, 0.0, 0.0,...   neutral  \n",
       "5905  [[-0.004209618084132671, 0.07795886695384979, ...   neutral  \n",
       "5906  [[0.0, 0.0, 0.0, 0.0, 0.0, 0.0, 0.0, 0.0, 0.0,...  positive  \n",
       "5907  [[-0.020202770829200745, 0.1382008045911789, 0...  positive  \n",
       "5908  [[-0.004105282481759787, 0.03240010887384415, ...  positive  \n",
       "\n",
       "[5909 rows x 6 columns]"
      ]
     },
     "execution_count": 98,
     "metadata": {},
     "output_type": "execute_result"
    }
   ],
   "source": [
    "review_df.to_csv(\"./review_df.csv\")\n",
    "review_df"
   ]
  },
  {
   "cell_type": "code",
   "execution_count": 76,
   "metadata": {},
   "outputs": [],
   "source": [
    "# Parameters\n",
    "embedding_dim = 300  # Assuming Word2Vec has 300 dimensions\n",
    "gru_units = 128\n",
    "dropout_rate = 0.5\n",
    "num_classes = 1  # Binary classification\n",
    "max_sequence_length = 100  # Maximum length of input sequences\n",
    "ngram_range = (1, 2)  # Unigrams and bigrams\n",
    "max_features = 20000  \n",
    "\n",
    "# Create the embedding matrix from the Word2Vec model\n",
    "word_index = {word: i for i, word in enumerate(word2vec_model.wv.index_to_key)}\n",
    "embedding_matrix = np.zeros((len(word_index) + 1, embedding_dim))"
   ]
  },
  {
   "cell_type": "code",
   "execution_count": 77,
   "metadata": {},
   "outputs": [
    {
     "name": "stderr",
     "output_type": "stream",
     "text": [
      "/var/folders/fk/449tdf_12hzd2r7ps4659q0m0000gn/T/ipykernel_14225/1367629667.py:9: SettingWithCopyWarning: \n",
      "A value is trying to be set on a copy of a slice from a DataFrame.\n",
      "Try using .loc[row_indexer,col_indexer] = value instead\n",
      "\n",
      "See the caveats in the documentation: https://pandas.pydata.org/pandas-docs/stable/user_guide/indexing.html#returning-a-view-versus-a-copy\n",
      "  review_df['embedding'] = review_df['cleaned_review'].apply(lambda x: text_to_word2vec(x, word2vec_model))\n"
     ]
    }
   ],
   "source": [
    "def text_to_word2vec(tokens, model, max_length=300):\n",
    "    vector = np.zeros((max_length, 300))\n",
    "    for i, word in enumerate(tokens):\n",
    "        if i < max_length:\n",
    "            if word in model.wv:\n",
    "                vector[i] = model.wv[word]\n",
    "    return vector\n",
    "\n",
    "review_df['embedding'] = review_df['cleaned_review'].apply(lambda x: text_to_word2vec(x, word2vec_model))\n"
   ]
  },
  {
   "cell_type": "code",
   "execution_count": 78,
   "metadata": {},
   "outputs": [
    {
     "name": "stderr",
     "output_type": "stream",
     "text": [
      "/var/folders/fk/449tdf_12hzd2r7ps4659q0m0000gn/T/ipykernel_14225/1027385966.py:9: SettingWithCopyWarning: \n",
      "A value is trying to be set on a copy of a slice from a DataFrame.\n",
      "Try using .loc[row_indexer,col_indexer] = value instead\n",
      "\n",
      "See the caveats in the documentation: https://pandas.pydata.org/pandas-docs/stable/user_guide/indexing.html#returning-a-view-versus-a-copy\n",
      "  review_df['sentiment'] = review_df['rating'].apply(map_rating_to_sentiment)\n"
     ]
    }
   ],
   "source": [
    "def map_rating_to_sentiment(rating):\n",
    "    if rating in [1, 2]:\n",
    "        return 'negative'\n",
    "    elif rating == 3:\n",
    "        return 'neutral'\n",
    "    else:  # 4 or 5\n",
    "        return 'positive'\n",
    "\n",
    "review_df['sentiment'] = review_df['rating'].apply(map_rating_to_sentiment)"
   ]
  },
  {
   "cell_type": "code",
   "execution_count": 79,
   "metadata": {},
   "outputs": [],
   "source": [
    "tokenizer = Tokenizer(num_words=max_features)\n",
    "tokenizer.fit_on_texts(review_df['cleaned_review'])\n",
    "\n",
    "X = tokenizer.texts_to_sequences(review_df['cleaned_review'])\n",
    "X = pad_sequences(X, maxlen=max_sequence_length)\n",
    "\n",
    "# แปลงคอลัมน์ 'sentiment' เป็นข้อมูลตัวเลข\n",
    "label_mapping = {'negative': 0, 'neutral': 1, 'positive': 2}\n",
    "y = review_df['sentiment'].map(label_mapping)"
   ]
  },
  {
   "cell_type": "code",
   "execution_count": 80,
   "metadata": {},
   "outputs": [],
   "source": [
    "X_train, X_test, y_train, y_test = train_test_split(X, y, test_size=0.2, random_state=42)\n",
    "\n",
    "# Further split the training+validation set into training and validation sets\n",
    "# X_train, X_val, y_train, y_val = train_test_split(X_train_val, y_train_val, test_size=0.25, random_state=42)\n"
   ]
  },
  {
   "cell_type": "code",
   "execution_count": 81,
   "metadata": {},
   "outputs": [
    {
     "name": "stdout",
     "output_type": "stream",
     "text": [
      "X_train shape: (4727, 100)\n",
      "y_train shape: (4727,)\n",
      "X_test shape: (1182, 100)\n",
      "y_test shape: (1182,)\n"
     ]
    }
   ],
   "source": [
    "# Check the shapes of the resulting arrays\n",
    "print(f\"X_train shape: {X_train.shape}\")\n",
    "print(f\"y_train shape: {y_train.shape}\")\n",
    "print(f\"X_test shape: {X_test.shape}\")\n",
    "print(f\"y_test shape: {y_test.shape}\")\n"
   ]
  },
  {
   "cell_type": "code",
   "execution_count": 82,
   "metadata": {},
   "outputs": [
    {
     "name": "stderr",
     "output_type": "stream",
     "text": [
      "/Users/ittichaiboonyarakthunya/Library/Caches/pypoetry/virtualenvs/is-project-thailand-tourism-recommendation-qwL-LsgH-py3.12/lib/python3.12/site-packages/keras/src/layers/core/embedding.py:90: UserWarning: Argument `input_length` is deprecated. Just remove it.\n",
      "  warnings.warn(\n"
     ]
    }
   ],
   "source": [
    "from sklearn.model_selection import train_test_split\n",
    "from tensorflow.keras.models import Sequential\n",
    "from tensorflow.keras.layers import Embedding, GRU, Dense, Dropout\n",
    "from tensorflow.keras.preprocessing.sequence import pad_sequences\n",
    "from tensorflow.keras.preprocessing.text import Tokenizer\n",
    "\n",
    "# Step 6: Build the GRU Model\n",
    "gru_units = 128\n",
    "dropout_rate = 0.5\n",
    "input_shape = X_train.shape[1:] \n",
    "\n",
    "model = Sequential()\n",
    "model.add(Embedding(input_dim=len(word_index) + 1,\n",
    "                    output_dim=embedding_dim,\n",
    "                    weights=[embedding_matrix],\n",
    "                    input_length=max_sequence_length,\n",
    "                    trainable=False))\n",
    "model.add(GRU(units=gru_units, return_sequences=True))\n",
    "model.add(Dropout(dropout_rate))\n",
    "model.add(GRU(units=gru_units))\n",
    "model.add(Dropout(dropout_rate))\n",
    "model.add(Dense(units=64, activation='relu'))\n",
    "model.add(Dense(units=3, activation='softmax'))   # 3 classes: negative, neutral, positive\n",
    "\n"
   ]
  },
  {
   "cell_type": "code",
   "execution_count": null,
   "metadata": {},
   "outputs": [
    {
     "ename": "AttributeError",
     "evalue": "'KeyedVectors' object has no attribute 'get'",
     "output_type": "error",
     "traceback": [
      "\u001b[0;31m---------------------------------------------------------------------------\u001b[0m\n",
      "\u001b[0;31mAttributeError\u001b[0m                            Traceback (most recent call last)\n",
      "Cell \u001b[0;32mIn[61], line 6\u001b[0m\n",
      "\u001b[1;32m      4\u001b[0m \u001b[38;5;28;01mfor\u001b[39;00m word, i \u001b[38;5;129;01min\u001b[39;00m word_index\u001b[38;5;241m.\u001b[39mitems():\n",
      "\u001b[1;32m      5\u001b[0m     \u001b[38;5;28;01mif\u001b[39;00m i \u001b[38;5;241m<\u001b[39m max_features:\n",
      "\u001b[0;32m----> 6\u001b[0m         embedding_vector \u001b[38;5;241m=\u001b[39m \u001b[43mword2vec_model\u001b[49m\u001b[38;5;241;43m.\u001b[39;49m\u001b[43mwv\u001b[49m\u001b[38;5;241;43m.\u001b[39;49m\u001b[43mget\u001b[49m(word)\n",
      "\u001b[1;32m      7\u001b[0m         \u001b[38;5;28;01mif\u001b[39;00m embedding_vector \u001b[38;5;129;01mis\u001b[39;00m \u001b[38;5;129;01mnot\u001b[39;00m \u001b[38;5;28;01mNone\u001b[39;00m:\n",
      "\u001b[1;32m      8\u001b[0m             embedding_matrix[i] \u001b[38;5;241m=\u001b[39m embedding_vector\n",
      "\n",
      "\u001b[0;31mAttributeError\u001b[0m: 'KeyedVectors' object has no attribute 'get'"
     ]
    }
   ],
   "source": [
    "word_index = tokenizer.word_index\n",
    "embedding_matrix = np.zeros((len(word_index) + 1, embedding_dim))\n",
    "\n",
    "for word, i in word_index.items():\n",
    "    if i < max_features:\n",
    "        embedding_vector = word2vec_model.wv.get(word)\n",
    "        if embedding_vector is not None:\n",
    "            embedding_matrix[i] = embedding_vector"
   ]
  },
  {
   "cell_type": "code",
   "execution_count": 83,
   "metadata": {},
   "outputs": [],
   "source": [
    "model.compile(optimizer='adam', loss='sparse_categorical_crossentropy', metrics=['accuracy'])\n"
   ]
  },
  {
   "cell_type": "code",
   "execution_count": 51,
   "metadata": {},
   "outputs": [
    {
     "name": "stdout",
     "output_type": "stream",
     "text": [
      "<class 'pandas.core.frame.DataFrame'>\n",
      "RangeIndex: 5909 entries, 0 to 5908\n",
      "Data columns (total 6 columns):\n",
      " #   Column          Non-Null Count  Dtype \n",
      "---  ------          --------------  ----- \n",
      " 0   location_id     5909 non-null   int64 \n",
      " 1   review          5909 non-null   object\n",
      " 2   rating          5909 non-null   int64 \n",
      " 3   cleaned_review  5909 non-null   object\n",
      " 4   embedding       5909 non-null   object\n",
      " 5   sentiment       5909 non-null   object\n",
      "dtypes: int64(2), object(4)\n",
      "memory usage: 277.1+ KB\n"
     ]
    }
   ],
   "source": [
    "review_df.info()"
   ]
  },
  {
   "cell_type": "code",
   "execution_count": 84,
   "metadata": {},
   "outputs": [
    {
     "name": "stdout",
     "output_type": "stream",
     "text": [
      "Epoch 1/10\n",
      "\u001b[1m74/74\u001b[0m \u001b[32m━━━━━━━━━━━━━━━━━━━━\u001b[0m\u001b[37m\u001b[0m \u001b[1m10s\u001b[0m 113ms/step - accuracy: 0.7442 - loss: 1.0816 - val_accuracy: 0.7902 - val_loss: 1.0340\n",
      "Epoch 2/10\n",
      "\u001b[1m74/74\u001b[0m \u001b[32m━━━━━━━━━━━━━━━━━━━━\u001b[0m\u001b[37m\u001b[0m \u001b[1m8s\u001b[0m 110ms/step - accuracy: 0.7966 - loss: 1.0185 - val_accuracy: 0.7902 - val_loss: 0.9775\n",
      "Epoch 3/10\n",
      "\u001b[1m74/74\u001b[0m \u001b[32m━━━━━━━━━━━━━━━━━━━━\u001b[0m\u001b[37m\u001b[0m \u001b[1m8s\u001b[0m 111ms/step - accuracy: 0.7859 - loss: 0.9656 - val_accuracy: 0.7902 - val_loss: 0.9271\n",
      "Epoch 4/10\n",
      "\u001b[1m74/74\u001b[0m \u001b[32m━━━━━━━━━━━━━━━━━━━━\u001b[0m\u001b[37m\u001b[0m \u001b[1m8s\u001b[0m 112ms/step - accuracy: 0.7859 - loss: 0.9177 - val_accuracy: 0.7902 - val_loss: 0.8835\n",
      "Epoch 5/10\n",
      "\u001b[1m74/74\u001b[0m \u001b[32m━━━━━━━━━━━━━━━━━━━━\u001b[0m\u001b[37m\u001b[0m \u001b[1m9s\u001b[0m 117ms/step - accuracy: 0.8014 - loss: 0.8670 - val_accuracy: 0.7902 - val_loss: 0.8454\n",
      "Epoch 6/10\n",
      "\u001b[1m74/74\u001b[0m \u001b[32m━━━━━━━━━━━━━━━━━━━━\u001b[0m\u001b[37m\u001b[0m \u001b[1m8s\u001b[0m 112ms/step - accuracy: 0.7943 - loss: 0.8343 - val_accuracy: 0.7902 - val_loss: 0.8132\n",
      "Epoch 7/10\n",
      "\u001b[1m74/74\u001b[0m \u001b[32m━━━━━━━━━━━━━━━━━━━━\u001b[0m\u001b[37m\u001b[0m \u001b[1m9s\u001b[0m 118ms/step - accuracy: 0.7904 - loss: 0.8060 - val_accuracy: 0.7902 - val_loss: 0.7857\n",
      "Epoch 8/10\n",
      "\u001b[1m74/74\u001b[0m \u001b[32m━━━━━━━━━━━━━━━━━━━━\u001b[0m\u001b[37m\u001b[0m \u001b[1m10s\u001b[0m 135ms/step - accuracy: 0.7994 - loss: 0.7712 - val_accuracy: 0.7902 - val_loss: 0.7623\n",
      "Epoch 9/10\n",
      "\u001b[1m74/74\u001b[0m \u001b[32m━━━━━━━━━━━━━━━━━━━━\u001b[0m\u001b[37m\u001b[0m \u001b[1m12s\u001b[0m 156ms/step - accuracy: 0.7955 - loss: 0.7519 - val_accuracy: 0.7902 - val_loss: 0.7428\n",
      "Epoch 10/10\n",
      "\u001b[1m74/74\u001b[0m \u001b[32m━━━━━━━━━━━━━━━━━━━━\u001b[0m\u001b[37m\u001b[0m \u001b[1m9s\u001b[0m 128ms/step - accuracy: 0.7940 - loss: 0.7346 - val_accuracy: 0.7902 - val_loss: 0.7265\n"
     ]
    }
   ],
   "source": [
    "# Step 8: Train the Model\n",
    "history = model.fit(X_train, y_train,\n",
    "                    epochs=10,\n",
    "                    batch_size=64,\n",
    "                    validation_data=(X_test, y_test))\n"
   ]
  },
  {
   "cell_type": "code",
   "execution_count": 85,
   "metadata": {},
   "outputs": [
    {
     "name": "stdout",
     "output_type": "stream",
     "text": [
      "\u001b[1m37/37\u001b[0m \u001b[32m━━━━━━━━━━━━━━━━━━━━\u001b[0m\u001b[37m\u001b[0m \u001b[1m1s\u001b[0m 29ms/step - accuracy: 0.7888 - loss: 0.7281\n",
      "Test Loss: 0.7265\n",
      "Test Accuracy: 0.7902\n",
      "\u001b[1m37/37\u001b[0m \u001b[32m━━━━━━━━━━━━━━━━━━━━\u001b[0m\u001b[37m\u001b[0m \u001b[1m1s\u001b[0m 25ms/step\n",
      "Predicted classes: [2 2 2 2 2 2 2 2 2 2]\n",
      "True classes: 3489    0\n",
      "4909    2\n",
      "1425    2\n",
      "4743    1\n",
      "439     2\n",
      "5490    2\n",
      "1319    2\n",
      "1330    2\n",
      "4091    2\n",
      "296     2\n",
      "Name: sentiment, dtype: int64\n"
     ]
    }
   ],
   "source": [
    "# 1. Evaluate the Model\n",
    "loss, accuracy = model.evaluate(X_test, y_test)\n",
    "print(f'Test Loss: {loss:.4f}')\n",
    "print(f'Test Accuracy: {accuracy:.4f}')\n",
    "\n",
    "# 2. Make Predictions\n",
    "y_pred_prob = model.predict(X_test)\n",
    "\n",
    "# If your output layer is using 'softmax', y_pred_prob will be probabilities for each class.\n",
    "# To get the predicted class labels, you can use np.argmax:\n",
    "y_pred_class = np.argmax(y_pred_prob, axis=1)\n",
    "\n",
    "# 3. Compare the predicted labels with the true labels\n",
    "print(f'Predicted classes: {y_pred_class[:10]}')  # Display the first 10 predictions\n",
    "print(f'True classes: {y_test[:10]}')  "
   ]
  },
  {
   "cell_type": "code",
   "execution_count": 96,
   "metadata": {},
   "outputs": [
    {
     "data": {
      "text/plain": [
       "array([[    0,     0,     0, ...,    51,   706,     4],\n",
       "       [    0,     0,     0, ..., 14692,  5535,    69],\n",
       "       [    0,     0,     0, ..., 10124,  5800,   610],\n",
       "       ...,\n",
       "       [    0,     0,     0, ...,  1080,  5570,   633],\n",
       "       [    0,     0,     0, ...,   476,   101,   173],\n",
       "       [    0,     0,     0, ...,  1387,   283,   344]], dtype=int32)"
      ]
     },
     "execution_count": 96,
     "metadata": {},
     "output_type": "execute_result"
    }
   ],
   "source": [
    "X_test"
   ]
  },
  {
   "cell_type": "code",
   "execution_count": 91,
   "metadata": {},
   "outputs": [
    {
     "data": {
      "text/plain": [
       "array([[0.18715638, 0.19472776, 0.6181158 ],\n",
       "       [0.18715638, 0.19472776, 0.6181158 ],\n",
       "       [0.18715638, 0.19472776, 0.6181158 ],\n",
       "       ...,\n",
       "       [0.18715638, 0.19472776, 0.6181158 ],\n",
       "       [0.1871564 , 0.19472778, 0.61811584],\n",
       "       [0.1871564 , 0.19472778, 0.61811584]], dtype=float32)"
      ]
     },
     "execution_count": 91,
     "metadata": {},
     "output_type": "execute_result"
    }
   ],
   "source": [
    "y_pred_prob"
   ]
  },
  {
   "cell_type": "code",
   "execution_count": 95,
   "metadata": {},
   "outputs": [
    {
     "data": {
      "text/plain": [
       "3489    0\n",
       "4909    2\n",
       "1425    2\n",
       "4743    1\n",
       "439     2\n",
       "       ..\n",
       "5333    2\n",
       "4310    2\n",
       "653     2\n",
       "429     1\n",
       "1773    2\n",
       "Name: sentiment, Length: 1182, dtype: int64"
      ]
     },
     "execution_count": 95,
     "metadata": {},
     "output_type": "execute_result"
    }
   ],
   "source": [
    "y_test"
   ]
  },
  {
   "cell_type": "code",
   "execution_count": null,
   "metadata": {},
   "outputs": [],
   "source": [
    "review_df['sentiment'] = review_df['rating'].apply(map_rating_to_sentiment)"
   ]
  },
  {
   "cell_type": "code",
   "execution_count": 89,
   "metadata": {},
   "outputs": [
    {
     "ename": "AttributeError",
     "evalue": "'numpy.ndarray' object has no attribute 'index'",
     "output_type": "error",
     "traceback": [
      "\u001b[0;31m---------------------------------------------------------------------------\u001b[0m",
      "\u001b[0;31mAttributeError\u001b[0m                            Traceback (most recent call last)",
      "Cell \u001b[0;32mIn[89], line 3\u001b[0m\n\u001b[1;32m      1\u001b[0m \u001b[38;5;66;03m# Creating a new DataFrame for the test set\u001b[39;00m\n\u001b[1;32m      2\u001b[0m test_df \u001b[38;5;241m=\u001b[39m pd\u001b[38;5;241m.\u001b[39mDataFrame({\n\u001b[0;32m----> 3\u001b[0m     \u001b[38;5;124m'\u001b[39m\u001b[38;5;124mreview_text\u001b[39m\u001b[38;5;124m'\u001b[39m: review_df\u001b[38;5;241m.\u001b[39mloc[\u001b[43mX_test\u001b[49m\u001b[38;5;241;43m.\u001b[39;49m\u001b[43mindex\u001b[49m, \u001b[38;5;124m'\u001b[39m\u001b[38;5;124mreview\u001b[39m\u001b[38;5;124m'\u001b[39m],  \u001b[38;5;66;03m# Assuming X_test is a subset with a specific index\u001b[39;00m\n\u001b[1;32m      4\u001b[0m     \u001b[38;5;124m'\u001b[39m\u001b[38;5;124mactual_sentiment\u001b[39m\u001b[38;5;124m'\u001b[39m: y_test,  \u001b[38;5;66;03m# The actual sentiment labels\u001b[39;00m\n\u001b[1;32m      5\u001b[0m     \u001b[38;5;124m'\u001b[39m\u001b[38;5;124mpredicted_sentiment\u001b[39m\u001b[38;5;124m'\u001b[39m: y_pred_class  \u001b[38;5;66;03m# The predicted sentiment labels\u001b[39;00m\n\u001b[1;32m      6\u001b[0m })\n\u001b[1;32m      8\u001b[0m \u001b[38;5;66;03m# Step 3: (Optional) Map integer labels to their sentiment names\u001b[39;00m\n\u001b[1;32m      9\u001b[0m label_mapping \u001b[38;5;241m=\u001b[39m {\u001b[38;5;241m0\u001b[39m: \u001b[38;5;124m'\u001b[39m\u001b[38;5;124mnegative\u001b[39m\u001b[38;5;124m'\u001b[39m, \u001b[38;5;241m1\u001b[39m: \u001b[38;5;124m'\u001b[39m\u001b[38;5;124mneutral\u001b[39m\u001b[38;5;124m'\u001b[39m, \u001b[38;5;241m2\u001b[39m: \u001b[38;5;124m'\u001b[39m\u001b[38;5;124mpositive\u001b[39m\u001b[38;5;124m'\u001b[39m}\n",
      "\u001b[0;31mAttributeError\u001b[0m: 'numpy.ndarray' object has no attribute 'index'"
     ]
    }
   ],
   "source": [
    "# Creating a new DataFrame for the test set\n",
    "test_df = pd.DataFrame({\n",
    "    'review_text': review_df.loc[X_test.index, 'review'],  # Assuming X_test is a subset with a specific index\n",
    "    'actual_sentiment': y_test,  # The actual sentiment labels\n",
    "    'predicted_sentiment': y_pred_class  # The predicted sentiment labels\n",
    "})\n",
    "\n",
    "# Step 3: (Optional) Map integer labels to their sentiment names\n",
    "label_mapping = {0: 'negative', 1: 'neutral', 2: 'positive'}\n",
    "test_df['actual_sentiment'] = test_df['actual_sentiment'].map(label_mapping)\n",
    "test_df['predicted_sentiment'] = test_df['predicted_sentiment'].map(label_mapping)\n",
    "\n",
    "# Display the first few rows of the resulting DataFrame\n",
    "print(test_df.head())\n"
   ]
  },
  {
   "cell_type": "code",
   "execution_count": 86,
   "metadata": {},
   "outputs": [
    {
     "data": {
      "image/png": "[encoded data removed]",
      "text/plain": [
       "<Figure size 640x480 with 2 Axes>"
      ]
     },
     "metadata": {},
     "output_type": "display_data"
    }
   ],
   "source": [
    "from sklearn.metrics import confusion_matrix\n",
    "import seaborn as sns\n",
    "import matplotlib.pyplot as plt\n",
    "\n",
    "cm = confusion_matrix(y_test, y_pred_class)\n",
    "sns.heatmap(cm, annot=True, fmt='d', cmap='Blues')\n",
    "plt.xlabel('Predicted')\n",
    "plt.ylabel('True')\n",
    "plt.show()"
   ]
  },
  {
   "cell_type": "code",
   "execution_count": 87,
   "metadata": {},
   "outputs": [
    {
     "name": "stdout",
     "output_type": "stream",
     "text": [
      "              precision    recall  f1-score   support\n",
      "\n",
      "    negative       0.00      0.00      0.00        91\n",
      "     neutral       0.00      0.00      0.00       157\n",
      "    positive       0.79      1.00      0.88       934\n",
      "\n",
      "    accuracy                           0.79      1182\n",
      "   macro avg       0.26      0.33      0.29      1182\n",
      "weighted avg       0.62      0.79      0.70      1182\n",
      "\n"
     ]
    },
    {
     "name": "stderr",
     "output_type": "stream",
     "text": [
      "/Users/ittichaiboonyarakthunya/Library/Caches/pypoetry/virtualenvs/is-project-thailand-tourism-recommendation-qwL-LsgH-py3.12/lib/python3.12/site-packages/sklearn/metrics/_classification.py:1531: UndefinedMetricWarning: Precision is ill-defined and being set to 0.0 in labels with no predicted samples. Use `zero_division` parameter to control this behavior.\n",
      "  _warn_prf(average, modifier, f\"{metric.capitalize()} is\", len(result))\n",
      "/Users/ittichaiboonyarakthunya/Library/Caches/pypoetry/virtualenvs/is-project-thailand-tourism-recommendation-qwL-LsgH-py3.12/lib/python3.12/site-packages/sklearn/metrics/_classification.py:1531: UndefinedMetricWarning: Precision is ill-defined and being set to 0.0 in labels with no predicted samples. Use `zero_division` parameter to control this behavior.\n",
      "  _warn_prf(average, modifier, f\"{metric.capitalize()} is\", len(result))\n",
      "/Users/ittichaiboonyarakthunya/Library/Caches/pypoetry/virtualenvs/is-project-thailand-tourism-recommendation-qwL-LsgH-py3.12/lib/python3.12/site-packages/sklearn/metrics/_classification.py:1531: UndefinedMetricWarning: Precision is ill-defined and being set to 0.0 in labels with no predicted samples. Use `zero_division` parameter to control this behavior.\n",
      "  _warn_prf(average, modifier, f\"{metric.capitalize()} is\", len(result))\n"
     ]
    }
   ],
   "source": [
    "from sklearn.metrics import classification_report\n",
    "\n",
    "print(classification_report(y_test, y_pred_class, target_names=['negative', 'neutral', 'positive']))\n"
   ]
  }
 ],
 "metadata": {
  "kernelspec": {
   "display_name": "is-project-thailand-tourism-recommendation-qwL-LsgH-py3.12",
   "language": "python",
   "name": "python3"
  },
  "language_info": {
   "codemirror_mode": {
    "name": "ipython",
    "version": 3
   },
   "file_extension": ".py",
   "mimetype": "text/x-python",
   "name": "python",
   "nbconvert_exporter": "python",
   "pygments_lexer": "ipython3",
   "version": "3.12.5"
  }
 },
 "nbformat": 4,
 "nbformat_minor": 2
}
