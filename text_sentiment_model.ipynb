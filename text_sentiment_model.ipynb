{
 "cells": [
  {
   "cell_type": "code",
   "execution_count": 5,
   "id": "initial_id",
   "metadata": {
    "ExecuteTime": {
     "end_time": "2024-08-13T15:38:07.903278Z",
     "start_time": "2024-08-13T15:38:04.087640Z"
    },
    "collapsed": true
   },
   "outputs": [],
   "source": [
    "import pandas as pd\n",
    "import numpy as np\n",
    "from pythainlp import word_tokenize\n",
    "from sklearn.model_selection import train_test_split\n",
    "from sklearn.feature_extraction.text import TfidfVectorizer\n",
    "from sklearn.linear_model import LogisticRegression\n",
    "from sklearn.pipeline import Pipeline\n",
    "from sklearn.metrics import classification_report, confusion_matrix\n",
    "import joblib\n",
    "import seaborn as sns\n",
    "import matplotlib.pyplot as plt\n",
    "from imblearn.over_sampling import SMOTE\n",
    "import json\n",
    "\n",
    "from pythainlp.corpus import thai_stopwords"
   ]
  },
  {
   "cell_type": "code",
   "execution_count": null,
   "id": "d10a4080",
   "metadata": {},
   "outputs": [],
   "source": [
    "with open('dataset/TripAdvisor_reviews_data.json', 'r') as file:\n",
    "    reviews_data = json.load(file)\n",
    "reviews_data"
   ]
  },
  {
   "cell_type": "code",
   "execution_count": 12,
   "id": "1512ee7c",
   "metadata": {},
   "outputs": [
    {
     "name": "stdout",
     "output_type": "stream",
     "text": [
      "Location ID: 2209612\n",
      "Review ID: 922231809\n",
      "Username: maxzerk\n",
      "Review Text: เป็นวัดที่สร้างขึ้นในรัชกาลที่ 5 \n",
      "พระบาทสมเด็จพระจุลจอมเกล้าเจ้าอยู่หัว\n",
      "มีสถาปัตยกรรมไทยผสมกับกอธิก\n",
      "มีพระประธานนามว่า พระพุทธอังคีรส\n",
      "มีสร้อยนามว่า สถิตมหาสีมาราม\n",
      "Rating: 5\n",
      "Published Date: 2023-10-21T01:18:50Z\n",
      "URL: https://www.tripadvisor.com/ShowUserReviews-g293916-d2209612-r922231809-Reviews-Wat_Ratchabophit-Bangkok.html?m=66827#review922231809\n",
      "--------------------------------------------------\n",
      "Review ID: 777982512\n",
      "Username: kant_setpakdee\n",
      "Review Text: ตั้งอยู่ด้านทิศตะวันตกของวัด มีประตูเข้าตรงทางขึ้นด้านหลังพระเจดีย์ของวัด ภายในบรรจุพระอัฐิ พระสรีรางคาร พระอังคาร และอังคารของ พระมเหสี พระราชชายา เจ้าจอมมารดา และพระราชโอรส พระราชธิดา ในพระบาทสมเด็จพระจุลจอมเกล้าเจ้าอยู่หัว รัชกาลที่ ๕ เพื่อให้ลูกได้อยู่รวมกับแม่หรืออย่างน้อยในบ้านของแม่ \n",
      "Rating: 5\n",
      "Published Date: 2020-11-27T02:16:31Z\n",
      "URL: https://www.tripadvisor.com/ShowUserReviews-g293916-d2209612-r777982512-Reviews-Wat_Ratchabophit-Bangkok.html?m=66827#review777982512\n",
      "--------------------------------------------------\n",
      "Review ID: 738367222\n",
      "Username: BestHealthiness\n",
      "Review Text: วันนี้เป็นที่พำนักของพระสังฆราชองค์ใหม่ ตอนไปกำลังปรัยปรุงอุโบสถอยู่ แต่ด้านหน้าอุโบสถจะมีรูปปั้นร.5 \n",
      "Rating: 5\n",
      "Published Date: 2020-01-10T23:21:53Z\n",
      "URL: https://www.tripadvisor.com/ShowUserReviews-g293916-d2209612-r738367222-Reviews-Wat_Ratchabophit-Bangkok.html?m=66827#review738367222\n",
      "--------------------------------------------------\n",
      "Review ID: 737450116\n",
      "Username: hotbee2099\n",
      "Review Text: วันนี้เป็นบุญของครอบครัวเราแท้ๆมีโอกาส ได้เข้าเฝ้ากราบสักการะ สมเด็จพระสังฆราช\n",
      "ปลื้มปิติ เปี่ยมสุข ด้วยพร ที่พระองค์ให้มากับพวกเรา\n",
      "ขอให้บังเกิด กับ กัลยณมิตรและครอบครัวของพวกเราทุกคนเถิด\n",
      "Rating: 5\n",
      "Published Date: 2020-01-06T22:31:39Z\n",
      "URL: https://www.tripadvisor.com/ShowUserReviews-g293916-d2209612-r737450116-Reviews-Wat_Ratchabophit-Bangkok.html?m=66827#review737450116\n",
      "--------------------------------------------------\n",
      "Review ID: 690288478\n",
      "Username: SweetyLollipop\n",
      "Review Text: พอดีมาแถว ถ.เฟื่องนครเลยได้แวะมาวัดนี้ ตอนกลางวันคนไม่เยอะเท่าไหร่ มีให้ทำบุญรับดอกไม้ธูปเทียน ชอบที่เทียนของวัดนี้ทำเชิงเทียนสวยงามกันน้ำตาเทียนหยดใส่มือ มีแจกน้ำเปล่าขวดเล็กฟรีสำหรับคนที่เดินทางมาที่วัดด้วย\n",
      "Rating: 4\n",
      "Published Date: 2019-07-17T05:44:19Z\n",
      "URL: https://www.tripadvisor.com/ShowUserReviews-g293916-d2209612-r690288478-Reviews-Wat_Ratchabophit-Bangkok.html?m=66827#review690288478\n",
      "--------------------------------------------------\n"
     ]
    }
   ],
   "source": [
    "normalize_reviews_data = pd.DataFrame()\n",
    "\n",
    "for location_id, reviews in reviews_data[0].items():\n",
    "    print(f\"Location ID: {location_id}\")\n",
    "    normalize_reviews_data.append([\"\"])\n",
    "    for review in reviews:\n",
    "        print(\"Review ID:\", review['id'])\n",
    "        print(\"Username:\", review['user']['username'])\n",
    "        print(\"Review Text:\", review['text'])\n",
    "        print(\"Rating:\", review['rating'])\n",
    "        print(\"Published Date:\", review['published_date'])\n",
    "        print(\"URL:\", review['url'])\n",
    "        print(\"-\" * 50)"
   ]
  },
  {
   "cell_type": "code",
   "execution_count": 6,
   "id": "92a7727c",
   "metadata": {},
   "outputs": [],
   "source": [
    "# Define Thai stop words\n",
    "thai_stopwords = thai_stopwords()\n",
    "\n",
    "# Function to normalize text\n",
    "def normalize_text(text):\n",
    "    tokens = word_tokenize(text, engine='newmm')\n",
    "    tokens = [token for token in tokens if token not in thai_stopwords and token.isalpha()]\n",
    "    return ' '.join(tokens)"
   ]
  }
 ],
 "metadata": {
  "kernelspec": {
   "display_name": "Python 3",
   "language": "python",
   "name": "python3"
  },
  "language_info": {
   "codemirror_mode": {
    "name": "ipython",
    "version": 3
   },
   "file_extension": ".py",
   "mimetype": "text/x-python",
   "name": "python",
   "nbconvert_exporter": "python",
   "pygments_lexer": "ipython3",
   "version": "3.11.9"
  }
 },
 "nbformat": 4,
 "nbformat_minor": 5
}
